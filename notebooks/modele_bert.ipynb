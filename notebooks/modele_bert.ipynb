{
 "cells": [
  {
   "cell_type": "markdown",
   "id": "27b06c2d-a906-4bc0-9671-d17f37ca444e",
   "metadata": {},
   "source": [
    "# 1. Importation des Bibliothèques"
   ]
  },
  {
   "cell_type": "code",
   "execution_count": 1,
   "id": "b4d6b57f-afaf-42b2-8a82-95ec5280fdb3",
   "metadata": {},
   "outputs": [],
   "source": [
    "import numpy as np\n",
    "import pandas as pd\n",
    "from transformers import BertTokenizer, BertModel\n",
    "from sklearn.model_selection import train_test_split\n",
    "import torch\n",
    "import tensorflow as tf\n",
    "from tensorflow.keras.models import Sequential\n",
    "from tensorflow.keras.layers import LSTM, Dense, Dropout, Conv1D, GlobalMaxPooling1D\n",
    "import mlflow\n",
    "import os\n"
   ]
  },
  {
   "cell_type": "markdown",
   "id": "6d7f43e4-1b2a-44dd-9f34-cdcc0e25c028",
   "metadata": {},
   "source": [
    "# 2. Chargement des Données"
   ]
  },
  {
   "cell_type": "code",
   "execution_count": 3,
   "id": "866990a8-50a0-4856-9c67-ce0f2796da95",
   "metadata": {},
   "outputs": [
    {
     "name": "stdout",
     "output_type": "stream",
     "text": [
      "target_binary\n",
      "0    800000\n",
      "1    798315\n",
      "Name: count, dtype: int64\n"
     ]
    }
   ],
   "source": [
    "# Charger les données (en supposant que vous avez déjà les colonnes nettoyées)\n",
    "data = pd.read_csv('../data/database_p7_rework.csv')\n",
    "\n",
    "# Transformation des labels : 0 reste 0 et 4 devient 1\n",
    "data['target_binary'] = data['target'].apply(lambda x: 0 if x == 0 else 1)\n",
    "\n",
    "# Vérification des transformations\n",
    "print(data['target_binary'].value_counts())\n",
    "\n",
    "# Ensuite, définissez y comme suit :\n",
    "y = data['target_binary']"
   ]
  },
  {
   "cell_type": "code",
   "execution_count": 6,
   "id": "6b0bf0dc-daf0-4063-96c5-d6116289fcd1",
   "metadata": {},
   "outputs": [],
   "source": [
    "# Vérification des colonnes nécessaires\n",
    "assert 'text_lemmatized' in data.columns, \"La colonne 'text_lemmatized' est manquante\"\n",
    "assert 'text_stemmed' in data.columns, \"La colonne 'text_stemmed' est manquante\"\n"
   ]
  },
  {
   "cell_type": "markdown",
   "id": "66521c0d-02bd-4dd7-9e21-b4ccf09838ab",
   "metadata": {},
   "source": [
    "# 3. Préparation des Données\n",
    "Tokenization avec BERT"
   ]
  },
  {
   "cell_type": "code",
   "execution_count": null,
   "id": "4714e1f5-06a4-4f3c-9acc-0bfed02f8185",
   "metadata": {},
   "outputs": [
    {
     "name": "stderr",
     "output_type": "stream",
     "text": [
      "D:\\Master_Openclassroom\\python\\Lib\\site-packages\\transformers\\tokenization_utils_base.py:1601: FutureWarning: `clean_up_tokenization_spaces` was not set. It will be set to `True` by default. This behavior will be depracted in transformers v4.45, and will be then set to `False` by default. For more details check this issue: https://github.com/huggingface/transformers/issues/31884\n",
      "  warnings.warn(\n",
      "A parameter name that contains `beta` will be renamed internally to `bias`. Please use a different name to suppress this warning.\n",
      "A parameter name that contains `gamma` will be renamed internally to `weight`. Please use a different name to suppress this warning.\n",
      "A parameter name that contains `beta` will be renamed internally to `bias`. Please use a different name to suppress this warning.\n",
      "A parameter name that contains `gamma` will be renamed internally to `weight`. Please use a different name to suppress this warning.\n",
      "A parameter name that contains `beta` will be renamed internally to `bias`. Please use a different name to suppress this warning.\n",
      "A parameter name that contains `gamma` will be renamed internally to `weight`. Please use a different name to suppress this warning.\n",
      "A parameter name that contains `beta` will be renamed internally to `bias`. Please use a different name to suppress this warning.\n",
      "A parameter name that contains `gamma` will be renamed internally to `weight`. Please use a different name to suppress this warning.\n",
      "A parameter name that contains `beta` will be renamed internally to `bias`. Please use a different name to suppress this warning.\n",
      "A parameter name that contains `gamma` will be renamed internally to `weight`. Please use a different name to suppress this warning.\n",
      "A parameter name that contains `beta` will be renamed internally to `bias`. Please use a different name to suppress this warning.\n",
      "A parameter name that contains `gamma` will be renamed internally to `weight`. Please use a different name to suppress this warning.\n",
      "A parameter name that contains `beta` will be renamed internally to `bias`. Please use a different name to suppress this warning.\n",
      "A parameter name that contains `gamma` will be renamed internally to `weight`. Please use a different name to suppress this warning.\n",
      "A parameter name that contains `beta` will be renamed internally to `bias`. Please use a different name to suppress this warning.\n",
      "A parameter name that contains `gamma` will be renamed internally to `weight`. Please use a different name to suppress this warning.\n",
      "A parameter name that contains `beta` will be renamed internally to `bias`. Please use a different name to suppress this warning.\n",
      "A parameter name that contains `gamma` will be renamed internally to `weight`. Please use a different name to suppress this warning.\n",
      "A parameter name that contains `beta` will be renamed internally to `bias`. Please use a different name to suppress this warning.\n",
      "A parameter name that contains `gamma` will be renamed internally to `weight`. Please use a different name to suppress this warning.\n",
      "A parameter name that contains `beta` will be renamed internally to `bias`. Please use a different name to suppress this warning.\n",
      "A parameter name that contains `gamma` will be renamed internally to `weight`. Please use a different name to suppress this warning.\n",
      "A parameter name that contains `beta` will be renamed internally to `bias`. Please use a different name to suppress this warning.\n",
      "A parameter name that contains `gamma` will be renamed internally to `weight`. Please use a different name to suppress this warning.\n",
      "A parameter name that contains `beta` will be renamed internally to `bias`. Please use a different name to suppress this warning.\n",
      "A parameter name that contains `gamma` will be renamed internally to `weight`. Please use a different name to suppress this warning.\n",
      "A parameter name that contains `beta` will be renamed internally to `bias`. Please use a different name to suppress this warning.\n",
      "A parameter name that contains `gamma` will be renamed internally to `weight`. Please use a different name to suppress this warning.\n",
      "A parameter name that contains `beta` will be renamed internally to `bias`. Please use a different name to suppress this warning.\n",
      "A parameter name that contains `gamma` will be renamed internally to `weight`. Please use a different name to suppress this warning.\n",
      "A parameter name that contains `beta` will be renamed internally to `bias`. Please use a different name to suppress this warning.\n",
      "A parameter name that contains `gamma` will be renamed internally to `weight`. Please use a different name to suppress this warning.\n",
      "A parameter name that contains `beta` will be renamed internally to `bias`. Please use a different name to suppress this warning.\n",
      "A parameter name that contains `gamma` will be renamed internally to `weight`. Please use a different name to suppress this warning.\n",
      "A parameter name that contains `beta` will be renamed internally to `bias`. Please use a different name to suppress this warning.\n",
      "A parameter name that contains `gamma` will be renamed internally to `weight`. Please use a different name to suppress this warning.\n",
      "A parameter name that contains `beta` will be renamed internally to `bias`. Please use a different name to suppress this warning.\n",
      "A parameter name that contains `gamma` will be renamed internally to `weight`. Please use a different name to suppress this warning.\n",
      "A parameter name that contains `beta` will be renamed internally to `bias`. Please use a different name to suppress this warning.\n",
      "A parameter name that contains `gamma` will be renamed internally to `weight`. Please use a different name to suppress this warning.\n",
      "A parameter name that contains `beta` will be renamed internally to `bias`. Please use a different name to suppress this warning.\n",
      "A parameter name that contains `gamma` will be renamed internally to `weight`. Please use a different name to suppress this warning.\n",
      "A parameter name that contains `beta` will be renamed internally to `bias`. Please use a different name to suppress this warning.\n",
      "A parameter name that contains `gamma` will be renamed internally to `weight`. Please use a different name to suppress this warning.\n",
      "A parameter name that contains `beta` will be renamed internally to `bias`. Please use a different name to suppress this warning.\n",
      "A parameter name that contains `gamma` will be renamed internally to `weight`. Please use a different name to suppress this warning.\n",
      "A parameter name that contains `beta` will be renamed internally to `bias`. Please use a different name to suppress this warning.\n",
      "A parameter name that contains `gamma` will be renamed internally to `weight`. Please use a different name to suppress this warning.\n",
      "A parameter name that contains `beta` will be renamed internally to `bias`. Please use a different name to suppress this warning.\n",
      "A parameter name that contains `gamma` will be renamed internally to `weight`. Please use a different name to suppress this warning.\n",
      "A parameter name that contains `beta` will be renamed internally to `bias`. Please use a different name to suppress this warning.\n",
      "A parameter name that contains `gamma` will be renamed internally to `weight`. Please use a different name to suppress this warning.\n"
     ]
    }
   ],
   "source": [
    "# Initialiser le tokenizer et le modèle BERT\n",
    "tokenizer = BertTokenizer.from_pretrained('bert-base-uncased')\n",
    "model = BertModel.from_pretrained('bert-base-uncased')\n",
    "\n",
    "# Fonction pour encoder un texte en utilisant BERT\n",
    "def encode_with_bert(text):\n",
    "    inputs = tokenizer(text, return_tensors='pt', padding=True, truncation=True, max_length=25)\n",
    "    outputs = model(**inputs)\n",
    "    return outputs.last_hidden_state.mean(dim=1).squeeze().detach().numpy()\n",
    "\n",
    "# Appliquer BERT sur les descriptions lemmatisées et stemmées\n",
    "bert_features_lemma = np.array([encode_with_bert(desc) for desc in data['text_lemmatized']])\n",
    "bert_features_stem = np.array([encode_with_bert(desc) for desc in data['text_stemmed']])\n"
   ]
  },
  {
   "cell_type": "code",
   "execution_count": null,
   "id": "7cb38c73-5e7f-40b8-9ebf-9db5455a631d",
   "metadata": {},
   "outputs": [],
   "source": [
    "# Séparation des données en ensembles d'entraînement et de test pour les données lemmatisées\n",
    "X_train_lemma, X_test_lemma, y_train_lemma, y_test_lemma = train_test_split(\n",
    "    bert_features_lemma, data['target_binary'], test_size=0.2, random_state=42)\n",
    "\n",
    "# Séparation des données en ensembles d'entraînement et de test pour les données stemmées\n",
    "X_train_stem, X_test_stem, y_train_stem, y_test_stem = train_test_split(\n",
    "    bert_features_stem, data['target_binary'], test_size=0.2, random_state=42)\n"
   ]
  },
  {
   "cell_type": "markdown",
   "id": "a6fb25f8-8675-4087-885d-8719cfa87b80",
   "metadata": {},
   "source": [
    "# Construction des modèles CNN et LSTM avec BERT"
   ]
  },
  {
   "cell_type": "code",
   "execution_count": null,
   "id": "14b77c4b-dad4-4ad5-803e-6f047b03ef65",
   "metadata": {},
   "outputs": [],
   "source": [
    "def create_cnn_model(input_shape):\n",
    "    model = Sequential()\n",
    "    model.add(Conv1D(128, kernel_size=3, activation='relu', input_shape=input_shape))\n",
    "    model.add(GlobalMaxPooling1D())\n",
    "    model.add(Dense(128, activation='relu'))\n",
    "    model.add(Dropout(0.2))\n",
    "    model.add(Dense(1, activation='sigmoid'))\n",
    "    model.compile(optimizer='adam', loss='binary_crossentropy', metrics=['accuracy'])\n",
    "    return model\n"
   ]
  },
  {
   "cell_type": "code",
   "execution_count": null,
   "id": "75d6ce06-4d55-4f8f-adb9-51deccc27675",
   "metadata": {},
   "outputs": [],
   "source": [
    "def create_lstm_model(input_shape):\n",
    "    model = Sequential()\n",
    "    model.add(LSTM(128, input_shape=input_shape, return_sequences=False))\n",
    "    model.add(Dense(128, activation='relu'))\n",
    "    model.add(Dropout(0.2))\n",
    "    model.add(Dense(1, activation='sigmoid'))\n",
    "    model.compile(optimizer='adam', loss='binary_crossentropy', metrics=['accuracy'])\n",
    "    return model\n"
   ]
  },
  {
   "cell_type": "markdown",
   "id": "a9913725-55b9-4ec4-a950-aa1bd2557f7f",
   "metadata": {},
   "source": [
    "# 4 Evaluation des modèles avec MLflow"
   ]
  },
  {
   "cell_type": "code",
   "execution_count": null,
   "id": "72c802d8-ef5e-4422-a8bc-ac99abfb0b94",
   "metadata": {},
   "outputs": [],
   "source": [
    "# Définir le dossier racine où vous voulez enregistrer les artefacts MLflow\n",
    "base_dir = os.path.join(\"..\", \"mlruns\")\n",
    "\n",
    "# Fonction pour configurer MLflow pour chaque modèle\n",
    "def configure_mlflow(model_name):\n",
    "    mlflow_base_dir = os.path.join(base_dir, model_name)\n",
    "    if not os.path.exists(mlflow_base_dir):\n",
    "        os.makedirs(mlflow_base_dir)\n",
    "    mlflow.set_tracking_uri(f\"file://{mlflow_base_dir}\")\n"
   ]
  },
  {
   "cell_type": "code",
   "execution_count": null,
   "id": "8985abee-567b-4e8b-a650-490ddb531362",
   "metadata": {},
   "outputs": [],
   "source": [
    "# Liste des modèles que vous allez entraîner\n",
    "model_list = [\n",
    "    (\"cnn_model_lemma_bert\", create_cnn_model((X_train_lemma.shape[1], X_train_lemma.shape[2]))),\n",
    "    (\"lstm_model_lemma_bert\", create_lstm_model((X_train_lemma.shape[1], X_train_lemma.shape[2]))),\n",
    "    (\"cnn_model_stem_bert\", create_cnn_model((X_train_stem.shape[1], X_train_stem.shape[2]))),\n",
    "    (\"lstm_model_stem_bert\", create_lstm_model((X_train_stem.shape[1], X_train_stem.shape[2]))),\n",
    "]\n",
    "\n",
    "for model_name, model in model_list:\n",
    "    configure_mlflow(model_name)\n",
    "    \n",
    "    with mlflow.start_run():\n",
    "        if \"lemma\" in model_name:\n",
    "            X_train, y_train, X_test, y_test = X_train_lemma, y_train_lemma, X_test_lemma, y_test_lemma\n",
    "        else:\n",
    "            X_train, y_train, X_test, y_test = X_train_stem, y_train_stem, X_test_stem, y_test_stem\n",
    "        \n",
    "        model.fit(X_train, y_train, batch_size=32, epochs=3, validation_split=0.2)\n",
    "        mlflow.keras.log_model(model, model_name)\n",
    "        y_pred = (model.predict(X_test) > 0.5).astype(\"int32\")\n",
    "        accuracy = accuracy_score(y_test, y_pred)\n",
    "        precision = precision_score(y_test, y_pred)\n",
    "        recall = recall_score(y_test, y_pred)\n",
    "        f1 = f1_score(y_test, y_pred)\n",
    "        mlflow.log_metric(\"accuracy\", accuracy)\n",
    "        mlflow.log_metric(\"precision\", precision)\n",
    "        mlflow.log_metric(\"recall\", recall)\n",
    "        mlflow.log_metric(\"f1_score\", f1)\n"
   ]
  },
  {
   "cell_type": "code",
   "execution_count": null,
   "id": "431fae05-6ee1-4ab8-b4d8-eb4bb2eab49b",
   "metadata": {},
   "outputs": [],
   "source": [
    "# Initialiser une liste pour stocker les résultats\n",
    "results_bert = []\n",
    "\n",
    "# Fonction pour ajouter les résultats d'un modèle à la liste\n",
    "def log_results(model_name, accuracy, precision, recall, f1):\n",
    "    results_bert.append({\n",
    "        'Model': model_name,\n",
    "        'Accuracy': accuracy,\n",
    "        'Precision': precision,\n",
    "        'Recall': recall,\n",
    "        'F1 Score': f1\n",
    "    })\n",
    "\n",
    "# Enregistrement des résultats pour chaque modèle\n",
    "log_results(\"CNN + Lemmatization + BERT\", accuracy_lemma_bert, precision_lemma_bert, recall_lemma_bert, f1_lemma_bert)\n",
    "log_results(\"LSTM + Lemmatization + BERT\", accuracy_lstm_lemma_bert, precision_lstm_lemma_bert, recall_lstm_lemma_bert, f1_lstm_lemma_bert)\n",
    "log_results(\"CNN + Stemming + BERT\", accuracy_stem_bert, precision_stem_bert, recall_stem_bert, f1_stem_bert)\n",
    "log_results(\"LSTM + Stemming + BERT\", accuracy_lstm_stem_bert, precision_lstm_stem_bert, recall_lstm_stem_bert, f1_lstm_stem_bert)\n",
    "\n",
    "# Convertir les résultats en DataFrame\n",
    "results_bert_df = pd.DataFrame(results_bert)\n",
    "\n",
    "# Afficher le tableau des résultats\n",
    "print(results_bert_df)\n",
    "\n"
   ]
  },
  {
   "cell_type": "code",
   "execution_count": null,
   "id": "ed7d778a-3670-4335-8178-d2fa41441fea",
   "metadata": {},
   "outputs": [],
   "source": []
  }
 ],
 "metadata": {
  "kernelspec": {
   "display_name": "Python 3 (ipykernel)",
   "language": "python",
   "name": "python3"
  },
  "language_info": {
   "codemirror_mode": {
    "name": "ipython",
    "version": 3
   },
   "file_extension": ".py",
   "mimetype": "text/x-python",
   "name": "python",
   "nbconvert_exporter": "python",
   "pygments_lexer": "ipython3",
   "version": "3.11.8"
  }
 },
 "nbformat": 4,
 "nbformat_minor": 5
}
