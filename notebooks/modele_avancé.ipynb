{
 "cells": [
  {
   "cell_type": "markdown",
   "id": "3864a408-216c-4169-b8d1-156187787123",
   "metadata": {},
   "source": [
    "# Introduction\n",
    "\n",
    "## Objectif du Notebook\n",
    "L'objectif de ce notebook est de développer et d'évaluer des modèles avancés d'analyse de sentiments en utilisant des architectures de réseaux de neurones convolutionnels (CNN) et de réseaux de neurones récurrents (LSTM). Ces modèles seront entraînés sur un jeu de données de tweets et utiliseront des embeddings textuels pré-entraînés tels que Word2Vec et FastText pour capturer les relations sémantiques entre les mots.\n",
    "\n",
    "## Présentation des Méthodes CNN et LSTM\n",
    "Le Convolutional Neural Network (CNN) et le Long Short-Term Memory (LSTM) sont deux types d'architectures de réseaux de neurones particulièrement adaptées au traitement des données séquentielles telles que le texte.\n",
    "\n",
    "### CNN (Convolutional Neural Network)\n",
    "Les CNN sont bien connus pour leur capacité à détecter des motifs locaux dans les données séquentielles, ce qui les rend efficaces pour capturer des n-grams de mots dans les textes. Dans ce notebook, nous utiliserons un CNN pour analyser les séquences de mots des tweets et en extraire des caractéristiques pertinentes pour la classification de sentiments.\n",
    "\n",
    "### LSTM (Long Short-Term Memory)\n",
    "Les LSTM sont un type de réseau de neurones récurrents (RNN) capable de capturer des dépendances à long terme dans des séquences de données. Cela les rend particulièrement efficaces pour comprendre le contexte complet d'une phrase ou d'un tweet, en tenant compte de l'ordre des mots et des relations temporelles.\n",
    "\n",
    "## Plan du Notebook\n",
    "Ce notebook est structuré de manière à suivre un pipeline complet de traitement des données, d'entraînement des modèles et d'évaluation des performances :\n",
    "1. **Chargement et Préparation des Données** : Nous allons commencer par charger les données, les nettoyer, les tokeniser et les préparer pour les modèles CNN et LSTM.\n",
    "2. **Préparation des Embeddings Textuels** : Nous utiliserons Word2Vec et FastText pour convertir les séquences de mots en vecteurs denses.\n",
    "3. **Construction du Modèle CNN** : Nous définirons et entraînerons un modèle CNN pour la tâche de classification de sentiments.\n",
    "4. **Construction du Modèle LSTM** : Nous définirons et entraînerons un modèle LSTM pour la même tâche.\n",
    "5. **Évaluation des Modèles** : Nous comparerons les performances des deux modèles pour déterminer lequel est le plus performant.\n",
    "6. **Exportation et Sauvegarde des Modèles** : Nous sauvegarderons le meilleur modèle pour une utilisation future.\n",
    "7. **Conclusion** : Nous résumerons les résultats et discuterons des perspectives d'amélioration.\n"
   ]
  },
  {
   "cell_type": "markdown",
   "id": "0ebd27e8-ae95-4de5-8a7b-bcf334c9a50c",
   "metadata": {},
   "source": [
    "# 1. Chargement et Préparation des Données"
   ]
  },
  {
   "cell_type": "markdown",
   "id": "7afabebb-2af2-4e07-9edb-0f4647a53152",
   "metadata": {},
   "source": [
    "## 1.1 Importation des bibliothèques nécessaires\n"
   ]
  },
  {
   "cell_type": "code",
   "execution_count": 4,
   "id": "ea7b0eea-7d9a-4f93-999e-77b2b351f479",
   "metadata": {},
   "outputs": [],
   "source": [
    "import numpy as np\n",
    "import pandas as pd\n",
    "import mlflow\n",
    "import mlflow.keras\n",
    "from sklearn.model_selection import train_test_split\n",
    "from keras.models import Sequential\n",
    "from keras.layers import Embedding, Conv1D, GlobalMaxPooling1D, Dense, Dropout\n",
    "from keras.optimizers import Adam\n",
    "from tensorflow.keras.preprocessing.text import Tokenizer\n",
    "from tensorflow.keras.preprocessing.sequence import pad_sequences\n",
    "import gensim.downloader as api\n",
    "from sklearn.metrics import classification_report, confusion_matrix\n",
    "import matplotlib.pyplot as plt\n",
    "import seaborn as sns\n"
   ]
  },
  {
   "cell_type": "markdown",
   "id": "665e4cf7-9c7b-44b5-b3ae-14d1665f63d2",
   "metadata": {},
   "source": [
    "## 1.2 Chargement des données et transformation de la cible target\n"
   ]
  },
  {
   "cell_type": "code",
   "execution_count": 6,
   "id": "5155889a-819c-4876-93fc-2b47bbb91dd6",
   "metadata": {},
   "outputs": [
    {
     "name": "stdout",
     "output_type": "stream",
     "text": [
      "Unique values in target_binary: [0 1]\n"
     ]
    }
   ],
   "source": [
    "# Charger les données\n",
    "data = pd.read_csv('../data/database_p7_rework.csv')\n",
    "\n",
    "# Transformation des labels : 0 reste 0 et 4 devient 1\n",
    "data['target_binary'] = data['target'].apply(lambda x: 0 if x == 0 else 1)\n",
    "\n",
    "# Vérification des transformations\n",
    "print(\"Unique values in target_binary:\", data['target_binary'].unique())\n",
    "\n"
   ]
  },
  {
   "cell_type": "markdown",
   "id": "ea28d151-0e30-495c-b588-c97f5422ee4e",
   "metadata": {},
   "source": [
    "## 1.3 Tokenisation"
   ]
  },
  {
   "cell_type": "code",
   "execution_count": 8,
   "id": "44e64c99-36a7-46b6-8b47-aa24d9ad5464",
   "metadata": {},
   "outputs": [],
   "source": [
    "# Fonction pour préparer les séquences\n",
    "def prepare_sequences(texts, tokenizer, maxlen=25):\n",
    "    sequences = tokenizer.texts_to_sequences(texts)\n",
    "    return pad_sequences(sequences, maxlen=maxlen)\n",
    "\n",
    "# Tokenization\n",
    "tokenizer_lemma = Tokenizer(num_words=5000)\n",
    "tokenizer_lemma.fit_on_texts(data['text_lemmatized'])\n",
    "\n",
    "tokenizer_stem = Tokenizer(num_words=5000)\n",
    "tokenizer_stem.fit_on_texts(data['text_stemmed'])\n",
    "\n",
    "# Préparation des séquences\n",
    "X_lemma = prepare_sequences(data['text_lemmatized'], tokenizer_lemma)\n",
    "X_stem = prepare_sequences(data['text_stemmed'], tokenizer_stem)\n",
    "\n",
    "# Séparation des données\n",
    "y = data['target_binary']\n",
    "\n",
    "X_train_lemma, X_test_lemma, y_train_lemma, y_test_lemma = train_test_split(X_lemma, y, test_size=0.2, random_state=42)\n",
    "X_train_stem, X_test_stem, y_train_stem, y_test_stem = train_test_split(X_stem, y, test_size=0.2, random_state=42)"
   ]
  },
  {
   "cell_type": "markdown",
   "id": "801c912b-abf8-4f13-9466-0dfcd15d1994",
   "metadata": {},
   "source": [
    "# 2 Préparation des Embeddings Textuels"
   ]
  },
  {
   "cell_type": "code",
   "execution_count": 10,
   "id": "fc112644-a6dc-4b3b-b51d-4231fa62aeab",
   "metadata": {},
   "outputs": [],
   "source": [
    "# Charger les modèles Word2Vec et FastText pré-entraînés (300 dimensions)\n",
    "w2v_model = api.load('word2vec-google-news-300')\n",
    "ft_model = api.load('fasttext-wiki-news-subwords-300')\n",
    "\n",
    "# Fonction pour créer la matrice d'embeddings\n",
    "def create_embedding_matrix(tokenizer, embedding_model, embedding_dim=300):\n",
    "    embedding_matrix = np.zeros((len(tokenizer.word_index) + 1, embedding_dim))\n",
    "    for word, i in tokenizer.word_index.items():\n",
    "        if word in embedding_model:\n",
    "            embedding_matrix[i] = embedding_model[word]\n",
    "    return embedding_matrix\n",
    "\n",
    "# Créer les matrices d'embeddings\n",
    "embedding_matrix_lemma_w2v = create_embedding_matrix(tokenizer_lemma, w2v_model)\n",
    "embedding_matrix_stem_w2v = create_embedding_matrix(tokenizer_stem, w2v_model)\n",
    "\n",
    "embedding_matrix_lemma_ft = create_embedding_matrix(tokenizer_lemma, ft_model)\n",
    "embedding_matrix_stem_ft = create_embedding_matrix(tokenizer_stem, ft_model)\n"
   ]
  },
  {
   "cell_type": "markdown",
   "id": "561eef4e-2cce-4af0-88b1-13c5073f226a",
   "metadata": {},
   "source": [
    "# 3. Définition de l'architecture du modèle CNN"
   ]
  },
  {
   "cell_type": "code",
   "execution_count": 12,
   "id": "cb98cbb8-ef58-4e65-b38c-25d4642be668",
   "metadata": {},
   "outputs": [],
   "source": [
    "from keras.models import Sequential\n",
    "from keras.layers import Embedding, Conv1D, GlobalMaxPooling1D, Dense, Dropout\n",
    "\n",
    "# Fonction pour créer un modèle CNN\n",
    "def create_cnn_model(input_dim, embedding_matrix, max_length=100):\n",
    "    model = Sequential()\n",
    "    model.add(Embedding(input_dim=input_dim, output_dim=embedding_matrix.shape[1], weights=[embedding_matrix], input_length=max_length, trainable=False))\n",
    "    model.add(Conv1D(128, kernel_size=5, activation='relu'))\n",
    "    model.add(GlobalMaxPooling1D())\n",
    "    model.add(Dense(128, activation='relu'))\n",
    "    model.add(Dropout(0.2))\n",
    "    model.add(Dense(1, activation='sigmoid'))\n",
    "    model.compile(optimizer='adam', loss='binary_crossentropy', metrics=['accuracy'])\n",
    "    return model\n",
    "\n",
    "\n"
   ]
  },
  {
   "cell_type": "markdown",
   "id": "e1a90500-c698-4075-ab0c-7398d74ff19e",
   "metadata": {},
   "source": [
    "# 4. Définition de l'architecture du modèle LSTM"
   ]
  },
  {
   "cell_type": "code",
   "execution_count": 14,
   "id": "3627faf7-50fc-4a7e-84f4-8b427989061b",
   "metadata": {},
   "outputs": [],
   "source": [
    "from keras.layers import LSTM, Bidirectional\n",
    "\n",
    "# Fonction pour créer un modèle LSTM\n",
    "def create_lstm_model(input_dim, embedding_matrix, max_length=100):\n",
    "    model = Sequential()\n",
    "    model.add(Embedding(input_dim=input_dim, output_dim=embedding_matrix.shape[1], weights=[embedding_matrix], input_length=max_length, trainable=False))\n",
    "    model.add(Bidirectional(LSTM(128, dropout=0.2, recurrent_dropout=0.2)))\n",
    "    model.add(Dense(128, activation='relu'))\n",
    "    model.add(Dropout(0.2))\n",
    "    model.add(Dense(1, activation='sigmoid'))\n",
    "    model.compile(optimizer='adam', loss='binary_crossentropy', metrics=['accuracy'])\n",
    "    return model\n",
    "\n"
   ]
  },
  {
   "cell_type": "markdown",
   "id": "c832354b-711f-4a5d-8a62-5f36b8818b71",
   "metadata": {},
   "source": [
    "# 5. Entraînement et Évaluation des Modèles"
   ]
  },
  {
   "cell_type": "markdown",
   "id": "9acb5d88-0a3f-47f1-a98d-5e3da2669827",
   "metadata": {},
   "source": [
    "## 5.1 Entraînement des Modèles CNN et LSTM avec les Embeddings Word2Vec + lemmatisation"
   ]
  },
  {
   "cell_type": "code",
   "execution_count": 77,
   "id": "bfd4ab81-f57a-42a5-acdb-54d1f8910fc8",
   "metadata": {},
   "outputs": [
    {
     "name": "stderr",
     "output_type": "stream",
     "text": [
      "2024/09/02 12:09:49 INFO mlflow.tracking.fluent: Experiment with name 'cnn_model_lemma_w2v' does not exist. Creating a new experiment.\n",
      "D:\\Master_Openclassroom\\python\\Lib\\site-packages\\keras\\src\\layers\\core\\embedding.py:90: UserWarning: Argument `input_length` is deprecated. Just remove it.\n",
      "  warnings.warn(\n"
     ]
    },
    {
     "name": "stdout",
     "output_type": "stream",
     "text": [
      "Epoch 1/10\n",
      "\u001b[1m15984/15984\u001b[0m \u001b[32m━━━━━━━━━━━━━━━━━━━━\u001b[0m\u001b[37m\u001b[0m \u001b[1m52s\u001b[0m 3ms/step - accuracy: 0.7757 - loss: 0.4691 - val_accuracy: 0.8010 - val_loss: 0.4271\n",
      "Epoch 2/10\n",
      "\u001b[1m15984/15984\u001b[0m \u001b[32m━━━━━━━━━━━━━━━━━━━━\u001b[0m\u001b[37m\u001b[0m \u001b[1m56s\u001b[0m 4ms/step - accuracy: 0.8092 - loss: 0.4151 - val_accuracy: 0.8056 - val_loss: 0.4191\n",
      "Epoch 3/10\n",
      "\u001b[1m15984/15984\u001b[0m \u001b[32m━━━━━━━━━━━━━━━━━━━━\u001b[0m\u001b[37m\u001b[0m \u001b[1m53s\u001b[0m 3ms/step - accuracy: 0.8191 - loss: 0.3963 - val_accuracy: 0.8077 - val_loss: 0.4154\n",
      "Epoch 4/10\n",
      "\u001b[1m15984/15984\u001b[0m \u001b[32m━━━━━━━━━━━━━━━━━━━━\u001b[0m\u001b[37m\u001b[0m \u001b[1m53s\u001b[0m 3ms/step - accuracy: 0.8266 - loss: 0.3827 - val_accuracy: 0.8086 - val_loss: 0.4168\n",
      "Epoch 5/10\n",
      "\u001b[1m15984/15984\u001b[0m \u001b[32m━━━━━━━━━━━━━━━━━━━━\u001b[0m\u001b[37m\u001b[0m \u001b[1m51s\u001b[0m 3ms/step - accuracy: 0.8327 - loss: 0.3706 - val_accuracy: 0.8063 - val_loss: 0.4297\n",
      "Epoch 6/10\n",
      "\u001b[1m15984/15984\u001b[0m \u001b[32m━━━━━━━━━━━━━━━━━━━━\u001b[0m\u001b[37m\u001b[0m \u001b[1m54s\u001b[0m 3ms/step - accuracy: 0.8376 - loss: 0.3608 - val_accuracy: 0.8087 - val_loss: 0.4224\n",
      "Epoch 7/10\n",
      "\u001b[1m15984/15984\u001b[0m \u001b[32m━━━━━━━━━━━━━━━━━━━━\u001b[0m\u001b[37m\u001b[0m \u001b[1m55s\u001b[0m 3ms/step - accuracy: 0.8424 - loss: 0.3518 - val_accuracy: 0.8068 - val_loss: 0.4334\n",
      "Epoch 8/10\n",
      "\u001b[1m15984/15984\u001b[0m \u001b[32m━━━━━━━━━━━━━━━━━━━━\u001b[0m\u001b[37m\u001b[0m \u001b[1m50s\u001b[0m 3ms/step - accuracy: 0.8452 - loss: 0.3447 - val_accuracy: 0.8047 - val_loss: 0.4333\n",
      "Epoch 9/10\n",
      "\u001b[1m15984/15984\u001b[0m \u001b[32m━━━━━━━━━━━━━━━━━━━━\u001b[0m\u001b[37m\u001b[0m \u001b[1m51s\u001b[0m 3ms/step - accuracy: 0.8493 - loss: 0.3360 - val_accuracy: 0.8053 - val_loss: 0.4390\n",
      "Epoch 10/10\n",
      "\u001b[1m15984/15984\u001b[0m \u001b[32m━━━━━━━━━━━━━━━━━━━━\u001b[0m\u001b[37m\u001b[0m \u001b[1m54s\u001b[0m 3ms/step - accuracy: 0.8521 - loss: 0.3296 - val_accuracy: 0.8048 - val_loss: 0.4484\n"
     ]
    },
    {
     "name": "stderr",
     "output_type": "stream",
     "text": [
      "2024/09/02 12:18:39 WARNING mlflow.keras.save: You are saving a Keras model without specifying model signature.\n",
      "2024/09/02 12:18:48 WARNING mlflow.models.model: Model logged without a signature and input example. Please set `input_example` parameter when logging the model to auto infer the model signature.\n"
     ]
    },
    {
     "name": "stdout",
     "output_type": "stream",
     "text": [
      "\u001b[1m9990/9990\u001b[0m \u001b[32m━━━━━━━━━━━━━━━━━━━━\u001b[0m\u001b[37m\u001b[0m \u001b[1m11s\u001b[0m 1ms/step\n"
     ]
    },
    {
     "data": {
      "image/png": "[encoded data removed]",
      "text/plain": [
       "<Figure size 1000x700 with 2 Axes>"
      ]
     },
     "metadata": {},
     "output_type": "display_data"
    }
   ],
   "source": [
    "import mlflow\n",
    "import os\n",
    "import matplotlib.pyplot as plt\n",
    "import seaborn as sns\n",
    "from sklearn.metrics import accuracy_score, confusion_matrix\n",
    "\n",
    "# Définir le dossier racine où vous voulez enregistrer les artefacts MLflow\n",
    "base_dir = os.path.abspath(os.path.join(\"..\", \"mlruns\"))\n",
    "\n",
    "# Exemple pour CNN avec lemmatisation + Word2Vec\n",
    "model_name = \"cnn_model_lemma_w2v\"\n",
    "mlflow_base_dir = os.path.join(base_dir, model_name)\n",
    "\n",
    "# Assurez-vous que le dossier existe\n",
    "if not os.path.exists(mlflow_base_dir):\n",
    "    os.makedirs(mlflow_base_dir)\n",
    "\n",
    "# Configurer MLflow pour utiliser ce dossier comme URI de suivi\n",
    "mlflow.set_tracking_uri(f\"file:///{mlflow_base_dir.replace(os.sep, '/')}\")\n",
    "\n",
    "# Créer une nouvelle expérience MLflow ou utiliser une expérience existante\n",
    "mlflow.set_experiment(model_name)\n",
    "\n",
    "with mlflow.start_run():\n",
    "    # Créer et entraîner le modèle\n",
    "    cnn_model_lemma_w2v = create_cnn_model(len(tokenizer_lemma.word_index) + 1, embedding_matrix_lemma_w2v)\n",
    "    cnn_model_lemma_w2v.fit(X_train_lemma, y_train_lemma, batch_size=64, epochs=10, validation_split=0.2, verbose=1)\n",
    "\n",
    "    # Enregistrer le modèle dans MLflow\n",
    "    mlflow.keras.log_model(cnn_model_lemma_w2v, model_name)\n",
    "\n",
    "    # Faire des prédictions et évaluer le modèle\n",
    "    y_pred_lemma_w2v = (cnn_model_lemma_w2v.predict(X_test_lemma) > 0.5).astype(\"int32\")\n",
    "    accuracy_lemma_w2v = accuracy_score(y_test_lemma, y_pred_lemma_w2v)\n",
    "    mlflow.log_metric(\"accuracy_lemma_w2v\", accuracy_lemma_w2v)\n",
    "\n",
    "    # Créer et afficher la matrice de confusion\n",
    "    cm_lemma_w2v = confusion_matrix(y_test_lemma, y_pred_lemma_w2v)\n",
    "    plt.figure(figsize=(10,7))\n",
    "    sns.heatmap(cm_lemma_w2v, annot=True, fmt='d')\n",
    "    plt.title(\"Confusion Matrix: CNN + Lemmatization + Word2Vec\")\n",
    "    plt.xlabel(\"Predicted\")\n",
    "    plt.ylabel(\"Actual\")\n",
    "    plt.show()\n"
   ]
  },
  {
   "cell_type": "code",
   "execution_count": 78,
   "id": "da11ebdd-61aa-4854-a0fa-30306242021f",
   "metadata": {},
   "outputs": [
    {
     "name": "stderr",
     "output_type": "stream",
     "text": [
      "2024/09/02 12:19:01 INFO mlflow.tracking.fluent: Experiment with name 'lstm_model_lemma_w2v' does not exist. Creating a new experiment.\n",
      "D:\\Master_Openclassroom\\python\\Lib\\site-packages\\keras\\src\\layers\\core\\embedding.py:90: UserWarning: Argument `input_length` is deprecated. Just remove it.\n",
      "  warnings.warn(\n"
     ]
    },
    {
     "name": "stdout",
     "output_type": "stream",
     "text": [
      "Epoch 1/10\n",
      "\u001b[1m15984/15984\u001b[0m \u001b[32m━━━━━━━━━━━━━━━━━━━━\u001b[0m\u001b[37m\u001b[0m \u001b[1m262s\u001b[0m 16ms/step - accuracy: 0.7629 - loss: 0.4869 - val_accuracy: 0.8089 - val_loss: 0.4144\n",
      "Epoch 2/10\n",
      "\u001b[1m15984/15984\u001b[0m \u001b[32m━━━━━━━━━━━━━━━━━━━━\u001b[0m\u001b[37m\u001b[0m \u001b[1m253s\u001b[0m 16ms/step - accuracy: 0.8081 - loss: 0.4169 - val_accuracy: 0.8175 - val_loss: 0.4001\n",
      "Epoch 3/10\n",
      "\u001b[1m15984/15984\u001b[0m \u001b[32m━━━━━━━━━━━━━━━━━━━━\u001b[0m\u001b[37m\u001b[0m \u001b[1m252s\u001b[0m 16ms/step - accuracy: 0.8182 - loss: 0.3990 - val_accuracy: 0.8213 - val_loss: 0.3932\n",
      "Epoch 4/10\n",
      "\u001b[1m15984/15984\u001b[0m \u001b[32m━━━━━━━━━━━━━━━━━━━━\u001b[0m\u001b[37m\u001b[0m \u001b[1m268s\u001b[0m 17ms/step - accuracy: 0.8244 - loss: 0.3881 - val_accuracy: 0.8249 - val_loss: 0.3871\n",
      "Epoch 5/10\n",
      "\u001b[1m15984/15984\u001b[0m \u001b[32m━━━━━━━━━━━━━━━━━━━━\u001b[0m\u001b[37m\u001b[0m \u001b[1m263s\u001b[0m 16ms/step - accuracy: 0.8289 - loss: 0.3798 - val_accuracy: 0.8266 - val_loss: 0.3856\n",
      "Epoch 6/10\n",
      "\u001b[1m15984/15984\u001b[0m \u001b[32m━━━━━━━━━━━━━━━━━━━━\u001b[0m\u001b[37m\u001b[0m \u001b[1m270s\u001b[0m 17ms/step - accuracy: 0.8314 - loss: 0.3741 - val_accuracy: 0.8269 - val_loss: 0.3837\n",
      "Epoch 7/10\n",
      "\u001b[1m15984/15984\u001b[0m \u001b[32m━━━━━━━━━━━━━━━━━━━━\u001b[0m\u001b[37m\u001b[0m \u001b[1m319s\u001b[0m 20ms/step - accuracy: 0.8338 - loss: 0.3698 - val_accuracy: 0.8279 - val_loss: 0.3829\n",
      "Epoch 8/10\n",
      "\u001b[1m15984/15984\u001b[0m \u001b[32m━━━━━━━━━━━━━━━━━━━━\u001b[0m\u001b[37m\u001b[0m \u001b[1m337s\u001b[0m 21ms/step - accuracy: 0.8357 - loss: 0.3657 - val_accuracy: 0.8283 - val_loss: 0.3838\n",
      "Epoch 9/10\n",
      "\u001b[1m15984/15984\u001b[0m \u001b[32m━━━━━━━━━━━━━━━━━━━━\u001b[0m\u001b[37m\u001b[0m \u001b[1m357s\u001b[0m 22ms/step - accuracy: 0.8386 - loss: 0.3613 - val_accuracy: 0.8288 - val_loss: 0.3849\n",
      "Epoch 10/10\n",
      "\u001b[1m15984/15984\u001b[0m \u001b[32m━━━━━━━━━━━━━━━━━━━━\u001b[0m\u001b[37m\u001b[0m \u001b[1m358s\u001b[0m 22ms/step - accuracy: 0.8393 - loss: 0.3593 - val_accuracy: 0.8290 - val_loss: 0.3841\n"
     ]
    },
    {
     "name": "stderr",
     "output_type": "stream",
     "text": [
      "2024/09/02 13:08:01 WARNING mlflow.keras.save: You are saving a Keras model without specifying model signature.\n",
      "2024/09/02 13:08:13 WARNING mlflow.models.model: Model logged without a signature and input example. Please set `input_example` parameter when logging the model to auto infer the model signature.\n"
     ]
    },
    {
     "name": "stdout",
     "output_type": "stream",
     "text": [
      "\u001b[1m9990/9990\u001b[0m \u001b[32m━━━━━━━━━━━━━━━━━━━━\u001b[0m\u001b[37m\u001b[0m \u001b[1m60s\u001b[0m 6ms/step\n"
     ]
    },
    {
     "data": {
      "image/png": "[encoded data removed]",
      "text/plain": [
       "<Figure size 1000x700 with 2 Axes>"
      ]
     },
     "metadata": {},
     "output_type": "display_data"
    }
   ],
   "source": [
    "# Modèle LSTM avec Lemmatization + Word2Vec\n",
    "model_name = \"lstm_model_lemma_w2v\"\n",
    "mlflow_base_dir = os.path.join(base_dir, model_name)\n",
    "\n",
    "# Assurez-vous que le dossier existe\n",
    "if not os.path.exists(mlflow_base_dir):\n",
    "    os.makedirs(mlflow_base_dir)\n",
    "\n",
    "# Configurer MLflow pour utiliser ce dossier comme URI de suivi\n",
    "mlflow.set_tracking_uri(f\"file:///{mlflow_base_dir.replace(os.sep, '/')}\")\n",
    "\n",
    "# Créer une nouvelle expérience MLflow ou utiliser une expérience existante\n",
    "mlflow.set_experiment(model_name)\n",
    "\n",
    "with mlflow.start_run():\n",
    "    # Créer et entraîner le modèle\n",
    "    lstm_model_lemma_w2v = create_lstm_model(len(tokenizer_lemma.word_index) + 1, embedding_matrix_lemma_w2v)\n",
    "    lstm_model_lemma_w2v.fit(X_train_lemma, y_train_lemma, batch_size=64, epochs=10, validation_split=0.2, verbose=1)\n",
    "\n",
    "    # Enregistrer le modèle dans MLflow\n",
    "    mlflow.keras.log_model(lstm_model_lemma_w2v, model_name)\n",
    "\n",
    "    # Faire des prédictions et évaluer le modèle\n",
    "    y_pred_lemma_w2v = (lstm_model_lemma_w2v.predict(X_test_lemma) > 0.5).astype(\"int32\")\n",
    "    accuracy_lemma_w2v = accuracy_score(y_test_lemma, y_pred_lemma_w2v)\n",
    "    mlflow.log_metric(\"accuracy_lemma_w2v\", accuracy_lemma_w2v)\n",
    "\n",
    "    # Créer et afficher la matrice de confusion\n",
    "    cm_lemma_w2v = confusion_matrix(y_test_lemma, y_pred_lemma_w2v)\n",
    "    plt.figure(figsize=(10,7))\n",
    "    sns.heatmap(cm_lemma_w2v, annot=True, fmt='d')\n",
    "    plt.title(\"Confusion Matrix: LSTM + Lemmatization + Word2Vec\")\n",
    "    plt.xlabel(\"Predicted\")\n",
    "    plt.ylabel(\"Actual\")\n",
    "    plt.show()\n"
   ]
  },
  {
   "cell_type": "markdown",
   "id": "304bb97c-dd32-45de-976e-d77da76972e9",
   "metadata": {},
   "source": [
    "## 5.2 Entraînement des Modèles CNN et LSTM avec les Embeddings FastText + lemmatisation"
   ]
  },
  {
   "cell_type": "code",
   "execution_count": 79,
   "id": "d9829ab4-1be6-4cfe-af96-c84cdbfe45eb",
   "metadata": {},
   "outputs": [
    {
     "name": "stderr",
     "output_type": "stream",
     "text": [
      "2024/09/02 13:09:18 INFO mlflow.tracking.fluent: Experiment with name 'cnn_model_lemma_ft' does not exist. Creating a new experiment.\n",
      "D:\\Master_Openclassroom\\python\\Lib\\site-packages\\keras\\src\\layers\\core\\embedding.py:90: UserWarning: Argument `input_length` is deprecated. Just remove it.\n",
      "  warnings.warn(\n"
     ]
    },
    {
     "name": "stdout",
     "output_type": "stream",
     "text": [
      "Epoch 1/10\n",
      "\u001b[1m15984/15984\u001b[0m \u001b[32m━━━━━━━━━━━━━━━━━━━━\u001b[0m\u001b[37m\u001b[0m \u001b[1m80s\u001b[0m 5ms/step - accuracy: 0.7685 - loss: 0.4783 - val_accuracy: 0.8008 - val_loss: 0.4296\n",
      "Epoch 2/10\n",
      "\u001b[1m15984/15984\u001b[0m \u001b[32m━━━━━━━━━━━━━━━━━━━━\u001b[0m\u001b[37m\u001b[0m \u001b[1m74s\u001b[0m 5ms/step - accuracy: 0.8056 - loss: 0.4207 - val_accuracy: 0.8055 - val_loss: 0.4212\n",
      "Epoch 3/10\n",
      "\u001b[1m15984/15984\u001b[0m \u001b[32m━━━━━━━━━━━━━━━━━━━━\u001b[0m\u001b[37m\u001b[0m \u001b[1m74s\u001b[0m 5ms/step - accuracy: 0.8146 - loss: 0.4050 - val_accuracy: 0.8067 - val_loss: 0.4214\n",
      "Epoch 4/10\n",
      "\u001b[1m15984/15984\u001b[0m \u001b[32m━━━━━━━━━━━━━━━━━━━━\u001b[0m\u001b[37m\u001b[0m \u001b[1m72s\u001b[0m 4ms/step - accuracy: 0.8196 - loss: 0.3955 - val_accuracy: 0.8091 - val_loss: 0.4154\n",
      "Epoch 5/10\n",
      "\u001b[1m15984/15984\u001b[0m \u001b[32m━━━━━━━━━━━━━━━━━━━━\u001b[0m\u001b[37m\u001b[0m \u001b[1m71s\u001b[0m 4ms/step - accuracy: 0.8246 - loss: 0.3854 - val_accuracy: 0.8111 - val_loss: 0.4120\n",
      "Epoch 6/10\n",
      "\u001b[1m15984/15984\u001b[0m \u001b[32m━━━━━━━━━━━━━━━━━━━━\u001b[0m\u001b[37m\u001b[0m \u001b[1m72s\u001b[0m 4ms/step - accuracy: 0.8280 - loss: 0.3797 - val_accuracy: 0.8116 - val_loss: 0.4115\n",
      "Epoch 7/10\n",
      "\u001b[1m15984/15984\u001b[0m \u001b[32m━━━━━━━━━━━━━━━━━━━━\u001b[0m\u001b[37m\u001b[0m \u001b[1m74s\u001b[0m 5ms/step - accuracy: 0.8318 - loss: 0.3725 - val_accuracy: 0.8105 - val_loss: 0.4178\n",
      "Epoch 8/10\n",
      "\u001b[1m15984/15984\u001b[0m \u001b[32m━━━━━━━━━━━━━━━━━━━━\u001b[0m\u001b[37m\u001b[0m \u001b[1m72s\u001b[0m 4ms/step - accuracy: 0.8352 - loss: 0.3660 - val_accuracy: 0.8108 - val_loss: 0.4168\n",
      "Epoch 9/10\n",
      "\u001b[1m15984/15984\u001b[0m \u001b[32m━━━━━━━━━━━━━━━━━━━━\u001b[0m\u001b[37m\u001b[0m \u001b[1m72s\u001b[0m 4ms/step - accuracy: 0.8376 - loss: 0.3607 - val_accuracy: 0.8099 - val_loss: 0.4169\n",
      "Epoch 10/10\n",
      "\u001b[1m15984/15984\u001b[0m \u001b[32m━━━━━━━━━━━━━━━━━━━━\u001b[0m\u001b[37m\u001b[0m \u001b[1m72s\u001b[0m 5ms/step - accuracy: 0.8396 - loss: 0.3567 - val_accuracy: 0.8099 - val_loss: 0.4192\n"
     ]
    },
    {
     "name": "stderr",
     "output_type": "stream",
     "text": [
      "2024/09/02 13:21:34 WARNING mlflow.keras.save: You are saving a Keras model without specifying model signature.\n",
      "2024/09/02 13:21:51 WARNING mlflow.models.model: Model logged without a signature and input example. Please set `input_example` parameter when logging the model to auto infer the model signature.\n"
     ]
    },
    {
     "name": "stdout",
     "output_type": "stream",
     "text": [
      "\u001b[1m9990/9990\u001b[0m \u001b[32m━━━━━━━━━━━━━━━━━━━━\u001b[0m\u001b[37m\u001b[0m \u001b[1m16s\u001b[0m 2ms/step\n"
     ]
    },
    {
     "data": {
      "image/png": "[encoded data removed]",
      "text/plain": [
       "<Figure size 1000x700 with 2 Axes>"
      ]
     },
     "metadata": {},
     "output_type": "display_data"
    }
   ],
   "source": [
    "# Modèle CNN avec Lemmatization + FastText\n",
    "model_name = \"cnn_model_lemma_ft\"\n",
    "mlflow_base_dir = os.path.join(base_dir, model_name)\n",
    "\n",
    "# Assurez-vous que le dossier existe\n",
    "if not os.path.exists(mlflow_base_dir):\n",
    "    os.makedirs(mlflow_base_dir)\n",
    "\n",
    "# Configurer MLflow pour utiliser ce dossier comme URI de suivi\n",
    "mlflow.set_tracking_uri(f\"file:///{mlflow_base_dir.replace(os.sep, '/')}\")\n",
    "\n",
    "# Créer une nouvelle expérience MLflow ou utiliser une expérience existante\n",
    "mlflow.set_experiment(model_name)\n",
    "\n",
    "with mlflow.start_run():\n",
    "    # Créer et entraîner le modèle\n",
    "    cnn_model_lemma_ft = create_cnn_model(len(tokenizer_lemma.word_index) + 1, embedding_matrix_lemma_ft)\n",
    "    cnn_model_lemma_ft.fit(X_train_lemma, y_train_lemma, batch_size=64, epochs=10, validation_split=0.2, verbose=1)\n",
    "\n",
    "    # Enregistrer le modèle dans MLflow\n",
    "    mlflow.keras.log_model(cnn_model_lemma_ft, model_name)\n",
    "\n",
    "    # Faire des prédictions et évaluer le modèle\n",
    "    y_pred_lemma_ft = (cnn_model_lemma_ft.predict(X_test_lemma) > 0.5).astype(\"int32\")\n",
    "    accuracy_lemma_ft = accuracy_score(y_test_lemma, y_pred_lemma_ft)\n",
    "    mlflow.log_metric(\"accuracy_lemma_ft\", accuracy_lemma_ft)\n",
    "\n",
    "    # Créer et afficher la matrice de confusion\n",
    "    cm_lemma_ft = confusion_matrix(y_test_lemma, y_pred_lemma_ft)\n",
    "    plt.figure(figsize=(10,7))\n",
    "    sns.heatmap(cm_lemma_ft, annot=True, fmt='d')\n",
    "    plt.title(\"Confusion Matrix: CNN + Lemmatization + FastText\")\n",
    "    plt.xlabel(\"Predicted\")\n",
    "    plt.ylabel(\"Actual\")\n",
    "    plt.show()\n"
   ]
  },
  {
   "cell_type": "code",
   "execution_count": 80,
   "id": "f1e358f6-a7a4-416f-9205-e9687fcf4bad",
   "metadata": {},
   "outputs": [
    {
     "name": "stderr",
     "output_type": "stream",
     "text": [
      "2024/09/02 13:22:11 INFO mlflow.tracking.fluent: Experiment with name 'lstm_model_lemma_ft' does not exist. Creating a new experiment.\n",
      "D:\\Master_Openclassroom\\python\\Lib\\site-packages\\keras\\src\\layers\\core\\embedding.py:90: UserWarning: Argument `input_length` is deprecated. Just remove it.\n",
      "  warnings.warn(\n"
     ]
    },
    {
     "name": "stdout",
     "output_type": "stream",
     "text": [
      "Epoch 1/10\n",
      "\u001b[1m15984/15984\u001b[0m \u001b[32m━━━━━━━━━━━━━━━━━━━━\u001b[0m\u001b[37m\u001b[0m \u001b[1m279s\u001b[0m 17ms/step - accuracy: 0.7554 - loss: 0.4994 - val_accuracy: 0.8034 - val_loss: 0.4251\n",
      "Epoch 2/10\n",
      "\u001b[1m15984/15984\u001b[0m \u001b[32m━━━━━━━━━━━━━━━━━━━━\u001b[0m\u001b[37m\u001b[0m \u001b[1m271s\u001b[0m 17ms/step - accuracy: 0.8021 - loss: 0.4283 - val_accuracy: 0.8126 - val_loss: 0.4094\n",
      "Epoch 3/10\n",
      "\u001b[1m15984/15984\u001b[0m \u001b[32m━━━━━━━━━━━━━━━━━━━━\u001b[0m\u001b[37m\u001b[0m \u001b[1m272s\u001b[0m 17ms/step - accuracy: 0.8108 - loss: 0.4122 - val_accuracy: 0.8184 - val_loss: 0.3986\n",
      "Epoch 4/10\n",
      "\u001b[1m15984/15984\u001b[0m \u001b[32m━━━━━━━━━━━━━━━━━━━━\u001b[0m\u001b[37m\u001b[0m \u001b[1m278s\u001b[0m 17ms/step - accuracy: 0.8176 - loss: 0.4004 - val_accuracy: 0.8215 - val_loss: 0.3926\n",
      "Epoch 5/10\n",
      "\u001b[1m15984/15984\u001b[0m \u001b[32m━━━━━━━━━━━━━━━━━━━━\u001b[0m\u001b[37m\u001b[0m \u001b[1m280s\u001b[0m 18ms/step - accuracy: 0.8224 - loss: 0.3909 - val_accuracy: 0.8239 - val_loss: 0.3877\n",
      "Epoch 6/10\n",
      "\u001b[1m15984/15984\u001b[0m \u001b[32m━━━━━━━━━━━━━━━━━━━━\u001b[0m\u001b[37m\u001b[0m \u001b[1m284s\u001b[0m 18ms/step - accuracy: 0.8261 - loss: 0.3840 - val_accuracy: 0.8259 - val_loss: 0.3848\n",
      "Epoch 7/10\n",
      "\u001b[1m15984/15984\u001b[0m \u001b[32m━━━━━━━━━━━━━━━━━━━━\u001b[0m\u001b[37m\u001b[0m \u001b[1m298s\u001b[0m 19ms/step - accuracy: 0.8285 - loss: 0.3804 - val_accuracy: 0.8269 - val_loss: 0.3841\n",
      "Epoch 8/10\n",
      "\u001b[1m15984/15984\u001b[0m \u001b[32m━━━━━━━━━━━━━━━━━━━━\u001b[0m\u001b[37m\u001b[0m \u001b[1m306s\u001b[0m 19ms/step - accuracy: 0.8312 - loss: 0.3752 - val_accuracy: 0.8278 - val_loss: 0.3836\n",
      "Epoch 9/10\n",
      "\u001b[1m15984/15984\u001b[0m \u001b[32m━━━━━━━━━━━━━━━━━━━━\u001b[0m\u001b[37m\u001b[0m \u001b[1m318s\u001b[0m 20ms/step - accuracy: 0.8326 - loss: 0.3722 - val_accuracy: 0.8278 - val_loss: 0.3829\n",
      "Epoch 10/10\n",
      "\u001b[1m15984/15984\u001b[0m \u001b[32m━━━━━━━━━━━━━━━━━━━━\u001b[0m\u001b[37m\u001b[0m \u001b[1m332s\u001b[0m 21ms/step - accuracy: 0.8349 - loss: 0.3684 - val_accuracy: 0.8290 - val_loss: 0.3825\n"
     ]
    },
    {
     "name": "stderr",
     "output_type": "stream",
     "text": [
      "2024/09/02 14:10:51 WARNING mlflow.keras.save: You are saving a Keras model without specifying model signature.\n",
      "2024/09/02 14:11:01 WARNING mlflow.models.model: Model logged without a signature and input example. Please set `input_example` parameter when logging the model to auto infer the model signature.\n"
     ]
    },
    {
     "name": "stdout",
     "output_type": "stream",
     "text": [
      "\u001b[1m9990/9990\u001b[0m \u001b[32m━━━━━━━━━━━━━━━━━━━━\u001b[0m\u001b[37m\u001b[0m \u001b[1m65s\u001b[0m 7ms/step\n"
     ]
    },
    {
     "data": {
      "image/png": "[encoded data removed]",
      "text/plain": [
       "<Figure size 1000x700 with 2 Axes>"
      ]
     },
     "metadata": {},
     "output_type": "display_data"
    }
   ],
   "source": [
    "# Modèle LSTM avec Lemmatization + FastText\n",
    "model_name = \"lstm_model_lemma_ft\"\n",
    "mlflow_base_dir = os.path.join(base_dir, model_name)\n",
    "\n",
    "# Assurez-vous que le dossier existe\n",
    "if not os.path.exists(mlflow_base_dir):\n",
    "    os.makedirs(mlflow_base_dir)\n",
    "\n",
    "# Configurer MLflow pour utiliser ce dossier comme URI de suivi\n",
    "mlflow.set_tracking_uri(f\"file:///{mlflow_base_dir.replace(os.sep, '/')}\")\n",
    "\n",
    "# Créer une nouvelle expérience MLflow ou utiliser une expérience existante\n",
    "mlflow.set_experiment(model_name)\n",
    "\n",
    "with mlflow.start_run():\n",
    "    # Créer et entraîner le modèle\n",
    "    lstm_model_lemma_ft = create_lstm_model(len(tokenizer_lemma.word_index) + 1, embedding_matrix_lemma_ft)\n",
    "    lstm_model_lemma_ft.fit(X_train_lemma, y_train_lemma, batch_size=64, epochs=10, validation_split=0.2, verbose=1)\n",
    "\n",
    "    # Enregistrer le modèle dans MLflow\n",
    "    mlflow.keras.log_model(lstm_model_lemma_ft, model_name)\n",
    "\n",
    "    # Faire des prédictions et évaluer le modèle\n",
    "    y_pred_lemma_ft = (lstm_model_lemma_ft.predict(X_test_lemma) > 0.5).astype(\"int32\")\n",
    "    accuracy_lemma_ft = accuracy_score(y_test_lemma, y_pred_lemma_ft)\n",
    "    mlflow.log_metric(\"accuracy_lemma_ft\", accuracy_lemma_ft)\n",
    "\n",
    "    # Créer et afficher la matrice de confusion\n",
    "    cm_lemma_ft = confusion_matrix(y_test_lemma, y_pred_lemma_ft)\n",
    "    plt.figure(figsize=(10,7))\n",
    "    sns.heatmap(cm_lemma_ft, annot=True, fmt='d')\n",
    "    plt.title(\"Confusion Matrix: LSTM + Lemmatization + FastText\")\n",
    "    plt.xlabel(\"Predicted\")\n",
    "    plt.ylabel(\"Actual\")\n",
    "    plt.show()\n"
   ]
  },
  {
   "cell_type": "markdown",
   "id": "576bd1d2-089d-4124-9b5a-441b07174ce5",
   "metadata": {},
   "source": [
    "## 5.3 Entraînement des Modèles CNN et LSTM avec les Embeddings Word2Vec + stemming"
   ]
  },
  {
   "cell_type": "code",
   "execution_count": 81,
   "id": "1afd59a7-76a3-46ce-a70f-31dc02199560",
   "metadata": {},
   "outputs": [
    {
     "name": "stderr",
     "output_type": "stream",
     "text": [
      "2024/09/02 14:12:10 INFO mlflow.tracking.fluent: Experiment with name 'cnn_model_stem_w2v' does not exist. Creating a new experiment.\n",
      "D:\\Master_Openclassroom\\python\\Lib\\site-packages\\keras\\src\\layers\\core\\embedding.py:90: UserWarning: Argument `input_length` is deprecated. Just remove it.\n",
      "  warnings.warn(\n"
     ]
    },
    {
     "name": "stdout",
     "output_type": "stream",
     "text": [
      "Epoch 1/10\n",
      "\u001b[1m15984/15984\u001b[0m \u001b[32m━━━━━━━━━━━━━━━━━━━━\u001b[0m\u001b[37m\u001b[0m \u001b[1m74s\u001b[0m 5ms/step - accuracy: 0.7608 - loss: 0.4911 - val_accuracy: 0.7881 - val_loss: 0.4478\n",
      "Epoch 2/10\n",
      "\u001b[1m15984/15984\u001b[0m \u001b[32m━━━━━━━━━━━━━━━━━━━━\u001b[0m\u001b[37m\u001b[0m \u001b[1m73s\u001b[0m 5ms/step - accuracy: 0.7976 - loss: 0.4345 - val_accuracy: 0.7945 - val_loss: 0.4384\n",
      "Epoch 3/10\n",
      "\u001b[1m15984/15984\u001b[0m \u001b[32m━━━━━━━━━━━━━━━━━━━━\u001b[0m\u001b[37m\u001b[0m \u001b[1m71s\u001b[0m 4ms/step - accuracy: 0.8076 - loss: 0.4168 - val_accuracy: 0.7967 - val_loss: 0.4352\n",
      "Epoch 4/10\n",
      "\u001b[1m15984/15984\u001b[0m \u001b[32m━━━━━━━━━━━━━━━━━━━━\u001b[0m\u001b[37m\u001b[0m \u001b[1m72s\u001b[0m 4ms/step - accuracy: 0.8153 - loss: 0.4032 - val_accuracy: 0.7967 - val_loss: 0.4348\n",
      "Epoch 5/10\n",
      "\u001b[1m15984/15984\u001b[0m \u001b[32m━━━━━━━━━━━━━━━━━━━━\u001b[0m\u001b[37m\u001b[0m \u001b[1m71s\u001b[0m 4ms/step - accuracy: 0.8209 - loss: 0.3917 - val_accuracy: 0.7968 - val_loss: 0.4437\n",
      "Epoch 6/10\n",
      "\u001b[1m15984/15984\u001b[0m \u001b[32m━━━━━━━━━━━━━━━━━━━━\u001b[0m\u001b[37m\u001b[0m \u001b[1m72s\u001b[0m 4ms/step - accuracy: 0.8261 - loss: 0.3820 - val_accuracy: 0.7975 - val_loss: 0.4370\n",
      "Epoch 7/10\n",
      "\u001b[1m15984/15984\u001b[0m \u001b[32m━━━━━━━━━━━━━━━━━━━━\u001b[0m\u001b[37m\u001b[0m \u001b[1m71s\u001b[0m 4ms/step - accuracy: 0.8310 - loss: 0.3717 - val_accuracy: 0.7956 - val_loss: 0.4446\n",
      "Epoch 8/10\n",
      "\u001b[1m15984/15984\u001b[0m \u001b[32m━━━━━━━━━━━━━━━━━━━━\u001b[0m\u001b[37m\u001b[0m \u001b[1m74s\u001b[0m 5ms/step - accuracy: 0.8346 - loss: 0.3647 - val_accuracy: 0.7942 - val_loss: 0.4553\n",
      "Epoch 9/10\n",
      "\u001b[1m15984/15984\u001b[0m \u001b[32m━━━━━━━━━━━━━━━━━━━━\u001b[0m\u001b[37m\u001b[0m \u001b[1m72s\u001b[0m 5ms/step - accuracy: 0.8380 - loss: 0.3574 - val_accuracy: 0.7944 - val_loss: 0.4671\n",
      "Epoch 10/10\n",
      "\u001b[1m15984/15984\u001b[0m \u001b[32m━━━━━━━━━━━━━━━━━━━━\u001b[0m\u001b[37m\u001b[0m \u001b[1m73s\u001b[0m 5ms/step - accuracy: 0.8406 - loss: 0.3514 - val_accuracy: 0.7926 - val_loss: 0.4651\n"
     ]
    },
    {
     "name": "stderr",
     "output_type": "stream",
     "text": [
      "2024/09/02 14:24:16 WARNING mlflow.keras.save: You are saving a Keras model without specifying model signature.\n",
      "2024/09/02 14:24:26 WARNING mlflow.models.model: Model logged without a signature and input example. Please set `input_example` parameter when logging the model to auto infer the model signature.\n"
     ]
    },
    {
     "name": "stdout",
     "output_type": "stream",
     "text": [
      "\u001b[1m9990/9990\u001b[0m \u001b[32m━━━━━━━━━━━━━━━━━━━━\u001b[0m\u001b[37m\u001b[0m \u001b[1m17s\u001b[0m 2ms/step\n"
     ]
    },
    {
     "data": {
      "image/png": "[encoded data removed]",
      "text/plain": [
       "<Figure size 1000x700 with 2 Axes>"
      ]
     },
     "metadata": {},
     "output_type": "display_data"
    }
   ],
   "source": [
    "# Modèle CNN avec Stemming + Word2Vec\n",
    "model_name = \"cnn_model_stem_w2v\"\n",
    "mlflow_base_dir = os.path.join(base_dir, model_name)\n",
    "\n",
    "# Assurez-vous que le dossier existe\n",
    "if not os.path.exists(mlflow_base_dir):\n",
    "    os.makedirs(mlflow_base_dir)\n",
    "\n",
    "# Configurer MLflow pour utiliser ce dossier comme URI de suivi\n",
    "mlflow.set_tracking_uri(f\"file:///{mlflow_base_dir.replace(os.sep, '/')}\")\n",
    "\n",
    "# Créer une nouvelle expérience MLflow ou utiliser une expérience existante\n",
    "mlflow.set_experiment(model_name)\n",
    "\n",
    "with mlflow.start_run():\n",
    "    # Créer et entraîner le modèle\n",
    "    cnn_model_stem_w2v = create_cnn_model(len(tokenizer_stem.word_index) + 1, embedding_matrix_stem_w2v)\n",
    "    cnn_model_stem_w2v.fit(X_train_stem, y_train_stem, batch_size=64, epochs=10, validation_split=0.2, verbose=1)\n",
    "\n",
    "    # Enregistrer le modèle dans MLflow\n",
    "    mlflow.keras.log_model(cnn_model_stem_w2v, model_name)\n",
    "\n",
    "    # Faire des prédictions et évaluer le modèle\n",
    "    y_pred_stem_w2v = (cnn_model_stem_w2v.predict(X_test_stem) > 0.5).astype(\"int32\")\n",
    "    accuracy_stem_w2v = accuracy_score(y_test_stem, y_pred_stem_w2v)\n",
    "    mlflow.log_metric(\"accuracy_stem_w2v\", accuracy_stem_w2v)\n",
    "\n",
    "    # Créer et afficher la matrice de confusion\n",
    "    cm_stem_w2v = confusion_matrix(y_test_stem, y_pred_stem_w2v)\n",
    "    plt.figure(figsize=(10,7))\n",
    "    sns.heatmap(cm_stem_w2v, annot=True, fmt='d')\n",
    "    plt.title(\"Confusion Matrix: CNN + Stemming + Word2Vec\")\n",
    "    plt.xlabel(\"Predicted\")\n",
    "    plt.ylabel(\"Actual\")\n",
    "    plt.show()\n"
   ]
  },
  {
   "cell_type": "code",
   "execution_count": null,
   "id": "7d18f1c6-f64b-44cc-a633-bcd2bd53e52c",
   "metadata": {},
   "outputs": [
    {
     "name": "stderr",
     "output_type": "stream",
     "text": [
      "2024/09/02 14:24:46 INFO mlflow.tracking.fluent: Experiment with name 'lstm_model_stem_w2v' does not exist. Creating a new experiment.\n",
      "D:\\Master_Openclassroom\\python\\Lib\\site-packages\\keras\\src\\layers\\core\\embedding.py:90: UserWarning: Argument `input_length` is deprecated. Just remove it.\n",
      "  warnings.warn(\n"
     ]
    },
    {
     "name": "stdout",
     "output_type": "stream",
     "text": [
      "Epoch 1/10\n",
      "\u001b[1m15984/15984\u001b[0m \u001b[32m━━━━━━━━━━━━━━━━━━━━\u001b[0m\u001b[37m\u001b[0m \u001b[1m285s\u001b[0m 17ms/step - accuracy: 0.7483 - loss: 0.5085 - val_accuracy: 0.7964 - val_loss: 0.4355\n",
      "Epoch 2/10\n",
      "\u001b[1m15984/15984\u001b[0m \u001b[32m━━━━━━━━━━━━━━━━━━━━\u001b[0m\u001b[37m\u001b[0m \u001b[1m281s\u001b[0m 18ms/step - accuracy: 0.7953 - loss: 0.4388 - val_accuracy: 0.8041 - val_loss: 0.4209\n",
      "Epoch 3/10\n",
      "\u001b[1m15984/15984\u001b[0m \u001b[32m━━━━━━━━━━━━━━━━━━━━\u001b[0m\u001b[37m\u001b[0m \u001b[1m291s\u001b[0m 18ms/step - accuracy: 0.8049 - loss: 0.4214 - val_accuracy: 0.8102 - val_loss: 0.4147\n",
      "Epoch 4/10\n",
      "\u001b[1m15984/15984\u001b[0m \u001b[32m━━━━━━━━━━━━━━━━━━━━\u001b[0m\u001b[37m\u001b[0m \u001b[1m297s\u001b[0m 19ms/step - accuracy: 0.8116 - loss: 0.4106 - val_accuracy: 0.8131 - val_loss: 0.4085\n",
      "Epoch 5/10\n",
      "\u001b[1m15984/15984\u001b[0m \u001b[32m━━━━━━━━━━━━━━━━━━━━\u001b[0m\u001b[37m\u001b[0m \u001b[1m334s\u001b[0m 21ms/step - accuracy: 0.8164 - loss: 0.4012 - val_accuracy: 0.8148 - val_loss: 0.4053\n",
      "Epoch 6/10\n",
      "\u001b[1m15984/15984\u001b[0m \u001b[32m━━━━━━━━━━━━━━━━━━━━\u001b[0m\u001b[37m\u001b[0m \u001b[1m306s\u001b[0m 19ms/step - accuracy: 0.8195 - loss: 0.3951 - val_accuracy: 0.8162 - val_loss: 0.4078\n",
      "Epoch 7/10\n",
      "\u001b[1m15984/15984\u001b[0m \u001b[32m━━━━━━━━━━━━━━━━━━━━\u001b[0m\u001b[37m\u001b[0m \u001b[1m330s\u001b[0m 21ms/step - accuracy: 0.8213 - loss: 0.3914 - val_accuracy: 0.8145 - val_loss: 0.4067\n",
      "Epoch 8/10\n",
      "\u001b[1m15984/15984\u001b[0m \u001b[32m━━━━━━━━━━━━━━━━━━━━\u001b[0m\u001b[37m\u001b[0m \u001b[1m355s\u001b[0m 22ms/step - accuracy: 0.8240 - loss: 0.3875 - val_accuracy: 0.8168 - val_loss: 0.4036\n",
      "Epoch 9/10\n",
      "\u001b[1m15984/15984\u001b[0m \u001b[32m━━━━━━━━━━━━━━━━━━━━\u001b[0m\u001b[37m\u001b[0m \u001b[1m361s\u001b[0m 23ms/step - accuracy: 0.8258 - loss: 0.3838 - val_accuracy: 0.8171 - val_loss: 0.4023\n",
      "Epoch 10/10\n",
      "\u001b[1m13995/15984\u001b[0m \u001b[32m━━━━━━━━━━━━━━━━━\u001b[0m\u001b[37m━━━\u001b[0m \u001b[1m39s\u001b[0m 20ms/step - accuracy: 0.8279 - loss: 0.3807"
     ]
    }
   ],
   "source": [
    "# Modèle LSTM avec Stemming + Word2Vec\n",
    "model_name = \"lstm_model_stem_w2v\"\n",
    "mlflow_base_dir = os.path.join(base_dir, model_name)\n",
    "\n",
    "# Assurez-vous que le dossier existe\n",
    "if not os.path.exists(mlflow_base_dir):\n",
    "    os.makedirs(mlflow_base_dir)\n",
    "\n",
    "# Configurer MLflow pour utiliser ce dossier comme URI de suivi\n",
    "mlflow.set_tracking_uri(f\"file:///{mlflow_base_dir.replace(os.sep, '/')}\")\n",
    "\n",
    "# Créer une nouvelle expérience MLflow ou utiliser une expérience existante\n",
    "mlflow.set_experiment(model_name)\n",
    "\n",
    "with mlflow.start_run():\n",
    "    # Créer et entraîner le modèle\n",
    "    lstm_model_stem_w2v = create_lstm_model(len(tokenizer_stem.word_index) + 1, embedding_matrix_stem_w2v)\n",
    "    lstm_model_stem_w2v.fit(X_train_stem, y_train_stem, batch_size=64, epochs=10, validation_split=0.2, verbose=1)\n",
    "\n",
    "    # Enregistrer le modèle dans MLflow\n",
    "    mlflow.keras.log_model(lstm_model_stem_w2v, model_name)\n",
    "\n",
    "    # Faire des prédictions et évaluer le modèle\n",
    "    y_pred_stem_w2v = (lstm_model_stem_w2v.predict(X_test_stem) > 0.5).astype(\"int32\")\n",
    "    accuracy_stem_w2v = accuracy_score(y_test_stem, y_pred_stem_w2v)\n",
    "    mlflow.log_metric(\"accuracy_stem_w2v\", accuracy_stem_w2v)\n",
    "\n",
    "    # Créer et afficher la matrice de confusion\n",
    "    cm_stem_w2v = confusion_matrix(y_test_stem, y_pred_stem_w2v)\n",
    "    plt.figure(figsize=(10,7))\n",
    "    sns.heatmap(cm_stem_w2v, annot=True, fmt='d')\n",
    "    plt.title(\"Confusion Matrix: LSTM + Stemming + Word2Vec\")\n",
    "    plt.xlabel(\"Predicted\")\n",
    "    plt.ylabel(\"Actual\")\n",
    "    plt.show()\n"
   ]
  },
  {
   "cell_type": "markdown",
   "id": "18923088-9975-46d1-a9df-24aaad456a64",
   "metadata": {},
   "source": [
    "## 5.4 Entraînement des Modèles CNN et LSTM avec les Embeddings FastText + stemming"
   ]
  },
  {
   "cell_type": "code",
   "execution_count": null,
   "id": "44956185-bc70-43a8-939e-f93e2d128959",
   "metadata": {},
   "outputs": [],
   "source": [
    "# Modèle CNN avec Stemming + FastText\n",
    "model_name = \"cnn_model_stem_ft\"\n",
    "mlflow_base_dir = os.path.join(base_dir, model_name)\n",
    "\n",
    "# Assurez-vous que le dossier existe\n",
    "if not os.path.exists(mlflow_base_dir):\n",
    "    os.makedirs(mlflow_base_dir)\n",
    "\n",
    "# Configurer MLflow pour utiliser ce dossier comme URI de suivi\n",
    "mlflow.set_tracking_uri(f\"file:///{mlflow_base_dir.replace(os.sep, '/')}\")\n",
    "\n",
    "# Créer une nouvelle expérience MLflow ou utiliser une expérience existante\n",
    "mlflow.set_experiment(model_name)\n",
    "\n",
    "with mlflow.start_run():\n",
    "    # Créer et entraîner le modèle\n",
    "    cnn_model_stem_ft = create_cnn_model(len(tokenizer_stem.word_index) + 1, embedding_matrix_stem_ft)\n",
    "    cnn_model_stem_ft.fit(X_train_stem, y_train_stem, batch_size=64, epochs=10, validation_split=0.2, verbose=1)\n",
    "\n",
    "    # Enregistrer le modèle dans MLflow\n",
    "    mlflow.keras.log_model(cnn_model_stem_ft, model_name)\n",
    "\n",
    "    # Faire des prédictions et évaluer le modèle\n",
    "    y_pred_stem_ft = (cnn_model_stem_ft.predict(X_test_stem) > 0.5).astype(\"int32\")\n",
    "    accuracy_stem_ft = accuracy_score(y_test_stem, y_pred_stem_ft)\n",
    "    mlflow.log_metric(\"accuracy_stem_ft\", accuracy_stem_ft)\n",
    "\n",
    "    # Créer et afficher la matrice de confusion\n",
    "    cm_stem_ft = confusion_matrix(y_test_stem, y_pred_stem_ft)\n",
    "    plt.figure(figsize=(10,7))\n",
    "    sns.heatmap(cm_stem_ft, annot=True, fmt='d')\n",
    "    plt.title(\"Confusion Matrix: CNN + Stemming + FastText\")\n",
    "    plt.xlabel(\"Predicted\")\n",
    "    plt.ylabel(\"Actual\")\n",
    "    plt.show()\n"
   ]
  },
  {
   "cell_type": "code",
   "execution_count": null,
   "id": "84c6a9b7-2e74-466a-bfaf-7631dd6327cc",
   "metadata": {},
   "outputs": [],
   "source": [
    "# Modèle LSTM avec Stemming + FastText\n",
    "model_name = \"lstm_model_stem_ft\"\n",
    "mlflow_base_dir = os.path.join(base_dir, model_name)\n",
    "\n",
    "# Assurez-vous que le dossier existe\n",
    "if not os.path.exists(mlflow_base_dir):\n",
    "    os.makedirs(mlflow_base_dir)\n",
    "\n",
    "# Configurer MLflow pour utiliser ce dossier comme URI de suivi\n",
    "mlflow.set_tracking_uri(f\"file:///{mlflow_base_dir.replace(os.sep, '/')}\")\n",
    "\n",
    "# Créer une nouvelle expérience MLflow ou utiliser une expérience existante\n",
    "mlflow.set_experiment(model_name)\n",
    "\n",
    "with mlflow.start_run():\n",
    "    # Créer et entraîner le modèle\n",
    "    lstm_model_stem_ft = create_lstm_model(len(tokenizer_stem.word_index) + 1, embedding_matrix_stem_ft)\n",
    "    lstm_model_stem_ft.fit(X_train_stem, y_train_stem, batch_size=64, epochs=10, validation_split=0.2, verbose=1)\n",
    "\n",
    "    # Enregistrer le modèle dans MLflow\n",
    "    mlflow.keras.log_model(lstm_model_stem_ft, model_name)\n",
    "\n",
    "    # Faire des prédictions et évaluer le modèle\n",
    "    y_pred_stem_ft = (lstm_model_stem_ft.predict(X_test_stem) > 0.5).astype(\"int32\")\n",
    "    accuracy_stem_ft = accuracy_score(y_test_stem, y_pred_stem_ft)\n",
    "    mlflow.log_metric(\"accuracy_stem_ft\", accuracy_stem_ft)\n",
    "\n",
    "    # Créer et afficher la matrice de confusion\n",
    "    cm_stem_ft = confusion_matrix(y_test_stem, y_pred_stem_ft)\n",
    "    plt.figure(figsize=(10,7))\n",
    "    sns.heatmap(cm_stem_ft, annot=True, fmt='d')\n",
    "    plt.title(\"Confusion Matrix: LSTM + Stemming + FastText\")\n",
    "    plt.xlabel(\"Predicted\")\n",
    "    plt.ylabel(\"Actual\")\n",
    "    plt.show()\n"
   ]
  },
  {
   "cell_type": "markdown",
   "id": "ff96ef25-bc5c-4eed-8c9b-637859c8eada",
   "metadata": {},
   "source": [
    "# 6. Comparaison des modèles"
   ]
  },
  {
   "cell_type": "code",
   "execution_count": null,
   "id": "c5c075b7-fdc6-4368-98fa-33ae9a6941f4",
   "metadata": {},
   "outputs": [],
   "source": [
    "import pandas as pd\n",
    "\n",
    "# Initialiser une liste pour stocker les résultats\n",
    "results = []\n",
    "\n",
    "# Fonction pour ajouter les résultats d'un modèle à la liste\n",
    "def log_results(model_name, accuracy, precision, recall, f1):\n",
    "    results.append({\n",
    "        'Model': model_name,\n",
    "        'Accuracy': accuracy,\n",
    "        'Precision': precision,\n",
    "        'Recall': recall,\n",
    "        'F1 Score': f1\n",
    "    })\n",
    "\n",
    "# Log des résultats pour les modèles avancés (Word2Vec + FastText)\n",
    "\n",
    "# CNN + Lemmatization + Word2Vec\n",
    "log_results(\n",
    "    'CNN + Lemmatization + Word2Vec',\n",
    "    accuracy_cnn_lemma_w2v,\n",
    "    precision_cnn_lemma_w2v,\n",
    "    recall_cnn_lemma_w2v,\n",
    "    f1_cnn_lemma_w2v\n",
    ")\n",
    "\n",
    "# LSTM + Lemmatization + Word2Vec\n",
    "log_results(\n",
    "    'LSTM + Lemmatization + Word2Vec',\n",
    "    accuracy_lstm_lemma_w2v,\n",
    "    precision_lstm_lemma_w2v,\n",
    "    recall_lstm_lemma_w2v,\n",
    "    f1_lstm_lemma_w2v\n",
    ")\n",
    "\n",
    "# CNN + Stemming + Word2Vec\n",
    "log_results(\n",
    "    'CNN + Stemming + Word2Vec',\n",
    "    accuracy_cnn_stem_w2v,\n",
    "    precision_cnn_stem_w2v,\n",
    "    recall_cnn_stem_w2v,\n",
    "    f1_cnn_stem_w2v\n",
    ")\n",
    "\n",
    "# LSTM + Stemming + Word2Vec\n",
    "log_results(\n",
    "    'LSTM + Stemming + Word2Vec',\n",
    "    accuracy_lstm_stem_w2v,\n",
    "    precision_lstm_stem_w2v,\n",
    "    recall_lstm_stem_w2v,\n",
    "    f1_lstm_stem_w2v\n",
    ")\n",
    "\n",
    "# CNN + Lemmatization + FastText\n",
    "log_results(\n",
    "    'CNN + Lemmatization + FastText',\n",
    "    accuracy_cnn_lemma_ft,\n",
    "    precision_cnn_lemma_ft,\n",
    "    recall_cnn_lemma_ft,\n",
    "    f1_cnn_lemma_ft\n",
    ")\n",
    "\n",
    "# LSTM + Lemmatization + FastText\n",
    "log_results(\n",
    "    'LSTM + Lemmatization + FastText',\n",
    "    accuracy_lstm_lemma_ft,\n",
    "    precision_lstm_lemma_ft,\n",
    "    recall_lstm_lemma_ft,\n",
    "    f1_lstm_lemma_ft\n",
    ")\n",
    "\n",
    "# CNN + Stemming + FastText\n",
    "log_results(\n",
    "    'CNN + Stemming + FastText',\n",
    "    accuracy_cnn_stem_ft,\n",
    "    precision_cnn_stem_ft,\n",
    "    recall_cnn_stem_ft,\n",
    "    f1_cnn_stem_ft\n",
    ")\n",
    "\n",
    "# LSTM + Stemming + FastText\n",
    "log_results(\n",
    "    'LSTM + Stemming + FastText',\n",
    "    accuracy_lstm_stem_ft,\n",
    "    precision_lstm_stem_ft,\n",
    "    recall_lstm_stem_ft,\n",
    "    f1_lstm_stem_ft\n",
    ")\n",
    "\n",
    "# Convertir les résultats en DataFrame\n",
    "results_df = pd.DataFrame(results)\n",
    "\n",
    "# Afficher le tableau récapitulatif\n",
    "print(results_df)\n",
    "\n"
   ]
  },
  {
   "cell_type": "code",
   "execution_count": null,
   "id": "ea52d0c5-e0dd-4633-b42d-b111064e7c12",
   "metadata": {},
   "outputs": [],
   "source": []
  }
 ],
 "metadata": {
  "kernelspec": {
   "display_name": "Python 3 (ipykernel)",
   "language": "python",
   "name": "python3"
  },
  "language_info": {
   "codemirror_mode": {
    "name": "ipython",
    "version": 3
   },
   "file_extension": ".py",
   "mimetype": "text/x-python",
   "name": "python",
   "nbconvert_exporter": "python",
   "pygments_lexer": "ipython3",
   "version": "3.11.8"
  }
 },
 "nbformat": 4,
 "nbformat_minor": 5
}
