{
 "cells": [
  {
   "cell_type": "code",
   "execution_count": null,
   "id": "86f0a489-d2c1-457f-b634-c3c162fb413c",
   "metadata": {},
   "outputs": [],
   "source": [
    "# I. "
   ]
  },
  {
   "cell_type": "code",
   "execution_count": 2,
   "id": "cfdfa395-7c3c-4f50-a461-36d2dea399b2",
   "metadata": {},
   "outputs": [
    {
     "name": "stderr",
     "output_type": "stream",
     "text": [
      "[nltk_data] Downloading package punkt to\n",
      "[nltk_data]     C:\\Users\\trist\\AppData\\Roaming\\nltk_data...\n",
      "[nltk_data]   Package punkt is already up-to-date!\n",
      "[nltk_data] Downloading package wordnet to\n",
      "[nltk_data]     C:\\Users\\trist\\AppData\\Roaming\\nltk_data...\n",
      "[nltk_data]   Package wordnet is already up-to-date!\n"
     ]
    }
   ],
   "source": [
    "# Importation des bibliothèques nécessaires\n",
    "import numpy as np\n",
    "import pandas as pd\n",
    "import mlflow\n",
    "import mlflow.keras\n",
    "from sklearn.model_selection import train_test_split\n",
    "from tensorflow.keras.preprocessing.text import Tokenizer\n",
    "from tensorflow.keras.preprocessing.sequence import pad_sequences\n",
    "from gensim.models import Word2Vec\n",
    "from tensorflow.keras.layers import Embedding, LSTM, Dense, Conv1D, MaxPooling1D, Flatten, Dropout\n",
    "from tensorflow.keras.models import Sequential\n",
    "from sklearn.metrics import accuracy_score, classification_report\n",
    "import nltk\n",
    "\n",
    "# Assurez-vous que les ressources NLTK nécessaires sont téléchargées\n",
    "nltk.download('punkt')\n",
    "nltk.download('wordnet')\n",
    "\n",
    "# Charger les données déjà prétraitées\n",
    "data = pd.read_csv('../data/database_p7_rework.csv')\n",
    "\n",
    "# Paramètres de configuration\n",
    "MAX_SEQUENCE_LENGTH = 1000  # Longueur maximale des séquences\n",
    "EMBEDDING_DIM = 1000  # Dimension des vecteurs d'embedding\n",
    "VOCAB_SIZE = 100000  # Taille maximale du vocabulaire\n"
   ]
  },
  {
   "cell_type": "code",
   "execution_count": null,
   "id": "1b9cad1d-815f-44a5-bd27-bc1ee8c01b5f",
   "metadata": {},
   "outputs": [],
   "source": []
  }
 ],
 "metadata": {
  "kernelspec": {
   "display_name": "Python 3 (ipykernel)",
   "language": "python",
   "name": "python3"
  },
  "language_info": {
   "codemirror_mode": {
    "name": "ipython",
    "version": 3
   },
   "file_extension": ".py",
   "mimetype": "text/x-python",
   "name": "python",
   "nbconvert_exporter": "python",
   "pygments_lexer": "ipython3",
   "version": "3.11.8"
  }
 },
 "nbformat": 4,
 "nbformat_minor": 5
}
