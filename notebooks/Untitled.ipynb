{
 "cells": [
  {
   "cell_type": "markdown",
   "id": "7bf53791-6447-4246-b718-be3cdd68306b",
   "metadata": {},
   "source": [
    "# Importation des Bibliothèques"
   ]
  },
  {
   "cell_type": "code",
   "execution_count": 5,
   "id": "8634e3e3-3839-451e-bb01-6c38ae23edac",
   "metadata": {},
   "outputs": [
    {
     "name": "stderr",
     "output_type": "stream",
     "text": [
      "[nltk_data] Downloading package punkt to\n",
      "[nltk_data]     C:\\Users\\trist\\AppData\\Roaming\\nltk_data...\n",
      "[nltk_data]   Package punkt is already up-to-date!\n",
      "[nltk_data] Downloading package wordnet to\n",
      "[nltk_data]     C:\\Users\\trist\\AppData\\Roaming\\nltk_data...\n",
      "[nltk_data]   Package wordnet is already up-to-date!\n"
     ]
    }
   ],
   "source": [
    "import mlflow\n",
    "import mlflow.sklearn\n",
    "import pandas as pd\n",
    "import re\n",
    "import nltk\n",
    "from sklearn.feature_extraction.text import CountVectorizer, TfidfVectorizer\n",
    "from sklearn.linear_model import LogisticRegression\n",
    "from sklearn.model_selection import train_test_split\n",
    "from sklearn.metrics import accuracy_score, classification_report\n",
    "from nltk.stem import WordNetLemmatizer, PorterStemmer\n",
    "\n",
    "# Assurez-vous que les ressources NLTK nécessaires sont téléchargées\n",
    "nltk.download('punkt')\n",
    "nltk.download('wordnet')\n",
    "\n",
    "# Initialisation de la lemmatisation et du stemming\n",
    "lemmatizer = WordNetLemmatizer()\n",
    "stemmer = PorterStemmer()\n"
   ]
  },
  {
   "cell_type": "markdown",
   "id": "0a88b19c-5487-4c7f-a6b7-50dc05b435f0",
   "metadata": {},
   "source": [
    "## Fonction de Prétraitement du Texte"
   ]
  },
  {
   "cell_type": "markdown",
   "id": "981c5bd5-9900-49d7-a7f3-122d60a9502a",
   "metadata": {},
   "source": [
    "Nous définissons deux versions de la fonction de prétraitement : l'une utilisant la lemmatisation, l'autre utilisant le stemming."
   ]
  },
  {
   "cell_type": "code",
   "execution_count": 7,
   "id": "6ab611c8-bf06-4d2d-aa91-39ef1e70e91b",
   "metadata": {},
   "outputs": [],
   "source": [
    "# Fonction de prétraitement avec lemmatisation\n",
    "def preprocess_text_lemmatize(text):\n",
    "    # Convertir en minuscules\n",
    "    text = text.lower()\n",
    "    # Supprimer les caractères spéciaux\n",
    "    text = re.sub(r'\\W', ' ', text)\n",
    "    text = re.sub(r'\\s+', ' ', text)\n",
    "    # Lemmatisation\n",
    "    words = nltk.word_tokenize(text)\n",
    "    text = ' '.join([lemmatizer.lemmatize(word) for word in words])\n",
    "    return text\n",
    "\n",
    "# Fonction de prétraitement avec stemming\n",
    "def preprocess_text_stem(text):\n",
    "    # Convertir en minuscules\n",
    "    text = text.lower()\n",
    "    # Supprimer les caractères spéciaux\n",
    "    text = re.sub(r'\\W', ' ', text)\n",
    "    text = re.sub(r'\\s+', ' ', text)\n",
    "    # Stemming\n",
    "    words = nltk.word_tokenize(text)\n",
    "    text = ' '.join([stemmer.stem(word) for word in words])\n",
    "    return text\n"
   ]
  },
  {
   "cell_type": "markdown",
   "id": "380593cb-98be-405d-9956-292cb9c5f7a7",
   "metadata": {},
   "source": [
    "# Chargement et Prétraitement des Données"
   ]
  },
  {
   "cell_type": "markdown",
   "id": "42967e8d-ff2e-44fc-9e5e-ba439e17fc7d",
   "metadata": {},
   "source": [
    "Nous allons maintenant charger les données et appliquer les deux méthodes de prétraitement séparément, en stockant les résultats dans deux colonnes distinctes."
   ]
  },
  {
   "cell_type": "code",
   "execution_count": 9,
   "id": "da6c1ee9-e037-4699-a6bc-47dab8e59d4a",
   "metadata": {},
   "outputs": [],
   "source": [
    "# Charger les données\n",
    "data = pd.read_csv('../data/database_p7_rework.csv')\n",
    "\n",
    "# Appliquer la lemmatisation\n",
    "data['text_lemmatized'] = data['text'].apply(preprocess_text_lemmatize)\n",
    "\n",
    "# Appliquer le stemming\n",
    "data['text_stemmed'] = data['text'].apply(preprocess_text_stem)\n"
   ]
  },
  {
   "cell_type": "code",
   "execution_count": null,
   "id": "e5228c96-e051-46b9-ae41-1c14bf52e999",
   "metadata": {},
   "outputs": [],
   "source": []
  }
 ],
 "metadata": {
  "kernelspec": {
   "display_name": "Python 3 (ipykernel)",
   "language": "python",
   "name": "python3"
  },
  "language_info": {
   "codemirror_mode": {
    "name": "ipython",
    "version": 3
   },
   "file_extension": ".py",
   "mimetype": "text/x-python",
   "name": "python",
   "nbconvert_exporter": "python",
   "pygments_lexer": "ipython3",
   "version": "3.11.8"
  }
 },
 "nbformat": 4,
 "nbformat_minor": 5
}
