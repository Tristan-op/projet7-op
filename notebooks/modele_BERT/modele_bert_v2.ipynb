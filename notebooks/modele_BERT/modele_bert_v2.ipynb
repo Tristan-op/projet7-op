{
 "cells": [
  {
   "cell_type": "markdown",
   "id": "0eee547d-d095-4364-b0ad-543b85bf7f67",
   "metadata": {},
   "source": [
    "# Introduction\r\n",
    "\r\n",
    "## Objectif du Notebook\r\n",
    "\r\n",
    "L'objectif de ce notebook est de développer et d'évaluer des modèles d'analyse de sentiments en utilisant **BERT** (Bidirectional Encoder Representations from Transformers), tout en comparant différentes versions des données textuelles : avec et sans pré-traitements (lemmatisation et stemming). BERT, étant un modèle pré-entraîné puissant, nous permet de capturer les relations contextuelles entre les mots dans un texte. En parallèle, nous allons comparer les performances des modèles CNN et LSTM entraînés sur des textes bruts et pré-traités.\r\n",
    "\r\n",
    "## Présentation de la Méthode BERT\r\n",
    "\r\n",
    "BERT est un modèle de traitement du langage naturel basé sur une architecture de **Transformers**, permettant de capturer de manière bidirectionnelle les relations entre les mots. BERT est particulièrement efficace pour des tâches telles que l'analyse de sentiments car il tient compte du contexte des mots dans les phrases, contrairement aux modèles classiques comme Word2Vec qui sont unidirectionnels.\r\n",
    "\r\n",
    "### BERT (Bidirectional Encoder Representations from Transformers)\r\n",
    "\r\n",
    "BERT prend en compte le contexte avant et après un mot pour créer des représentations contextuelles riches. C'est pourquoi il est très performant pour des tâches de compréhension sémantique, comme la classification de sentiments, où l'interprétation d'un mot dépend de son contexte global.\r\n",
    "\r\n",
    "### Comparaison avec et sans Pré-traitements (Lemmatisation et Stemming)\r\n",
    "\r\n",
    "Dans ce notebook, nous utiliserons à la fois :\r\n",
    "- **Les textes pré-traités** (lemmatisation et stemming) : Ces techniques consistent à ramener les mots à leur forme de base ou à leur racine pour réduire la variabilité linguistique. Cela permet de simplifier les phrases avant de les soumettre à BERT.\r\n",
    "- **Les textes bruts** : Sans aucun pré-traitement linguistique, laissant à BERT la capacité d'analyser les mots dans leur forme originale et de capturer les nuances du langage.\r\n",
    "\r\n",
    "L'objectif est de comparer l'impact du pré-traitement sur les performances du modèle BERT.\r\n",
    "\r\n",
    "## Plan du Notebook\r\n",
    "\r\n",
    "1. **Chargement et Préparation des Données** : Nous allons charger les données, les nettoyer, les tokeniser, et les préparer sous trois formats : brut, lemmatisé et stemmé.\r\n",
    "2. **Tokenisation avec BERT** : Nous utiliserons le tokenizer BERT pour convertir les trois versions de textes en tokens adaptés au modèle BERT.\r\n",
    "3. **Utilisation de BERT** : Nous extrairons des embeddings contextuels à partir du modèle BERT pour chaque version des données.\r\n",
    "4. **Construction des Modèles CNN et LSTM** : Nous entraînerons deux types de modèles (CNN et LSTM) sur les embeddings extraits de BERT pour chaque version de données.\r\n",
    "5. **Entraînement des Modèles** : Nous entraînerons les modèles sur les différentes versions des embeddings BERT.\r\n",
    "6. **Comparaison des Modèles** : Nous comparerons les performances des modèles CNN et LSTM avec les embeddings BERT pour les données brutes, lemmatisées et stemmées.\r\n",
    "7. **Export du Meilleur Modèle** : Nous exporterons le modèle le plus performant pour une utilisation future dans une API de prédiction.\r\n"
   ]
  },
  {
   "cell_type": "markdown",
   "id": "27b06c2d-a906-4bc0-9671-d17f37ca444e",
   "metadata": {},
   "source": [
    "# 1. Importation des Bibliothèques"
   ]
  },
  {
   "cell_type": "code",
   "execution_count": 4,
   "id": "b4d6b57f-afaf-42b2-8a82-95ec5280fdb3",
   "metadata": {},
   "outputs": [],
   "source": [
    "import numpy as np\n",
    "import pandas as pd\n",
    "import mlflow\n",
    "import mlflow.keras\n",
    "from sklearn.model_selection import train_test_split\n",
    "from keras.models import Sequential\n",
    "from keras.layers import Dense, Dropout\n",
    "from keras.optimizers import Adam\n",
    "from sklearn.metrics import classification_report, confusion_matrix\n",
    "import matplotlib.pyplot as plt\n",
    "import seaborn as sns\n",
    "from transformers import BertTokenizer, TFBertModel\n"
   ]
  },
  {
   "cell_type": "markdown",
   "id": "6d7f43e4-1b2a-44dd-9f34-cdcc0e25c028",
   "metadata": {},
   "source": [
    "# 2. Chargement des Données"
   ]
  },
  {
   "cell_type": "code",
   "execution_count": 6,
   "id": "866990a8-50a0-4856-9c67-ce0f2796da95",
   "metadata": {},
   "outputs": [
    {
     "name": "stdout",
     "output_type": "stream",
     "text": [
      "0    800000\n",
      "1    798315\n",
      "Name: target_binary, dtype: int64\n"
     ]
    }
   ],
   "source": [
    "# Charger les données (en supposant que vous avez déjà les colonnes nettoyées)\n",
    "data = pd.read_csv('../data/database_p7_rework.csv')\n",
    "\n",
    "# Transformation des labels : 0 reste 0 et 4 devient 1\n",
    "data['target_binary'] = data['target'].apply(lambda x: 0 if x == 0 else 1)\n",
    "\n",
    "# Vérification des transformations\n",
    "print(data['target_binary'].value_counts())\n",
    "\n",
    "# Ensuite, définissez y comme suit :\n",
    "y = data['target_binary']"
   ]
  },
  {
   "cell_type": "markdown",
   "id": "66521c0d-02bd-4dd7-9e21-b4ccf09838ab",
   "metadata": {},
   "source": [
    "# 3. Préparation des Données\n",
    "Tokenization avec BERT"
   ]
  },
  {
   "cell_type": "code",
   "execution_count": 18,
   "id": "4714e1f5-06a4-4f3c-9acc-0bfed02f8185",
   "metadata": {},
   "outputs": [
    {
     "name": "stderr",
     "output_type": "stream",
     "text": [
      "D:\\Master_Openclassroom\\python\\Lib\\site-packages\\transformers\\tokenization_utils_base.py:1601: FutureWarning: `clean_up_tokenization_spaces` was not set. It will be set to `True` by default. This behavior will be depracted in transformers v4.45, and will be then set to `False` by default. For more details check this issue: https://github.com/huggingface/transformers/issues/31884\n",
      "  warnings.warn(\n"
     ]
    },
    {
     "name": "stdout",
     "output_type": "stream",
     "text": [
      "Données préparées avec succès.\n"
     ]
    }
   ],
   "source": [
    "from transformers import BertTokenizer\n",
    "\n",
    "# Initialisation du tokenizer BERT pré-entraîné pour les textes en minuscules et sans caractères spéciaux\n",
    "tokenizer = BertTokenizer.from_pretrained('bert-base-uncased')\n",
    "\n",
    "# Fonction pour préparer les séquences BERT\n",
    "def prepare_sequences_bert(texts, tokenizer, maxlen=100):\n",
    "    return tokenizer(texts.tolist(), padding='max_length', truncation=True, max_length=maxlen, return_tensors='tf')\n",
    "\n",
    "# Sélection d'un échantillon équilibré de 16 000 données (8 000 par classe)\n",
    "sample_data = data.groupby('target_binary', group_keys=False).apply(lambda x: x.sample(8000, random_state=42))\n",
    "\n",
    "# Préparation des séquences avec une longueur max de 100\n",
    "X_cleaned_sample = prepare_sequences_bert(sample_data['text_cleaned'], tokenizer, maxlen=100)\n",
    "\n",
    "# Cible (target) - identique pour toutes les variantes\n",
    "y_sample = sample_data['target_binary'].values\n",
    "\n",
    "print(\"Données préparées avec succès.\")\n"
   ]
  },
  {
   "cell_type": "code",
   "execution_count": 20,
   "id": "7cb38c73-5e7f-40b8-9ebf-9db5455a631d",
   "metadata": {},
   "outputs": [
    {
     "name": "stderr",
     "output_type": "stream",
     "text": [
      "Some weights of the PyTorch model were not used when initializing the TF 2.0 model TFBertModel: ['cls.seq_relationship.weight', 'cls.predictions.bias', 'cls.predictions.transform.LayerNorm.weight', 'cls.predictions.transform.dense.bias', 'cls.predictions.transform.LayerNorm.bias', 'cls.seq_relationship.bias', 'cls.predictions.transform.dense.weight']\n",
      "- This IS expected if you are initializing TFBertModel from a PyTorch model trained on another task or with another architecture (e.g. initializing a TFBertForSequenceClassification model from a BertForPreTraining model).\n",
      "- This IS NOT expected if you are initializing TFBertModel from a PyTorch model that you expect to be exactly identical (e.g. initializing a TFBertForSequenceClassification model from a BertForSequenceClassification model).\n",
      "All the weights of TFBertModel were initialized from the PyTorch model.\n",
      "If your task is similar to the task the model of the checkpoint was trained on, you can already use TFBertModel for predictions without further training.\n"
     ]
    },
    {
     "name": "stdout",
     "output_type": "stream",
     "text": [
      "Modèle BERT chargé avec succès.\n"
     ]
    }
   ],
   "source": [
    "from transformers import TFBertModel\n",
    "\n",
    "# Charger le modèle BERT pré-entraîné\n",
    "bert_model = TFBertModel.from_pretrained('bert-base-uncased')\n",
    "\n",
    "print(\"Modèle BERT chargé avec succès.\")\n"
   ]
  },
  {
   "cell_type": "code",
   "execution_count": 22,
   "id": "00436f0c-009f-49ba-9e47-08beb5eaf829",
   "metadata": {},
   "outputs": [],
   "source": [
    "import tensorflow as tf\n",
    "\n",
    "# Fonction pour extraire les embeddings à partir de BERT par batchs\n",
    "def get_bert_embeddings_in_batches(sequences, attention_mask, bert_model, batch_size=32):\n",
    "    embeddings = []\n",
    "    for i in range(0, len(sequences), batch_size):\n",
    "        batch_sequences = sequences[i:i + batch_size]\n",
    "        batch_mask = attention_mask[i:i + batch_size]\n",
    "        # Générer les embeddings pour chaque batch\n",
    "        batch_embeddings = bert_model(batch_sequences, attention_mask=batch_mask).last_hidden_state\n",
    "        embeddings.append(batch_embeddings)\n",
    "    return tf.concat(embeddings, axis=0)\n"
   ]
  },
  {
   "cell_type": "code",
   "execution_count": 30,
   "id": "06ead7bd-d577-4c05-ad2a-5b7f9ab3c009",
   "metadata": {},
   "outputs": [
    {
     "name": "stdout",
     "output_type": "stream",
     "text": [
      "Générateurs d'entraînement et de test créés.\n"
     ]
    }
   ],
   "source": [
    "from sklearn.model_selection import train_test_split\n",
    "\n",
    "# Récupérer les input_ids et attention_mask des séquences préparées\n",
    "X_cleaned_sample_input_ids = X_cleaned_sample['input_ids'].numpy()  # Convertir en numpy\n",
    "X_cleaned_sample_attention_mask = X_cleaned_sample['attention_mask'].numpy()  # Convertir en numpy\n",
    "\n",
    "# Split en données d'entraînement et de test avec stratification\n",
    "X_train_cleaned_ids, X_test_cleaned_ids, y_train_cleaned, y_test_cleaned = train_test_split(\n",
    "    X_cleaned_sample_input_ids, y_sample, test_size=0.2, random_state=42, stratify=y_sample)\n",
    "\n",
    "X_train_mask, X_test_mask = train_test_split(\n",
    "    X_cleaned_sample_attention_mask, test_size=0.2, random_state=42, stratify=y_sample)\n",
    "\n",
    "print(\"Données scindées en ensemble d'entraînement et de test.\")\n"
   ]
  },
  {
   "cell_type": "code",
   "execution_count": 34,
   "id": "a36fb1d0-0283-43a9-9ab9-066869a18d1c",
   "metadata": {},
   "outputs": [
    {
     "ename": "TypeError",
     "evalue": "object of type 'generator' has no len()",
     "output_type": "error",
     "traceback": [
      "\u001b[1;31m---------------------------------------------------------------------------\u001b[0m",
      "\u001b[1;31mTypeError\u001b[0m                                 Traceback (most recent call last)",
      "Cell \u001b[1;32mIn[34], line 15\u001b[0m\n\u001b[0;32m     12\u001b[0m     \u001b[38;5;28;01mreturn\u001b[39;00m tf\u001b[38;5;241m.\u001b[39mconcat(embeddings, axis\u001b[38;5;241m=\u001b[39m\u001b[38;5;241m0\u001b[39m)\n\u001b[0;32m     14\u001b[0m \u001b[38;5;66;03m# Générer les embeddings pour les ensembles d'entraînement et de test\u001b[39;00m\n\u001b[1;32m---> 15\u001b[0m X_train_embeddings \u001b[38;5;241m=\u001b[39m get_bert_embeddings_in_batches(train_generator, bert_model, batch_size\u001b[38;5;241m=\u001b[39m\u001b[38;5;241m32\u001b[39m)\n\u001b[0;32m     16\u001b[0m X_test_embeddings \u001b[38;5;241m=\u001b[39m get_bert_embeddings_in_batches(test_generator, bert_model, batch_size\u001b[38;5;241m=\u001b[39m\u001b[38;5;241m32\u001b[39m)\n\u001b[0;32m     18\u001b[0m \u001b[38;5;28mprint\u001b[39m(\u001b[38;5;124m\"\u001b[39m\u001b[38;5;124mEmbeddings BERT générés pour les ensembles d\u001b[39m\u001b[38;5;124m'\u001b[39m\u001b[38;5;124mentraînement et de test.\u001b[39m\u001b[38;5;124m\"\u001b[39m)\n",
      "Cell \u001b[1;32mIn[34], line 10\u001b[0m, in \u001b[0;36mget_bert_embeddings_in_batches\u001b[1;34m(generator, bert_model, batch_size)\u001b[0m\n\u001b[0;32m      8\u001b[0m     batch_embeddings \u001b[38;5;241m=\u001b[39m bert_model(batch_input_ids, attention_mask\u001b[38;5;241m=\u001b[39mbatch_attention_mask)\u001b[38;5;241m.\u001b[39mlast_hidden_state\n\u001b[0;32m      9\u001b[0m     embeddings\u001b[38;5;241m.\u001b[39mappend(batch_embeddings)\n\u001b[1;32m---> 10\u001b[0m     \u001b[38;5;28;01mif\u001b[39;00m \u001b[38;5;28mlen\u001b[39m(embeddings) \u001b[38;5;241m*\u001b[39m batch_size \u001b[38;5;241m>\u001b[39m\u001b[38;5;241m=\u001b[39m \u001b[38;5;28mlen\u001b[39m(generator):\n\u001b[0;32m     11\u001b[0m         \u001b[38;5;28;01mbreak\u001b[39;00m  \u001b[38;5;66;03m# Arrêter quand toutes les données sont traitées\u001b[39;00m\n\u001b[0;32m     12\u001b[0m \u001b[38;5;28;01mreturn\u001b[39;00m tf\u001b[38;5;241m.\u001b[39mconcat(embeddings, axis\u001b[38;5;241m=\u001b[39m\u001b[38;5;241m0\u001b[39m)\n",
      "\u001b[1;31mTypeError\u001b[0m: object of type 'generator' has no len()"
     ]
    }
   ],
   "source": [
    "# Générer les embeddings pour les ensembles d'entraînement et de test\n",
    "X_train_embeddings = get_bert_embeddings_in_batches(train_generator, bert_model, batch_size=32)\n",
    "X_test_embeddings = get_bert_embeddings_in_batches(test_generator, bert_model, batch_size=32)\n",
    "\n",
    "print(\"Embeddings BERT générés pour les ensembles d'entraînement et de test.\")"
   ]
  },
  {
   "cell_type": "markdown",
   "id": "a6fb25f8-8675-4087-885d-8719cfa87b80",
   "metadata": {},
   "source": [
    "# Construction des modèles CNN et LSTM avec BERT"
   ]
  },
  {
   "cell_type": "code",
   "execution_count": 212,
   "id": "14b77c4b-dad4-4ad5-803e-6f047b03ef65",
   "metadata": {},
   "outputs": [],
   "source": [
    "from tensorflow.keras.layers import Dense, Dropout, LeakyReLU, BatchNormalization\n",
    "from tensorflow.keras.models import Sequential\n",
    "\n",
    "# Fonction pour créer un modèle avec Dense, sans Conv1D\n",
    "def create_cnn_model(input_shape):\n",
    "    model = Sequential()\n",
    "    model.add(Dense(256, activation='relu', input_shape=input_shape))  # Suppression de Conv1D, utilisation de Dense\n",
    "    model.add(BatchNormalization())  # Ajout de BatchNorm\n",
    "    model.add(Dense(128))\n",
    "    model.add(LeakyReLU(alpha=0.1))  # Remplacer ReLU par LeakyReLU\n",
    "    model.add(Dropout(0.5))  # Dropout plus fort\n",
    "    model.add(Dense(1, activation='sigmoid'))\n",
    "    model.compile(optimizer='adam', loss='binary_crossentropy', metrics=['accuracy'])\n",
    "    return model\n"
   ]
  },
  {
   "cell_type": "code",
   "execution_count": 341,
   "id": "75d6ce06-4d55-4f8f-adb9-51deccc27675",
   "metadata": {},
   "outputs": [],
   "source": [
    "from tensorflow.keras.layers import LSTM, Bidirectional, BatchNormalization, Dense, Dropout\n",
    "from tensorflow.keras.models import Sequential\n",
    "\n",
    "# Fonction pour créer un modèle LSTM sans la couche d'embedding, car les embeddings BERT sont déjà calculés\n",
    "def create_lstm_model(input_shape):\n",
    "    model = Sequential()\n",
    "    model.add(Bidirectional(LSTM(256, dropout=0.3, recurrent_dropout=0.3, input_shape=input_shape)))  # LSTM bidirectionnel\n",
    "    model.add(BatchNormalization())  # Ajout de BatchNorm\n",
    "    model.add(Dense(128, activation='relu'))\n",
    "    model.add(Dropout(0.4))  # Augmenter Dropout\n",
    "    model.add(Dense(64, activation='relu'))  # Couche Dense supplémentaire\n",
    "    model.add(Dropout(0.3))\n",
    "    model.add(Dense(1, activation='sigmoid'))\n",
    "    model.compile(optimizer='adam', loss='binary_crossentropy', metrics=['accuracy'])\n",
    "    return model\n"
   ]
  },
  {
   "cell_type": "markdown",
   "id": "a9913725-55b9-4ec4-a950-aa1bd2557f7f",
   "metadata": {},
   "source": [
    "# 4 Evaluation des modèles avec MLflow"
   ]
  },
  {
   "cell_type": "code",
   "execution_count": 218,
   "id": "72c802d8-ef5e-4422-a8bc-ac99abfb0b94",
   "metadata": {},
   "outputs": [],
   "source": [
    "# Définir le dossier racine où vous voulez enregistrer les artefacts MLflow\n",
    "base_dir = os.path.join(\"..\", \"mlruns\")\n",
    "\n",
    "# Fonction pour configurer MLflow pour chaque modèle\n",
    "def configure_mlflow(model_name):\n",
    "    mlflow_base_dir = os.path.join(base_dir, model_name)\n",
    "    if not os.path.exists(mlflow_base_dir):\n",
    "        os.makedirs(mlflow_base_dir)\n",
    "    mlflow.set_tracking_uri(f\"file:///{mlflow_base_dir.replace(os.sep, '/')}\")\n"
   ]
  },
  {
   "cell_type": "code",
   "execution_count": 312,
   "id": "fb9149e9-faa4-4049-909b-353d7c3f60af",
   "metadata": {},
   "outputs": [],
   "source": [
    "import numpy as np\n",
    "\n",
    "def preprocess_data(X):\n",
    "    \"\"\"\n",
    "    Vérifie et formate les données pour qu'elles aient la forme (batch_size, 1, 768).\n",
    "    \n",
    "    Args:\n",
    "    - X : ndarray, les données d'entrée\n",
    "    \n",
    "    Returns:\n",
    "    - X : ndarray, les données d'entrée avec la forme (batch_size, 1, 768)\n",
    "    \"\"\"\n",
    "    # Suppression de toutes les dimensions inutiles, mais en conservant (batch_size, 1, 768)\n",
    "    while len(X.shape) > 3:\n",
    "        X = np.squeeze(X, axis=1)  # Supprimer les dimensions inutiles à 1 jusqu'à avoir (batch_size, 1, 768)\n",
    "\n",
    "    # Si X est sous forme (batch_size, 768), ajouter une dimension pour avoir (batch_size, 1, 768)\n",
    "    if len(X.shape) == 2 and X.shape[1] == 768:\n",
    "        X = np.expand_dims(X, axis=1)\n",
    "    \n",
    "    # Vérification finale pour s'assurer que la forme est correcte\n",
    "    if len(X.shape) == 3 and X.shape[1] == 1 and X.shape[2] == 768:\n",
    "        return X\n",
    "    else:\n",
    "        raise ValueError(f\"Forme inattendue des données : {X.shape}. Attendu (batch_size, 1, 768).\")\n"
   ]
  },
  {
   "cell_type": "code",
   "execution_count": 330,
   "id": "09844f44-4d0e-4f4f-9058-a204bbdd495e",
   "metadata": {},
   "outputs": [],
   "source": [
    "# Supposons que X_train_stem ait une forme incorrecte (1278652, 1, 1, 1, 1, 1, 768)\n",
    "X_train_stem = preprocess_data(X_train_stem)  # Met les données sous la forme (batch_size, 1, 768)\n",
    "X_test_stem = preprocess_data(X_test_stem)\n",
    "\n",
    "# De même pour les données lemmatisées\n",
    "X_train_lemma = preprocess_data(X_train_lemma)\n",
    "X_test_lemma = preprocess_data(X_test_lemma)\n"
   ]
  },
  {
   "cell_type": "code",
   "execution_count": 332,
   "id": "25036bea-f4e3-4555-a392-2f92732a8794",
   "metadata": {},
   "outputs": [
    {
     "name": "stdout",
     "output_type": "stream",
     "text": [
      "(1278652, 1, 768)\n",
      "(1278652, 1, 768)\n",
      "(319663, 1, 768)\n",
      "(319663, 1, 768)\n"
     ]
    }
   ],
   "source": [
    "print(X_train_lemma.shape)\n",
    "print(X_train_stem.shape)\n",
    "print(X_test_stem.shape)\n",
    "print(X_test_lemma.shape)"
   ]
  },
  {
   "cell_type": "markdown",
   "id": "f1a0fd56-11de-4da1-9e9f-ee80d5c4d083",
   "metadata": {},
   "source": [
    "## 4.1 Modele cnn_model_lemma_bert"
   ]
  },
  {
   "cell_type": "code",
   "execution_count": 335,
   "id": "8985abee-567b-4e8b-a650-490ddb531362",
   "metadata": {},
   "outputs": [
    {
     "name": "stderr",
     "output_type": "stream",
     "text": [
      "D:\\Master_Openclassroom\\python\\Lib\\site-packages\\keras\\src\\layers\\core\\dense.py:87: UserWarning: Do not pass an `input_shape`/`input_dim` argument to a layer. When using Sequential models, prefer using an `Input(shape)` object as the first layer in the model instead.\n",
      "  super().__init__(activity_regularizer=activity_regularizer, **kwargs)\n",
      "D:\\Master_Openclassroom\\python\\Lib\\site-packages\\keras\\src\\layers\\activations\\leaky_relu.py:41: UserWarning: Argument `alpha` is deprecated. Use `negative_slope` instead.\n",
      "  warnings.warn(\n"
     ]
    },
    {
     "name": "stdout",
     "output_type": "stream",
     "text": [
      "Epoch 1/10\n",
      "\u001b[1m31967/31967\u001b[0m \u001b[32m━━━━━━━━━━━━━━━━━━━━\u001b[0m\u001b[37m\u001b[0m \u001b[1m156s\u001b[0m 5ms/step - accuracy: 0.7655 - loss: 0.4883 - val_accuracy: 0.7889 - val_loss: 0.4495\n",
      "Epoch 2/10\n",
      "\u001b[1m31967/31967\u001b[0m \u001b[32m━━━━━━━━━━━━━━━━━━━━\u001b[0m\u001b[37m\u001b[0m \u001b[1m155s\u001b[0m 5ms/step - accuracy: 0.7835 - loss: 0.4598 - val_accuracy: 0.7918 - val_loss: 0.4443\n",
      "Epoch 3/10\n",
      "\u001b[1m31967/31967\u001b[0m \u001b[32m━━━━━━━━━━━━━━━━━━━━\u001b[0m\u001b[37m\u001b[0m \u001b[1m156s\u001b[0m 5ms/step - accuracy: 0.7881 - loss: 0.4530 - val_accuracy: 0.7931 - val_loss: 0.4421\n",
      "Epoch 4/10\n",
      "\u001b[1m31967/31967\u001b[0m \u001b[32m━━━━━━━━━━━━━━━━━━━━\u001b[0m\u001b[37m\u001b[0m \u001b[1m156s\u001b[0m 5ms/step - accuracy: 0.7898 - loss: 0.4486 - val_accuracy: 0.7907 - val_loss: 0.4451\n",
      "Epoch 5/10\n",
      "\u001b[1m31967/31967\u001b[0m \u001b[32m━━━━━━━━━━━━━━━━━━━━\u001b[0m\u001b[37m\u001b[0m \u001b[1m154s\u001b[0m 5ms/step - accuracy: 0.7914 - loss: 0.4453 - val_accuracy: 0.7958 - val_loss: 0.4376\n",
      "Epoch 6/10\n",
      "\u001b[1m31967/31967\u001b[0m \u001b[32m━━━━━━━━━━━━━━━━━━━━\u001b[0m\u001b[37m\u001b[0m \u001b[1m154s\u001b[0m 5ms/step - accuracy: 0.7926 - loss: 0.4428 - val_accuracy: 0.7965 - val_loss: 0.4352\n",
      "Epoch 7/10\n",
      "\u001b[1m31967/31967\u001b[0m \u001b[32m━━━━━━━━━━━━━━━━━━━━\u001b[0m\u001b[37m\u001b[0m \u001b[1m155s\u001b[0m 5ms/step - accuracy: 0.7947 - loss: 0.4400 - val_accuracy: 0.7958 - val_loss: 0.4371\n",
      "Epoch 8/10\n",
      "\u001b[1m31967/31967\u001b[0m \u001b[32m━━━━━━━━━━━━━━━━━━━━\u001b[0m\u001b[37m\u001b[0m \u001b[1m157s\u001b[0m 5ms/step - accuracy: 0.7945 - loss: 0.4404 - val_accuracy: 0.7958 - val_loss: 0.4362\n",
      "Epoch 9/10\n",
      "\u001b[1m31967/31967\u001b[0m \u001b[32m━━━━━━━━━━━━━━━━━━━━\u001b[0m\u001b[37m\u001b[0m \u001b[1m157s\u001b[0m 5ms/step - accuracy: 0.7957 - loss: 0.4375 - val_accuracy: 0.7979 - val_loss: 0.4340\n",
      "Epoch 10/10\n",
      "\u001b[1m31967/31967\u001b[0m \u001b[32m━━━━━━━━━━━━━━━━━━━━\u001b[0m\u001b[37m\u001b[0m \u001b[1m156s\u001b[0m 5ms/step - accuracy: 0.7963 - loss: 0.4376 - val_accuracy: 0.7964 - val_loss: 0.4354\n"
     ]
    },
    {
     "name": "stderr",
     "output_type": "stream",
     "text": [
      "2024/09/22 19:27:53 WARNING mlflow.keras.save: You are saving a Keras model without specifying model signature.\n",
      "2024/09/22 19:27:57 WARNING mlflow.models.model: Model logged without a signature and input example. Please set `input_example` parameter when logging the model to auto infer the model signature.\n"
     ]
    },
    {
     "name": "stdout",
     "output_type": "stream",
     "text": [
      "\u001b[1m9990/9990\u001b[0m \u001b[32m━━━━━━━━━━━━━━━━━━━━\u001b[0m\u001b[37m\u001b[0m \u001b[1m8s\u001b[0m 765us/step\n",
      "Shape of y_test_lemma: (319663,)\n",
      "Shape of y_pred_cnn_lemma_bert: (319663,)\n",
      "Accuracy: 0.7963230026621786\n",
      "Precision: 0.8098088773662337\n",
      "Recall: 0.7758756272311955\n",
      "F1 Score: 0.7924791707836376\n"
     ]
    },
    {
     "data": {
      "image/png": "[encoded data removed]",
      "text/plain": [
       "<Figure size 1000x700 with 2 Axes>"
      ]
     },
     "metadata": {},
     "output_type": "display_data"
    }
   ],
   "source": [
    "\n",
    "# Vérification de la forme d'entrée\n",
    "input_shape = (1, 768)  # Longueur de la séquence (1), Taille de l'embedding (768)\n",
    "\n",
    "import matplotlib.pyplot as plt\n",
    "import seaborn as sns\n",
    "from sklearn.metrics import accuracy_score, precision_score, recall_score, f1_score, confusion_matrix\n",
    "import mlflow\n",
    "\n",
    "# Entraînement et évaluation du modèle CNN avec les données lemmatisées\n",
    "model_name = \"cnn_model_lemma_bert\"\n",
    "model = create_cnn_model(input_shape=input_shape)  # Utilisation des caractéristiques BERT pré-calculées\n",
    "\n",
    "configure_mlflow(model_name)\n",
    "\n",
    "with mlflow.start_run():\n",
    "    # Entraînement du modèle avec validation\n",
    "    history = model.fit(X_train_lemma, y_train_lemma, batch_size=32, epochs=10, validation_split=0.2)\n",
    "    \n",
    "    # Enregistrer le modèle dans MLflow\n",
    "    mlflow.keras.log_model(model, model_name)\n",
    "    \n",
    "    # Faire des prédictions\n",
    "    y_test_lemma = y_test_lemma.astype(\"int32\")  # S'assurer que y_test_lemma est de type int32\n",
    "    y_pred_cnn_lemma_bert = (model.predict(X_test_lemma) > 0.5).astype(\"int32\")  # Convertir les prédictions en binaire (0/1)\n",
    "    \n",
    "    # Suppression des dimensions inutiles dans y_pred_cnn_lemma_bert\n",
    "    y_pred_cnn_lemma_bert = np.squeeze(y_pred_cnn_lemma_bert)  # Transforme (319663, 1, 1) en (319663,)\n",
    "    \n",
    "    # Vérification des formes après squeeze\n",
    "    print(f\"Shape of y_test_lemma: {y_test_lemma.shape}\")\n",
    "    print(f\"Shape of y_pred_cnn_lemma_bert: {y_pred_cnn_lemma_bert.shape}\")\n",
    "    \n",
    "    # Calcul des métriques de performance\n",
    "    accuracy_cnn_lemma_bert = accuracy_score(y_test_lemma, y_pred_cnn_lemma_bert)\n",
    "    precision_cnn_lemma_bert = precision_score(y_test_lemma, y_pred_cnn_lemma_bert)\n",
    "    recall_cnn_lemma_bert = recall_score(y_test_lemma, y_pred_cnn_lemma_bert)\n",
    "    f1_cnn_lemma_bert = f1_score(y_test_lemma, y_pred_cnn_lemma_bert)\n",
    "    \n",
    "    # Affichage des résultats\n",
    "    print(f\"Accuracy: {accuracy_cnn_lemma_bert}\")\n",
    "    print(f\"Precision: {precision_cnn_lemma_bert}\")\n",
    "    print(f\"Recall: {recall_cnn_lemma_bert}\")\n",
    "    print(f\"F1 Score: {f1_cnn_lemma_bert}\")\n",
    "    \n",
    "    # Enregistrer les métriques dans MLflow\n",
    "    mlflow.log_metric(\"accuracy\", accuracy_cnn_lemma_bert)\n",
    "    mlflow.log_metric(\"precision\", precision_cnn_lemma_bert)\n",
    "    mlflow.log_metric(\"recall\", recall_cnn_lemma_bert)\n",
    "    mlflow.log_metric(\"f1_score\", f1_cnn_lemma_bert)\n",
    "    \n",
    "    # Créer et afficher la matrice de confusion\n",
    "    cm = confusion_matrix(y_test_lemma, y_pred_cnn_lemma_bert)\n",
    "    plt.figure(figsize=(10, 7))\n",
    "    sns.heatmap(cm, annot=True, fmt='d')\n",
    "    plt.title(f\"Confusion Matrix: {model_name}\")\n",
    "    plt.xlabel(\"Predicted\")\n",
    "    plt.ylabel(\"Actual\")\n",
    "    plt.show()\n"
   ]
  },
  {
   "cell_type": "markdown",
   "id": "12e7ea26-afbd-4ad9-a608-d837e3d2899f",
   "metadata": {},
   "source": [
    "## 4.2 Modele cnn_model_stem_bert"
   ]
  },
  {
   "cell_type": "code",
   "execution_count": 334,
   "id": "d9bf16f3-4b04-40ef-b011-76e588a591e4",
   "metadata": {},
   "outputs": [
    {
     "name": "stderr",
     "output_type": "stream",
     "text": [
      "D:\\Master_Openclassroom\\python\\Lib\\site-packages\\keras\\src\\layers\\core\\dense.py:87: UserWarning: Do not pass an `input_shape`/`input_dim` argument to a layer. When using Sequential models, prefer using an `Input(shape)` object as the first layer in the model instead.\n",
      "  super().__init__(activity_regularizer=activity_regularizer, **kwargs)\n",
      "D:\\Master_Openclassroom\\python\\Lib\\site-packages\\keras\\src\\layers\\activations\\leaky_relu.py:41: UserWarning: Argument `alpha` is deprecated. Use `negative_slope` instead.\n",
      "  warnings.warn(\n"
     ]
    },
    {
     "name": "stdout",
     "output_type": "stream",
     "text": [
      "Epoch 1/10\n",
      "\u001b[1m31967/31967\u001b[0m \u001b[32m━━━━━━━━━━━━━━━━━━━━\u001b[0m\u001b[37m\u001b[0m \u001b[1m153s\u001b[0m 5ms/step - accuracy: 0.7386 - loss: 0.5262 - val_accuracy: 0.7609 - val_loss: 0.4889\n",
      "Epoch 2/10\n",
      "\u001b[1m31967/31967\u001b[0m \u001b[32m━━━━━━━━━━━━━━━━━━━━\u001b[0m\u001b[37m\u001b[0m \u001b[1m147s\u001b[0m 5ms/step - accuracy: 0.7607 - loss: 0.4949 - val_accuracy: 0.7656 - val_loss: 0.4838\n",
      "Epoch 3/10\n",
      "\u001b[1m31967/31967\u001b[0m \u001b[32m━━━━━━━━━━━━━━━━━━━━\u001b[0m\u001b[37m\u001b[0m \u001b[1m147s\u001b[0m 5ms/step - accuracy: 0.7635 - loss: 0.4896 - val_accuracy: 0.7579 - val_loss: 0.4922\n",
      "Epoch 4/10\n",
      "\u001b[1m31967/31967\u001b[0m \u001b[32m━━━━━━━━━━━━━━━━━━━━\u001b[0m\u001b[37m\u001b[0m \u001b[1m146s\u001b[0m 5ms/step - accuracy: 0.7649 - loss: 0.4860 - val_accuracy: 0.7701 - val_loss: 0.4743\n",
      "Epoch 5/10\n",
      "\u001b[1m31967/31967\u001b[0m \u001b[32m━━━━━━━━━━━━━━━━━━━━\u001b[0m\u001b[37m\u001b[0m \u001b[1m147s\u001b[0m 5ms/step - accuracy: 0.7673 - loss: 0.4824 - val_accuracy: 0.7706 - val_loss: 0.4742\n",
      "Epoch 6/10\n",
      "\u001b[1m31967/31967\u001b[0m \u001b[32m━━━━━━━━━━━━━━━━━━━━\u001b[0m\u001b[37m\u001b[0m \u001b[1m148s\u001b[0m 5ms/step - accuracy: 0.7694 - loss: 0.4795 - val_accuracy: 0.7710 - val_loss: 0.4737\n",
      "Epoch 7/10\n",
      "\u001b[1m31967/31967\u001b[0m \u001b[32m━━━━━━━━━━━━━━━━━━━━\u001b[0m\u001b[37m\u001b[0m \u001b[1m147s\u001b[0m 5ms/step - accuracy: 0.7701 - loss: 0.4785 - val_accuracy: 0.7736 - val_loss: 0.4707\n",
      "Epoch 8/10\n",
      "\u001b[1m31967/31967\u001b[0m \u001b[32m━━━━━━━━━━━━━━━━━━━━\u001b[0m\u001b[37m\u001b[0m \u001b[1m147s\u001b[0m 5ms/step - accuracy: 0.7705 - loss: 0.4764 - val_accuracy: 0.7744 - val_loss: 0.4705\n",
      "Epoch 9/10\n",
      "\u001b[1m31967/31967\u001b[0m \u001b[32m━━━━━━━━━━━━━━━━━━━━\u001b[0m\u001b[37m\u001b[0m \u001b[1m147s\u001b[0m 5ms/step - accuracy: 0.7711 - loss: 0.4757 - val_accuracy: 0.7739 - val_loss: 0.4715\n",
      "Epoch 10/10\n",
      "\u001b[1m31967/31967\u001b[0m \u001b[32m━━━━━━━━━━━━━━━━━━━━\u001b[0m\u001b[37m\u001b[0m \u001b[1m147s\u001b[0m 5ms/step - accuracy: 0.7734 - loss: 0.4721 - val_accuracy: 0.7747 - val_loss: 0.4677\n"
     ]
    },
    {
     "name": "stderr",
     "output_type": "stream",
     "text": [
      "2024/09/22 19:01:37 WARNING mlflow.keras.save: You are saving a Keras model without specifying model signature.\n",
      "2024/09/22 19:01:42 WARNING mlflow.models.model: Model logged without a signature and input example. Please set `input_example` parameter when logging the model to auto infer the model signature.\n"
     ]
    },
    {
     "name": "stdout",
     "output_type": "stream",
     "text": [
      "\u001b[1m9990/9990\u001b[0m \u001b[32m━━━━━━━━━━━━━━━━━━━━\u001b[0m\u001b[37m\u001b[0m \u001b[1m8s\u001b[0m 759us/step\n",
      "Shape of y_test_stem: (319663,)\n",
      "Shape of y_pred_cnn_stem_bert: (319663,)\n",
      "Accuracy: 0.7748754156721297\n",
      "Precision: 0.7736121616427145\n",
      "Recall: 0.7787590183987817\n",
      "F1 Score: 0.7761770578685128\n"
     ]
    },
    {
     "data": {
      "image/png": "[encoded data removed]",
      "text/plain": [
       "<Figure size 1000x700 with 2 Axes>"
      ]
     },
     "metadata": {},
     "output_type": "display_data"
    }
   ],
   "source": [
    "\n",
    "import matplotlib.pyplot as plt\n",
    "import seaborn as sns\n",
    "from sklearn.metrics import accuracy_score, precision_score, recall_score, f1_score, confusion_matrix\n",
    "import mlflow\n",
    "\n",
    "# Entraînement et évaluation du modèle CNN avec les données stemmées\n",
    "model_name = \"cnn_model_stem_bert\"\n",
    "model = create_cnn_model(input_shape=input_shape)  # Utilisation des caractéristiques BERT pré-calculées\n",
    "\n",
    "configure_mlflow(model_name)\n",
    "\n",
    "with mlflow.start_run():\n",
    "    # Entraînement du modèle avec validation\n",
    "    history = model.fit(X_train_stem, y_train_stem, batch_size=32, epochs=10, validation_split=0.2)\n",
    "    \n",
    "    # Enregistrer le modèle dans MLflow\n",
    "    mlflow.keras.log_model(model, model_name)\n",
    "    \n",
    "    # Faire des prédictions\n",
    "    y_test_stem = y_test_stem.astype(\"int32\")  # S'assurer que y_test_stem est de type int32\n",
    "    y_pred_cnn_stem_bert = (model.predict(X_test_stem) > 0.5).astype(\"int32\")  # Convertir les prédictions en binaire (0/1)\n",
    "    \n",
    "    # Suppression des dimensions inutiles dans y_pred_cnn_stem_bert\n",
    "    y_pred_cnn_stem_bert = np.squeeze(y_pred_cnn_stem_bert)  # Transforme (nombre d'exemples, 1, 1) en (nombre d'exemples,)\n",
    "    \n",
    "    # Vérification des formes après squeeze\n",
    "    print(f\"Shape of y_test_stem: {y_test_stem.shape}\")\n",
    "    print(f\"Shape of y_pred_cnn_stem_bert: {y_pred_cnn_stem_bert.shape}\")\n",
    "    \n",
    "    # Calcul des métriques de performance\n",
    "    accuracy_cnn_stem_bert = accuracy_score(y_test_stem, y_pred_cnn_stem_bert)\n",
    "    precision_cnn_stem_bert = precision_score(y_test_stem, y_pred_cnn_stem_bert)\n",
    "    recall_cnn_stem_bert = recall_score(y_test_stem, y_pred_cnn_stem_bert)\n",
    "    f1_cnn_stem_bert = f1_score(y_test_stem, y_pred_cnn_stem_bert)\n",
    "    \n",
    "    # Affichage des résultats\n",
    "    print(f\"Accuracy: {accuracy_cnn_stem_bert}\")\n",
    "    print(f\"Precision: {precision_cnn_stem_bert}\")\n",
    "    print(f\"Recall: {recall_cnn_stem_bert}\")\n",
    "    print(f\"F1 Score: {f1_cnn_stem_bert}\")\n",
    "    \n",
    "    # Enregistrer les métriques dans MLflow\n",
    "    mlflow.log_metric(\"accuracy\", accuracy_cnn_stem_bert)\n",
    "    mlflow.log_metric(\"precision\", precision_cnn_stem_bert)\n",
    "    mlflow.log_metric(\"recall\", recall_cnn_stem_bert)\n",
    "    mlflow.log_metric(\"f1_score\", f1_cnn_stem_bert)\n",
    "    \n",
    "    # Créer et afficher la matrice de confusion\n",
    "    cm = confusion_matrix(y_test_stem, y_pred_cnn_stem_bert)\n",
    "    plt.figure(figsize=(10, 7))\n",
    "    sns.heatmap(cm, annot=True, fmt='d')\n",
    "    plt.title(f\"Confusion Matrix: {model_name}\")\n",
    "    plt.xlabel(\"Predicted\")\n",
    "    plt.ylabel(\"Actual\")\n",
    "    plt.show()\n"
   ]
  },
  {
   "cell_type": "markdown",
   "id": "c32e5fb5-009b-4133-be0e-ae899f4fdb90",
   "metadata": {},
   "source": [
    "## 4.2 Modele lstm_model_lemma_bert"
   ]
  },
  {
   "cell_type": "code",
   "execution_count": 347,
   "id": "8ed37e86-dcee-477f-a1c0-70307233c355",
   "metadata": {},
   "outputs": [
    {
     "name": "stderr",
     "output_type": "stream",
     "text": [
      "D:\\Master_Openclassroom\\python\\Lib\\site-packages\\keras\\src\\layers\\rnn\\rnn.py:204: UserWarning: Do not pass an `input_shape`/`input_dim` argument to a layer. When using Sequential models, prefer using an `Input(shape)` object as the first layer in the model instead.\n",
      "  super().__init__(**kwargs)\n"
     ]
    },
    {
     "name": "stdout",
     "output_type": "stream",
     "text": [
      "Epoch 1/10\n",
      "\u001b[1m31967/31967\u001b[0m \u001b[32m━━━━━━━━━━━━━━━━━━━━\u001b[0m\u001b[37m\u001b[0m \u001b[1m718s\u001b[0m 22ms/step - accuracy: 0.7540 - loss: 0.5075 - val_accuracy: 0.7859 - val_loss: 0.4547\n",
      "Epoch 2/10\n",
      "\u001b[1m31967/31967\u001b[0m \u001b[32m━━━━━━━━━━━━━━━━━━━━\u001b[0m\u001b[37m\u001b[0m \u001b[1m701s\u001b[0m 22ms/step - accuracy: 0.7744 - loss: 0.4772 - val_accuracy: 0.7888 - val_loss: 0.4489\n",
      "Epoch 3/10\n",
      "\u001b[1m31967/31967\u001b[0m \u001b[32m━━━━━━━━━━━━━━━━━━━━\u001b[0m\u001b[37m\u001b[0m \u001b[1m684s\u001b[0m 21ms/step - accuracy: 0.7757 - loss: 0.4739 - val_accuracy: 0.7898 - val_loss: 0.4490\n",
      "Epoch 4/10\n",
      "\u001b[1m31967/31967\u001b[0m \u001b[32m━━━━━━━━━━━━━━━━━━━━\u001b[0m\u001b[37m\u001b[0m \u001b[1m681s\u001b[0m 21ms/step - accuracy: 0.7767 - loss: 0.4713 - val_accuracy: 0.7872 - val_loss: 0.4522\n",
      "Epoch 5/10\n",
      "\u001b[1m31967/31967\u001b[0m \u001b[32m━━━━━━━━━━━━━━━━━━━━\u001b[0m\u001b[37m\u001b[0m \u001b[1m683s\u001b[0m 21ms/step - accuracy: 0.7782 - loss: 0.4689 - val_accuracy: 0.7911 - val_loss: 0.4500\n",
      "Epoch 6/10\n",
      "\u001b[1m31967/31967\u001b[0m \u001b[32m━━━━━━━━━━━━━━━━━━━━\u001b[0m\u001b[37m\u001b[0m \u001b[1m684s\u001b[0m 21ms/step - accuracy: 0.7793 - loss: 0.4666 - val_accuracy: 0.7906 - val_loss: 0.4484\n",
      "Epoch 7/10\n",
      "\u001b[1m31967/31967\u001b[0m \u001b[32m━━━━━━━━━━━━━━━━━━━━\u001b[0m\u001b[37m\u001b[0m \u001b[1m681s\u001b[0m 21ms/step - accuracy: 0.7802 - loss: 0.4663 - val_accuracy: 0.7924 - val_loss: 0.4477\n",
      "Epoch 8/10\n",
      "\u001b[1m31967/31967\u001b[0m \u001b[32m━━━━━━━━━━━━━━━━━━━━\u001b[0m\u001b[37m\u001b[0m \u001b[1m683s\u001b[0m 21ms/step - accuracy: 0.7810 - loss: 0.4637 - val_accuracy: 0.7925 - val_loss: 0.4521\n",
      "Epoch 9/10\n",
      "\u001b[1m31967/31967\u001b[0m \u001b[32m━━━━━━━━━━━━━━━━━━━━\u001b[0m\u001b[37m\u001b[0m \u001b[1m684s\u001b[0m 21ms/step - accuracy: 0.7812 - loss: 0.4641 - val_accuracy: 0.7921 - val_loss: 0.4630\n",
      "Epoch 10/10\n",
      "\u001b[1m31967/31967\u001b[0m \u001b[32m━━━━━━━━━━━━━━━━━━━━\u001b[0m\u001b[37m\u001b[0m \u001b[1m684s\u001b[0m 21ms/step - accuracy: 0.7816 - loss: 0.4632 - val_accuracy: 0.7929 - val_loss: 0.4571\n"
     ]
    },
    {
     "name": "stderr",
     "output_type": "stream",
     "text": [
      "2024/09/22 22:05:01 WARNING mlflow.keras.save: You are saving a Keras model without specifying model signature.\n",
      "2024/09/22 22:05:05 WARNING mlflow.models.model: Model logged without a signature and input example. Please set `input_example` parameter when logging the model to auto infer the model signature.\n"
     ]
    },
    {
     "name": "stdout",
     "output_type": "stream",
     "text": [
      "\u001b[1m9990/9990\u001b[0m \u001b[32m━━━━━━━━━━━━━━━━━━━━\u001b[0m\u001b[37m\u001b[0m \u001b[1m56s\u001b[0m 6ms/step\n",
      "Shape of y_test_lemma: (319663,)\n",
      "Shape of y_pred_lstm_lemma_bert: (319663,)\n",
      "Accuracy: 0.7920466241010063\n",
      "Precision: 0.7732224352884263\n",
      "Recall: 0.8279514192276006\n",
      "F1 Score: 0.799651594197657\n"
     ]
    },
    {
     "data": {
      "image/png": "[encoded data removed]",
      "text/plain": [
       "<Figure size 1000x700 with 2 Axes>"
      ]
     },
     "metadata": {},
     "output_type": "display_data"
    }
   ],
   "source": [
    "import matplotlib.pyplot as plt\n",
    "import seaborn as sns\n",
    "from sklearn.metrics import accuracy_score, precision_score, recall_score, f1_score, confusion_matrix\n",
    "import mlflow\n",
    "\n",
    "# Entraînement et évaluation du modèle LSTM avec les données lemmatisées\n",
    "model_name = \"lstm_model_lemma_bert\"\n",
    "model = create_lstm_model(input_shape=input_shape)  # Utilisation des caractéristiques BERT pré-calculées\n",
    "\n",
    "configure_mlflow(model_name)\n",
    "\n",
    "with mlflow.start_run():\n",
    "    # Entraînement du modèle avec validation\n",
    "    history = model.fit(X_train_lemma, y_train_lemma, batch_size=32, epochs=10, validation_split=0.2)\n",
    "    \n",
    "    # Enregistrer le modèle dans MLflow\n",
    "    mlflow.keras.log_model(model, model_name)\n",
    "    \n",
    "    # Faire des prédictions\n",
    "    y_test_lemma = y_test_lemma.astype(\"int32\")  # S'assurer que y_test_lemma est de type int32\n",
    "    y_pred_lstm_lemma_bert = (model.predict(X_test_lemma) > 0.5).astype(\"int32\")  # Convertir les prédictions en binaire (0/1)\n",
    "    \n",
    "    # Suppression des dimensions inutiles dans y_pred_lstm_lemma_bert\n",
    "    y_pred_lstm_lemma_bert = np.squeeze(y_pred_lstm_lemma_bert)  # Transforme (nombre d'exemples, 1, 1) en (nombre d'exemples,)\n",
    "    \n",
    "    # Vérification des formes après squeeze\n",
    "    print(f\"Shape of y_test_lemma: {y_test_lemma.shape}\")\n",
    "    print(f\"Shape of y_pred_lstm_lemma_bert: {y_pred_lstm_lemma_bert.shape}\")\n",
    "    \n",
    "    # Calcul des métriques de performance\n",
    "    accuracy_lstm_lemma_bert = accuracy_score(y_test_lemma, y_pred_lstm_lemma_bert)\n",
    "    precision_lstm_lemma_bert = precision_score(y_test_lemma, y_pred_lstm_lemma_bert)\n",
    "    recall_lstm_lemma_bert = recall_score(y_test_lemma, y_pred_lstm_lemma_bert)\n",
    "    f1_lstm_lemma_bert = f1_score(y_test_lemma, y_pred_lstm_lemma_bert)\n",
    "    \n",
    "    # Affichage des résultats\n",
    "    print(f\"Accuracy: {accuracy_lstm_lemma_bert}\")\n",
    "    print(f\"Precision: {precision_lstm_lemma_bert}\")\n",
    "    print(f\"Recall: {recall_lstm_lemma_bert}\")\n",
    "    print(f\"F1 Score: {f1_lstm_lemma_bert}\")\n",
    "    \n",
    "    # Enregistrer les métriques dans MLflow\n",
    "    mlflow.log_metric(\"accuracy\", accuracy_lstm_lemma_bert)\n",
    "    mlflow.log_metric(\"precision\", precision_lstm_lemma_bert)\n",
    "    mlflow.log_metric(\"recall\", recall_lstm_lemma_bert)\n",
    "    mlflow.log_metric(\"f1_score\", f1_lstm_lemma_bert)\n",
    "    \n",
    "    # Créer et afficher la matrice de confusion\n",
    "    cm = confusion_matrix(y_test_lemma, y_pred_lstm_lemma_bert)\n",
    "    plt.figure(figsize=(10, 7))\n",
    "    sns.heatmap(cm, annot=True, fmt='d')\n",
    "    plt.title(f\"Confusion Matrix: {model_name}\")\n",
    "    plt.xlabel(\"Predicted\")\n",
    "    plt.ylabel(\"Actual\")\n",
    "    plt.show()\n"
   ]
  },
  {
   "cell_type": "code",
   "execution_count": 348,
   "id": "2678b888-ddac-488f-8561-3877741d544f",
   "metadata": {},
   "outputs": [
    {
     "name": "stderr",
     "output_type": "stream",
     "text": [
      "D:\\Master_Openclassroom\\python\\Lib\\site-packages\\keras\\src\\layers\\rnn\\rnn.py:204: UserWarning: Do not pass an `input_shape`/`input_dim` argument to a layer. When using Sequential models, prefer using an `Input(shape)` object as the first layer in the model instead.\n",
      "  super().__init__(**kwargs)\n"
     ]
    },
    {
     "name": "stdout",
     "output_type": "stream",
     "text": [
      "Epoch 1/10\n",
      "\u001b[1m31967/31967\u001b[0m \u001b[32m━━━━━━━━━━━━━━━━━━━━\u001b[0m\u001b[37m\u001b[0m \u001b[1m743s\u001b[0m 23ms/step - accuracy: 0.7257 - loss: 0.5452 - val_accuracy: 0.7593 - val_loss: 0.4959\n",
      "Epoch 2/10\n",
      "\u001b[1m31967/31967\u001b[0m \u001b[32m━━━━━━━━━━━━━━━━━━━━\u001b[0m\u001b[37m\u001b[0m \u001b[1m723s\u001b[0m 23ms/step - accuracy: 0.7450 - loss: 0.5160 - val_accuracy: 0.7645 - val_loss: 0.4885\n",
      "Epoch 3/10\n",
      "\u001b[1m31967/31967\u001b[0m \u001b[32m━━━━━━━━━━━━━━━━━━━━\u001b[0m\u001b[37m\u001b[0m \u001b[1m703s\u001b[0m 22ms/step - accuracy: 0.7493 - loss: 0.5109 - val_accuracy: 0.7658 - val_loss: 0.4860\n",
      "Epoch 4/10\n",
      "\u001b[1m31967/31967\u001b[0m \u001b[32m━━━━━━━━━━━━━━━━━━━━\u001b[0m\u001b[37m\u001b[0m \u001b[1m697s\u001b[0m 22ms/step - accuracy: 0.7506 - loss: 0.5072 - val_accuracy: 0.7652 - val_loss: 0.4941\n",
      "Epoch 5/10\n",
      "\u001b[1m31967/31967\u001b[0m \u001b[32m━━━━━━━━━━━━━━━━━━━━\u001b[0m\u001b[37m\u001b[0m \u001b[1m693s\u001b[0m 22ms/step - accuracy: 0.7523 - loss: 0.5056 - val_accuracy: 0.7645 - val_loss: 0.4911\n",
      "Epoch 6/10\n",
      "\u001b[1m31967/31967\u001b[0m \u001b[32m━━━━━━━━━━━━━━━━━━━━\u001b[0m\u001b[37m\u001b[0m \u001b[1m696s\u001b[0m 22ms/step - accuracy: 0.7536 - loss: 0.5040 - val_accuracy: 0.7648 - val_loss: 0.4942\n",
      "Epoch 7/10\n",
      "\u001b[1m31967/31967\u001b[0m \u001b[32m━━━━━━━━━━━━━━━━━━━━\u001b[0m\u001b[37m\u001b[0m \u001b[1m700s\u001b[0m 22ms/step - accuracy: 0.7551 - loss: 0.5030 - val_accuracy: 0.7690 - val_loss: 0.5001\n",
      "Epoch 8/10\n",
      "\u001b[1m31967/31967\u001b[0m \u001b[32m━━━━━━━━━━━━━━━━━━━━\u001b[0m\u001b[37m\u001b[0m \u001b[1m703s\u001b[0m 22ms/step - accuracy: 0.7557 - loss: 0.5012 - val_accuracy: 0.7689 - val_loss: 0.4905\n",
      "Epoch 9/10\n",
      "\u001b[1m31967/31967\u001b[0m \u001b[32m━━━━━━━━━━━━━━━━━━━━\u001b[0m\u001b[37m\u001b[0m \u001b[1m701s\u001b[0m 22ms/step - accuracy: 0.7568 - loss: 0.4998 - val_accuracy: 0.7678 - val_loss: 0.4916\n",
      "Epoch 10/10\n",
      "\u001b[1m31967/31967\u001b[0m \u001b[32m━━━━━━━━━━━━━━━━━━━━\u001b[0m\u001b[37m\u001b[0m \u001b[1m702s\u001b[0m 22ms/step - accuracy: 0.7567 - loss: 0.4999 - val_accuracy: 0.7664 - val_loss: 0.4915\n"
     ]
    },
    {
     "name": "stderr",
     "output_type": "stream",
     "text": [
      "2024/09/23 00:03:45 WARNING mlflow.keras.save: You are saving a Keras model without specifying model signature.\n",
      "2024/09/23 00:03:53 WARNING mlflow.models.model: Model logged without a signature and input example. Please set `input_example` parameter when logging the model to auto infer the model signature.\n"
     ]
    },
    {
     "name": "stdout",
     "output_type": "stream",
     "text": [
      "\u001b[1m9990/9990\u001b[0m \u001b[32m━━━━━━━━━━━━━━━━━━━━\u001b[0m\u001b[37m\u001b[0m \u001b[1m56s\u001b[0m 6ms/step\n",
      "Shape of y_test_stem: (319663,)\n",
      "Shape of y_pred_lstm_stem_bert: (319663,)\n",
      "Accuracy: 0.766798159311525\n",
      "Precision: 0.7433318186981711\n",
      "Recall: 0.81677983872981\n",
      "F1 Score: 0.7783269102673899\n"
     ]
    },
    {
     "data": {
      "image/png": "[encoded data removed]",
      "text/plain": [
       "<Figure size 1000x700 with 2 Axes>"
      ]
     },
     "metadata": {},
     "output_type": "display_data"
    }
   ],
   "source": [
    "# Vérification de la forme d'entrée\n",
    "input_shape = (1, 768)  # Longueur de la séquence (1), Taille de l'embedding (768)\n",
    "\n",
    "import matplotlib.pyplot as plt\n",
    "import seaborn as sns\n",
    "from sklearn.metrics import accuracy_score, precision_score, recall_score, f1_score, confusion_matrix\n",
    "import mlflow\n",
    "\n",
    "# Entraînement et évaluation du modèle LSTM avec les données stemmées\n",
    "model_name = \"lstm_model_stem_bert\"\n",
    "model = create_lstm_model(input_shape=input_shape)  # Utilisation des caractéristiques BERT pré-calculées\n",
    "\n",
    "configure_mlflow(model_name)\n",
    "\n",
    "with mlflow.start_run():\n",
    "    # Entraînement du modèle avec validation\n",
    "    history = model.fit(X_train_stem, y_train_stem, batch_size=32, epochs=10, validation_split=0.2)\n",
    "    \n",
    "    # Enregistrer le modèle dans MLflow\n",
    "    mlflow.keras.log_model(model, model_name)\n",
    "    \n",
    "    # Faire des prédictions\n",
    "    y_test_stem = y_test_stem.astype(\"int32\")  # S'assurer que y_test_stem est de type int32\n",
    "    y_pred_lstm_stem_bert = (model.predict(X_test_stem) > 0.5).astype(\"int32\")  # Convertir les prédictions en binaire (0/1)\n",
    "    \n",
    "    # Suppression des dimensions inutiles dans y_pred_lstm_stem_bert\n",
    "    y_pred_lstm_stem_bert = np.squeeze(y_pred_lstm_stem_bert)  # Transforme (nombre d'exemples, 1, 1) en (nombre d'exemples,)\n",
    "    \n",
    "    # Vérification des formes après squeeze\n",
    "    print(f\"Shape of y_test_stem: {y_test_stem.shape}\")\n",
    "    print(f\"Shape of y_pred_lstm_stem_bert: {y_pred_lstm_stem_bert.shape}\")\n",
    "    \n",
    "    # Calcul des métriques de performance\n",
    "    accuracy_lstm_stem_bert = accuracy_score(y_test_stem, y_pred_lstm_stem_bert)\n",
    "    precision_lstm_stem_bert = precision_score(y_test_stem, y_pred_lstm_stem_bert)\n",
    "    recall_lstm_stem_bert = recall_score(y_test_stem, y_pred_lstm_stem_bert)\n",
    "    f1_lstm_stem_bert = f1_score(y_test_stem, y_pred_lstm_stem_bert)\n",
    "    \n",
    "    # Affichage des résultats\n",
    "    print(f\"Accuracy: {accuracy_lstm_stem_bert}\")\n",
    "    print(f\"Precision: {precision_lstm_stem_bert}\")\n",
    "    print(f\"Recall: {recall_lstm_stem_bert}\")\n",
    "    print(f\"F1 Score: {f1_lstm_stem_bert}\")\n",
    "    \n",
    "    # Enregistrer les métriques dans MLflow\n",
    "    mlflow.log_metric(\"accuracy\", accuracy_lstm_stem_bert)\n",
    "    mlflow.log_metric(\"precision\", precision_lstm_stem_bert)\n",
    "    mlflow.log_metric(\"recall\", recall_lstm_stem_bert)\n",
    "    mlflow.log_metric(\"f1_score\", f1_lstm_stem_bert)\n",
    "    \n",
    "    # Créer et afficher la matrice de confusion\n",
    "    cm = confusion_matrix(y_test_stem, y_pred_lstm_stem_bert)\n",
    "    plt.figure(figsize=(10, 7))\n",
    "    sns.heatmap(cm, annot=True, fmt='d')\n",
    "    plt.title(f\"Confusion Matrix: {model_name}\")\n",
    "    plt.xlabel(\"Predicted\")\n",
    "    plt.ylabel(\"Actual\")\n",
    "    plt.show()\n"
   ]
  },
  {
   "cell_type": "code",
   "execution_count": 349,
   "id": "431fae05-6ee1-4ab8-b4d8-eb4bb2eab49b",
   "metadata": {},
   "outputs": [
    {
     "name": "stdout",
     "output_type": "stream",
     "text": [
      "                   Model  Accuracy  Precision    Recall  F1 Score\n",
      "0   cnn_model_lemma_bert  0.796323   0.809809  0.775876  0.792479\n",
      "1  lstm_model_lemma_bert  0.792047   0.773222  0.827951  0.799652\n",
      "2    cnn_model_stem_bert  0.774875   0.773612  0.778759  0.776177\n",
      "3   lstm_model_stem_bert  0.766798   0.743332  0.816780  0.778327\n"
     ]
    }
   ],
   "source": [
    "# Initialiser une liste pour stocker les résultats\n",
    "results_bert = []\n",
    "\n",
    "# Fonction pour ajouter les résultats d'un modèle à la liste\n",
    "def log_results(model_name, accuracy, precision, recall, f1):\n",
    "    results_bert.append({\n",
    "        'Model': model_name,\n",
    "        'Accuracy': accuracy,\n",
    "        'Precision': precision,\n",
    "        'Recall': recall,\n",
    "        'F1 Score': f1\n",
    "    })\n",
    "\n",
    "# Enregistrement des résultats pour les modèles avec lemmatisation\n",
    "log_results(\"cnn_model_lemma_bert\", accuracy_cnn_lemma_bert, precision_cnn_lemma_bert, recall_cnn_lemma_bert, f1_cnn_lemma_bert)\n",
    "log_results(\"lstm_model_lemma_bert\", accuracy_lstm_lemma_bert, precision_lstm_lemma_bert, recall_lstm_lemma_bert, f1_lstm_lemma_bert)\n",
    "\n",
    "# Enregistrement des résultats pour les modèles avec stemming\n",
    "log_results(\"cnn_model_stem_bert\", accuracy_cnn_stem_bert, precision_cnn_stem_bert, recall_cnn_stem_bert, f1_cnn_stem_bert)\n",
    "log_results(\"lstm_model_stem_bert\", accuracy_lstm_stem_bert, precision_lstm_stem_bert, recall_lstm_stem_bert, f1_lstm_stem_bert)\n",
    "\n",
    "# Convertir les résultats en DataFrame\n",
    "results_bert_df = pd.DataFrame(results_bert)\n",
    "\n",
    "# Afficher le tableau des résultats\n",
    "print(results_bert_df)"
   ]
  },
  {
   "cell_type": "code",
   "execution_count": null,
   "id": "1870b5f4-b527-4012-80fc-4c1397c38013",
   "metadata": {},
   "outputs": [],
   "source": []
  },
  {
   "cell_type": "code",
   "execution_count": null,
   "id": "dfd1a99c-01a6-43cd-a07a-b537c636aef2",
   "metadata": {},
   "outputs": [],
   "source": []
  }
 ],
 "metadata": {
  "kernelspec": {
   "display_name": "Python 3 (ipykernel)",
   "language": "python",
   "name": "python3"
  },
  "language_info": {
   "codemirror_mode": {
    "name": "ipython",
    "version": 3
   },
   "file_extension": ".py",
   "mimetype": "text/x-python",
   "name": "python",
   "nbconvert_exporter": "python",
   "pygments_lexer": "ipython3",
   "version": "3.11.8"
  }
 },
 "nbformat": 4,
 "nbformat_minor": 5
}
