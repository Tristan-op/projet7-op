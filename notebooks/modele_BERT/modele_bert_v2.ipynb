{
 "cells": [
  {
   "cell_type": "markdown",
   "id": "0eee547d-d095-4364-b0ad-543b85bf7f67",
   "metadata": {},
   "source": [
    "# Introduction\r\n",
    "\r\n",
    "## Objectif du Notebook\r\n",
    "\r\n",
    "L'objectif de ce notebook est de développer et d'évaluer des modèles d'analyse de sentiments en utilisant **BERT** (Bidirectional Encoder Representations from Transformers), tout en comparant différentes versions des données textuelles : avec et sans pré-traitements (lemmatisation et stemming). BERT, étant un modèle pré-entraîné puissant, nous permet de capturer les relations contextuelles entre les mots dans un texte. En parallèle, nous allons comparer les performances des modèles CNN et LSTM entraînés sur des textes bruts et pré-traités.\r\n",
    "\r\n",
    "## Présentation de la Méthode BERT\r\n",
    "\r\n",
    "BERT est un modèle de traitement du langage naturel basé sur une architecture de **Transformers**, permettant de capturer de manière bidirectionnelle les relations entre les mots. BERT est particulièrement efficace pour des tâches telles que l'analyse de sentiments car il tient compte du contexte des mots dans les phrases, contrairement aux modèles classiques comme Word2Vec qui sont unidirectionnels.\r\n",
    "\r\n",
    "### BERT (Bidirectional Encoder Representations from Transformers)\r\n",
    "\r\n",
    "BERT prend en compte le contexte avant et après un mot pour créer des représentations contextuelles riches. C'est pourquoi il est très performant pour des tâches de compréhension sémantique, comme la classification de sentiments, où l'interprétation d'un mot dépend de son contexte global.\r\n",
    "\r\n",
    "### Comparaison avec et sans Pré-traitements (Lemmatisation et Stemming)\r\n",
    "\r\n",
    "Dans ce notebook, nous utiliserons à la fois :\r\n",
    "- **Les textes pré-traités** (lemmatisation et stemming) : Ces techniques consistent à ramener les mots à leur forme de base ou à leur racine pour réduire la variabilité linguistique. Cela permet de simplifier les phrases avant de les soumettre à BERT.\r\n",
    "- **Les textes bruts** : Sans aucun pré-traitement linguistique, laissant à BERT la capacité d'analyser les mots dans leur forme originale et de capturer les nuances du langage.\r\n",
    "\r\n",
    "L'objectif est de comparer l'impact du pré-traitement sur les performances du modèle BERT.\r\n",
    "\r\n",
    "## Plan du Notebook\r\n",
    "\r\n",
    "1. **Chargement et Préparation des Données** : Nous allons charger les données, les nettoyer, les tokeniser, et les préparer sous trois formats : brut, lemmatisé et stemmé.\r\n",
    "2. **Tokenisation avec BERT** : Nous utiliserons le tokenizer BERT pour convertir les trois versions de textes en tokens adaptés au modèle BERT.\r\n",
    "3. **Utilisation de BERT** : Nous extrairons des embeddings contextuels à partir du modèle BERT pour c\n",
    "4. **Définition du modèle CNN** : Ici nous définissons le modèle CNN, avec une gridSearch et une méthode Mlflow. chaque version de du modèle CNN. **EICI, nous allons entrainer le modeles de CNN .ersi**Définition du modèle LSTM** : Ici nous définissons le modèle LSTM, avec une gridSearch et une méthode Mlflow.\n",
    "7. **Entraînement du modèle LSTM** : ICI, nous allons entrainer le modeles de LSTM .re dans une API de prédiction.\r\n"
   ]
  },
  {
   "cell_type": "markdown",
   "id": "27b06c2d-a906-4bc0-9671-d17f37ca444e",
   "metadata": {},
   "source": [
    "# 1. Importation des Bibliothèques"
   ]
  },
  {
   "cell_type": "code",
   "execution_count": 9,
   "id": "b4d6b57f-afaf-42b2-8a82-95ec5280fdb3",
   "metadata": {},
   "outputs": [],
   "source": [
    "import numpy as np\n",
    "import pandas as pd\n",
    "import mlflow\n",
    "import mlflow.keras\n",
    "from sklearn.model_selection import train_test_split\n",
    "from keras.models import Sequential\n",
    "from keras.layers import Dense, Dropout\n",
    "from keras.optimizers import Adam\n",
    "from sklearn.metrics import classification_report, confusion_matrix\n",
    "import matplotlib.pyplot as plt\n",
    "import seaborn as sns\n",
    "from transformers import BertTokenizer, TFBertModel\n"
   ]
  },
  {
   "cell_type": "code",
   "execution_count": 11,
   "id": "866990a8-50a0-4856-9c67-ce0f2796da95",
   "metadata": {},
   "outputs": [
    {
     "name": "stdout",
     "output_type": "stream",
     "text": [
      "0    800000\n",
      "1    798315\n",
      "Name: target_binary, dtype: int64\n"
     ]
    }
   ],
   "source": [
    "# Charger les données (en supposant que vous avez déjà les colonnes nettoyées)\n",
    "data = pd.read_csv('../data/database_p7_rework.csv')\n",
    "\n",
    "# Transformation des labels : 0 reste 0 et 4 devient 1\n",
    "data['target_binary'] = data['target'].apply(lambda x: 0 if x == 0 else 1)\n",
    "\n",
    "# Vérification des transformations\n",
    "print(data['target_binary'].value_counts())\n",
    "\n",
    "# Ensuite, définissez y comme suit :\n",
    "y = data['target_binary']"
   ]
  },
  {
   "cell_type": "code",
   "execution_count": 25,
   "id": "3cb07140-b009-4ea6-84fe-327259bd4a00",
   "metadata": {},
   "outputs": [],
   "source": [
    "# Sélection d'un échantillon équilibré de 16 000 données (8 000 par classe)\n",
    "sample_data = data.groupby('target_binary', group_keys=False).apply(lambda x: x.sample(8000, random_state=42))"
   ]
  },
  {
   "cell_type": "markdown",
   "id": "4856cc75-4e93-4a1a-84a6-36824865b9ed",
   "metadata": {},
   "source": [
    "# 2. Importation & Tokénization avec BERT"
   ]
  },
  {
   "cell_type": "code",
   "execution_count": 54,
   "id": "4714e1f5-06a4-4f3c-9acc-0bfed02f8185",
   "metadata": {},
   "outputs": [
    {
     "name": "stderr",
     "output_type": "stream",
     "text": [
      "A parameter name that contains `beta` will be renamed internally to `bias`. Please use a different name to suppress this warning.\n",
      "A parameter name that contains `gamma` will be renamed internally to `weight`. Please use a different name to suppress this warning.\n",
      "A parameter name that contains `beta` will be renamed internally to `bias`. Please use a different name to suppress this warning.\n",
      "A parameter name that contains `gamma` will be renamed internally to `weight`. Please use a different name to suppress this warning.\n",
      "A parameter name that contains `beta` will be renamed internally to `bias`. Please use a different name to suppress this warning.\n",
      "A parameter name that contains `gamma` will be renamed internally to `weight`. Please use a different name to suppress this warning.\n",
      "A parameter name that contains `beta` will be renamed internally to `bias`. Please use a different name to suppress this warning.\n",
      "A parameter name that contains `gamma` will be renamed internally to `weight`. Please use a different name to suppress this warning.\n",
      "A parameter name that contains `beta` will be renamed internally to `bias`. Please use a different name to suppress this warning.\n",
      "A parameter name that contains `gamma` will be renamed internally to `weight`. Please use a different name to suppress this warning.\n",
      "A parameter name that contains `beta` will be renamed internally to `bias`. Please use a different name to suppress this warning.\n",
      "A parameter name that contains `gamma` will be renamed internally to `weight`. Please use a different name to suppress this warning.\n",
      "A parameter name that contains `beta` will be renamed internally to `bias`. Please use a different name to suppress this warning.\n",
      "A parameter name that contains `gamma` will be renamed internally to `weight`. Please use a different name to suppress this warning.\n",
      "A parameter name that contains `beta` will be renamed internally to `bias`. Please use a different name to suppress this warning.\n",
      "A parameter name that contains `gamma` will be renamed internally to `weight`. Please use a different name to suppress this warning.\n",
      "A parameter name that contains `beta` will be renamed internally to `bias`. Please use a different name to suppress this warning.\n",
      "A parameter name that contains `gamma` will be renamed internally to `weight`. Please use a different name to suppress this warning.\n",
      "A parameter name that contains `beta` will be renamed internally to `bias`. Please use a different name to suppress this warning.\n",
      "A parameter name that contains `gamma` will be renamed internally to `weight`. Please use a different name to suppress this warning.\n",
      "A parameter name that contains `beta` will be renamed internally to `bias`. Please use a different name to suppress this warning.\n",
      "A parameter name that contains `gamma` will be renamed internally to `weight`. Please use a different name to suppress this warning.\n",
      "A parameter name that contains `beta` will be renamed internally to `bias`. Please use a different name to suppress this warning.\n",
      "A parameter name that contains `gamma` will be renamed internally to `weight`. Please use a different name to suppress this warning.\n",
      "A parameter name that contains `beta` will be renamed internally to `bias`. Please use a different name to suppress this warning.\n",
      "A parameter name that contains `gamma` will be renamed internally to `weight`. Please use a different name to suppress this warning.\n",
      "A parameter name that contains `beta` will be renamed internally to `bias`. Please use a different name to suppress this warning.\n",
      "A parameter name that contains `gamma` will be renamed internally to `weight`. Please use a different name to suppress this warning.\n",
      "A parameter name that contains `beta` will be renamed internally to `bias`. Please use a different name to suppress this warning.\n",
      "A parameter name that contains `gamma` will be renamed internally to `weight`. Please use a different name to suppress this warning.\n",
      "A parameter name that contains `beta` will be renamed internally to `bias`. Please use a different name to suppress this warning.\n",
      "A parameter name that contains `gamma` will be renamed internally to `weight`. Please use a different name to suppress this warning.\n",
      "A parameter name that contains `beta` will be renamed internally to `bias`. Please use a different name to suppress this warning.\n",
      "A parameter name that contains `gamma` will be renamed internally to `weight`. Please use a different name to suppress this warning.\n",
      "A parameter name that contains `beta` will be renamed internally to `bias`. Please use a different name to suppress this warning.\n",
      "A parameter name that contains `gamma` will be renamed internally to `weight`. Please use a different name to suppress this warning.\n",
      "A parameter name that contains `beta` will be renamed internally to `bias`. Please use a different name to suppress this warning.\n",
      "A parameter name that contains `gamma` will be renamed internally to `weight`. Please use a different name to suppress this warning.\n",
      "A parameter name that contains `beta` will be renamed internally to `bias`. Please use a different name to suppress this warning.\n",
      "A parameter name that contains `gamma` will be renamed internally to `weight`. Please use a different name to suppress this warning.\n",
      "A parameter name that contains `beta` will be renamed internally to `bias`. Please use a different name to suppress this warning.\n",
      "A parameter name that contains `gamma` will be renamed internally to `weight`. Please use a different name to suppress this warning.\n",
      "A parameter name that contains `beta` will be renamed internally to `bias`. Please use a different name to suppress this warning.\n",
      "A parameter name that contains `gamma` will be renamed internally to `weight`. Please use a different name to suppress this warning.\n",
      "A parameter name that contains `beta` will be renamed internally to `bias`. Please use a different name to suppress this warning.\n",
      "A parameter name that contains `gamma` will be renamed internally to `weight`. Please use a different name to suppress this warning.\n",
      "A parameter name that contains `beta` will be renamed internally to `bias`. Please use a different name to suppress this warning.\n",
      "A parameter name that contains `gamma` will be renamed internally to `weight`. Please use a different name to suppress this warning.\n",
      "A parameter name that contains `beta` will be renamed internally to `bias`. Please use a different name to suppress this warning.\n",
      "A parameter name that contains `gamma` will be renamed internally to `weight`. Please use a different name to suppress this warning.\n",
      "A parameter name that contains `beta` will be renamed internally to `bias`. Please use a different name to suppress this warning.\n",
      "A parameter name that contains `gamma` will be renamed internally to `weight`. Please use a different name to suppress this warning.\n"
     ]
    }
   ],
   "source": [
    "import torch\n",
    "from transformers import BertTokenizer, BertModel\n",
    "import numpy as np\n",
    "import time\n",
    "\n",
    "# Initialiser le tokenizer et le modèle BERT\n",
    "tokenizer = BertTokenizer.from_pretrained('bert-base-uncased')\n",
    "model = BertModel.from_pretrained('bert-base-uncased')\n",
    "\n",
    "# Utiliser le GPU si disponible\n",
    "device = torch.device(\"cuda\" if torch.cuda.is_available() else \"cpu\")\n",
    "model.to(device)\n",
    "\n",
    "# Fonction pour encoder des textes en utilisant BERT avec batching et un timer\n",
    "def encode_with_bert_batch(texts, batch_size=32):\n",
    "    all_embeddings = []\n",
    "    total_batches = len(texts) // batch_size + int(len(texts) % batch_size > 0)\n",
    "    \n",
    "    start_time = time.time()\n",
    "    \n",
    "    for i in range(0, len(texts), batch_size):\n",
    "        batch_texts = texts[i:i + batch_size]\n",
    "        \n",
    "        # Chronométrage pour le lot actuel\n",
    "        batch_start_time = time.time()\n",
    "        \n",
    "        inputs = tokenizer(batch_texts, return_tensors='pt', padding=True, truncation=True, max_length=25).to(device)\n",
    "        outputs = model(**inputs)\n",
    "        embeddings = outputs.last_hidden_state.cpu().detach().numpy()\n",
    "        all_embeddings.extend(embeddings)\n",
    "        \n",
    "        # Calcul du temps écoulé pour ce lot\n",
    "        batch_time = time.time() - batch_start_time\n",
    "        elapsed_time = time.time() - start_time\n",
    "        estimated_total_time = (elapsed_time / (i + batch_size)) * len(texts)\n",
    "        remaining_time = estimated_total_time - elapsed_time\n",
    "        \n",
    "        print(f\"Lot {i//batch_size + 1}/{total_batches} traité en {batch_time:.2f} secondes. Temps restant estimé : {remaining_time:.2f} secondes.\")\n",
    "    \n",
    "    return np.array(all_embeddings)\n",
    "\n"
   ]
  },
  {
   "cell_type": "code",
   "execution_count": 56,
   "id": "7cb38c73-5e7f-40b8-9ebf-9db5455a631d",
   "metadata": {
    "scrolled": true
   },
   "outputs": [
    {
     "name": "stdout",
     "output_type": "stream",
     "text": [
      "Lot 1/500 traité en 0.54 secondes. Temps restant estimé : 270.63 secondes.\n",
      "Lot 2/500 traité en 0.44 secondes. Temps restant estimé : 243.38 secondes.\n",
      "Lot 3/500 traité en 0.39 secondes. Temps restant estimé : 226.32 secondes.\n",
      "Lot 4/500 traité en 0.37 secondes. Temps restant estimé : 215.53 secondes.\n",
      "Lot 5/500 traité en 0.35 secondes. Temps restant estimé : 206.99 secondes.\n",
      "Lot 6/500 traité en 0.39 secondes. Temps restant estimé : 204.39 secondes.\n",
      "Lot 7/500 traité en 0.38 secondes. Temps restant estimé : 201.36 secondes.\n",
      "Lot 8/500 traité en 0.38 secondes. Temps restant estimé : 199.23 secondes.\n",
      "Lot 9/500 traité en 0.41 secondes. Temps restant estimé : 199.31 secondes.\n",
      "Lot 10/500 traité en 0.40 secondes. Temps restant estimé : 198.56 secondes.\n",
      "Lot 11/500 traité en 0.46 secondes. Temps restant estimé : 200.62 secondes.\n",
      "Lot 12/500 traité en 0.42 secondes. Temps restant estimé : 200.46 secondes.\n",
      "Lot 13/500 traité en 0.46 secondes. Temps restant estimé : 201.97 secondes.\n",
      "Lot 14/500 traité en 0.40 secondes. Temps restant estimé : 201.19 secondes.\n",
      "Lot 15/500 traité en 0.41 secondes. Temps restant estimé : 200.57 secondes.\n",
      "Lot 16/500 traité en 0.42 secondes. Temps restant estimé : 200.24 secondes.\n",
      "Lot 17/500 traité en 0.42 secondes. Temps restant estimé : 200.09 secondes.\n",
      "Lot 18/500 traité en 0.39 secondes. Temps restant estimé : 198.95 secondes.\n",
      "Lot 19/500 traité en 0.38 secondes. Temps restant estimé : 197.84 secondes.\n",
      "Lot 20/500 traité en 0.40 secondes. Temps restant estimé : 197.22 secondes.\n",
      "Lot 21/500 traité en 0.41 secondes. Temps restant estimé : 196.76 secondes.\n",
      "Lot 22/500 traité en 0.41 secondes. Temps restant estimé : 196.37 secondes.\n",
      "Lot 23/500 traité en 0.38 secondes. Temps restant estimé : 195.24 secondes.\n",
      "Lot 24/500 traité en 0.40 secondes. Temps restant estimé : 194.68 secondes.\n",
      "Lot 25/500 traité en 0.41 secondes. Temps restant estimé : 194.32 secondes.\n",
      "Lot 26/500 traité en 0.41 secondes. Temps restant estimé : 193.92 secondes.\n",
      "Lot 27/500 traité en 0.42 secondes. Temps restant estimé : 193.71 secondes.\n",
      "Lot 28/500 traité en 0.39 secondes. Temps restant estimé : 192.90 secondes.\n",
      "Lot 29/500 traité en 0.38 secondes. Temps restant estimé : 192.05 secondes.\n",
      "Lot 30/500 traité en 0.38 secondes. Temps restant estimé : 191.28 secondes.\n",
      "Lot 31/500 traité en 0.45 secondes. Temps restant estimé : 191.47 secondes.\n",
      "Lot 32/500 traité en 0.35 secondes. Temps restant estimé : 190.20 secondes.\n",
      "Lot 33/500 traité en 0.42 secondes. Temps restant estimé : 190.05 secondes.\n",
      "Lot 34/500 traité en 0.37 secondes. Temps restant estimé : 189.08 secondes.\n",
      "Lot 35/500 traité en 0.38 secondes. Temps restant estimé : 188.28 secondes.\n",
      "Lot 36/500 traité en 0.36 secondes. Temps restant estimé : 187.29 secondes.\n",
      "Lot 37/500 traité en 0.40 secondes. Temps restant estimé : 186.80 secondes.\n",
      "Lot 38/500 traité en 0.41 secondes. Temps restant estimé : 186.51 secondes.\n",
      "Lot 39/500 traité en 0.40 secondes. Temps restant estimé : 186.01 secondes.\n",
      "Lot 40/500 traité en 0.37 secondes. Temps restant estimé : 185.21 secondes.\n",
      "Lot 41/500 traité en 0.38 secondes. Temps restant estimé : 184.60 secondes.\n",
      "Lot 42/500 traité en 0.37 secondes. Temps restant estimé : 183.85 secondes.\n",
      "Lot 43/500 traité en 0.40 secondes. Temps restant estimé : 183.39 secondes.\n",
      "Lot 44/500 traité en 0.39 secondes. Temps restant estimé : 182.91 secondes.\n",
      "Lot 45/500 traité en 0.39 secondes. Temps restant estimé : 182.40 secondes.\n",
      "Lot 46/500 traité en 0.40 secondes. Temps restant estimé : 182.01 secondes.\n",
      "Lot 47/500 traité en 0.39 secondes. Temps restant estimé : 181.54 secondes.\n",
      "Lot 48/500 traité en 0.35 secondes. Temps restant estimé : 180.63 secondes.\n",
      "Lot 49/500 traité en 0.41 secondes. Temps restant estimé : 180.35 secondes.\n",
      "Lot 50/500 traité en 0.39 secondes. Temps restant estimé : 179.85 secondes.\n",
      "Lot 51/500 traité en 0.43 secondes. Temps restant estimé : 179.71 secondes.\n",
      "Lot 52/500 traité en 0.42 secondes. Temps restant estimé : 179.45 secondes.\n",
      "Lot 53/500 traité en 0.45 secondes. Temps restant estimé : 179.44 secondes.\n",
      "Lot 54/500 traité en 0.42 secondes. Temps restant estimé : 179.19 secondes.\n",
      "Lot 55/500 traité en 0.44 secondes. Temps restant estimé : 179.09 secondes.\n",
      "Lot 56/500 traité en 0.43 secondes. Temps restant estimé : 178.90 secondes.\n",
      "Lot 57/500 traité en 0.35 secondes. Temps restant estimé : 178.11 secondes.\n",
      "Lot 58/500 traité en 0.39 secondes. Temps restant estimé : 177.63 secondes.\n",
      "Lot 59/500 traité en 0.43 secondes. Temps restant estimé : 177.46 secondes.\n",
      "Lot 60/500 traité en 0.37 secondes. Temps restant estimé : 176.80 secondes.\n",
      "Lot 61/500 traité en 0.37 secondes. Temps restant estimé : 176.15 secondes.\n",
      "Lot 62/500 traité en 0.41 secondes. Temps restant estimé : 175.78 secondes.\n",
      "Lot 63/500 traité en 0.39 secondes. Temps restant estimé : 175.26 secondes.\n",
      "Lot 64/500 traité en 0.39 secondes. Temps restant estimé : 174.82 secondes.\n",
      "Lot 65/500 traité en 0.39 secondes. Temps restant estimé : 174.34 secondes.\n",
      "Lot 66/500 traité en 0.38 secondes. Temps restant estimé : 173.84 secondes.\n",
      "Lot 67/500 traité en 0.42 secondes. Temps restant estimé : 173.54 secondes.\n",
      "Lot 68/500 traité en 0.38 secondes. Temps restant estimé : 172.99 secondes.\n",
      "Lot 69/500 traité en 0.45 secondes. Temps restant estimé : 172.89 secondes.\n",
      "Lot 70/500 traité en 0.43 secondes. Temps restant estimé : 172.68 secondes.\n",
      "Lot 71/500 traité en 0.41 secondes. Temps restant estimé : 172.34 secondes.\n",
      "Lot 72/500 traité en 0.36 secondes. Temps restant estimé : 171.69 secondes.\n",
      "Lot 73/500 traité en 0.40 secondes. Temps restant estimé : 171.29 secondes.\n",
      "Lot 74/500 traité en 0.37 secondes. Temps restant estimé : 170.72 secondes.\n",
      "Lot 75/500 traité en 0.40 secondes. Temps restant estimé : 170.34 secondes.\n",
      "Lot 76/500 traité en 0.38 secondes. Temps restant estimé : 169.82 secondes.\n",
      "Lot 77/500 traité en 0.41 secondes. Temps restant estimé : 169.47 secondes.\n",
      "Lot 78/500 traité en 0.40 secondes. Temps restant estimé : 169.05 secondes.\n",
      "Lot 79/500 traité en 0.36 secondes. Temps restant estimé : 168.44 secondes.\n",
      "Lot 80/500 traité en 0.38 secondes. Temps restant estimé : 167.94 secondes.\n",
      "Lot 81/500 traité en 0.37 secondes. Temps restant estimé : 167.39 secondes.\n",
      "Lot 82/500 traité en 0.39 secondes. Temps restant estimé : 166.94 secondes.\n",
      "Lot 83/500 traité en 0.38 secondes. Temps restant estimé : 166.45 secondes.\n",
      "Lot 84/500 traité en 0.39 secondes. Temps restant estimé : 166.02 secondes.\n",
      "Lot 85/500 traité en 0.38 secondes. Temps restant estimé : 165.54 secondes.\n",
      "Lot 86/500 traité en 0.39 secondes. Temps restant estimé : 165.09 secondes.\n",
      "Lot 87/500 traité en 0.40 secondes. Temps restant estimé : 164.69 secondes.\n",
      "Lot 88/500 traité en 0.42 secondes. Temps restant estimé : 164.41 secondes.\n",
      "Lot 89/500 traité en 0.42 secondes. Temps restant estimé : 164.09 secondes.\n",
      "Lot 90/500 traité en 0.40 secondes. Temps restant estimé : 163.71 secondes.\n",
      "Lot 91/500 traité en 0.42 secondes. Temps restant estimé : 163.42 secondes.\n",
      "Lot 92/500 traité en 0.45 secondes. Temps restant estimé : 163.23 secondes.\n",
      "Lot 93/500 traité en 0.44 secondes. Temps restant estimé : 163.03 secondes.\n",
      "Lot 94/500 traité en 0.43 secondes. Temps restant estimé : 162.77 secondes.\n",
      "Lot 95/500 traité en 0.41 secondes. Temps restant estimé : 162.40 secondes.\n",
      "Lot 96/500 traité en 0.37 secondes. Temps restant estimé : 161.86 secondes.\n",
      "Lot 97/500 traité en 0.40 secondes. Temps restant estimé : 161.44 secondes.\n",
      "Lot 98/500 traité en 0.44 secondes. Temps restant estimé : 161.22 secondes.\n",
      "Lot 99/500 traité en 0.39 secondes. Temps restant estimé : 160.76 secondes.\n",
      "Lot 100/500 traité en 0.33 secondes. Temps restant estimé : 160.07 secondes.\n",
      "Lot 101/500 traité en 0.40 secondes. Temps restant estimé : 159.66 secondes.\n",
      "Lot 102/500 traité en 0.40 secondes. Temps restant estimé : 159.26 secondes.\n",
      "Lot 103/500 traité en 0.36 secondes. Temps restant estimé : 158.69 secondes.\n",
      "Lot 104/500 traité en 0.37 secondes. Temps restant estimé : 158.18 secondes.\n",
      "Lot 105/500 traité en 0.39 secondes. Temps restant estimé : 157.75 secondes.\n",
      "Lot 106/500 traité en 0.40 secondes. Temps restant estimé : 157.35 secondes.\n",
      "Lot 107/500 traité en 0.39 secondes. Temps restant estimé : 156.92 secondes.\n",
      "Lot 108/500 traité en 0.37 secondes. Temps restant estimé : 156.43 secondes.\n",
      "Lot 109/500 traité en 0.38 secondes. Temps restant estimé : 155.95 secondes.\n",
      "Lot 110/500 traité en 0.35 secondes. Temps restant estimé : 155.37 secondes.\n",
      "Lot 111/500 traité en 0.37 secondes. Temps restant estimé : 154.87 secondes.\n",
      "Lot 112/500 traité en 0.36 secondes. Temps restant estimé : 154.35 secondes.\n",
      "Lot 113/500 traité en 0.42 secondes. Temps restant estimé : 154.05 secondes.\n",
      "Lot 114/500 traité en 0.41 secondes. Temps restant estimé : 153.70 secondes.\n",
      "Lot 115/500 traité en 0.43 secondes. Temps restant estimé : 153.40 secondes.\n",
      "Lot 116/500 traité en 0.42 secondes. Temps restant estimé : 153.07 secondes.\n",
      "Lot 117/500 traité en 0.38 secondes. Temps restant estimé : 152.62 secondes.\n",
      "Lot 118/500 traité en 0.38 secondes. Temps restant estimé : 152.17 secondes.\n",
      "Lot 119/500 traité en 0.36 secondes. Temps restant estimé : 151.67 secondes.\n",
      "Lot 120/500 traité en 0.36 secondes. Temps restant estimé : 151.16 secondes.\n",
      "Lot 121/500 traité en 0.42 secondes. Temps restant estimé : 150.82 secondes.\n",
      "Lot 122/500 traité en 0.41 secondes. Temps restant estimé : 150.44 secondes.\n",
      "Lot 123/500 traité en 0.40 secondes. Temps restant estimé : 150.06 secondes.\n",
      "Lot 124/500 traité en 0.37 secondes. Temps restant estimé : 149.57 secondes.\n",
      "Lot 125/500 traité en 0.35 secondes. Temps restant estimé : 149.03 secondes.\n",
      "Lot 126/500 traité en 0.43 secondes. Temps restant estimé : 148.74 secondes.\n",
      "Lot 127/500 traité en 0.40 secondes. Temps restant estimé : 148.35 secondes.\n",
      "Lot 128/500 traité en 0.40 secondes. Temps restant estimé : 147.96 secondes.\n",
      "Lot 129/500 traité en 0.38 secondes. Temps restant estimé : 147.50 secondes.\n",
      "Lot 130/500 traité en 0.46 secondes. Temps restant estimé : 147.28 secondes.\n",
      "Lot 131/500 traité en 0.46 secondes. Temps restant estimé : 147.05 secondes.\n",
      "Lot 132/500 traité en 0.45 secondes. Temps restant estimé : 146.79 secondes.\n",
      "Lot 133/500 traité en 0.49 secondes. Temps restant estimé : 146.64 secondes.\n",
      "Lot 134/500 traité en 0.41 secondes. Temps restant estimé : 146.28 secondes.\n",
      "Lot 135/500 traité en 0.41 secondes. Temps restant estimé : 145.90 secondes.\n",
      "Lot 136/500 traité en 0.42 secondes. Temps restant estimé : 145.56 secondes.\n",
      "Lot 137/500 traité en 0.43 secondes. Temps restant estimé : 145.23 secondes.\n",
      "Lot 138/500 traité en 0.44 secondes. Temps restant estimé : 144.93 secondes.\n",
      "Lot 139/500 traité en 0.45 secondes. Temps restant estimé : 144.65 secondes.\n",
      "Lot 140/500 traité en 0.43 secondes. Temps restant estimé : 144.32 secondes.\n",
      "Lot 141/500 traité en 0.43 secondes. Temps restant estimé : 144.00 secondes.\n",
      "Lot 142/500 traité en 0.40 secondes. Temps restant estimé : 143.60 secondes.\n",
      "Lot 143/500 traité en 0.40 secondes. Temps restant estimé : 143.20 secondes.\n",
      "Lot 144/500 traité en 0.43 secondes. Temps restant estimé : 142.86 secondes.\n",
      "Lot 145/500 traité en 0.38 secondes. Temps restant estimé : 142.40 secondes.\n",
      "Lot 146/500 traité en 0.46 secondes. Temps restant estimé : 142.15 secondes.\n",
      "Lot 147/500 traité en 0.37 secondes. Temps restant estimé : 141.67 secondes.\n",
      "Lot 148/500 traité en 0.39 secondes. Temps restant estimé : 141.24 secondes.\n",
      "Lot 149/500 traité en 0.39 secondes. Temps restant estimé : 140.81 secondes.\n",
      "Lot 150/500 traité en 0.42 secondes. Temps restant estimé : 140.45 secondes.\n",
      "Lot 151/500 traité en 0.45 secondes. Temps restant estimé : 140.17 secondes.\n",
      "Lot 152/500 traité en 0.43 secondes. Temps restant estimé : 139.83 secondes.\n",
      "Lot 153/500 traité en 0.39 secondes. Temps restant estimé : 139.40 secondes.\n",
      "Lot 154/500 traité en 0.42 secondes. Temps restant estimé : 139.04 secondes.\n",
      "Lot 155/500 traité en 0.44 secondes. Temps restant estimé : 138.72 secondes.\n",
      "Lot 156/500 traité en 0.39 secondes. Temps restant estimé : 138.30 secondes.\n",
      "Lot 157/500 traité en 0.39 secondes. Temps restant estimé : 137.86 secondes.\n",
      "Lot 158/500 traité en 0.38 secondes. Temps restant estimé : 137.41 secondes.\n",
      "Lot 159/500 traité en 0.36 secondes. Temps restant estimé : 136.93 secondes.\n",
      "Lot 160/500 traité en 0.38 secondes. Temps restant estimé : 136.47 secondes.\n",
      "Lot 161/500 traité en 0.39 secondes. Temps restant estimé : 136.06 secondes.\n",
      "Lot 162/500 traité en 0.42 secondes. Temps restant estimé : 135.69 secondes.\n",
      "Lot 163/500 traité en 0.43 secondes. Temps restant estimé : 135.35 secondes.\n",
      "Lot 164/500 traité en 0.43 secondes. Temps restant estimé : 135.01 secondes.\n",
      "Lot 165/500 traité en 0.40 secondes. Temps restant estimé : 134.61 secondes.\n",
      "Lot 166/500 traité en 0.38 secondes. Temps restant estimé : 134.16 secondes.\n",
      "Lot 167/500 traité en 0.40 secondes. Temps restant estimé : 133.75 secondes.\n",
      "Lot 168/500 traité en 0.44 secondes. Temps restant estimé : 133.43 secondes.\n",
      "Lot 169/500 traité en 0.45 secondes. Temps restant estimé : 133.12 secondes.\n",
      "Lot 170/500 traité en 0.46 secondes. Temps restant estimé : 132.83 secondes.\n",
      "Lot 171/500 traité en 0.48 secondes. Temps restant estimé : 132.58 secondes.\n",
      "Lot 172/500 traité en 0.46 secondes. Temps restant estimé : 132.28 secondes.\n",
      "Lot 173/500 traité en 0.42 secondes. Temps restant estimé : 131.90 secondes.\n",
      "Lot 174/500 traité en 0.41 secondes. Temps restant estimé : 131.51 secondes.\n",
      "Lot 175/500 traité en 0.39 secondes. Temps restant estimé : 131.09 secondes.\n",
      "Lot 176/500 traité en 0.40 secondes. Temps restant estimé : 130.68 secondes.\n",
      "Lot 177/500 traité en 0.39 secondes. Temps restant estimé : 130.26 secondes.\n",
      "Lot 178/500 traité en 0.39 secondes. Temps restant estimé : 129.83 secondes.\n",
      "Lot 179/500 traité en 0.35 secondes. Temps restant estimé : 129.34 secondes.\n",
      "Lot 180/500 traité en 0.43 secondes. Temps restant estimé : 128.98 secondes.\n",
      "Lot 181/500 traité en 0.41 secondes. Temps restant estimé : 128.58 secondes.\n",
      "Lot 182/500 traité en 0.43 secondes. Temps restant estimé : 128.22 secondes.\n",
      "Lot 183/500 traité en 0.37 secondes. Temps restant estimé : 127.77 secondes.\n",
      "Lot 184/500 traité en 0.39 secondes. Temps restant estimé : 127.34 secondes.\n",
      "Lot 185/500 traité en 0.37 secondes. Temps restant estimé : 126.89 secondes.\n",
      "Lot 186/500 traité en 0.40 secondes. Temps restant estimé : 126.49 secondes.\n",
      "Lot 187/500 traité en 0.38 secondes. Temps restant estimé : 126.04 secondes.\n",
      "Lot 188/500 traité en 0.43 secondes. Temps restant estimé : 125.69 secondes.\n",
      "Lot 189/500 traité en 0.40 secondes. Temps restant estimé : 125.28 secondes.\n",
      "Lot 190/500 traité en 0.41 secondes. Temps restant estimé : 124.89 secondes.\n",
      "Lot 191/500 traité en 0.38 secondes. Temps restant estimé : 124.44 secondes.\n",
      "Lot 192/500 traité en 0.40 secondes. Temps restant estimé : 124.04 secondes.\n",
      "Lot 193/500 traité en 0.37 secondes. Temps restant estimé : 123.58 secondes.\n",
      "Lot 194/500 traité en 0.41 secondes. Temps restant estimé : 123.19 secondes.\n",
      "Lot 195/500 traité en 0.38 secondes. Temps restant estimé : 122.75 secondes.\n",
      "Lot 196/500 traité en 0.39 secondes. Temps restant estimé : 122.32 secondes.\n",
      "Lot 197/500 traité en 0.40 secondes. Temps restant estimé : 121.92 secondes.\n",
      "Lot 198/500 traité en 0.43 secondes. Temps restant estimé : 121.56 secondes.\n",
      "Lot 199/500 traité en 0.37 secondes. Temps restant estimé : 121.11 secondes.\n",
      "Lot 200/500 traité en 0.46 secondes. Temps restant estimé : 120.79 secondes.\n",
      "Lot 201/500 traité en 0.44 secondes. Temps restant estimé : 120.44 secondes.\n",
      "Lot 202/500 traité en 0.41 secondes. Temps restant estimé : 120.06 secondes.\n",
      "Lot 203/500 traité en 0.40 secondes. Temps restant estimé : 119.65 secondes.\n",
      "Lot 204/500 traité en 0.39 secondes. Temps restant estimé : 119.23 secondes.\n",
      "Lot 205/500 traité en 0.38 secondes. Temps restant estimé : 118.80 secondes.\n",
      "Lot 206/500 traité en 0.43 secondes. Temps restant estimé : 118.44 secondes.\n",
      "Lot 207/500 traité en 0.46 secondes. Temps restant estimé : 118.12 secondes.\n",
      "Lot 208/500 traité en 0.46 secondes. Temps restant estimé : 117.79 secondes.\n",
      "Lot 209/500 traité en 0.45 secondes. Temps restant estimé : 117.45 secondes.\n",
      "Lot 210/500 traité en 0.48 secondes. Temps restant estimé : 117.15 secondes.\n",
      "Lot 211/500 traité en 0.47 secondes. Temps restant estimé : 116.84 secondes.\n",
      "Lot 212/500 traité en 0.43 secondes. Temps restant estimé : 116.47 secondes.\n",
      "Lot 213/500 traité en 0.41 secondes. Temps restant estimé : 116.08 secondes.\n",
      "Lot 214/500 traité en 0.40 secondes. Temps restant estimé : 115.67 secondes.\n",
      "Lot 215/500 traité en 0.37 secondes. Temps restant estimé : 115.22 secondes.\n",
      "Lot 216/500 traité en 0.40 secondes. Temps restant estimé : 114.81 secondes.\n",
      "Lot 217/500 traité en 0.39 secondes. Temps restant estimé : 114.39 secondes.\n",
      "Lot 218/500 traité en 0.45 secondes. Temps restant estimé : 114.05 secondes.\n",
      "Lot 219/500 traité en 0.47 secondes. Temps restant estimé : 113.72 secondes.\n",
      "Lot 220/500 traité en 0.40 secondes. Temps restant estimé : 113.31 secondes.\n",
      "Lot 221/500 traité en 0.41 secondes. Temps restant estimé : 112.92 secondes.\n",
      "Lot 222/500 traité en 0.40 secondes. Temps restant estimé : 112.51 secondes.\n",
      "Lot 223/500 traité en 0.46 secondes. Temps restant estimé : 112.17 secondes.\n",
      "Lot 224/500 traité en 0.44 secondes. Temps restant estimé : 111.81 secondes.\n",
      "Lot 225/500 traité en 0.46 secondes. Temps restant estimé : 111.47 secondes.\n",
      "Lot 226/500 traité en 0.40 secondes. Temps restant estimé : 111.06 secondes.\n",
      "Lot 227/500 traité en 0.46 secondes. Temps restant estimé : 110.72 secondes.\n",
      "Lot 228/500 traité en 0.40 secondes. Temps restant estimé : 110.31 secondes.\n",
      "Lot 229/500 traité en 0.37 secondes. Temps restant estimé : 109.86 secondes.\n",
      "Lot 230/500 traité en 0.36 secondes. Temps restant estimé : 109.40 secondes.\n",
      "Lot 231/500 traité en 0.41 secondes. Temps restant estimé : 109.00 secondes.\n",
      "Lot 232/500 traité en 0.36 secondes. Temps restant estimé : 108.55 secondes.\n",
      "Lot 233/500 traité en 0.39 secondes. Temps restant estimé : 108.13 secondes.\n",
      "Lot 234/500 traité en 0.40 secondes. Temps restant estimé : 107.71 secondes.\n",
      "Lot 235/500 traité en 0.40 secondes. Temps restant estimé : 107.30 secondes.\n",
      "Lot 236/500 traité en 0.36 secondes. Temps restant estimé : 106.85 secondes.\n",
      "Lot 237/500 traité en 0.38 secondes. Temps restant estimé : 106.41 secondes.\n",
      "Lot 238/500 traité en 0.40 secondes. Temps restant estimé : 106.00 secondes.\n",
      "Lot 239/500 traité en 0.41 secondes. Temps restant estimé : 105.61 secondes.\n",
      "Lot 240/500 traité en 0.38 secondes. Temps restant estimé : 105.18 secondes.\n",
      "Lot 241/500 traité en 0.40 secondes. Temps restant estimé : 104.77 secondes.\n",
      "Lot 242/500 traité en 0.41 secondes. Temps restant estimé : 104.37 secondes.\n",
      "Lot 243/500 traité en 0.45 secondes. Temps restant estimé : 104.01 secondes.\n",
      "Lot 244/500 traité en 0.43 secondes. Temps restant estimé : 103.63 secondes.\n",
      "Lot 245/500 traité en 0.46 secondes. Temps restant estimé : 103.29 secondes.\n",
      "Lot 246/500 traité en 0.44 secondes. Temps restant estimé : 102.93 secondes.\n",
      "Lot 247/500 traité en 0.48 secondes. Temps restant estimé : 102.59 secondes.\n",
      "Lot 248/500 traité en 0.45 secondes. Temps restant estimé : 102.23 secondes.\n",
      "Lot 249/500 traité en 0.49 secondes. Temps restant estimé : 101.91 secondes.\n",
      "Lot 250/500 traité en 0.44 secondes. Temps restant estimé : 101.54 secondes.\n",
      "Lot 251/500 traité en 0.41 secondes. Temps restant estimé : 101.14 secondes.\n",
      "Lot 252/500 traité en 0.40 secondes. Temps restant estimé : 100.73 secondes.\n",
      "Lot 253/500 traité en 0.44 secondes. Temps restant estimé : 100.36 secondes.\n",
      "Lot 254/500 traité en 0.39 secondes. Temps restant estimé : 99.93 secondes.\n",
      "Lot 255/500 traité en 0.44 secondes. Temps restant estimé : 99.56 secondes.\n",
      "Lot 256/500 traité en 0.38 secondes. Temps restant estimé : 99.13 secondes.\n",
      "Lot 257/500 traité en 0.44 secondes. Temps restant estimé : 98.76 secondes.\n",
      "Lot 258/500 traité en 0.44 secondes. Temps restant estimé : 98.38 secondes.\n",
      "Lot 259/500 traité en 0.40 secondes. Temps restant estimé : 97.97 secondes.\n",
      "Lot 260/500 traité en 0.44 secondes. Temps restant estimé : 97.60 secondes.\n",
      "Lot 261/500 traité en 0.43 secondes. Temps restant estimé : 97.22 secondes.\n",
      "Lot 262/500 traité en 0.39 secondes. Temps restant estimé : 96.79 secondes.\n",
      "Lot 263/500 traité en 0.47 secondes. Temps restant estimé : 96.44 secondes.\n",
      "Lot 264/500 traité en 0.37 secondes. Temps restant estimé : 96.01 secondes.\n",
      "Lot 265/500 traité en 0.36 secondes. Temps restant estimé : 95.56 secondes.\n",
      "Lot 266/500 traité en 0.39 secondes. Temps restant estimé : 95.13 secondes.\n",
      "Lot 267/500 traité en 0.41 secondes. Temps restant estimé : 94.73 secondes.\n",
      "Lot 268/500 traité en 0.41 secondes. Temps restant estimé : 94.33 secondes.\n",
      "Lot 269/500 traité en 0.42 secondes. Temps restant estimé : 93.93 secondes.\n",
      "Lot 270/500 traité en 0.40 secondes. Temps restant estimé : 93.52 secondes.\n",
      "Lot 271/500 traité en 0.38 secondes. Temps restant estimé : 93.09 secondes.\n",
      "Lot 272/500 traité en 0.45 secondes. Temps restant estimé : 92.72 secondes.\n",
      "Lot 273/500 traité en 0.44 secondes. Temps restant estimé : 92.34 secondes.\n",
      "Lot 274/500 traité en 0.37 secondes. Temps restant estimé : 91.89 secondes.\n",
      "Lot 275/500 traité en 0.43 secondes. Temps restant estimé : 91.51 secondes.\n",
      "Lot 276/500 traité en 0.42 secondes. Temps restant estimé : 91.11 secondes.\n",
      "Lot 277/500 traité en 0.39 secondes. Temps restant estimé : 90.69 secondes.\n",
      "Lot 278/500 traité en 0.42 secondes. Temps restant estimé : 90.30 secondes.\n",
      "Lot 279/500 traité en 0.40 secondes. Temps restant estimé : 89.89 secondes.\n",
      "Lot 280/500 traité en 0.37 secondes. Temps restant estimé : 89.45 secondes.\n",
      "Lot 281/500 traité en 0.44 secondes. Temps restant estimé : 89.07 secondes.\n",
      "Lot 282/500 traité en 0.43 secondes. Temps restant estimé : 88.68 secondes.\n",
      "Lot 283/500 traité en 0.37 secondes. Temps restant estimé : 88.25 secondes.\n",
      "Lot 284/500 traité en 0.42 secondes. Temps restant estimé : 87.85 secondes.\n",
      "Lot 285/500 traité en 0.45 secondes. Temps restant estimé : 87.48 secondes.\n",
      "Lot 286/500 traité en 0.43 secondes. Temps restant estimé : 87.09 secondes.\n",
      "Lot 287/500 traité en 0.47 secondes. Temps restant estimé : 86.73 secondes.\n",
      "Lot 288/500 traité en 0.44 secondes. Temps restant estimé : 86.35 secondes.\n",
      "Lot 289/500 traité en 0.43 secondes. Temps restant estimé : 85.96 secondes.\n",
      "Lot 290/500 traité en 0.40 secondes. Temps restant estimé : 85.55 secondes.\n",
      "Lot 291/500 traité en 0.40 secondes. Temps restant estimé : 85.14 secondes.\n",
      "Lot 292/500 traité en 0.43 secondes. Temps restant estimé : 84.75 secondes.\n",
      "Lot 293/500 traité en 0.40 secondes. Temps restant estimé : 84.34 secondes.\n",
      "Lot 294/500 traité en 0.39 secondes. Temps restant estimé : 83.92 secondes.\n",
      "Lot 295/500 traité en 0.40 secondes. Temps restant estimé : 83.51 secondes.\n",
      "Lot 296/500 traité en 0.44 secondes. Temps restant estimé : 83.12 secondes.\n",
      "Lot 297/500 traité en 0.42 secondes. Temps restant estimé : 82.72 secondes.\n",
      "Lot 298/500 traité en 0.41 secondes. Temps restant estimé : 82.32 secondes.\n",
      "Lot 299/500 traité en 0.44 secondes. Temps restant estimé : 81.93 secondes.\n",
      "Lot 300/500 traité en 0.46 secondes. Temps restant estimé : 81.56 secondes.\n",
      "Lot 301/500 traité en 0.42 secondes. Temps restant estimé : 81.16 secondes.\n",
      "Lot 302/500 traité en 0.41 secondes. Temps restant estimé : 80.75 secondes.\n",
      "Lot 303/500 traité en 0.46 secondes. Temps restant estimé : 80.38 secondes.\n",
      "Lot 304/500 traité en 0.43 secondes. Temps restant estimé : 79.99 secondes.\n",
      "Lot 305/500 traité en 0.43 secondes. Temps restant estimé : 79.60 secondes.\n",
      "Lot 306/500 traité en 0.46 secondes. Temps restant estimé : 79.22 secondes.\n",
      "Lot 307/500 traité en 0.43 secondes. Temps restant estimé : 78.83 secondes.\n",
      "Lot 308/500 traité en 0.41 secondes. Temps restant estimé : 78.42 secondes.\n",
      "Lot 309/500 traité en 0.45 secondes. Temps restant estimé : 78.03 secondes.\n",
      "Lot 310/500 traité en 0.41 secondes. Temps restant estimé : 77.63 secondes.\n",
      "Lot 311/500 traité en 0.41 secondes. Temps restant estimé : 77.22 secondes.\n",
      "Lot 312/500 traité en 0.40 secondes. Temps restant estimé : 76.80 secondes.\n",
      "Lot 313/500 traité en 0.38 secondes. Temps restant estimé : 76.38 secondes.\n",
      "Lot 314/500 traité en 0.40 secondes. Temps restant estimé : 75.97 secondes.\n",
      "Lot 315/500 traité en 0.41 secondes. Temps restant estimé : 75.56 secondes.\n",
      "Lot 316/500 traité en 0.39 secondes. Temps restant estimé : 75.14 secondes.\n",
      "Lot 317/500 traité en 0.38 secondes. Temps restant estimé : 74.72 secondes.\n",
      "Lot 318/500 traité en 0.45 secondes. Temps restant estimé : 74.33 secondes.\n",
      "Lot 319/500 traité en 0.45 secondes. Temps restant estimé : 73.95 secondes.\n",
      "Lot 320/500 traité en 0.44 secondes. Temps restant estimé : 73.56 secondes.\n",
      "Lot 321/500 traité en 0.40 secondes. Temps restant estimé : 73.14 secondes.\n",
      "Lot 322/500 traité en 0.43 secondes. Temps restant estimé : 72.75 secondes.\n",
      "Lot 323/500 traité en 0.45 secondes. Temps restant estimé : 72.36 secondes.\n",
      "Lot 324/500 traité en 0.48 secondes. Temps restant estimé : 71.99 secondes.\n",
      "Lot 325/500 traité en 0.45 secondes. Temps restant estimé : 71.61 secondes.\n",
      "Lot 326/500 traité en 0.44 secondes. Temps restant estimé : 71.21 secondes.\n",
      "Lot 327/500 traité en 0.43 secondes. Temps restant estimé : 70.82 secondes.\n",
      "Lot 328/500 traité en 0.37 secondes. Temps restant estimé : 70.39 secondes.\n",
      "Lot 329/500 traité en 0.41 secondes. Temps restant estimé : 69.98 secondes.\n",
      "Lot 330/500 traité en 0.40 secondes. Temps restant estimé : 69.56 secondes.\n",
      "Lot 331/500 traité en 0.40 secondes. Temps restant estimé : 69.15 secondes.\n",
      "Lot 332/500 traité en 0.40 secondes. Temps restant estimé : 68.74 secondes.\n",
      "Lot 333/500 traité en 0.38 secondes. Temps restant estimé : 68.31 secondes.\n",
      "Lot 334/500 traité en 0.44 secondes. Temps restant estimé : 67.92 secondes.\n",
      "Lot 335/500 traité en 0.45 secondes. Temps restant estimé : 67.53 secondes.\n",
      "Lot 336/500 traité en 0.40 secondes. Temps restant estimé : 67.12 secondes.\n",
      "Lot 337/500 traité en 0.40 secondes. Temps restant estimé : 66.70 secondes.\n",
      "Lot 338/500 traité en 0.42 secondes. Temps restant estimé : 66.30 secondes.\n",
      "Lot 339/500 traité en 0.42 secondes. Temps restant estimé : 65.89 secondes.\n",
      "Lot 340/500 traité en 0.45 secondes. Temps restant estimé : 65.50 secondes.\n",
      "Lot 341/500 traité en 0.41 secondes. Temps restant estimé : 65.09 secondes.\n",
      "Lot 342/500 traité en 0.44 secondes. Temps restant estimé : 64.70 secondes.\n",
      "Lot 343/500 traité en 0.41 secondes. Temps restant estimé : 64.29 secondes.\n",
      "Lot 344/500 traité en 0.40 secondes. Temps restant estimé : 63.87 secondes.\n",
      "Lot 345/500 traité en 0.37 secondes. Temps restant estimé : 63.45 secondes.\n",
      "Lot 346/500 traité en 0.43 secondes. Temps restant estimé : 63.05 secondes.\n",
      "Lot 347/500 traité en 0.43 secondes. Temps restant estimé : 62.65 secondes.\n",
      "Lot 348/500 traité en 0.38 secondes. Temps restant estimé : 62.22 secondes.\n",
      "Lot 349/500 traité en 0.37 secondes. Temps restant estimé : 61.80 secondes.\n",
      "Lot 350/500 traité en 0.43 secondes. Temps restant estimé : 61.40 secondes.\n",
      "Lot 351/500 traité en 0.41 secondes. Temps restant estimé : 60.99 secondes.\n",
      "Lot 352/500 traité en 0.38 secondes. Temps restant estimé : 60.57 secondes.\n",
      "Lot 353/500 traité en 0.39 secondes. Temps restant estimé : 60.15 secondes.\n",
      "Lot 354/500 traité en 0.36 secondes. Temps restant estimé : 59.72 secondes.\n",
      "Lot 355/500 traité en 0.42 secondes. Temps restant estimé : 59.32 secondes.\n",
      "Lot 356/500 traité en 0.36 secondes. Temps restant estimé : 58.89 secondes.\n",
      "Lot 357/500 traité en 0.39 secondes. Temps restant estimé : 58.47 secondes.\n",
      "Lot 358/500 traité en 0.40 secondes. Temps restant estimé : 58.06 secondes.\n",
      "Lot 359/500 traité en 0.42 secondes. Temps restant estimé : 57.65 secondes.\n",
      "Lot 360/500 traité en 0.41 secondes. Temps restant estimé : 57.25 secondes.\n",
      "Lot 361/500 traité en 0.46 secondes. Temps restant estimé : 56.86 secondes.\n",
      "Lot 362/500 traité en 0.45 secondes. Temps restant estimé : 56.46 secondes.\n",
      "Lot 363/500 traité en 0.44 secondes. Temps restant estimé : 56.06 secondes.\n",
      "Lot 364/500 traité en 0.44 secondes. Temps restant estimé : 55.67 secondes.\n",
      "Lot 365/500 traité en 0.47 secondes. Temps restant estimé : 55.28 secondes.\n",
      "Lot 366/500 traité en 0.44 secondes. Temps restant estimé : 54.88 secondes.\n",
      "Lot 367/500 traité en 0.44 secondes. Temps restant estimé : 54.48 secondes.\n",
      "Lot 368/500 traité en 0.36 secondes. Temps restant estimé : 54.06 secondes.\n",
      "Lot 369/500 traité en 0.45 secondes. Temps restant estimé : 53.66 secondes.\n",
      "Lot 370/500 traité en 0.43 secondes. Temps restant estimé : 53.26 secondes.\n",
      "Lot 371/500 traité en 0.46 secondes. Temps restant estimé : 52.86 secondes.\n",
      "Lot 372/500 traité en 0.42 secondes. Temps restant estimé : 52.46 secondes.\n",
      "Lot 373/500 traité en 0.38 secondes. Temps restant estimé : 52.04 secondes.\n",
      "Lot 374/500 traité en 0.43 secondes. Temps restant estimé : 51.63 secondes.\n",
      "Lot 375/500 traité en 0.42 secondes. Temps restant estimé : 51.23 secondes.\n",
      "Lot 376/500 traité en 0.42 secondes. Temps restant estimé : 50.82 secondes.\n",
      "Lot 377/500 traité en 0.40 secondes. Temps restant estimé : 50.41 secondes.\n",
      "Lot 378/500 traité en 0.43 secondes. Temps restant estimé : 50.00 secondes.\n",
      "Lot 379/500 traité en 0.41 secondes. Temps restant estimé : 49.59 secondes.\n",
      "Lot 380/500 traité en 0.43 secondes. Temps restant estimé : 49.19 secondes.\n",
      "Lot 381/500 traité en 0.45 secondes. Temps restant estimé : 48.79 secondes.\n",
      "Lot 382/500 traité en 0.43 secondes. Temps restant estimé : 48.39 secondes.\n",
      "Lot 383/500 traité en 0.44 secondes. Temps restant estimé : 47.99 secondes.\n",
      "Lot 384/500 traité en 0.38 secondes. Temps restant estimé : 47.57 secondes.\n",
      "Lot 385/500 traité en 0.41 secondes. Temps restant estimé : 47.16 secondes.\n",
      "Lot 386/500 traité en 0.35 secondes. Temps restant estimé : 46.73 secondes.\n",
      "Lot 387/500 traité en 0.40 secondes. Temps restant estimé : 46.32 secondes.\n",
      "Lot 388/500 traité en 0.41 secondes. Temps restant estimé : 45.91 secondes.\n",
      "Lot 389/500 traité en 0.39 secondes. Temps restant estimé : 45.49 secondes.\n",
      "Lot 390/500 traité en 0.38 secondes. Temps restant estimé : 45.07 secondes.\n",
      "Lot 391/500 traité en 0.36 secondes. Temps restant estimé : 44.65 secondes.\n",
      "Lot 392/500 traité en 0.39 secondes. Temps restant estimé : 44.24 secondes.\n",
      "Lot 393/500 traité en 0.37 secondes. Temps restant estimé : 43.81 secondes.\n",
      "Lot 394/500 traité en 0.39 secondes. Temps restant estimé : 43.40 secondes.\n",
      "Lot 395/500 traité en 0.35 secondes. Temps restant estimé : 42.97 secondes.\n",
      "Lot 396/500 traité en 0.35 secondes. Temps restant estimé : 42.55 secondes.\n",
      "Lot 397/500 traité en 0.36 secondes. Temps restant estimé : 42.13 secondes.\n",
      "Lot 398/500 traité en 0.40 secondes. Temps restant estimé : 41.72 secondes.\n",
      "Lot 399/500 traité en 0.35 secondes. Temps restant estimé : 41.29 secondes.\n",
      "Lot 400/500 traité en 0.41 secondes. Temps restant estimé : 40.88 secondes.\n",
      "Lot 401/500 traité en 0.46 secondes. Temps restant estimé : 40.49 secondes.\n",
      "Lot 402/500 traité en 0.42 secondes. Temps restant estimé : 40.08 secondes.\n",
      "Lot 403/500 traité en 0.46 secondes. Temps restant estimé : 39.68 secondes.\n",
      "Lot 404/500 traité en 0.42 secondes. Temps restant estimé : 39.28 secondes.\n",
      "Lot 405/500 traité en 0.43 secondes. Temps restant estimé : 38.87 secondes.\n",
      "Lot 406/500 traité en 0.40 secondes. Temps restant estimé : 38.46 secondes.\n",
      "Lot 407/500 traité en 0.38 secondes. Temps restant estimé : 38.04 secondes.\n",
      "Lot 408/500 traité en 0.40 secondes. Temps restant estimé : 37.63 secondes.\n",
      "Lot 409/500 traité en 0.40 secondes. Temps restant estimé : 37.22 secondes.\n",
      "Lot 410/500 traité en 0.39 secondes. Temps restant estimé : 36.81 secondes.\n",
      "Lot 411/500 traité en 0.41 secondes. Temps restant estimé : 36.40 secondes.\n",
      "Lot 412/500 traité en 0.41 secondes. Temps restant estimé : 35.99 secondes.\n",
      "Lot 413/500 traité en 0.36 secondes. Temps restant estimé : 35.57 secondes.\n",
      "Lot 414/500 traité en 0.36 secondes. Temps restant estimé : 35.15 secondes.\n",
      "Lot 415/500 traité en 0.39 secondes. Temps restant estimé : 34.74 secondes.\n",
      "Lot 416/500 traité en 0.43 secondes. Temps restant estimé : 34.34 secondes.\n",
      "Lot 417/500 traité en 0.47 secondes. Temps restant estimé : 33.94 secondes.\n",
      "Lot 418/500 traité en 0.37 secondes. Temps restant estimé : 33.52 secondes.\n",
      "Lot 419/500 traité en 0.46 secondes. Temps restant estimé : 33.12 secondes.\n",
      "Lot 420/500 traité en 0.39 secondes. Temps restant estimé : 32.71 secondes.\n",
      "Lot 421/500 traité en 0.38 secondes. Temps restant estimé : 32.30 secondes.\n",
      "Lot 422/500 traité en 0.38 secondes. Temps restant estimé : 31.88 secondes.\n",
      "Lot 423/500 traité en 0.39 secondes. Temps restant estimé : 31.47 secondes.\n",
      "Lot 424/500 traité en 0.39 secondes. Temps restant estimé : 31.06 secondes.\n",
      "Lot 425/500 traité en 0.37 secondes. Temps restant estimé : 30.64 secondes.\n",
      "Lot 426/500 traité en 0.45 secondes. Temps restant estimé : 30.24 secondes.\n",
      "Lot 427/500 traité en 0.39 secondes. Temps restant estimé : 29.83 secondes.\n",
      "Lot 428/500 traité en 0.38 secondes. Temps restant estimé : 29.42 secondes.\n",
      "Lot 429/500 traité en 0.35 secondes. Temps restant estimé : 29.00 secondes.\n",
      "Lot 430/500 traité en 0.42 secondes. Temps restant estimé : 28.59 secondes.\n",
      "Lot 431/500 traité en 0.37 secondes. Temps restant estimé : 28.18 secondes.\n",
      "Lot 432/500 traité en 0.37 secondes. Temps restant estimé : 27.76 secondes.\n",
      "Lot 433/500 traité en 0.34 secondes. Temps restant estimé : 27.35 secondes.\n",
      "Lot 434/500 traité en 0.37 secondes. Temps restant estimé : 26.93 secondes.\n",
      "Lot 435/500 traité en 0.40 secondes. Temps restant estimé : 26.52 secondes.\n",
      "Lot 436/500 traité en 0.37 secondes. Temps restant estimé : 26.11 secondes.\n",
      "Lot 437/500 traité en 0.42 secondes. Temps restant estimé : 25.70 secondes.\n",
      "Lot 438/500 traité en 0.41 secondes. Temps restant estimé : 25.30 secondes.\n",
      "Lot 439/500 traité en 0.41 secondes. Temps restant estimé : 24.89 secondes.\n",
      "Lot 440/500 traité en 0.41 secondes. Temps restant estimé : 24.48 secondes.\n",
      "Lot 441/500 traité en 0.40 secondes. Temps restant estimé : 24.07 secondes.\n",
      "Lot 442/500 traité en 0.48 secondes. Temps restant estimé : 23.67 secondes.\n",
      "Lot 443/500 traité en 0.39 secondes. Temps restant estimé : 23.26 secondes.\n",
      "Lot 444/500 traité en 0.44 secondes. Temps restant estimé : 22.86 secondes.\n",
      "Lot 445/500 traité en 0.40 secondes. Temps restant estimé : 22.45 secondes.\n",
      "Lot 446/500 traité en 0.40 secondes. Temps restant estimé : 22.04 secondes.\n",
      "Lot 447/500 traité en 0.38 secondes. Temps restant estimé : 21.63 secondes.\n",
      "Lot 448/500 traité en 0.35 secondes. Temps restant estimé : 21.22 secondes.\n",
      "Lot 449/500 traité en 0.41 secondes. Temps restant estimé : 20.81 secondes.\n",
      "Lot 450/500 traité en 0.37 secondes. Temps restant estimé : 20.40 secondes.\n",
      "Lot 451/500 traité en 0.39 secondes. Temps restant estimé : 19.99 secondes.\n",
      "Lot 452/500 traité en 0.41 secondes. Temps restant estimé : 19.58 secondes.\n",
      "Lot 453/500 traité en 0.42 secondes. Temps restant estimé : 19.17 secondes.\n",
      "Lot 454/500 traité en 0.42 secondes. Temps restant estimé : 18.77 secondes.\n",
      "Lot 455/500 traité en 0.38 secondes. Temps restant estimé : 18.36 secondes.\n",
      "Lot 456/500 traité en 0.42 secondes. Temps restant estimé : 17.95 secondes.\n",
      "Lot 457/500 traité en 0.41 secondes. Temps restant estimé : 17.54 secondes.\n",
      "Lot 458/500 traité en 0.37 secondes. Temps restant estimé : 17.13 secondes.\n",
      "Lot 459/500 traité en 0.37 secondes. Temps restant estimé : 16.72 secondes.\n",
      "Lot 460/500 traité en 0.38 secondes. Temps restant estimé : 16.31 secondes.\n",
      "Lot 461/500 traité en 0.37 secondes. Temps restant estimé : 15.90 secondes.\n",
      "Lot 462/500 traité en 0.36 secondes. Temps restant estimé : 15.49 secondes.\n",
      "Lot 463/500 traité en 0.44 secondes. Temps restant estimé : 15.08 secondes.\n",
      "Lot 464/500 traité en 0.43 secondes. Temps restant estimé : 14.67 secondes.\n",
      "Lot 465/500 traité en 0.44 secondes. Temps restant estimé : 14.27 secondes.\n",
      "Lot 466/500 traité en 0.38 secondes. Temps restant estimé : 13.86 secondes.\n",
      "Lot 467/500 traité en 0.43 secondes. Temps restant estimé : 13.45 secondes.\n",
      "Lot 468/500 traité en 0.43 secondes. Temps restant estimé : 13.05 secondes.\n",
      "Lot 469/500 traité en 0.45 secondes. Temps restant estimé : 12.64 secondes.\n",
      "Lot 470/500 traité en 0.43 secondes. Temps restant estimé : 12.24 secondes.\n",
      "Lot 471/500 traité en 0.48 secondes. Temps restant estimé : 11.83 secondes.\n",
      "Lot 472/500 traité en 0.40 secondes. Temps restant estimé : 11.42 secondes.\n",
      "Lot 473/500 traité en 0.39 secondes. Temps restant estimé : 11.02 secondes.\n",
      "Lot 474/500 traité en 0.46 secondes. Temps restant estimé : 10.61 secondes.\n",
      "Lot 475/500 traité en 0.42 secondes. Temps restant estimé : 10.20 secondes.\n",
      "Lot 476/500 traité en 0.45 secondes. Temps restant estimé : 9.80 secondes.\n",
      "Lot 477/500 traité en 0.46 secondes. Temps restant estimé : 9.39 secondes.\n",
      "Lot 478/500 traité en 0.46 secondes. Temps restant estimé : 8.98 secondes.\n",
      "Lot 479/500 traité en 0.47 secondes. Temps restant estimé : 8.58 secondes.\n",
      "Lot 480/500 traité en 0.47 secondes. Temps restant estimé : 8.17 secondes.\n",
      "Lot 481/500 traité en 0.49 secondes. Temps restant estimé : 7.77 secondes.\n",
      "Lot 482/500 traité en 0.55 secondes. Temps restant estimé : 7.36 secondes.\n",
      "Lot 483/500 traité en 0.44 secondes. Temps restant estimé : 6.96 secondes.\n",
      "Lot 484/500 traité en 0.45 secondes. Temps restant estimé : 6.55 secondes.\n",
      "Lot 485/500 traité en 0.44 secondes. Temps restant estimé : 6.14 secondes.\n",
      "Lot 486/500 traité en 0.47 secondes. Temps restant estimé : 5.73 secondes.\n",
      "Lot 487/500 traité en 0.40 secondes. Temps restant estimé : 5.32 secondes.\n",
      "Lot 488/500 traité en 0.39 secondes. Temps restant estimé : 4.91 secondes.\n",
      "Lot 489/500 traité en 0.43 secondes. Temps restant estimé : 4.50 secondes.\n",
      "Lot 490/500 traité en 0.42 secondes. Temps restant estimé : 4.09 secondes.\n",
      "Lot 491/500 traité en 0.41 secondes. Temps restant estimé : 3.68 secondes.\n",
      "Lot 492/500 traité en 0.42 secondes. Temps restant estimé : 3.28 secondes.\n",
      "Lot 493/500 traité en 0.45 secondes. Temps restant estimé : 2.87 secondes.\n",
      "Lot 494/500 traité en 0.40 secondes. Temps restant estimé : 2.46 secondes.\n",
      "Lot 495/500 traité en 0.43 secondes. Temps restant estimé : 2.05 secondes.\n",
      "Lot 496/500 traité en 0.38 secondes. Temps restant estimé : 1.64 secondes.\n",
      "Lot 497/500 traité en 0.41 secondes. Temps restant estimé : 1.23 secondes.\n",
      "Lot 498/500 traité en 0.44 secondes. Temps restant estimé : 0.82 secondes.\n",
      "Lot 499/500 traité en 0.43 secondes. Temps restant estimé : 0.41 secondes.\n",
      "Lot 500/500 traité en 0.44 secondes. Temps restant estimé : 0.00 secondes.\n"
     ]
    }
   ],
   "source": [
    "# Appliquer BERT sur les descriptions lemmatisées avec batching et timer\n",
    "bert_features = encode_with_bert_batch(sample_data['text_cleaned'].tolist())"
   ]
  },
  {
   "cell_type": "code",
   "execution_count": 57,
   "id": "af2eb07b-683a-4270-ac83-dd1a2b525a54",
   "metadata": {},
   "outputs": [],
   "source": [
    "# Séparation des données en ensembles d'entraînement et de test pour les données lemmatisées\n",
    "X_train, X_test, y_train, y_test = train_test_split(\n",
    "    bert_features, sample_data['target_binary'], test_size=0.2, random_state=42)"
   ]
  },
  {
   "cell_type": "markdown",
   "id": "a6fb25f8-8675-4087-885d-8719cfa87b80",
   "metadata": {},
   "source": [
    "# 3. Construction du modèle CNN "
   ]
  },
  {
   "cell_type": "code",
   "execution_count": 59,
   "id": "14b77c4b-dad4-4ad5-803e-6f047b03ef65",
   "metadata": {},
   "outputs": [],
   "source": [
    "import mlflow\n",
    "import mlflow.keras\n",
    "import time\n",
    "from keras.models import Sequential\n",
    "from keras.layers import Conv1D, GlobalMaxPooling1D, Dense, Dropout, BatchNormalization, LeakyReLU, PReLU\n",
    "from keras.callbacks import EarlyStopping, ReduceLROnPlateau\n",
    "from sklearn.metrics import accuracy_score, roc_auc_score, precision_score, recall_score, f1_score, confusion_matrix, roc_curve\n",
    "import seaborn as sns\n",
    "import matplotlib.pyplot as plt\n",
    "import numpy as np\n",
    "from sklearn.model_selection import ParameterGrid\n",
    "\n",
    "# Fonction pour créer le modèle CNN\n",
    "def create_cnn_model(max_length=100, num_filters=128, kernel_size=5, dropout_rate=0.2, activation_type='relu', embedding_dim=768):\n",
    "    model = Sequential()\n",
    "\n",
    "    # Couche de convolution et normalisation\n",
    "    model.add(Conv1D(num_filters, kernel_size=kernel_size, activation='relu', input_shape=(25, embedding_dim)))\n",
    "\n",
    "    model.add(BatchNormalization())\n",
    "    model.add(GlobalMaxPooling1D())\n",
    "    \n",
    "    # Ajout de l'activation dynamique dans les couches denses\n",
    "    if activation_type == 'relu':\n",
    "        model.add(Dense(128, activation='relu'))\n",
    "    elif activation_type == 'leaky_relu':\n",
    "        model.add(Dense(128))\n",
    "        model.add(LeakyReLU(alpha=0.1))\n",
    "    elif activation_type == 'prelu':\n",
    "        model.add(Dense(128))\n",
    "        model.add(PReLU())\n",
    "\n",
    "    model.add(Dropout(dropout_rate))\n",
    "    model.add(Dense(64, activation='relu'))\n",
    "    model.add(Dropout(dropout_rate))\n",
    "    model.add(Dense(1, activation='sigmoid'))\n",
    "    \n",
    "    model.compile(optimizer='adam', loss='binary_crossentropy', metrics=['accuracy'])\n",
    "    \n",
    "    return model\n",
    "\n",
    "# Fonction pour entraîner et loguer un modèle CNN avec GridSearch et les activations avancées\n",
    "def train_and_log_cnn(X_train, y_train, X_test, y_test, experiment_name, param_grid, max_length=100, embedding_dim=768):\n",
    "    mlflow.set_experiment(experiment_name)\n",
    "    \n",
    "    best_model = None\n",
    "    best_accuracy = 0\n",
    "    best_params = None\n",
    "\n",
    "    # Parcourir chaque combinaison d'hyperparamètres\n",
    "    for params in ParameterGrid(param_grid):\n",
    "        num_filters = params['num_filters']\n",
    "        kernel_size = params['kernel_size']\n",
    "        dropout_rate = params['dropout_rate']\n",
    "        activation_type = params['activation_type']\n",
    "\n",
    "        with mlflow.start_run(run_name=f\"CNN_filters={num_filters}_kernel={kernel_size}_dropout={dropout_rate}_activation={activation_type}\"):\n",
    "\n",
    "            # Créer le modèle CNN avec les hyperparamètres courants\n",
    "            model = create_cnn_model(max_length=max_length, num_filters=num_filters, kernel_size=kernel_size, dropout_rate=dropout_rate, activation_type=activation_type, embedding_dim=embedding_dim)\n",
    "\n",
    "            # Early stopping pour éviter l'overfitting\n",
    "            early_stopping = EarlyStopping(monitor='val_loss', patience=4)\n",
    "            reduce_lr = ReduceLROnPlateau(monitor='val_loss', factor=0.2, patience=2, min_lr=0.0001)\n",
    "\n",
    "            # Entraîner le modèle\n",
    "            start_time = time.time()\n",
    "            history = model.fit(X_train, y_train, epochs=20, batch_size=64, validation_data=(X_test, y_test), callbacks=[early_stopping, reduce_lr], verbose=1)\n",
    "            training_time = time.time() - start_time\n",
    "\n",
    "            # Prédictions et évaluation\n",
    "            y_pred = (model.predict(X_test) > 0.5).astype(\"int32\")\n",
    "            y_pred_proba = model.predict(X_test)\n",
    "            accuracy = accuracy_score(y_test, y_pred)\n",
    "            auc_score = roc_auc_score(y_test, y_pred_proba)\n",
    "            precision = precision_score(y_test, y_pred)\n",
    "            recall = recall_score(y_test, y_pred)\n",
    "            f1 = f1_score(y_test, y_pred)\n",
    "\n",
    "            # Matrice de confusion\n",
    "            conf_matrix = confusion_matrix(y_test, y_pred)\n",
    "\n",
    "            # Loguer les hyperparamètres dans MLFlow\n",
    "            mlflow.log_param(\"num_filters\", num_filters)\n",
    "            mlflow.log_param(\"kernel_size\", kernel_size)\n",
    "            mlflow.log_param(\"dropout_rate\", dropout_rate)\n",
    "            mlflow.log_param(\"activation_type\", activation_type)\n",
    "\n",
    "            # Loguer les métriques dans MLFlow\n",
    "            mlflow.log_metric(\"accuracy\", accuracy)\n",
    "            mlflow.log_metric(\"auc\", auc_score)\n",
    "            mlflow.log_metric(\"precision\", precision)\n",
    "            mlflow.log_metric(\"recall\", recall)\n",
    "            mlflow.log_metric(\"f1_score\", f1)\n",
    "            mlflow.log_metric(\"training_time\", training_time)\n",
    "\n",
    "            # Sauvegarder le modèle avec MLFlow\n",
    "            mlflow.keras.log_model(model, f\"cnn_model_{num_filters}_{kernel_size}_{dropout_rate}\")\n",
    "\n",
    "            # Sauvegarder et loguer la matrice de confusion\n",
    "            plt.figure(figsize=(6, 4))\n",
    "            sns.heatmap(conf_matrix, annot=True, fmt=\"d\", cmap=\"Blues\", cbar=False)\n",
    "            plt.xlabel('Prédictions')\n",
    "            plt.ylabel('Vérités')\n",
    "            plt.title(f\"Matrice de Confusion - CNN\")\n",
    "            conf_matrix_path = f\"./matrice/confusion_matrix_cnn_filters={num_filters}_kernel={kernel_size}_dropout={dropout_rate}.png\"\n",
    "            plt.savefig(conf_matrix_path)\n",
    "            mlflow.log_artifact(conf_matrix_path)\n",
    "            plt.close()  # Fermer la figure pour éviter l'affichage dans le notebook\n",
    "\n",
    "            # Sauvegarder et loguer la courbe ROC\n",
    "            fpr, tpr, _ = roc_curve(y_test, y_pred_proba)\n",
    "            plt.figure()\n",
    "            plt.plot(fpr, tpr, label=f\"ROC curve (AUC = {auc_score:.2f})\")\n",
    "            plt.xlabel(\"False Positive Rate\")\n",
    "            plt.ylabel(\"True Positive Rate\")\n",
    "            plt.title(\"ROC Curve\")\n",
    "            plt.legend(loc=\"best\")\n",
    "            roc_curve_path = f\"./matrice/roc_curve_cnn_filters={num_filters}_kernel={kernel_size}_dropout={dropout_rate}.png\"\n",
    "            plt.savefig(roc_curve_path)\n",
    "            mlflow.log_artifact(roc_curve_path)\n",
    "            plt.close()  # Fermer la figure pour éviter l'affichage dans le notebook\n",
    "\n",
    "            # Comparer pour garder le meilleur modèle\n",
    "            if accuracy > best_accuracy:\n",
    "                best_accuracy = accuracy\n",
    "                best_params = params\n",
    "                best_model = model\n",
    "\n",
    "    print(f\"Meilleurs paramètres : {best_params} avec une accuracy de {best_accuracy:.4f}\")\n",
    "\n",
    "    # Retourner le meilleur modèle\n",
    "    return best_model, best_params\n",
    "\n",
    "# GridSearch pour le modèle CNN avec les hyperparamètres supplémentaires\n",
    "param_grid_cnn = {\n",
    "    'num_filters': [64, 128, 256],   # Filtres à tester\n",
    "    'kernel_size': [3, 5],        # Tailles de kernel à tester\n",
    "    'dropout_rate': [0.2, 0.5],      # Dropout à tester\n",
    "    'activation_type': ['relu', 'leaky_relu', 'prelu']  # Activations à tester\n",
    "}"
   ]
  },
  {
   "cell_type": "markdown",
   "id": "91a6e6ed-44a4-4805-9b8c-546298d277e2",
   "metadata": {},
   "source": [
    "# 4. Entrainement du modèle CNN"
   ]
  },
  {
   "cell_type": "code",
   "execution_count": 62,
   "id": "c004a2fd-2936-487e-9002-31ed2532b031",
   "metadata": {
    "scrolled": true
   },
   "outputs": [
    {
     "name": "stdout",
     "output_type": "stream",
     "text": [
      "Epoch 1/20\n",
      "200/200 [==============================] - 3s 10ms/step - loss: 0.5537 - accuracy: 0.7205 - val_loss: 0.4906 - val_accuracy: 0.7678 - lr: 0.0010\n",
      "Epoch 2/20\n",
      "200/200 [==============================] - 2s 9ms/step - loss: 0.4540 - accuracy: 0.7911 - val_loss: 0.4656 - val_accuracy: 0.7800 - lr: 0.0010\n",
      "Epoch 3/20\n",
      "200/200 [==============================] - 2s 9ms/step - loss: 0.3995 - accuracy: 0.8207 - val_loss: 0.4698 - val_accuracy: 0.7769 - lr: 0.0010\n",
      "Epoch 4/20\n",
      "200/200 [==============================] - 2s 10ms/step - loss: 0.3481 - accuracy: 0.8484 - val_loss: 0.5097 - val_accuracy: 0.7812 - lr: 0.0010\n",
      "Epoch 5/20\n",
      "200/200 [==============================] - 2s 9ms/step - loss: 0.2240 - accuracy: 0.9104 - val_loss: 0.6054 - val_accuracy: 0.7688 - lr: 2.0000e-04\n",
      "Epoch 6/20\n",
      "200/200 [==============================] - 2s 9ms/step - loss: 0.1571 - accuracy: 0.9391 - val_loss: 0.6466 - val_accuracy: 0.7619 - lr: 2.0000e-04\n",
      "100/100 [==============================] - 0s 2ms/step\n",
      "100/100 [==============================] - 0s 2ms/step\n"
     ]
    },
    {
     "name": "stderr",
     "output_type": "stream",
     "text": [
      "2024/10/13 07:56:50 WARNING mlflow.tensorflow: You are saving a TensorFlow Core model or Keras model without a signature. Inference with mlflow.pyfunc.spark_udf() will not work unless the model's pyfunc representation accepts pandas DataFrames as inference inputs.\n",
      "WARNING:absl:Found untraced functions such as _jit_compiled_convolution_op, _update_step_xla while saving (showing 2 of 2). These functions will not be directly callable after loading.\n"
     ]
    },
    {
     "name": "stdout",
     "output_type": "stream",
     "text": [
      "INFO:tensorflow:Assets written to: C:\\Users\\trist\\AppData\\Local\\Temp\\tmprgh8j560\\model\\data\\model\\assets\n"
     ]
    },
    {
     "name": "stderr",
     "output_type": "stream",
     "text": [
      "INFO:tensorflow:Assets written to: C:\\Users\\trist\\AppData\\Local\\Temp\\tmprgh8j560\\model\\data\\model\\assets\n",
      "2024/10/13 07:56:59 WARNING mlflow.models.model: Model logged without a signature and input example. Please set `input_example` parameter when logging the model to auto infer the model signature.\n"
     ]
    },
    {
     "name": "stdout",
     "output_type": "stream",
     "text": [
      "Epoch 1/20\n",
      "200/200 [==============================] - 3s 13ms/step - loss: 0.5708 - accuracy: 0.7120 - val_loss: 0.4804 - val_accuracy: 0.7700 - lr: 0.0010\n",
      "Epoch 2/20\n",
      "200/200 [==============================] - 3s 13ms/step - loss: 0.4611 - accuracy: 0.7873 - val_loss: 0.4731 - val_accuracy: 0.7812 - lr: 0.0010\n",
      "Epoch 3/20\n",
      "200/200 [==============================] - 3s 13ms/step - loss: 0.4055 - accuracy: 0.8198 - val_loss: 0.4709 - val_accuracy: 0.7763 - lr: 0.0010\n",
      "Epoch 4/20\n",
      "200/200 [==============================] - 3s 13ms/step - loss: 0.3592 - accuracy: 0.8397 - val_loss: 0.5193 - val_accuracy: 0.7638 - lr: 0.0010\n",
      "Epoch 5/20\n",
      "200/200 [==============================] - 2s 12ms/step - loss: 0.2966 - accuracy: 0.8723 - val_loss: 0.5579 - val_accuracy: 0.7641 - lr: 0.0010\n",
      "Epoch 6/20\n",
      "200/200 [==============================] - 3s 13ms/step - loss: 0.1637 - accuracy: 0.9373 - val_loss: 0.6753 - val_accuracy: 0.7734 - lr: 2.0000e-04\n",
      "Epoch 7/20\n",
      "200/200 [==============================] - 3s 14ms/step - loss: 0.0887 - accuracy: 0.9677 - val_loss: 0.8590 - val_accuracy: 0.7534 - lr: 2.0000e-04\n",
      "100/100 [==============================] - 0s 3ms/step\n",
      "100/100 [==============================] - 0s 2ms/step\n"
     ]
    },
    {
     "name": "stderr",
     "output_type": "stream",
     "text": [
      "2024/10/13 07:57:19 WARNING mlflow.tensorflow: You are saving a TensorFlow Core model or Keras model without a signature. Inference with mlflow.pyfunc.spark_udf() will not work unless the model's pyfunc representation accepts pandas DataFrames as inference inputs.\n",
      "WARNING:absl:Found untraced functions such as _jit_compiled_convolution_op, _update_step_xla while saving (showing 2 of 2). These functions will not be directly callable after loading.\n"
     ]
    },
    {
     "name": "stdout",
     "output_type": "stream",
     "text": [
      "INFO:tensorflow:Assets written to: C:\\Users\\trist\\AppData\\Local\\Temp\\tmpu3ip3908\\model\\data\\model\\assets\n"
     ]
    },
    {
     "name": "stderr",
     "output_type": "stream",
     "text": [
      "INFO:tensorflow:Assets written to: C:\\Users\\trist\\AppData\\Local\\Temp\\tmpu3ip3908\\model\\data\\model\\assets\n",
      "2024/10/13 07:57:29 WARNING mlflow.models.model: Model logged without a signature and input example. Please set `input_example` parameter when logging the model to auto infer the model signature.\n"
     ]
    },
    {
     "name": "stdout",
     "output_type": "stream",
     "text": [
      "Epoch 1/20\n",
      "200/200 [==============================] - 5s 21ms/step - loss: 0.5727 - accuracy: 0.7086 - val_loss: 0.4900 - val_accuracy: 0.7638 - lr: 0.0010\n",
      "Epoch 2/20\n",
      "200/200 [==============================] - 4s 20ms/step - loss: 0.4571 - accuracy: 0.7879 - val_loss: 0.4678 - val_accuracy: 0.7834 - lr: 0.0010\n",
      "Epoch 3/20\n",
      "200/200 [==============================] - 4s 19ms/step - loss: 0.4041 - accuracy: 0.8191 - val_loss: 0.4857 - val_accuracy: 0.7688 - lr: 0.0010\n",
      "Epoch 4/20\n",
      "200/200 [==============================] - 4s 20ms/step - loss: 0.3471 - accuracy: 0.8453 - val_loss: 0.5107 - val_accuracy: 0.7669 - lr: 0.0010\n",
      "Epoch 5/20\n",
      "200/200 [==============================] - 4s 21ms/step - loss: 0.2057 - accuracy: 0.9195 - val_loss: 0.5765 - val_accuracy: 0.7753 - lr: 2.0000e-04\n",
      "Epoch 6/20\n",
      "200/200 [==============================] - 4s 22ms/step - loss: 0.1227 - accuracy: 0.9552 - val_loss: 0.6981 - val_accuracy: 0.7744 - lr: 2.0000e-04\n",
      "100/100 [==============================] - 0s 3ms/step\n",
      "100/100 [==============================] - 0s 3ms/step\n"
     ]
    },
    {
     "name": "stderr",
     "output_type": "stream",
     "text": [
      "2024/10/13 07:57:55 WARNING mlflow.tensorflow: You are saving a TensorFlow Core model or Keras model without a signature. Inference with mlflow.pyfunc.spark_udf() will not work unless the model's pyfunc representation accepts pandas DataFrames as inference inputs.\n",
      "WARNING:absl:Found untraced functions such as _jit_compiled_convolution_op, _update_step_xla while saving (showing 2 of 2). These functions will not be directly callable after loading.\n"
     ]
    },
    {
     "name": "stdout",
     "output_type": "stream",
     "text": [
      "INFO:tensorflow:Assets written to: C:\\Users\\trist\\AppData\\Local\\Temp\\tmpqg1z67oz\\model\\data\\model\\assets\n"
     ]
    },
    {
     "name": "stderr",
     "output_type": "stream",
     "text": [
      "INFO:tensorflow:Assets written to: C:\\Users\\trist\\AppData\\Local\\Temp\\tmpqg1z67oz\\model\\data\\model\\assets\n",
      "2024/10/13 07:58:06 WARNING mlflow.models.model: Model logged without a signature and input example. Please set `input_example` parameter when logging the model to auto infer the model signature.\n"
     ]
    },
    {
     "name": "stdout",
     "output_type": "stream",
     "text": [
      "Epoch 1/20\n",
      "200/200 [==============================] - 3s 10ms/step - loss: 0.5569 - accuracy: 0.7152 - val_loss: 0.4869 - val_accuracy: 0.7647 - lr: 0.0010\n",
      "Epoch 2/20\n",
      "200/200 [==============================] - 2s 9ms/step - loss: 0.4571 - accuracy: 0.7880 - val_loss: 0.4828 - val_accuracy: 0.7706 - lr: 0.0010\n",
      "Epoch 3/20\n",
      "200/200 [==============================] - 2s 9ms/step - loss: 0.4023 - accuracy: 0.8218 - val_loss: 0.4813 - val_accuracy: 0.7706 - lr: 0.0010\n",
      "Epoch 4/20\n",
      "200/200 [==============================] - 2s 9ms/step - loss: 0.3507 - accuracy: 0.8471 - val_loss: 0.4980 - val_accuracy: 0.7703 - lr: 0.0010\n",
      "Epoch 5/20\n",
      "200/200 [==============================] - 2s 9ms/step - loss: 0.2754 - accuracy: 0.8852 - val_loss: 0.5818 - val_accuracy: 0.7638 - lr: 0.0010\n",
      "Epoch 6/20\n",
      "200/200 [==============================] - 2s 9ms/step - loss: 0.1394 - accuracy: 0.9486 - val_loss: 0.7105 - val_accuracy: 0.7663 - lr: 2.0000e-04\n",
      "Epoch 7/20\n",
      "200/200 [==============================] - 2s 9ms/step - loss: 0.0781 - accuracy: 0.9727 - val_loss: 0.9314 - val_accuracy: 0.7609 - lr: 2.0000e-04\n",
      "100/100 [==============================] - 0s 2ms/step\n",
      "100/100 [==============================] - 0s 2ms/step\n"
     ]
    },
    {
     "name": "stderr",
     "output_type": "stream",
     "text": [
      "2024/10/13 07:58:20 WARNING mlflow.tensorflow: You are saving a TensorFlow Core model or Keras model without a signature. Inference with mlflow.pyfunc.spark_udf() will not work unless the model's pyfunc representation accepts pandas DataFrames as inference inputs.\n",
      "WARNING:absl:Found untraced functions such as _jit_compiled_convolution_op, _update_step_xla while saving (showing 2 of 2). These functions will not be directly callable after loading.\n"
     ]
    },
    {
     "name": "stdout",
     "output_type": "stream",
     "text": [
      "INFO:tensorflow:Assets written to: C:\\Users\\trist\\AppData\\Local\\Temp\\tmpmiauf3zf\\model\\data\\model\\assets\n"
     ]
    },
    {
     "name": "stderr",
     "output_type": "stream",
     "text": [
      "INFO:tensorflow:Assets written to: C:\\Users\\trist\\AppData\\Local\\Temp\\tmpmiauf3zf\\model\\data\\model\\assets\n",
      "2024/10/13 07:58:30 WARNING mlflow.models.model: Model logged without a signature and input example. Please set `input_example` parameter when logging the model to auto infer the model signature.\n"
     ]
    },
    {
     "name": "stdout",
     "output_type": "stream",
     "text": [
      "Epoch 1/20\n",
      "200/200 [==============================] - 4s 17ms/step - loss: 0.5731 - accuracy: 0.7120 - val_loss: 0.4844 - val_accuracy: 0.7638 - lr: 0.0010\n",
      "Epoch 2/20\n",
      "200/200 [==============================] - 3s 17ms/step - loss: 0.4607 - accuracy: 0.7827 - val_loss: 0.4957 - val_accuracy: 0.7653 - lr: 0.0010\n",
      "Epoch 3/20\n",
      "200/200 [==============================] - 3s 16ms/step - loss: 0.4030 - accuracy: 0.8175 - val_loss: 0.4999 - val_accuracy: 0.7559 - lr: 0.0010\n",
      "Epoch 4/20\n",
      "200/200 [==============================] - 3s 16ms/step - loss: 0.2881 - accuracy: 0.8787 - val_loss: 0.5302 - val_accuracy: 0.7675 - lr: 2.0000e-04\n",
      "Epoch 5/20\n",
      "200/200 [==============================] - 3s 16ms/step - loss: 0.2033 - accuracy: 0.9189 - val_loss: 0.6075 - val_accuracy: 0.7619 - lr: 2.0000e-04\n",
      "100/100 [==============================] - 0s 3ms/step\n",
      "100/100 [==============================] - 0s 3ms/step\n"
     ]
    },
    {
     "name": "stderr",
     "output_type": "stream",
     "text": [
      "2024/10/13 07:58:48 WARNING mlflow.tensorflow: You are saving a TensorFlow Core model or Keras model without a signature. Inference with mlflow.pyfunc.spark_udf() will not work unless the model's pyfunc representation accepts pandas DataFrames as inference inputs.\n",
      "WARNING:absl:Found untraced functions such as _jit_compiled_convolution_op, _update_step_xla while saving (showing 2 of 2). These functions will not be directly callable after loading.\n"
     ]
    },
    {
     "name": "stdout",
     "output_type": "stream",
     "text": [
      "INFO:tensorflow:Assets written to: C:\\Users\\trist\\AppData\\Local\\Temp\\tmpidecqcs8\\model\\data\\model\\assets\n"
     ]
    },
    {
     "name": "stderr",
     "output_type": "stream",
     "text": [
      "INFO:tensorflow:Assets written to: C:\\Users\\trist\\AppData\\Local\\Temp\\tmpidecqcs8\\model\\data\\model\\assets\n",
      "2024/10/13 07:58:58 WARNING mlflow.models.model: Model logged without a signature and input example. Please set `input_example` parameter when logging the model to auto infer the model signature.\n"
     ]
    },
    {
     "name": "stdout",
     "output_type": "stream",
     "text": [
      "Epoch 1/20\n",
      "200/200 [==============================] - 7s 29ms/step - loss: 0.5665 - accuracy: 0.7223 - val_loss: 0.4814 - val_accuracy: 0.7694 - lr: 0.0010\n",
      "Epoch 2/20\n",
      "200/200 [==============================] - 6s 30ms/step - loss: 0.4542 - accuracy: 0.7866 - val_loss: 0.4819 - val_accuracy: 0.7672 - lr: 0.0010\n",
      "Epoch 3/20\n",
      "200/200 [==============================] - 6s 30ms/step - loss: 0.3951 - accuracy: 0.8196 - val_loss: 0.5011 - val_accuracy: 0.7725 - lr: 0.0010\n",
      "Epoch 4/20\n",
      "200/200 [==============================] - 6s 30ms/step - loss: 0.2492 - accuracy: 0.8970 - val_loss: 0.5659 - val_accuracy: 0.7703 - lr: 2.0000e-04\n",
      "Epoch 5/20\n",
      "200/200 [==============================] - 7s 33ms/step - loss: 0.1539 - accuracy: 0.9405 - val_loss: 0.6945 - val_accuracy: 0.7659 - lr: 2.0000e-04\n",
      "100/100 [==============================] - 0s 4ms/step\n",
      "100/100 [==============================] - 0s 4ms/step\n"
     ]
    },
    {
     "name": "stderr",
     "output_type": "stream",
     "text": [
      "2024/10/13 07:59:30 WARNING mlflow.tensorflow: You are saving a TensorFlow Core model or Keras model without a signature. Inference with mlflow.pyfunc.spark_udf() will not work unless the model's pyfunc representation accepts pandas DataFrames as inference inputs.\n",
      "WARNING:absl:Found untraced functions such as _jit_compiled_convolution_op, _update_step_xla while saving (showing 2 of 2). These functions will not be directly callable after loading.\n"
     ]
    },
    {
     "name": "stdout",
     "output_type": "stream",
     "text": [
      "INFO:tensorflow:Assets written to: C:\\Users\\trist\\AppData\\Local\\Temp\\tmpf_qht_qp\\model\\data\\model\\assets\n"
     ]
    },
    {
     "name": "stderr",
     "output_type": "stream",
     "text": [
      "INFO:tensorflow:Assets written to: C:\\Users\\trist\\AppData\\Local\\Temp\\tmpf_qht_qp\\model\\data\\model\\assets\n",
      "2024/10/13 07:59:40 WARNING mlflow.models.model: Model logged without a signature and input example. Please set `input_example` parameter when logging the model to auto infer the model signature.\n"
     ]
    },
    {
     "name": "stdout",
     "output_type": "stream",
     "text": [
      "Epoch 1/20\n",
      "200/200 [==============================] - 3s 10ms/step - loss: 0.6410 - accuracy: 0.6753 - val_loss: 0.4969 - val_accuracy: 0.7709 - lr: 0.0010\n",
      "Epoch 2/20\n",
      "200/200 [==============================] - 2s 9ms/step - loss: 0.4990 - accuracy: 0.7665 - val_loss: 0.4831 - val_accuracy: 0.7631 - lr: 0.0010\n",
      "Epoch 3/20\n",
      "200/200 [==============================] - 2s 9ms/step - loss: 0.4558 - accuracy: 0.7930 - val_loss: 0.4683 - val_accuracy: 0.7822 - lr: 0.0010\n",
      "Epoch 4/20\n",
      "200/200 [==============================] - 2s 9ms/step - loss: 0.4169 - accuracy: 0.8155 - val_loss: 0.4750 - val_accuracy: 0.7750 - lr: 0.0010\n",
      "Epoch 5/20\n",
      "200/200 [==============================] - 2s 10ms/step - loss: 0.3765 - accuracy: 0.8303 - val_loss: 0.4991 - val_accuracy: 0.7644 - lr: 0.0010\n",
      "Epoch 6/20\n",
      "200/200 [==============================] - 2s 10ms/step - loss: 0.2868 - accuracy: 0.8835 - val_loss: 0.5189 - val_accuracy: 0.7794 - lr: 2.0000e-04\n",
      "Epoch 7/20\n",
      "200/200 [==============================] - 2s 9ms/step - loss: 0.2358 - accuracy: 0.9068 - val_loss: 0.5780 - val_accuracy: 0.7734 - lr: 2.0000e-04\n",
      "100/100 [==============================] - 0s 2ms/step\n",
      "100/100 [==============================] - 0s 2ms/step\n"
     ]
    },
    {
     "name": "stderr",
     "output_type": "stream",
     "text": [
      "2024/10/13 07:59:56 WARNING mlflow.tensorflow: You are saving a TensorFlow Core model or Keras model without a signature. Inference with mlflow.pyfunc.spark_udf() will not work unless the model's pyfunc representation accepts pandas DataFrames as inference inputs.\n",
      "WARNING:absl:Found untraced functions such as _jit_compiled_convolution_op, _update_step_xla while saving (showing 2 of 2). These functions will not be directly callable after loading.\n"
     ]
    },
    {
     "name": "stdout",
     "output_type": "stream",
     "text": [
      "INFO:tensorflow:Assets written to: C:\\Users\\trist\\AppData\\Local\\Temp\\tmp5pmgvel8\\model\\data\\model\\assets\n"
     ]
    },
    {
     "name": "stderr",
     "output_type": "stream",
     "text": [
      "INFO:tensorflow:Assets written to: C:\\Users\\trist\\AppData\\Local\\Temp\\tmp5pmgvel8\\model\\data\\model\\assets\n",
      "2024/10/13 08:00:05 WARNING mlflow.models.model: Model logged without a signature and input example. Please set `input_example` parameter when logging the model to auto infer the model signature.\n"
     ]
    },
    {
     "name": "stdout",
     "output_type": "stream",
     "text": [
      "Epoch 1/20\n",
      "200/200 [==============================] - 3s 13ms/step - loss: 0.6556 - accuracy: 0.6633 - val_loss: 0.4991 - val_accuracy: 0.7672 - lr: 0.0010\n",
      "Epoch 2/20\n",
      "200/200 [==============================] - 3s 13ms/step - loss: 0.5038 - accuracy: 0.7610 - val_loss: 0.4993 - val_accuracy: 0.7731 - lr: 0.0010\n",
      "Epoch 3/20\n",
      "200/200 [==============================] - 3s 13ms/step - loss: 0.4621 - accuracy: 0.7895 - val_loss: 0.4761 - val_accuracy: 0.7791 - lr: 0.0010\n",
      "Epoch 4/20\n",
      "200/200 [==============================] - 3s 13ms/step - loss: 0.4139 - accuracy: 0.8150 - val_loss: 0.4677 - val_accuracy: 0.7784 - lr: 0.0010\n",
      "Epoch 5/20\n",
      "200/200 [==============================] - 3s 13ms/step - loss: 0.3846 - accuracy: 0.8268 - val_loss: 0.5502 - val_accuracy: 0.7503 - lr: 0.0010\n",
      "Epoch 6/20\n",
      "200/200 [==============================] - 3s 14ms/step - loss: 0.3394 - accuracy: 0.8533 - val_loss: 0.5088 - val_accuracy: 0.7638 - lr: 0.0010\n",
      "Epoch 7/20\n",
      "200/200 [==============================] - 3s 14ms/step - loss: 0.2399 - accuracy: 0.9029 - val_loss: 0.5728 - val_accuracy: 0.7741 - lr: 2.0000e-04\n",
      "Epoch 8/20\n",
      "200/200 [==============================] - 3s 13ms/step - loss: 0.1682 - accuracy: 0.9351 - val_loss: 0.7223 - val_accuracy: 0.7669 - lr: 2.0000e-04\n",
      "100/100 [==============================] - 0s 3ms/step\n",
      "100/100 [==============================] - 0s 3ms/step\n"
     ]
    },
    {
     "name": "stderr",
     "output_type": "stream",
     "text": [
      "2024/10/13 08:00:28 WARNING mlflow.tensorflow: You are saving a TensorFlow Core model or Keras model without a signature. Inference with mlflow.pyfunc.spark_udf() will not work unless the model's pyfunc representation accepts pandas DataFrames as inference inputs.\n",
      "WARNING:absl:Found untraced functions such as _jit_compiled_convolution_op, _update_step_xla while saving (showing 2 of 2). These functions will not be directly callable after loading.\n"
     ]
    },
    {
     "name": "stdout",
     "output_type": "stream",
     "text": [
      "INFO:tensorflow:Assets written to: C:\\Users\\trist\\AppData\\Local\\Temp\\tmps643z31c\\model\\data\\model\\assets\n"
     ]
    },
    {
     "name": "stderr",
     "output_type": "stream",
     "text": [
      "INFO:tensorflow:Assets written to: C:\\Users\\trist\\AppData\\Local\\Temp\\tmps643z31c\\model\\data\\model\\assets\n",
      "2024/10/13 08:00:38 WARNING mlflow.models.model: Model logged without a signature and input example. Please set `input_example` parameter when logging the model to auto infer the model signature.\n"
     ]
    },
    {
     "name": "stdout",
     "output_type": "stream",
     "text": [
      "Epoch 1/20\n",
      "200/200 [==============================] - 5s 21ms/step - loss: 0.6477 - accuracy: 0.6664 - val_loss: 0.4993 - val_accuracy: 0.7631 - lr: 0.0010\n",
      "Epoch 2/20\n",
      "200/200 [==============================] - 4s 21ms/step - loss: 0.5077 - accuracy: 0.7557 - val_loss: 0.4885 - val_accuracy: 0.7713 - lr: 0.0010\n",
      "Epoch 3/20\n",
      "200/200 [==============================] - 4s 20ms/step - loss: 0.4605 - accuracy: 0.7868 - val_loss: 0.4948 - val_accuracy: 0.7588 - lr: 0.0010\n",
      "Epoch 4/20\n",
      "200/200 [==============================] - 4s 20ms/step - loss: 0.4244 - accuracy: 0.8109 - val_loss: 0.5166 - val_accuracy: 0.7487 - lr: 0.0010\n",
      "Epoch 5/20\n",
      "200/200 [==============================] - 4s 21ms/step - loss: 0.3388 - accuracy: 0.8537 - val_loss: 0.4656 - val_accuracy: 0.7778 - lr: 2.0000e-04\n",
      "Epoch 6/20\n",
      "200/200 [==============================] - 4s 20ms/step - loss: 0.2850 - accuracy: 0.8816 - val_loss: 0.4981 - val_accuracy: 0.7728 - lr: 2.0000e-04\n",
      "Epoch 7/20\n",
      "200/200 [==============================] - 4s 20ms/step - loss: 0.2258 - accuracy: 0.9095 - val_loss: 0.5387 - val_accuracy: 0.7753 - lr: 2.0000e-04\n",
      "Epoch 8/20\n",
      "200/200 [==============================] - 4s 20ms/step - loss: 0.1640 - accuracy: 0.9382 - val_loss: 0.6507 - val_accuracy: 0.7691 - lr: 1.0000e-04\n",
      "Epoch 9/20\n",
      "200/200 [==============================] - 4s 22ms/step - loss: 0.1353 - accuracy: 0.9484 - val_loss: 0.6874 - val_accuracy: 0.7713 - lr: 1.0000e-04\n",
      "100/100 [==============================] - 0s 3ms/step\n",
      "100/100 [==============================] - 0s 3ms/step\n"
     ]
    },
    {
     "name": "stderr",
     "output_type": "stream",
     "text": [
      "2024/10/13 08:01:17 WARNING mlflow.tensorflow: You are saving a TensorFlow Core model or Keras model without a signature. Inference with mlflow.pyfunc.spark_udf() will not work unless the model's pyfunc representation accepts pandas DataFrames as inference inputs.\n",
      "WARNING:absl:Found untraced functions such as _jit_compiled_convolution_op, _update_step_xla while saving (showing 2 of 2). These functions will not be directly callable after loading.\n"
     ]
    },
    {
     "name": "stdout",
     "output_type": "stream",
     "text": [
      "INFO:tensorflow:Assets written to: C:\\Users\\trist\\AppData\\Local\\Temp\\tmpye7tnzhg\\model\\data\\model\\assets\n"
     ]
    },
    {
     "name": "stderr",
     "output_type": "stream",
     "text": [
      "INFO:tensorflow:Assets written to: C:\\Users\\trist\\AppData\\Local\\Temp\\tmpye7tnzhg\\model\\data\\model\\assets\n",
      "2024/10/13 08:01:27 WARNING mlflow.models.model: Model logged without a signature and input example. Please set `input_example` parameter when logging the model to auto infer the model signature.\n"
     ]
    },
    {
     "name": "stdout",
     "output_type": "stream",
     "text": [
      "Epoch 1/20\n",
      "200/200 [==============================] - 3s 11ms/step - loss: 0.6258 - accuracy: 0.6596 - val_loss: 0.5081 - val_accuracy: 0.7619 - lr: 0.0010\n",
      "Epoch 2/20\n",
      "200/200 [==============================] - 2s 10ms/step - loss: 0.4989 - accuracy: 0.7669 - val_loss: 0.4759 - val_accuracy: 0.7722 - lr: 0.0010\n",
      "Epoch 3/20\n",
      "200/200 [==============================] - 2s 10ms/step - loss: 0.4505 - accuracy: 0.7962 - val_loss: 0.5182 - val_accuracy: 0.7491 - lr: 0.0010\n",
      "Epoch 4/20\n",
      "200/200 [==============================] - 2s 10ms/step - loss: 0.4068 - accuracy: 0.8223 - val_loss: 0.4918 - val_accuracy: 0.7688 - lr: 0.0010\n",
      "Epoch 5/20\n",
      "200/200 [==============================] - 2s 9ms/step - loss: 0.3119 - accuracy: 0.8721 - val_loss: 0.5123 - val_accuracy: 0.7716 - lr: 2.0000e-04\n",
      "Epoch 6/20\n",
      "200/200 [==============================] - 2s 10ms/step - loss: 0.2501 - accuracy: 0.8988 - val_loss: 0.5655 - val_accuracy: 0.7719 - lr: 2.0000e-04\n",
      "100/100 [==============================] - 0s 3ms/step\n",
      "100/100 [==============================] - 0s 2ms/step\n"
     ]
    },
    {
     "name": "stderr",
     "output_type": "stream",
     "text": [
      "2024/10/13 08:01:40 WARNING mlflow.tensorflow: You are saving a TensorFlow Core model or Keras model without a signature. Inference with mlflow.pyfunc.spark_udf() will not work unless the model's pyfunc representation accepts pandas DataFrames as inference inputs.\n",
      "WARNING:absl:Found untraced functions such as _jit_compiled_convolution_op, _update_step_xla while saving (showing 2 of 2). These functions will not be directly callable after loading.\n"
     ]
    },
    {
     "name": "stdout",
     "output_type": "stream",
     "text": [
      "INFO:tensorflow:Assets written to: C:\\Users\\trist\\AppData\\Local\\Temp\\tmpba42k_8v\\model\\data\\model\\assets\n"
     ]
    },
    {
     "name": "stderr",
     "output_type": "stream",
     "text": [
      "INFO:tensorflow:Assets written to: C:\\Users\\trist\\AppData\\Local\\Temp\\tmpba42k_8v\\model\\data\\model\\assets\n",
      "2024/10/13 08:01:50 WARNING mlflow.models.model: Model logged without a signature and input example. Please set `input_example` parameter when logging the model to auto infer the model signature.\n"
     ]
    },
    {
     "name": "stdout",
     "output_type": "stream",
     "text": [
      "Epoch 1/20\n",
      "200/200 [==============================] - 4s 17ms/step - loss: 0.6493 - accuracy: 0.6700 - val_loss: 0.5028 - val_accuracy: 0.7575 - lr: 0.0010\n",
      "Epoch 2/20\n",
      "200/200 [==============================] - 3s 16ms/step - loss: 0.5056 - accuracy: 0.7573 - val_loss: 0.4868 - val_accuracy: 0.7681 - lr: 0.0010\n",
      "Epoch 3/20\n",
      "200/200 [==============================] - 3s 16ms/step - loss: 0.4534 - accuracy: 0.7934 - val_loss: 0.5269 - val_accuracy: 0.7344 - lr: 0.0010\n",
      "Epoch 4/20\n",
      "200/200 [==============================] - 3s 16ms/step - loss: 0.4115 - accuracy: 0.8127 - val_loss: 0.4842 - val_accuracy: 0.7641 - lr: 0.0010\n",
      "Epoch 5/20\n",
      "200/200 [==============================] - 3s 16ms/step - loss: 0.3659 - accuracy: 0.8417 - val_loss: 0.4971 - val_accuracy: 0.7675 - lr: 0.0010\n",
      "Epoch 6/20\n",
      "200/200 [==============================] - 3s 17ms/step - loss: 0.3156 - accuracy: 0.8699 - val_loss: 0.6229 - val_accuracy: 0.7566 - lr: 0.0010\n",
      "Epoch 7/20\n",
      "200/200 [==============================] - 3s 16ms/step - loss: 0.1967 - accuracy: 0.9241 - val_loss: 0.6405 - val_accuracy: 0.7591 - lr: 2.0000e-04\n",
      "Epoch 8/20\n",
      "200/200 [==============================] - 3s 16ms/step - loss: 0.1211 - accuracy: 0.9559 - val_loss: 0.7679 - val_accuracy: 0.7625 - lr: 2.0000e-04\n",
      "100/100 [==============================] - 0s 3ms/step\n",
      "100/100 [==============================] - 0s 3ms/step\n"
     ]
    },
    {
     "name": "stderr",
     "output_type": "stream",
     "text": [
      "2024/10/13 08:02:18 WARNING mlflow.tensorflow: You are saving a TensorFlow Core model or Keras model without a signature. Inference with mlflow.pyfunc.spark_udf() will not work unless the model's pyfunc representation accepts pandas DataFrames as inference inputs.\n",
      "WARNING:absl:Found untraced functions such as _jit_compiled_convolution_op, _update_step_xla while saving (showing 2 of 2). These functions will not be directly callable after loading.\n"
     ]
    },
    {
     "name": "stdout",
     "output_type": "stream",
     "text": [
      "INFO:tensorflow:Assets written to: C:\\Users\\trist\\AppData\\Local\\Temp\\tmplvfajqzv\\model\\data\\model\\assets\n"
     ]
    },
    {
     "name": "stderr",
     "output_type": "stream",
     "text": [
      "INFO:tensorflow:Assets written to: C:\\Users\\trist\\AppData\\Local\\Temp\\tmplvfajqzv\\model\\data\\model\\assets\n",
      "2024/10/13 08:02:28 WARNING mlflow.models.model: Model logged without a signature and input example. Please set `input_example` parameter when logging the model to auto infer the model signature.\n"
     ]
    },
    {
     "name": "stdout",
     "output_type": "stream",
     "text": [
      "Epoch 1/20\n",
      "200/200 [==============================] - 7s 32ms/step - loss: 0.6420 - accuracy: 0.6737 - val_loss: 0.5328 - val_accuracy: 0.7497 - lr: 0.0010\n",
      "Epoch 2/20\n",
      "200/200 [==============================] - 6s 32ms/step - loss: 0.5089 - accuracy: 0.7617 - val_loss: 0.4906 - val_accuracy: 0.7634 - lr: 0.0010\n",
      "Epoch 3/20\n",
      "200/200 [==============================] - 6s 32ms/step - loss: 0.4551 - accuracy: 0.7949 - val_loss: 0.4926 - val_accuracy: 0.7603 - lr: 0.0010\n",
      "Epoch 4/20\n",
      "200/200 [==============================] - 6s 31ms/step - loss: 0.4125 - accuracy: 0.8185 - val_loss: 0.4811 - val_accuracy: 0.7734 - lr: 0.0010\n",
      "Epoch 5/20\n",
      "200/200 [==============================] - 6s 29ms/step - loss: 0.3575 - accuracy: 0.8418 - val_loss: 0.5081 - val_accuracy: 0.7669 - lr: 0.0010\n",
      "Epoch 6/20\n",
      "200/200 [==============================] - 6s 29ms/step - loss: 0.3113 - accuracy: 0.8656 - val_loss: 0.5646 - val_accuracy: 0.7444 - lr: 0.0010\n",
      "Epoch 7/20\n",
      "200/200 [==============================] - 6s 30ms/step - loss: 0.1894 - accuracy: 0.9276 - val_loss: 0.6113 - val_accuracy: 0.7675 - lr: 2.0000e-04\n",
      "Epoch 8/20\n",
      "200/200 [==============================] - 6s 30ms/step - loss: 0.1245 - accuracy: 0.9525 - val_loss: 0.7407 - val_accuracy: 0.7603 - lr: 2.0000e-04\n",
      "100/100 [==============================] - 1s 5ms/step\n",
      "100/100 [==============================] - 1s 5ms/step\n"
     ]
    },
    {
     "name": "stderr",
     "output_type": "stream",
     "text": [
      "2024/10/13 08:03:19 WARNING mlflow.tensorflow: You are saving a TensorFlow Core model or Keras model without a signature. Inference with mlflow.pyfunc.spark_udf() will not work unless the model's pyfunc representation accepts pandas DataFrames as inference inputs.\n",
      "WARNING:absl:Found untraced functions such as _jit_compiled_convolution_op, _update_step_xla while saving (showing 2 of 2). These functions will not be directly callable after loading.\n"
     ]
    },
    {
     "name": "stdout",
     "output_type": "stream",
     "text": [
      "INFO:tensorflow:Assets written to: C:\\Users\\trist\\AppData\\Local\\Temp\\tmptp37l6cw\\model\\data\\model\\assets\n"
     ]
    },
    {
     "name": "stderr",
     "output_type": "stream",
     "text": [
      "INFO:tensorflow:Assets written to: C:\\Users\\trist\\AppData\\Local\\Temp\\tmptp37l6cw\\model\\data\\model\\assets\n",
      "2024/10/13 08:03:29 WARNING mlflow.models.model: Model logged without a signature and input example. Please set `input_example` parameter when logging the model to auto infer the model signature.\n"
     ]
    },
    {
     "name": "stdout",
     "output_type": "stream",
     "text": [
      "Epoch 1/20\n",
      "200/200 [==============================] - 3s 10ms/step - loss: 0.5580 - accuracy: 0.7161 - val_loss: 0.4869 - val_accuracy: 0.7706 - lr: 0.0010\n",
      "Epoch 2/20\n",
      "200/200 [==============================] - 2s 9ms/step - loss: 0.4531 - accuracy: 0.7884 - val_loss: 0.4700 - val_accuracy: 0.7769 - lr: 0.0010\n",
      "Epoch 3/20\n",
      "200/200 [==============================] - 2s 10ms/step - loss: 0.4095 - accuracy: 0.8157 - val_loss: 0.4687 - val_accuracy: 0.7772 - lr: 0.0010\n",
      "Epoch 4/20\n",
      "200/200 [==============================] - 2s 9ms/step - loss: 0.3601 - accuracy: 0.8385 - val_loss: 0.5343 - val_accuracy: 0.7487 - lr: 0.0010\n",
      "Epoch 5/20\n",
      "200/200 [==============================] - 2s 10ms/step - loss: 0.2936 - accuracy: 0.8728 - val_loss: 0.5486 - val_accuracy: 0.7625 - lr: 0.0010\n",
      "Epoch 6/20\n",
      "200/200 [==============================] - 2s 10ms/step - loss: 0.1596 - accuracy: 0.9399 - val_loss: 0.6934 - val_accuracy: 0.7709 - lr: 2.0000e-04\n",
      "Epoch 7/20\n",
      "200/200 [==============================] - 2s 9ms/step - loss: 0.0904 - accuracy: 0.9663 - val_loss: 0.8758 - val_accuracy: 0.7663 - lr: 2.0000e-04\n",
      "100/100 [==============================] - 0s 2ms/step\n",
      "100/100 [==============================] - 0s 2ms/step\n"
     ]
    },
    {
     "name": "stderr",
     "output_type": "stream",
     "text": [
      "2024/10/13 08:03:44 WARNING mlflow.tensorflow: You are saving a TensorFlow Core model or Keras model without a signature. Inference with mlflow.pyfunc.spark_udf() will not work unless the model's pyfunc representation accepts pandas DataFrames as inference inputs.\n",
      "WARNING:absl:Found untraced functions such as _jit_compiled_convolution_op, _update_step_xla while saving (showing 2 of 2). These functions will not be directly callable after loading.\n"
     ]
    },
    {
     "name": "stdout",
     "output_type": "stream",
     "text": [
      "INFO:tensorflow:Assets written to: C:\\Users\\trist\\AppData\\Local\\Temp\\tmp5wwbfrb_\\model\\data\\model\\assets\n"
     ]
    },
    {
     "name": "stderr",
     "output_type": "stream",
     "text": [
      "INFO:tensorflow:Assets written to: C:\\Users\\trist\\AppData\\Local\\Temp\\tmp5wwbfrb_\\model\\data\\model\\assets\n",
      "2024/10/13 08:03:54 WARNING mlflow.models.model: Model logged without a signature and input example. Please set `input_example` parameter when logging the model to auto infer the model signature.\n"
     ]
    },
    {
     "name": "stdout",
     "output_type": "stream",
     "text": [
      "Epoch 1/20\n",
      "200/200 [==============================] - 4s 15ms/step - loss: 0.5617 - accuracy: 0.7143 - val_loss: 0.5115 - val_accuracy: 0.7497 - lr: 0.0010\n",
      "Epoch 2/20\n",
      "200/200 [==============================] - 3s 13ms/step - loss: 0.4556 - accuracy: 0.7909 - val_loss: 0.4700 - val_accuracy: 0.7741 - lr: 0.0010\n",
      "Epoch 3/20\n",
      "200/200 [==============================] - 3s 13ms/step - loss: 0.4038 - accuracy: 0.8191 - val_loss: 0.4732 - val_accuracy: 0.7763 - lr: 0.0010\n",
      "Epoch 4/20\n",
      "200/200 [==============================] - 3s 13ms/step - loss: 0.3507 - accuracy: 0.8456 - val_loss: 0.5019 - val_accuracy: 0.7703 - lr: 0.0010\n",
      "Epoch 5/20\n",
      "200/200 [==============================] - 3s 13ms/step - loss: 0.2297 - accuracy: 0.9052 - val_loss: 0.5576 - val_accuracy: 0.7781 - lr: 2.0000e-04\n",
      "Epoch 6/20\n",
      "200/200 [==============================] - 3s 13ms/step - loss: 0.1439 - accuracy: 0.9455 - val_loss: 0.6910 - val_accuracy: 0.7678 - lr: 2.0000e-04\n",
      "100/100 [==============================] - 0s 3ms/step\n",
      "100/100 [==============================] - 0s 3ms/step\n"
     ]
    },
    {
     "name": "stderr",
     "output_type": "stream",
     "text": [
      "2024/10/13 08:04:12 WARNING mlflow.tensorflow: You are saving a TensorFlow Core model or Keras model without a signature. Inference with mlflow.pyfunc.spark_udf() will not work unless the model's pyfunc representation accepts pandas DataFrames as inference inputs.\n",
      "WARNING:absl:Found untraced functions such as _jit_compiled_convolution_op, _update_step_xla while saving (showing 2 of 2). These functions will not be directly callable after loading.\n"
     ]
    },
    {
     "name": "stdout",
     "output_type": "stream",
     "text": [
      "INFO:tensorflow:Assets written to: C:\\Users\\trist\\AppData\\Local\\Temp\\tmp3zbpf1cd\\model\\data\\model\\assets\n"
     ]
    },
    {
     "name": "stderr",
     "output_type": "stream",
     "text": [
      "INFO:tensorflow:Assets written to: C:\\Users\\trist\\AppData\\Local\\Temp\\tmp3zbpf1cd\\model\\data\\model\\assets\n",
      "2024/10/13 08:04:22 WARNING mlflow.models.model: Model logged without a signature and input example. Please set `input_example` parameter when logging the model to auto infer the model signature.\n"
     ]
    },
    {
     "name": "stdout",
     "output_type": "stream",
     "text": [
      "Epoch 1/20\n",
      "200/200 [==============================] - 5s 22ms/step - loss: 0.5830 - accuracy: 0.7167 - val_loss: 0.4920 - val_accuracy: 0.7709 - lr: 0.0010\n",
      "Epoch 2/20\n",
      "200/200 [==============================] - 4s 22ms/step - loss: 0.4610 - accuracy: 0.7811 - val_loss: 0.4757 - val_accuracy: 0.7716 - lr: 0.0010\n",
      "Epoch 3/20\n",
      "200/200 [==============================] - 4s 21ms/step - loss: 0.4050 - accuracy: 0.8157 - val_loss: 0.4727 - val_accuracy: 0.7788 - lr: 0.0010\n",
      "Epoch 4/20\n",
      "200/200 [==============================] - 4s 21ms/step - loss: 0.3444 - accuracy: 0.8470 - val_loss: 0.6370 - val_accuracy: 0.7341 - lr: 0.0010\n",
      "Epoch 5/20\n",
      "200/200 [==============================] - 4s 21ms/step - loss: 0.2908 - accuracy: 0.8737 - val_loss: 0.5169 - val_accuracy: 0.7719 - lr: 0.0010\n",
      "Epoch 6/20\n",
      "200/200 [==============================] - 4s 22ms/step - loss: 0.1442 - accuracy: 0.9441 - val_loss: 0.6871 - val_accuracy: 0.7778 - lr: 2.0000e-04\n",
      "Epoch 7/20\n",
      "200/200 [==============================] - 4s 20ms/step - loss: 0.0727 - accuracy: 0.9735 - val_loss: 0.8971 - val_accuracy: 0.7678 - lr: 2.0000e-04\n",
      "100/100 [==============================] - 0s 4ms/step\n",
      "100/100 [==============================] - 0s 4ms/step\n"
     ]
    },
    {
     "name": "stderr",
     "output_type": "stream",
     "text": [
      "2024/10/13 08:04:54 WARNING mlflow.tensorflow: You are saving a TensorFlow Core model or Keras model without a signature. Inference with mlflow.pyfunc.spark_udf() will not work unless the model's pyfunc representation accepts pandas DataFrames as inference inputs.\n",
      "WARNING:absl:Found untraced functions such as _jit_compiled_convolution_op, _update_step_xla while saving (showing 2 of 2). These functions will not be directly callable after loading.\n"
     ]
    },
    {
     "name": "stdout",
     "output_type": "stream",
     "text": [
      "INFO:tensorflow:Assets written to: C:\\Users\\trist\\AppData\\Local\\Temp\\tmpk_h9j31u\\model\\data\\model\\assets\n"
     ]
    },
    {
     "name": "stderr",
     "output_type": "stream",
     "text": [
      "INFO:tensorflow:Assets written to: C:\\Users\\trist\\AppData\\Local\\Temp\\tmpk_h9j31u\\model\\data\\model\\assets\n",
      "2024/10/13 08:05:03 WARNING mlflow.models.model: Model logged without a signature and input example. Please set `input_example` parameter when logging the model to auto infer the model signature.\n"
     ]
    },
    {
     "name": "stdout",
     "output_type": "stream",
     "text": [
      "Epoch 1/20\n",
      "200/200 [==============================] - 3s 10ms/step - loss: 0.5655 - accuracy: 0.7152 - val_loss: 0.4984 - val_accuracy: 0.7506 - lr: 0.0010\n",
      "Epoch 2/20\n",
      "200/200 [==============================] - 2s 9ms/step - loss: 0.4542 - accuracy: 0.7896 - val_loss: 0.4885 - val_accuracy: 0.7603 - lr: 0.0010\n",
      "Epoch 3/20\n",
      "200/200 [==============================] - 2s 9ms/step - loss: 0.3966 - accuracy: 0.8253 - val_loss: 0.5258 - val_accuracy: 0.7553 - lr: 0.0010\n",
      "Epoch 4/20\n",
      "200/200 [==============================] - 2s 10ms/step - loss: 0.3211 - accuracy: 0.8637 - val_loss: 0.5552 - val_accuracy: 0.7684 - lr: 0.0010\n",
      "Epoch 5/20\n",
      "200/200 [==============================] - 2s 10ms/step - loss: 0.1722 - accuracy: 0.9348 - val_loss: 0.7211 - val_accuracy: 0.7541 - lr: 2.0000e-04\n",
      "Epoch 6/20\n",
      "200/200 [==============================] - 2s 10ms/step - loss: 0.0910 - accuracy: 0.9686 - val_loss: 0.8353 - val_accuracy: 0.7663 - lr: 2.0000e-04\n",
      "100/100 [==============================] - 0s 2ms/step\n",
      "100/100 [==============================] - 0s 3ms/step\n"
     ]
    },
    {
     "name": "stderr",
     "output_type": "stream",
     "text": [
      "2024/10/13 08:05:17 WARNING mlflow.tensorflow: You are saving a TensorFlow Core model or Keras model without a signature. Inference with mlflow.pyfunc.spark_udf() will not work unless the model's pyfunc representation accepts pandas DataFrames as inference inputs.\n",
      "WARNING:absl:Found untraced functions such as _jit_compiled_convolution_op, _update_step_xla while saving (showing 2 of 2). These functions will not be directly callable after loading.\n"
     ]
    },
    {
     "name": "stdout",
     "output_type": "stream",
     "text": [
      "INFO:tensorflow:Assets written to: C:\\Users\\trist\\AppData\\Local\\Temp\\tmp6i2itfcm\\model\\data\\model\\assets\n"
     ]
    },
    {
     "name": "stderr",
     "output_type": "stream",
     "text": [
      "INFO:tensorflow:Assets written to: C:\\Users\\trist\\AppData\\Local\\Temp\\tmp6i2itfcm\\model\\data\\model\\assets\n",
      "2024/10/13 08:05:28 WARNING mlflow.models.model: Model logged without a signature and input example. Please set `input_example` parameter when logging the model to auto infer the model signature.\n"
     ]
    },
    {
     "name": "stdout",
     "output_type": "stream",
     "text": [
      "Epoch 1/20\n",
      "200/200 [==============================] - 5s 18ms/step - loss: 0.5645 - accuracy: 0.7157 - val_loss: 0.5193 - val_accuracy: 0.7334 - lr: 0.0010\n",
      "Epoch 2/20\n",
      "200/200 [==============================] - 3s 17ms/step - loss: 0.4547 - accuracy: 0.7888 - val_loss: 0.4944 - val_accuracy: 0.7756 - lr: 0.0010\n",
      "Epoch 3/20\n",
      "200/200 [==============================] - 4s 18ms/step - loss: 0.3974 - accuracy: 0.8190 - val_loss: 0.4802 - val_accuracy: 0.7731 - lr: 0.0010\n",
      "Epoch 4/20\n",
      "200/200 [==============================] - 3s 17ms/step - loss: 0.3374 - accuracy: 0.8528 - val_loss: 0.5066 - val_accuracy: 0.7672 - lr: 0.0010\n",
      "Epoch 5/20\n",
      "200/200 [==============================] - 4s 18ms/step - loss: 0.2640 - accuracy: 0.8871 - val_loss: 0.5719 - val_accuracy: 0.7553 - lr: 0.0010\n",
      "Epoch 6/20\n",
      "200/200 [==============================] - 4s 18ms/step - loss: 0.1213 - accuracy: 0.9554 - val_loss: 0.7801 - val_accuracy: 0.7613 - lr: 2.0000e-04\n",
      "Epoch 7/20\n",
      "200/200 [==============================] - 3s 17ms/step - loss: 0.0520 - accuracy: 0.9816 - val_loss: 0.9632 - val_accuracy: 0.7594 - lr: 2.0000e-04\n",
      "100/100 [==============================] - 0s 4ms/step\n",
      "100/100 [==============================] - 0s 3ms/step\n"
     ]
    },
    {
     "name": "stderr",
     "output_type": "stream",
     "text": [
      "2024/10/13 08:05:55 WARNING mlflow.tensorflow: You are saving a TensorFlow Core model or Keras model without a signature. Inference with mlflow.pyfunc.spark_udf() will not work unless the model's pyfunc representation accepts pandas DataFrames as inference inputs.\n",
      "WARNING:absl:Found untraced functions such as _jit_compiled_convolution_op, _update_step_xla while saving (showing 2 of 2). These functions will not be directly callable after loading.\n"
     ]
    },
    {
     "name": "stdout",
     "output_type": "stream",
     "text": [
      "INFO:tensorflow:Assets written to: C:\\Users\\trist\\AppData\\Local\\Temp\\tmpcotln3sg\\model\\data\\model\\assets\n"
     ]
    },
    {
     "name": "stderr",
     "output_type": "stream",
     "text": [
      "INFO:tensorflow:Assets written to: C:\\Users\\trist\\AppData\\Local\\Temp\\tmpcotln3sg\\model\\data\\model\\assets\n",
      "2024/10/13 08:06:05 WARNING mlflow.models.model: Model logged without a signature and input example. Please set `input_example` parameter when logging the model to auto infer the model signature.\n"
     ]
    },
    {
     "name": "stdout",
     "output_type": "stream",
     "text": [
      "Epoch 1/20\n",
      "200/200 [==============================] - 7s 30ms/step - loss: 0.5650 - accuracy: 0.7157 - val_loss: 0.4869 - val_accuracy: 0.7628 - lr: 0.0010\n",
      "Epoch 2/20\n",
      "200/200 [==============================] - 6s 29ms/step - loss: 0.4564 - accuracy: 0.7899 - val_loss: 0.5238 - val_accuracy: 0.7409 - lr: 0.0010\n",
      "Epoch 3/20\n",
      "200/200 [==============================] - 6s 30ms/step - loss: 0.4001 - accuracy: 0.8206 - val_loss: 0.5081 - val_accuracy: 0.7569 - lr: 0.0010\n",
      "Epoch 4/20\n",
      "200/200 [==============================] - 6s 29ms/step - loss: 0.2627 - accuracy: 0.8905 - val_loss: 0.5553 - val_accuracy: 0.7663 - lr: 2.0000e-04\n",
      "Epoch 5/20\n",
      "200/200 [==============================] - 6s 29ms/step - loss: 0.1597 - accuracy: 0.9391 - val_loss: 0.6769 - val_accuracy: 0.7644 - lr: 2.0000e-04\n",
      "100/100 [==============================] - 0s 4ms/step\n",
      "100/100 [==============================] - 0s 4ms/step\n"
     ]
    },
    {
     "name": "stderr",
     "output_type": "stream",
     "text": [
      "2024/10/13 08:06:37 WARNING mlflow.tensorflow: You are saving a TensorFlow Core model or Keras model without a signature. Inference with mlflow.pyfunc.spark_udf() will not work unless the model's pyfunc representation accepts pandas DataFrames as inference inputs.\n",
      "WARNING:absl:Found untraced functions such as _jit_compiled_convolution_op, _update_step_xla while saving (showing 2 of 2). These functions will not be directly callable after loading.\n"
     ]
    },
    {
     "name": "stdout",
     "output_type": "stream",
     "text": [
      "INFO:tensorflow:Assets written to: C:\\Users\\trist\\AppData\\Local\\Temp\\tmpswjbiuyi\\model\\data\\model\\assets\n"
     ]
    },
    {
     "name": "stderr",
     "output_type": "stream",
     "text": [
      "INFO:tensorflow:Assets written to: C:\\Users\\trist\\AppData\\Local\\Temp\\tmpswjbiuyi\\model\\data\\model\\assets\n",
      "2024/10/13 08:06:47 WARNING mlflow.models.model: Model logged without a signature and input example. Please set `input_example` parameter when logging the model to auto infer the model signature.\n"
     ]
    },
    {
     "name": "stdout",
     "output_type": "stream",
     "text": [
      "Epoch 1/20\n",
      "200/200 [==============================] - 3s 10ms/step - loss: 0.6376 - accuracy: 0.6763 - val_loss: 0.5090 - val_accuracy: 0.7594 - lr: 0.0010\n",
      "Epoch 2/20\n",
      "200/200 [==============================] - 2s 10ms/step - loss: 0.4895 - accuracy: 0.7680 - val_loss: 0.4920 - val_accuracy: 0.7716 - lr: 0.0010\n",
      "Epoch 3/20\n",
      "200/200 [==============================] - 2s 10ms/step - loss: 0.4455 - accuracy: 0.7984 - val_loss: 0.4833 - val_accuracy: 0.7697 - lr: 0.0010\n",
      "Epoch 4/20\n",
      "200/200 [==============================] - 2s 9ms/step - loss: 0.4062 - accuracy: 0.8195 - val_loss: 0.4721 - val_accuracy: 0.7900 - lr: 0.0010\n",
      "Epoch 5/20\n",
      "200/200 [==============================] - 2s 9ms/step - loss: 0.3630 - accuracy: 0.8420 - val_loss: 0.4951 - val_accuracy: 0.7734 - lr: 0.0010\n",
      "Epoch 6/20\n",
      "200/200 [==============================] - 2s 9ms/step - loss: 0.3177 - accuracy: 0.8637 - val_loss: 0.5472 - val_accuracy: 0.7578 - lr: 0.0010\n",
      "Epoch 7/20\n",
      "200/200 [==============================] - 2s 9ms/step - loss: 0.2040 - accuracy: 0.9195 - val_loss: 0.6447 - val_accuracy: 0.7638 - lr: 2.0000e-04\n",
      "Epoch 8/20\n",
      "200/200 [==============================] - 2s 9ms/step - loss: 0.1398 - accuracy: 0.9476 - val_loss: 0.8018 - val_accuracy: 0.7716 - lr: 2.0000e-04\n",
      "100/100 [==============================] - 0s 2ms/step\n",
      "100/100 [==============================] - 0s 2ms/step\n"
     ]
    },
    {
     "name": "stderr",
     "output_type": "stream",
     "text": [
      "2024/10/13 08:07:03 WARNING mlflow.tensorflow: You are saving a TensorFlow Core model or Keras model without a signature. Inference with mlflow.pyfunc.spark_udf() will not work unless the model's pyfunc representation accepts pandas DataFrames as inference inputs.\n",
      "WARNING:absl:Found untraced functions such as _jit_compiled_convolution_op, _update_step_xla while saving (showing 2 of 2). These functions will not be directly callable after loading.\n"
     ]
    },
    {
     "name": "stdout",
     "output_type": "stream",
     "text": [
      "INFO:tensorflow:Assets written to: C:\\Users\\trist\\AppData\\Local\\Temp\\tmpqwtr9_sk\\model\\data\\model\\assets\n"
     ]
    },
    {
     "name": "stderr",
     "output_type": "stream",
     "text": [
      "INFO:tensorflow:Assets written to: C:\\Users\\trist\\AppData\\Local\\Temp\\tmpqwtr9_sk\\model\\data\\model\\assets\n",
      "2024/10/13 08:07:13 WARNING mlflow.models.model: Model logged without a signature and input example. Please set `input_example` parameter when logging the model to auto infer the model signature.\n"
     ]
    },
    {
     "name": "stdout",
     "output_type": "stream",
     "text": [
      "Epoch 1/20\n",
      "200/200 [==============================] - 3s 13ms/step - loss: 0.6563 - accuracy: 0.6644 - val_loss: 0.5423 - val_accuracy: 0.7534 - lr: 0.0010\n",
      "Epoch 2/20\n",
      "200/200 [==============================] - 3s 13ms/step - loss: 0.5030 - accuracy: 0.7646 - val_loss: 0.4853 - val_accuracy: 0.7759 - lr: 0.0010\n",
      "Epoch 3/20\n",
      "200/200 [==============================] - 3s 13ms/step - loss: 0.4572 - accuracy: 0.7871 - val_loss: 0.5108 - val_accuracy: 0.7462 - lr: 0.0010\n",
      "Epoch 4/20\n",
      "200/200 [==============================] - 3s 13ms/step - loss: 0.4166 - accuracy: 0.8145 - val_loss: 0.4799 - val_accuracy: 0.7700 - lr: 0.0010\n",
      "Epoch 5/20\n",
      "200/200 [==============================] - 3s 13ms/step - loss: 0.3708 - accuracy: 0.8321 - val_loss: 0.4931 - val_accuracy: 0.7741 - lr: 0.0010\n",
      "Epoch 6/20\n",
      "200/200 [==============================] - 3s 13ms/step - loss: 0.3207 - accuracy: 0.8603 - val_loss: 0.5758 - val_accuracy: 0.7663 - lr: 0.0010\n",
      "Epoch 7/20\n",
      "200/200 [==============================] - 2s 12ms/step - loss: 0.1988 - accuracy: 0.9227 - val_loss: 0.6912 - val_accuracy: 0.7684 - lr: 2.0000e-04\n",
      "Epoch 8/20\n",
      "200/200 [==============================] - 2s 13ms/step - loss: 0.1297 - accuracy: 0.9528 - val_loss: 0.9144 - val_accuracy: 0.7622 - lr: 2.0000e-04\n",
      "100/100 [==============================] - 0s 3ms/step\n",
      "100/100 [==============================] - 0s 2ms/step\n"
     ]
    },
    {
     "name": "stderr",
     "output_type": "stream",
     "text": [
      "2024/10/13 08:07:36 WARNING mlflow.tensorflow: You are saving a TensorFlow Core model or Keras model without a signature. Inference with mlflow.pyfunc.spark_udf() will not work unless the model's pyfunc representation accepts pandas DataFrames as inference inputs.\n",
      "WARNING:absl:Found untraced functions such as _jit_compiled_convolution_op, _update_step_xla while saving (showing 2 of 2). These functions will not be directly callable after loading.\n"
     ]
    },
    {
     "name": "stdout",
     "output_type": "stream",
     "text": [
      "INFO:tensorflow:Assets written to: C:\\Users\\trist\\AppData\\Local\\Temp\\tmp4als8amt\\model\\data\\model\\assets\n"
     ]
    },
    {
     "name": "stderr",
     "output_type": "stream",
     "text": [
      "INFO:tensorflow:Assets written to: C:\\Users\\trist\\AppData\\Local\\Temp\\tmp4als8amt\\model\\data\\model\\assets\n",
      "2024/10/13 08:07:45 WARNING mlflow.models.model: Model logged without a signature and input example. Please set `input_example` parameter when logging the model to auto infer the model signature.\n"
     ]
    },
    {
     "name": "stdout",
     "output_type": "stream",
     "text": [
      "Epoch 1/20\n",
      "200/200 [==============================] - 5s 22ms/step - loss: 0.6775 - accuracy: 0.6627 - val_loss: 0.5512 - val_accuracy: 0.7047 - lr: 0.0010\n",
      "Epoch 2/20\n",
      "200/200 [==============================] - 4s 22ms/step - loss: 0.5001 - accuracy: 0.7627 - val_loss: 0.4831 - val_accuracy: 0.7719 - lr: 0.0010\n",
      "Epoch 3/20\n",
      "200/200 [==============================] - 4s 21ms/step - loss: 0.4587 - accuracy: 0.7848 - val_loss: 0.4923 - val_accuracy: 0.7694 - lr: 0.0010\n",
      "Epoch 4/20\n",
      "200/200 [==============================] - 4s 21ms/step - loss: 0.4192 - accuracy: 0.8106 - val_loss: 0.5657 - val_accuracy: 0.7147 - lr: 0.0010\n",
      "Epoch 5/20\n",
      "200/200 [==============================] - 4s 22ms/step - loss: 0.3254 - accuracy: 0.8605 - val_loss: 0.5291 - val_accuracy: 0.7634 - lr: 2.0000e-04\n",
      "Epoch 6/20\n",
      "200/200 [==============================] - 4s 22ms/step - loss: 0.2630 - accuracy: 0.8939 - val_loss: 0.5722 - val_accuracy: 0.7613 - lr: 2.0000e-04\n",
      "100/100 [==============================] - 0s 3ms/step\n",
      "100/100 [==============================] - 0s 4ms/step\n"
     ]
    },
    {
     "name": "stderr",
     "output_type": "stream",
     "text": [
      "2024/10/13 08:08:14 WARNING mlflow.tensorflow: You are saving a TensorFlow Core model or Keras model without a signature. Inference with mlflow.pyfunc.spark_udf() will not work unless the model's pyfunc representation accepts pandas DataFrames as inference inputs.\n",
      "WARNING:absl:Found untraced functions such as _jit_compiled_convolution_op, _update_step_xla while saving (showing 2 of 2). These functions will not be directly callable after loading.\n"
     ]
    },
    {
     "name": "stdout",
     "output_type": "stream",
     "text": [
      "INFO:tensorflow:Assets written to: C:\\Users\\trist\\AppData\\Local\\Temp\\tmpfk1bakr7\\model\\data\\model\\assets\n"
     ]
    },
    {
     "name": "stderr",
     "output_type": "stream",
     "text": [
      "INFO:tensorflow:Assets written to: C:\\Users\\trist\\AppData\\Local\\Temp\\tmpfk1bakr7\\model\\data\\model\\assets\n",
      "2024/10/13 08:08:24 WARNING mlflow.models.model: Model logged without a signature and input example. Please set `input_example` parameter when logging the model to auto infer the model signature.\n"
     ]
    },
    {
     "name": "stdout",
     "output_type": "stream",
     "text": [
      "Epoch 1/20\n",
      "200/200 [==============================] - 3s 10ms/step - loss: 0.6143 - accuracy: 0.6873 - val_loss: 0.4976 - val_accuracy: 0.7659 - lr: 0.0010\n",
      "Epoch 2/20\n",
      "200/200 [==============================] - 2s 10ms/step - loss: 0.4913 - accuracy: 0.7702 - val_loss: 0.4812 - val_accuracy: 0.7744 - lr: 0.0010\n",
      "Epoch 3/20\n",
      "200/200 [==============================] - 2s 10ms/step - loss: 0.4481 - accuracy: 0.7995 - val_loss: 0.5268 - val_accuracy: 0.7425 - lr: 0.0010\n",
      "Epoch 4/20\n",
      "200/200 [==============================] - 2s 10ms/step - loss: 0.3967 - accuracy: 0.8248 - val_loss: 0.4848 - val_accuracy: 0.7706 - lr: 0.0010\n",
      "Epoch 5/20\n",
      "200/200 [==============================] - 2s 10ms/step - loss: 0.2848 - accuracy: 0.8842 - val_loss: 0.5503 - val_accuracy: 0.7678 - lr: 2.0000e-04\n",
      "Epoch 6/20\n",
      "200/200 [==============================] - 2s 9ms/step - loss: 0.2162 - accuracy: 0.9168 - val_loss: 0.6132 - val_accuracy: 0.7744 - lr: 2.0000e-04\n",
      "100/100 [==============================] - 0s 2ms/step\n",
      "100/100 [==============================] - 0s 3ms/step\n"
     ]
    },
    {
     "name": "stderr",
     "output_type": "stream",
     "text": [
      "2024/10/13 08:08:37 WARNING mlflow.tensorflow: You are saving a TensorFlow Core model or Keras model without a signature. Inference with mlflow.pyfunc.spark_udf() will not work unless the model's pyfunc representation accepts pandas DataFrames as inference inputs.\n",
      "WARNING:absl:Found untraced functions such as _jit_compiled_convolution_op, _update_step_xla while saving (showing 2 of 2). These functions will not be directly callable after loading.\n"
     ]
    },
    {
     "name": "stdout",
     "output_type": "stream",
     "text": [
      "INFO:tensorflow:Assets written to: C:\\Users\\trist\\AppData\\Local\\Temp\\tmp8r6jy9cl\\model\\data\\model\\assets\n"
     ]
    },
    {
     "name": "stderr",
     "output_type": "stream",
     "text": [
      "INFO:tensorflow:Assets written to: C:\\Users\\trist\\AppData\\Local\\Temp\\tmp8r6jy9cl\\model\\data\\model\\assets\n",
      "2024/10/13 08:08:47 WARNING mlflow.models.model: Model logged without a signature and input example. Please set `input_example` parameter when logging the model to auto infer the model signature.\n"
     ]
    },
    {
     "name": "stdout",
     "output_type": "stream",
     "text": [
      "Epoch 1/20\n",
      "200/200 [==============================] - 4s 17ms/step - loss: 0.6165 - accuracy: 0.6841 - val_loss: 0.5185 - val_accuracy: 0.7500 - lr: 0.0010\n",
      "Epoch 2/20\n",
      "200/200 [==============================] - 3s 16ms/step - loss: 0.4962 - accuracy: 0.7680 - val_loss: 0.4823 - val_accuracy: 0.7756 - lr: 0.0010\n",
      "Epoch 3/20\n",
      "200/200 [==============================] - 3s 16ms/step - loss: 0.4471 - accuracy: 0.7959 - val_loss: 0.4791 - val_accuracy: 0.7728 - lr: 0.0010\n",
      "Epoch 4/20\n",
      "200/200 [==============================] - 3s 17ms/step - loss: 0.3903 - accuracy: 0.8270 - val_loss: 0.4784 - val_accuracy: 0.7738 - lr: 0.0010\n",
      "Epoch 5/20\n",
      "200/200 [==============================] - 3s 17ms/step - loss: 0.3432 - accuracy: 0.8512 - val_loss: 0.5217 - val_accuracy: 0.7659 - lr: 0.0010\n",
      "Epoch 6/20\n",
      "200/200 [==============================] - 3s 16ms/step - loss: 0.2869 - accuracy: 0.8785 - val_loss: 0.5578 - val_accuracy: 0.7659 - lr: 0.0010\n",
      "Epoch 7/20\n",
      "200/200 [==============================] - 3s 16ms/step - loss: 0.1495 - accuracy: 0.9448 - val_loss: 0.7366 - val_accuracy: 0.7669 - lr: 2.0000e-04\n",
      "Epoch 8/20\n",
      "200/200 [==============================] - 3s 16ms/step - loss: 0.0814 - accuracy: 0.9702 - val_loss: 0.9332 - val_accuracy: 0.7634 - lr: 2.0000e-04\n",
      "100/100 [==============================] - 0s 4ms/step\n",
      "100/100 [==============================] - 0s 4ms/step\n"
     ]
    },
    {
     "name": "stderr",
     "output_type": "stream",
     "text": [
      "2024/10/13 08:09:15 WARNING mlflow.tensorflow: You are saving a TensorFlow Core model or Keras model without a signature. Inference with mlflow.pyfunc.spark_udf() will not work unless the model's pyfunc representation accepts pandas DataFrames as inference inputs.\n",
      "WARNING:absl:Found untraced functions such as _jit_compiled_convolution_op, _update_step_xla while saving (showing 2 of 2). These functions will not be directly callable after loading.\n"
     ]
    },
    {
     "name": "stdout",
     "output_type": "stream",
     "text": [
      "INFO:tensorflow:Assets written to: C:\\Users\\trist\\AppData\\Local\\Temp\\tmpzh_3u2x1\\model\\data\\model\\assets\n"
     ]
    },
    {
     "name": "stderr",
     "output_type": "stream",
     "text": [
      "INFO:tensorflow:Assets written to: C:\\Users\\trist\\AppData\\Local\\Temp\\tmpzh_3u2x1\\model\\data\\model\\assets\n",
      "2024/10/13 08:09:25 WARNING mlflow.models.model: Model logged without a signature and input example. Please set `input_example` parameter when logging the model to auto infer the model signature.\n"
     ]
    },
    {
     "name": "stdout",
     "output_type": "stream",
     "text": [
      "Epoch 1/20\n",
      "200/200 [==============================] - 7s 29ms/step - loss: 0.6672 - accuracy: 0.6641 - val_loss: 0.5339 - val_accuracy: 0.7462 - lr: 0.0010\n",
      "Epoch 2/20\n",
      "200/200 [==============================] - 6s 30ms/step - loss: 0.5007 - accuracy: 0.7571 - val_loss: 0.5098 - val_accuracy: 0.7491 - lr: 0.0010\n",
      "Epoch 3/20\n",
      "200/200 [==============================] - 6s 28ms/step - loss: 0.4644 - accuracy: 0.7854 - val_loss: 0.4887 - val_accuracy: 0.7600 - lr: 0.0010\n",
      "Epoch 4/20\n",
      "200/200 [==============================] - 6s 29ms/step - loss: 0.4134 - accuracy: 0.8105 - val_loss: 0.4904 - val_accuracy: 0.7725 - lr: 0.0010\n",
      "Epoch 5/20\n",
      "200/200 [==============================] - 6s 28ms/step - loss: 0.3628 - accuracy: 0.8402 - val_loss: 0.5245 - val_accuracy: 0.7578 - lr: 0.0010\n",
      "Epoch 6/20\n",
      "200/200 [==============================] - 6s 28ms/step - loss: 0.2286 - accuracy: 0.9077 - val_loss: 0.5860 - val_accuracy: 0.7716 - lr: 2.0000e-04\n",
      "Epoch 7/20\n",
      "200/200 [==============================] - 6s 29ms/step - loss: 0.1416 - accuracy: 0.9461 - val_loss: 0.7466 - val_accuracy: 0.7641 - lr: 2.0000e-04\n",
      "100/100 [==============================] - 0s 4ms/step\n",
      "100/100 [==============================] - 0s 4ms/step\n"
     ]
    },
    {
     "name": "stderr",
     "output_type": "stream",
     "text": [
      "2024/10/13 08:10:07 WARNING mlflow.tensorflow: You are saving a TensorFlow Core model or Keras model without a signature. Inference with mlflow.pyfunc.spark_udf() will not work unless the model's pyfunc representation accepts pandas DataFrames as inference inputs.\n",
      "WARNING:absl:Found untraced functions such as _jit_compiled_convolution_op, _update_step_xla while saving (showing 2 of 2). These functions will not be directly callable after loading.\n"
     ]
    },
    {
     "name": "stdout",
     "output_type": "stream",
     "text": [
      "INFO:tensorflow:Assets written to: C:\\Users\\trist\\AppData\\Local\\Temp\\tmppvxq5s3f\\model\\data\\model\\assets\n"
     ]
    },
    {
     "name": "stderr",
     "output_type": "stream",
     "text": [
      "INFO:tensorflow:Assets written to: C:\\Users\\trist\\AppData\\Local\\Temp\\tmppvxq5s3f\\model\\data\\model\\assets\n",
      "2024/10/13 08:10:16 WARNING mlflow.models.model: Model logged without a signature and input example. Please set `input_example` parameter when logging the model to auto infer the model signature.\n"
     ]
    },
    {
     "name": "stdout",
     "output_type": "stream",
     "text": [
      "Epoch 1/20\n",
      "200/200 [==============================] - 3s 10ms/step - loss: 0.5479 - accuracy: 0.7240 - val_loss: 0.4902 - val_accuracy: 0.7641 - lr: 0.0010\n",
      "Epoch 2/20\n",
      "200/200 [==============================] - 2s 9ms/step - loss: 0.4573 - accuracy: 0.7864 - val_loss: 0.5103 - val_accuracy: 0.7437 - lr: 0.0010\n",
      "Epoch 3/20\n",
      "200/200 [==============================] - 2s 9ms/step - loss: 0.4074 - accuracy: 0.8155 - val_loss: 0.4733 - val_accuracy: 0.7788 - lr: 0.0010\n",
      "Epoch 4/20\n",
      "200/200 [==============================] - 2s 9ms/step - loss: 0.3539 - accuracy: 0.8452 - val_loss: 0.5681 - val_accuracy: 0.7431 - lr: 0.0010\n",
      "Epoch 5/20\n",
      "200/200 [==============================] - 2s 9ms/step - loss: 0.2878 - accuracy: 0.8802 - val_loss: 0.6150 - val_accuracy: 0.7344 - lr: 0.0010\n",
      "Epoch 6/20\n",
      "200/200 [==============================] - 2s 9ms/step - loss: 0.1568 - accuracy: 0.9426 - val_loss: 0.7035 - val_accuracy: 0.7653 - lr: 2.0000e-04\n",
      "Epoch 7/20\n",
      "200/200 [==============================] - 2s 10ms/step - loss: 0.0833 - accuracy: 0.9702 - val_loss: 0.8826 - val_accuracy: 0.7538 - lr: 2.0000e-04\n",
      "100/100 [==============================] - 0s 2ms/step\n",
      "100/100 [==============================] - 0s 2ms/step\n"
     ]
    },
    {
     "name": "stderr",
     "output_type": "stream",
     "text": [
      "2024/10/13 08:10:31 WARNING mlflow.tensorflow: You are saving a TensorFlow Core model or Keras model without a signature. Inference with mlflow.pyfunc.spark_udf() will not work unless the model's pyfunc representation accepts pandas DataFrames as inference inputs.\n",
      "WARNING:absl:Found untraced functions such as _jit_compiled_convolution_op, _update_step_xla while saving (showing 2 of 2). These functions will not be directly callable after loading.\n"
     ]
    },
    {
     "name": "stdout",
     "output_type": "stream",
     "text": [
      "INFO:tensorflow:Assets written to: C:\\Users\\trist\\AppData\\Local\\Temp\\tmpc0utoql4\\model\\data\\model\\assets\n"
     ]
    },
    {
     "name": "stderr",
     "output_type": "stream",
     "text": [
      "INFO:tensorflow:Assets written to: C:\\Users\\trist\\AppData\\Local\\Temp\\tmpc0utoql4\\model\\data\\model\\assets\n",
      "2024/10/13 08:10:41 WARNING mlflow.models.model: Model logged without a signature and input example. Please set `input_example` parameter when logging the model to auto infer the model signature.\n"
     ]
    },
    {
     "name": "stdout",
     "output_type": "stream",
     "text": [
      "Epoch 1/20\n",
      "200/200 [==============================] - 4s 13ms/step - loss: 0.5532 - accuracy: 0.7216 - val_loss: 0.4802 - val_accuracy: 0.7722 - lr: 0.0010\n",
      "Epoch 2/20\n",
      "200/200 [==============================] - 3s 13ms/step - loss: 0.4533 - accuracy: 0.7884 - val_loss: 0.4718 - val_accuracy: 0.7812 - lr: 0.0010\n",
      "Epoch 3/20\n",
      "200/200 [==============================] - 3s 13ms/step - loss: 0.3951 - accuracy: 0.8231 - val_loss: 0.4865 - val_accuracy: 0.7666 - lr: 0.0010\n",
      "Epoch 4/20\n",
      "200/200 [==============================] - 3s 13ms/step - loss: 0.3498 - accuracy: 0.8465 - val_loss: 0.5314 - val_accuracy: 0.7584 - lr: 0.0010\n",
      "Epoch 5/20\n",
      "200/200 [==============================] - 3s 13ms/step - loss: 0.2127 - accuracy: 0.9156 - val_loss: 0.5925 - val_accuracy: 0.7744 - lr: 2.0000e-04\n",
      "Epoch 6/20\n",
      "200/200 [==============================] - 2s 12ms/step - loss: 0.1250 - accuracy: 0.9533 - val_loss: 0.7201 - val_accuracy: 0.7644 - lr: 2.0000e-04\n",
      "100/100 [==============================] - 0s 2ms/step\n",
      "100/100 [==============================] - 0s 3ms/step\n"
     ]
    },
    {
     "name": "stderr",
     "output_type": "stream",
     "text": [
      "2024/10/13 08:10:58 WARNING mlflow.tensorflow: You are saving a TensorFlow Core model or Keras model without a signature. Inference with mlflow.pyfunc.spark_udf() will not work unless the model's pyfunc representation accepts pandas DataFrames as inference inputs.\n",
      "WARNING:absl:Found untraced functions such as _jit_compiled_convolution_op, _update_step_xla while saving (showing 2 of 2). These functions will not be directly callable after loading.\n"
     ]
    },
    {
     "name": "stdout",
     "output_type": "stream",
     "text": [
      "INFO:tensorflow:Assets written to: C:\\Users\\trist\\AppData\\Local\\Temp\\tmp5hq1z7vd\\model\\data\\model\\assets\n"
     ]
    },
    {
     "name": "stderr",
     "output_type": "stream",
     "text": [
      "INFO:tensorflow:Assets written to: C:\\Users\\trist\\AppData\\Local\\Temp\\tmp5hq1z7vd\\model\\data\\model\\assets\n",
      "2024/10/13 08:11:08 WARNING mlflow.models.model: Model logged without a signature and input example. Please set `input_example` parameter when logging the model to auto infer the model signature.\n"
     ]
    },
    {
     "name": "stdout",
     "output_type": "stream",
     "text": [
      "Epoch 1/20\n",
      "200/200 [==============================] - 5s 22ms/step - loss: 0.5618 - accuracy: 0.7176 - val_loss: 0.5002 - val_accuracy: 0.7666 - lr: 0.0010\n",
      "Epoch 2/20\n",
      "200/200 [==============================] - 4s 21ms/step - loss: 0.4544 - accuracy: 0.7892 - val_loss: 0.4774 - val_accuracy: 0.7766 - lr: 0.0010\n",
      "Epoch 3/20\n",
      "200/200 [==============================] - 4s 22ms/step - loss: 0.3940 - accuracy: 0.8246 - val_loss: 0.4788 - val_accuracy: 0.7853 - lr: 0.0010\n",
      "Epoch 4/20\n",
      "200/200 [==============================] - 5s 24ms/step - loss: 0.3351 - accuracy: 0.8530 - val_loss: 0.5319 - val_accuracy: 0.7766 - lr: 0.0010\n",
      "Epoch 5/20\n",
      "200/200 [==============================] - 4s 21ms/step - loss: 0.1893 - accuracy: 0.9266 - val_loss: 0.6135 - val_accuracy: 0.7681 - lr: 2.0000e-04\n",
      "Epoch 6/20\n",
      "200/200 [==============================] - 4s 22ms/step - loss: 0.1032 - accuracy: 0.9625 - val_loss: 0.7500 - val_accuracy: 0.7656 - lr: 2.0000e-04\n",
      "100/100 [==============================] - 0s 4ms/step\n",
      "100/100 [==============================] - 0s 4ms/step\n"
     ]
    },
    {
     "name": "stderr",
     "output_type": "stream",
     "text": [
      "2024/10/13 08:11:36 WARNING mlflow.tensorflow: You are saving a TensorFlow Core model or Keras model without a signature. Inference with mlflow.pyfunc.spark_udf() will not work unless the model's pyfunc representation accepts pandas DataFrames as inference inputs.\n",
      "WARNING:absl:Found untraced functions such as _jit_compiled_convolution_op, _update_step_xla while saving (showing 2 of 2). These functions will not be directly callable after loading.\n"
     ]
    },
    {
     "name": "stdout",
     "output_type": "stream",
     "text": [
      "INFO:tensorflow:Assets written to: C:\\Users\\trist\\AppData\\Local\\Temp\\tmpl88p1wtp\\model\\data\\model\\assets\n"
     ]
    },
    {
     "name": "stderr",
     "output_type": "stream",
     "text": [
      "INFO:tensorflow:Assets written to: C:\\Users\\trist\\AppData\\Local\\Temp\\tmpl88p1wtp\\model\\data\\model\\assets\n",
      "2024/10/13 08:11:46 WARNING mlflow.models.model: Model logged without a signature and input example. Please set `input_example` parameter when logging the model to auto infer the model signature.\n"
     ]
    },
    {
     "name": "stdout",
     "output_type": "stream",
     "text": [
      "Epoch 1/20\n",
      "200/200 [==============================] - 3s 11ms/step - loss: 0.5564 - accuracy: 0.7209 - val_loss: 0.4859 - val_accuracy: 0.7653 - lr: 0.0010\n",
      "Epoch 2/20\n",
      "200/200 [==============================] - 2s 10ms/step - loss: 0.4523 - accuracy: 0.7909 - val_loss: 0.5041 - val_accuracy: 0.7569 - lr: 0.0010\n",
      "Epoch 3/20\n",
      "200/200 [==============================] - 2s 10ms/step - loss: 0.4026 - accuracy: 0.8159 - val_loss: 0.4965 - val_accuracy: 0.7675 - lr: 0.0010\n",
      "Epoch 4/20\n",
      "200/200 [==============================] - 2s 10ms/step - loss: 0.2867 - accuracy: 0.8798 - val_loss: 0.5256 - val_accuracy: 0.7797 - lr: 2.0000e-04\n",
      "Epoch 5/20\n",
      "200/200 [==============================] - 2s 10ms/step - loss: 0.2101 - accuracy: 0.9142 - val_loss: 0.5865 - val_accuracy: 0.7603 - lr: 2.0000e-04\n",
      "100/100 [==============================] - 0s 3ms/step\n",
      "100/100 [==============================] - 0s 3ms/step\n"
     ]
    },
    {
     "name": "stderr",
     "output_type": "stream",
     "text": [
      "2024/10/13 08:11:58 WARNING mlflow.tensorflow: You are saving a TensorFlow Core model or Keras model without a signature. Inference with mlflow.pyfunc.spark_udf() will not work unless the model's pyfunc representation accepts pandas DataFrames as inference inputs.\n",
      "WARNING:absl:Found untraced functions such as _jit_compiled_convolution_op, _update_step_xla while saving (showing 2 of 2). These functions will not be directly callable after loading.\n"
     ]
    },
    {
     "name": "stdout",
     "output_type": "stream",
     "text": [
      "INFO:tensorflow:Assets written to: C:\\Users\\trist\\AppData\\Local\\Temp\\tmp00hxm293\\model\\data\\model\\assets\n"
     ]
    },
    {
     "name": "stderr",
     "output_type": "stream",
     "text": [
      "INFO:tensorflow:Assets written to: C:\\Users\\trist\\AppData\\Local\\Temp\\tmp00hxm293\\model\\data\\model\\assets\n",
      "2024/10/13 08:12:07 WARNING mlflow.models.model: Model logged without a signature and input example. Please set `input_example` parameter when logging the model to auto infer the model signature.\n"
     ]
    },
    {
     "name": "stdout",
     "output_type": "stream",
     "text": [
      "Epoch 1/20\n",
      "200/200 [==============================] - 4s 18ms/step - loss: 0.5536 - accuracy: 0.7161 - val_loss: 0.5105 - val_accuracy: 0.7553 - lr: 0.0010\n",
      "Epoch 2/20\n",
      "200/200 [==============================] - 4s 18ms/step - loss: 0.4549 - accuracy: 0.7873 - val_loss: 0.4695 - val_accuracy: 0.7788 - lr: 0.0010\n",
      "Epoch 3/20\n",
      "200/200 [==============================] - 3s 16ms/step - loss: 0.3909 - accuracy: 0.8275 - val_loss: 0.4763 - val_accuracy: 0.7788 - lr: 0.0010\n",
      "Epoch 4/20\n",
      "200/200 [==============================] - 3s 16ms/step - loss: 0.3271 - accuracy: 0.8573 - val_loss: 0.5697 - val_accuracy: 0.7503 - lr: 0.0010\n",
      "Epoch 5/20\n",
      "200/200 [==============================] - 3s 16ms/step - loss: 0.1791 - accuracy: 0.9311 - val_loss: 0.6422 - val_accuracy: 0.7672 - lr: 2.0000e-04\n",
      "Epoch 6/20\n",
      "200/200 [==============================] - 3s 17ms/step - loss: 0.0912 - accuracy: 0.9692 - val_loss: 0.8064 - val_accuracy: 0.7622 - lr: 2.0000e-04\n",
      "100/100 [==============================] - 0s 3ms/step\n",
      "100/100 [==============================] - 0s 3ms/step\n"
     ]
    },
    {
     "name": "stderr",
     "output_type": "stream",
     "text": [
      "2024/10/13 08:12:30 WARNING mlflow.tensorflow: You are saving a TensorFlow Core model or Keras model without a signature. Inference with mlflow.pyfunc.spark_udf() will not work unless the model's pyfunc representation accepts pandas DataFrames as inference inputs.\n",
      "WARNING:absl:Found untraced functions such as _jit_compiled_convolution_op, _update_step_xla while saving (showing 2 of 2). These functions will not be directly callable after loading.\n"
     ]
    },
    {
     "name": "stdout",
     "output_type": "stream",
     "text": [
      "INFO:tensorflow:Assets written to: C:\\Users\\trist\\AppData\\Local\\Temp\\tmpe4uh1ynv\\model\\data\\model\\assets\n"
     ]
    },
    {
     "name": "stderr",
     "output_type": "stream",
     "text": [
      "INFO:tensorflow:Assets written to: C:\\Users\\trist\\AppData\\Local\\Temp\\tmpe4uh1ynv\\model\\data\\model\\assets\n",
      "2024/10/13 08:12:40 WARNING mlflow.models.model: Model logged without a signature and input example. Please set `input_example` parameter when logging the model to auto infer the model signature.\n"
     ]
    },
    {
     "name": "stdout",
     "output_type": "stream",
     "text": [
      "Epoch 1/20\n",
      "200/200 [==============================] - 7s 32ms/step - loss: 0.5775 - accuracy: 0.7102 - val_loss: 0.5014 - val_accuracy: 0.7688 - lr: 0.0010\n",
      "Epoch 2/20\n",
      "200/200 [==============================] - 6s 32ms/step - loss: 0.4581 - accuracy: 0.7864 - val_loss: 0.4877 - val_accuracy: 0.7722 - lr: 0.0010\n",
      "Epoch 3/20\n",
      "200/200 [==============================] - 6s 32ms/step - loss: 0.4015 - accuracy: 0.8190 - val_loss: 0.4841 - val_accuracy: 0.7769 - lr: 0.0010\n",
      "Epoch 4/20\n",
      "200/200 [==============================] - 6s 32ms/step - loss: 0.3272 - accuracy: 0.8587 - val_loss: 0.5371 - val_accuracy: 0.7650 - lr: 0.0010\n",
      "Epoch 5/20\n",
      "200/200 [==============================] - 7s 33ms/step - loss: 0.2786 - accuracy: 0.8817 - val_loss: 0.5449 - val_accuracy: 0.7638 - lr: 0.0010\n",
      "Epoch 6/20\n",
      "200/200 [==============================] - 6s 31ms/step - loss: 0.1300 - accuracy: 0.9512 - val_loss: 0.7533 - val_accuracy: 0.7631 - lr: 2.0000e-04\n",
      "Epoch 7/20\n",
      "200/200 [==============================] - 6s 31ms/step - loss: 0.0623 - accuracy: 0.9783 - val_loss: 0.9261 - val_accuracy: 0.7738 - lr: 2.0000e-04\n",
      "100/100 [==============================] - 0s 4ms/step\n",
      "100/100 [==============================] - 0s 4ms/step\n"
     ]
    },
    {
     "name": "stderr",
     "output_type": "stream",
     "text": [
      "2024/10/13 08:13:27 WARNING mlflow.tensorflow: You are saving a TensorFlow Core model or Keras model without a signature. Inference with mlflow.pyfunc.spark_udf() will not work unless the model's pyfunc representation accepts pandas DataFrames as inference inputs.\n",
      "WARNING:absl:Found untraced functions such as _jit_compiled_convolution_op, _update_step_xla while saving (showing 2 of 2). These functions will not be directly callable after loading.\n"
     ]
    },
    {
     "name": "stdout",
     "output_type": "stream",
     "text": [
      "INFO:tensorflow:Assets written to: C:\\Users\\trist\\AppData\\Local\\Temp\\tmpx8arbwpr\\model\\data\\model\\assets\n"
     ]
    },
    {
     "name": "stderr",
     "output_type": "stream",
     "text": [
      "INFO:tensorflow:Assets written to: C:\\Users\\trist\\AppData\\Local\\Temp\\tmpx8arbwpr\\model\\data\\model\\assets\n",
      "2024/10/13 08:13:36 WARNING mlflow.models.model: Model logged without a signature and input example. Please set `input_example` parameter when logging the model to auto infer the model signature.\n"
     ]
    },
    {
     "name": "stdout",
     "output_type": "stream",
     "text": [
      "Epoch 1/20\n",
      "200/200 [==============================] - 3s 10ms/step - loss: 0.6249 - accuracy: 0.6753 - val_loss: 0.5062 - val_accuracy: 0.7547 - lr: 0.0010\n",
      "Epoch 2/20\n",
      "200/200 [==============================] - 2s 9ms/step - loss: 0.4884 - accuracy: 0.7760 - val_loss: 0.4870 - val_accuracy: 0.7644 - lr: 0.0010\n",
      "Epoch 3/20\n",
      "200/200 [==============================] - 2s 9ms/step - loss: 0.4458 - accuracy: 0.8002 - val_loss: 0.4779 - val_accuracy: 0.7716 - lr: 0.0010\n",
      "Epoch 4/20\n",
      "200/200 [==============================] - 2s 9ms/step - loss: 0.4026 - accuracy: 0.8241 - val_loss: 0.5052 - val_accuracy: 0.7594 - lr: 0.0010\n",
      "Epoch 5/20\n",
      "200/200 [==============================] - 2s 9ms/step - loss: 0.3597 - accuracy: 0.8445 - val_loss: 0.5132 - val_accuracy: 0.7716 - lr: 0.0010\n",
      "Epoch 6/20\n",
      "200/200 [==============================] - 2s 10ms/step - loss: 0.2526 - accuracy: 0.8956 - val_loss: 0.5790 - val_accuracy: 0.7756 - lr: 2.0000e-04\n",
      "Epoch 7/20\n",
      "200/200 [==============================] - 2s 10ms/step - loss: 0.1873 - accuracy: 0.9275 - val_loss: 0.6913 - val_accuracy: 0.7709 - lr: 2.0000e-04\n",
      "100/100 [==============================] - 0s 2ms/step\n",
      "100/100 [==============================] - 0s 2ms/step\n"
     ]
    },
    {
     "name": "stderr",
     "output_type": "stream",
     "text": [
      "2024/10/13 08:13:52 WARNING mlflow.tensorflow: You are saving a TensorFlow Core model or Keras model without a signature. Inference with mlflow.pyfunc.spark_udf() will not work unless the model's pyfunc representation accepts pandas DataFrames as inference inputs.\n",
      "WARNING:absl:Found untraced functions such as _jit_compiled_convolution_op, _update_step_xla while saving (showing 2 of 2). These functions will not be directly callable after loading.\n"
     ]
    },
    {
     "name": "stdout",
     "output_type": "stream",
     "text": [
      "INFO:tensorflow:Assets written to: C:\\Users\\trist\\AppData\\Local\\Temp\\tmpbrygvdzm\\model\\data\\model\\assets\n"
     ]
    },
    {
     "name": "stderr",
     "output_type": "stream",
     "text": [
      "INFO:tensorflow:Assets written to: C:\\Users\\trist\\AppData\\Local\\Temp\\tmpbrygvdzm\\model\\data\\model\\assets\n",
      "2024/10/13 08:14:01 WARNING mlflow.models.model: Model logged without a signature and input example. Please set `input_example` parameter when logging the model to auto infer the model signature.\n"
     ]
    },
    {
     "name": "stdout",
     "output_type": "stream",
     "text": [
      "Epoch 1/20\n",
      "200/200 [==============================] - 4s 14ms/step - loss: 0.6158 - accuracy: 0.6911 - val_loss: 0.5130 - val_accuracy: 0.7709 - lr: 0.0010\n",
      "Epoch 2/20\n",
      "200/200 [==============================] - 2s 12ms/step - loss: 0.4918 - accuracy: 0.7733 - val_loss: 0.4809 - val_accuracy: 0.7750 - lr: 0.0010\n",
      "Epoch 3/20\n",
      "200/200 [==============================] - 2s 12ms/step - loss: 0.4439 - accuracy: 0.7936 - val_loss: 0.4637 - val_accuracy: 0.7856 - lr: 0.0010\n",
      "Epoch 4/20\n",
      "200/200 [==============================] - 3s 13ms/step - loss: 0.4009 - accuracy: 0.8209 - val_loss: 0.4779 - val_accuracy: 0.7659 - lr: 0.0010\n",
      "Epoch 5/20\n",
      "200/200 [==============================] - 3s 13ms/step - loss: 0.3568 - accuracy: 0.8439 - val_loss: 0.5022 - val_accuracy: 0.7847 - lr: 0.0010\n",
      "Epoch 6/20\n",
      "200/200 [==============================] - 3s 13ms/step - loss: 0.2424 - accuracy: 0.9012 - val_loss: 0.5510 - val_accuracy: 0.7859 - lr: 2.0000e-04\n",
      "Epoch 7/20\n",
      "200/200 [==============================] - 3s 13ms/step - loss: 0.1706 - accuracy: 0.9337 - val_loss: 0.6897 - val_accuracy: 0.7791 - lr: 2.0000e-04\n",
      "100/100 [==============================] - 0s 3ms/step\n",
      "100/100 [==============================] - 0s 3ms/step\n"
     ]
    },
    {
     "name": "stderr",
     "output_type": "stream",
     "text": [
      "2024/10/13 08:14:21 WARNING mlflow.tensorflow: You are saving a TensorFlow Core model or Keras model without a signature. Inference with mlflow.pyfunc.spark_udf() will not work unless the model's pyfunc representation accepts pandas DataFrames as inference inputs.\n",
      "WARNING:absl:Found untraced functions such as _jit_compiled_convolution_op, _update_step_xla while saving (showing 2 of 2). These functions will not be directly callable after loading.\n"
     ]
    },
    {
     "name": "stdout",
     "output_type": "stream",
     "text": [
      "INFO:tensorflow:Assets written to: C:\\Users\\trist\\AppData\\Local\\Temp\\tmpkzevafek\\model\\data\\model\\assets\n"
     ]
    },
    {
     "name": "stderr",
     "output_type": "stream",
     "text": [
      "INFO:tensorflow:Assets written to: C:\\Users\\trist\\AppData\\Local\\Temp\\tmpkzevafek\\model\\data\\model\\assets\n",
      "2024/10/13 08:14:30 WARNING mlflow.models.model: Model logged without a signature and input example. Please set `input_example` parameter when logging the model to auto infer the model signature.\n"
     ]
    },
    {
     "name": "stdout",
     "output_type": "stream",
     "text": [
      "Epoch 1/20\n",
      "200/200 [==============================] - 6s 22ms/step - loss: 0.6347 - accuracy: 0.6698 - val_loss: 0.5300 - val_accuracy: 0.7631 - lr: 0.0010\n",
      "Epoch 2/20\n",
      "200/200 [==============================] - 4s 21ms/step - loss: 0.5048 - accuracy: 0.7593 - val_loss: 0.4793 - val_accuracy: 0.7784 - lr: 0.0010\n",
      "Epoch 3/20\n",
      "200/200 [==============================] - 4s 20ms/step - loss: 0.4575 - accuracy: 0.7916 - val_loss: 0.5080 - val_accuracy: 0.7559 - lr: 0.0010\n",
      "Epoch 4/20\n",
      "200/200 [==============================] - 4s 21ms/step - loss: 0.4154 - accuracy: 0.8119 - val_loss: 0.4777 - val_accuracy: 0.7828 - lr: 0.0010\n",
      "Epoch 5/20\n",
      "200/200 [==============================] - 4s 21ms/step - loss: 0.3631 - accuracy: 0.8390 - val_loss: 0.5037 - val_accuracy: 0.7672 - lr: 0.0010\n",
      "Epoch 6/20\n",
      "200/200 [==============================] - 4s 21ms/step - loss: 0.3232 - accuracy: 0.8594 - val_loss: 0.5267 - val_accuracy: 0.7688 - lr: 0.0010\n",
      "Epoch 7/20\n",
      "200/200 [==============================] - 4s 21ms/step - loss: 0.2057 - accuracy: 0.9165 - val_loss: 0.6110 - val_accuracy: 0.7703 - lr: 2.0000e-04\n",
      "Epoch 8/20\n",
      "200/200 [==============================] - 4s 21ms/step - loss: 0.1325 - accuracy: 0.9523 - val_loss: 0.7603 - val_accuracy: 0.7734 - lr: 2.0000e-04\n",
      "100/100 [==============================] - 0s 4ms/step\n",
      "100/100 [==============================] - 0s 4ms/step\n"
     ]
    },
    {
     "name": "stderr",
     "output_type": "stream",
     "text": [
      "2024/10/13 08:15:07 WARNING mlflow.tensorflow: You are saving a TensorFlow Core model or Keras model without a signature. Inference with mlflow.pyfunc.spark_udf() will not work unless the model's pyfunc representation accepts pandas DataFrames as inference inputs.\n",
      "WARNING:absl:Found untraced functions such as _jit_compiled_convolution_op, _update_step_xla while saving (showing 2 of 2). These functions will not be directly callable after loading.\n"
     ]
    },
    {
     "name": "stdout",
     "output_type": "stream",
     "text": [
      "INFO:tensorflow:Assets written to: C:\\Users\\trist\\AppData\\Local\\Temp\\tmpuhkcwtg1\\model\\data\\model\\assets\n"
     ]
    },
    {
     "name": "stderr",
     "output_type": "stream",
     "text": [
      "INFO:tensorflow:Assets written to: C:\\Users\\trist\\AppData\\Local\\Temp\\tmpuhkcwtg1\\model\\data\\model\\assets\n",
      "2024/10/13 08:15:16 WARNING mlflow.models.model: Model logged without a signature and input example. Please set `input_example` parameter when logging the model to auto infer the model signature.\n"
     ]
    },
    {
     "name": "stdout",
     "output_type": "stream",
     "text": [
      "Epoch 1/20\n",
      "200/200 [==============================] - 3s 11ms/step - loss: 0.6155 - accuracy: 0.6802 - val_loss: 0.4976 - val_accuracy: 0.7566 - lr: 0.0010\n",
      "Epoch 2/20\n",
      "200/200 [==============================] - 2s 10ms/step - loss: 0.4926 - accuracy: 0.7669 - val_loss: 0.4943 - val_accuracy: 0.7666 - lr: 0.0010\n",
      "Epoch 3/20\n",
      "200/200 [==============================] - 2s 10ms/step - loss: 0.4492 - accuracy: 0.7987 - val_loss: 0.4831 - val_accuracy: 0.7728 - lr: 0.0010\n",
      "Epoch 4/20\n",
      "200/200 [==============================] - 2s 10ms/step - loss: 0.3976 - accuracy: 0.8215 - val_loss: 0.5049 - val_accuracy: 0.7578 - lr: 0.0010\n",
      "Epoch 5/20\n",
      "200/200 [==============================] - 2s 10ms/step - loss: 0.3500 - accuracy: 0.8533 - val_loss: 0.5225 - val_accuracy: 0.7666 - lr: 0.0010\n",
      "Epoch 6/20\n",
      "200/200 [==============================] - 2s 10ms/step - loss: 0.2213 - accuracy: 0.9131 - val_loss: 0.6007 - val_accuracy: 0.7581 - lr: 2.0000e-04\n",
      "Epoch 7/20\n",
      "200/200 [==============================] - 2s 10ms/step - loss: 0.1581 - accuracy: 0.9422 - val_loss: 0.7797 - val_accuracy: 0.7581 - lr: 2.0000e-04\n",
      "100/100 [==============================] - 0s 3ms/step\n",
      "100/100 [==============================] - 0s 3ms/step\n"
     ]
    },
    {
     "name": "stderr",
     "output_type": "stream",
     "text": [
      "2024/10/13 08:15:32 WARNING mlflow.tensorflow: You are saving a TensorFlow Core model or Keras model without a signature. Inference with mlflow.pyfunc.spark_udf() will not work unless the model's pyfunc representation accepts pandas DataFrames as inference inputs.\n",
      "WARNING:absl:Found untraced functions such as _jit_compiled_convolution_op, _update_step_xla while saving (showing 2 of 2). These functions will not be directly callable after loading.\n"
     ]
    },
    {
     "name": "stdout",
     "output_type": "stream",
     "text": [
      "INFO:tensorflow:Assets written to: C:\\Users\\trist\\AppData\\Local\\Temp\\tmpvk5x1ipi\\model\\data\\model\\assets\n"
     ]
    },
    {
     "name": "stderr",
     "output_type": "stream",
     "text": [
      "INFO:tensorflow:Assets written to: C:\\Users\\trist\\AppData\\Local\\Temp\\tmpvk5x1ipi\\model\\data\\model\\assets\n",
      "2024/10/13 08:15:41 WARNING mlflow.models.model: Model logged without a signature and input example. Please set `input_example` parameter when logging the model to auto infer the model signature.\n"
     ]
    },
    {
     "name": "stdout",
     "output_type": "stream",
     "text": [
      "Epoch 1/20\n",
      "200/200 [==============================] - 4s 17ms/step - loss: 0.6324 - accuracy: 0.6762 - val_loss: 0.5173 - val_accuracy: 0.7422 - lr: 0.0010\n",
      "Epoch 2/20\n",
      "200/200 [==============================] - 3s 16ms/step - loss: 0.5007 - accuracy: 0.7641 - val_loss: 0.4804 - val_accuracy: 0.7703 - lr: 0.0010\n",
      "Epoch 3/20\n",
      "200/200 [==============================] - 3s 16ms/step - loss: 0.4509 - accuracy: 0.7960 - val_loss: 0.5093 - val_accuracy: 0.7531 - lr: 0.0010\n",
      "Epoch 4/20\n",
      "200/200 [==============================] - 3s 17ms/step - loss: 0.3959 - accuracy: 0.8242 - val_loss: 0.5914 - val_accuracy: 0.7378 - lr: 0.0010\n",
      "Epoch 5/20\n",
      "200/200 [==============================] - 3s 17ms/step - loss: 0.2950 - accuracy: 0.8796 - val_loss: 0.5410 - val_accuracy: 0.7744 - lr: 2.0000e-04\n",
      "Epoch 6/20\n",
      "200/200 [==============================] - 3s 17ms/step - loss: 0.2241 - accuracy: 0.9134 - val_loss: 0.6282 - val_accuracy: 0.7675 - lr: 2.0000e-04\n",
      "100/100 [==============================] - 0s 3ms/step\n",
      "100/100 [==============================] - 0s 3ms/step\n"
     ]
    },
    {
     "name": "stderr",
     "output_type": "stream",
     "text": [
      "2024/10/13 08:16:03 WARNING mlflow.tensorflow: You are saving a TensorFlow Core model or Keras model without a signature. Inference with mlflow.pyfunc.spark_udf() will not work unless the model's pyfunc representation accepts pandas DataFrames as inference inputs.\n",
      "WARNING:absl:Found untraced functions such as _jit_compiled_convolution_op, _update_step_xla while saving (showing 2 of 2). These functions will not be directly callable after loading.\n"
     ]
    },
    {
     "name": "stdout",
     "output_type": "stream",
     "text": [
      "INFO:tensorflow:Assets written to: C:\\Users\\trist\\AppData\\Local\\Temp\\tmpk8q3upzq\\model\\data\\model\\assets\n"
     ]
    },
    {
     "name": "stderr",
     "output_type": "stream",
     "text": [
      "INFO:tensorflow:Assets written to: C:\\Users\\trist\\AppData\\Local\\Temp\\tmpk8q3upzq\\model\\data\\model\\assets\n",
      "2024/10/13 08:16:13 WARNING mlflow.models.model: Model logged without a signature and input example. Please set `input_example` parameter when logging the model to auto infer the model signature.\n"
     ]
    },
    {
     "name": "stdout",
     "output_type": "stream",
     "text": [
      "Epoch 1/20\n",
      "200/200 [==============================] - 7s 29ms/step - loss: 0.6405 - accuracy: 0.6702 - val_loss: 0.5040 - val_accuracy: 0.7638 - lr: 0.0010\n",
      "Epoch 2/20\n",
      "200/200 [==============================] - 6s 30ms/step - loss: 0.4999 - accuracy: 0.7607 - val_loss: 0.5089 - val_accuracy: 0.7472 - lr: 0.0010\n",
      "Epoch 3/20\n",
      "200/200 [==============================] - 6s 30ms/step - loss: 0.4538 - accuracy: 0.7937 - val_loss: 0.4760 - val_accuracy: 0.7719 - lr: 0.0010\n",
      "Epoch 4/20\n",
      "200/200 [==============================] - 6s 31ms/step - loss: 0.4165 - accuracy: 0.8127 - val_loss: 0.4969 - val_accuracy: 0.7603 - lr: 0.0010\n",
      "Epoch 5/20\n",
      "200/200 [==============================] - 6s 30ms/step - loss: 0.3675 - accuracy: 0.8396 - val_loss: 0.5273 - val_accuracy: 0.7681 - lr: 0.0010\n",
      "Epoch 6/20\n",
      "200/200 [==============================] - 6s 30ms/step - loss: 0.2511 - accuracy: 0.8980 - val_loss: 0.5896 - val_accuracy: 0.7734 - lr: 2.0000e-04\n",
      "Epoch 7/20\n",
      "200/200 [==============================] - 6s 29ms/step - loss: 0.1668 - accuracy: 0.9343 - val_loss: 0.7172 - val_accuracy: 0.7697 - lr: 2.0000e-04\n",
      "100/100 [==============================] - 1s 5ms/step\n",
      "100/100 [==============================] - 0s 5ms/step\n"
     ]
    },
    {
     "name": "stderr",
     "output_type": "stream",
     "text": [
      "2024/10/13 08:16:57 WARNING mlflow.tensorflow: You are saving a TensorFlow Core model or Keras model without a signature. Inference with mlflow.pyfunc.spark_udf() will not work unless the model's pyfunc representation accepts pandas DataFrames as inference inputs.\n",
      "WARNING:absl:Found untraced functions such as _jit_compiled_convolution_op, _update_step_xla while saving (showing 2 of 2). These functions will not be directly callable after loading.\n"
     ]
    },
    {
     "name": "stdout",
     "output_type": "stream",
     "text": [
      "INFO:tensorflow:Assets written to: C:\\Users\\trist\\AppData\\Local\\Temp\\tmp2li4g0te\\model\\data\\model\\assets\n"
     ]
    },
    {
     "name": "stderr",
     "output_type": "stream",
     "text": [
      "INFO:tensorflow:Assets written to: C:\\Users\\trist\\AppData\\Local\\Temp\\tmp2li4g0te\\model\\data\\model\\assets\n",
      "2024/10/13 08:17:07 WARNING mlflow.models.model: Model logged without a signature and input example. Please set `input_example` parameter when logging the model to auto infer the model signature.\n"
     ]
    },
    {
     "name": "stdout",
     "output_type": "stream",
     "text": [
      "Meilleurs paramètres : {'activation_type': 'prelu', 'dropout_rate': 0.5, 'kernel_size': 3, 'num_filters': 128} avec une accuracy de 0.7791\n",
      "Meilleur modèle entraîné avec les paramètres : {'activation_type': 'prelu', 'dropout_rate': 0.5, 'kernel_size': 3, 'num_filters': 128}\n"
     ]
    }
   ],
   "source": [
    "# Entraînement du modèle CNN avec GridSearch sur les embeddings BERT\n",
    "best_model, best_params = train_and_log_cnn(\n",
    "    X_train, y_train, X_test, y_test, \n",
    "    experiment_name=\"BERT_CNN_Experiment\", \n",
    "    param_grid=param_grid_cnn, \n",
    "    max_length=100, \n",
    "    embedding_dim=768  # Embedding dim from BERT\n",
    ")\n",
    "\n",
    "print(f\"Meilleur modèle entraîné avec les paramètres : {best_params}\")"
   ]
  },
  {
   "cell_type": "markdown",
   "id": "5a57f7d0-bf93-45a5-b211-9648f5b06218",
   "metadata": {},
   "source": [
    "# 5. Construction du modèle LSTM"
   ]
  },
  {
   "cell_type": "code",
   "execution_count": 84,
   "id": "1870b5f4-b527-4012-80fc-4c1397c38013",
   "metadata": {},
   "outputs": [],
   "source": [
    "import mlflow\n",
    "import mlflow.keras\n",
    "import time\n",
    "from keras.models import Sequential\n",
    "from keras.layers import LSTM, Dense, Dropout, BatchNormalization, LeakyReLU, PReLU,  Bidirectional\n",
    "from keras.callbacks import EarlyStopping, ReduceLROnPlateau\n",
    "from sklearn.metrics import accuracy_score, roc_auc_score, precision_score, recall_score, f1_score, confusion_matrix, roc_curve\n",
    "import seaborn as sns\n",
    "import matplotlib.pyplot as plt\n",
    "import numpy as np\n",
    "from sklearn.model_selection import ParameterGrid\n",
    "\n",
    "\n",
    "\n",
    "# Fonction pour créer un modèle LSTM\n",
    "def create_lstm_model(input_shape, lstm_units=128, dropout_rate=0.2, activation_type='relu'):\n",
    "    model = Sequential()\n",
    "\n",
    "    # Couche LSTM simple\n",
    "    model.add((Bidirectional(LSTM(lstm_units, return_sequences=False, input_shape=input_shape))))\n",
    "    \n",
    "    # Batch Normalization après la couche LSTM\n",
    "    model.add(BatchNormalization())\n",
    "\n",
    "    # Activation dynamique ou fixe\n",
    "    if activation_type == 'leakyrelu':\n",
    "        model.add(LeakyReLU())\n",
    "    elif activation_type == 'prelu':\n",
    "        model.add(PReLU())\n",
    "    else:\n",
    "        model.add(Dense(128, activation=activation_type))\n",
    "\n",
    "    # Dropout pour éviter le surapprentissage\n",
    "    model.add(Dropout(dropout_rate))\n",
    "    \n",
    "    # Couche Dense\n",
    "    model.add(Dense(64, activation='relu'))\n",
    "    model.add(Dropout(dropout_rate))\n",
    "    \n",
    "    # Couche de sortie\n",
    "    model.add(Dense(1, activation='sigmoid'))\n",
    "\n",
    "    # Compilation du modèle\n",
    "    model.compile(optimizer='adam', loss='binary_crossentropy', metrics=['accuracy'])\n",
    "    \n",
    "    return model\n",
    "\n",
    "# Fonction pour entraîner et loguer un modèle LSTM avec GridSearch et les métriques avancées\n",
    "def train_and_log_lstm(X_train, y_train, X_test, y_test, experiment_name, param_grid, input_shape):\n",
    "    mlflow.set_experiment(experiment_name)\n",
    "    \n",
    "    best_model = None\n",
    "    best_accuracy = 0\n",
    "    best_params = None\n",
    "\n",
    "    # Parcourir chaque combinaison d'hyperparamètres\n",
    "    for params in ParameterGrid(param_grid):\n",
    "        lstm_units = params['lstm_units']\n",
    "        dropout_rate = params['dropout_rate']\n",
    "        activation_type = params['activation_type']\n",
    "\n",
    "        with mlflow.start_run(run_name=f\"LSTM_units={lstm_units}_dropout={dropout_rate}_activation={activation_type}\"):\n",
    "\n",
    "            # Créer le modèle LSTM avec les hyperparamètres courants\n",
    "            model = create_lstm_model(input_shape=input_shape, lstm_units=lstm_units, dropout_rate=dropout_rate, activation_type=activation_type)\n",
    "\n",
    "            # Early stopping pour éviter l'overfitting\n",
    "            early_stopping = EarlyStopping(monitor='val_loss', patience=4)\n",
    "\n",
    "            # Réduction du taux d'apprentissage lorsque la validation stagne\n",
    "            reduce_lr = ReduceLROnPlateau(monitor='val_loss', factor=0.2, patience=2, min_lr=0.0001)\n",
    "\n",
    "            # Entraîner le modèle\n",
    "            start_time = time.time()\n",
    "            history = model.fit(X_train, y_train, epochs=20, batch_size=64, validation_data=(X_test, y_test), callbacks=[early_stopping, reduce_lr], verbose=1)\n",
    "            training_time = time.time() - start_time\n",
    "\n",
    "            # Prédictions et évaluation\n",
    "            y_pred = (model.predict(X_test) > 0.5).astype(\"int32\")\n",
    "            y_pred_proba = model.predict(X_test)\n",
    "            accuracy = accuracy_score(y_test, y_pred)\n",
    "            auc_score = roc_auc_score(y_test, y_pred_proba)\n",
    "            precision = precision_score(y_test, y_pred)\n",
    "            recall = recall_score(y_test, y_pred)\n",
    "            f1 = f1_score(y_test, y_pred)\n",
    "\n",
    "            # Matrice de confusion\n",
    "            conf_matrix = confusion_matrix(y_test, y_pred)\n",
    "\n",
    "            # Loguer les hyperparamètres dans MLFlow\n",
    "            mlflow.log_param(\"lstm_units\", lstm_units)\n",
    "            mlflow.log_param(\"dropout_rate\", dropout_rate)\n",
    "            mlflow.log_param(\"activation_type\", activation_type)\n",
    "\n",
    "            # Loguer les métriques dans MLFlow\n",
    "            mlflow.log_metric(\"accuracy\", accuracy)\n",
    "            mlflow.log_metric(\"auc\", auc_score)\n",
    "            mlflow.log_metric(\"precision\", precision)\n",
    "            mlflow.log_metric(\"recall\", recall)\n",
    "            mlflow.log_metric(\"f1_score\", f1)\n",
    "            mlflow.log_metric(\"training_time\", training_time)\n",
    "\n",
    "            # Sauvegarder le modèle avec MLFlow\n",
    "            mlflow.keras.log_model(model, f\"lstm_model_{lstm_units}_{dropout_rate}_{activation_type}\")\n",
    "\n",
    "            # Sauvegarder et loguer la matrice de confusion\n",
    "            plt.figure(figsize=(6, 4))\n",
    "            sns.heatmap(conf_matrix, annot=True, fmt=\"d\", cmap=\"Blues\", cbar=False)\n",
    "            plt.xlabel('Prédictions')\n",
    "            plt.ylabel('Vérités')\n",
    "            plt.title(f\"Matrice de Confusion - LSTM\")\n",
    "            conf_matrix_path = f\"./matrice/confusion_matrix_lstm_units={lstm_units}_dropout={dropout_rate}_activation={activation_type}.png\"\n",
    "            plt.savefig(conf_matrix_path)\n",
    "            mlflow.log_artifact(conf_matrix_path)\n",
    "            plt.close()  # Fermer la figure pour éviter l'affichage dans le notebook\n",
    "            \n",
    "            # Sauvegarder et loguer la courbe ROC\n",
    "            fpr, tpr, _ = roc_curve(y_test, y_pred_proba)\n",
    "            plt.figure()\n",
    "            plt.plot(fpr, tpr, label=f\"ROC curve (AUC = {auc_score:.2f})\")\n",
    "            plt.xlabel(\"False Positive Rate\")\n",
    "            plt.ylabel(\"True Positive Rate\")\n",
    "            plt.title(\"ROC Curve\")\n",
    "            plt.legend(loc=\"best\")\n",
    "            roc_curve_path = f\"./matrice/roc_curve_lstm_units={lstm_units}_dropout={dropout_rate}_activation={activation_type}.png\"\n",
    "            plt.savefig(roc_curve_path)\n",
    "            mlflow.log_artifact(roc_curve_path)\n",
    "            plt.close()  # Fermer la figure pour éviter l'affichage dans le notebook\n",
    "\n",
    "            # Comparer pour garder le meilleur modèle\n",
    "            if accuracy > best_accuracy:\n",
    "                best_accuracy = accuracy\n",
    "                best_params = params\n",
    "                best_model = model\n",
    "\n",
    "    print(f\"Meilleurs paramètres : {best_params} avec une accuracy de {best_accuracy:.4f}\")\n",
    "\n",
    "    # Retourner le meilleur modèle\n",
    "    return best_model, best_params\n",
    "\n",
    "# GridSearch pour le modèle LSTM avec les hyperparamètres\n",
    "param_grid_lstm = {\n",
    "    'lstm_units': [64, 128, 256],      # Nombre de cellules LSTM\n",
    "    'dropout_rate': [0.2, 0.5],        # Taux de Dropout\n",
    "    'activation_type': ['relu', 'leakyrelu', 'prelu']  # Type d'activation\n",
    "}\n",
    "\n"
   ]
  },
  {
   "cell_type": "markdown",
   "id": "20081a5b-925f-4235-a837-93cd857654c1",
   "metadata": {},
   "source": [
    "# 6. entrainement du modèle LSTM"
   ]
  },
  {
   "cell_type": "code",
   "execution_count": 86,
   "id": "dfd1a99c-01a6-43cd-a07a-b537c636aef2",
   "metadata": {},
   "outputs": [
    {
     "name": "stdout",
     "output_type": "stream",
     "text": [
      "Epoch 1/20\n",
      "200/200 [==============================] - 44s 203ms/step - loss: 0.5486 - accuracy: 0.7193 - val_loss: 0.5547 - val_accuracy: 0.7231 - lr: 0.0010\n",
      "Epoch 2/20\n",
      "200/200 [==============================] - 56s 280ms/step - loss: 0.4770 - accuracy: 0.7718 - val_loss: 0.5347 - val_accuracy: 0.7203 - lr: 0.0010\n",
      "Epoch 3/20\n",
      "200/200 [==============================] - 55s 275ms/step - loss: 0.4412 - accuracy: 0.7948 - val_loss: 0.4901 - val_accuracy: 0.7700 - lr: 0.0010\n",
      "Epoch 4/20\n",
      "200/200 [==============================] - 54s 272ms/step - loss: 0.3950 - accuracy: 0.8157 - val_loss: 0.4871 - val_accuracy: 0.7616 - lr: 0.0010\n",
      "Epoch 5/20\n",
      "200/200 [==============================] - 55s 274ms/step - loss: 0.3427 - accuracy: 0.8495 - val_loss: 0.5696 - val_accuracy: 0.7609 - lr: 0.0010\n",
      "Epoch 6/20\n",
      "200/200 [==============================] - 55s 274ms/step - loss: 0.2756 - accuracy: 0.8805 - val_loss: 0.6291 - val_accuracy: 0.7462 - lr: 0.0010\n",
      "Epoch 7/20\n",
      "200/200 [==============================] - 55s 274ms/step - loss: 0.1550 - accuracy: 0.9417 - val_loss: 0.7420 - val_accuracy: 0.7600 - lr: 2.0000e-04\n",
      "Epoch 8/20\n",
      "200/200 [==============================] - 55s 275ms/step - loss: 0.1044 - accuracy: 0.9611 - val_loss: 0.8664 - val_accuracy: 0.7566 - lr: 2.0000e-04\n",
      "100/100 [==============================] - 11s 97ms/step\n",
      "100/100 [==============================] - 10s 96ms/step\n"
     ]
    },
    {
     "name": "stderr",
     "output_type": "stream",
     "text": [
      "2024/10/13 10:21:29 WARNING mlflow.tensorflow: You are saving a TensorFlow Core model or Keras model without a signature. Inference with mlflow.pyfunc.spark_udf() will not work unless the model's pyfunc representation accepts pandas DataFrames as inference inputs.\n",
      "WARNING:absl:Found untraced functions such as _update_step_xla, lstm_cell_20_layer_call_fn, lstm_cell_20_layer_call_and_return_conditional_losses, lstm_cell_21_layer_call_fn, lstm_cell_21_layer_call_and_return_conditional_losses while saving (showing 5 of 5). These functions will not be directly callable after loading.\n"
     ]
    },
    {
     "name": "stdout",
     "output_type": "stream",
     "text": [
      "INFO:tensorflow:Assets written to: C:\\Users\\trist\\AppData\\Local\\Temp\\tmp_lmbomt8\\model\\data\\model\\assets\n"
     ]
    },
    {
     "name": "stderr",
     "output_type": "stream",
     "text": [
      "INFO:tensorflow:Assets written to: C:\\Users\\trist\\AppData\\Local\\Temp\\tmp_lmbomt8\\model\\data\\model\\assets\n",
      "2024/10/13 10:22:05 WARNING mlflow.models.model: Model logged without a signature and input example. Please set `input_example` parameter when logging the model to auto infer the model signature.\n"
     ]
    },
    {
     "name": "stdout",
     "output_type": "stream",
     "text": [
      "Epoch 1/20\n",
      "200/200 [==============================] - 72s 342ms/step - loss: 0.5564 - accuracy: 0.7197 - val_loss: 0.5349 - val_accuracy: 0.7459 - lr: 0.0010\n",
      "Epoch 2/20\n",
      "200/200 [==============================] - 67s 337ms/step - loss: 0.4804 - accuracy: 0.7741 - val_loss: 0.5488 - val_accuracy: 0.6953 - lr: 0.0010\n",
      "Epoch 3/20\n",
      "200/200 [==============================] - 68s 338ms/step - loss: 0.4363 - accuracy: 0.7974 - val_loss: 0.5320 - val_accuracy: 0.7516 - lr: 0.0010\n",
      "Epoch 4/20\n",
      "200/200 [==============================] - 67s 337ms/step - loss: 0.3986 - accuracy: 0.8176 - val_loss: 0.5264 - val_accuracy: 0.7366 - lr: 0.0010\n",
      "Epoch 5/20\n",
      "200/200 [==============================] - 67s 337ms/step - loss: 0.3402 - accuracy: 0.8495 - val_loss: 0.5309 - val_accuracy: 0.7609 - lr: 0.0010\n",
      "Epoch 6/20\n",
      "200/200 [==============================] - 67s 338ms/step - loss: 0.2789 - accuracy: 0.8809 - val_loss: 0.6089 - val_accuracy: 0.7459 - lr: 0.0010\n",
      "Epoch 7/20\n",
      "200/200 [==============================] - 67s 336ms/step - loss: 0.1464 - accuracy: 0.9448 - val_loss: 0.7439 - val_accuracy: 0.7597 - lr: 2.0000e-04\n",
      "Epoch 8/20\n",
      "200/200 [==============================] - 67s 338ms/step - loss: 0.0820 - accuracy: 0.9720 - val_loss: 0.9235 - val_accuracy: 0.7497 - lr: 2.0000e-04\n",
      "100/100 [==============================] - 12s 106ms/step\n",
      "100/100 [==============================] - 11s 106ms/step\n"
     ]
    },
    {
     "name": "stderr",
     "output_type": "stream",
     "text": [
      "2024/10/13 10:31:32 WARNING mlflow.tensorflow: You are saving a TensorFlow Core model or Keras model without a signature. Inference with mlflow.pyfunc.spark_udf() will not work unless the model's pyfunc representation accepts pandas DataFrames as inference inputs.\n",
      "WARNING:absl:Found untraced functions such as _update_step_xla, lstm_cell_23_layer_call_fn, lstm_cell_23_layer_call_and_return_conditional_losses, lstm_cell_24_layer_call_fn, lstm_cell_24_layer_call_and_return_conditional_losses while saving (showing 5 of 5). These functions will not be directly callable after loading.\n"
     ]
    },
    {
     "name": "stdout",
     "output_type": "stream",
     "text": [
      "INFO:tensorflow:Assets written to: C:\\Users\\trist\\AppData\\Local\\Temp\\tmp73bs1cui\\model\\data\\model\\assets\n"
     ]
    },
    {
     "name": "stderr",
     "output_type": "stream",
     "text": [
      "INFO:tensorflow:Assets written to: C:\\Users\\trist\\AppData\\Local\\Temp\\tmp73bs1cui\\model\\data\\model\\assets\n",
      "2024/10/13 10:32:06 WARNING mlflow.models.model: Model logged without a signature and input example. Please set `input_example` parameter when logging the model to auto infer the model signature.\n"
     ]
    },
    {
     "name": "stdout",
     "output_type": "stream",
     "text": [
      "Epoch 1/20\n",
      "200/200 [==============================] - 113s 548ms/step - loss: 0.5696 - accuracy: 0.7140 - val_loss: 0.5751 - val_accuracy: 0.7328 - lr: 0.0010\n",
      "Epoch 2/20\n",
      "200/200 [==============================] - 107s 537ms/step - loss: 0.4974 - accuracy: 0.7629 - val_loss: 0.5205 - val_accuracy: 0.7434 - lr: 0.0010\n",
      "Epoch 3/20\n",
      "200/200 [==============================] - 106s 530ms/step - loss: 0.4634 - accuracy: 0.7841 - val_loss: 0.5328 - val_accuracy: 0.7197 - lr: 0.0010\n",
      "Epoch 4/20\n",
      "200/200 [==============================] - 106s 529ms/step - loss: 0.4256 - accuracy: 0.8036 - val_loss: 0.5349 - val_accuracy: 0.7431 - lr: 0.0010\n",
      "Epoch 5/20\n",
      "200/200 [==============================] - 106s 530ms/step - loss: 0.3468 - accuracy: 0.8441 - val_loss: 0.4945 - val_accuracy: 0.7772 - lr: 2.0000e-04\n",
      "Epoch 6/20\n",
      "200/200 [==============================] - 106s 529ms/step - loss: 0.3044 - accuracy: 0.8663 - val_loss: 0.5243 - val_accuracy: 0.7731 - lr: 2.0000e-04\n",
      "Epoch 7/20\n",
      "200/200 [==============================] - 107s 536ms/step - loss: 0.2600 - accuracy: 0.8910 - val_loss: 0.5921 - val_accuracy: 0.7672 - lr: 2.0000e-04\n",
      "Epoch 8/20\n",
      "200/200 [==============================] - 109s 546ms/step - loss: 0.1969 - accuracy: 0.9230 - val_loss: 0.6625 - val_accuracy: 0.7594 - lr: 1.0000e-04\n",
      "Epoch 9/20\n",
      "200/200 [==============================] - 110s 550ms/step - loss: 0.1641 - accuracy: 0.9376 - val_loss: 0.7322 - val_accuracy: 0.7594 - lr: 1.0000e-04\n",
      "100/100 [==============================] - 9s 80ms/step\n",
      "100/100 [==============================] - 8s 79ms/step\n"
     ]
    },
    {
     "name": "stderr",
     "output_type": "stream",
     "text": [
      "2024/10/13 10:48:34 WARNING mlflow.tensorflow: You are saving a TensorFlow Core model or Keras model without a signature. Inference with mlflow.pyfunc.spark_udf() will not work unless the model's pyfunc representation accepts pandas DataFrames as inference inputs.\n",
      "WARNING:absl:Found untraced functions such as _update_step_xla, lstm_cell_26_layer_call_fn, lstm_cell_26_layer_call_and_return_conditional_losses, lstm_cell_27_layer_call_fn, lstm_cell_27_layer_call_and_return_conditional_losses while saving (showing 5 of 5). These functions will not be directly callable after loading.\n"
     ]
    },
    {
     "name": "stdout",
     "output_type": "stream",
     "text": [
      "INFO:tensorflow:Assets written to: C:\\Users\\trist\\AppData\\Local\\Temp\\tmpu0_a4y6n\\model\\data\\model\\assets\n"
     ]
    },
    {
     "name": "stderr",
     "output_type": "stream",
     "text": [
      "INFO:tensorflow:Assets written to: C:\\Users\\trist\\AppData\\Local\\Temp\\tmpu0_a4y6n\\model\\data\\model\\assets\n",
      "2024/10/13 10:49:12 WARNING mlflow.models.model: Model logged without a signature and input example. Please set `input_example` parameter when logging the model to auto infer the model signature.\n"
     ]
    },
    {
     "name": "stdout",
     "output_type": "stream",
     "text": [
      "Epoch 1/20\n",
      "200/200 [==============================] - 39s 178ms/step - loss: 0.6088 - accuracy: 0.6834 - val_loss: 0.5635 - val_accuracy: 0.7494 - lr: 0.0010\n",
      "Epoch 2/20\n",
      "200/200 [==============================] - 33s 166ms/step - loss: 0.5052 - accuracy: 0.7602 - val_loss: 0.4860 - val_accuracy: 0.7741 - lr: 0.0010\n",
      "Epoch 3/20\n",
      "200/200 [==============================] - 33s 166ms/step - loss: 0.4659 - accuracy: 0.7845 - val_loss: 0.4768 - val_accuracy: 0.7772 - lr: 0.0010\n",
      "Epoch 4/20\n",
      "200/200 [==============================] - 33s 165ms/step - loss: 0.4298 - accuracy: 0.8050 - val_loss: 0.5024 - val_accuracy: 0.7444 - lr: 0.0010\n",
      "Epoch 5/20\n",
      "200/200 [==============================] - 33s 166ms/step - loss: 0.3971 - accuracy: 0.8224 - val_loss: 0.4818 - val_accuracy: 0.7738 - lr: 0.0010\n",
      "Epoch 6/20\n",
      "200/200 [==============================] - 33s 166ms/step - loss: 0.3134 - accuracy: 0.8684 - val_loss: 0.5077 - val_accuracy: 0.7753 - lr: 2.0000e-04\n",
      "Epoch 7/20\n",
      "200/200 [==============================] - 33s 166ms/step - loss: 0.2717 - accuracy: 0.8896 - val_loss: 0.5829 - val_accuracy: 0.7628 - lr: 2.0000e-04\n",
      "100/100 [==============================] - 8s 71ms/step\n",
      "100/100 [==============================] - 7s 70ms/step\n"
     ]
    },
    {
     "name": "stderr",
     "output_type": "stream",
     "text": [
      "2024/10/13 10:53:25 WARNING mlflow.tensorflow: You are saving a TensorFlow Core model or Keras model without a signature. Inference with mlflow.pyfunc.spark_udf() will not work unless the model's pyfunc representation accepts pandas DataFrames as inference inputs.\n",
      "WARNING:absl:Found untraced functions such as _update_step_xla, lstm_cell_29_layer_call_fn, lstm_cell_29_layer_call_and_return_conditional_losses, lstm_cell_30_layer_call_fn, lstm_cell_30_layer_call_and_return_conditional_losses while saving (showing 5 of 5). These functions will not be directly callable after loading.\n"
     ]
    },
    {
     "name": "stdout",
     "output_type": "stream",
     "text": [
      "INFO:tensorflow:Assets written to: C:\\Users\\trist\\AppData\\Local\\Temp\\tmppxrglbw1\\model\\data\\model\\assets\n"
     ]
    },
    {
     "name": "stderr",
     "output_type": "stream",
     "text": [
      "INFO:tensorflow:Assets written to: C:\\Users\\trist\\AppData\\Local\\Temp\\tmppxrglbw1\\model\\data\\model\\assets\n",
      "2024/10/13 10:54:04 WARNING mlflow.models.model: Model logged without a signature and input example. Please set `input_example` parameter when logging the model to auto infer the model signature.\n"
     ]
    },
    {
     "name": "stdout",
     "output_type": "stream",
     "text": [
      "Epoch 1/20\n",
      "200/200 [==============================] - 49s 230ms/step - loss: 0.6170 - accuracy: 0.6876 - val_loss: 0.6056 - val_accuracy: 0.6472 - lr: 0.0010\n",
      "Epoch 2/20\n",
      "200/200 [==============================] - 37s 183ms/step - loss: 0.5094 - accuracy: 0.7582 - val_loss: 0.5361 - val_accuracy: 0.7237 - lr: 0.0010\n",
      "Epoch 3/20\n",
      "200/200 [==============================] - 37s 184ms/step - loss: 0.4808 - accuracy: 0.7777 - val_loss: 0.4931 - val_accuracy: 0.7591 - lr: 0.0010\n",
      "Epoch 4/20\n",
      "200/200 [==============================] - 36s 182ms/step - loss: 0.4489 - accuracy: 0.7949 - val_loss: 0.5070 - val_accuracy: 0.7509 - lr: 0.0010\n",
      "Epoch 5/20\n",
      "200/200 [==============================] - 37s 184ms/step - loss: 0.4142 - accuracy: 0.8105 - val_loss: 0.5000 - val_accuracy: 0.7653 - lr: 0.0010\n",
      "Epoch 6/20\n",
      "200/200 [==============================] - 37s 184ms/step - loss: 0.3329 - accuracy: 0.8543 - val_loss: 0.4972 - val_accuracy: 0.7756 - lr: 2.0000e-04\n",
      "Epoch 7/20\n",
      "200/200 [==============================] - 37s 185ms/step - loss: 0.2897 - accuracy: 0.8738 - val_loss: 0.5357 - val_accuracy: 0.7722 - lr: 2.0000e-04\n",
      "100/100 [==============================] - 7s 64ms/step\n",
      "100/100 [==============================] - 6s 64ms/step\n"
     ]
    },
    {
     "name": "stderr",
     "output_type": "stream",
     "text": [
      "2024/10/13 10:58:48 WARNING mlflow.tensorflow: You are saving a TensorFlow Core model or Keras model without a signature. Inference with mlflow.pyfunc.spark_udf() will not work unless the model's pyfunc representation accepts pandas DataFrames as inference inputs.\n",
      "WARNING:absl:Found untraced functions such as _update_step_xla, lstm_cell_32_layer_call_fn, lstm_cell_32_layer_call_and_return_conditional_losses, lstm_cell_33_layer_call_fn, lstm_cell_33_layer_call_and_return_conditional_losses while saving (showing 5 of 5). These functions will not be directly callable after loading.\n"
     ]
    },
    {
     "name": "stdout",
     "output_type": "stream",
     "text": [
      "INFO:tensorflow:Assets written to: C:\\Users\\trist\\AppData\\Local\\Temp\\tmpd1o6cm44\\model\\data\\model\\assets\n"
     ]
    },
    {
     "name": "stderr",
     "output_type": "stream",
     "text": [
      "INFO:tensorflow:Assets written to: C:\\Users\\trist\\AppData\\Local\\Temp\\tmpd1o6cm44\\model\\data\\model\\assets\n",
      "2024/10/13 10:59:27 WARNING mlflow.models.model: Model logged without a signature and input example. Please set `input_example` parameter when logging the model to auto infer the model signature.\n"
     ]
    },
    {
     "name": "stdout",
     "output_type": "stream",
     "text": [
      "Epoch 1/20\n",
      "200/200 [==============================] - 62s 295ms/step - loss: 0.6460 - accuracy: 0.6799 - val_loss: 0.6088 - val_accuracy: 0.7462 - lr: 0.0010\n",
      "Epoch 2/20\n",
      "200/200 [==============================] - 53s 263ms/step - loss: 0.5225 - accuracy: 0.7452 - val_loss: 0.5244 - val_accuracy: 0.7522 - lr: 0.0010\n",
      "Epoch 3/20\n",
      "200/200 [==============================] - 53s 266ms/step - loss: 0.4962 - accuracy: 0.7662 - val_loss: 0.5277 - val_accuracy: 0.7322 - lr: 0.0010\n",
      "Epoch 4/20\n",
      "200/200 [==============================] - 54s 272ms/step - loss: 0.4686 - accuracy: 0.7844 - val_loss: 0.4774 - val_accuracy: 0.7753 - lr: 0.0010\n",
      "Epoch 5/20\n",
      "200/200 [==============================] - 53s 267ms/step - loss: 0.4359 - accuracy: 0.8037 - val_loss: 0.4837 - val_accuracy: 0.7750 - lr: 0.0010\n",
      "Epoch 6/20\n",
      "200/200 [==============================] - 54s 268ms/step - loss: 0.4085 - accuracy: 0.8191 - val_loss: 0.4966 - val_accuracy: 0.7675 - lr: 0.0010\n",
      "Epoch 7/20\n",
      "200/200 [==============================] - 53s 264ms/step - loss: 0.3266 - accuracy: 0.8570 - val_loss: 0.5015 - val_accuracy: 0.7744 - lr: 2.0000e-04\n",
      "Epoch 8/20\n",
      "200/200 [==============================] - 53s 265ms/step - loss: 0.2888 - accuracy: 0.8764 - val_loss: 0.5643 - val_accuracy: 0.7641 - lr: 2.0000e-04\n",
      "100/100 [==============================] - 5s 40ms/step\n",
      "100/100 [==============================] - 4s 40ms/step\n"
     ]
    },
    {
     "name": "stderr",
     "output_type": "stream",
     "text": [
      "2024/10/13 11:06:51 WARNING mlflow.tensorflow: You are saving a TensorFlow Core model or Keras model without a signature. Inference with mlflow.pyfunc.spark_udf() will not work unless the model's pyfunc representation accepts pandas DataFrames as inference inputs.\n",
      "WARNING:absl:Found untraced functions such as _update_step_xla, lstm_cell_35_layer_call_fn, lstm_cell_35_layer_call_and_return_conditional_losses, lstm_cell_36_layer_call_fn, lstm_cell_36_layer_call_and_return_conditional_losses while saving (showing 5 of 5). These functions will not be directly callable after loading.\n"
     ]
    },
    {
     "name": "stdout",
     "output_type": "stream",
     "text": [
      "INFO:tensorflow:Assets written to: C:\\Users\\trist\\AppData\\Local\\Temp\\tmpm9_nv7hc\\model\\data\\model\\assets\n"
     ]
    },
    {
     "name": "stderr",
     "output_type": "stream",
     "text": [
      "INFO:tensorflow:Assets written to: C:\\Users\\trist\\AppData\\Local\\Temp\\tmpm9_nv7hc\\model\\data\\model\\assets\n",
      "2024/10/13 11:07:31 WARNING mlflow.models.model: Model logged without a signature and input example. Please set `input_example` parameter when logging the model to auto infer the model signature.\n"
     ]
    },
    {
     "name": "stdout",
     "output_type": "stream",
     "text": [
      "Epoch 1/20\n",
      "200/200 [==============================] - 44s 204ms/step - loss: 0.5518 - accuracy: 0.7246 - val_loss: 0.5434 - val_accuracy: 0.7494 - lr: 0.0010\n",
      "Epoch 2/20\n",
      "200/200 [==============================] - 40s 200ms/step - loss: 0.4752 - accuracy: 0.7759 - val_loss: 0.4782 - val_accuracy: 0.7734 - lr: 0.0010\n",
      "Epoch 3/20\n",
      "200/200 [==============================] - 40s 199ms/step - loss: 0.4348 - accuracy: 0.8007 - val_loss: 0.5641 - val_accuracy: 0.7159 - lr: 0.0010\n",
      "Epoch 4/20\n",
      "200/200 [==============================] - 40s 199ms/step - loss: 0.4007 - accuracy: 0.8184 - val_loss: 0.4985 - val_accuracy: 0.7738 - lr: 0.0010\n",
      "Epoch 5/20\n",
      "200/200 [==============================] - 40s 198ms/step - loss: 0.3296 - accuracy: 0.8580 - val_loss: 0.4982 - val_accuracy: 0.7753 - lr: 2.0000e-04\n",
      "Epoch 6/20\n",
      "200/200 [==============================] - 41s 203ms/step - loss: 0.2927 - accuracy: 0.8737 - val_loss: 0.5279 - val_accuracy: 0.7772 - lr: 2.0000e-04\n",
      "100/100 [==============================] - 11s 97ms/step\n",
      "100/100 [==============================] - 10s 97ms/step\n"
     ]
    },
    {
     "name": "stderr",
     "output_type": "stream",
     "text": [
      "2024/10/13 11:11:55 WARNING mlflow.tensorflow: You are saving a TensorFlow Core model or Keras model without a signature. Inference with mlflow.pyfunc.spark_udf() will not work unless the model's pyfunc representation accepts pandas DataFrames as inference inputs.\n",
      "WARNING:absl:Found untraced functions such as _update_step_xla, lstm_cell_38_layer_call_fn, lstm_cell_38_layer_call_and_return_conditional_losses, lstm_cell_39_layer_call_fn, lstm_cell_39_layer_call_and_return_conditional_losses while saving (showing 5 of 5). These functions will not be directly callable after loading.\n"
     ]
    },
    {
     "name": "stdout",
     "output_type": "stream",
     "text": [
      "INFO:tensorflow:Assets written to: C:\\Users\\trist\\AppData\\Local\\Temp\\tmps6f401js\\model\\data\\model\\assets\n"
     ]
    },
    {
     "name": "stderr",
     "output_type": "stream",
     "text": [
      "INFO:tensorflow:Assets written to: C:\\Users\\trist\\AppData\\Local\\Temp\\tmps6f401js\\model\\data\\model\\assets\n",
      "2024/10/13 11:12:35 WARNING mlflow.models.model: Model logged without a signature and input example. Please set `input_example` parameter when logging the model to auto infer the model signature.\n"
     ]
    },
    {
     "name": "stdout",
     "output_type": "stream",
     "text": [
      "Epoch 1/20\n",
      "200/200 [==============================] - 27s 120ms/step - loss: 0.5432 - accuracy: 0.7258 - val_loss: 0.5319 - val_accuracy: 0.7447 - lr: 0.0010\n",
      "Epoch 2/20\n",
      "200/200 [==============================] - 23s 115ms/step - loss: 0.4737 - accuracy: 0.7720 - val_loss: 0.4793 - val_accuracy: 0.7725 - lr: 0.0010\n",
      "Epoch 3/20\n",
      "200/200 [==============================] - 23s 116ms/step - loss: 0.4340 - accuracy: 0.8002 - val_loss: 0.5193 - val_accuracy: 0.7441 - lr: 0.0010\n",
      "Epoch 4/20\n",
      "200/200 [==============================] - 23s 114ms/step - loss: 0.3918 - accuracy: 0.8193 - val_loss: 0.4863 - val_accuracy: 0.7697 - lr: 0.0010\n",
      "Epoch 5/20\n",
      "200/200 [==============================] - 22s 112ms/step - loss: 0.3001 - accuracy: 0.8728 - val_loss: 0.5126 - val_accuracy: 0.7775 - lr: 2.0000e-04\n",
      "Epoch 6/20\n",
      "200/200 [==============================] - 23s 113ms/step - loss: 0.2566 - accuracy: 0.8897 - val_loss: 0.5429 - val_accuracy: 0.7716 - lr: 2.0000e-04\n",
      "100/100 [==============================] - 4s 27ms/step\n",
      "100/100 [==============================] - 3s 27ms/step\n"
     ]
    },
    {
     "name": "stderr",
     "output_type": "stream",
     "text": [
      "2024/10/13 11:15:02 WARNING mlflow.tensorflow: You are saving a TensorFlow Core model or Keras model without a signature. Inference with mlflow.pyfunc.spark_udf() will not work unless the model's pyfunc representation accepts pandas DataFrames as inference inputs.\n",
      "WARNING:absl:Found untraced functions such as _update_step_xla, lstm_cell_41_layer_call_fn, lstm_cell_41_layer_call_and_return_conditional_losses, lstm_cell_42_layer_call_fn, lstm_cell_42_layer_call_and_return_conditional_losses while saving (showing 5 of 5). These functions will not be directly callable after loading.\n"
     ]
    },
    {
     "name": "stdout",
     "output_type": "stream",
     "text": [
      "INFO:tensorflow:Assets written to: C:\\Users\\trist\\AppData\\Local\\Temp\\tmp6cjyd15k\\model\\data\\model\\assets\n"
     ]
    },
    {
     "name": "stderr",
     "output_type": "stream",
     "text": [
      "INFO:tensorflow:Assets written to: C:\\Users\\trist\\AppData\\Local\\Temp\\tmp6cjyd15k\\model\\data\\model\\assets\n",
      "2024/10/13 11:15:39 WARNING mlflow.models.model: Model logged without a signature and input example. Please set `input_example` parameter when logging the model to auto infer the model signature.\n"
     ]
    },
    {
     "name": "stdout",
     "output_type": "stream",
     "text": [
      "Epoch 1/20\n",
      "200/200 [==============================] - 95s 456ms/step - loss: 0.5616 - accuracy: 0.7210 - val_loss: 0.5799 - val_accuracy: 0.6794 - lr: 0.0010\n",
      "Epoch 2/20\n",
      "200/200 [==============================] - 89s 447ms/step - loss: 0.4786 - accuracy: 0.7682 - val_loss: 0.5003 - val_accuracy: 0.7516 - lr: 0.0010\n",
      "Epoch 3/20\n",
      "200/200 [==============================] - 90s 453ms/step - loss: 0.4461 - accuracy: 0.7934 - val_loss: 0.4832 - val_accuracy: 0.7738 - lr: 0.0010\n",
      "Epoch 4/20\n",
      "200/200 [==============================] - 92s 458ms/step - loss: 0.4065 - accuracy: 0.8127 - val_loss: 0.5096 - val_accuracy: 0.7553 - lr: 0.0010\n",
      "Epoch 5/20\n",
      "200/200 [==============================] - 92s 458ms/step - loss: 0.3530 - accuracy: 0.8428 - val_loss: 0.5264 - val_accuracy: 0.7509 - lr: 0.0010\n",
      "Epoch 6/20\n",
      "200/200 [==============================] - 89s 444ms/step - loss: 0.2436 - accuracy: 0.8979 - val_loss: 0.5745 - val_accuracy: 0.7656 - lr: 2.0000e-04\n",
      "Epoch 7/20\n",
      "200/200 [==============================] - 91s 454ms/step - loss: 0.1851 - accuracy: 0.9263 - val_loss: 0.6910 - val_accuracy: 0.7544 - lr: 2.0000e-04\n",
      "100/100 [==============================] - 15s 134ms/step\n",
      "100/100 [==============================] - 13s 135ms/step\n"
     ]
    },
    {
     "name": "stderr",
     "output_type": "stream",
     "text": [
      "2024/10/13 11:26:46 WARNING mlflow.tensorflow: You are saving a TensorFlow Core model or Keras model without a signature. Inference with mlflow.pyfunc.spark_udf() will not work unless the model's pyfunc representation accepts pandas DataFrames as inference inputs.\n",
      "WARNING:absl:Found untraced functions such as _update_step_xla, lstm_cell_44_layer_call_fn, lstm_cell_44_layer_call_and_return_conditional_losses, lstm_cell_45_layer_call_fn, lstm_cell_45_layer_call_and_return_conditional_losses while saving (showing 5 of 5). These functions will not be directly callable after loading.\n"
     ]
    },
    {
     "name": "stdout",
     "output_type": "stream",
     "text": [
      "INFO:tensorflow:Assets written to: C:\\Users\\trist\\AppData\\Local\\Temp\\tmpbvcsk9qu\\model\\data\\model\\assets\n"
     ]
    },
    {
     "name": "stderr",
     "output_type": "stream",
     "text": [
      "INFO:tensorflow:Assets written to: C:\\Users\\trist\\AppData\\Local\\Temp\\tmpbvcsk9qu\\model\\data\\model\\assets\n",
      "2024/10/13 11:27:25 WARNING mlflow.models.model: Model logged without a signature and input example. Please set `input_example` parameter when logging the model to auto infer the model signature.\n"
     ]
    },
    {
     "name": "stdout",
     "output_type": "stream",
     "text": [
      "Epoch 1/20\n",
      "200/200 [==============================] - 56s 265ms/step - loss: 0.6082 - accuracy: 0.6894 - val_loss: 0.5637 - val_accuracy: 0.7294 - lr: 0.0010\n",
      "Epoch 2/20\n",
      "200/200 [==============================] - 50s 251ms/step - loss: 0.5096 - accuracy: 0.7571 - val_loss: 0.4973 - val_accuracy: 0.7622 - lr: 0.0010\n",
      "Epoch 3/20\n",
      "200/200 [==============================] - 51s 253ms/step - loss: 0.4791 - accuracy: 0.7764 - val_loss: 0.4706 - val_accuracy: 0.7763 - lr: 0.0010\n",
      "Epoch 4/20\n",
      "200/200 [==============================] - 51s 253ms/step - loss: 0.4594 - accuracy: 0.7923 - val_loss: 0.4678 - val_accuracy: 0.7769 - lr: 0.0010\n",
      "Epoch 5/20\n",
      "200/200 [==============================] - 51s 257ms/step - loss: 0.4233 - accuracy: 0.8062 - val_loss: 0.4713 - val_accuracy: 0.7797 - lr: 0.0010\n",
      "Epoch 6/20\n",
      "200/200 [==============================] - 51s 257ms/step - loss: 0.3996 - accuracy: 0.8223 - val_loss: 0.4735 - val_accuracy: 0.7819 - lr: 0.0010\n",
      "Epoch 7/20\n",
      "200/200 [==============================] - 51s 253ms/step - loss: 0.3392 - accuracy: 0.8518 - val_loss: 0.5019 - val_accuracy: 0.7844 - lr: 2.0000e-04\n",
      "Epoch 8/20\n",
      "200/200 [==============================] - 51s 253ms/step - loss: 0.3063 - accuracy: 0.8652 - val_loss: 0.5160 - val_accuracy: 0.7831 - lr: 2.0000e-04\n",
      "100/100 [==============================] - 12s 109ms/step\n",
      "100/100 [==============================] - 11s 109ms/step\n"
     ]
    },
    {
     "name": "stderr",
     "output_type": "stream",
     "text": [
      "2024/10/13 11:34:40 WARNING mlflow.tensorflow: You are saving a TensorFlow Core model or Keras model without a signature. Inference with mlflow.pyfunc.spark_udf() will not work unless the model's pyfunc representation accepts pandas DataFrames as inference inputs.\n",
      "WARNING:absl:Found untraced functions such as _update_step_xla, lstm_cell_47_layer_call_fn, lstm_cell_47_layer_call_and_return_conditional_losses, lstm_cell_48_layer_call_fn, lstm_cell_48_layer_call_and_return_conditional_losses while saving (showing 5 of 5). These functions will not be directly callable after loading.\n"
     ]
    },
    {
     "name": "stdout",
     "output_type": "stream",
     "text": [
      "INFO:tensorflow:Assets written to: C:\\Users\\trist\\AppData\\Local\\Temp\\tmp1rej6qci\\model\\data\\model\\assets\n"
     ]
    },
    {
     "name": "stderr",
     "output_type": "stream",
     "text": [
      "INFO:tensorflow:Assets written to: C:\\Users\\trist\\AppData\\Local\\Temp\\tmp1rej6qci\\model\\data\\model\\assets\n",
      "2024/10/13 11:35:21 WARNING mlflow.models.model: Model logged without a signature and input example. Please set `input_example` parameter when logging the model to auto infer the model signature.\n"
     ]
    },
    {
     "name": "stdout",
     "output_type": "stream",
     "text": [
      "Epoch 1/20\n",
      "200/200 [==============================] - 78s 372ms/step - loss: 0.6090 - accuracy: 0.7000 - val_loss: 0.5509 - val_accuracy: 0.7591 - lr: 0.0010\n",
      "Epoch 2/20\n",
      "200/200 [==============================] - 74s 372ms/step - loss: 0.5091 - accuracy: 0.7563 - val_loss: 0.5521 - val_accuracy: 0.6950 - lr: 0.0010\n",
      "Epoch 3/20\n",
      "200/200 [==============================] - 74s 371ms/step - loss: 0.4792 - accuracy: 0.7761 - val_loss: 0.4736 - val_accuracy: 0.7781 - lr: 0.0010\n",
      "Epoch 4/20\n",
      "200/200 [==============================] - 73s 367ms/step - loss: 0.4535 - accuracy: 0.7892 - val_loss: 0.5044 - val_accuracy: 0.7466 - lr: 0.0010\n",
      "Epoch 5/20\n",
      "200/200 [==============================] - 73s 363ms/step - loss: 0.4287 - accuracy: 0.8016 - val_loss: 0.4683 - val_accuracy: 0.7841 - lr: 0.0010\n",
      "Epoch 6/20\n",
      "200/200 [==============================] - 73s 363ms/step - loss: 0.3961 - accuracy: 0.8207 - val_loss: 0.4867 - val_accuracy: 0.7778 - lr: 0.0010\n",
      "Epoch 7/20\n",
      "200/200 [==============================] - 72s 362ms/step - loss: 0.3604 - accuracy: 0.8403 - val_loss: 0.5343 - val_accuracy: 0.7500 - lr: 0.0010\n",
      "Epoch 8/20\n",
      "200/200 [==============================] - 72s 362ms/step - loss: 0.2775 - accuracy: 0.8810 - val_loss: 0.5544 - val_accuracy: 0.7719 - lr: 2.0000e-04\n",
      "Epoch 9/20\n",
      "200/200 [==============================] - 73s 363ms/step - loss: 0.2370 - accuracy: 0.9002 - val_loss: 0.6174 - val_accuracy: 0.7684 - lr: 2.0000e-04\n",
      "100/100 [==============================] - 11s 97ms/step\n",
      "100/100 [==============================] - 10s 97ms/step\n"
     ]
    },
    {
     "name": "stderr",
     "output_type": "stream",
     "text": [
      "2024/10/13 11:46:45 WARNING mlflow.tensorflow: You are saving a TensorFlow Core model or Keras model without a signature. Inference with mlflow.pyfunc.spark_udf() will not work unless the model's pyfunc representation accepts pandas DataFrames as inference inputs.\n",
      "WARNING:absl:Found untraced functions such as _update_step_xla, lstm_cell_50_layer_call_fn, lstm_cell_50_layer_call_and_return_conditional_losses, lstm_cell_51_layer_call_fn, lstm_cell_51_layer_call_and_return_conditional_losses while saving (showing 5 of 5). These functions will not be directly callable after loading.\n"
     ]
    },
    {
     "name": "stdout",
     "output_type": "stream",
     "text": [
      "INFO:tensorflow:Assets written to: C:\\Users\\trist\\AppData\\Local\\Temp\\tmp9u6go4ju\\model\\data\\model\\assets\n"
     ]
    },
    {
     "name": "stderr",
     "output_type": "stream",
     "text": [
      "INFO:tensorflow:Assets written to: C:\\Users\\trist\\AppData\\Local\\Temp\\tmp9u6go4ju\\model\\data\\model\\assets\n",
      "2024/10/13 11:47:23 WARNING mlflow.models.model: Model logged without a signature and input example. Please set `input_example` parameter when logging the model to auto infer the model signature.\n"
     ]
    },
    {
     "name": "stdout",
     "output_type": "stream",
     "text": [
      "Epoch 1/20\n",
      "200/200 [==============================] - 97s 470ms/step - loss: 0.6224 - accuracy: 0.6944 - val_loss: 0.5571 - val_accuracy: 0.7544 - lr: 0.0010\n",
      "Epoch 2/20\n",
      "200/200 [==============================] - 67s 337ms/step - loss: 0.5178 - accuracy: 0.7520 - val_loss: 0.5344 - val_accuracy: 0.7312 - lr: 0.0010\n",
      "Epoch 3/20\n",
      "200/200 [==============================] - 68s 338ms/step - loss: 0.4899 - accuracy: 0.7659 - val_loss: 0.4823 - val_accuracy: 0.7669 - lr: 0.0010\n",
      "Epoch 4/20\n",
      "200/200 [==============================] - 68s 340ms/step - loss: 0.4655 - accuracy: 0.7792 - val_loss: 0.4827 - val_accuracy: 0.7684 - lr: 0.0010\n",
      "Epoch 5/20\n",
      "200/200 [==============================] - 69s 343ms/step - loss: 0.4417 - accuracy: 0.7967 - val_loss: 0.5256 - val_accuracy: 0.7319 - lr: 0.0010\n",
      "Epoch 6/20\n",
      "200/200 [==============================] - 68s 339ms/step - loss: 0.3928 - accuracy: 0.8213 - val_loss: 0.4704 - val_accuracy: 0.7803 - lr: 2.0000e-04\n",
      "Epoch 7/20\n",
      "200/200 [==============================] - 67s 338ms/step - loss: 0.3644 - accuracy: 0.8368 - val_loss: 0.4874 - val_accuracy: 0.7844 - lr: 2.0000e-04\n",
      "Epoch 8/20\n",
      "200/200 [==============================] - 68s 339ms/step - loss: 0.3426 - accuracy: 0.8423 - val_loss: 0.4963 - val_accuracy: 0.7709 - lr: 2.0000e-04\n",
      "Epoch 9/20\n",
      "200/200 [==============================] - 69s 347ms/step - loss: 0.3133 - accuracy: 0.8618 - val_loss: 0.5139 - val_accuracy: 0.7738 - lr: 1.0000e-04\n",
      "Epoch 10/20\n",
      "200/200 [==============================] - 69s 343ms/step - loss: 0.2879 - accuracy: 0.8744 - val_loss: 0.5383 - val_accuracy: 0.7734 - lr: 1.0000e-04\n",
      "100/100 [==============================] - 10s 92ms/step\n",
      "100/100 [==============================] - 9s 92ms/step\n"
     ]
    },
    {
     "name": "stderr",
     "output_type": "stream",
     "text": [
      "2024/10/13 11:59:33 WARNING mlflow.tensorflow: You are saving a TensorFlow Core model or Keras model without a signature. Inference with mlflow.pyfunc.spark_udf() will not work unless the model's pyfunc representation accepts pandas DataFrames as inference inputs.\n",
      "WARNING:absl:Found untraced functions such as _update_step_xla, lstm_cell_53_layer_call_fn, lstm_cell_53_layer_call_and_return_conditional_losses, lstm_cell_54_layer_call_fn, lstm_cell_54_layer_call_and_return_conditional_losses while saving (showing 5 of 5). These functions will not be directly callable after loading.\n"
     ]
    },
    {
     "name": "stdout",
     "output_type": "stream",
     "text": [
      "INFO:tensorflow:Assets written to: C:\\Users\\trist\\AppData\\Local\\Temp\\tmpajhzt5ul\\model\\data\\model\\assets\n"
     ]
    },
    {
     "name": "stderr",
     "output_type": "stream",
     "text": [
      "INFO:tensorflow:Assets written to: C:\\Users\\trist\\AppData\\Local\\Temp\\tmpajhzt5ul\\model\\data\\model\\assets\n",
      "2024/10/13 12:00:12 WARNING mlflow.models.model: Model logged without a signature and input example. Please set `input_example` parameter when logging the model to auto infer the model signature.\n"
     ]
    },
    {
     "name": "stdout",
     "output_type": "stream",
     "text": [
      "Epoch 1/20\n",
      "200/200 [==============================] - 34s 155ms/step - loss: 0.5462 - accuracy: 0.7176 - val_loss: 0.5208 - val_accuracy: 0.7616 - lr: 0.0010\n",
      "Epoch 2/20\n",
      "200/200 [==============================] - 30s 151ms/step - loss: 0.4722 - accuracy: 0.7761 - val_loss: 0.4953 - val_accuracy: 0.7591 - lr: 0.0010\n",
      "Epoch 3/20\n",
      "200/200 [==============================] - 30s 149ms/step - loss: 0.4432 - accuracy: 0.7959 - val_loss: 0.4740 - val_accuracy: 0.7756 - lr: 0.0010\n",
      "Epoch 4/20\n",
      "200/200 [==============================] - 30s 150ms/step - loss: 0.4016 - accuracy: 0.8217 - val_loss: 0.4846 - val_accuracy: 0.7725 - lr: 0.0010\n",
      "Epoch 5/20\n",
      "200/200 [==============================] - 30s 151ms/step - loss: 0.3674 - accuracy: 0.8349 - val_loss: 0.5729 - val_accuracy: 0.7391 - lr: 0.0010\n",
      "Epoch 6/20\n",
      "200/200 [==============================] - 30s 149ms/step - loss: 0.2821 - accuracy: 0.8784 - val_loss: 0.5228 - val_accuracy: 0.7684 - lr: 2.0000e-04\n",
      "Epoch 7/20\n",
      "200/200 [==============================] - 30s 151ms/step - loss: 0.2337 - accuracy: 0.9030 - val_loss: 0.5541 - val_accuracy: 0.7684 - lr: 2.0000e-04\n",
      "100/100 [==============================] - 9s 77ms/step\n",
      "100/100 [==============================] - 8s 76ms/step\n"
     ]
    },
    {
     "name": "stderr",
     "output_type": "stream",
     "text": [
      "2024/10/13 12:04:04 WARNING mlflow.tensorflow: You are saving a TensorFlow Core model or Keras model without a signature. Inference with mlflow.pyfunc.spark_udf() will not work unless the model's pyfunc representation accepts pandas DataFrames as inference inputs.\n",
      "WARNING:absl:Found untraced functions such as _update_step_xla, lstm_cell_56_layer_call_fn, lstm_cell_56_layer_call_and_return_conditional_losses, lstm_cell_57_layer_call_fn, lstm_cell_57_layer_call_and_return_conditional_losses while saving (showing 5 of 5). These functions will not be directly callable after loading.\n"
     ]
    },
    {
     "name": "stdout",
     "output_type": "stream",
     "text": [
      "INFO:tensorflow:Assets written to: C:\\Users\\trist\\AppData\\Local\\Temp\\tmp5dp27dfq\\model\\data\\model\\assets\n"
     ]
    },
    {
     "name": "stderr",
     "output_type": "stream",
     "text": [
      "INFO:tensorflow:Assets written to: C:\\Users\\trist\\AppData\\Local\\Temp\\tmp5dp27dfq\\model\\data\\model\\assets\n",
      "2024/10/13 12:04:42 WARNING mlflow.models.model: Model logged without a signature and input example. Please set `input_example` parameter when logging the model to auto infer the model signature.\n"
     ]
    },
    {
     "name": "stdout",
     "output_type": "stream",
     "text": [
      "Epoch 1/20\n",
      "200/200 [==============================] - 79s 376ms/step - loss: 0.5422 - accuracy: 0.7262 - val_loss: 0.5563 - val_accuracy: 0.7078 - lr: 0.0010\n",
      "Epoch 2/20\n",
      "200/200 [==============================] - 72s 361ms/step - loss: 0.4733 - accuracy: 0.7784 - val_loss: 0.4871 - val_accuracy: 0.7663 - lr: 0.0010\n",
      "Epoch 3/20\n",
      "200/200 [==============================] - 72s 360ms/step - loss: 0.4331 - accuracy: 0.7981 - val_loss: 0.4879 - val_accuracy: 0.7563 - lr: 0.0010\n",
      "Epoch 4/20\n",
      "200/200 [==============================] - 72s 360ms/step - loss: 0.3902 - accuracy: 0.8222 - val_loss: 0.4796 - val_accuracy: 0.7728 - lr: 0.0010\n",
      "Epoch 5/20\n",
      "200/200 [==============================] - 73s 363ms/step - loss: 0.3429 - accuracy: 0.8478 - val_loss: 0.5407 - val_accuracy: 0.7556 - lr: 0.0010\n",
      "Epoch 6/20\n",
      "200/200 [==============================] - 73s 364ms/step - loss: 0.2879 - accuracy: 0.8773 - val_loss: 0.6788 - val_accuracy: 0.7378 - lr: 0.0010\n",
      "Epoch 7/20\n",
      "200/200 [==============================] - 73s 365ms/step - loss: 0.1756 - accuracy: 0.9327 - val_loss: 0.6730 - val_accuracy: 0.7628 - lr: 2.0000e-04\n",
      "Epoch 8/20\n",
      "200/200 [==============================] - 72s 361ms/step - loss: 0.1252 - accuracy: 0.9524 - val_loss: 0.7626 - val_accuracy: 0.7659 - lr: 2.0000e-04\n",
      "100/100 [==============================] - 10s 89ms/step\n",
      "100/100 [==============================] - 9s 89ms/step\n"
     ]
    },
    {
     "name": "stderr",
     "output_type": "stream",
     "text": [
      "2024/10/13 12:14:48 WARNING mlflow.tensorflow: You are saving a TensorFlow Core model or Keras model without a signature. Inference with mlflow.pyfunc.spark_udf() will not work unless the model's pyfunc representation accepts pandas DataFrames as inference inputs.\n",
      "WARNING:absl:Found untraced functions such as _update_step_xla, lstm_cell_59_layer_call_fn, lstm_cell_59_layer_call_and_return_conditional_losses, lstm_cell_60_layer_call_fn, lstm_cell_60_layer_call_and_return_conditional_losses while saving (showing 5 of 5). These functions will not be directly callable after loading.\n"
     ]
    },
    {
     "name": "stdout",
     "output_type": "stream",
     "text": [
      "INFO:tensorflow:Assets written to: C:\\Users\\trist\\AppData\\Local\\Temp\\tmpzsbg9kkz\\model\\data\\model\\assets\n"
     ]
    },
    {
     "name": "stderr",
     "output_type": "stream",
     "text": [
      "INFO:tensorflow:Assets written to: C:\\Users\\trist\\AppData\\Local\\Temp\\tmpzsbg9kkz\\model\\data\\model\\assets\n",
      "2024/10/13 12:15:27 WARNING mlflow.models.model: Model logged without a signature and input example. Please set `input_example` parameter when logging the model to auto infer the model signature.\n"
     ]
    },
    {
     "name": "stdout",
     "output_type": "stream",
     "text": [
      "Epoch 1/20\n",
      "200/200 [==============================] - 72s 340ms/step - loss: 0.5500 - accuracy: 0.7278 - val_loss: 0.5593 - val_accuracy: 0.7272 - lr: 0.0010\n",
      "Epoch 2/20\n",
      "200/200 [==============================] - 66s 329ms/step - loss: 0.4767 - accuracy: 0.7759 - val_loss: 0.5103 - val_accuracy: 0.7434 - lr: 0.0010\n",
      "Epoch 3/20\n",
      "200/200 [==============================] - 65s 326ms/step - loss: 0.4421 - accuracy: 0.7975 - val_loss: 0.4861 - val_accuracy: 0.7584 - lr: 0.0010\n",
      "Epoch 4/20\n",
      "200/200 [==============================] - 66s 329ms/step - loss: 0.4009 - accuracy: 0.8152 - val_loss: 0.5387 - val_accuracy: 0.7297 - lr: 0.0010\n",
      "Epoch 5/20\n",
      "200/200 [==============================] - 65s 325ms/step - loss: 0.3604 - accuracy: 0.8376 - val_loss: 0.5144 - val_accuracy: 0.7669 - lr: 0.0010\n",
      "Epoch 6/20\n",
      "200/200 [==============================] - 66s 330ms/step - loss: 0.2675 - accuracy: 0.8873 - val_loss: 0.5395 - val_accuracy: 0.7669 - lr: 2.0000e-04\n",
      "Epoch 7/20\n",
      "200/200 [==============================] - 65s 327ms/step - loss: 0.2130 - accuracy: 0.9109 - val_loss: 0.5826 - val_accuracy: 0.7653 - lr: 2.0000e-04\n",
      "100/100 [==============================] - 11s 98ms/step\n",
      "100/100 [==============================] - 10s 97ms/step\n"
     ]
    },
    {
     "name": "stderr",
     "output_type": "stream",
     "text": [
      "2024/10/13 12:23:33 WARNING mlflow.tensorflow: You are saving a TensorFlow Core model or Keras model without a signature. Inference with mlflow.pyfunc.spark_udf() will not work unless the model's pyfunc representation accepts pandas DataFrames as inference inputs.\n",
      "WARNING:absl:Found untraced functions such as _update_step_xla, lstm_cell_62_layer_call_fn, lstm_cell_62_layer_call_and_return_conditional_losses, lstm_cell_63_layer_call_fn, lstm_cell_63_layer_call_and_return_conditional_losses while saving (showing 5 of 5). These functions will not be directly callable after loading.\n"
     ]
    },
    {
     "name": "stdout",
     "output_type": "stream",
     "text": [
      "INFO:tensorflow:Assets written to: C:\\Users\\trist\\AppData\\Local\\Temp\\tmpjogfccky\\model\\data\\model\\assets\n"
     ]
    },
    {
     "name": "stderr",
     "output_type": "stream",
     "text": [
      "INFO:tensorflow:Assets written to: C:\\Users\\trist\\AppData\\Local\\Temp\\tmpjogfccky\\model\\data\\model\\assets\n",
      "2024/10/13 12:24:13 WARNING mlflow.models.model: Model logged without a signature and input example. Please set `input_example` parameter when logging the model to auto infer the model signature.\n"
     ]
    },
    {
     "name": "stdout",
     "output_type": "stream",
     "text": [
      "Epoch 1/20\n",
      "200/200 [==============================] - 44s 205ms/step - loss: 0.6348 - accuracy: 0.6670 - val_loss: 0.5888 - val_accuracy: 0.7353 - lr: 0.0010\n",
      "Epoch 2/20\n",
      "200/200 [==============================] - 40s 200ms/step - loss: 0.5174 - accuracy: 0.7517 - val_loss: 0.5188 - val_accuracy: 0.7572 - lr: 0.0010\n",
      "Epoch 3/20\n",
      "200/200 [==============================] - 40s 200ms/step - loss: 0.4908 - accuracy: 0.7639 - val_loss: 0.4769 - val_accuracy: 0.7709 - lr: 0.0010\n",
      "Epoch 4/20\n",
      "200/200 [==============================] - 40s 200ms/step - loss: 0.4711 - accuracy: 0.7820 - val_loss: 0.4841 - val_accuracy: 0.7681 - lr: 0.0010\n",
      "Epoch 5/20\n",
      "200/200 [==============================] - 40s 200ms/step - loss: 0.4484 - accuracy: 0.7940 - val_loss: 0.4839 - val_accuracy: 0.7656 - lr: 0.0010\n",
      "Epoch 6/20\n",
      "200/200 [==============================] - 40s 200ms/step - loss: 0.4007 - accuracy: 0.8212 - val_loss: 0.4642 - val_accuracy: 0.7862 - lr: 2.0000e-04\n",
      "Epoch 7/20\n",
      "200/200 [==============================] - 40s 201ms/step - loss: 0.3840 - accuracy: 0.8295 - val_loss: 0.4672 - val_accuracy: 0.7831 - lr: 2.0000e-04\n",
      "Epoch 8/20\n",
      "200/200 [==============================] - 40s 200ms/step - loss: 0.3629 - accuracy: 0.8409 - val_loss: 0.4860 - val_accuracy: 0.7781 - lr: 2.0000e-04\n",
      "Epoch 9/20\n",
      "200/200 [==============================] - 40s 199ms/step - loss: 0.3391 - accuracy: 0.8495 - val_loss: 0.4906 - val_accuracy: 0.7791 - lr: 1.0000e-04\n",
      "Epoch 10/20\n",
      "200/200 [==============================] - 40s 198ms/step - loss: 0.3318 - accuracy: 0.8537 - val_loss: 0.5018 - val_accuracy: 0.7766 - lr: 1.0000e-04\n",
      "100/100 [==============================] - 11s 96ms/step\n",
      "100/100 [==============================] - 10s 97ms/step\n"
     ]
    },
    {
     "name": "stderr",
     "output_type": "stream",
     "text": [
      "2024/10/13 12:31:17 WARNING mlflow.tensorflow: You are saving a TensorFlow Core model or Keras model without a signature. Inference with mlflow.pyfunc.spark_udf() will not work unless the model's pyfunc representation accepts pandas DataFrames as inference inputs.\n",
      "WARNING:absl:Found untraced functions such as _update_step_xla, lstm_cell_65_layer_call_fn, lstm_cell_65_layer_call_and_return_conditional_losses, lstm_cell_66_layer_call_fn, lstm_cell_66_layer_call_and_return_conditional_losses while saving (showing 5 of 5). These functions will not be directly callable after loading.\n"
     ]
    },
    {
     "name": "stdout",
     "output_type": "stream",
     "text": [
      "INFO:tensorflow:Assets written to: C:\\Users\\trist\\AppData\\Local\\Temp\\tmpy9gwht11\\model\\data\\model\\assets\n"
     ]
    },
    {
     "name": "stderr",
     "output_type": "stream",
     "text": [
      "INFO:tensorflow:Assets written to: C:\\Users\\trist\\AppData\\Local\\Temp\\tmpy9gwht11\\model\\data\\model\\assets\n",
      "2024/10/13 12:31:57 WARNING mlflow.models.model: Model logged without a signature and input example. Please set `input_example` parameter when logging the model to auto infer the model signature.\n"
     ]
    },
    {
     "name": "stdout",
     "output_type": "stream",
     "text": [
      "Epoch 1/20\n",
      "200/200 [==============================] - 79s 377ms/step - loss: 0.6085 - accuracy: 0.6821 - val_loss: 0.5502 - val_accuracy: 0.7519 - lr: 0.0010\n",
      "Epoch 2/20\n",
      "200/200 [==============================] - 76s 379ms/step - loss: 0.5143 - accuracy: 0.7568 - val_loss: 0.5177 - val_accuracy: 0.7591 - lr: 0.0010\n",
      "Epoch 3/20\n",
      "200/200 [==============================] - 76s 379ms/step - loss: 0.4866 - accuracy: 0.7719 - val_loss: 0.5344 - val_accuracy: 0.7147 - lr: 0.0010\n",
      "Epoch 4/20\n",
      "200/200 [==============================] - 76s 381ms/step - loss: 0.4612 - accuracy: 0.7855 - val_loss: 0.4680 - val_accuracy: 0.7812 - lr: 0.0010\n",
      "Epoch 5/20\n",
      "200/200 [==============================] - 75s 377ms/step - loss: 0.4379 - accuracy: 0.7984 - val_loss: 0.4667 - val_accuracy: 0.7872 - lr: 0.0010\n",
      "Epoch 6/20\n",
      "200/200 [==============================] - 76s 378ms/step - loss: 0.4080 - accuracy: 0.8112 - val_loss: 0.4775 - val_accuracy: 0.7778 - lr: 0.0010\n",
      "Epoch 7/20\n",
      "200/200 [==============================] - 76s 378ms/step - loss: 0.3767 - accuracy: 0.8322 - val_loss: 0.4922 - val_accuracy: 0.7816 - lr: 0.0010\n",
      "Epoch 8/20\n",
      "200/200 [==============================] - 76s 381ms/step - loss: 0.2975 - accuracy: 0.8728 - val_loss: 0.5296 - val_accuracy: 0.7766 - lr: 2.0000e-04\n",
      "Epoch 9/20\n",
      "200/200 [==============================] - 76s 380ms/step - loss: 0.2581 - accuracy: 0.8897 - val_loss: 0.5707 - val_accuracy: 0.7831 - lr: 2.0000e-04\n",
      "100/100 [==============================] - 11s 98ms/step\n",
      "100/100 [==============================] - 10s 96ms/step\n"
     ]
    },
    {
     "name": "stderr",
     "output_type": "stream",
     "text": [
      "2024/10/13 12:43:44 WARNING mlflow.tensorflow: You are saving a TensorFlow Core model or Keras model without a signature. Inference with mlflow.pyfunc.spark_udf() will not work unless the model's pyfunc representation accepts pandas DataFrames as inference inputs.\n",
      "WARNING:absl:Found untraced functions such as _update_step_xla, lstm_cell_68_layer_call_fn, lstm_cell_68_layer_call_and_return_conditional_losses, lstm_cell_69_layer_call_fn, lstm_cell_69_layer_call_and_return_conditional_losses while saving (showing 5 of 5). These functions will not be directly callable after loading.\n"
     ]
    },
    {
     "name": "stdout",
     "output_type": "stream",
     "text": [
      "INFO:tensorflow:Assets written to: C:\\Users\\trist\\AppData\\Local\\Temp\\tmpgvtg3uph\\model\\data\\model\\assets\n"
     ]
    },
    {
     "name": "stderr",
     "output_type": "stream",
     "text": [
      "INFO:tensorflow:Assets written to: C:\\Users\\trist\\AppData\\Local\\Temp\\tmpgvtg3uph\\model\\data\\model\\assets\n",
      "2024/10/13 12:44:24 WARNING mlflow.models.model: Model logged without a signature and input example. Please set `input_example` parameter when logging the model to auto infer the model signature.\n"
     ]
    },
    {
     "name": "stdout",
     "output_type": "stream",
     "text": [
      "Epoch 1/20\n",
      "200/200 [==============================] - 107s 518ms/step - loss: 0.5861 - accuracy: 0.7037 - val_loss: 0.5403 - val_accuracy: 0.7553 - lr: 0.0010\n",
      "Epoch 2/20\n",
      "200/200 [==============================] - 103s 515ms/step - loss: 0.5087 - accuracy: 0.7586 - val_loss: 0.5170 - val_accuracy: 0.7513 - lr: 0.0010\n",
      "Epoch 3/20\n",
      "200/200 [==============================] - 103s 514ms/step - loss: 0.4753 - accuracy: 0.7737 - val_loss: 0.5236 - val_accuracy: 0.7325 - lr: 0.0010\n",
      "Epoch 4/20\n",
      "200/200 [==============================] - 103s 513ms/step - loss: 0.4568 - accuracy: 0.7860 - val_loss: 0.4786 - val_accuracy: 0.7706 - lr: 0.0010\n",
      "Epoch 5/20\n",
      "200/200 [==============================] - 102s 512ms/step - loss: 0.4377 - accuracy: 0.7941 - val_loss: 0.4878 - val_accuracy: 0.7694 - lr: 0.0010\n",
      "Epoch 6/20\n",
      "200/200 [==============================] - 102s 513ms/step - loss: 0.4084 - accuracy: 0.8127 - val_loss: 0.5086 - val_accuracy: 0.7522 - lr: 0.0010\n",
      "Epoch 7/20\n",
      "200/200 [==============================] - 103s 515ms/step - loss: 0.3401 - accuracy: 0.8522 - val_loss: 0.4829 - val_accuracy: 0.7819 - lr: 2.0000e-04\n",
      "Epoch 8/20\n",
      "200/200 [==============================] - 102s 509ms/step - loss: 0.2987 - accuracy: 0.8685 - val_loss: 0.5341 - val_accuracy: 0.7713 - lr: 2.0000e-04\n",
      "100/100 [==============================] - 12s 113ms/step\n",
      "100/100 [==============================] - 11s 113ms/step\n"
     ]
    },
    {
     "name": "stderr",
     "output_type": "stream",
     "text": [
      "2024/10/13 12:58:33 WARNING mlflow.tensorflow: You are saving a TensorFlow Core model or Keras model without a signature. Inference with mlflow.pyfunc.spark_udf() will not work unless the model's pyfunc representation accepts pandas DataFrames as inference inputs.\n",
      "WARNING:absl:Found untraced functions such as _update_step_xla, lstm_cell_71_layer_call_fn, lstm_cell_71_layer_call_and_return_conditional_losses, lstm_cell_72_layer_call_fn, lstm_cell_72_layer_call_and_return_conditional_losses while saving (showing 5 of 5). These functions will not be directly callable after loading.\n"
     ]
    },
    {
     "name": "stdout",
     "output_type": "stream",
     "text": [
      "INFO:tensorflow:Assets written to: C:\\Users\\trist\\AppData\\Local\\Temp\\tmp68qb22xd\\model\\data\\model\\assets\n"
     ]
    },
    {
     "name": "stderr",
     "output_type": "stream",
     "text": [
      "INFO:tensorflow:Assets written to: C:\\Users\\trist\\AppData\\Local\\Temp\\tmp68qb22xd\\model\\data\\model\\assets\n",
      "2024/10/13 12:59:14 WARNING mlflow.models.model: Model logged without a signature and input example. Please set `input_example` parameter when logging the model to auto infer the model signature.\n"
     ]
    },
    {
     "name": "stdout",
     "output_type": "stream",
     "text": [
      "Meilleurs paramètres : {'activation_type': 'leakyrelu', 'dropout_rate': 0.5, 'lstm_units': 64} avec une accuracy de 0.7831\n",
      "Meilleur modèle entraîné avec les paramètres : {'activation_type': 'leakyrelu', 'dropout_rate': 0.5, 'lstm_units': 64}\n"
     ]
    }
   ],
   "source": [
    "# Entraînement du modèle LSTM avec GridSearch sur les embeddings BERT\n",
    "best_model, best_params = train_and_log_lstm(\n",
    "    X_train, y_train, X_test, y_test, \n",
    "    experiment_name=\"BERT_LSTM_Experiment\", \n",
    "    param_grid=param_grid_lstm, \n",
    "    input_shape=(25, 768)  # Correspond à la longueur des séquences et à la dimension des embeddings BERT\n",
    ")\n",
    "\n",
    "print(f\"Meilleur modèle entraîné avec les paramètres : {best_params}\")\n"
   ]
  },
  {
   "cell_type": "markdown",
   "id": "b798f478-bd3d-4b91-81f2-9095e47ca725",
   "metadata": {},
   "source": [
    "Dans notre cas pour comparer les résultats nous allons le faire sous le ui de mlflow."
   ]
  },
  {
   "cell_type": "code",
   "execution_count": null,
   "id": "c7447a1e-7369-417b-8613-0331477fc409",
   "metadata": {},
   "outputs": [],
   "source": []
  }
 ],
 "metadata": {
  "kernelspec": {
   "display_name": "Python 3 (ipykernel)",
   "language": "python",
   "name": "python3"
  },
  "language_info": {
   "codemirror_mode": {
    "name": "ipython",
    "version": 3
   },
   "file_extension": ".py",
   "mimetype": "text/x-python",
   "name": "python",
   "nbconvert_exporter": "python",
   "pygments_lexer": "ipython3",
   "version": "3.11.8"
  }
 },
 "nbformat": 4,
 "nbformat_minor": 5
}
