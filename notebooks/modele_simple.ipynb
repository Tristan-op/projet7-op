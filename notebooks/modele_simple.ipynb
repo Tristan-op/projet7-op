{
 "cells": [
  {
   "cell_type": "markdown",
   "id": "7bf53791-6447-4246-b718-be3cdd68306b",
   "metadata": {},
   "source": [
    "# 1. Importation des Bibliothèques"
   ]
  },
  {
   "cell_type": "code",
   "execution_count": 49,
   "id": "8634e3e3-3839-451e-bb01-6c38ae23edac",
   "metadata": {},
   "outputs": [
    {
     "name": "stderr",
     "output_type": "stream",
     "text": [
      "[nltk_data] Downloading package punkt to\n",
      "[nltk_data]     C:\\Users\\trist\\AppData\\Roaming\\nltk_data...\n",
      "[nltk_data]   Package punkt is already up-to-date!\n",
      "[nltk_data] Downloading package wordnet to\n",
      "[nltk_data]     C:\\Users\\trist\\AppData\\Roaming\\nltk_data...\n",
      "[nltk_data]   Package wordnet is already up-to-date!\n"
     ]
    },
    {
     "data": {
      "text/html": [
       "<div>\n",
       "<style scoped>\n",
       "    .dataframe tbody tr th:only-of-type {\n",
       "        vertical-align: middle;\n",
       "    }\n",
       "\n",
       "    .dataframe tbody tr th {\n",
       "        vertical-align: top;\n",
       "    }\n",
       "\n",
       "    .dataframe thead th {\n",
       "        text-align: right;\n",
       "    }\n",
       "</style>\n",
       "<table border=\"1\" class=\"dataframe\">\n",
       "  <thead>\n",
       "    <tr style=\"text-align: right;\">\n",
       "      <th></th>\n",
       "      <th>target</th>\n",
       "      <th>id</th>\n",
       "      <th>date</th>\n",
       "      <th>flag</th>\n",
       "      <th>user</th>\n",
       "      <th>text</th>\n",
       "      <th>year</th>\n",
       "      <th>month</th>\n",
       "      <th>word_count</th>\n",
       "      <th>hour</th>\n",
       "      <th>sentiment</th>\n",
       "      <th>text_cleaned</th>\n",
       "      <th>text_lemmatized</th>\n",
       "      <th>text_stemmed</th>\n",
       "    </tr>\n",
       "  </thead>\n",
       "  <tbody>\n",
       "    <tr>\n",
       "      <th>0</th>\n",
       "      <td>0</td>\n",
       "      <td>1467810369</td>\n",
       "      <td>2009-04-06 22:19:45</td>\n",
       "      <td>NO_QUERY</td>\n",
       "      <td>_TheSpecialOne_</td>\n",
       "      <td>@switchfoot http://twitpic.com/2y1zl - Awww, t...</td>\n",
       "      <td>2009</td>\n",
       "      <td>4</td>\n",
       "      <td>19</td>\n",
       "      <td>22</td>\n",
       "      <td>0.216667</td>\n",
       "      <td>switchfoot http twitpic com 2y1zl awww that s...</td>\n",
       "      <td>switchfoot http twitpic com 2y1zl awww that s ...</td>\n",
       "      <td>switchfoot http twitpic com 2y1zl awww that s ...</td>\n",
       "    </tr>\n",
       "    <tr>\n",
       "      <th>1</th>\n",
       "      <td>0</td>\n",
       "      <td>1467810672</td>\n",
       "      <td>2009-04-06 22:19:49</td>\n",
       "      <td>NO_QUERY</td>\n",
       "      <td>scotthamilton</td>\n",
       "      <td>is upset that he can't update his Facebook by ...</td>\n",
       "      <td>2009</td>\n",
       "      <td>4</td>\n",
       "      <td>21</td>\n",
       "      <td>22</td>\n",
       "      <td>0.000000</td>\n",
       "      <td>is upset that he can t update his facebook by ...</td>\n",
       "      <td>is upset that he can t update his facebook by ...</td>\n",
       "      <td>is upset that he can t updat hi facebook by te...</td>\n",
       "    </tr>\n",
       "    <tr>\n",
       "      <th>2</th>\n",
       "      <td>0</td>\n",
       "      <td>1467810917</td>\n",
       "      <td>2009-04-06 22:19:53</td>\n",
       "      <td>NO_QUERY</td>\n",
       "      <td>mattycus</td>\n",
       "      <td>@Kenichan I dived many times for the ball. Man...</td>\n",
       "      <td>2009</td>\n",
       "      <td>4</td>\n",
       "      <td>18</td>\n",
       "      <td>22</td>\n",
       "      <td>0.500000</td>\n",
       "      <td>kenichan i dived many times for the ball mana...</td>\n",
       "      <td>kenichan i dived many time for the ball manage...</td>\n",
       "      <td>kenichan i dive mani time for the ball manag t...</td>\n",
       "    </tr>\n",
       "    <tr>\n",
       "      <th>3</th>\n",
       "      <td>0</td>\n",
       "      <td>1467811184</td>\n",
       "      <td>2009-04-06 22:19:57</td>\n",
       "      <td>NO_QUERY</td>\n",
       "      <td>ElleCTF</td>\n",
       "      <td>my whole body feels itchy and like its on fire</td>\n",
       "      <td>2009</td>\n",
       "      <td>4</td>\n",
       "      <td>10</td>\n",
       "      <td>22</td>\n",
       "      <td>0.200000</td>\n",
       "      <td>my whole body feels itchy and like its on fire</td>\n",
       "      <td>my whole body feel itchy and like it on fire</td>\n",
       "      <td>my whole bodi feel itchi and like it on fire</td>\n",
       "    </tr>\n",
       "    <tr>\n",
       "      <th>4</th>\n",
       "      <td>0</td>\n",
       "      <td>1467811193</td>\n",
       "      <td>2009-04-06 22:19:57</td>\n",
       "      <td>NO_QUERY</td>\n",
       "      <td>Karoli</td>\n",
       "      <td>@nationwideclass no, it's not behaving at all....</td>\n",
       "      <td>2009</td>\n",
       "      <td>4</td>\n",
       "      <td>21</td>\n",
       "      <td>22</td>\n",
       "      <td>-0.625000</td>\n",
       "      <td>nationwideclass no it s not behaving at all i...</td>\n",
       "      <td>nationwideclass no it s not behaving at all i ...</td>\n",
       "      <td>nationwideclass no it s not behav at all i m m...</td>\n",
       "    </tr>\n",
       "  </tbody>\n",
       "</table>\n",
       "</div>"
      ],
      "text/plain": [
       "   target          id                 date      flag             user  \\\n",
       "0       0  1467810369  2009-04-06 22:19:45  NO_QUERY  _TheSpecialOne_   \n",
       "1       0  1467810672  2009-04-06 22:19:49  NO_QUERY    scotthamilton   \n",
       "2       0  1467810917  2009-04-06 22:19:53  NO_QUERY         mattycus   \n",
       "3       0  1467811184  2009-04-06 22:19:57  NO_QUERY          ElleCTF   \n",
       "4       0  1467811193  2009-04-06 22:19:57  NO_QUERY           Karoli   \n",
       "\n",
       "                                                text  year  month  word_count  \\\n",
       "0  @switchfoot http://twitpic.com/2y1zl - Awww, t...  2009      4          19   \n",
       "1  is upset that he can't update his Facebook by ...  2009      4          21   \n",
       "2  @Kenichan I dived many times for the ball. Man...  2009      4          18   \n",
       "3    my whole body feels itchy and like its on fire   2009      4          10   \n",
       "4  @nationwideclass no, it's not behaving at all....  2009      4          21   \n",
       "\n",
       "   hour  sentiment                                       text_cleaned  \\\n",
       "0    22   0.216667   switchfoot http twitpic com 2y1zl awww that s...   \n",
       "1    22   0.000000  is upset that he can t update his facebook by ...   \n",
       "2    22   0.500000   kenichan i dived many times for the ball mana...   \n",
       "3    22   0.200000    my whole body feels itchy and like its on fire    \n",
       "4    22  -0.625000   nationwideclass no it s not behaving at all i...   \n",
       "\n",
       "                                     text_lemmatized  \\\n",
       "0  switchfoot http twitpic com 2y1zl awww that s ...   \n",
       "1  is upset that he can t update his facebook by ...   \n",
       "2  kenichan i dived many time for the ball manage...   \n",
       "3       my whole body feel itchy and like it on fire   \n",
       "4  nationwideclass no it s not behaving at all i ...   \n",
       "\n",
       "                                        text_stemmed  \n",
       "0  switchfoot http twitpic com 2y1zl awww that s ...  \n",
       "1  is upset that he can t updat hi facebook by te...  \n",
       "2  kenichan i dive mani time for the ball manag t...  \n",
       "3       my whole bodi feel itchi and like it on fire  \n",
       "4  nationwideclass no it s not behav at all i m m...  "
      ]
     },
     "execution_count": 49,
     "metadata": {},
     "output_type": "execute_result"
    }
   ],
   "source": [
    "# Importation des bibliothèques nécessaires\n",
    "import mlflow\n",
    "import mlflow.sklearn\n",
    "import pandas as pd\n",
    "from sklearn.feature_extraction.text import CountVectorizer, TfidfVectorizer, TfidfTransformer\n",
    "from sklearn.linear_model import LogisticRegression\n",
    "from sklearn.model_selection import train_test_split\n",
    "from sklearn.metrics import accuracy_score, classification_report, confusion_matrix\n",
    "from sklearn.preprocessing import StandardScaler\n",
    "import matplotlib.pyplot as plt\n",
    "import seaborn as sns\n",
    "import numpy as np\n",
    "import nltk\n",
    "\n",
    "# Assurez-vous que les ressources NLTK nécessaires sont téléchargées\n",
    "nltk.download('punkt')\n",
    "nltk.download('wordnet')\n",
    "\n",
    "# Charger les données déjà prétraitées\n",
    "data = pd.read_csv('../data/database_p7_rework.csv')\n",
    "\n",
    "# Initialisation du scaler\n",
    "scaler = StandardScaler(with_mean=False)  # `with_mean=False` est utilisé car les données sont sparse\n",
    "\n",
    "data.head()\n"
   ]
  },
  {
   "cell_type": "markdown",
   "id": "0a88b19c-5487-4c7f-a6b7-50dc05b435f0",
   "metadata": {},
   "source": [
    "# 2. Vectorisation et Séparation des Données"
   ]
  },
  {
   "cell_type": "markdown",
   "id": "981c5bd5-9900-49d7-a7f3-122d60a9502a",
   "metadata": {},
   "source": [
    "## 2.1 Lemmatisation + CountVectorizer"
   ]
  },
  {
   "cell_type": "code",
   "execution_count": 52,
   "id": "6ab611c8-bf06-4d2d-aa91-39ef1e70e91b",
   "metadata": {},
   "outputs": [
    {
     "name": "stdout",
     "output_type": "stream",
     "text": [
      "X_train_count_lemma shape: (1278652, 672234), X_test_count_lemma shape: (319663, 672234)\n"
     ]
    }
   ],
   "source": [
    "# Lemmatisation + CountVectorizer\n",
    "count_vectorizer = CountVectorizer()\n",
    "X_count_lemma = count_vectorizer.fit_transform(data['text_lemmatized'])\n",
    "X_count_lemma = scaler.fit_transform(X_count_lemma)\n",
    "\n",
    "# Séparation des données en ensemble d'entraînement et de test\n",
    "X_train_count_lemma, X_test_count_lemma, y_train_lemma, y_test_lemma = train_test_split(X_count_lemma, data['target'], test_size=0.2, random_state=42)\n",
    "\n",
    "# Vérification des formes des matrices\n",
    "print(f\"X_train_count_lemma shape: {X_train_count_lemma.shape}, X_test_count_lemma shape: {X_test_count_lemma.shape}\")\n"
   ]
  },
  {
   "cell_type": "markdown",
   "id": "dc0e66ef-0b72-443a-a030-9e6c5f1cc6d5",
   "metadata": {},
   "source": [
    "## 2.2 Lemmatisation + TF-IDF"
   ]
  },
  {
   "cell_type": "code",
   "execution_count": 54,
   "id": "06fc8ab4-f142-4f86-9b48-9658ebebece7",
   "metadata": {},
   "outputs": [
    {
     "name": "stdout",
     "output_type": "stream",
     "text": [
      "X_train_tfidf_lemma shape: (1278652, 672234), X_test_tfidf_lemma shape: (319663, 672234)\n"
     ]
    }
   ],
   "source": [
    "# Lemmatisation + TF-IDF\n",
    "tfidf_vectorizer = TfidfVectorizer()\n",
    "X_tfidf_lemma = tfidf_vectorizer.fit_transform(data['text_lemmatized'])\n",
    "X_tfidf_lemma = scaler.fit_transform(X_tfidf_lemma)\n",
    "\n",
    "# Séparation des données en ensemble d'entraînement et de test\n",
    "X_train_tfidf_lemma, X_test_tfidf_lemma, y_train_lemma, y_test_lemma = train_test_split(X_tfidf_lemma, data['target'], test_size=0.2, random_state=42)\n",
    "\n",
    "# Vérification des formes des matrices\n",
    "print(f\"X_train_tfidf_lemma shape: {X_train_tfidf_lemma.shape}, X_test_tfidf_lemma shape: {X_test_tfidf_lemma.shape}\")\n"
   ]
  },
  {
   "cell_type": "markdown",
   "id": "6c0b742a-223a-4fbc-ba5b-6cad81c943cb",
   "metadata": {},
   "source": [
    "## 2.3 Lemmatisation + CountVectorizer + TF-IDF"
   ]
  },
  {
   "cell_type": "code",
   "execution_count": 56,
   "id": "b4a1e075-8fa6-4a7d-a291-3b35d12dbb5f",
   "metadata": {},
   "outputs": [
    {
     "name": "stdout",
     "output_type": "stream",
     "text": [
      "X_train_count_tfidf_lemma shape: (1278652, 672234), X_test_count_tfidf_lemma shape: (319663, 672234)\n"
     ]
    }
   ],
   "source": [
    "# Lemmatisation + CountVectorizer + TF-IDF\n",
    "X_count_lemma = count_vectorizer.fit_transform(data['text_lemmatized'])\n",
    "\n",
    "# Appliquer TF-IDF sur la matrice de CountVectorizer\n",
    "tfidf_transformer = TfidfTransformer()\n",
    "X_count_tfidf_lemma = tfidf_transformer.fit_transform(X_count_lemma)\n",
    "\n",
    "# Standardisation des données vectorisées\n",
    "X_count_tfidf_lemma = scaler.fit_transform(X_count_tfidf_lemma)\n",
    "\n",
    "# Séparation des données en ensemble d'entraînement et de test\n",
    "X_train_count_tfidf_lemma, X_test_count_tfidf_lemma, y_train_lemma, y_test_lemma = train_test_split(X_count_tfidf_lemma, data['target'], test_size=0.2, random_state=42)\n",
    "\n",
    "# Vérification des formes des matrices\n",
    "print(f\"X_train_count_tfidf_lemma shape: {X_train_count_tfidf_lemma.shape}, X_test_count_tfidf_lemma shape: {X_test_count_tfidf_lemma.shape}\")\n"
   ]
  },
  {
   "cell_type": "markdown",
   "id": "2e8a12ce-ec68-4076-9f44-fa3d5428b2f1",
   "metadata": {},
   "source": [
    "## 2.4 Stemming + CountVectorizer"
   ]
  },
  {
   "cell_type": "code",
   "execution_count": 58,
   "id": "2a10d60b-c6c9-4281-b076-406cdd9ca35a",
   "metadata": {},
   "outputs": [
    {
     "name": "stdout",
     "output_type": "stream",
     "text": [
      "X_train_count_stem shape: (1278652, 634186), X_test_count_stem shape: (319663, 634186)\n"
     ]
    }
   ],
   "source": [
    "# Stemming + CountVectorizer\n",
    "X_count_stem = count_vectorizer.fit_transform(data['text_stemmed'])\n",
    "X_count_stem = scaler.fit_transform(X_count_stem)\n",
    "\n",
    "# Séparation des données en ensemble d'entraînement et de test\n",
    "X_train_count_stem, X_test_count_stem, y_train_stem, y_test_stem = train_test_split(X_count_stem, data['target'], test_size=0.2, random_state=42)\n",
    "\n",
    "# Vérification des formes des matrices\n",
    "print(f\"X_train_count_stem shape: {X_train_count_stem.shape}, X_test_count_stem shape: {X_test_count_stem.shape}\")\n"
   ]
  },
  {
   "cell_type": "markdown",
   "id": "3cff793f-8528-4a98-8a13-fe2f3968519c",
   "metadata": {},
   "source": [
    "## 2.5 Stemming + TF-IDF"
   ]
  },
  {
   "cell_type": "code",
   "execution_count": 60,
   "id": "a348af01-df85-444b-969a-6f7810cba7b3",
   "metadata": {},
   "outputs": [
    {
     "name": "stdout",
     "output_type": "stream",
     "text": [
      "X_train_tfidf_stem shape: (1278652, 634186), X_test_tfidf_stem shape: (319663, 634186)\n"
     ]
    }
   ],
   "source": [
    "# Stemming + TF-IDF\n",
    "X_tfidf_stem = tfidf_vectorizer.fit_transform(data['text_stemmed'])\n",
    "X_tfidf_stem = scaler.fit_transform(X_tfidf_stem)\n",
    "\n",
    "# Séparation des données en ensemble d'entraînement et de test\n",
    "X_train_tfidf_stem, X_test_tfidf_stem, y_train_stem, y_test_stem = train_test_split(X_tfidf_stem, data['target'], test_size=0.2, random_state=42)\n",
    "\n",
    "# Vérification des formes des matrices\n",
    "print(f\"X_train_tfidf_stem shape: {X_train_tfidf_stem.shape}, X_test_tfidf_stem shape: {X_test_tfidf_stem.shape}\")\n"
   ]
  },
  {
   "cell_type": "markdown",
   "id": "fb75c0c6-6eaf-4f13-aae2-8666cb4a639d",
   "metadata": {},
   "source": [
    "## 2.6 Stemming + CountVectorizer + TF-IDF"
   ]
  },
  {
   "cell_type": "code",
   "execution_count": 62,
   "id": "843935a9-91e2-432e-888d-37275a7e4c0d",
   "metadata": {},
   "outputs": [
    {
     "name": "stdout",
     "output_type": "stream",
     "text": [
      "X_train_count_tfidf_stem shape: (1278652, 634186), X_test_count_tfidf_stem shape: (319663, 634186)\n"
     ]
    }
   ],
   "source": [
    "# Stemming + CountVectorizer + TF-IDF\n",
    "X_count_stem = count_vectorizer.fit_transform(data['text_stemmed'])\n",
    "\n",
    "# Appliquer TF-IDF sur la matrice de CountVectorizer\n",
    "X_count_tfidf_stem = tfidf_transformer.fit_transform(X_count_stem)\n",
    "\n",
    "# Standardisation des données vectorisées\n",
    "X_count_tfidf_stem = scaler.fit_transform(X_count_tfidf_stem)\n",
    "\n",
    "# Séparation des données en ensemble d'entraînement et de test\n",
    "X_train_count_tfidf_stem, X_test_count_tfidf_stem, y_train_stem, y_test_stem = train_test_split(X_count_tfidf_stem, data['target'], test_size=0.2, random_state=42)\n",
    "\n",
    "# Vérification des formes des matrices\n",
    "print(f\"X_train_count_tfidf_stem shape: {X_train_count_tfidf_stem.shape}, X_test_count_tfidf_stem shape: {X_test_count_tfidf_stem.shape}\")\n"
   ]
  },
  {
   "cell_type": "markdown",
   "id": "14f1bba4-98cc-42f9-991b-780d7bc88b27",
   "metadata": {},
   "source": [
    "# 3. Entraînement des Modèles de Régression Logistique"
   ]
  },
  {
   "cell_type": "markdown",
   "id": "08a3d7c5-551d-48a6-9a62-72cf63c5b536",
   "metadata": {},
   "source": [
    "## 3.1 Entraînement pour Lemmatisation + CountVectorizer"
   ]
  },
  {
   "cell_type": "code",
   "execution_count": 65,
   "id": "c3085cb5-0548-4f6e-aa6f-08605fc90745",
   "metadata": {},
   "outputs": [
    {
     "name": "stderr",
     "output_type": "stream",
     "text": [
      "D:\\Master_Openclassroom\\python\\Lib\\site-packages\\sklearn\\linear_model\\_logistic.py:458: ConvergenceWarning: lbfgs failed to converge (status=1):\n",
      "STOP: TOTAL NO. of ITERATIONS REACHED LIMIT.\n",
      "\n",
      "Increase the number of iterations (max_iter) or scale the data as shown in:\n",
      "    https://scikit-learn.org/stable/modules/preprocessing.html\n",
      "Please also refer to the documentation for alternative solver options:\n",
      "    https://scikit-learn.org/stable/modules/linear_model.html#logistic-regression\n",
      "  n_iter_i = _check_optimize_result(\n"
     ]
    },
    {
     "data": {
      "application/vnd.jupyter.widget-view+json": {
       "model_id": "29212a9d88d447b380cf566616f2ae8b",
       "version_major": 2,
       "version_minor": 0
      },
      "text/plain": [
       "Downloading artifacts:   0%|          | 0/7 [00:00<?, ?it/s]"
      ]
     },
     "metadata": {},
     "output_type": "display_data"
    },
    {
     "name": "stdout",
     "output_type": "stream",
     "text": [
      "Accuracy for Lemmatisation + CountVectorizer: 0.7573913777947401\n",
      "              precision    recall  f1-score   support\n",
      "\n",
      "           0       0.75      0.77      0.76    159435\n",
      "           4       0.76      0.75      0.76    160228\n",
      "\n",
      "    accuracy                           0.76    319663\n",
      "   macro avg       0.76      0.76      0.76    319663\n",
      "weighted avg       0.76      0.76      0.76    319663\n",
      "\n"
     ]
    }
   ],
   "source": [
    "# Lemmatisation + CountVectorizer\n",
    "with mlflow.start_run():\n",
    "    mlflow.log_param(\"vectorizer\", \"CountVectorizer\")\n",
    "    mlflow.log_param(\"preprocessing\", \"Lemmatisation\")\n",
    "    mlflow.log_param(\"model_type\", \"LogisticRegression\")\n",
    "    \n",
    "    model_count_lemma = LogisticRegression(max_iter=200)\n",
    "    model_count_lemma.fit(X_train_count_lemma, y_train_lemma)\n",
    "    \n",
    "    y_pred_count_lemma = model_count_lemma.predict(X_test_count_lemma)\n",
    "    accuracy_count_lemma = accuracy_score(y_test_lemma, y_pred_count_lemma)\n",
    "    \n",
    "    mlflow.log_metric(\"accuracy\", accuracy_count_lemma)\n",
    "    input_example_count_lemma = X_test_count_lemma[:1].toarray()\n",
    "    mlflow.sklearn.log_model(model_count_lemma, \"model_count_lemma\", input_example=input_example_count_lemma)\n",
    "    \n",
    "    print(f\"Accuracy for Lemmatisation + CountVectorizer: {accuracy_count_lemma}\")\n",
    "    print(classification_report(y_test_lemma, y_pred_count_lemma))\n"
   ]
  },
  {
   "cell_type": "markdown",
   "id": "65ac12dd-0d79-4de7-a08f-96a5c6c60943",
   "metadata": {},
   "source": [
    "## 3.2 Entraînement pour Lemmatisation + TF-IDF"
   ]
  },
  {
   "cell_type": "code",
   "execution_count": 67,
   "id": "75411865-47fe-4e50-b273-c275f5a5cc11",
   "metadata": {},
   "outputs": [
    {
     "name": "stderr",
     "output_type": "stream",
     "text": [
      "D:\\Master_Openclassroom\\python\\Lib\\site-packages\\sklearn\\linear_model\\_logistic.py:458: ConvergenceWarning: lbfgs failed to converge (status=1):\n",
      "STOP: TOTAL NO. of ITERATIONS REACHED LIMIT.\n",
      "\n",
      "Increase the number of iterations (max_iter) or scale the data as shown in:\n",
      "    https://scikit-learn.org/stable/modules/preprocessing.html\n",
      "Please also refer to the documentation for alternative solver options:\n",
      "    https://scikit-learn.org/stable/modules/linear_model.html#logistic-regression\n",
      "  n_iter_i = _check_optimize_result(\n"
     ]
    },
    {
     "data": {
      "application/vnd.jupyter.widget-view+json": {
       "model_id": "3338266e12e34388a482d3248c18cc11",
       "version_major": 2,
       "version_minor": 0
      },
      "text/plain": [
       "Downloading artifacts:   0%|          | 0/7 [00:00<?, ?it/s]"
      ]
     },
     "metadata": {},
     "output_type": "display_data"
    },
    {
     "name": "stdout",
     "output_type": "stream",
     "text": [
      "Accuracy for Lemmatisation + TF-IDF: 0.7573194270215821\n",
      "              precision    recall  f1-score   support\n",
      "\n",
      "           0       0.76      0.76      0.76    159435\n",
      "           4       0.76      0.76      0.76    160228\n",
      "\n",
      "    accuracy                           0.76    319663\n",
      "   macro avg       0.76      0.76      0.76    319663\n",
      "weighted avg       0.76      0.76      0.76    319663\n",
      "\n"
     ]
    }
   ],
   "source": [
    "# Lemmatisation + TF-IDF\n",
    "with mlflow.start_run():\n",
    "    mlflow.log_param(\"vectorizer\", \"TF-IDF\")\n",
    "    mlflow.log_param(\"preprocessing\", \"Lemmatisation\")\n",
    "    mlflow.log_param(\"model_type\", \"LogisticRegression\")\n",
    "    \n",
    "    model_tfidf_lemma = LogisticRegression(max_iter=200)\n",
    "    model_tfidf_lemma.fit(X_train_tfidf_lemma, y_train_lemma)\n",
    "    \n",
    "    y_pred_tfidf_lemma = model_tfidf_lemma.predict(X_test_tfidf_lemma)\n",
    "    accuracy_tfidf_lemma = accuracy_score(y_test_lemma, y_pred_tfidf_lemma)\n",
    "    \n",
    "    mlflow.log_metric(\"accuracy\", accuracy_tfidf_lemma)\n",
    "    input_example_tfidf_lemma = X_test_tfidf_lemma[:1].toarray()\n",
    "    mlflow.sklearn.log_model(model_tfidf_lemma, \"model_tfidf_lemma\", input_example=input_example_tfidf_lemma)\n",
    "    \n",
    "    print(f\"Accuracy for Lemmatisation + TF-IDF: {accuracy_tfidf_lemma}\")\n",
    "    print(classification_report(y_test_lemma, y_pred_tfidf_lemma))\n"
   ]
  },
  {
   "cell_type": "markdown",
   "id": "7c1d04dc-ac54-4d85-a625-18829aab7da3",
   "metadata": {},
   "source": [
    "## 3.3 Entraînement pour Lemmatisation + CountVectorizer + TF-IDF"
   ]
  },
  {
   "cell_type": "code",
   "execution_count": 69,
   "id": "7a826ad6-d459-4f0a-970c-b0c65ee1ebc9",
   "metadata": {},
   "outputs": [
    {
     "name": "stderr",
     "output_type": "stream",
     "text": [
      "D:\\Master_Openclassroom\\python\\Lib\\site-packages\\sklearn\\linear_model\\_logistic.py:458: ConvergenceWarning: lbfgs failed to converge (status=1):\n",
      "STOP: TOTAL NO. of ITERATIONS REACHED LIMIT.\n",
      "\n",
      "Increase the number of iterations (max_iter) or scale the data as shown in:\n",
      "    https://scikit-learn.org/stable/modules/preprocessing.html\n",
      "Please also refer to the documentation for alternative solver options:\n",
      "    https://scikit-learn.org/stable/modules/linear_model.html#logistic-regression\n",
      "  n_iter_i = _check_optimize_result(\n"
     ]
    },
    {
     "data": {
      "application/vnd.jupyter.widget-view+json": {
       "model_id": "c74ba0c5f67e489fad936dd3f3522861",
       "version_major": 2,
       "version_minor": 0
      },
      "text/plain": [
       "Downloading artifacts:   0%|          | 0/7 [00:00<?, ?it/s]"
      ]
     },
     "metadata": {},
     "output_type": "display_data"
    },
    {
     "name": "stdout",
     "output_type": "stream",
     "text": [
      "Accuracy for Lemmatisation + CountVectorizer + TF-IDF: 0.7573006572546713\n",
      "              precision    recall  f1-score   support\n",
      "\n",
      "           0       0.76      0.76      0.76    159435\n",
      "           4       0.76      0.76      0.76    160228\n",
      "\n",
      "    accuracy                           0.76    319663\n",
      "   macro avg       0.76      0.76      0.76    319663\n",
      "weighted avg       0.76      0.76      0.76    319663\n",
      "\n"
     ]
    }
   ],
   "source": [
    "# Lemmatisation + CountVectorizer + TF-IDF\n",
    "with mlflow.start_run():\n",
    "    mlflow.log_param(\"vectorizer\", \"CountVectorizer + TF-IDF\")\n",
    "    mlflow.log_param(\"preprocessing\", \"Lemmatisation\")\n",
    "    mlflow.log_param(\"model_type\", \"LogisticRegression\")\n",
    "    \n",
    "    model_count_tfidf_lemma = LogisticRegression(max_iter=200)\n",
    "    model_count_tfidf_lemma.fit(X_train_count_tfidf_lemma, y_train_lemma)\n",
    "    \n",
    "    y_pred_count_tfidf_lemma = model_count_tfidf_lemma.predict(X_test_count_tfidf_lemma)\n",
    "    accuracy_count_tfidf_lemma = accuracy_score(y_test_lemma, y_pred_count_tfidf_lemma)\n",
    "    \n",
    "    mlflow.log_metric(\"accuracy\", accuracy_count_tfidf_lemma)\n",
    "    input_example_count_tfidf_lemma = X_test_count_tfidf_lemma[:1].toarray()\n",
    "    mlflow.sklearn.log_model(model_count_tfidf_lemma, \"model_count_tfidf_lemma\", input_example=input_example_count_tfidf_lemma)\n",
    "    \n",
    "    print(f\"Accuracy for Lemmatisation + CountVectorizer + TF-IDF: {accuracy_count_tfidf_lemma}\")\n",
    "    print(classification_report(y_test_lemma, y_pred_count_tfidf_lemma))\n"
   ]
  },
  {
   "cell_type": "markdown",
   "id": "809a1331-5f7e-4c83-8e95-b494e9b42718",
   "metadata": {},
   "source": [
    "## 3.4 Entraînement pour Stemming + CountVectorizer"
   ]
  },
  {
   "cell_type": "code",
   "execution_count": 71,
   "id": "52fac906-f33d-41fa-9ff7-9f6e4ec381ca",
   "metadata": {},
   "outputs": [
    {
     "name": "stderr",
     "output_type": "stream",
     "text": [
      "D:\\Master_Openclassroom\\python\\Lib\\site-packages\\sklearn\\linear_model\\_logistic.py:458: ConvergenceWarning: lbfgs failed to converge (status=1):\n",
      "STOP: TOTAL NO. of ITERATIONS REACHED LIMIT.\n",
      "\n",
      "Increase the number of iterations (max_iter) or scale the data as shown in:\n",
      "    https://scikit-learn.org/stable/modules/preprocessing.html\n",
      "Please also refer to the documentation for alternative solver options:\n",
      "    https://scikit-learn.org/stable/modules/linear_model.html#logistic-regression\n",
      "  n_iter_i = _check_optimize_result(\n"
     ]
    },
    {
     "data": {
      "application/vnd.jupyter.widget-view+json": {
       "model_id": "819110aafd214b1791a8985e0862c565",
       "version_major": 2,
       "version_minor": 0
      },
      "text/plain": [
       "Downloading artifacts:   0%|          | 0/7 [00:00<?, ?it/s]"
      ]
     },
     "metadata": {},
     "output_type": "display_data"
    },
    {
     "name": "stdout",
     "output_type": "stream",
     "text": [
      "Accuracy for Stemming + CountVectorizer: 0.7574914832182642\n",
      "              precision    recall  f1-score   support\n",
      "\n",
      "           0       0.75      0.77      0.76    159435\n",
      "           4       0.76      0.75      0.76    160228\n",
      "\n",
      "    accuracy                           0.76    319663\n",
      "   macro avg       0.76      0.76      0.76    319663\n",
      "weighted avg       0.76      0.76      0.76    319663\n",
      "\n"
     ]
    }
   ],
   "source": [
    "# Stemming + CountVectorizer\n",
    "with mlflow.start_run():\n",
    "    mlflow.log_param(\"vectorizer\", \"CountVectorizer\")\n",
    "    mlflow.log_param(\"preprocessing\", \"Stemming\")\n",
    "    mlflow.log_param(\"model_type\", \"LogisticRegression\")\n",
    "    \n",
    "    model_count_stem = LogisticRegression(max_iter=200)\n",
    "    model_count_stem.fit(X_train_count_stem, y_train_stem)\n",
    "    \n",
    "    y_pred_count_stem = model_count_stem.predict(X_test_count_stem)\n",
    "    accuracy_count_stem = accuracy_score(y_test_stem, y_pred_count_stem)\n",
    "    \n",
    "    mlflow.log_metric(\"accuracy\", accuracy_count_stem)\n",
    "    input_example_count_stem = X_test_count_stem[:1].toarray()\n",
    "    mlflow.sklearn.log_model(model_count_stem, \"model_count_stem\", input_example=input_example_count_stem)\n",
    "    \n",
    "    print(f\"Accuracy for Stemming + CountVectorizer: {accuracy_count_stem}\")\n",
    "    print(classification_report(y_test_stem, y_pred_count_stem))\n"
   ]
  },
  {
   "cell_type": "markdown",
   "id": "41330a08-b050-4a9d-b7b8-f704d44d3544",
   "metadata": {},
   "source": [
    "## 3.5 Entraînement pour Stemming + TF-IDF"
   ]
  },
  {
   "cell_type": "code",
   "execution_count": 73,
   "id": "97bc159e-7219-4368-a4a7-b30b1911c84e",
   "metadata": {},
   "outputs": [
    {
     "name": "stderr",
     "output_type": "stream",
     "text": [
      "D:\\Master_Openclassroom\\python\\Lib\\site-packages\\sklearn\\linear_model\\_logistic.py:458: ConvergenceWarning: lbfgs failed to converge (status=1):\n",
      "STOP: TOTAL NO. of ITERATIONS REACHED LIMIT.\n",
      "\n",
      "Increase the number of iterations (max_iter) or scale the data as shown in:\n",
      "    https://scikit-learn.org/stable/modules/preprocessing.html\n",
      "Please also refer to the documentation for alternative solver options:\n",
      "    https://scikit-learn.org/stable/modules/linear_model.html#logistic-regression\n",
      "  n_iter_i = _check_optimize_result(\n"
     ]
    },
    {
     "data": {
      "application/vnd.jupyter.widget-view+json": {
       "model_id": "c0643c69613046858540f834ead6a7bc",
       "version_major": 2,
       "version_minor": 0
      },
      "text/plain": [
       "Downloading artifacts:   0%|          | 0/7 [00:00<?, ?it/s]"
      ]
     },
     "metadata": {},
     "output_type": "display_data"
    },
    {
     "name": "stdout",
     "output_type": "stream",
     "text": [
      "Accuracy for Stemming + TF-IDF: 0.7581578099435968\n",
      "              precision    recall  f1-score   support\n",
      "\n",
      "           0       0.76      0.76      0.76    159435\n",
      "           4       0.76      0.76      0.76    160228\n",
      "\n",
      "    accuracy                           0.76    319663\n",
      "   macro avg       0.76      0.76      0.76    319663\n",
      "weighted avg       0.76      0.76      0.76    319663\n",
      "\n"
     ]
    }
   ],
   "source": [
    "# Stemming + TF-IDF\n",
    "with mlflow.start_run():\n",
    "    mlflow.log_param(\"vectorizer\", \"TF-IDF\")\n",
    "    mlflow.log_param(\"preprocessing\", \"Stemming\")\n",
    "    mlflow.log_param(\"model_type\", \"LogisticRegression\")\n",
    "    \n",
    "    model_tfidf_stem = LogisticRegression(max_iter=200)\n",
    "    model_tfidf_stem.fit(X_train_tfidf_stem, y_train_stem)\n",
    "    \n",
    "    y_pred_tfidf_stem = model_tfidf_stem.predict(X_test_tfidf_stem)\n",
    "    accuracy_tfidf_stem = accuracy_score(y_test_stem, y_pred_tfidf_stem)\n",
    "    \n",
    "    mlflow.log_metric(\"accuracy\", accuracy_tfidf_stem)\n",
    "    input_example_tfidf_stem = X_test_tfidf_stem[:1].toarray()\n",
    "    mlflow.sklearn.log_model(model_tfidf_stem, \"model_tfidf_stem\", input_example=input_example_tfidf_stem)\n",
    "    \n",
    "    print(f\"Accuracy for Stemming + TF-IDF: {accuracy_tfidf_stem}\")\n",
    "    print(classification_report(y_test_stem, y_pred_tfidf_stem))\n"
   ]
  },
  {
   "cell_type": "markdown",
   "id": "6bc80cf4-ba63-4538-a3c6-c8f42214245c",
   "metadata": {},
   "source": [
    "## 3.6 Entraînement pour Stemming + CountVectorizer + TF-IDF"
   ]
  },
  {
   "cell_type": "code",
   "execution_count": 75,
   "id": "62b9d1c4-bced-459f-93b9-620da4459037",
   "metadata": {},
   "outputs": [
    {
     "name": "stderr",
     "output_type": "stream",
     "text": [
      "D:\\Master_Openclassroom\\python\\Lib\\site-packages\\sklearn\\linear_model\\_logistic.py:458: ConvergenceWarning: lbfgs failed to converge (status=1):\n",
      "STOP: TOTAL NO. of ITERATIONS REACHED LIMIT.\n",
      "\n",
      "Increase the number of iterations (max_iter) or scale the data as shown in:\n",
      "    https://scikit-learn.org/stable/modules/preprocessing.html\n",
      "Please also refer to the documentation for alternative solver options:\n",
      "    https://scikit-learn.org/stable/modules/linear_model.html#logistic-regression\n",
      "  n_iter_i = _check_optimize_result(\n"
     ]
    },
    {
     "data": {
      "application/vnd.jupyter.widget-view+json": {
       "model_id": "fec258f6bd234e098f8afdd011d57ce6",
       "version_major": 2,
       "version_minor": 0
      },
      "text/plain": [
       "Downloading artifacts:   0%|          | 0/7 [00:00<?, ?it/s]"
      ]
     },
     "metadata": {},
     "output_type": "display_data"
    },
    {
     "name": "stdout",
     "output_type": "stream",
     "text": [
      "Accuracy for Stemming + CountVectorizer + TF-IDF: 0.7581703231215373\n",
      "              precision    recall  f1-score   support\n",
      "\n",
      "           0       0.76      0.76      0.76    159435\n",
      "           4       0.76      0.76      0.76    160228\n",
      "\n",
      "    accuracy                           0.76    319663\n",
      "   macro avg       0.76      0.76      0.76    319663\n",
      "weighted avg       0.76      0.76      0.76    319663\n",
      "\n"
     ]
    }
   ],
   "source": [
    "# Stemming + CountVectorizer + TF-IDF\n",
    "with mlflow.start_run():\n",
    "    mlflow.log_param(\"vectorizer\", \"CountVectorizer + TF-IDF\")\n",
    "    mlflow.log_param(\"preprocessing\", \"Stemming\")\n",
    "    mlflow.log_param(\"model_type\", \"LogisticRegression\")\n",
    "    \n",
    "    model_count_tfidf_stem = LogisticRegression(max_iter=200)\n",
    "    model_count_tfidf_stem.fit(X_train_count_tfidf_stem, y_train_stem)\n",
    "    \n",
    "    y_pred_count_tfidf_stem = model_count_tfidf_stem.predict(X_test_count_tfidf_stem)\n",
    "    accuracy_count_tfidf_stem = accuracy_score(y_test_stem, y_pred_count_tfidf_stem)\n",
    "    \n",
    "    mlflow.log_metric(\"accuracy\", accuracy_count_tfidf_stem)\n",
    "    input_example_count_tfidf_stem = X_test_count_tfidf_stem[:1].toarray()\n",
    "    mlflow.sklearn.log_model(model_count_tfidf_stem, \"model_count_tfidf_stem\", input_example=input_example_count_tfidf_stem)\n",
    "    \n",
    "    print(f\"Accuracy for Stemming + CountVectorizer + TF-IDF: {accuracy_count_tfidf_stem}\")\n",
    "    print(classification_report(y_test_stem, y_pred_count_tfidf_stem))\n"
   ]
  },
  {
   "cell_type": "markdown",
   "id": "16746c1d-e9bc-45ae-9980-c735cb8f1e60",
   "metadata": {},
   "source": [
    "# 4. Analyse des Résultats"
   ]
  },
  {
   "cell_type": "code",
   "execution_count": 77,
   "id": "22e1ebfc-bcd5-4abd-83b9-0ee310debfb8",
   "metadata": {},
   "outputs": [
    {
     "data": {
      "image/png": "[encoded data removed]",
      "text/plain": [
       "<Figure size 1000x500 with 1 Axes>"
      ]
     },
     "metadata": {},
     "output_type": "display_data"
    },
    {
     "data": {
      "image/png": "[encoded data removed]",
      "text/plain": [
       "<Figure size 640x480 with 2 Axes>"
      ]
     },
     "metadata": {},
     "output_type": "display_data"
    }
   ],
   "source": [
    "# Comparer les accuracies\n",
    "accuracies = {\n",
    "    'Lemmatisation + CountVectorizer': accuracy_count_lemma,\n",
    "    'Lemmatisation + TF-IDF': accuracy_tfidf_lemma,\n",
    "    'Stemming + CountVectorizer': accuracy_count_stem,\n",
    "    'Stemming + TF-IDF': accuracy_tfidf_stem,\n",
    "    'Lemmatisation + CountVectorizer + TF-IDF': accuracy_count_tfidf_lemma,\n",
    "    'Stemming + CountVectorizer + TF-IDF': accuracy_count_tfidf_stem\n",
    "}\n",
    "\n",
    "plt.figure(figsize=(10, 5))\n",
    "sns.barplot(x=list(accuracies.keys()), y=list(accuracies.values()))\n",
    "plt.title('Comparison of Accuracy across different methods')\n",
    "plt.xticks(rotation=45, ha='right')\n",
    "plt.ylabel('Accuracy')\n",
    "plt.show()\n",
    "\n",
    "# Matrice de confusion pour le meilleur modèle\n",
    "best_model_name = max(accuracies, key=accuracies.get)  # Par exemple\n",
    "y_true = y_test_lemma if 'Lemmatisation' in best_model_name else y_test_stem\n",
    "y_pred = y_pred_count_lemma if 'CountVectorizer' in best_model_name else y_pred_tfidf_lemma  # Adaptez selon le meilleur modèle\n",
    "\n",
    "cm = confusion_matrix(y_true, y_pred)\n",
    "sns.heatmap(cm, annot=True, fmt='d', cmap='Blues')\n",
    "plt.title(f'Confusion Matrix for {best_model_name}')\n",
    "plt.xlabel('Predicted')\n",
    "plt.ylabel('True')\n",
    "plt.show()\n"
   ]
  },
  {
   "cell_type": "code",
   "execution_count": 78,
   "id": "e4f3318a-7fc5-4413-95ae-97d169215f3d",
   "metadata": {},
   "outputs": [
    {
     "name": "stdout",
     "output_type": "stream",
     "text": [
      "Best model 'Stemming + CountVectorizer + TF-IDF' saved at ..\\models\\Stemming_plus_CountVectorizer_plus_TF-IDF_model.pkl\n"
     ]
    }
   ],
   "source": [
    "import os\n",
    "import joblib\n",
    "\n",
    "# Déterminez le meilleur modèle basé sur les accuracies\n",
    "best_model_name = max(accuracies, key=accuracies.get)\n",
    "\n",
    "# Selon le meilleur modèle, sélectionnez l'objet modèle correspondant\n",
    "if best_model_name == 'Lemmatisation + CountVectorizer':\n",
    "    best_model = model_count_lemma\n",
    "elif best_model_name == 'Lemmatisation + TF-IDF':\n",
    "    best_model = model_tfidf_lemma\n",
    "elif best_model_name == 'Stemming + CountVectorizer':\n",
    "    best_model = model_count_stem\n",
    "elif best_model_name == 'Stemming + TF-IDF':\n",
    "    best_model = model_tfidf_stem\n",
    "elif best_model_name == 'Lemmatisation + CountVectorizer + TF-IDF':\n",
    "    best_model = model_count_tfidf_lemma\n",
    "elif best_model_name == 'Stemming + CountVectorizer + TF-IDF':\n",
    "    best_model = model_count_tfidf_stem\n",
    "\n",
    "# Créez le chemin vers le dossier 'models'\n",
    "models_folder_path = os.path.join('..', 'models')\n",
    "\n",
    "# Créez le dossier 'models' s'il n'existe pas\n",
    "if not os.path.exists(models_folder_path):\n",
    "    os.makedirs(models_folder_path)\n",
    "\n",
    "# Sauvegardez le modèle dans le dossier 'models'\n",
    "model_file_name = f\"{best_model_name.replace(' ', '_').replace('+', 'plus')}_model.pkl\"\n",
    "model_path = os.path.join(models_folder_path, model_file_name)\n",
    "joblib.dump(best_model, model_path)\n",
    "\n",
    "print(f\"Best model '{best_model_name}' saved at {model_path}\")"
   ]
  }
 ],
 "metadata": {
  "kernelspec": {
   "display_name": "Python 3 (ipykernel)",
   "language": "python",
   "name": "python3"
  },
  "language_info": {
   "codemirror_mode": {
    "name": "ipython",
    "version": 3
   },
   "file_extension": ".py",
   "mimetype": "text/x-python",
   "name": "python",
   "nbconvert_exporter": "python",
   "pygments_lexer": "ipython3",
   "version": "3.11.8"
  }
 },
 "nbformat": 4,
 "nbformat_minor": 5
}
