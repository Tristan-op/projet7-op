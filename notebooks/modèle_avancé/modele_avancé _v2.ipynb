{
 "cells": [
  {
   "cell_type": "markdown",
   "id": "3864a408-216c-4169-b8d1-156187787123",
   "metadata": {},
   "source": [
    "# Introduction\n",
    "\n",
    "## Objectif du Notebook\n",
    "L'objectif de ce notebook est de développer et d'évaluer des modèles avancés d'analyse de sentiments en utilisant des architectures de réseaux de neurones convolutionnels (CNN) et de réseaux de neurones récurrents (LSTM). Ces modèles seront entraînés sur un jeu de données de tweets et utiliseront des embeddings textuels pré-entraînés tels que Word2Vec et FastText pour capturer les relations sémantiques entre les mots.\n",
    "\n",
    "## Présentation des Méthodes CNN et LSTM\n",
    "Le Convolutional Neural Network (CNN) et le Long Short-Term Memory (LSTM) sont deux types d'architectures de réseaux de neurones particulièrement adaptées au traitement des données séquentielles telles que le texte.\n",
    "\n",
    "### CNN (Convolutional Neural Network)\n",
    "Les CNN sont bien connus pour leur capacité à détecter des motifs locaux dans les données séquentielles, ce qui les rend efficaces pour capturer des n-grams de mots dans les textes. Dans ce notebook, nous utiliserons un CNN pour analyser les séquences de mots des tweets et en extraire des caractéristiques pertinentes pour la classification de sentiments.\n",
    "\n",
    "### LSTM (Long Short-Term Memory)\n",
    "Les LSTM sont un type de réseau de neurones récurrents (RNN) capable de capturer des dépendances à long terme dans des séquences de données. Cela les rend particulièrement efficaces pour comprendre le contexte complet d'une phrase ou d'un tweet, en tenant compte de l'ordre des mots et des relations temporelles.\n",
    "\n",
    "## Plan du Notebook\n",
    "Ce notebook est structuré de manière à suivre un pipeline complet de traitement des données, d'entraînement des modèles et d'évaluation des performances :\n",
    "1. **Chargement et Préparation des Données** : Nous allons commencer par charger les données, les nettoyer, les tokeniser et les préparer pour les modèles CNN et LSTM.\n",
    "2. **Préparation des Embeddings Textuels** : Nous utiliserons Word2Vec et FastText pour convertir les séquences de mots en vecteurs denses.\n",
    "3. **Construction du Modèle CNN** : Nous définirons un modèle CNN pour la tâche de classification de sentiments.\n",
    "4. **Construction du Modèle LSTM** : Nous définirons un modèle LSTM pour la même tâche.\n",
    "5. **Entrainement des modèles** : Nous entrainerons les deux modèles.\n",
    "6. **Comparaison des modèles** : Nous allons comparer les différents modèles.\n",
    "7. **Export du meilleur modèle** : Nous allons exporter le modèle le plus performant pour notre analyse des sentiments.\n"
   ]
  },
  {
   "cell_type": "markdown",
   "id": "0ebd27e8-ae95-4de5-8a7b-bcf334c9a50c",
   "metadata": {},
   "source": [
    "# 1. Chargement et Préparation des Données"
   ]
  },
  {
   "cell_type": "markdown",
   "id": "7afabebb-2af2-4e07-9edb-0f4647a53152",
   "metadata": {},
   "source": [
    "## 1.1 Importation des bibliothèques nécessaires\n"
   ]
  },
  {
   "cell_type": "code",
   "execution_count": 6,
   "id": "ea7b0eea-7d9a-4f93-999e-77b2b351f479",
   "metadata": {},
   "outputs": [],
   "source": [
    "import numpy as np\n",
    "import pandas as pd\n",
    "import mlflow\n",
    "import mlflow.keras\n",
    "from sklearn.model_selection import train_test_split\n",
    "from keras.models import Sequential\n",
    "from keras.layers import Embedding, Conv1D, GlobalMaxPooling1D, Dense, Dropout\n",
    "from keras.optimizers import Adam\n",
    "from tensorflow.keras.preprocessing.text import Tokenizer\n",
    "from tensorflow.keras.preprocessing.sequence import pad_sequences\n",
    "import gensim.downloader as api\n",
    "from sklearn.metrics import classification_report, confusion_matrix\n",
    "import matplotlib.pyplot as plt\n",
    "import seaborn as sns\n"
   ]
  },
  {
   "cell_type": "markdown",
   "id": "665e4cf7-9c7b-44b5-b3ae-14d1665f63d2",
   "metadata": {},
   "source": [
    "## 1.2 Chargement des données et transformation de la cible target\n"
   ]
  },
  {
   "cell_type": "code",
   "execution_count": 8,
   "id": "5155889a-819c-4876-93fc-2b47bbb91dd6",
   "metadata": {},
   "outputs": [
    {
     "name": "stdout",
     "output_type": "stream",
     "text": [
      "Unique values in target_binary: [0 1]\n"
     ]
    }
   ],
   "source": [
    "# Charger les données\n",
    "data = pd.read_csv('../data/database_p7_rework.csv')\n",
    "\n",
    "# Transformation des labels : 0 reste 0 et 4 devient 1\n",
    "data['target_binary'] = data['target'].apply(lambda x: 0 if x == 0 else 1)\n",
    "\n",
    "# Vérification des transformations\n",
    "print(\"Unique values in target_binary:\", data['target_binary'].unique())"
   ]
  },
  {
   "cell_type": "markdown",
   "id": "ea28d151-0e30-495c-b588-c97f5422ee4e",
   "metadata": {},
   "source": [
    "# 2 Tokenization des textes lemmatisés et stemmés"
   ]
  },
  {
   "cell_type": "code",
   "execution_count": 9,
   "id": "44e64c99-36a7-46b6-8b47-aa24d9ad5464",
   "metadata": {},
   "outputs": [
    {
     "name": "stdout",
     "output_type": "stream",
     "text": [
      "Données scindées en ensemble d'entraînement et de test pour lemmatisation et stemming.\n"
     ]
    }
   ],
   "source": [
    "import pandas as pd\n",
    "from tensorflow.keras.preprocessing.text import Tokenizer\n",
    "from tensorflow.keras.preprocessing.sequence import pad_sequences\n",
    "from sklearn.model_selection import train_test_split\n",
    "\n",
    "# Fonction pour préparer les séquences\n",
    "def prepare_sequences(texts, tokenizer, maxlen=100):\n",
    "    sequences = tokenizer.texts_to_sequences(texts)\n",
    "    return pad_sequences(sequences, maxlen=maxlen)\n",
    "\n",
    "# Tokenization\n",
    "tokenizer_lemma = Tokenizer(num_words=5000)\n",
    "tokenizer_lemma.fit_on_texts(data['text_lemmatized'])\n",
    "\n",
    "tokenizer_stem = Tokenizer(num_words=5000)\n",
    "tokenizer_stem.fit_on_texts(data['text_stemmed'])\n",
    "\n",
    "\n",
    "\n",
    "# Sélection d'un échantillon équilibré de 16 000 données (8 000 par classe)\n",
    "sample_data = data.groupby('target_binary', group_keys=False).apply(lambda x: x.sample(8000, random_state=42))\n",
    "\n",
    "# Fonction pour préparer les séquences avec une longueur maximale de 100\n",
    "def prepare_sequences(texts, tokenizer, maxlen=100):  # Réduire maxlen à 100\n",
    "    sequences = tokenizer.texts_to_sequences(texts)\n",
    "    return pad_sequences(sequences, maxlen=maxlen)\n",
    "\n",
    "# Préparation des séquences avec la longueur max de 100\n",
    "X_lemma = prepare_sequences(sample_data['text_lemmatized'], tokenizer_lemma, maxlen=100)\n",
    "X_stem = prepare_sequences(sample_data['text_stemmed'], tokenizer_stem, maxlen=100)\n",
    "\n",
    "y_sample = sample_data['target_binary'].values\n",
    "\n",
    "# Affichage de confirmation\n",
    "print(\"Données scindées en ensemble d'entraînement et de test pour lemmatisation et stemming.\")\n"
   ]
  },
  {
   "cell_type": "markdown",
   "id": "801c912b-abf8-4f13-9466-0dfcd15d1994",
   "metadata": {},
   "source": [
    "# 3 Chargement des modèles pré-entraînés (Word2Vec et FastText)"
   ]
  },
  {
   "cell_type": "code",
   "execution_count": 9,
   "id": "fc112644-a6dc-4b3b-b51d-4231fa62aeab",
   "metadata": {},
   "outputs": [
    {
     "name": "stdout",
     "output_type": "stream",
     "text": [
      "Modèles FastText et Word2Vec chargés avec succès.\n"
     ]
    }
   ],
   "source": [
    "import gensim.downloader as api\n",
    "\n",
    "# Charger les modèles Word2Vec et FastText pré-entraînés avec des vecteurs de dimension 300\n",
    "w2v_model = api.load('word2vec-google-news-300')\n",
    "ft_model = api.load('fasttext-wiki-news-subwords-300')\n",
    "\n",
    "print(\"Modèles FastText et Word2Vec chargés avec succès.\")\n"
   ]
  },
  {
   "cell_type": "markdown",
   "id": "9a4d158c-c015-40d3-8b08-1c3abe7cbfba",
   "metadata": {},
   "source": [
    "# 5 : Génération des embeddings FastText et Word2Vec"
   ]
  },
  {
   "cell_type": "markdown",
   "id": "35efe6b4-57bb-4a29-935c-437297a734e7",
   "metadata": {},
   "source": [
    "## Embeddings Word2Vec & Fasttext"
   ]
  },
  {
   "cell_type": "markdown",
   "id": "36a96e76-aa35-4928-9d40-f14814103646",
   "metadata": {},
   "source": [
    "# 6 : Création des matrices d'embeddings"
   ]
  },
  {
   "cell_type": "code",
   "execution_count": 15,
   "id": "509feec8-959a-4418-afbf-f7d7b150d597",
   "metadata": {},
   "outputs": [],
   "source": [
    "# Fonction modifiée pour générer des embeddings\n",
    "def get_embeddings(sequences, tokenizer, model, vector_size=300, max_length=100):\n",
    "    embeddings = []\n",
    "    for seq in sequences:\n",
    "        vectors = []\n",
    "        for word_idx in seq:  # Utiliser les indices des tokens\n",
    "            word = tokenizer.index_word.get(word_idx)  # Récupérer le mot correspondant à l'indice\n",
    "            if word in model:\n",
    "                vectors.append(model[word])\n",
    "            else:\n",
    "                vectors.append(np.zeros(vector_size))  # Ajouter des zéros pour les mots non trouvés\n",
    "        # S'assurer que la séquence a bien max_length\n",
    "        if len(vectors) < max_length:\n",
    "            vectors += [np.zeros(vector_size)] * (max_length - len(vectors))\n",
    "        elif len(vectors) > max_length:\n",
    "            vectors = vectors[:max_length]\n",
    "        embeddings.append(vectors)\n",
    "    return np.array(embeddings)\n"
   ]
  },
  {
   "cell_type": "markdown",
   "id": "16633e2a-0e49-47f2-9280-213466c1ce51",
   "metadata": {},
   "source": [
    "# 7 : Préparation des données pour l'entraînement et la validation"
   ]
  },
  {
   "cell_type": "code",
   "execution_count": 17,
   "id": "8ef58626-6dfc-4a78-9e51-c2c9aa798ee1",
   "metadata": {},
   "outputs": [
    {
     "name": "stdout",
     "output_type": "stream",
     "text": [
      "Données prêtes pour l'entraînement et le test.\n"
     ]
    }
   ],
   "source": [
    "# Générer les embeddings avec une longueur de séquence de 100\n",
    "X_lemma_sample = prepare_sequences(sample_data['text_lemmatized'], tokenizer_lemma, maxlen=100)\n",
    "X_stem_sample = prepare_sequences(sample_data['text_stemmed'], tokenizer_stem, maxlen=100)\n",
    "\n",
    "# Générer les embeddings\n",
    "X_lemma_ft = get_embeddings(X_lemma_sample, tokenizer_lemma, ft_model, vector_size=300)\n",
    "X_stem_ft = get_embeddings(X_stem_sample, tokenizer_stem, ft_model, vector_size=300)\n",
    "X_lemma_w2v = get_embeddings(X_lemma_sample, tokenizer_lemma, w2v_model, vector_size=300)\n",
    "X_stem_w2v = get_embeddings(X_stem_sample, tokenizer_stem, w2v_model, vector_size=300)\n",
    "\n",
    "# Reformater en (batch_size, max_length, embedding_dim)\n",
    "X_lemma_w2v = X_lemma_w2v.reshape(X_lemma_w2v.shape[0], 100, 300)\n",
    "X_stem_w2v = X_stem_w2v.reshape(X_stem_w2v.shape[0], 100, 300)\n",
    "X_lemma_ft = X_lemma_ft.reshape(X_lemma_ft.shape[0], 100, 300)\n",
    "X_stem_ft = X_stem_ft.reshape(X_stem_ft.shape[0], 100, 300)\n",
    "# Cible (target) - identique pour toutes les variantes (FastText/Word2Vec, Lem/Stemming)\n",
    "y_sample = sample_data['target_binary'].values  # y_sample correspond maintenant à la cible correcte de l'échantillon de 16 000 données\n",
    "\n",
    "# Split en données d'entraînement et de test avec stratification\n",
    "X_train_lemma_w2v, X_test_lemma_w2v, y_train_lemma_w2v, y_test_lemma_w2v = train_test_split(X_lemma_w2v, y_sample, test_size=0.2, random_state=42, stratify=y_sample)\n",
    "X_train_stem_w2v, X_test_stem_w2v, y_train_stem_w2v, y_test_stem_w2v = train_test_split(X_stem_w2v, y_sample, test_size=0.2, random_state=42, stratify=y_sample)\n",
    "X_train_lemma_ft, X_test_lemma_ft, y_train_lemma_ft, y_test_lemma_ft = train_test_split(X_lemma_ft, y_sample, test_size=0.2, random_state=42, stratify=y_sample)\n",
    "X_train_stem_ft, X_test_stem_ft, y_train_stem_ft, y_test_stem_ft = train_test_split(X_stem_ft, y_sample, test_size=0.2, random_state=42, stratify=y_sample)\n",
    "\n",
    "print(\"Données prêtes pour l'entraînement et le test.\")\n"
   ]
  },
  {
   "cell_type": "markdown",
   "id": "561eef4e-2cce-4af0-88b1-13c5073f226a",
   "metadata": {},
   "source": [
    "# 8 : Définition de l'architecture du modèle CNN"
   ]
  },
  {
   "cell_type": "code",
   "execution_count": 39,
   "id": "cb98cbb8-ef58-4e65-b38c-25d4642be668",
   "metadata": {},
   "outputs": [],
   "source": [
    "import mlflow\n",
    "import mlflow.keras\n",
    "import time\n",
    "from keras.models import Sequential\n",
    "from keras.layers import Conv1D, GlobalMaxPooling1D, Dense, Dropout, BatchNormalization, LeakyReLU, PReLU\n",
    "from keras.callbacks import EarlyStopping, ReduceLROnPlateau\n",
    "from sklearn.metrics import accuracy_score, roc_auc_score, precision_score, recall_score, f1_score, confusion_matrix, roc_curve\n",
    "import seaborn as sns\n",
    "import matplotlib.pyplot as plt\n",
    "import numpy as np\n",
    "from sklearn.model_selection import ParameterGrid\n",
    "\n",
    "def create_cnn_model(max_length=100, num_filters=128, kernel_size=5, dropout_rate=0.2, activation_type='relu'):\n",
    "    model = Sequential()\n",
    "\n",
    "    # Couche de convolution et normalisation\n",
    "    model.add(Conv1D(num_filters, kernel_size=kernel_size, activation='relu', input_shape=(max_length, 300)))\n",
    "    model.add(BatchNormalization())\n",
    "    model.add(GlobalMaxPooling1D())\n",
    "    \n",
    "    # Ajout de l'activation dynamique dans les couches denses\n",
    "    if activation_type == 'relu':\n",
    "        model.add(Dense(128, activation='relu'))\n",
    "    elif activation_type == 'leaky_relu':\n",
    "        model.add(Dense(128))\n",
    "        model.add(LeakyReLU(alpha=0.1))\n",
    "    elif activation_type == 'prelu':\n",
    "        model.add(Dense(128))\n",
    "        model.add(PReLU())\n",
    "\n",
    "    model.add(Dropout(dropout_rate))\n",
    "    model.add(Dense(64, activation='relu'))\n",
    "    model.add(Dropout(dropout_rate))\n",
    "    model.add(Dense(1, activation='sigmoid'))\n",
    "    \n",
    "    model.compile(optimizer='adam', loss='binary_crossentropy', metrics=['accuracy'])\n",
    "    \n",
    "    return model\n",
    "\n",
    "\n",
    "\n",
    "# Fonction pour entraîner et loguer un modèle CNN avec GridSearch et les activations avancées\n",
    "def train_and_log_cnn(X_train, y_train, X_test, y_test, experiment_name, param_grid, max_length=100):\n",
    "    mlflow.set_experiment(experiment_name)\n",
    "    \n",
    "    best_model = None\n",
    "    best_accuracy = 0\n",
    "    best_params = None\n",
    "\n",
    "    # Parcourir chaque combinaison d'hyperparamètres\n",
    "    for params in ParameterGrid(param_grid):\n",
    "        num_filters = params['num_filters']\n",
    "        kernel_size = params['kernel_size']\n",
    "        dropout_rate = params['dropout_rate']\n",
    "        activation_type = params['activation_type']\n",
    "\n",
    "        with mlflow.start_run(run_name=f\"CNN_filters={num_filters}_kernel={kernel_size}_dropout={dropout_rate}_activation={activation_type}\"):\n",
    "\n",
    "            # Créer le modèle CNN avec les hyperparamètres courants\n",
    "            model = create_cnn_model(max_length=max_length, num_filters=num_filters, kernel_size=kernel_size, dropout_rate=dropout_rate, activation_type=activation_type)\n",
    "\n",
    "            # Early stopping pour éviter l'overfitting\n",
    "            early_stopping = EarlyStopping(monitor='val_loss', patience=4)\n",
    "            reduce_lr = ReduceLROnPlateau(monitor='val_loss', factor=0.2, patience=2, min_lr=0.0001)\n",
    "\n",
    "            # Entraîner le modèle\n",
    "            start_time = time.time()\n",
    "            history = model.fit(X_train, y_train, epochs=20, batch_size=64, validation_data=(X_test, y_test), callbacks=[early_stopping, reduce_lr], verbose=1)\n",
    "            training_time = time.time() - start_time\n",
    "\n",
    "            # Prédictions et évaluation\n",
    "            y_pred = (model.predict(X_test) > 0.5).astype(\"int32\")\n",
    "            y_pred_proba = model.predict(X_test)\n",
    "            accuracy = accuracy_score(y_test, y_pred)\n",
    "            auc_score = roc_auc_score(y_test, y_pred_proba)\n",
    "            precision = precision_score(y_test, y_pred)\n",
    "            recall = recall_score(y_test, y_pred)\n",
    "            f1 = f1_score(y_test, y_pred)\n",
    "\n",
    "            # Matrice de confusion\n",
    "            conf_matrix = confusion_matrix(y_test, y_pred)\n",
    "\n",
    "            # Loguer les hyperparamètres dans MLFlow\n",
    "            mlflow.log_param(\"num_filters\", num_filters)\n",
    "            mlflow.log_param(\"kernel_size\", kernel_size)\n",
    "            mlflow.log_param(\"dropout_rate\", dropout_rate)\n",
    "            mlflow.log_param(\"activation_type\", activation_type)\n",
    "\n",
    "            # Loguer les métriques dans MLFlow\n",
    "            mlflow.log_metric(\"accuracy\", accuracy)\n",
    "            mlflow.log_metric(\"auc\", auc_score)\n",
    "            mlflow.log_metric(\"precision\", precision)\n",
    "            mlflow.log_metric(\"recall\", recall)\n",
    "            mlflow.log_metric(\"f1_score\", f1)\n",
    "            mlflow.log_metric(\"training_time\", training_time)\n",
    "\n",
    "            # Sauvegarder le modèle avec MLFlow\n",
    "            mlflow.keras.log_model(model, f\"cnn_model_{num_filters}_{kernel_size}_{dropout_rate}\")\n",
    "\n",
    "            # Sauvegarder et loguer la matrice de confusion\n",
    "            plt.figure(figsize=(6, 4))\n",
    "            sns.heatmap(conf_matrix, annot=True, fmt=\"d\", cmap=\"Blues\", cbar=False)\n",
    "            plt.xlabel('Prédictions')\n",
    "            plt.ylabel('Vérités')\n",
    "            plt.title(f\"Matrice de Confusion - CNN\")\n",
    "            conf_matrix_path = f\"./matrice/confusion_matrix_cnn_filters={num_filters}_kernel={kernel_size}_dropout={dropout_rate}.png\"\n",
    "            plt.savefig(conf_matrix_path)\n",
    "            mlflow.log_artifact(conf_matrix_path)\n",
    "            plt.close()  # Fermer la figure pour éviter l'affichage dans le notebook\n",
    "\n",
    "            # Sauvegarder et loguer la courbe ROC\n",
    "            fpr, tpr, _ = roc_curve(y_test, y_pred_proba)\n",
    "            plt.figure()\n",
    "            plt.plot(fpr, tpr, label=f\"ROC curve (AUC = {auc_score:.2f})\")\n",
    "            plt.xlabel(\"False Positive Rate\")\n",
    "            plt.ylabel(\"True Positive Rate\")\n",
    "            plt.title(\"ROC Curve\")\n",
    "            plt.legend(loc=\"best\")\n",
    "            roc_curve_path = f\"./matrice/roc_curve_cnn_filters={num_filters}_kernel={kernel_size}_dropout={dropout_rate}.png\"\n",
    "            plt.savefig(roc_curve_path)\n",
    "            mlflow.log_artifact(roc_curve_path)\n",
    "            plt.close()  # Fermer la figure pour éviter l'affichage dans le notebook\n",
    "\n",
    "            # Comparer pour garder le meilleur modèle\n",
    "            if accuracy > best_accuracy:\n",
    "                best_accuracy = accuracy\n",
    "                best_params = params\n",
    "                best_model = model\n",
    "\n",
    "    print(f\"Meilleurs paramètres : {best_params} avec une accuracy de {best_accuracy:.4f}\")\n",
    "\n",
    "    # Retourner le meilleur modèle\n",
    "    return best_model, best_params\n",
    "\n",
    "\n",
    "\n",
    "# GridSearch pour le modèle CNN avec les hyperparamètres supplémentaires\n",
    "param_grid_cnn = {\n",
    "    'num_filters': [64, 128, 256],   # Filtres à tester\n",
    "    'kernel_size': [3, 5],        # Tailles de kernel à tester\n",
    "    'dropout_rate': [0.2, 0.5],      # Dropout à tester\n",
    "    'activation_type': ['relu', 'leaky_relu', 'prelu']  # Activations à tester\n",
    "}"
   ]
  },
  {
   "cell_type": "markdown",
   "id": "109b012e-62a0-40a1-95db-7d0512cfbaa3",
   "metadata": {},
   "source": [
    "# 9 : Entrainement des modèles CNN"
   ]
  },
  {
   "cell_type": "code",
   "execution_count": 41,
   "id": "8dd500a6-a7c0-4050-a6a1-386bcd15c3f5",
   "metadata": {
    "scrolled": true
   },
   "outputs": [
    {
     "name": "stderr",
     "output_type": "stream",
     "text": [
      "WARNING:root:Malformed experiment 'matrice'. Detailed error Yaml file 'D:\\Master_Openclassroom\\Github\\projet7-op\\notebooks\\modèle_avancé\\mlruns\\matrice\\meta.yaml' does not exist.\n",
      "Traceback (most recent call last):\n",
      "  File \"D:\\Master_Openclassroom\\python\\Lib\\site-packages\\mlflow\\store\\tracking\\file_store.py\", line 327, in search_experiments\n",
      "    exp = self._get_experiment(exp_id, view_type)\n",
      "          ^^^^^^^^^^^^^^^^^^^^^^^^^^^^^^^^^^^^^^^\n",
      "  File \"D:\\Master_Openclassroom\\python\\Lib\\site-packages\\mlflow\\store\\tracking\\file_store.py\", line 421, in _get_experiment\n",
      "    meta = FileStore._read_yaml(experiment_dir, FileStore.META_DATA_FILE_NAME)\n",
      "           ^^^^^^^^^^^^^^^^^^^^^^^^^^^^^^^^^^^^^^^^^^^^^^^^^^^^^^^^^^^^^^^^^^^\n",
      "  File \"D:\\Master_Openclassroom\\python\\Lib\\site-packages\\mlflow\\store\\tracking\\file_store.py\", line 1367, in _read_yaml\n",
      "    return _read_helper(root, file_name, attempts_remaining=retries)\n",
      "           ^^^^^^^^^^^^^^^^^^^^^^^^^^^^^^^^^^^^^^^^^^^^^^^^^^^^^^^^^\n",
      "  File \"D:\\Master_Openclassroom\\python\\Lib\\site-packages\\mlflow\\store\\tracking\\file_store.py\", line 1360, in _read_helper\n",
      "    result = read_yaml(root, file_name)\n",
      "             ^^^^^^^^^^^^^^^^^^^^^^^^^^\n",
      "  File \"D:\\Master_Openclassroom\\python\\Lib\\site-packages\\mlflow\\utils\\file_utils.py\", line 309, in read_yaml\n",
      "    raise MissingConfigException(f\"Yaml file '{file_path}' does not exist.\")\n",
      "mlflow.exceptions.MissingConfigException: Yaml file 'D:\\Master_Openclassroom\\Github\\projet7-op\\notebooks\\modèle_avancé\\mlruns\\matrice\\meta.yaml' does not exist.\n"
     ]
    },
    {
     "name": "stdout",
     "output_type": "stream",
     "text": [
      "Epoch 1/20\n",
      "200/200 [==============================] - 12s 54ms/step - loss: 0.6688 - accuracy: 0.6392 - val_loss: 0.6532 - val_accuracy: 0.7163 - lr: 0.0010\n",
      "Epoch 2/20\n",
      "200/200 [==============================] - 11s 53ms/step - loss: 0.5128 - accuracy: 0.7484 - val_loss: 0.5739 - val_accuracy: 0.7437 - lr: 0.0010\n",
      "Epoch 3/20\n",
      "200/200 [==============================] - 11s 53ms/step - loss: 0.4514 - accuracy: 0.7874 - val_loss: 0.5181 - val_accuracy: 0.7478 - lr: 0.0010\n",
      "Epoch 4/20\n",
      "200/200 [==============================] - 11s 53ms/step - loss: 0.4048 - accuracy: 0.8176 - val_loss: 0.5325 - val_accuracy: 0.7422 - lr: 0.0010\n",
      "Epoch 5/20\n",
      "200/200 [==============================] - 11s 53ms/step - loss: 0.3535 - accuracy: 0.8430 - val_loss: 0.5510 - val_accuracy: 0.7444 - lr: 0.0010\n",
      "Epoch 6/20\n",
      "200/200 [==============================] - 11s 53ms/step - loss: 0.2395 - accuracy: 0.9042 - val_loss: 0.6714 - val_accuracy: 0.7372 - lr: 2.0000e-04\n",
      "Epoch 7/20\n",
      "200/200 [==============================] - 11s 53ms/step - loss: 0.1891 - accuracy: 0.9248 - val_loss: 0.7255 - val_accuracy: 0.7353 - lr: 2.0000e-04\n",
      "100/100 [==============================] - 1s 10ms/step\n",
      "100/100 [==============================] - 1s 10ms/step\n"
     ]
    },
    {
     "name": "stderr",
     "output_type": "stream",
     "text": [
      "2024/10/12 01:02:34 WARNING mlflow.tensorflow: You are saving a TensorFlow Core model or Keras model without a signature. Inference with mlflow.pyfunc.spark_udf() will not work unless the model's pyfunc representation accepts pandas DataFrames as inference inputs.\n",
      "WARNING:absl:Found untraced functions such as _jit_compiled_convolution_op, _update_step_xla while saving (showing 2 of 2). These functions will not be directly callable after loading.\n"
     ]
    },
    {
     "name": "stdout",
     "output_type": "stream",
     "text": [
      "INFO:tensorflow:Assets written to: C:\\Users\\trist\\AppData\\Local\\Temp\\tmp7f0ij5cy\\model\\data\\model\\assets\n"
     ]
    },
    {
     "name": "stderr",
     "output_type": "stream",
     "text": [
      "INFO:tensorflow:Assets written to: C:\\Users\\trist\\AppData\\Local\\Temp\\tmp7f0ij5cy\\model\\data\\model\\assets\n",
      "2024/10/12 01:02:41 WARNING mlflow.models.model: Model logged without a signature and input example. Please set `input_example` parameter when logging the model to auto infer the model signature.\n"
     ]
    },
    {
     "name": "stdout",
     "output_type": "stream",
     "text": [
      "Epoch 1/20\n",
      "200/200 [==============================] - 21s 100ms/step - loss: 0.6530 - accuracy: 0.6476 - val_loss: 0.6456 - val_accuracy: 0.7216 - lr: 0.0010\n",
      "Epoch 2/20\n",
      "200/200 [==============================] - 20s 99ms/step - loss: 0.4988 - accuracy: 0.7609 - val_loss: 0.5774 - val_accuracy: 0.7206 - lr: 0.0010\n",
      "Epoch 3/20\n",
      "200/200 [==============================] - 20s 100ms/step - loss: 0.4280 - accuracy: 0.8035 - val_loss: 0.5498 - val_accuracy: 0.7256 - lr: 0.0010\n",
      "Epoch 4/20\n",
      "200/200 [==============================] - 20s 100ms/step - loss: 0.3665 - accuracy: 0.8361 - val_loss: 0.5800 - val_accuracy: 0.7188 - lr: 0.0010\n",
      "Epoch 5/20\n",
      "200/200 [==============================] - 20s 99ms/step - loss: 0.2990 - accuracy: 0.8679 - val_loss: 0.6156 - val_accuracy: 0.7384 - lr: 0.0010\n",
      "Epoch 6/20\n",
      "200/200 [==============================] - 20s 100ms/step - loss: 0.1662 - accuracy: 0.9368 - val_loss: 0.8085 - val_accuracy: 0.7447 - lr: 2.0000e-04\n",
      "Epoch 7/20\n",
      "200/200 [==============================] - 20s 100ms/step - loss: 0.1127 - accuracy: 0.9579 - val_loss: 0.9152 - val_accuracy: 0.7412 - lr: 2.0000e-04\n",
      "100/100 [==============================] - 2s 18ms/step\n",
      "100/100 [==============================] - 2s 18ms/step\n"
     ]
    },
    {
     "name": "stderr",
     "output_type": "stream",
     "text": [
      "2024/10/12 01:05:06 WARNING mlflow.tensorflow: You are saving a TensorFlow Core model or Keras model without a signature. Inference with mlflow.pyfunc.spark_udf() will not work unless the model's pyfunc representation accepts pandas DataFrames as inference inputs.\n",
      "WARNING:absl:Found untraced functions such as _jit_compiled_convolution_op, _update_step_xla while saving (showing 2 of 2). These functions will not be directly callable after loading.\n"
     ]
    },
    {
     "name": "stdout",
     "output_type": "stream",
     "text": [
      "INFO:tensorflow:Assets written to: C:\\Users\\trist\\AppData\\Local\\Temp\\tmptbttiog0\\model\\data\\model\\assets\n"
     ]
    },
    {
     "name": "stderr",
     "output_type": "stream",
     "text": [
      "INFO:tensorflow:Assets written to: C:\\Users\\trist\\AppData\\Local\\Temp\\tmptbttiog0\\model\\data\\model\\assets\n",
      "2024/10/12 01:05:13 WARNING mlflow.models.model: Model logged without a signature and input example. Please set `input_example` parameter when logging the model to auto infer the model signature.\n"
     ]
    },
    {
     "name": "stdout",
     "output_type": "stream",
     "text": [
      "Epoch 1/20\n",
      "200/200 [==============================] - 36s 177ms/step - loss: 0.6712 - accuracy: 0.6453 - val_loss: 0.6611 - val_accuracy: 0.7347 - lr: 0.0010\n",
      "Epoch 2/20\n",
      "200/200 [==============================] - 35s 175ms/step - loss: 0.5013 - accuracy: 0.7545 - val_loss: 0.5837 - val_accuracy: 0.7531 - lr: 0.0010\n",
      "Epoch 3/20\n",
      "200/200 [==============================] - 35s 175ms/step - loss: 0.4348 - accuracy: 0.7965 - val_loss: 0.5377 - val_accuracy: 0.7319 - lr: 0.0010\n",
      "Epoch 4/20\n",
      "200/200 [==============================] - 35s 175ms/step - loss: 0.3579 - accuracy: 0.8409 - val_loss: 0.5117 - val_accuracy: 0.7538 - lr: 0.0010\n",
      "Epoch 5/20\n",
      "200/200 [==============================] - 35s 175ms/step - loss: 0.2811 - accuracy: 0.8789 - val_loss: 0.6175 - val_accuracy: 0.7466 - lr: 0.0010\n",
      "Epoch 6/20\n",
      "200/200 [==============================] - 35s 174ms/step - loss: 0.2331 - accuracy: 0.9014 - val_loss: 0.7457 - val_accuracy: 0.7487 - lr: 0.0010\n",
      "Epoch 7/20\n",
      "200/200 [==============================] - 35s 173ms/step - loss: 0.1241 - accuracy: 0.9527 - val_loss: 0.8767 - val_accuracy: 0.7434 - lr: 2.0000e-04\n",
      "Epoch 8/20\n",
      "200/200 [==============================] - 35s 173ms/step - loss: 0.0679 - accuracy: 0.9759 - val_loss: 1.0064 - val_accuracy: 0.7506 - lr: 2.0000e-04\n",
      "100/100 [==============================] - 3s 33ms/step\n",
      "100/100 [==============================] - 3s 33ms/step\n"
     ]
    },
    {
     "name": "stderr",
     "output_type": "stream",
     "text": [
      "2024/10/12 01:10:01 WARNING mlflow.tensorflow: You are saving a TensorFlow Core model or Keras model without a signature. Inference with mlflow.pyfunc.spark_udf() will not work unless the model's pyfunc representation accepts pandas DataFrames as inference inputs.\n",
      "WARNING:absl:Found untraced functions such as _jit_compiled_convolution_op, _update_step_xla while saving (showing 2 of 2). These functions will not be directly callable after loading.\n"
     ]
    },
    {
     "name": "stdout",
     "output_type": "stream",
     "text": [
      "INFO:tensorflow:Assets written to: C:\\Users\\trist\\AppData\\Local\\Temp\\tmpzeqf849j\\model\\data\\model\\assets\n"
     ]
    },
    {
     "name": "stderr",
     "output_type": "stream",
     "text": [
      "INFO:tensorflow:Assets written to: C:\\Users\\trist\\AppData\\Local\\Temp\\tmpzeqf849j\\model\\data\\model\\assets\n",
      "2024/10/12 01:10:09 WARNING mlflow.models.model: Model logged without a signature and input example. Please set `input_example` parameter when logging the model to auto infer the model signature.\n"
     ]
    },
    {
     "name": "stdout",
     "output_type": "stream",
     "text": [
      "Epoch 1/20\n",
      "200/200 [==============================] - 18s 84ms/step - loss: 0.6669 - accuracy: 0.6334 - val_loss: 0.6514 - val_accuracy: 0.7262 - lr: 0.0010\n",
      "Epoch 2/20\n",
      "200/200 [==============================] - 17s 83ms/step - loss: 0.5160 - accuracy: 0.7509 - val_loss: 0.5784 - val_accuracy: 0.7059 - lr: 0.0010\n",
      "Epoch 3/20\n",
      "200/200 [==============================] - 17s 83ms/step - loss: 0.4398 - accuracy: 0.7961 - val_loss: 0.5460 - val_accuracy: 0.7319 - lr: 0.0010\n",
      "Epoch 4/20\n",
      "200/200 [==============================] - 17s 83ms/step - loss: 0.3814 - accuracy: 0.8263 - val_loss: 0.5395 - val_accuracy: 0.7416 - lr: 0.0010\n",
      "Epoch 5/20\n",
      "200/200 [==============================] - 17s 83ms/step - loss: 0.3054 - accuracy: 0.8697 - val_loss: 0.6500 - val_accuracy: 0.7275 - lr: 0.0010\n",
      "Epoch 6/20\n",
      "200/200 [==============================] - 17s 83ms/step - loss: 0.2483 - accuracy: 0.8961 - val_loss: 0.7211 - val_accuracy: 0.7256 - lr: 0.0010\n",
      "Epoch 7/20\n",
      "200/200 [==============================] - 17s 83ms/step - loss: 0.1449 - accuracy: 0.9442 - val_loss: 0.8952 - val_accuracy: 0.7372 - lr: 2.0000e-04\n",
      "Epoch 8/20\n",
      "200/200 [==============================] - 17s 83ms/step - loss: 0.0894 - accuracy: 0.9677 - val_loss: 1.0181 - val_accuracy: 0.7387 - lr: 2.0000e-04\n",
      "100/100 [==============================] - 2s 18ms/step\n",
      "100/100 [==============================] - 2s 18ms/step\n"
     ]
    },
    {
     "name": "stderr",
     "output_type": "stream",
     "text": [
      "2024/10/12 01:12:27 WARNING mlflow.tensorflow: You are saving a TensorFlow Core model or Keras model without a signature. Inference with mlflow.pyfunc.spark_udf() will not work unless the model's pyfunc representation accepts pandas DataFrames as inference inputs.\n",
      "WARNING:absl:Found untraced functions such as _jit_compiled_convolution_op, _update_step_xla while saving (showing 2 of 2). These functions will not be directly callable after loading.\n"
     ]
    },
    {
     "name": "stdout",
     "output_type": "stream",
     "text": [
      "INFO:tensorflow:Assets written to: C:\\Users\\trist\\AppData\\Local\\Temp\\tmp2o8h9bts\\model\\data\\model\\assets\n"
     ]
    },
    {
     "name": "stderr",
     "output_type": "stream",
     "text": [
      "INFO:tensorflow:Assets written to: C:\\Users\\trist\\AppData\\Local\\Temp\\tmp2o8h9bts\\model\\data\\model\\assets\n",
      "2024/10/12 01:12:34 WARNING mlflow.models.model: Model logged without a signature and input example. Please set `input_example` parameter when logging the model to auto infer the model signature.\n"
     ]
    },
    {
     "name": "stdout",
     "output_type": "stream",
     "text": [
      "Epoch 1/20\n",
      "200/200 [==============================] - 25s 122ms/step - loss: 0.6525 - accuracy: 0.6455 - val_loss: 0.6555 - val_accuracy: 0.7113 - lr: 0.0010\n",
      "Epoch 2/20\n",
      "200/200 [==============================] - 24s 122ms/step - loss: 0.4956 - accuracy: 0.7573 - val_loss: 0.5925 - val_accuracy: 0.7356 - lr: 0.0010\n",
      "Epoch 3/20\n",
      "200/200 [==============================] - 25s 124ms/step - loss: 0.4108 - accuracy: 0.8127 - val_loss: 0.5288 - val_accuracy: 0.7378 - lr: 0.0010\n",
      "Epoch 4/20\n",
      "200/200 [==============================] - 25s 124ms/step - loss: 0.3265 - accuracy: 0.8544 - val_loss: 0.5980 - val_accuracy: 0.7269 - lr: 0.0010\n",
      "Epoch 5/20\n",
      "200/200 [==============================] - 25s 124ms/step - loss: 0.2517 - accuracy: 0.8956 - val_loss: 0.6885 - val_accuracy: 0.7262 - lr: 0.0010\n",
      "Epoch 6/20\n",
      "200/200 [==============================] - 25s 124ms/step - loss: 0.1263 - accuracy: 0.9547 - val_loss: 0.8808 - val_accuracy: 0.7378 - lr: 2.0000e-04\n",
      "Epoch 7/20\n",
      "200/200 [==============================] - 25s 124ms/step - loss: 0.0706 - accuracy: 0.9759 - val_loss: 1.1226 - val_accuracy: 0.7384 - lr: 2.0000e-04\n",
      "100/100 [==============================] - 3s 26ms/step\n",
      "100/100 [==============================] - 3s 25ms/step\n"
     ]
    },
    {
     "name": "stderr",
     "output_type": "stream",
     "text": [
      "2024/10/12 01:15:34 WARNING mlflow.tensorflow: You are saving a TensorFlow Core model or Keras model without a signature. Inference with mlflow.pyfunc.spark_udf() will not work unless the model's pyfunc representation accepts pandas DataFrames as inference inputs.\n",
      "WARNING:absl:Found untraced functions such as _jit_compiled_convolution_op, _update_step_xla while saving (showing 2 of 2). These functions will not be directly callable after loading.\n"
     ]
    },
    {
     "name": "stdout",
     "output_type": "stream",
     "text": [
      "INFO:tensorflow:Assets written to: C:\\Users\\trist\\AppData\\Local\\Temp\\tmpfg_h4xsy\\model\\data\\model\\assets\n"
     ]
    },
    {
     "name": "stderr",
     "output_type": "stream",
     "text": [
      "INFO:tensorflow:Assets written to: C:\\Users\\trist\\AppData\\Local\\Temp\\tmpfg_h4xsy\\model\\data\\model\\assets\n",
      "2024/10/12 01:15:41 WARNING mlflow.models.model: Model logged without a signature and input example. Please set `input_example` parameter when logging the model to auto infer the model signature.\n"
     ]
    },
    {
     "name": "stdout",
     "output_type": "stream",
     "text": [
      "Epoch 1/20\n",
      "200/200 [==============================] - 46s 224ms/step - loss: 0.6842 - accuracy: 0.6427 - val_loss: 0.6437 - val_accuracy: 0.7300 - lr: 0.0010\n",
      "Epoch 2/20\n",
      "200/200 [==============================] - 45s 223ms/step - loss: 0.5028 - accuracy: 0.7539 - val_loss: 0.5648 - val_accuracy: 0.7447 - lr: 0.0010\n",
      "Epoch 3/20\n",
      "200/200 [==============================] - 45s 223ms/step - loss: 0.4065 - accuracy: 0.8121 - val_loss: 0.5189 - val_accuracy: 0.7428 - lr: 0.0010\n",
      "Epoch 4/20\n",
      "200/200 [==============================] - 45s 224ms/step - loss: 0.3237 - accuracy: 0.8573 - val_loss: 0.5589 - val_accuracy: 0.7422 - lr: 0.0010\n",
      "Epoch 5/20\n",
      "200/200 [==============================] - 44s 221ms/step - loss: 0.2450 - accuracy: 0.8970 - val_loss: 0.6569 - val_accuracy: 0.7406 - lr: 0.0010\n",
      "Epoch 6/20\n",
      "200/200 [==============================] - 44s 222ms/step - loss: 0.1266 - accuracy: 0.9516 - val_loss: 0.8511 - val_accuracy: 0.7447 - lr: 2.0000e-04\n",
      "Epoch 7/20\n",
      "200/200 [==============================] - 44s 221ms/step - loss: 0.0726 - accuracy: 0.9713 - val_loss: 0.9249 - val_accuracy: 0.7409 - lr: 2.0000e-04\n",
      "100/100 [==============================] - 5s 45ms/step\n",
      "100/100 [==============================] - 5s 45ms/step\n"
     ]
    },
    {
     "name": "stderr",
     "output_type": "stream",
     "text": [
      "2024/10/12 01:21:04 WARNING mlflow.tensorflow: You are saving a TensorFlow Core model or Keras model without a signature. Inference with mlflow.pyfunc.spark_udf() will not work unless the model's pyfunc representation accepts pandas DataFrames as inference inputs.\n",
      "WARNING:absl:Found untraced functions such as _jit_compiled_convolution_op, _update_step_xla while saving (showing 2 of 2). These functions will not be directly callable after loading.\n"
     ]
    },
    {
     "name": "stdout",
     "output_type": "stream",
     "text": [
      "INFO:tensorflow:Assets written to: C:\\Users\\trist\\AppData\\Local\\Temp\\tmpadvd1xa8\\model\\data\\model\\assets\n"
     ]
    },
    {
     "name": "stderr",
     "output_type": "stream",
     "text": [
      "INFO:tensorflow:Assets written to: C:\\Users\\trist\\AppData\\Local\\Temp\\tmpadvd1xa8\\model\\data\\model\\assets\n",
      "2024/10/12 01:21:16 WARNING mlflow.models.model: Model logged without a signature and input example. Please set `input_example` parameter when logging the model to auto infer the model signature.\n"
     ]
    },
    {
     "name": "stdout",
     "output_type": "stream",
     "text": [
      "Epoch 1/20\n",
      "200/200 [==============================] - 13s 61ms/step - loss: 0.7700 - accuracy: 0.5672 - val_loss: 0.6744 - val_accuracy: 0.6697 - lr: 0.0010\n",
      "Epoch 2/20\n",
      "200/200 [==============================] - 12s 60ms/step - loss: 0.5837 - accuracy: 0.6959 - val_loss: 0.6014 - val_accuracy: 0.7316 - lr: 0.0010\n",
      "Epoch 3/20\n",
      "200/200 [==============================] - 12s 60ms/step - loss: 0.5209 - accuracy: 0.7491 - val_loss: 0.5309 - val_accuracy: 0.7444 - lr: 0.0010\n",
      "Epoch 4/20\n",
      "200/200 [==============================] - 12s 60ms/step - loss: 0.4687 - accuracy: 0.7843 - val_loss: 0.5159 - val_accuracy: 0.7425 - lr: 0.0010\n",
      "Epoch 5/20\n",
      "200/200 [==============================] - 12s 60ms/step - loss: 0.4293 - accuracy: 0.8045 - val_loss: 0.5248 - val_accuracy: 0.7456 - lr: 0.0010\n",
      "Epoch 6/20\n",
      "200/200 [==============================] - 12s 59ms/step - loss: 0.3950 - accuracy: 0.8235 - val_loss: 0.5439 - val_accuracy: 0.7428 - lr: 0.0010\n",
      "Epoch 7/20\n",
      "200/200 [==============================] - 12s 60ms/step - loss: 0.3220 - accuracy: 0.8655 - val_loss: 0.5671 - val_accuracy: 0.7391 - lr: 2.0000e-04\n",
      "Epoch 8/20\n",
      "200/200 [==============================] - 12s 60ms/step - loss: 0.2720 - accuracy: 0.8862 - val_loss: 0.6211 - val_accuracy: 0.7372 - lr: 2.0000e-04\n",
      "100/100 [==============================] - 1s 11ms/step\n",
      "100/100 [==============================] - 1s 11ms/step\n"
     ]
    },
    {
     "name": "stderr",
     "output_type": "stream",
     "text": [
      "2024/10/12 01:22:56 WARNING mlflow.tensorflow: You are saving a TensorFlow Core model or Keras model without a signature. Inference with mlflow.pyfunc.spark_udf() will not work unless the model's pyfunc representation accepts pandas DataFrames as inference inputs.\n",
      "WARNING:absl:Found untraced functions such as _jit_compiled_convolution_op, _update_step_xla while saving (showing 2 of 2). These functions will not be directly callable after loading.\n"
     ]
    },
    {
     "name": "stdout",
     "output_type": "stream",
     "text": [
      "INFO:tensorflow:Assets written to: C:\\Users\\trist\\AppData\\Local\\Temp\\tmpfismikug\\model\\data\\model\\assets\n"
     ]
    },
    {
     "name": "stderr",
     "output_type": "stream",
     "text": [
      "INFO:tensorflow:Assets written to: C:\\Users\\trist\\AppData\\Local\\Temp\\tmpfismikug\\model\\data\\model\\assets\n",
      "2024/10/12 01:23:03 WARNING mlflow.models.model: Model logged without a signature and input example. Please set `input_example` parameter when logging the model to auto infer the model signature.\n"
     ]
    },
    {
     "name": "stdout",
     "output_type": "stream",
     "text": [
      "Epoch 1/20\n",
      "200/200 [==============================] - 18s 88ms/step - loss: 0.7959 - accuracy: 0.5704 - val_loss: 0.6737 - val_accuracy: 0.7116 - lr: 0.0010\n",
      "Epoch 2/20\n",
      "200/200 [==============================] - 17s 87ms/step - loss: 0.5873 - accuracy: 0.6799 - val_loss: 0.5879 - val_accuracy: 0.7212 - lr: 0.0010\n",
      "Epoch 3/20\n",
      "200/200 [==============================] - 17s 87ms/step - loss: 0.5309 - accuracy: 0.7283 - val_loss: 0.5426 - val_accuracy: 0.7444 - lr: 0.0010\n",
      "Epoch 4/20\n",
      "200/200 [==============================] - 17s 87ms/step - loss: 0.4843 - accuracy: 0.7657 - val_loss: 0.5056 - val_accuracy: 0.7572 - lr: 0.0010\n",
      "Epoch 5/20\n",
      "200/200 [==============================] - 17s 87ms/step - loss: 0.4390 - accuracy: 0.7927 - val_loss: 0.5110 - val_accuracy: 0.7516 - lr: 0.0010\n",
      "Epoch 6/20\n",
      "200/200 [==============================] - 17s 87ms/step - loss: 0.3985 - accuracy: 0.8134 - val_loss: 0.5344 - val_accuracy: 0.7484 - lr: 0.0010\n",
      "Epoch 7/20\n",
      "200/200 [==============================] - 17s 87ms/step - loss: 0.3139 - accuracy: 0.8605 - val_loss: 0.5407 - val_accuracy: 0.7588 - lr: 2.0000e-04\n",
      "Epoch 8/20\n",
      "200/200 [==============================] - 17s 87ms/step - loss: 0.2777 - accuracy: 0.8773 - val_loss: 0.5699 - val_accuracy: 0.7541 - lr: 2.0000e-04\n",
      "100/100 [==============================] - 2s 15ms/step\n",
      "100/100 [==============================] - 2s 16ms/step\n"
     ]
    },
    {
     "name": "stderr",
     "output_type": "stream",
     "text": [
      "2024/10/12 01:25:28 WARNING mlflow.tensorflow: You are saving a TensorFlow Core model or Keras model without a signature. Inference with mlflow.pyfunc.spark_udf() will not work unless the model's pyfunc representation accepts pandas DataFrames as inference inputs.\n",
      "WARNING:absl:Found untraced functions such as _jit_compiled_convolution_op, _update_step_xla while saving (showing 2 of 2). These functions will not be directly callable after loading.\n"
     ]
    },
    {
     "name": "stdout",
     "output_type": "stream",
     "text": [
      "INFO:tensorflow:Assets written to: C:\\Users\\trist\\AppData\\Local\\Temp\\tmp6pyvxad2\\model\\data\\model\\assets\n"
     ]
    },
    {
     "name": "stderr",
     "output_type": "stream",
     "text": [
      "INFO:tensorflow:Assets written to: C:\\Users\\trist\\AppData\\Local\\Temp\\tmp6pyvxad2\\model\\data\\model\\assets\n",
      "2024/10/12 01:25:35 WARNING mlflow.models.model: Model logged without a signature and input example. Please set `input_example` parameter when logging the model to auto infer the model signature.\n"
     ]
    },
    {
     "name": "stdout",
     "output_type": "stream",
     "text": [
      "Epoch 1/20\n",
      "200/200 [==============================] - 34s 163ms/step - loss: 0.7567 - accuracy: 0.5655 - val_loss: 0.6747 - val_accuracy: 0.5544 - lr: 0.0010\n",
      "Epoch 2/20\n",
      "200/200 [==============================] - 32s 162ms/step - loss: 0.6066 - accuracy: 0.6613 - val_loss: 0.6080 - val_accuracy: 0.7025 - lr: 0.0010\n",
      "Epoch 3/20\n",
      "200/200 [==============================] - 32s 162ms/step - loss: 0.5404 - accuracy: 0.7336 - val_loss: 0.5703 - val_accuracy: 0.7150 - lr: 0.0010\n",
      "Epoch 4/20\n",
      "200/200 [==============================] - 32s 162ms/step - loss: 0.5008 - accuracy: 0.7591 - val_loss: 0.5084 - val_accuracy: 0.7569 - lr: 0.0010\n",
      "Epoch 5/20\n",
      "200/200 [==============================] - 32s 162ms/step - loss: 0.4512 - accuracy: 0.7891 - val_loss: 0.5098 - val_accuracy: 0.7497 - lr: 0.0010\n",
      "Epoch 6/20\n",
      "200/200 [==============================] - 32s 161ms/step - loss: 0.4008 - accuracy: 0.8142 - val_loss: 0.5156 - val_accuracy: 0.7487 - lr: 0.0010\n",
      "Epoch 7/20\n",
      "200/200 [==============================] - 32s 160ms/step - loss: 0.3202 - accuracy: 0.8540 - val_loss: 0.5449 - val_accuracy: 0.7506 - lr: 2.0000e-04\n",
      "Epoch 8/20\n",
      "200/200 [==============================] - 32s 160ms/step - loss: 0.2598 - accuracy: 0.8866 - val_loss: 0.5736 - val_accuracy: 0.7466 - lr: 2.0000e-04\n",
      "100/100 [==============================] - 3s 30ms/step\n",
      "100/100 [==============================] - 3s 30ms/step\n"
     ]
    },
    {
     "name": "stderr",
     "output_type": "stream",
     "text": [
      "2024/10/12 01:30:02 WARNING mlflow.tensorflow: You are saving a TensorFlow Core model or Keras model without a signature. Inference with mlflow.pyfunc.spark_udf() will not work unless the model's pyfunc representation accepts pandas DataFrames as inference inputs.\n",
      "WARNING:absl:Found untraced functions such as _jit_compiled_convolution_op, _update_step_xla while saving (showing 2 of 2). These functions will not be directly callable after loading.\n"
     ]
    },
    {
     "name": "stdout",
     "output_type": "stream",
     "text": [
      "INFO:tensorflow:Assets written to: C:\\Users\\trist\\AppData\\Local\\Temp\\tmp5p5x5l3i\\model\\data\\model\\assets\n"
     ]
    },
    {
     "name": "stderr",
     "output_type": "stream",
     "text": [
      "INFO:tensorflow:Assets written to: C:\\Users\\trist\\AppData\\Local\\Temp\\tmp5p5x5l3i\\model\\data\\model\\assets\n",
      "2024/10/12 01:30:09 WARNING mlflow.models.model: Model logged without a signature and input example. Please set `input_example` parameter when logging the model to auto infer the model signature.\n"
     ]
    },
    {
     "name": "stdout",
     "output_type": "stream",
     "text": [
      "Epoch 1/20\n",
      "200/200 [==============================] - 16s 76ms/step - loss: 0.8091 - accuracy: 0.5514 - val_loss: 0.6807 - val_accuracy: 0.6762 - lr: 0.0010\n",
      "Epoch 2/20\n",
      "200/200 [==============================] - 15s 75ms/step - loss: 0.6020 - accuracy: 0.6748 - val_loss: 0.6035 - val_accuracy: 0.7275 - lr: 0.0010\n",
      "Epoch 3/20\n",
      "200/200 [==============================] - 15s 75ms/step - loss: 0.5290 - accuracy: 0.7445 - val_loss: 0.5497 - val_accuracy: 0.7297 - lr: 0.0010\n",
      "Epoch 4/20\n",
      "200/200 [==============================] - 15s 75ms/step - loss: 0.4736 - accuracy: 0.7782 - val_loss: 0.5167 - val_accuracy: 0.7478 - lr: 0.0010\n",
      "Epoch 5/20\n",
      "200/200 [==============================] - 15s 75ms/step - loss: 0.4269 - accuracy: 0.8080 - val_loss: 0.5496 - val_accuracy: 0.7181 - lr: 0.0010\n",
      "Epoch 6/20\n",
      "200/200 [==============================] - 15s 75ms/step - loss: 0.3706 - accuracy: 0.8386 - val_loss: 0.5662 - val_accuracy: 0.7422 - lr: 0.0010\n",
      "Epoch 7/20\n",
      "200/200 [==============================] - 15s 75ms/step - loss: 0.2619 - accuracy: 0.8957 - val_loss: 0.6272 - val_accuracy: 0.7419 - lr: 2.0000e-04\n",
      "Epoch 8/20\n",
      "200/200 [==============================] - 15s 75ms/step - loss: 0.2117 - accuracy: 0.9205 - val_loss: 0.7223 - val_accuracy: 0.7347 - lr: 2.0000e-04\n",
      "100/100 [==============================] - 2s 16ms/step\n",
      "100/100 [==============================] - 2s 16ms/step\n"
     ]
    },
    {
     "name": "stderr",
     "output_type": "stream",
     "text": [
      "2024/10/12 01:32:14 WARNING mlflow.tensorflow: You are saving a TensorFlow Core model or Keras model without a signature. Inference with mlflow.pyfunc.spark_udf() will not work unless the model's pyfunc representation accepts pandas DataFrames as inference inputs.\n",
      "WARNING:absl:Found untraced functions such as _jit_compiled_convolution_op, _update_step_xla while saving (showing 2 of 2). These functions will not be directly callable after loading.\n"
     ]
    },
    {
     "name": "stdout",
     "output_type": "stream",
     "text": [
      "INFO:tensorflow:Assets written to: C:\\Users\\trist\\AppData\\Local\\Temp\\tmpupa_7cwk\\model\\data\\model\\assets\n"
     ]
    },
    {
     "name": "stderr",
     "output_type": "stream",
     "text": [
      "INFO:tensorflow:Assets written to: C:\\Users\\trist\\AppData\\Local\\Temp\\tmpupa_7cwk\\model\\data\\model\\assets\n",
      "2024/10/12 01:32:21 WARNING mlflow.models.model: Model logged without a signature and input example. Please set `input_example` parameter when logging the model to auto infer the model signature.\n"
     ]
    },
    {
     "name": "stdout",
     "output_type": "stream",
     "text": [
      "Epoch 1/20\n",
      "200/200 [==============================] - 23s 112ms/step - loss: 0.8492 - accuracy: 0.5745 - val_loss: 0.6759 - val_accuracy: 0.6594 - lr: 0.0010\n",
      "Epoch 2/20\n",
      "200/200 [==============================] - 22s 110ms/step - loss: 0.5865 - accuracy: 0.6898 - val_loss: 0.6070 - val_accuracy: 0.7262 - lr: 0.0010\n",
      "Epoch 3/20\n",
      "200/200 [==============================] - 22s 110ms/step - loss: 0.5220 - accuracy: 0.7383 - val_loss: 0.5382 - val_accuracy: 0.7384 - lr: 0.0010\n",
      "Epoch 4/20\n",
      "200/200 [==============================] - 22s 111ms/step - loss: 0.4586 - accuracy: 0.7835 - val_loss: 0.5199 - val_accuracy: 0.7406 - lr: 0.0010\n",
      "Epoch 5/20\n",
      "200/200 [==============================] - 22s 111ms/step - loss: 0.4070 - accuracy: 0.8173 - val_loss: 0.5307 - val_accuracy: 0.7347 - lr: 0.0010\n",
      "Epoch 6/20\n",
      "200/200 [==============================] - 22s 111ms/step - loss: 0.3560 - accuracy: 0.8431 - val_loss: 0.5731 - val_accuracy: 0.7322 - lr: 0.0010\n",
      "Epoch 7/20\n",
      "200/200 [==============================] - 22s 111ms/step - loss: 0.2458 - accuracy: 0.9026 - val_loss: 0.6434 - val_accuracy: 0.7456 - lr: 2.0000e-04\n",
      "Epoch 8/20\n",
      "200/200 [==============================] - 22s 111ms/step - loss: 0.1826 - accuracy: 0.9300 - val_loss: 0.7104 - val_accuracy: 0.7384 - lr: 2.0000e-04\n",
      "100/100 [==============================] - 2s 23ms/step\n",
      "100/100 [==============================] - 2s 23ms/step\n"
     ]
    },
    {
     "name": "stderr",
     "output_type": "stream",
     "text": [
      "2024/10/12 01:35:25 WARNING mlflow.tensorflow: You are saving a TensorFlow Core model or Keras model without a signature. Inference with mlflow.pyfunc.spark_udf() will not work unless the model's pyfunc representation accepts pandas DataFrames as inference inputs.\n",
      "WARNING:absl:Found untraced functions such as _jit_compiled_convolution_op, _update_step_xla while saving (showing 2 of 2). These functions will not be directly callable after loading.\n"
     ]
    },
    {
     "name": "stdout",
     "output_type": "stream",
     "text": [
      "INFO:tensorflow:Assets written to: C:\\Users\\trist\\AppData\\Local\\Temp\\tmpz88jalk3\\model\\data\\model\\assets\n"
     ]
    },
    {
     "name": "stderr",
     "output_type": "stream",
     "text": [
      "INFO:tensorflow:Assets written to: C:\\Users\\trist\\AppData\\Local\\Temp\\tmpz88jalk3\\model\\data\\model\\assets\n",
      "2024/10/12 01:35:32 WARNING mlflow.models.model: Model logged without a signature and input example. Please set `input_example` parameter when logging the model to auto infer the model signature.\n"
     ]
    },
    {
     "name": "stdout",
     "output_type": "stream",
     "text": [
      "Epoch 1/20\n",
      "200/200 [==============================] - 43s 209ms/step - loss: 0.7770 - accuracy: 0.5692 - val_loss: 0.6781 - val_accuracy: 0.6413 - lr: 0.0010\n",
      "Epoch 2/20\n",
      "200/200 [==============================] - 42s 208ms/step - loss: 0.5948 - accuracy: 0.6837 - val_loss: 0.6251 - val_accuracy: 0.7088 - lr: 0.0010\n",
      "Epoch 3/20\n",
      "200/200 [==============================] - 42s 208ms/step - loss: 0.5316 - accuracy: 0.7378 - val_loss: 0.5644 - val_accuracy: 0.7397 - lr: 0.0010\n",
      "Epoch 4/20\n",
      "200/200 [==============================] - 42s 208ms/step - loss: 0.4730 - accuracy: 0.7713 - val_loss: 0.5205 - val_accuracy: 0.7441 - lr: 0.0010\n",
      "Epoch 5/20\n",
      "200/200 [==============================] - 41s 206ms/step - loss: 0.4125 - accuracy: 0.8081 - val_loss: 0.5127 - val_accuracy: 0.7472 - lr: 0.0010\n",
      "Epoch 6/20\n",
      "200/200 [==============================] - 41s 205ms/step - loss: 0.3528 - accuracy: 0.8436 - val_loss: 0.6027 - val_accuracy: 0.7241 - lr: 0.0010\n",
      "Epoch 7/20\n",
      "200/200 [==============================] - 41s 206ms/step - loss: 0.3068 - accuracy: 0.8617 - val_loss: 0.5693 - val_accuracy: 0.7453 - lr: 0.0010\n",
      "Epoch 8/20\n",
      "200/200 [==============================] - 41s 206ms/step - loss: 0.2079 - accuracy: 0.9125 - val_loss: 0.6358 - val_accuracy: 0.7469 - lr: 2.0000e-04\n",
      "Epoch 9/20\n",
      "200/200 [==============================] - 41s 206ms/step - loss: 0.1508 - accuracy: 0.9391 - val_loss: 0.6970 - val_accuracy: 0.7484 - lr: 2.0000e-04\n",
      "100/100 [==============================] - 4s 41ms/step\n",
      "100/100 [==============================] - 4s 41ms/step\n"
     ]
    },
    {
     "name": "stderr",
     "output_type": "stream",
     "text": [
      "2024/10/12 01:41:55 WARNING mlflow.tensorflow: You are saving a TensorFlow Core model or Keras model without a signature. Inference with mlflow.pyfunc.spark_udf() will not work unless the model's pyfunc representation accepts pandas DataFrames as inference inputs.\n",
      "WARNING:absl:Found untraced functions such as _jit_compiled_convolution_op, _update_step_xla while saving (showing 2 of 2). These functions will not be directly callable after loading.\n"
     ]
    },
    {
     "name": "stdout",
     "output_type": "stream",
     "text": [
      "INFO:tensorflow:Assets written to: C:\\Users\\trist\\AppData\\Local\\Temp\\tmp4_4lkewj\\model\\data\\model\\assets\n"
     ]
    },
    {
     "name": "stderr",
     "output_type": "stream",
     "text": [
      "INFO:tensorflow:Assets written to: C:\\Users\\trist\\AppData\\Local\\Temp\\tmp4_4lkewj\\model\\data\\model\\assets\n",
      "2024/10/12 01:42:02 WARNING mlflow.models.model: Model logged without a signature and input example. Please set `input_example` parameter when logging the model to auto infer the model signature.\n"
     ]
    },
    {
     "name": "stdout",
     "output_type": "stream",
     "text": [
      "Epoch 1/20\n",
      "200/200 [==============================] - 12s 54ms/step - loss: 0.6435 - accuracy: 0.6518 - val_loss: 0.6541 - val_accuracy: 0.7287 - lr: 0.0010\n",
      "Epoch 2/20\n",
      "200/200 [==============================] - 11s 53ms/step - loss: 0.5000 - accuracy: 0.7596 - val_loss: 0.5649 - val_accuracy: 0.7434 - lr: 0.0010\n",
      "Epoch 3/20\n",
      "200/200 [==============================] - 11s 53ms/step - loss: 0.4495 - accuracy: 0.7916 - val_loss: 0.5305 - val_accuracy: 0.7362 - lr: 0.0010\n",
      "Epoch 4/20\n",
      "200/200 [==============================] - 11s 53ms/step - loss: 0.3941 - accuracy: 0.8192 - val_loss: 0.5122 - val_accuracy: 0.7478 - lr: 0.0010\n",
      "Epoch 5/20\n",
      "200/200 [==============================] - 11s 53ms/step - loss: 0.3442 - accuracy: 0.8453 - val_loss: 0.6019 - val_accuracy: 0.7319 - lr: 0.0010\n",
      "Epoch 6/20\n",
      "200/200 [==============================] - 11s 53ms/step - loss: 0.2893 - accuracy: 0.8765 - val_loss: 0.6404 - val_accuracy: 0.7384 - lr: 0.0010\n",
      "Epoch 7/20\n",
      "200/200 [==============================] - 11s 53ms/step - loss: 0.1740 - accuracy: 0.9280 - val_loss: 0.8615 - val_accuracy: 0.7316 - lr: 2.0000e-04\n",
      "Epoch 8/20\n",
      "200/200 [==============================] - 11s 53ms/step - loss: 0.1216 - accuracy: 0.9523 - val_loss: 0.9944 - val_accuracy: 0.7284 - lr: 2.0000e-04\n",
      "100/100 [==============================] - 1s 10ms/step\n",
      "100/100 [==============================] - 1s 10ms/step\n"
     ]
    },
    {
     "name": "stderr",
     "output_type": "stream",
     "text": [
      "2024/10/12 01:43:31 WARNING mlflow.tensorflow: You are saving a TensorFlow Core model or Keras model without a signature. Inference with mlflow.pyfunc.spark_udf() will not work unless the model's pyfunc representation accepts pandas DataFrames as inference inputs.\n",
      "WARNING:absl:Found untraced functions such as _jit_compiled_convolution_op, _update_step_xla while saving (showing 2 of 2). These functions will not be directly callable after loading.\n"
     ]
    },
    {
     "name": "stdout",
     "output_type": "stream",
     "text": [
      "INFO:tensorflow:Assets written to: C:\\Users\\trist\\AppData\\Local\\Temp\\tmp0hgkgw_k\\model\\data\\model\\assets\n"
     ]
    },
    {
     "name": "stderr",
     "output_type": "stream",
     "text": [
      "INFO:tensorflow:Assets written to: C:\\Users\\trist\\AppData\\Local\\Temp\\tmp0hgkgw_k\\model\\data\\model\\assets\n",
      "2024/10/12 01:43:39 WARNING mlflow.models.model: Model logged without a signature and input example. Please set `input_example` parameter when logging the model to auto infer the model signature.\n"
     ]
    },
    {
     "name": "stdout",
     "output_type": "stream",
     "text": [
      "Epoch 1/20\n",
      "200/200 [==============================] - 17s 83ms/step - loss: 0.6866 - accuracy: 0.6424 - val_loss: 0.6620 - val_accuracy: 0.7138 - lr: 0.0010\n",
      "Epoch 2/20\n",
      "200/200 [==============================] - 16s 81ms/step - loss: 0.5040 - accuracy: 0.7546 - val_loss: 0.5895 - val_accuracy: 0.7219 - lr: 0.0010\n",
      "Epoch 3/20\n",
      "200/200 [==============================] - 16s 82ms/step - loss: 0.4414 - accuracy: 0.7935 - val_loss: 0.5086 - val_accuracy: 0.7572 - lr: 0.0010\n",
      "Epoch 4/20\n",
      "200/200 [==============================] - 16s 82ms/step - loss: 0.3810 - accuracy: 0.8291 - val_loss: 0.5774 - val_accuracy: 0.7272 - lr: 0.0010\n",
      "Epoch 5/20\n",
      "200/200 [==============================] - 16s 82ms/step - loss: 0.3218 - accuracy: 0.8611 - val_loss: 0.5804 - val_accuracy: 0.7472 - lr: 0.0010\n",
      "Epoch 6/20\n",
      "200/200 [==============================] - 16s 82ms/step - loss: 0.1936 - accuracy: 0.9214 - val_loss: 0.7247 - val_accuracy: 0.7472 - lr: 2.0000e-04\n",
      "Epoch 7/20\n",
      "200/200 [==============================] - 16s 82ms/step - loss: 0.1314 - accuracy: 0.9484 - val_loss: 0.8635 - val_accuracy: 0.7456 - lr: 2.0000e-04\n",
      "100/100 [==============================] - 1s 14ms/step\n",
      "100/100 [==============================] - 1s 14ms/step\n"
     ]
    },
    {
     "name": "stderr",
     "output_type": "stream",
     "text": [
      "2024/10/12 01:45:38 WARNING mlflow.tensorflow: You are saving a TensorFlow Core model or Keras model without a signature. Inference with mlflow.pyfunc.spark_udf() will not work unless the model's pyfunc representation accepts pandas DataFrames as inference inputs.\n",
      "WARNING:absl:Found untraced functions such as _jit_compiled_convolution_op, _update_step_xla while saving (showing 2 of 2). These functions will not be directly callable after loading.\n"
     ]
    },
    {
     "name": "stdout",
     "output_type": "stream",
     "text": [
      "INFO:tensorflow:Assets written to: C:\\Users\\trist\\AppData\\Local\\Temp\\tmpwmycy_oc\\model\\data\\model\\assets\n"
     ]
    },
    {
     "name": "stderr",
     "output_type": "stream",
     "text": [
      "INFO:tensorflow:Assets written to: C:\\Users\\trist\\AppData\\Local\\Temp\\tmpwmycy_oc\\model\\data\\model\\assets\n",
      "2024/10/12 01:45:45 WARNING mlflow.models.model: Model logged without a signature and input example. Please set `input_example` parameter when logging the model to auto infer the model signature.\n"
     ]
    },
    {
     "name": "stdout",
     "output_type": "stream",
     "text": [
      "Epoch 1/20\n",
      "200/200 [==============================] - 29s 143ms/step - loss: 0.6620 - accuracy: 0.6522 - val_loss: 0.6545 - val_accuracy: 0.7331 - lr: 0.0010\n",
      "Epoch 2/20\n",
      "200/200 [==============================] - 28s 141ms/step - loss: 0.4943 - accuracy: 0.7616 - val_loss: 0.5659 - val_accuracy: 0.7406 - lr: 0.0010\n",
      "Epoch 3/20\n",
      "200/200 [==============================] - 28s 141ms/step - loss: 0.4138 - accuracy: 0.8102 - val_loss: 0.5405 - val_accuracy: 0.7163 - lr: 0.0010\n",
      "Epoch 4/20\n",
      "200/200 [==============================] - 28s 141ms/step - loss: 0.3360 - accuracy: 0.8524 - val_loss: 0.5491 - val_accuracy: 0.7434 - lr: 0.0010\n",
      "Epoch 5/20\n",
      "200/200 [==============================] - 28s 141ms/step - loss: 0.2576 - accuracy: 0.8916 - val_loss: 0.7031 - val_accuracy: 0.7266 - lr: 0.0010\n",
      "Epoch 6/20\n",
      "200/200 [==============================] - 28s 141ms/step - loss: 0.1289 - accuracy: 0.9532 - val_loss: 0.8439 - val_accuracy: 0.7453 - lr: 2.0000e-04\n",
      "Epoch 7/20\n",
      "200/200 [==============================] - 28s 141ms/step - loss: 0.0716 - accuracy: 0.9752 - val_loss: 1.0575 - val_accuracy: 0.7491 - lr: 2.0000e-04\n",
      "100/100 [==============================] - 3s 26ms/step\n",
      "100/100 [==============================] - 3s 26ms/step\n"
     ]
    },
    {
     "name": "stderr",
     "output_type": "stream",
     "text": [
      "2024/10/12 01:49:10 WARNING mlflow.tensorflow: You are saving a TensorFlow Core model or Keras model without a signature. Inference with mlflow.pyfunc.spark_udf() will not work unless the model's pyfunc representation accepts pandas DataFrames as inference inputs.\n",
      "WARNING:absl:Found untraced functions such as _jit_compiled_convolution_op, _update_step_xla while saving (showing 2 of 2). These functions will not be directly callable after loading.\n"
     ]
    },
    {
     "name": "stdout",
     "output_type": "stream",
     "text": [
      "INFO:tensorflow:Assets written to: C:\\Users\\trist\\AppData\\Local\\Temp\\tmp2albdd1f\\model\\data\\model\\assets\n"
     ]
    },
    {
     "name": "stderr",
     "output_type": "stream",
     "text": [
      "INFO:tensorflow:Assets written to: C:\\Users\\trist\\AppData\\Local\\Temp\\tmp2albdd1f\\model\\data\\model\\assets\n",
      "2024/10/12 01:49:18 WARNING mlflow.models.model: Model logged without a signature and input example. Please set `input_example` parameter when logging the model to auto infer the model signature.\n"
     ]
    },
    {
     "name": "stdout",
     "output_type": "stream",
     "text": [
      "Epoch 1/20\n",
      "200/200 [==============================] - 15s 72ms/step - loss: 0.6666 - accuracy: 0.6324 - val_loss: 0.6466 - val_accuracy: 0.6800 - lr: 0.0010\n",
      "Epoch 2/20\n",
      "200/200 [==============================] - 14s 71ms/step - loss: 0.5062 - accuracy: 0.7531 - val_loss: 0.5696 - val_accuracy: 0.7406 - lr: 0.0010\n",
      "Epoch 3/20\n",
      "200/200 [==============================] - 14s 71ms/step - loss: 0.4358 - accuracy: 0.7973 - val_loss: 0.5407 - val_accuracy: 0.7337 - lr: 0.0010\n",
      "Epoch 4/20\n",
      "200/200 [==============================] - 14s 71ms/step - loss: 0.3649 - accuracy: 0.8391 - val_loss: 0.5985 - val_accuracy: 0.7312 - lr: 0.0010\n",
      "Epoch 5/20\n",
      "200/200 [==============================] - 14s 71ms/step - loss: 0.2793 - accuracy: 0.8838 - val_loss: 0.6576 - val_accuracy: 0.7269 - lr: 0.0010\n",
      "Epoch 6/20\n",
      "200/200 [==============================] - 14s 71ms/step - loss: 0.1466 - accuracy: 0.9438 - val_loss: 0.8170 - val_accuracy: 0.7353 - lr: 2.0000e-04\n",
      "Epoch 7/20\n",
      "200/200 [==============================] - 14s 71ms/step - loss: 0.0962 - accuracy: 0.9656 - val_loss: 1.0236 - val_accuracy: 0.7384 - lr: 2.0000e-04\n",
      "100/100 [==============================] - 2s 15ms/step\n",
      "100/100 [==============================] - 1s 15ms/step\n"
     ]
    },
    {
     "name": "stderr",
     "output_type": "stream",
     "text": [
      "2024/10/12 01:51:02 WARNING mlflow.tensorflow: You are saving a TensorFlow Core model or Keras model without a signature. Inference with mlflow.pyfunc.spark_udf() will not work unless the model's pyfunc representation accepts pandas DataFrames as inference inputs.\n",
      "WARNING:absl:Found untraced functions such as _jit_compiled_convolution_op, _update_step_xla while saving (showing 2 of 2). These functions will not be directly callable after loading.\n"
     ]
    },
    {
     "name": "stdout",
     "output_type": "stream",
     "text": [
      "INFO:tensorflow:Assets written to: C:\\Users\\trist\\AppData\\Local\\Temp\\tmp59dk_yj2\\model\\data\\model\\assets\n"
     ]
    },
    {
     "name": "stderr",
     "output_type": "stream",
     "text": [
      "INFO:tensorflow:Assets written to: C:\\Users\\trist\\AppData\\Local\\Temp\\tmp59dk_yj2\\model\\data\\model\\assets\n",
      "2024/10/12 01:51:09 WARNING mlflow.models.model: Model logged without a signature and input example. Please set `input_example` parameter when logging the model to auto infer the model signature.\n"
     ]
    },
    {
     "name": "stdout",
     "output_type": "stream",
     "text": [
      "Epoch 1/20\n",
      "200/200 [==============================] - 21s 99ms/step - loss: 0.6916 - accuracy: 0.6347 - val_loss: 0.6592 - val_accuracy: 0.6419 - lr: 0.0010\n",
      "Epoch 2/20\n",
      "200/200 [==============================] - 20s 98ms/step - loss: 0.5091 - accuracy: 0.7558 - val_loss: 0.5845 - val_accuracy: 0.7391 - lr: 0.0010\n",
      "Epoch 3/20\n",
      "200/200 [==============================] - 20s 98ms/step - loss: 0.4194 - accuracy: 0.8077 - val_loss: 0.5146 - val_accuracy: 0.7497 - lr: 0.0010\n",
      "Epoch 4/20\n",
      "200/200 [==============================] - 20s 98ms/step - loss: 0.3320 - accuracy: 0.8570 - val_loss: 0.5989 - val_accuracy: 0.7159 - lr: 0.0010\n",
      "Epoch 5/20\n",
      "200/200 [==============================] - 20s 98ms/step - loss: 0.2460 - accuracy: 0.8998 - val_loss: 0.6721 - val_accuracy: 0.7391 - lr: 0.0010\n",
      "Epoch 6/20\n",
      "200/200 [==============================] - 20s 98ms/step - loss: 0.1197 - accuracy: 0.9563 - val_loss: 0.9354 - val_accuracy: 0.7319 - lr: 2.0000e-04\n",
      "Epoch 7/20\n",
      "200/200 [==============================] - 20s 98ms/step - loss: 0.0663 - accuracy: 0.9774 - val_loss: 1.1406 - val_accuracy: 0.7278 - lr: 2.0000e-04\n",
      "100/100 [==============================] - 2s 20ms/step\n",
      "100/100 [==============================] - 2s 20ms/step\n"
     ]
    },
    {
     "name": "stderr",
     "output_type": "stream",
     "text": [
      "2024/10/12 01:53:33 WARNING mlflow.tensorflow: You are saving a TensorFlow Core model or Keras model without a signature. Inference with mlflow.pyfunc.spark_udf() will not work unless the model's pyfunc representation accepts pandas DataFrames as inference inputs.\n",
      "WARNING:absl:Found untraced functions such as _jit_compiled_convolution_op, _update_step_xla while saving (showing 2 of 2). These functions will not be directly callable after loading.\n"
     ]
    },
    {
     "name": "stdout",
     "output_type": "stream",
     "text": [
      "INFO:tensorflow:Assets written to: C:\\Users\\trist\\AppData\\Local\\Temp\\tmpit6u1nla\\model\\data\\model\\assets\n"
     ]
    },
    {
     "name": "stderr",
     "output_type": "stream",
     "text": [
      "INFO:tensorflow:Assets written to: C:\\Users\\trist\\AppData\\Local\\Temp\\tmpit6u1nla\\model\\data\\model\\assets\n",
      "2024/10/12 01:53:41 WARNING mlflow.models.model: Model logged without a signature and input example. Please set `input_example` parameter when logging the model to auto infer the model signature.\n"
     ]
    },
    {
     "name": "stdout",
     "output_type": "stream",
     "text": [
      "Epoch 1/20\n",
      "200/200 [==============================] - 39s 191ms/step - loss: 0.6774 - accuracy: 0.6425 - val_loss: 0.6455 - val_accuracy: 0.6994 - lr: 0.0010\n",
      "Epoch 2/20\n",
      "200/200 [==============================] - 38s 190ms/step - loss: 0.4947 - accuracy: 0.7629 - val_loss: 0.5744 - val_accuracy: 0.7525 - lr: 0.0010\n",
      "Epoch 3/20\n",
      "200/200 [==============================] - 38s 190ms/step - loss: 0.4080 - accuracy: 0.8170 - val_loss: 0.5374 - val_accuracy: 0.7306 - lr: 0.0010\n",
      "Epoch 4/20\n",
      "200/200 [==============================] - 38s 189ms/step - loss: 0.3131 - accuracy: 0.8662 - val_loss: 0.5908 - val_accuracy: 0.7462 - lr: 0.0010\n",
      "Epoch 5/20\n",
      "200/200 [==============================] - 38s 190ms/step - loss: 0.2212 - accuracy: 0.9105 - val_loss: 0.6740 - val_accuracy: 0.7403 - lr: 0.0010\n",
      "Epoch 6/20\n",
      "200/200 [==============================] - 38s 190ms/step - loss: 0.0965 - accuracy: 0.9635 - val_loss: 0.9556 - val_accuracy: 0.7350 - lr: 2.0000e-04\n",
      "Epoch 7/20\n",
      "200/200 [==============================] - 38s 190ms/step - loss: 0.0507 - accuracy: 0.9828 - val_loss: 1.1640 - val_accuracy: 0.7287 - lr: 2.0000e-04\n",
      "100/100 [==============================] - 4s 38ms/step\n",
      "100/100 [==============================] - 4s 38ms/step\n"
     ]
    },
    {
     "name": "stderr",
     "output_type": "stream",
     "text": [
      "2024/10/12 01:58:16 WARNING mlflow.tensorflow: You are saving a TensorFlow Core model or Keras model without a signature. Inference with mlflow.pyfunc.spark_udf() will not work unless the model's pyfunc representation accepts pandas DataFrames as inference inputs.\n",
      "WARNING:absl:Found untraced functions such as _jit_compiled_convolution_op, _update_step_xla while saving (showing 2 of 2). These functions will not be directly callable after loading.\n"
     ]
    },
    {
     "name": "stdout",
     "output_type": "stream",
     "text": [
      "INFO:tensorflow:Assets written to: C:\\Users\\trist\\AppData\\Local\\Temp\\tmp74hfht7s\\model\\data\\model\\assets\n"
     ]
    },
    {
     "name": "stderr",
     "output_type": "stream",
     "text": [
      "INFO:tensorflow:Assets written to: C:\\Users\\trist\\AppData\\Local\\Temp\\tmp74hfht7s\\model\\data\\model\\assets\n",
      "2024/10/12 01:58:23 WARNING mlflow.models.model: Model logged without a signature and input example. Please set `input_example` parameter when logging the model to auto infer the model signature.\n"
     ]
    },
    {
     "name": "stdout",
     "output_type": "stream",
     "text": [
      "Epoch 1/20\n",
      "200/200 [==============================] - 11s 52ms/step - loss: 0.7426 - accuracy: 0.5797 - val_loss: 0.6707 - val_accuracy: 0.6097 - lr: 0.0010\n",
      "Epoch 2/20\n",
      "200/200 [==============================] - 10s 51ms/step - loss: 0.5610 - accuracy: 0.7198 - val_loss: 0.5907 - val_accuracy: 0.7422 - lr: 0.0010\n",
      "Epoch 3/20\n",
      "200/200 [==============================] - 10s 51ms/step - loss: 0.5048 - accuracy: 0.7590 - val_loss: 0.5249 - val_accuracy: 0.7572 - lr: 0.0010\n",
      "Epoch 4/20\n",
      "200/200 [==============================] - 10s 51ms/step - loss: 0.4607 - accuracy: 0.7884 - val_loss: 0.5324 - val_accuracy: 0.7434 - lr: 0.0010\n",
      "Epoch 5/20\n",
      "200/200 [==============================] - 10s 51ms/step - loss: 0.4205 - accuracy: 0.8125 - val_loss: 0.5274 - val_accuracy: 0.7513 - lr: 0.0010\n",
      "Epoch 6/20\n",
      "200/200 [==============================] - 10s 51ms/step - loss: 0.3450 - accuracy: 0.8544 - val_loss: 0.5794 - val_accuracy: 0.7437 - lr: 2.0000e-04\n",
      "Epoch 7/20\n",
      "200/200 [==============================] - 10s 51ms/step - loss: 0.3131 - accuracy: 0.8674 - val_loss: 0.5962 - val_accuracy: 0.7422 - lr: 2.0000e-04\n",
      "100/100 [==============================] - 1s 10ms/step\n",
      "100/100 [==============================] - 1s 10ms/step\n"
     ]
    },
    {
     "name": "stderr",
     "output_type": "stream",
     "text": [
      "2024/10/12 01:59:39 WARNING mlflow.tensorflow: You are saving a TensorFlow Core model or Keras model without a signature. Inference with mlflow.pyfunc.spark_udf() will not work unless the model's pyfunc representation accepts pandas DataFrames as inference inputs.\n",
      "WARNING:absl:Found untraced functions such as _jit_compiled_convolution_op, _update_step_xla while saving (showing 2 of 2). These functions will not be directly callable after loading.\n"
     ]
    },
    {
     "name": "stdout",
     "output_type": "stream",
     "text": [
      "INFO:tensorflow:Assets written to: C:\\Users\\trist\\AppData\\Local\\Temp\\tmpx0xyrxcn\\model\\data\\model\\assets\n"
     ]
    },
    {
     "name": "stderr",
     "output_type": "stream",
     "text": [
      "INFO:tensorflow:Assets written to: C:\\Users\\trist\\AppData\\Local\\Temp\\tmpx0xyrxcn\\model\\data\\model\\assets\n",
      "2024/10/12 01:59:46 WARNING mlflow.models.model: Model logged without a signature and input example. Please set `input_example` parameter when logging the model to auto infer the model signature.\n"
     ]
    },
    {
     "name": "stdout",
     "output_type": "stream",
     "text": [
      "Epoch 1/20\n",
      "200/200 [==============================] - 16s 75ms/step - loss: 0.7719 - accuracy: 0.5859 - val_loss: 0.6739 - val_accuracy: 0.6978 - lr: 0.0010\n",
      "Epoch 2/20\n",
      "200/200 [==============================] - 15s 74ms/step - loss: 0.5792 - accuracy: 0.6966 - val_loss: 0.6149 - val_accuracy: 0.7431 - lr: 0.0010\n",
      "Epoch 3/20\n",
      "200/200 [==============================] - 15s 74ms/step - loss: 0.5146 - accuracy: 0.7520 - val_loss: 0.5470 - val_accuracy: 0.7212 - lr: 0.0010\n",
      "Epoch 4/20\n",
      "200/200 [==============================] - 15s 74ms/step - loss: 0.4619 - accuracy: 0.7806 - val_loss: 0.5139 - val_accuracy: 0.7497 - lr: 0.0010\n",
      "Epoch 5/20\n",
      "200/200 [==============================] - 15s 74ms/step - loss: 0.4216 - accuracy: 0.8122 - val_loss: 0.5758 - val_accuracy: 0.7197 - lr: 0.0010\n",
      "Epoch 6/20\n",
      "200/200 [==============================] - 15s 74ms/step - loss: 0.3669 - accuracy: 0.8385 - val_loss: 0.5582 - val_accuracy: 0.7356 - lr: 0.0010\n",
      "Epoch 7/20\n",
      "200/200 [==============================] - 15s 74ms/step - loss: 0.2647 - accuracy: 0.8947 - val_loss: 0.6574 - val_accuracy: 0.7412 - lr: 2.0000e-04\n",
      "Epoch 8/20\n",
      "200/200 [==============================] - 15s 74ms/step - loss: 0.2139 - accuracy: 0.9145 - val_loss: 0.7182 - val_accuracy: 0.7387 - lr: 2.0000e-04\n",
      "100/100 [==============================] - 1s 13ms/step\n",
      "100/100 [==============================] - 1s 13ms/step\n"
     ]
    },
    {
     "name": "stderr",
     "output_type": "stream",
     "text": [
      "2024/10/12 02:01:49 WARNING mlflow.tensorflow: You are saving a TensorFlow Core model or Keras model without a signature. Inference with mlflow.pyfunc.spark_udf() will not work unless the model's pyfunc representation accepts pandas DataFrames as inference inputs.\n",
      "WARNING:absl:Found untraced functions such as _jit_compiled_convolution_op, _update_step_xla while saving (showing 2 of 2). These functions will not be directly callable after loading.\n"
     ]
    },
    {
     "name": "stdout",
     "output_type": "stream",
     "text": [
      "INFO:tensorflow:Assets written to: C:\\Users\\trist\\AppData\\Local\\Temp\\tmpj0h1m66m\\model\\data\\model\\assets\n"
     ]
    },
    {
     "name": "stderr",
     "output_type": "stream",
     "text": [
      "INFO:tensorflow:Assets written to: C:\\Users\\trist\\AppData\\Local\\Temp\\tmpj0h1m66m\\model\\data\\model\\assets\n",
      "2024/10/12 02:01:57 WARNING mlflow.models.model: Model logged without a signature and input example. Please set `input_example` parameter when logging the model to auto infer the model signature.\n"
     ]
    },
    {
     "name": "stdout",
     "output_type": "stream",
     "text": [
      "Epoch 1/20\n",
      "200/200 [==============================] - 28s 137ms/step - loss: 0.7808 - accuracy: 0.5763 - val_loss: 0.6712 - val_accuracy: 0.6384 - lr: 0.0010\n",
      "Epoch 2/20\n",
      "200/200 [==============================] - 27s 136ms/step - loss: 0.5758 - accuracy: 0.7032 - val_loss: 0.6054 - val_accuracy: 0.7472 - lr: 0.0010\n",
      "Epoch 3/20\n",
      "200/200 [==============================] - 27s 136ms/step - loss: 0.5193 - accuracy: 0.7491 - val_loss: 0.5354 - val_accuracy: 0.7534 - lr: 0.0010\n",
      "Epoch 4/20\n",
      "200/200 [==============================] - 27s 136ms/step - loss: 0.4680 - accuracy: 0.7805 - val_loss: 0.5105 - val_accuracy: 0.7534 - lr: 0.0010\n",
      "Epoch 5/20\n",
      "200/200 [==============================] - 27s 136ms/step - loss: 0.4126 - accuracy: 0.8123 - val_loss: 0.6330 - val_accuracy: 0.6900 - lr: 0.0010\n",
      "Epoch 6/20\n",
      "200/200 [==============================] - 27s 136ms/step - loss: 0.3637 - accuracy: 0.8402 - val_loss: 0.5619 - val_accuracy: 0.7519 - lr: 0.0010\n",
      "Epoch 7/20\n",
      "200/200 [==============================] - 27s 136ms/step - loss: 0.2296 - accuracy: 0.9083 - val_loss: 0.6934 - val_accuracy: 0.7481 - lr: 2.0000e-04\n",
      "Epoch 8/20\n",
      "200/200 [==============================] - 27s 136ms/step - loss: 0.1634 - accuracy: 0.9348 - val_loss: 0.8089 - val_accuracy: 0.7491 - lr: 2.0000e-04\n",
      "100/100 [==============================] - 3s 25ms/step\n",
      "100/100 [==============================] - 3s 25ms/step\n"
     ]
    },
    {
     "name": "stderr",
     "output_type": "stream",
     "text": [
      "2024/10/12 02:05:42 WARNING mlflow.tensorflow: You are saving a TensorFlow Core model or Keras model without a signature. Inference with mlflow.pyfunc.spark_udf() will not work unless the model's pyfunc representation accepts pandas DataFrames as inference inputs.\n",
      "WARNING:absl:Found untraced functions such as _jit_compiled_convolution_op, _update_step_xla while saving (showing 2 of 2). These functions will not be directly callable after loading.\n"
     ]
    },
    {
     "name": "stdout",
     "output_type": "stream",
     "text": [
      "INFO:tensorflow:Assets written to: C:\\Users\\trist\\AppData\\Local\\Temp\\tmpejhshhm4\\model\\data\\model\\assets\n"
     ]
    },
    {
     "name": "stderr",
     "output_type": "stream",
     "text": [
      "INFO:tensorflow:Assets written to: C:\\Users\\trist\\AppData\\Local\\Temp\\tmpejhshhm4\\model\\data\\model\\assets\n",
      "2024/10/12 02:05:49 WARNING mlflow.models.model: Model logged without a signature and input example. Please set `input_example` parameter when logging the model to auto infer the model signature.\n"
     ]
    },
    {
     "name": "stdout",
     "output_type": "stream",
     "text": [
      "Epoch 1/20\n",
      "200/200 [==============================] - 14s 67ms/step - loss: 0.7786 - accuracy: 0.5640 - val_loss: 0.6742 - val_accuracy: 0.6641 - lr: 0.0010\n",
      "Epoch 2/20\n",
      "200/200 [==============================] - 13s 66ms/step - loss: 0.5817 - accuracy: 0.6997 - val_loss: 0.5973 - val_accuracy: 0.7350 - lr: 0.0010\n",
      "Epoch 3/20\n",
      "200/200 [==============================] - 13s 66ms/step - loss: 0.5105 - accuracy: 0.7487 - val_loss: 0.5310 - val_accuracy: 0.7378 - lr: 0.0010\n",
      "Epoch 4/20\n",
      "200/200 [==============================] - 13s 65ms/step - loss: 0.4604 - accuracy: 0.7866 - val_loss: 0.5145 - val_accuracy: 0.7450 - lr: 0.0010\n",
      "Epoch 5/20\n",
      "200/200 [==============================] - 13s 66ms/step - loss: 0.4103 - accuracy: 0.8177 - val_loss: 0.5389 - val_accuracy: 0.7397 - lr: 0.0010\n",
      "Epoch 6/20\n",
      "200/200 [==============================] - 13s 66ms/step - loss: 0.3583 - accuracy: 0.8459 - val_loss: 0.5827 - val_accuracy: 0.7369 - lr: 0.0010\n",
      "Epoch 7/20\n",
      "200/200 [==============================] - 13s 66ms/step - loss: 0.2443 - accuracy: 0.9046 - val_loss: 0.6802 - val_accuracy: 0.7366 - lr: 2.0000e-04\n",
      "Epoch 8/20\n",
      "200/200 [==============================] - 13s 66ms/step - loss: 0.1876 - accuracy: 0.9269 - val_loss: 0.7963 - val_accuracy: 0.7378 - lr: 2.0000e-04\n",
      "100/100 [==============================] - 1s 13ms/step\n",
      "100/100 [==============================] - 1s 13ms/step\n"
     ]
    },
    {
     "name": "stderr",
     "output_type": "stream",
     "text": [
      "2024/10/12 02:07:39 WARNING mlflow.tensorflow: You are saving a TensorFlow Core model or Keras model without a signature. Inference with mlflow.pyfunc.spark_udf() will not work unless the model's pyfunc representation accepts pandas DataFrames as inference inputs.\n",
      "WARNING:absl:Found untraced functions such as _jit_compiled_convolution_op, _update_step_xla while saving (showing 2 of 2). These functions will not be directly callable after loading.\n"
     ]
    },
    {
     "name": "stdout",
     "output_type": "stream",
     "text": [
      "INFO:tensorflow:Assets written to: C:\\Users\\trist\\AppData\\Local\\Temp\\tmpr3n25t_7\\model\\data\\model\\assets\n"
     ]
    },
    {
     "name": "stderr",
     "output_type": "stream",
     "text": [
      "INFO:tensorflow:Assets written to: C:\\Users\\trist\\AppData\\Local\\Temp\\tmpr3n25t_7\\model\\data\\model\\assets\n",
      "2024/10/12 02:07:46 WARNING mlflow.models.model: Model logged without a signature and input example. Please set `input_example` parameter when logging the model to auto infer the model signature.\n"
     ]
    },
    {
     "name": "stdout",
     "output_type": "stream",
     "text": [
      "Epoch 1/20\n",
      "200/200 [==============================] - 20s 97ms/step - loss: 0.8267 - accuracy: 0.5665 - val_loss: 0.6712 - val_accuracy: 0.6941 - lr: 0.0010\n",
      "Epoch 2/20\n",
      "200/200 [==============================] - 19s 95ms/step - loss: 0.5886 - accuracy: 0.6884 - val_loss: 0.6121 - val_accuracy: 0.7206 - lr: 0.0010\n",
      "Epoch 3/20\n",
      "200/200 [==============================] - 19s 95ms/step - loss: 0.5221 - accuracy: 0.7448 - val_loss: 0.5334 - val_accuracy: 0.7547 - lr: 0.0010\n",
      "Epoch 4/20\n",
      "200/200 [==============================] - 19s 95ms/step - loss: 0.4608 - accuracy: 0.7864 - val_loss: 0.5339 - val_accuracy: 0.7372 - lr: 0.0010\n",
      "Epoch 5/20\n",
      "200/200 [==============================] - 19s 95ms/step - loss: 0.4054 - accuracy: 0.8182 - val_loss: 0.5299 - val_accuracy: 0.7412 - lr: 0.0010\n",
      "Epoch 6/20\n",
      "200/200 [==============================] - 19s 95ms/step - loss: 0.3389 - accuracy: 0.8489 - val_loss: 0.6020 - val_accuracy: 0.7450 - lr: 0.0010\n",
      "Epoch 7/20\n",
      "200/200 [==============================] - 19s 95ms/step - loss: 0.2760 - accuracy: 0.8841 - val_loss: 0.7107 - val_accuracy: 0.7419 - lr: 0.0010\n",
      "Epoch 8/20\n",
      "200/200 [==============================] - 19s 95ms/step - loss: 0.1549 - accuracy: 0.9392 - val_loss: 0.8650 - val_accuracy: 0.7434 - lr: 2.0000e-04\n",
      "Epoch 9/20\n",
      "200/200 [==============================] - 19s 95ms/step - loss: 0.0994 - accuracy: 0.9627 - val_loss: 1.1097 - val_accuracy: 0.7381 - lr: 2.0000e-04\n",
      "100/100 [==============================] - 2s 19ms/step\n",
      "100/100 [==============================] - 2s 19ms/step\n"
     ]
    },
    {
     "name": "stderr",
     "output_type": "stream",
     "text": [
      "2024/10/12 02:10:43 WARNING mlflow.tensorflow: You are saving a TensorFlow Core model or Keras model without a signature. Inference with mlflow.pyfunc.spark_udf() will not work unless the model's pyfunc representation accepts pandas DataFrames as inference inputs.\n",
      "WARNING:absl:Found untraced functions such as _jit_compiled_convolution_op, _update_step_xla while saving (showing 2 of 2). These functions will not be directly callable after loading.\n"
     ]
    },
    {
     "name": "stdout",
     "output_type": "stream",
     "text": [
      "INFO:tensorflow:Assets written to: C:\\Users\\trist\\AppData\\Local\\Temp\\tmp0tu8_t96\\model\\data\\model\\assets\n"
     ]
    },
    {
     "name": "stderr",
     "output_type": "stream",
     "text": [
      "INFO:tensorflow:Assets written to: C:\\Users\\trist\\AppData\\Local\\Temp\\tmp0tu8_t96\\model\\data\\model\\assets\n",
      "2024/10/12 02:10:50 WARNING mlflow.models.model: Model logged without a signature and input example. Please set `input_example` parameter when logging the model to auto infer the model signature.\n"
     ]
    },
    {
     "name": "stdout",
     "output_type": "stream",
     "text": [
      "Epoch 1/20\n",
      "200/200 [==============================] - 36s 173ms/step - loss: 0.7709 - accuracy: 0.5848 - val_loss: 0.6770 - val_accuracy: 0.6991 - lr: 0.0010\n",
      "Epoch 2/20\n",
      "200/200 [==============================] - 34s 172ms/step - loss: 0.5788 - accuracy: 0.6996 - val_loss: 0.6295 - val_accuracy: 0.7194 - lr: 0.0010\n",
      "Epoch 3/20\n",
      "200/200 [==============================] - 34s 172ms/step - loss: 0.5181 - accuracy: 0.7456 - val_loss: 0.5503 - val_accuracy: 0.7278 - lr: 0.0010\n",
      "Epoch 4/20\n",
      "200/200 [==============================] - 34s 172ms/step - loss: 0.4528 - accuracy: 0.7906 - val_loss: 0.5101 - val_accuracy: 0.7556 - lr: 0.0010\n",
      "Epoch 5/20\n",
      "200/200 [==============================] - 34s 172ms/step - loss: 0.3789 - accuracy: 0.8396 - val_loss: 0.5633 - val_accuracy: 0.7419 - lr: 0.0010\n",
      "Epoch 6/20\n",
      "200/200 [==============================] - 34s 172ms/step - loss: 0.3104 - accuracy: 0.8692 - val_loss: 0.6183 - val_accuracy: 0.7372 - lr: 0.0010\n",
      "Epoch 7/20\n",
      "200/200 [==============================] - 34s 172ms/step - loss: 0.1707 - accuracy: 0.9351 - val_loss: 0.8403 - val_accuracy: 0.7428 - lr: 2.0000e-04\n",
      "Epoch 8/20\n",
      "200/200 [==============================] - 34s 172ms/step - loss: 0.1080 - accuracy: 0.9599 - val_loss: 0.9904 - val_accuracy: 0.7416 - lr: 2.0000e-04\n",
      "100/100 [==============================] - 3s 34ms/step\n",
      "100/100 [==============================] - 4s 37ms/step\n"
     ]
    },
    {
     "name": "stderr",
     "output_type": "stream",
     "text": [
      "2024/10/12 02:15:36 WARNING mlflow.tensorflow: You are saving a TensorFlow Core model or Keras model without a signature. Inference with mlflow.pyfunc.spark_udf() will not work unless the model's pyfunc representation accepts pandas DataFrames as inference inputs.\n",
      "WARNING:absl:Found untraced functions such as _jit_compiled_convolution_op, _update_step_xla while saving (showing 2 of 2). These functions will not be directly callable after loading.\n"
     ]
    },
    {
     "name": "stdout",
     "output_type": "stream",
     "text": [
      "INFO:tensorflow:Assets written to: C:\\Users\\trist\\AppData\\Local\\Temp\\tmpayfqq4ps\\model\\data\\model\\assets\n"
     ]
    },
    {
     "name": "stderr",
     "output_type": "stream",
     "text": [
      "INFO:tensorflow:Assets written to: C:\\Users\\trist\\AppData\\Local\\Temp\\tmpayfqq4ps\\model\\data\\model\\assets\n",
      "2024/10/12 02:15:43 WARNING mlflow.models.model: Model logged without a signature and input example. Please set `input_example` parameter when logging the model to auto infer the model signature.\n"
     ]
    },
    {
     "name": "stdout",
     "output_type": "stream",
     "text": [
      "Epoch 1/20\n",
      "200/200 [==============================] - 11s 50ms/step - loss: 0.6940 - accuracy: 0.6236 - val_loss: 0.6596 - val_accuracy: 0.7113 - lr: 0.0010\n",
      "Epoch 2/20\n",
      "200/200 [==============================] - 10s 48ms/step - loss: 0.5159 - accuracy: 0.7464 - val_loss: 0.5779 - val_accuracy: 0.7466 - lr: 0.0010\n",
      "Epoch 3/20\n",
      "200/200 [==============================] - 10s 48ms/step - loss: 0.4594 - accuracy: 0.7830 - val_loss: 0.5205 - val_accuracy: 0.7509 - lr: 0.0010\n",
      "Epoch 4/20\n",
      "200/200 [==============================] - 10s 48ms/step - loss: 0.4038 - accuracy: 0.8135 - val_loss: 0.5240 - val_accuracy: 0.7422 - lr: 0.0010\n",
      "Epoch 5/20\n",
      "200/200 [==============================] - 10s 48ms/step - loss: 0.3531 - accuracy: 0.8452 - val_loss: 0.5709 - val_accuracy: 0.7366 - lr: 0.0010\n",
      "Epoch 6/20\n",
      "200/200 [==============================] - 10s 48ms/step - loss: 0.2412 - accuracy: 0.9032 - val_loss: 0.7089 - val_accuracy: 0.7303 - lr: 2.0000e-04\n",
      "Epoch 7/20\n",
      "200/200 [==============================] - 10s 48ms/step - loss: 0.1888 - accuracy: 0.9246 - val_loss: 0.7666 - val_accuracy: 0.7284 - lr: 2.0000e-04\n",
      "100/100 [==============================] - 1s 9ms/step\n",
      "100/100 [==============================] - 1s 9ms/step\n"
     ]
    },
    {
     "name": "stderr",
     "output_type": "stream",
     "text": [
      "2024/10/12 02:16:54 WARNING mlflow.tensorflow: You are saving a TensorFlow Core model or Keras model without a signature. Inference with mlflow.pyfunc.spark_udf() will not work unless the model's pyfunc representation accepts pandas DataFrames as inference inputs.\n",
      "WARNING:absl:Found untraced functions such as _jit_compiled_convolution_op, _update_step_xla while saving (showing 2 of 2). These functions will not be directly callable after loading.\n"
     ]
    },
    {
     "name": "stdout",
     "output_type": "stream",
     "text": [
      "INFO:tensorflow:Assets written to: C:\\Users\\trist\\AppData\\Local\\Temp\\tmpqselgu_u\\model\\data\\model\\assets\n"
     ]
    },
    {
     "name": "stderr",
     "output_type": "stream",
     "text": [
      "INFO:tensorflow:Assets written to: C:\\Users\\trist\\AppData\\Local\\Temp\\tmpqselgu_u\\model\\data\\model\\assets\n",
      "2024/10/12 02:17:02 WARNING mlflow.models.model: Model logged without a signature and input example. Please set `input_example` parameter when logging the model to auto infer the model signature.\n"
     ]
    },
    {
     "name": "stdout",
     "output_type": "stream",
     "text": [
      "Epoch 1/20\n",
      "200/200 [==============================] - 16s 73ms/step - loss: 0.6445 - accuracy: 0.6469 - val_loss: 0.6542 - val_accuracy: 0.7200 - lr: 0.0010\n",
      "Epoch 2/20\n",
      "200/200 [==============================] - 14s 72ms/step - loss: 0.5036 - accuracy: 0.7548 - val_loss: 0.5790 - val_accuracy: 0.7553 - lr: 0.0010\n",
      "Epoch 3/20\n",
      "200/200 [==============================] - 14s 72ms/step - loss: 0.4308 - accuracy: 0.7991 - val_loss: 0.5134 - val_accuracy: 0.7522 - lr: 0.0010\n",
      "Epoch 4/20\n",
      "200/200 [==============================] - 14s 72ms/step - loss: 0.3621 - accuracy: 0.8392 - val_loss: 0.5681 - val_accuracy: 0.7209 - lr: 0.0010\n",
      "Epoch 5/20\n",
      "200/200 [==============================] - 14s 72ms/step - loss: 0.2923 - accuracy: 0.8741 - val_loss: 0.6366 - val_accuracy: 0.7237 - lr: 0.0010\n",
      "Epoch 6/20\n",
      "200/200 [==============================] - 14s 72ms/step - loss: 0.1617 - accuracy: 0.9370 - val_loss: 0.7890 - val_accuracy: 0.7372 - lr: 2.0000e-04\n",
      "Epoch 7/20\n",
      "200/200 [==============================] - 14s 72ms/step - loss: 0.1052 - accuracy: 0.9607 - val_loss: 0.9894 - val_accuracy: 0.7366 - lr: 2.0000e-04\n",
      "100/100 [==============================] - 1s 12ms/step\n",
      "100/100 [==============================] - 1s 12ms/step\n"
     ]
    },
    {
     "name": "stderr",
     "output_type": "stream",
     "text": [
      "2024/10/12 02:18:48 WARNING mlflow.tensorflow: You are saving a TensorFlow Core model or Keras model without a signature. Inference with mlflow.pyfunc.spark_udf() will not work unless the model's pyfunc representation accepts pandas DataFrames as inference inputs.\n",
      "WARNING:absl:Found untraced functions such as _jit_compiled_convolution_op, _update_step_xla while saving (showing 2 of 2). These functions will not be directly callable after loading.\n"
     ]
    },
    {
     "name": "stdout",
     "output_type": "stream",
     "text": [
      "INFO:tensorflow:Assets written to: C:\\Users\\trist\\AppData\\Local\\Temp\\tmpp8ufhohd\\model\\data\\model\\assets\n"
     ]
    },
    {
     "name": "stderr",
     "output_type": "stream",
     "text": [
      "INFO:tensorflow:Assets written to: C:\\Users\\trist\\AppData\\Local\\Temp\\tmpp8ufhohd\\model\\data\\model\\assets\n",
      "2024/10/12 02:18:55 WARNING mlflow.models.model: Model logged without a signature and input example. Please set `input_example` parameter when logging the model to auto infer the model signature.\n"
     ]
    },
    {
     "name": "stdout",
     "output_type": "stream",
     "text": [
      "Epoch 1/20\n",
      "200/200 [==============================] - 26s 127ms/step - loss: 0.6625 - accuracy: 0.6527 - val_loss: 0.6547 - val_accuracy: 0.6772 - lr: 0.0010\n",
      "Epoch 2/20\n",
      "200/200 [==============================] - 25s 125ms/step - loss: 0.4933 - accuracy: 0.7621 - val_loss: 0.5977 - val_accuracy: 0.6747 - lr: 0.0010\n",
      "Epoch 3/20\n",
      "200/200 [==============================] - 25s 125ms/step - loss: 0.4196 - accuracy: 0.8120 - val_loss: 0.5008 - val_accuracy: 0.7506 - lr: 0.0010\n",
      "Epoch 4/20\n",
      "200/200 [==============================] - 25s 125ms/step - loss: 0.3429 - accuracy: 0.8509 - val_loss: 0.5243 - val_accuracy: 0.7431 - lr: 0.0010\n",
      "Epoch 5/20\n",
      "200/200 [==============================] - 25s 125ms/step - loss: 0.2567 - accuracy: 0.8928 - val_loss: 0.6137 - val_accuracy: 0.7356 - lr: 0.0010\n",
      "Epoch 6/20\n",
      "200/200 [==============================] - 25s 125ms/step - loss: 0.1267 - accuracy: 0.9543 - val_loss: 0.8239 - val_accuracy: 0.7403 - lr: 2.0000e-04\n",
      "Epoch 7/20\n",
      "200/200 [==============================] - 25s 125ms/step - loss: 0.0723 - accuracy: 0.9741 - val_loss: 0.9618 - val_accuracy: 0.7300 - lr: 2.0000e-04\n",
      "100/100 [==============================] - 2s 23ms/step\n",
      "100/100 [==============================] - 2s 23ms/step\n"
     ]
    },
    {
     "name": "stderr",
     "output_type": "stream",
     "text": [
      "2024/10/12 02:21:57 WARNING mlflow.tensorflow: You are saving a TensorFlow Core model or Keras model without a signature. Inference with mlflow.pyfunc.spark_udf() will not work unless the model's pyfunc representation accepts pandas DataFrames as inference inputs.\n",
      "WARNING:absl:Found untraced functions such as _jit_compiled_convolution_op, _update_step_xla while saving (showing 2 of 2). These functions will not be directly callable after loading.\n"
     ]
    },
    {
     "name": "stdout",
     "output_type": "stream",
     "text": [
      "INFO:tensorflow:Assets written to: C:\\Users\\trist\\AppData\\Local\\Temp\\tmphorg97m2\\model\\data\\model\\assets\n"
     ]
    },
    {
     "name": "stderr",
     "output_type": "stream",
     "text": [
      "INFO:tensorflow:Assets written to: C:\\Users\\trist\\AppData\\Local\\Temp\\tmphorg97m2\\model\\data\\model\\assets\n",
      "2024/10/12 02:22:05 WARNING mlflow.models.model: Model logged without a signature and input example. Please set `input_example` parameter when logging the model to auto infer the model signature.\n"
     ]
    },
    {
     "name": "stdout",
     "output_type": "stream",
     "text": [
      "Epoch 1/20\n",
      "200/200 [==============================] - 14s 65ms/step - loss: 0.7102 - accuracy: 0.6173 - val_loss: 0.6623 - val_accuracy: 0.7122 - lr: 0.0010\n",
      "Epoch 2/20\n",
      "200/200 [==============================] - 13s 64ms/step - loss: 0.5204 - accuracy: 0.7411 - val_loss: 0.5752 - val_accuracy: 0.7334 - lr: 0.0010\n",
      "Epoch 3/20\n",
      "200/200 [==============================] - 13s 64ms/step - loss: 0.4449 - accuracy: 0.7948 - val_loss: 0.5348 - val_accuracy: 0.7337 - lr: 0.0010\n",
      "Epoch 4/20\n",
      "200/200 [==============================] - 13s 64ms/step - loss: 0.3773 - accuracy: 0.8302 - val_loss: 0.5658 - val_accuracy: 0.7334 - lr: 0.0010\n",
      "Epoch 5/20\n",
      "200/200 [==============================] - 13s 64ms/step - loss: 0.3139 - accuracy: 0.8684 - val_loss: 0.6016 - val_accuracy: 0.7281 - lr: 0.0010\n",
      "Epoch 6/20\n",
      "200/200 [==============================] - 13s 64ms/step - loss: 0.1925 - accuracy: 0.9278 - val_loss: 0.7706 - val_accuracy: 0.7359 - lr: 2.0000e-04\n",
      "Epoch 7/20\n",
      "200/200 [==============================] - 13s 64ms/step - loss: 0.1336 - accuracy: 0.9501 - val_loss: 0.8643 - val_accuracy: 0.7334 - lr: 2.0000e-04\n",
      "100/100 [==============================] - 1s 13ms/step\n",
      "100/100 [==============================] - 1s 13ms/step\n"
     ]
    },
    {
     "name": "stderr",
     "output_type": "stream",
     "text": [
      "2024/10/12 02:23:39 WARNING mlflow.tensorflow: You are saving a TensorFlow Core model or Keras model without a signature. Inference with mlflow.pyfunc.spark_udf() will not work unless the model's pyfunc representation accepts pandas DataFrames as inference inputs.\n",
      "WARNING:absl:Found untraced functions such as _jit_compiled_convolution_op, _update_step_xla while saving (showing 2 of 2). These functions will not be directly callable after loading.\n"
     ]
    },
    {
     "name": "stdout",
     "output_type": "stream",
     "text": [
      "INFO:tensorflow:Assets written to: C:\\Users\\trist\\AppData\\Local\\Temp\\tmpbnmq22_h\\model\\data\\model\\assets\n"
     ]
    },
    {
     "name": "stderr",
     "output_type": "stream",
     "text": [
      "INFO:tensorflow:Assets written to: C:\\Users\\trist\\AppData\\Local\\Temp\\tmpbnmq22_h\\model\\data\\model\\assets\n",
      "2024/10/12 02:23:46 WARNING mlflow.models.model: Model logged without a signature and input example. Please set `input_example` parameter when logging the model to auto infer the model signature.\n"
     ]
    },
    {
     "name": "stdout",
     "output_type": "stream",
     "text": [
      "Epoch 1/20\n",
      "200/200 [==============================] - 19s 90ms/step - loss: 0.6749 - accuracy: 0.6362 - val_loss: 0.6515 - val_accuracy: 0.7306 - lr: 0.0010\n",
      "Epoch 2/20\n",
      "200/200 [==============================] - 18s 89ms/step - loss: 0.4988 - accuracy: 0.7553 - val_loss: 0.5652 - val_accuracy: 0.7437 - lr: 0.0010\n",
      "Epoch 3/20\n",
      "200/200 [==============================] - 18s 89ms/step - loss: 0.4253 - accuracy: 0.8020 - val_loss: 0.5306 - val_accuracy: 0.7391 - lr: 0.0010\n",
      "Epoch 4/20\n",
      "200/200 [==============================] - 18s 89ms/step - loss: 0.3405 - accuracy: 0.8470 - val_loss: 0.5676 - val_accuracy: 0.7241 - lr: 0.0010\n",
      "Epoch 5/20\n",
      "200/200 [==============================] - 18s 89ms/step - loss: 0.2621 - accuracy: 0.8905 - val_loss: 0.6737 - val_accuracy: 0.7309 - lr: 0.0010\n",
      "Epoch 6/20\n",
      "200/200 [==============================] - 18s 89ms/step - loss: 0.1323 - accuracy: 0.9524 - val_loss: 0.8547 - val_accuracy: 0.7297 - lr: 2.0000e-04\n",
      "Epoch 7/20\n",
      "200/200 [==============================] - 18s 89ms/step - loss: 0.0763 - accuracy: 0.9745 - val_loss: 1.1351 - val_accuracy: 0.7125 - lr: 2.0000e-04\n",
      "100/100 [==============================] - 2s 18ms/step\n",
      "100/100 [==============================] - 2s 19ms/step\n"
     ]
    },
    {
     "name": "stderr",
     "output_type": "stream",
     "text": [
      "2024/10/12 02:25:57 WARNING mlflow.tensorflow: You are saving a TensorFlow Core model or Keras model without a signature. Inference with mlflow.pyfunc.spark_udf() will not work unless the model's pyfunc representation accepts pandas DataFrames as inference inputs.\n",
      "WARNING:absl:Found untraced functions such as _jit_compiled_convolution_op, _update_step_xla while saving (showing 2 of 2). These functions will not be directly callable after loading.\n"
     ]
    },
    {
     "name": "stdout",
     "output_type": "stream",
     "text": [
      "INFO:tensorflow:Assets written to: C:\\Users\\trist\\AppData\\Local\\Temp\\tmp5xgqd2ma\\model\\data\\model\\assets\n"
     ]
    },
    {
     "name": "stderr",
     "output_type": "stream",
     "text": [
      "INFO:tensorflow:Assets written to: C:\\Users\\trist\\AppData\\Local\\Temp\\tmp5xgqd2ma\\model\\data\\model\\assets\n",
      "2024/10/12 02:26:05 WARNING mlflow.models.model: Model logged without a signature and input example. Please set `input_example` parameter when logging the model to auto infer the model signature.\n"
     ]
    },
    {
     "name": "stdout",
     "output_type": "stream",
     "text": [
      "Epoch 1/20\n",
      "200/200 [==============================] - 35s 169ms/step - loss: 0.6887 - accuracy: 0.6538 - val_loss: 0.6567 - val_accuracy: 0.7325 - lr: 0.0010\n",
      "Epoch 2/20\n",
      "200/200 [==============================] - 33s 167ms/step - loss: 0.4951 - accuracy: 0.7601 - val_loss: 0.5874 - val_accuracy: 0.7378 - lr: 0.0010\n",
      "Epoch 3/20\n",
      "200/200 [==============================] - 33s 167ms/step - loss: 0.4066 - accuracy: 0.8169 - val_loss: 0.5181 - val_accuracy: 0.7456 - lr: 0.0010\n",
      "Epoch 4/20\n",
      "200/200 [==============================] - 33s 167ms/step - loss: 0.3099 - accuracy: 0.8691 - val_loss: 0.5691 - val_accuracy: 0.7341 - lr: 0.0010\n",
      "Epoch 5/20\n",
      "200/200 [==============================] - 33s 167ms/step - loss: 0.2407 - accuracy: 0.9020 - val_loss: 0.6680 - val_accuracy: 0.7381 - lr: 0.0010\n",
      "Epoch 6/20\n",
      "200/200 [==============================] - 33s 167ms/step - loss: 0.1081 - accuracy: 0.9577 - val_loss: 0.8534 - val_accuracy: 0.7453 - lr: 2.0000e-04\n",
      "Epoch 7/20\n",
      "200/200 [==============================] - 33s 167ms/step - loss: 0.0547 - accuracy: 0.9801 - val_loss: 1.0745 - val_accuracy: 0.7444 - lr: 2.0000e-04\n",
      "100/100 [==============================] - 3s 33ms/step\n",
      "100/100 [==============================] - 3s 33ms/step\n"
     ]
    },
    {
     "name": "stderr",
     "output_type": "stream",
     "text": [
      "2024/10/12 02:30:07 WARNING mlflow.tensorflow: You are saving a TensorFlow Core model or Keras model without a signature. Inference with mlflow.pyfunc.spark_udf() will not work unless the model's pyfunc representation accepts pandas DataFrames as inference inputs.\n",
      "WARNING:absl:Found untraced functions such as _jit_compiled_convolution_op, _update_step_xla while saving (showing 2 of 2). These functions will not be directly callable after loading.\n"
     ]
    },
    {
     "name": "stdout",
     "output_type": "stream",
     "text": [
      "INFO:tensorflow:Assets written to: C:\\Users\\trist\\AppData\\Local\\Temp\\tmp7u5a0421\\model\\data\\model\\assets\n"
     ]
    },
    {
     "name": "stderr",
     "output_type": "stream",
     "text": [
      "INFO:tensorflow:Assets written to: C:\\Users\\trist\\AppData\\Local\\Temp\\tmp7u5a0421\\model\\data\\model\\assets\n",
      "2024/10/12 02:30:15 WARNING mlflow.models.model: Model logged without a signature and input example. Please set `input_example` parameter when logging the model to auto infer the model signature.\n"
     ]
    },
    {
     "name": "stdout",
     "output_type": "stream",
     "text": [
      "Epoch 1/20\n",
      "200/200 [==============================] - 11s 47ms/step - loss: 0.7804 - accuracy: 0.5844 - val_loss: 0.6758 - val_accuracy: 0.6966 - lr: 0.0010\n",
      "Epoch 2/20\n",
      "200/200 [==============================] - 9s 46ms/step - loss: 0.5671 - accuracy: 0.7007 - val_loss: 0.6008 - val_accuracy: 0.7428 - lr: 0.0010\n",
      "Epoch 3/20\n",
      "200/200 [==============================] - 9s 46ms/step - loss: 0.5057 - accuracy: 0.7574 - val_loss: 0.5176 - val_accuracy: 0.7638 - lr: 0.0010\n",
      "Epoch 4/20\n",
      "200/200 [==============================] - 9s 46ms/step - loss: 0.4585 - accuracy: 0.7862 - val_loss: 0.5128 - val_accuracy: 0.7550 - lr: 0.0010\n",
      "Epoch 5/20\n",
      "200/200 [==============================] - 9s 46ms/step - loss: 0.4234 - accuracy: 0.8084 - val_loss: 0.5171 - val_accuracy: 0.7500 - lr: 0.0010\n",
      "Epoch 6/20\n",
      "200/200 [==============================] - 9s 46ms/step - loss: 0.3840 - accuracy: 0.8327 - val_loss: 0.5578 - val_accuracy: 0.7556 - lr: 0.0010\n",
      "Epoch 7/20\n",
      "200/200 [==============================] - 9s 46ms/step - loss: 0.2914 - accuracy: 0.8817 - val_loss: 0.6226 - val_accuracy: 0.7509 - lr: 2.0000e-04\n",
      "Epoch 8/20\n",
      "200/200 [==============================] - 9s 46ms/step - loss: 0.2540 - accuracy: 0.8979 - val_loss: 0.6860 - val_accuracy: 0.7453 - lr: 2.0000e-04\n",
      "100/100 [==============================] - 1s 9ms/step\n",
      "100/100 [==============================] - 1s 9ms/step\n"
     ]
    },
    {
     "name": "stderr",
     "output_type": "stream",
     "text": [
      "2024/10/12 02:31:32 WARNING mlflow.tensorflow: You are saving a TensorFlow Core model or Keras model without a signature. Inference with mlflow.pyfunc.spark_udf() will not work unless the model's pyfunc representation accepts pandas DataFrames as inference inputs.\n",
      "WARNING:absl:Found untraced functions such as _jit_compiled_convolution_op, _update_step_xla while saving (showing 2 of 2). These functions will not be directly callable after loading.\n"
     ]
    },
    {
     "name": "stdout",
     "output_type": "stream",
     "text": [
      "INFO:tensorflow:Assets written to: C:\\Users\\trist\\AppData\\Local\\Temp\\tmpam09rrzy\\model\\data\\model\\assets\n"
     ]
    },
    {
     "name": "stderr",
     "output_type": "stream",
     "text": [
      "INFO:tensorflow:Assets written to: C:\\Users\\trist\\AppData\\Local\\Temp\\tmpam09rrzy\\model\\data\\model\\assets\n",
      "2024/10/12 02:31:40 WARNING mlflow.models.model: Model logged without a signature and input example. Please set `input_example` parameter when logging the model to auto infer the model signature.\n"
     ]
    },
    {
     "name": "stdout",
     "output_type": "stream",
     "text": [
      "Epoch 1/20\n",
      "200/200 [==============================] - 14s 67ms/step - loss: 0.7814 - accuracy: 0.5857 - val_loss: 0.6756 - val_accuracy: 0.6831 - lr: 0.0010\n",
      "Epoch 2/20\n",
      "200/200 [==============================] - 13s 66ms/step - loss: 0.5745 - accuracy: 0.7067 - val_loss: 0.6175 - val_accuracy: 0.7294 - lr: 0.0010\n",
      "Epoch 3/20\n",
      "200/200 [==============================] - 13s 66ms/step - loss: 0.5114 - accuracy: 0.7573 - val_loss: 0.5239 - val_accuracy: 0.7503 - lr: 0.0010\n",
      "Epoch 4/20\n",
      "200/200 [==============================] - 13s 66ms/step - loss: 0.4621 - accuracy: 0.7823 - val_loss: 0.5241 - val_accuracy: 0.7359 - lr: 0.0010\n",
      "Epoch 5/20\n",
      "200/200 [==============================] - 13s 66ms/step - loss: 0.4204 - accuracy: 0.8089 - val_loss: 0.5136 - val_accuracy: 0.7559 - lr: 0.0010\n",
      "Epoch 6/20\n",
      "200/200 [==============================] - 13s 66ms/step - loss: 0.3751 - accuracy: 0.8376 - val_loss: 0.6109 - val_accuracy: 0.7294 - lr: 0.0010\n",
      "Epoch 7/20\n",
      "200/200 [==============================] - 13s 66ms/step - loss: 0.3182 - accuracy: 0.8627 - val_loss: 0.6537 - val_accuracy: 0.7428 - lr: 0.0010\n",
      "Epoch 8/20\n",
      "200/200 [==============================] - 13s 66ms/step - loss: 0.2115 - accuracy: 0.9162 - val_loss: 0.7277 - val_accuracy: 0.7450 - lr: 2.0000e-04\n",
      "Epoch 9/20\n",
      "200/200 [==============================] - 13s 66ms/step - loss: 0.1619 - accuracy: 0.9371 - val_loss: 0.8710 - val_accuracy: 0.7406 - lr: 2.0000e-04\n",
      "100/100 [==============================] - 1s 12ms/step\n",
      "100/100 [==============================] - 1s 12ms/step\n"
     ]
    },
    {
     "name": "stderr",
     "output_type": "stream",
     "text": [
      "2024/10/12 02:33:43 WARNING mlflow.tensorflow: You are saving a TensorFlow Core model or Keras model without a signature. Inference with mlflow.pyfunc.spark_udf() will not work unless the model's pyfunc representation accepts pandas DataFrames as inference inputs.\n",
      "WARNING:absl:Found untraced functions such as _jit_compiled_convolution_op, _update_step_xla while saving (showing 2 of 2). These functions will not be directly callable after loading.\n"
     ]
    },
    {
     "name": "stdout",
     "output_type": "stream",
     "text": [
      "INFO:tensorflow:Assets written to: C:\\Users\\trist\\AppData\\Local\\Temp\\tmp3eflqvoy\\model\\data\\model\\assets\n"
     ]
    },
    {
     "name": "stderr",
     "output_type": "stream",
     "text": [
      "INFO:tensorflow:Assets written to: C:\\Users\\trist\\AppData\\Local\\Temp\\tmp3eflqvoy\\model\\data\\model\\assets\n",
      "2024/10/12 02:33:51 WARNING mlflow.models.model: Model logged without a signature and input example. Please set `input_example` parameter when logging the model to auto infer the model signature.\n"
     ]
    },
    {
     "name": "stdout",
     "output_type": "stream",
     "text": [
      "Epoch 1/20\n",
      "200/200 [==============================] - 25s 122ms/step - loss: 0.7979 - accuracy: 0.5877 - val_loss: 0.6688 - val_accuracy: 0.6984 - lr: 0.0010\n",
      "Epoch 2/20\n",
      "200/200 [==============================] - 24s 121ms/step - loss: 0.5726 - accuracy: 0.7041 - val_loss: 0.5910 - val_accuracy: 0.7297 - lr: 0.0010\n",
      "Epoch 3/20\n",
      "200/200 [==============================] - 24s 121ms/step - loss: 0.5075 - accuracy: 0.7552 - val_loss: 0.5134 - val_accuracy: 0.7538 - lr: 0.0010\n",
      "Epoch 4/20\n",
      "200/200 [==============================] - 24s 121ms/step - loss: 0.4594 - accuracy: 0.7960 - val_loss: 0.4987 - val_accuracy: 0.7606 - lr: 0.0010\n",
      "Epoch 5/20\n",
      "200/200 [==============================] - 24s 121ms/step - loss: 0.4007 - accuracy: 0.8209 - val_loss: 0.5191 - val_accuracy: 0.7444 - lr: 0.0010\n",
      "Epoch 6/20\n",
      "200/200 [==============================] - 24s 121ms/step - loss: 0.3448 - accuracy: 0.8549 - val_loss: 0.5765 - val_accuracy: 0.7447 - lr: 0.0010\n",
      "Epoch 7/20\n",
      "200/200 [==============================] - 24s 121ms/step - loss: 0.2166 - accuracy: 0.9167 - val_loss: 0.7141 - val_accuracy: 0.7475 - lr: 2.0000e-04\n",
      "Epoch 8/20\n",
      "200/200 [==============================] - 24s 121ms/step - loss: 0.1606 - accuracy: 0.9409 - val_loss: 0.8104 - val_accuracy: 0.7466 - lr: 2.0000e-04\n",
      "100/100 [==============================] - 2s 23ms/step\n",
      "100/100 [==============================] - 2s 23ms/step\n"
     ]
    },
    {
     "name": "stderr",
     "output_type": "stream",
     "text": [
      "2024/10/12 02:37:11 WARNING mlflow.tensorflow: You are saving a TensorFlow Core model or Keras model without a signature. Inference with mlflow.pyfunc.spark_udf() will not work unless the model's pyfunc representation accepts pandas DataFrames as inference inputs.\n",
      "WARNING:absl:Found untraced functions such as _jit_compiled_convolution_op, _update_step_xla while saving (showing 2 of 2). These functions will not be directly callable after loading.\n"
     ]
    },
    {
     "name": "stdout",
     "output_type": "stream",
     "text": [
      "INFO:tensorflow:Assets written to: C:\\Users\\trist\\AppData\\Local\\Temp\\tmp57bvs7df\\model\\data\\model\\assets\n"
     ]
    },
    {
     "name": "stderr",
     "output_type": "stream",
     "text": [
      "INFO:tensorflow:Assets written to: C:\\Users\\trist\\AppData\\Local\\Temp\\tmp57bvs7df\\model\\data\\model\\assets\n",
      "2024/10/12 02:37:18 WARNING mlflow.models.model: Model logged without a signature and input example. Please set `input_example` parameter when logging the model to auto infer the model signature.\n"
     ]
    },
    {
     "name": "stdout",
     "output_type": "stream",
     "text": [
      "Epoch 1/20\n",
      "200/200 [==============================] - 13s 61ms/step - loss: 0.7581 - accuracy: 0.5780 - val_loss: 0.6737 - val_accuracy: 0.6919 - lr: 0.0010\n",
      "Epoch 2/20\n",
      "200/200 [==============================] - 12s 59ms/step - loss: 0.5708 - accuracy: 0.7059 - val_loss: 0.6086 - val_accuracy: 0.7163 - lr: 0.0010\n",
      "Epoch 3/20\n",
      "200/200 [==============================] - 12s 59ms/step - loss: 0.5166 - accuracy: 0.7545 - val_loss: 0.5368 - val_accuracy: 0.7403 - lr: 0.0010\n",
      "Epoch 4/20\n",
      "200/200 [==============================] - 12s 59ms/step - loss: 0.4602 - accuracy: 0.7863 - val_loss: 0.5263 - val_accuracy: 0.7328 - lr: 0.0010\n",
      "Epoch 5/20\n",
      "200/200 [==============================] - 12s 59ms/step - loss: 0.4086 - accuracy: 0.8208 - val_loss: 0.5657 - val_accuracy: 0.7316 - lr: 0.0010\n",
      "Epoch 6/20\n",
      "200/200 [==============================] - 12s 59ms/step - loss: 0.3549 - accuracy: 0.8472 - val_loss: 0.5970 - val_accuracy: 0.7303 - lr: 0.0010\n",
      "Epoch 7/20\n",
      "200/200 [==============================] - 12s 59ms/step - loss: 0.2388 - accuracy: 0.9056 - val_loss: 0.6684 - val_accuracy: 0.7291 - lr: 2.0000e-04\n",
      "Epoch 8/20\n",
      "200/200 [==============================] - 12s 60ms/step - loss: 0.1848 - accuracy: 0.9319 - val_loss: 0.7432 - val_accuracy: 0.7309 - lr: 2.0000e-04\n",
      "100/100 [==============================] - 1s 12ms/step\n",
      "100/100 [==============================] - 1s 12ms/step\n"
     ]
    },
    {
     "name": "stderr",
     "output_type": "stream",
     "text": [
      "2024/10/12 02:38:58 WARNING mlflow.tensorflow: You are saving a TensorFlow Core model or Keras model without a signature. Inference with mlflow.pyfunc.spark_udf() will not work unless the model's pyfunc representation accepts pandas DataFrames as inference inputs.\n",
      "WARNING:absl:Found untraced functions such as _jit_compiled_convolution_op, _update_step_xla while saving (showing 2 of 2). These functions will not be directly callable after loading.\n"
     ]
    },
    {
     "name": "stdout",
     "output_type": "stream",
     "text": [
      "INFO:tensorflow:Assets written to: C:\\Users\\trist\\AppData\\Local\\Temp\\tmpamhim08p\\model\\data\\model\\assets\n"
     ]
    },
    {
     "name": "stderr",
     "output_type": "stream",
     "text": [
      "INFO:tensorflow:Assets written to: C:\\Users\\trist\\AppData\\Local\\Temp\\tmpamhim08p\\model\\data\\model\\assets\n",
      "2024/10/12 02:39:06 WARNING mlflow.models.model: Model logged without a signature and input example. Please set `input_example` parameter when logging the model to auto infer the model signature.\n"
     ]
    },
    {
     "name": "stdout",
     "output_type": "stream",
     "text": [
      "Epoch 1/20\n",
      "200/200 [==============================] - 18s 88ms/step - loss: 0.8122 - accuracy: 0.5767 - val_loss: 0.6791 - val_accuracy: 0.6581 - lr: 0.0010\n",
      "Epoch 2/20\n",
      "200/200 [==============================] - 17s 86ms/step - loss: 0.5784 - accuracy: 0.7033 - val_loss: 0.6154 - val_accuracy: 0.7481 - lr: 0.0010\n",
      "Epoch 3/20\n",
      "200/200 [==============================] - 17s 86ms/step - loss: 0.5099 - accuracy: 0.7541 - val_loss: 0.5481 - val_accuracy: 0.7234 - lr: 0.0010\n",
      "Epoch 4/20\n",
      "200/200 [==============================] - 17s 86ms/step - loss: 0.4497 - accuracy: 0.7898 - val_loss: 0.5290 - val_accuracy: 0.7275 - lr: 0.0010\n",
      "Epoch 5/20\n",
      "200/200 [==============================] - 17s 86ms/step - loss: 0.3835 - accuracy: 0.8287 - val_loss: 0.5371 - val_accuracy: 0.7475 - lr: 0.0010\n",
      "Epoch 6/20\n",
      "200/200 [==============================] - 17s 86ms/step - loss: 0.3276 - accuracy: 0.8614 - val_loss: 0.6136 - val_accuracy: 0.7384 - lr: 0.0010\n",
      "Epoch 7/20\n",
      "200/200 [==============================] - 17s 86ms/step - loss: 0.1985 - accuracy: 0.9230 - val_loss: 0.7409 - val_accuracy: 0.7419 - lr: 2.0000e-04\n",
      "Epoch 8/20\n",
      "200/200 [==============================] - 17s 86ms/step - loss: 0.1456 - accuracy: 0.9457 - val_loss: 0.8412 - val_accuracy: 0.7434 - lr: 2.0000e-04\n",
      "100/100 [==============================] - 2s 18ms/step\n",
      "100/100 [==============================] - 2s 18ms/step\n"
     ]
    },
    {
     "name": "stderr",
     "output_type": "stream",
     "text": [
      "2024/10/12 02:41:30 WARNING mlflow.tensorflow: You are saving a TensorFlow Core model or Keras model without a signature. Inference with mlflow.pyfunc.spark_udf() will not work unless the model's pyfunc representation accepts pandas DataFrames as inference inputs.\n",
      "WARNING:absl:Found untraced functions such as _jit_compiled_convolution_op, _update_step_xla while saving (showing 2 of 2). These functions will not be directly callable after loading.\n"
     ]
    },
    {
     "name": "stdout",
     "output_type": "stream",
     "text": [
      "INFO:tensorflow:Assets written to: C:\\Users\\trist\\AppData\\Local\\Temp\\tmpxeq1ltlf\\model\\data\\model\\assets\n"
     ]
    },
    {
     "name": "stderr",
     "output_type": "stream",
     "text": [
      "INFO:tensorflow:Assets written to: C:\\Users\\trist\\AppData\\Local\\Temp\\tmpxeq1ltlf\\model\\data\\model\\assets\n",
      "2024/10/12 02:41:37 WARNING mlflow.models.model: Model logged without a signature and input example. Please set `input_example` parameter when logging the model to auto infer the model signature.\n"
     ]
    },
    {
     "name": "stdout",
     "output_type": "stream",
     "text": [
      "Epoch 1/20\n",
      "200/200 [==============================] - 33s 163ms/step - loss: 0.7957 - accuracy: 0.5780 - val_loss: 0.6716 - val_accuracy: 0.6528 - lr: 0.0010\n",
      "Epoch 2/20\n",
      "200/200 [==============================] - 32s 161ms/step - loss: 0.5797 - accuracy: 0.6948 - val_loss: 0.5940 - val_accuracy: 0.7350 - lr: 0.0010\n",
      "Epoch 3/20\n",
      "200/200 [==============================] - 32s 161ms/step - loss: 0.5060 - accuracy: 0.7600 - val_loss: 0.5277 - val_accuracy: 0.7469 - lr: 0.0010\n",
      "Epoch 4/20\n",
      "200/200 [==============================] - 32s 161ms/step - loss: 0.4411 - accuracy: 0.7994 - val_loss: 0.5250 - val_accuracy: 0.7437 - lr: 0.0010\n",
      "Epoch 5/20\n",
      "200/200 [==============================] - 32s 161ms/step - loss: 0.3734 - accuracy: 0.8377 - val_loss: 0.5307 - val_accuracy: 0.7494 - lr: 0.0010\n",
      "Epoch 6/20\n",
      "200/200 [==============================] - 32s 161ms/step - loss: 0.3061 - accuracy: 0.8737 - val_loss: 0.6309 - val_accuracy: 0.7441 - lr: 0.0010\n",
      "Epoch 7/20\n",
      "200/200 [==============================] - 32s 161ms/step - loss: 0.1821 - accuracy: 0.9339 - val_loss: 0.7267 - val_accuracy: 0.7437 - lr: 2.0000e-04\n",
      "Epoch 8/20\n",
      "200/200 [==============================] - 32s 161ms/step - loss: 0.1172 - accuracy: 0.9576 - val_loss: 0.8624 - val_accuracy: 0.7447 - lr: 2.0000e-04\n",
      "100/100 [==============================] - 3s 33ms/step\n",
      "100/100 [==============================] - 3s 32ms/step\n"
     ]
    },
    {
     "name": "stderr",
     "output_type": "stream",
     "text": [
      "2024/10/12 02:46:03 WARNING mlflow.tensorflow: You are saving a TensorFlow Core model or Keras model without a signature. Inference with mlflow.pyfunc.spark_udf() will not work unless the model's pyfunc representation accepts pandas DataFrames as inference inputs.\n",
      "WARNING:absl:Found untraced functions such as _jit_compiled_convolution_op, _update_step_xla while saving (showing 2 of 2). These functions will not be directly callable after loading.\n"
     ]
    },
    {
     "name": "stdout",
     "output_type": "stream",
     "text": [
      "INFO:tensorflow:Assets written to: C:\\Users\\trist\\AppData\\Local\\Temp\\tmpvkheszfj\\model\\data\\model\\assets\n"
     ]
    },
    {
     "name": "stderr",
     "output_type": "stream",
     "text": [
      "INFO:tensorflow:Assets written to: C:\\Users\\trist\\AppData\\Local\\Temp\\tmpvkheszfj\\model\\data\\model\\assets\n",
      "2024/10/12 02:46:10 WARNING mlflow.models.model: Model logged without a signature and input example. Please set `input_example` parameter when logging the model to auto infer the model signature.\n"
     ]
    },
    {
     "name": "stdout",
     "output_type": "stream",
     "text": [
      "Meilleurs paramètres : {'activation_type': 'relu', 'dropout_rate': 0.5, 'kernel_size': 3, 'num_filters': 128} avec une accuracy de 0.7541\n"
     ]
    }
   ],
   "source": [
    "# Entraîner le modèle avec les données correctement formatées\n",
    "best_cnn_model_lemma_w2v, best_params_lemma_w2v = train_and_log_cnn(\n",
    "    X_train_lemma_w2v, y_train_lemma_w2v, X_test_lemma_w2v, y_test_lemma_w2v, \n",
    "    experiment_name=\"CNN_Word2Vec_Lemmatization\", param_grid=param_grid_cnn, max_length=100\n",
    ")\n"
   ]
  },
  {
   "cell_type": "code",
   "execution_count": 42,
   "id": "910b5c92-aae8-4713-8ebd-124ecf51142b",
   "metadata": {
    "scrolled": true
   },
   "outputs": [
    {
     "name": "stderr",
     "output_type": "stream",
     "text": [
      "WARNING:root:Malformed experiment 'matrice'. Detailed error Yaml file 'D:\\Master_Openclassroom\\Github\\projet7-op\\notebooks\\modèle_avancé\\mlruns\\matrice\\meta.yaml' does not exist.\n",
      "Traceback (most recent call last):\n",
      "  File \"D:\\Master_Openclassroom\\python\\Lib\\site-packages\\mlflow\\store\\tracking\\file_store.py\", line 327, in search_experiments\n",
      "    exp = self._get_experiment(exp_id, view_type)\n",
      "          ^^^^^^^^^^^^^^^^^^^^^^^^^^^^^^^^^^^^^^^\n",
      "  File \"D:\\Master_Openclassroom\\python\\Lib\\site-packages\\mlflow\\store\\tracking\\file_store.py\", line 421, in _get_experiment\n",
      "    meta = FileStore._read_yaml(experiment_dir, FileStore.META_DATA_FILE_NAME)\n",
      "           ^^^^^^^^^^^^^^^^^^^^^^^^^^^^^^^^^^^^^^^^^^^^^^^^^^^^^^^^^^^^^^^^^^^\n",
      "  File \"D:\\Master_Openclassroom\\python\\Lib\\site-packages\\mlflow\\store\\tracking\\file_store.py\", line 1367, in _read_yaml\n",
      "    return _read_helper(root, file_name, attempts_remaining=retries)\n",
      "           ^^^^^^^^^^^^^^^^^^^^^^^^^^^^^^^^^^^^^^^^^^^^^^^^^^^^^^^^^\n",
      "  File \"D:\\Master_Openclassroom\\python\\Lib\\site-packages\\mlflow\\store\\tracking\\file_store.py\", line 1360, in _read_helper\n",
      "    result = read_yaml(root, file_name)\n",
      "             ^^^^^^^^^^^^^^^^^^^^^^^^^^\n",
      "  File \"D:\\Master_Openclassroom\\python\\Lib\\site-packages\\mlflow\\utils\\file_utils.py\", line 309, in read_yaml\n",
      "    raise MissingConfigException(f\"Yaml file '{file_path}' does not exist.\")\n",
      "mlflow.exceptions.MissingConfigException: Yaml file 'D:\\Master_Openclassroom\\Github\\projet7-op\\notebooks\\modèle_avancé\\mlruns\\matrice\\meta.yaml' does not exist.\n"
     ]
    },
    {
     "name": "stdout",
     "output_type": "stream",
     "text": [
      "Epoch 1/20\n",
      "200/200 [==============================] - 10s 45ms/step - loss: 0.6721 - accuracy: 0.6129 - val_loss: 0.6671 - val_accuracy: 0.6919 - lr: 0.0010\n",
      "Epoch 2/20\n",
      "200/200 [==============================] - 9s 43ms/step - loss: 0.5404 - accuracy: 0.7254 - val_loss: 0.5971 - val_accuracy: 0.7381 - lr: 0.0010\n",
      "Epoch 3/20\n",
      "200/200 [==============================] - 9s 43ms/step - loss: 0.4876 - accuracy: 0.7618 - val_loss: 0.5306 - val_accuracy: 0.7447 - lr: 0.0010\n",
      "Epoch 4/20\n",
      "200/200 [==============================] - 9s 43ms/step - loss: 0.4463 - accuracy: 0.7922 - val_loss: 0.5058 - val_accuracy: 0.7516 - lr: 0.0010\n",
      "Epoch 5/20\n",
      "200/200 [==============================] - 9s 43ms/step - loss: 0.4111 - accuracy: 0.8112 - val_loss: 0.5104 - val_accuracy: 0.7563 - lr: 0.0010\n",
      "Epoch 6/20\n",
      "200/200 [==============================] - 9s 43ms/step - loss: 0.3706 - accuracy: 0.8371 - val_loss: 0.5491 - val_accuracy: 0.7519 - lr: 0.0010\n",
      "Epoch 7/20\n",
      "200/200 [==============================] - 9s 43ms/step - loss: 0.2773 - accuracy: 0.8836 - val_loss: 0.6321 - val_accuracy: 0.7531 - lr: 2.0000e-04\n",
      "Epoch 8/20\n",
      "200/200 [==============================] - 9s 43ms/step - loss: 0.2327 - accuracy: 0.9034 - val_loss: 0.6791 - val_accuracy: 0.7487 - lr: 2.0000e-04\n",
      "100/100 [==============================] - 1s 9ms/step\n",
      "100/100 [==============================] - 1s 8ms/step\n"
     ]
    },
    {
     "name": "stderr",
     "output_type": "stream",
     "text": [
      "2024/10/12 02:47:23 WARNING mlflow.tensorflow: You are saving a TensorFlow Core model or Keras model without a signature. Inference with mlflow.pyfunc.spark_udf() will not work unless the model's pyfunc representation accepts pandas DataFrames as inference inputs.\n",
      "WARNING:absl:Found untraced functions such as _jit_compiled_convolution_op, _update_step_xla while saving (showing 2 of 2). These functions will not be directly callable after loading.\n"
     ]
    },
    {
     "name": "stdout",
     "output_type": "stream",
     "text": [
      "INFO:tensorflow:Assets written to: C:\\Users\\trist\\AppData\\Local\\Temp\\tmp60plqloi\\model\\data\\model\\assets\n"
     ]
    },
    {
     "name": "stderr",
     "output_type": "stream",
     "text": [
      "INFO:tensorflow:Assets written to: C:\\Users\\trist\\AppData\\Local\\Temp\\tmp60plqloi\\model\\data\\model\\assets\n",
      "2024/10/12 02:47:31 WARNING mlflow.models.model: Model logged without a signature and input example. Please set `input_example` parameter when logging the model to auto infer the model signature.\n"
     ]
    },
    {
     "name": "stdout",
     "output_type": "stream",
     "text": [
      "Epoch 1/20\n",
      "200/200 [==============================] - 20s 97ms/step - loss: 0.6758 - accuracy: 0.6270 - val_loss: 0.6633 - val_accuracy: 0.6687 - lr: 0.0010\n",
      "Epoch 2/20\n",
      "200/200 [==============================] - 19s 96ms/step - loss: 0.5307 - accuracy: 0.7343 - val_loss: 0.5986 - val_accuracy: 0.7056 - lr: 0.0010\n",
      "Epoch 3/20\n",
      "200/200 [==============================] - 19s 96ms/step - loss: 0.4733 - accuracy: 0.7748 - val_loss: 0.5243 - val_accuracy: 0.7519 - lr: 0.0010\n",
      "Epoch 4/20\n",
      "200/200 [==============================] - 19s 97ms/step - loss: 0.4293 - accuracy: 0.8027 - val_loss: 0.5110 - val_accuracy: 0.7519 - lr: 0.0010\n",
      "Epoch 5/20\n",
      "200/200 [==============================] - 19s 97ms/step - loss: 0.3765 - accuracy: 0.8328 - val_loss: 0.6239 - val_accuracy: 0.7391 - lr: 0.0010\n",
      "Epoch 6/20\n",
      "200/200 [==============================] - 19s 97ms/step - loss: 0.3386 - accuracy: 0.8515 - val_loss: 0.5717 - val_accuracy: 0.7534 - lr: 0.0010\n",
      "Epoch 7/20\n",
      "200/200 [==============================] - 19s 97ms/step - loss: 0.2252 - accuracy: 0.9099 - val_loss: 0.6692 - val_accuracy: 0.7516 - lr: 2.0000e-04\n",
      "Epoch 8/20\n",
      "200/200 [==============================] - 19s 97ms/step - loss: 0.1784 - accuracy: 0.9278 - val_loss: 0.7664 - val_accuracy: 0.7516 - lr: 2.0000e-04\n",
      "100/100 [==============================] - 2s 17ms/step\n",
      "100/100 [==============================] - 2s 17ms/step\n"
     ]
    },
    {
     "name": "stderr",
     "output_type": "stream",
     "text": [
      "2024/10/12 02:50:12 WARNING mlflow.tensorflow: You are saving a TensorFlow Core model or Keras model without a signature. Inference with mlflow.pyfunc.spark_udf() will not work unless the model's pyfunc representation accepts pandas DataFrames as inference inputs.\n",
      "WARNING:absl:Found untraced functions such as _jit_compiled_convolution_op, _update_step_xla while saving (showing 2 of 2). These functions will not be directly callable after loading.\n"
     ]
    },
    {
     "name": "stdout",
     "output_type": "stream",
     "text": [
      "INFO:tensorflow:Assets written to: C:\\Users\\trist\\AppData\\Local\\Temp\\tmpclmu151x\\model\\data\\model\\assets\n"
     ]
    },
    {
     "name": "stderr",
     "output_type": "stream",
     "text": [
      "INFO:tensorflow:Assets written to: C:\\Users\\trist\\AppData\\Local\\Temp\\tmpclmu151x\\model\\data\\model\\assets\n",
      "2024/10/12 02:50:19 WARNING mlflow.models.model: Model logged without a signature and input example. Please set `input_example` parameter when logging the model to auto infer the model signature.\n"
     ]
    },
    {
     "name": "stdout",
     "output_type": "stream",
     "text": [
      "Epoch 1/20\n",
      "200/200 [==============================] - 35s 171ms/step - loss: 0.6929 - accuracy: 0.6136 - val_loss: 0.6765 - val_accuracy: 0.6934 - lr: 0.0010\n",
      "Epoch 2/20\n",
      "200/200 [==============================] - 34s 169ms/step - loss: 0.5438 - accuracy: 0.7262 - val_loss: 0.5995 - val_accuracy: 0.7437 - lr: 0.0010\n",
      "Epoch 3/20\n",
      "200/200 [==============================] - 34s 170ms/step - loss: 0.4813 - accuracy: 0.7717 - val_loss: 0.5225 - val_accuracy: 0.7497 - lr: 0.0010\n",
      "Epoch 4/20\n",
      "200/200 [==============================] - 34s 170ms/step - loss: 0.4271 - accuracy: 0.8031 - val_loss: 0.5235 - val_accuracy: 0.7441 - lr: 0.0010\n",
      "Epoch 5/20\n",
      "200/200 [==============================] - 34s 170ms/step - loss: 0.3842 - accuracy: 0.8238 - val_loss: 0.5212 - val_accuracy: 0.7503 - lr: 0.0010\n",
      "Epoch 6/20\n",
      "200/200 [==============================] - 34s 169ms/step - loss: 0.3246 - accuracy: 0.8551 - val_loss: 0.5768 - val_accuracy: 0.7497 - lr: 0.0010\n",
      "Epoch 7/20\n",
      "200/200 [==============================] - 34s 168ms/step - loss: 0.2811 - accuracy: 0.8783 - val_loss: 0.8296 - val_accuracy: 0.7331 - lr: 0.0010\n",
      "Epoch 8/20\n",
      "200/200 [==============================] - 33s 167ms/step - loss: 0.1686 - accuracy: 0.9321 - val_loss: 0.7503 - val_accuracy: 0.7550 - lr: 2.0000e-04\n",
      "Epoch 9/20\n",
      "200/200 [==============================] - 33s 167ms/step - loss: 0.1162 - accuracy: 0.9542 - val_loss: 0.8248 - val_accuracy: 0.7447 - lr: 2.0000e-04\n",
      "100/100 [==============================] - 3s 31ms/step\n",
      "100/100 [==============================] - 3s 32ms/step\n"
     ]
    },
    {
     "name": "stderr",
     "output_type": "stream",
     "text": [
      "2024/10/12 02:55:31 WARNING mlflow.tensorflow: You are saving a TensorFlow Core model or Keras model without a signature. Inference with mlflow.pyfunc.spark_udf() will not work unless the model's pyfunc representation accepts pandas DataFrames as inference inputs.\n",
      "WARNING:absl:Found untraced functions such as _jit_compiled_convolution_op, _update_step_xla while saving (showing 2 of 2). These functions will not be directly callable after loading.\n"
     ]
    },
    {
     "name": "stdout",
     "output_type": "stream",
     "text": [
      "INFO:tensorflow:Assets written to: C:\\Users\\trist\\AppData\\Local\\Temp\\tmptzjxm_rx\\model\\data\\model\\assets\n"
     ]
    },
    {
     "name": "stderr",
     "output_type": "stream",
     "text": [
      "INFO:tensorflow:Assets written to: C:\\Users\\trist\\AppData\\Local\\Temp\\tmptzjxm_rx\\model\\data\\model\\assets\n",
      "2024/10/12 02:55:39 WARNING mlflow.models.model: Model logged without a signature and input example. Please set `input_example` parameter when logging the model to auto infer the model signature.\n"
     ]
    },
    {
     "name": "stdout",
     "output_type": "stream",
     "text": [
      "Epoch 1/20\n",
      "200/200 [==============================] - 18s 83ms/step - loss: 0.6766 - accuracy: 0.6122 - val_loss: 0.6696 - val_accuracy: 0.7125 - lr: 0.0010\n",
      "Epoch 2/20\n",
      "200/200 [==============================] - 16s 81ms/step - loss: 0.5460 - accuracy: 0.7237 - val_loss: 0.5970 - val_accuracy: 0.7237 - lr: 0.0010\n",
      "Epoch 3/20\n",
      "200/200 [==============================] - 16s 82ms/step - loss: 0.4854 - accuracy: 0.7623 - val_loss: 0.5384 - val_accuracy: 0.7403 - lr: 0.0010\n",
      "Epoch 4/20\n",
      "200/200 [==============================] - 16s 81ms/step - loss: 0.4337 - accuracy: 0.7981 - val_loss: 0.5289 - val_accuracy: 0.7459 - lr: 0.0010\n",
      "Epoch 5/20\n",
      "200/200 [==============================] - 16s 82ms/step - loss: 0.3799 - accuracy: 0.8270 - val_loss: 0.5635 - val_accuracy: 0.7428 - lr: 0.0010\n",
      "Epoch 6/20\n",
      "200/200 [==============================] - 16s 81ms/step - loss: 0.3310 - accuracy: 0.8526 - val_loss: 0.6132 - val_accuracy: 0.7384 - lr: 0.0010\n",
      "Epoch 7/20\n",
      "200/200 [==============================] - 16s 82ms/step - loss: 0.2262 - accuracy: 0.9067 - val_loss: 0.6952 - val_accuracy: 0.7538 - lr: 2.0000e-04\n",
      "Epoch 8/20\n",
      "200/200 [==============================] - 16s 81ms/step - loss: 0.1709 - accuracy: 0.9297 - val_loss: 0.8193 - val_accuracy: 0.7447 - lr: 2.0000e-04\n",
      "100/100 [==============================] - 2s 17ms/step\n",
      "100/100 [==============================] - 2s 17ms/step\n"
     ]
    },
    {
     "name": "stderr",
     "output_type": "stream",
     "text": [
      "2024/10/12 02:57:55 WARNING mlflow.tensorflow: You are saving a TensorFlow Core model or Keras model without a signature. Inference with mlflow.pyfunc.spark_udf() will not work unless the model's pyfunc representation accepts pandas DataFrames as inference inputs.\n",
      "WARNING:absl:Found untraced functions such as _jit_compiled_convolution_op, _update_step_xla while saving (showing 2 of 2). These functions will not be directly callable after loading.\n"
     ]
    },
    {
     "name": "stdout",
     "output_type": "stream",
     "text": [
      "INFO:tensorflow:Assets written to: C:\\Users\\trist\\AppData\\Local\\Temp\\tmp0u92rvcr\\model\\data\\model\\assets\n"
     ]
    },
    {
     "name": "stderr",
     "output_type": "stream",
     "text": [
      "INFO:tensorflow:Assets written to: C:\\Users\\trist\\AppData\\Local\\Temp\\tmp0u92rvcr\\model\\data\\model\\assets\n",
      "2024/10/12 02:58:02 WARNING mlflow.models.model: Model logged without a signature and input example. Please set `input_example` parameter when logging the model to auto infer the model signature.\n"
     ]
    },
    {
     "name": "stdout",
     "output_type": "stream",
     "text": [
      "Epoch 1/20\n",
      "200/200 [==============================] - 24s 115ms/step - loss: 0.6785 - accuracy: 0.6198 - val_loss: 0.6636 - val_accuracy: 0.6981 - lr: 0.0010\n",
      "Epoch 2/20\n",
      "200/200 [==============================] - 23s 114ms/step - loss: 0.5435 - accuracy: 0.7265 - val_loss: 0.5991 - val_accuracy: 0.7428 - lr: 0.0010\n",
      "Epoch 3/20\n",
      "200/200 [==============================] - 23s 114ms/step - loss: 0.4779 - accuracy: 0.7717 - val_loss: 0.5241 - val_accuracy: 0.7541 - lr: 0.0010\n",
      "Epoch 4/20\n",
      "200/200 [==============================] - 23s 113ms/step - loss: 0.4270 - accuracy: 0.8032 - val_loss: 0.5181 - val_accuracy: 0.7503 - lr: 0.0010\n",
      "Epoch 5/20\n",
      "200/200 [==============================] - 23s 114ms/step - loss: 0.3644 - accuracy: 0.8398 - val_loss: 0.5437 - val_accuracy: 0.7419 - lr: 0.0010\n",
      "Epoch 6/20\n",
      "200/200 [==============================] - 23s 113ms/step - loss: 0.3064 - accuracy: 0.8703 - val_loss: 0.6065 - val_accuracy: 0.7475 - lr: 0.0010\n",
      "Epoch 7/20\n",
      "200/200 [==============================] - 23s 113ms/step - loss: 0.1747 - accuracy: 0.9322 - val_loss: 0.7535 - val_accuracy: 0.7478 - lr: 2.0000e-04\n",
      "Epoch 8/20\n",
      "200/200 [==============================] - 23s 114ms/step - loss: 0.1244 - accuracy: 0.9525 - val_loss: 0.8801 - val_accuracy: 0.7425 - lr: 2.0000e-04\n",
      "100/100 [==============================] - 2s 24ms/step\n",
      "100/100 [==============================] - 2s 23ms/step\n"
     ]
    },
    {
     "name": "stderr",
     "output_type": "stream",
     "text": [
      "2024/10/12 03:01:11 WARNING mlflow.tensorflow: You are saving a TensorFlow Core model or Keras model without a signature. Inference with mlflow.pyfunc.spark_udf() will not work unless the model's pyfunc representation accepts pandas DataFrames as inference inputs.\n",
      "WARNING:absl:Found untraced functions such as _jit_compiled_convolution_op, _update_step_xla while saving (showing 2 of 2). These functions will not be directly callable after loading.\n"
     ]
    },
    {
     "name": "stdout",
     "output_type": "stream",
     "text": [
      "INFO:tensorflow:Assets written to: C:\\Users\\trist\\AppData\\Local\\Temp\\tmp0horviho\\model\\data\\model\\assets\n"
     ]
    },
    {
     "name": "stderr",
     "output_type": "stream",
     "text": [
      "INFO:tensorflow:Assets written to: C:\\Users\\trist\\AppData\\Local\\Temp\\tmp0horviho\\model\\data\\model\\assets\n",
      "2024/10/12 03:01:18 WARNING mlflow.models.model: Model logged without a signature and input example. Please set `input_example` parameter when logging the model to auto infer the model signature.\n"
     ]
    },
    {
     "name": "stdout",
     "output_type": "stream",
     "text": [
      "Epoch 1/20\n",
      "200/200 [==============================] - 45s 221ms/step - loss: 0.6639 - accuracy: 0.6380 - val_loss: 0.6585 - val_accuracy: 0.7119 - lr: 0.0010\n",
      "Epoch 2/20\n",
      "200/200 [==============================] - 44s 220ms/step - loss: 0.5307 - accuracy: 0.7400 - val_loss: 0.5890 - val_accuracy: 0.7534 - lr: 0.0010\n",
      "Epoch 3/20\n",
      "200/200 [==============================] - 44s 220ms/step - loss: 0.4573 - accuracy: 0.7861 - val_loss: 0.5178 - val_accuracy: 0.7531 - lr: 0.0010\n",
      "Epoch 4/20\n",
      "200/200 [==============================] - 44s 222ms/step - loss: 0.3928 - accuracy: 0.8230 - val_loss: 0.5351 - val_accuracy: 0.7409 - lr: 0.0010\n",
      "Epoch 5/20\n",
      "200/200 [==============================] - 45s 223ms/step - loss: 0.3365 - accuracy: 0.8545 - val_loss: 0.7136 - val_accuracy: 0.6756 - lr: 0.0010\n",
      "Epoch 6/20\n",
      "200/200 [==============================] - 44s 222ms/step - loss: 0.1941 - accuracy: 0.9260 - val_loss: 0.6871 - val_accuracy: 0.7462 - lr: 2.0000e-04\n",
      "Epoch 7/20\n",
      "200/200 [==============================] - 45s 223ms/step - loss: 0.1267 - accuracy: 0.9541 - val_loss: 0.8733 - val_accuracy: 0.7506 - lr: 2.0000e-04\n",
      "100/100 [==============================] - 5s 45ms/step\n",
      "100/100 [==============================] - 5s 45ms/step\n"
     ]
    },
    {
     "name": "stderr",
     "output_type": "stream",
     "text": [
      "2024/10/12 03:06:40 WARNING mlflow.tensorflow: You are saving a TensorFlow Core model or Keras model without a signature. Inference with mlflow.pyfunc.spark_udf() will not work unless the model's pyfunc representation accepts pandas DataFrames as inference inputs.\n",
      "WARNING:absl:Found untraced functions such as _jit_compiled_convolution_op, _update_step_xla while saving (showing 2 of 2). These functions will not be directly callable after loading.\n"
     ]
    },
    {
     "name": "stdout",
     "output_type": "stream",
     "text": [
      "INFO:tensorflow:Assets written to: C:\\Users\\trist\\AppData\\Local\\Temp\\tmpegue8xnd\\model\\data\\model\\assets\n"
     ]
    },
    {
     "name": "stderr",
     "output_type": "stream",
     "text": [
      "INFO:tensorflow:Assets written to: C:\\Users\\trist\\AppData\\Local\\Temp\\tmpegue8xnd\\model\\data\\model\\assets\n",
      "2024/10/12 03:06:47 WARNING mlflow.models.model: Model logged without a signature and input example. Please set `input_example` parameter when logging the model to auto infer the model signature.\n"
     ]
    },
    {
     "name": "stdout",
     "output_type": "stream",
     "text": [
      "Epoch 1/20\n",
      "200/200 [==============================] - 13s 60ms/step - loss: 0.7448 - accuracy: 0.5431 - val_loss: 0.6870 - val_accuracy: 0.5225 - lr: 0.0010\n",
      "Epoch 2/20\n",
      "200/200 [==============================] - 12s 58ms/step - loss: 0.6177 - accuracy: 0.6559 - val_loss: 0.6366 - val_accuracy: 0.7038 - lr: 0.0010\n",
      "Epoch 3/20\n",
      "200/200 [==============================] - 12s 58ms/step - loss: 0.5432 - accuracy: 0.7288 - val_loss: 0.5330 - val_accuracy: 0.7428 - lr: 0.0010\n",
      "Epoch 4/20\n",
      "200/200 [==============================] - 12s 58ms/step - loss: 0.5010 - accuracy: 0.7591 - val_loss: 0.5148 - val_accuracy: 0.7425 - lr: 0.0010\n",
      "Epoch 5/20\n",
      "200/200 [==============================] - 12s 58ms/step - loss: 0.4725 - accuracy: 0.7797 - val_loss: 0.4972 - val_accuracy: 0.7634 - lr: 0.0010\n",
      "Epoch 6/20\n",
      "200/200 [==============================] - 12s 58ms/step - loss: 0.4385 - accuracy: 0.8010 - val_loss: 0.5136 - val_accuracy: 0.7553 - lr: 0.0010\n",
      "Epoch 7/20\n",
      "200/200 [==============================] - 12s 58ms/step - loss: 0.4109 - accuracy: 0.8109 - val_loss: 0.5078 - val_accuracy: 0.7531 - lr: 0.0010\n",
      "Epoch 8/20\n",
      "200/200 [==============================] - 12s 58ms/step - loss: 0.3498 - accuracy: 0.8466 - val_loss: 0.5489 - val_accuracy: 0.7591 - lr: 2.0000e-04\n",
      "Epoch 9/20\n",
      "200/200 [==============================] - 12s 58ms/step - loss: 0.3238 - accuracy: 0.8605 - val_loss: 0.5608 - val_accuracy: 0.7644 - lr: 2.0000e-04\n",
      "100/100 [==============================] - 1s 11ms/step\n",
      "100/100 [==============================] - 1s 11ms/step\n"
     ]
    },
    {
     "name": "stderr",
     "output_type": "stream",
     "text": [
      "2024/10/12 03:08:36 WARNING mlflow.tensorflow: You are saving a TensorFlow Core model or Keras model without a signature. Inference with mlflow.pyfunc.spark_udf() will not work unless the model's pyfunc representation accepts pandas DataFrames as inference inputs.\n",
      "WARNING:absl:Found untraced functions such as _jit_compiled_convolution_op, _update_step_xla while saving (showing 2 of 2). These functions will not be directly callable after loading.\n"
     ]
    },
    {
     "name": "stdout",
     "output_type": "stream",
     "text": [
      "INFO:tensorflow:Assets written to: C:\\Users\\trist\\AppData\\Local\\Temp\\tmpgk4q5avy\\model\\data\\model\\assets\n"
     ]
    },
    {
     "name": "stderr",
     "output_type": "stream",
     "text": [
      "INFO:tensorflow:Assets written to: C:\\Users\\trist\\AppData\\Local\\Temp\\tmpgk4q5avy\\model\\data\\model\\assets\n",
      "2024/10/12 03:08:43 WARNING mlflow.models.model: Model logged without a signature and input example. Please set `input_example` parameter when logging the model to auto infer the model signature.\n"
     ]
    },
    {
     "name": "stdout",
     "output_type": "stream",
     "text": [
      "Epoch 1/20\n",
      "200/200 [==============================] - 18s 83ms/step - loss: 0.7594 - accuracy: 0.5480 - val_loss: 0.6897 - val_accuracy: 0.5456 - lr: 0.0010\n",
      "Epoch 2/20\n",
      "200/200 [==============================] - 16s 83ms/step - loss: 0.6252 - accuracy: 0.6504 - val_loss: 0.6369 - val_accuracy: 0.7278 - lr: 0.0010\n",
      "Epoch 3/20\n",
      "200/200 [==============================] - 16s 82ms/step - loss: 0.5624 - accuracy: 0.7109 - val_loss: 0.5453 - val_accuracy: 0.7516 - lr: 0.0010\n",
      "Epoch 4/20\n",
      "200/200 [==============================] - 17s 83ms/step - loss: 0.5214 - accuracy: 0.7519 - val_loss: 0.5370 - val_accuracy: 0.7184 - lr: 0.0010\n",
      "Epoch 5/20\n",
      "200/200 [==============================] - 16s 82ms/step - loss: 0.4834 - accuracy: 0.7697 - val_loss: 0.5096 - val_accuracy: 0.7538 - lr: 0.0010\n",
      "Epoch 6/20\n",
      "200/200 [==============================] - 17s 83ms/step - loss: 0.4514 - accuracy: 0.7875 - val_loss: 0.5008 - val_accuracy: 0.7569 - lr: 0.0010\n",
      "Epoch 7/20\n",
      "200/200 [==============================] - 16s 82ms/step - loss: 0.4189 - accuracy: 0.8086 - val_loss: 0.5432 - val_accuracy: 0.7353 - lr: 0.0010\n",
      "Epoch 8/20\n",
      "200/200 [==============================] - 16s 82ms/step - loss: 0.3922 - accuracy: 0.8220 - val_loss: 0.5250 - val_accuracy: 0.7384 - lr: 0.0010\n",
      "Epoch 9/20\n",
      "200/200 [==============================] - 16s 82ms/step - loss: 0.3172 - accuracy: 0.8613 - val_loss: 0.5791 - val_accuracy: 0.7456 - lr: 2.0000e-04\n",
      "Epoch 10/20\n",
      "200/200 [==============================] - 16s 82ms/step - loss: 0.2762 - accuracy: 0.8855 - val_loss: 0.5726 - val_accuracy: 0.7487 - lr: 2.0000e-04\n",
      "100/100 [==============================] - 2s 14ms/step\n",
      "100/100 [==============================] - 1s 15ms/step\n"
     ]
    },
    {
     "name": "stderr",
     "output_type": "stream",
     "text": [
      "2024/10/12 03:11:33 WARNING mlflow.tensorflow: You are saving a TensorFlow Core model or Keras model without a signature. Inference with mlflow.pyfunc.spark_udf() will not work unless the model's pyfunc representation accepts pandas DataFrames as inference inputs.\n",
      "WARNING:absl:Found untraced functions such as _jit_compiled_convolution_op, _update_step_xla while saving (showing 2 of 2). These functions will not be directly callable after loading.\n"
     ]
    },
    {
     "name": "stdout",
     "output_type": "stream",
     "text": [
      "INFO:tensorflow:Assets written to: C:\\Users\\trist\\AppData\\Local\\Temp\\tmp4r7_a6ow\\model\\data\\model\\assets\n"
     ]
    },
    {
     "name": "stderr",
     "output_type": "stream",
     "text": [
      "INFO:tensorflow:Assets written to: C:\\Users\\trist\\AppData\\Local\\Temp\\tmp4r7_a6ow\\model\\data\\model\\assets\n",
      "2024/10/12 03:11:41 WARNING mlflow.models.model: Model logged without a signature and input example. Please set `input_example` parameter when logging the model to auto infer the model signature.\n"
     ]
    },
    {
     "name": "stdout",
     "output_type": "stream",
     "text": [
      "Epoch 1/20\n",
      "200/200 [==============================] - 32s 154ms/step - loss: 0.7488 - accuracy: 0.5486 - val_loss: 0.6895 - val_accuracy: 0.5431 - lr: 0.0010\n",
      "Epoch 2/20\n",
      "200/200 [==============================] - 30s 153ms/step - loss: 0.6420 - accuracy: 0.6191 - val_loss: 0.6447 - val_accuracy: 0.7166 - lr: 0.0010\n",
      "Epoch 3/20\n",
      "200/200 [==============================] - 30s 152ms/step - loss: 0.5842 - accuracy: 0.6881 - val_loss: 0.5799 - val_accuracy: 0.7409 - lr: 0.0010\n",
      "Epoch 4/20\n",
      "200/200 [==============================] - 31s 153ms/step - loss: 0.5350 - accuracy: 0.7289 - val_loss: 0.5248 - val_accuracy: 0.7622 - lr: 0.0010\n",
      "Epoch 5/20\n",
      "200/200 [==============================] - 31s 154ms/step - loss: 0.4932 - accuracy: 0.7598 - val_loss: 0.5164 - val_accuracy: 0.7500 - lr: 0.0010\n",
      "Epoch 6/20\n",
      "200/200 [==============================] - 31s 154ms/step - loss: 0.4627 - accuracy: 0.7813 - val_loss: 0.4961 - val_accuracy: 0.7622 - lr: 0.0010\n",
      "Epoch 7/20\n",
      "200/200 [==============================] - 31s 154ms/step - loss: 0.4191 - accuracy: 0.8043 - val_loss: 0.5021 - val_accuracy: 0.7697 - lr: 0.0010\n",
      "Epoch 8/20\n",
      "200/200 [==============================] - 31s 154ms/step - loss: 0.3847 - accuracy: 0.8256 - val_loss: 0.5152 - val_accuracy: 0.7622 - lr: 0.0010\n",
      "Epoch 9/20\n",
      "200/200 [==============================] - 31s 154ms/step - loss: 0.2897 - accuracy: 0.8759 - val_loss: 0.5433 - val_accuracy: 0.7653 - lr: 2.0000e-04\n",
      "Epoch 10/20\n",
      "200/200 [==============================] - 31s 154ms/step - loss: 0.2554 - accuracy: 0.8940 - val_loss: 0.5657 - val_accuracy: 0.7641 - lr: 2.0000e-04\n",
      "100/100 [==============================] - 3s 28ms/step\n",
      "100/100 [==============================] - 3s 29ms/step\n"
     ]
    },
    {
     "name": "stderr",
     "output_type": "stream",
     "text": [
      "2024/10/12 03:16:55 WARNING mlflow.tensorflow: You are saving a TensorFlow Core model or Keras model without a signature. Inference with mlflow.pyfunc.spark_udf() will not work unless the model's pyfunc representation accepts pandas DataFrames as inference inputs.\n",
      "WARNING:absl:Found untraced functions such as _jit_compiled_convolution_op, _update_step_xla while saving (showing 2 of 2). These functions will not be directly callable after loading.\n"
     ]
    },
    {
     "name": "stdout",
     "output_type": "stream",
     "text": [
      "INFO:tensorflow:Assets written to: C:\\Users\\trist\\AppData\\Local\\Temp\\tmp3n4tsmtw\\model\\data\\model\\assets\n"
     ]
    },
    {
     "name": "stderr",
     "output_type": "stream",
     "text": [
      "INFO:tensorflow:Assets written to: C:\\Users\\trist\\AppData\\Local\\Temp\\tmp3n4tsmtw\\model\\data\\model\\assets\n",
      "2024/10/12 03:17:02 WARNING mlflow.models.model: Model logged without a signature and input example. Please set `input_example` parameter when logging the model to auto infer the model signature.\n"
     ]
    },
    {
     "name": "stdout",
     "output_type": "stream",
     "text": [
      "Epoch 1/20\n",
      "200/200 [==============================] - 16s 74ms/step - loss: 0.7496 - accuracy: 0.5537 - val_loss: 0.6826 - val_accuracy: 0.5222 - lr: 0.0010\n",
      "Epoch 2/20\n",
      "200/200 [==============================] - 15s 73ms/step - loss: 0.6058 - accuracy: 0.6761 - val_loss: 0.6280 - val_accuracy: 0.6759 - lr: 0.0010\n",
      "Epoch 3/20\n",
      "200/200 [==============================] - 14s 72ms/step - loss: 0.5451 - accuracy: 0.7316 - val_loss: 0.5664 - val_accuracy: 0.7303 - lr: 0.0010\n",
      "Epoch 4/20\n",
      "200/200 [==============================] - 14s 72ms/step - loss: 0.5094 - accuracy: 0.7581 - val_loss: 0.5118 - val_accuracy: 0.7519 - lr: 0.0010\n",
      "Epoch 5/20\n",
      "200/200 [==============================] - 15s 73ms/step - loss: 0.4730 - accuracy: 0.7772 - val_loss: 0.5365 - val_accuracy: 0.7481 - lr: 0.0010\n",
      "Epoch 6/20\n",
      "200/200 [==============================] - 14s 72ms/step - loss: 0.4438 - accuracy: 0.8012 - val_loss: 0.5223 - val_accuracy: 0.7513 - lr: 0.0010\n",
      "Epoch 7/20\n",
      "200/200 [==============================] - 14s 72ms/step - loss: 0.3709 - accuracy: 0.8411 - val_loss: 0.5278 - val_accuracy: 0.7584 - lr: 2.0000e-04\n",
      "Epoch 8/20\n",
      "200/200 [==============================] - 14s 72ms/step - loss: 0.3356 - accuracy: 0.8564 - val_loss: 0.5528 - val_accuracy: 0.7528 - lr: 2.0000e-04\n",
      "100/100 [==============================] - 2s 15ms/step\n",
      "100/100 [==============================] - 2s 15ms/step\n"
     ]
    },
    {
     "name": "stderr",
     "output_type": "stream",
     "text": [
      "2024/10/12 03:19:04 WARNING mlflow.tensorflow: You are saving a TensorFlow Core model or Keras model without a signature. Inference with mlflow.pyfunc.spark_udf() will not work unless the model's pyfunc representation accepts pandas DataFrames as inference inputs.\n",
      "WARNING:absl:Found untraced functions such as _jit_compiled_convolution_op, _update_step_xla while saving (showing 2 of 2). These functions will not be directly callable after loading.\n"
     ]
    },
    {
     "name": "stdout",
     "output_type": "stream",
     "text": [
      "INFO:tensorflow:Assets written to: C:\\Users\\trist\\AppData\\Local\\Temp\\tmpb875tkey\\model\\data\\model\\assets\n"
     ]
    },
    {
     "name": "stderr",
     "output_type": "stream",
     "text": [
      "INFO:tensorflow:Assets written to: C:\\Users\\trist\\AppData\\Local\\Temp\\tmpb875tkey\\model\\data\\model\\assets\n",
      "2024/10/12 03:19:11 WARNING mlflow.models.model: Model logged without a signature and input example. Please set `input_example` parameter when logging the model to auto infer the model signature.\n"
     ]
    },
    {
     "name": "stdout",
     "output_type": "stream",
     "text": [
      "Epoch 1/20\n",
      "200/200 [==============================] - 23s 109ms/step - loss: 0.7263 - accuracy: 0.5625 - val_loss: 0.6818 - val_accuracy: 0.6606 - lr: 0.0010\n",
      "Epoch 2/20\n",
      "200/200 [==============================] - 21s 108ms/step - loss: 0.6096 - accuracy: 0.6662 - val_loss: 0.6291 - val_accuracy: 0.6969 - lr: 0.0010\n",
      "Epoch 3/20\n",
      "200/200 [==============================] - 21s 107ms/step - loss: 0.5526 - accuracy: 0.7243 - val_loss: 0.5608 - val_accuracy: 0.7219 - lr: 0.0010\n",
      "Epoch 4/20\n",
      "200/200 [==============================] - 21s 107ms/step - loss: 0.4976 - accuracy: 0.7609 - val_loss: 0.5363 - val_accuracy: 0.7372 - lr: 0.0010\n",
      "Epoch 5/20\n",
      "200/200 [==============================] - 21s 107ms/step - loss: 0.4547 - accuracy: 0.7952 - val_loss: 0.5216 - val_accuracy: 0.7519 - lr: 0.0010\n",
      "Epoch 6/20\n",
      "200/200 [==============================] - 21s 107ms/step - loss: 0.4210 - accuracy: 0.8053 - val_loss: 0.5199 - val_accuracy: 0.7541 - lr: 0.0010\n",
      "Epoch 7/20\n",
      "200/200 [==============================] - 21s 107ms/step - loss: 0.3751 - accuracy: 0.8366 - val_loss: 0.5518 - val_accuracy: 0.7541 - lr: 0.0010\n",
      "Epoch 8/20\n",
      "200/200 [==============================] - 21s 107ms/step - loss: 0.3425 - accuracy: 0.8539 - val_loss: 0.5705 - val_accuracy: 0.7456 - lr: 0.0010\n",
      "Epoch 9/20\n",
      "200/200 [==============================] - 21s 107ms/step - loss: 0.2329 - accuracy: 0.9070 - val_loss: 0.6447 - val_accuracy: 0.7484 - lr: 2.0000e-04\n",
      "Epoch 10/20\n",
      "200/200 [==============================] - 21s 107ms/step - loss: 0.1880 - accuracy: 0.9270 - val_loss: 0.6938 - val_accuracy: 0.7500 - lr: 2.0000e-04\n",
      "100/100 [==============================] - 2s 22ms/step\n",
      "100/100 [==============================] - 2s 22ms/step\n"
     ]
    },
    {
     "name": "stderr",
     "output_type": "stream",
     "text": [
      "2024/10/12 03:22:52 WARNING mlflow.tensorflow: You are saving a TensorFlow Core model or Keras model without a signature. Inference with mlflow.pyfunc.spark_udf() will not work unless the model's pyfunc representation accepts pandas DataFrames as inference inputs.\n",
      "WARNING:absl:Found untraced functions such as _jit_compiled_convolution_op, _update_step_xla while saving (showing 2 of 2). These functions will not be directly callable after loading.\n"
     ]
    },
    {
     "name": "stdout",
     "output_type": "stream",
     "text": [
      "INFO:tensorflow:Assets written to: C:\\Users\\trist\\AppData\\Local\\Temp\\tmpe57xm34q\\model\\data\\model\\assets\n"
     ]
    },
    {
     "name": "stderr",
     "output_type": "stream",
     "text": [
      "INFO:tensorflow:Assets written to: C:\\Users\\trist\\AppData\\Local\\Temp\\tmpe57xm34q\\model\\data\\model\\assets\n",
      "2024/10/12 03:22:59 WARNING mlflow.models.model: Model logged without a signature and input example. Please set `input_example` parameter when logging the model to auto infer the model signature.\n"
     ]
    },
    {
     "name": "stdout",
     "output_type": "stream",
     "text": [
      "Epoch 1/20\n",
      "200/200 [==============================] - 40s 194ms/step - loss: 0.7491 - accuracy: 0.5604 - val_loss: 0.6879 - val_accuracy: 0.5950 - lr: 0.0010\n",
      "Epoch 2/20\n",
      "200/200 [==============================] - 38s 191ms/step - loss: 0.6478 - accuracy: 0.6224 - val_loss: 0.6668 - val_accuracy: 0.6034 - lr: 0.0010\n",
      "Epoch 3/20\n",
      "200/200 [==============================] - 38s 192ms/step - loss: 0.6035 - accuracy: 0.6688 - val_loss: 0.6013 - val_accuracy: 0.6906 - lr: 0.0010\n",
      "Epoch 4/20\n",
      "200/200 [==============================] - 38s 192ms/step - loss: 0.5630 - accuracy: 0.7194 - val_loss: 0.5328 - val_accuracy: 0.7434 - lr: 0.0010\n",
      "Epoch 5/20\n",
      "200/200 [==============================] - 38s 192ms/step - loss: 0.5129 - accuracy: 0.7534 - val_loss: 0.5168 - val_accuracy: 0.7556 - lr: 0.0010\n",
      "Epoch 6/20\n",
      "200/200 [==============================] - 38s 192ms/step - loss: 0.4633 - accuracy: 0.7801 - val_loss: 0.5248 - val_accuracy: 0.7381 - lr: 0.0010\n",
      "Epoch 7/20\n",
      "200/200 [==============================] - 38s 191ms/step - loss: 0.4327 - accuracy: 0.8019 - val_loss: 0.5263 - val_accuracy: 0.7506 - lr: 0.0010\n",
      "Epoch 8/20\n",
      "200/200 [==============================] - 38s 192ms/step - loss: 0.3292 - accuracy: 0.8584 - val_loss: 0.5309 - val_accuracy: 0.7634 - lr: 2.0000e-04\n",
      "Epoch 9/20\n",
      "200/200 [==============================] - 38s 192ms/step - loss: 0.2849 - accuracy: 0.8841 - val_loss: 0.5778 - val_accuracy: 0.7559 - lr: 2.0000e-04\n",
      "100/100 [==============================] - 4s 38ms/step\n",
      "100/100 [==============================] - 4s 39ms/step\n"
     ]
    },
    {
     "name": "stderr",
     "output_type": "stream",
     "text": [
      "2024/10/12 03:28:54 WARNING mlflow.tensorflow: You are saving a TensorFlow Core model or Keras model without a signature. Inference with mlflow.pyfunc.spark_udf() will not work unless the model's pyfunc representation accepts pandas DataFrames as inference inputs.\n",
      "WARNING:absl:Found untraced functions such as _jit_compiled_convolution_op, _update_step_xla while saving (showing 2 of 2). These functions will not be directly callable after loading.\n"
     ]
    },
    {
     "name": "stdout",
     "output_type": "stream",
     "text": [
      "INFO:tensorflow:Assets written to: C:\\Users\\trist\\AppData\\Local\\Temp\\tmp9kl_a5e4\\model\\data\\model\\assets\n"
     ]
    },
    {
     "name": "stderr",
     "output_type": "stream",
     "text": [
      "INFO:tensorflow:Assets written to: C:\\Users\\trist\\AppData\\Local\\Temp\\tmp9kl_a5e4\\model\\data\\model\\assets\n",
      "2024/10/12 03:29:02 WARNING mlflow.models.model: Model logged without a signature and input example. Please set `input_example` parameter when logging the model to auto infer the model signature.\n"
     ]
    },
    {
     "name": "stdout",
     "output_type": "stream",
     "text": [
      "Epoch 1/20\n",
      "200/200 [==============================] - 12s 54ms/step - loss: 0.6708 - accuracy: 0.6084 - val_loss: 0.6659 - val_accuracy: 0.6488 - lr: 0.0010\n",
      "Epoch 2/20\n",
      "200/200 [==============================] - 11s 53ms/step - loss: 0.5409 - accuracy: 0.7254 - val_loss: 0.5920 - val_accuracy: 0.7372 - lr: 0.0010\n",
      "Epoch 3/20\n",
      "200/200 [==============================] - 11s 53ms/step - loss: 0.4814 - accuracy: 0.7700 - val_loss: 0.5195 - val_accuracy: 0.7434 - lr: 0.0010\n",
      "Epoch 4/20\n",
      "200/200 [==============================] - 11s 53ms/step - loss: 0.4460 - accuracy: 0.7891 - val_loss: 0.5209 - val_accuracy: 0.7394 - lr: 0.0010\n",
      "Epoch 5/20\n",
      "200/200 [==============================] - 11s 53ms/step - loss: 0.4027 - accuracy: 0.8145 - val_loss: 0.5217 - val_accuracy: 0.7394 - lr: 0.0010\n",
      "Epoch 6/20\n",
      "200/200 [==============================] - 11s 53ms/step - loss: 0.3148 - accuracy: 0.8659 - val_loss: 0.6035 - val_accuracy: 0.7416 - lr: 2.0000e-04\n",
      "Epoch 7/20\n",
      "200/200 [==============================] - 11s 53ms/step - loss: 0.2739 - accuracy: 0.8849 - val_loss: 0.6544 - val_accuracy: 0.7403 - lr: 2.0000e-04\n",
      "100/100 [==============================] - 1s 10ms/step\n",
      "100/100 [==============================] - 1s 10ms/step\n"
     ]
    },
    {
     "name": "stderr",
     "output_type": "stream",
     "text": [
      "2024/10/12 03:30:21 WARNING mlflow.tensorflow: You are saving a TensorFlow Core model or Keras model without a signature. Inference with mlflow.pyfunc.spark_udf() will not work unless the model's pyfunc representation accepts pandas DataFrames as inference inputs.\n",
      "WARNING:absl:Found untraced functions such as _jit_compiled_convolution_op, _update_step_xla while saving (showing 2 of 2). These functions will not be directly callable after loading.\n"
     ]
    },
    {
     "name": "stdout",
     "output_type": "stream",
     "text": [
      "INFO:tensorflow:Assets written to: C:\\Users\\trist\\AppData\\Local\\Temp\\tmpgme8x4sw\\model\\data\\model\\assets\n"
     ]
    },
    {
     "name": "stderr",
     "output_type": "stream",
     "text": [
      "INFO:tensorflow:Assets written to: C:\\Users\\trist\\AppData\\Local\\Temp\\tmpgme8x4sw\\model\\data\\model\\assets\n",
      "2024/10/12 03:30:28 WARNING mlflow.models.model: Model logged without a signature and input example. Please set `input_example` parameter when logging the model to auto infer the model signature.\n"
     ]
    },
    {
     "name": "stdout",
     "output_type": "stream",
     "text": [
      "Epoch 1/20\n",
      "200/200 [==============================] - 17s 78ms/step - loss: 0.6622 - accuracy: 0.6318 - val_loss: 0.6624 - val_accuracy: 0.7016 - lr: 0.0010\n",
      "Epoch 2/20\n",
      "200/200 [==============================] - 15s 77ms/step - loss: 0.5245 - accuracy: 0.7470 - val_loss: 0.5787 - val_accuracy: 0.7291 - lr: 0.0010\n",
      "Epoch 3/20\n",
      "200/200 [==============================] - 15s 77ms/step - loss: 0.4606 - accuracy: 0.7846 - val_loss: 0.5088 - val_accuracy: 0.7494 - lr: 0.0010\n",
      "Epoch 4/20\n",
      "200/200 [==============================] - 15s 77ms/step - loss: 0.4119 - accuracy: 0.8109 - val_loss: 0.5117 - val_accuracy: 0.7450 - lr: 0.0010\n",
      "Epoch 5/20\n",
      "200/200 [==============================] - 15s 77ms/step - loss: 0.3681 - accuracy: 0.8371 - val_loss: 0.6432 - val_accuracy: 0.7212 - lr: 0.0010\n",
      "Epoch 6/20\n",
      "200/200 [==============================] - 15s 77ms/step - loss: 0.2500 - accuracy: 0.8974 - val_loss: 0.6634 - val_accuracy: 0.7563 - lr: 2.0000e-04\n",
      "Epoch 7/20\n",
      "200/200 [==============================] - 15s 77ms/step - loss: 0.1968 - accuracy: 0.9214 - val_loss: 0.7482 - val_accuracy: 0.7434 - lr: 2.0000e-04\n",
      "100/100 [==============================] - 1s 13ms/step\n",
      "100/100 [==============================] - 1s 13ms/step\n"
     ]
    },
    {
     "name": "stderr",
     "output_type": "stream",
     "text": [
      "2024/10/12 03:32:20 WARNING mlflow.tensorflow: You are saving a TensorFlow Core model or Keras model without a signature. Inference with mlflow.pyfunc.spark_udf() will not work unless the model's pyfunc representation accepts pandas DataFrames as inference inputs.\n",
      "WARNING:absl:Found untraced functions such as _jit_compiled_convolution_op, _update_step_xla while saving (showing 2 of 2). These functions will not be directly callable after loading.\n"
     ]
    },
    {
     "name": "stdout",
     "output_type": "stream",
     "text": [
      "INFO:tensorflow:Assets written to: C:\\Users\\trist\\AppData\\Local\\Temp\\tmp0tj55lqs\\model\\data\\model\\assets\n"
     ]
    },
    {
     "name": "stderr",
     "output_type": "stream",
     "text": [
      "INFO:tensorflow:Assets written to: C:\\Users\\trist\\AppData\\Local\\Temp\\tmp0tj55lqs\\model\\data\\model\\assets\n",
      "2024/10/12 03:32:28 WARNING mlflow.models.model: Model logged without a signature and input example. Please set `input_example` parameter when logging the model to auto infer the model signature.\n"
     ]
    },
    {
     "name": "stdout",
     "output_type": "stream",
     "text": [
      "Epoch 1/20\n",
      "200/200 [==============================] - 30s 143ms/step - loss: 0.6778 - accuracy: 0.6141 - val_loss: 0.6690 - val_accuracy: 0.6637 - lr: 0.0010\n",
      "Epoch 2/20\n",
      "200/200 [==============================] - 28s 142ms/step - loss: 0.5377 - accuracy: 0.7259 - val_loss: 0.6053 - val_accuracy: 0.7041 - lr: 0.0010\n",
      "Epoch 3/20\n",
      "200/200 [==============================] - 28s 141ms/step - loss: 0.4711 - accuracy: 0.7766 - val_loss: 0.5164 - val_accuracy: 0.7519 - lr: 0.0010\n",
      "Epoch 4/20\n",
      "200/200 [==============================] - 28s 141ms/step - loss: 0.4177 - accuracy: 0.8037 - val_loss: 0.5456 - val_accuracy: 0.7306 - lr: 0.0010\n",
      "Epoch 5/20\n",
      "200/200 [==============================] - 28s 141ms/step - loss: 0.3690 - accuracy: 0.8369 - val_loss: 0.5303 - val_accuracy: 0.7600 - lr: 0.0010\n",
      "Epoch 6/20\n",
      "200/200 [==============================] - 28s 141ms/step - loss: 0.2465 - accuracy: 0.8980 - val_loss: 0.6480 - val_accuracy: 0.7538 - lr: 2.0000e-04\n",
      "Epoch 7/20\n",
      "200/200 [==============================] - 28s 141ms/step - loss: 0.1815 - accuracy: 0.9263 - val_loss: 0.7231 - val_accuracy: 0.7575 - lr: 2.0000e-04\n",
      "100/100 [==============================] - 3s 26ms/step\n",
      "100/100 [==============================] - 3s 26ms/step\n"
     ]
    },
    {
     "name": "stderr",
     "output_type": "stream",
     "text": [
      "2024/10/12 03:35:54 WARNING mlflow.tensorflow: You are saving a TensorFlow Core model or Keras model without a signature. Inference with mlflow.pyfunc.spark_udf() will not work unless the model's pyfunc representation accepts pandas DataFrames as inference inputs.\n",
      "WARNING:absl:Found untraced functions such as _jit_compiled_convolution_op, _update_step_xla while saving (showing 2 of 2). These functions will not be directly callable after loading.\n"
     ]
    },
    {
     "name": "stdout",
     "output_type": "stream",
     "text": [
      "INFO:tensorflow:Assets written to: C:\\Users\\trist\\AppData\\Local\\Temp\\tmp2tleahe3\\model\\data\\model\\assets\n"
     ]
    },
    {
     "name": "stderr",
     "output_type": "stream",
     "text": [
      "INFO:tensorflow:Assets written to: C:\\Users\\trist\\AppData\\Local\\Temp\\tmp2tleahe3\\model\\data\\model\\assets\n",
      "2024/10/12 03:36:01 WARNING mlflow.models.model: Model logged without a signature and input example. Please set `input_example` parameter when logging the model to auto infer the model signature.\n"
     ]
    },
    {
     "name": "stdout",
     "output_type": "stream",
     "text": [
      "Epoch 1/20\n",
      "200/200 [==============================] - 16s 71ms/step - loss: 0.6500 - accuracy: 0.6232 - val_loss: 0.6566 - val_accuracy: 0.7134 - lr: 0.0010\n",
      "Epoch 2/20\n",
      "200/200 [==============================] - 14s 69ms/step - loss: 0.5292 - accuracy: 0.7367 - val_loss: 0.5908 - val_accuracy: 0.7397 - lr: 0.0010\n",
      "Epoch 3/20\n",
      "200/200 [==============================] - 14s 70ms/step - loss: 0.4797 - accuracy: 0.7746 - val_loss: 0.5251 - val_accuracy: 0.7422 - lr: 0.0010\n",
      "Epoch 4/20\n",
      "200/200 [==============================] - 14s 69ms/step - loss: 0.4293 - accuracy: 0.8013 - val_loss: 0.5387 - val_accuracy: 0.7359 - lr: 0.0010\n",
      "Epoch 5/20\n",
      "200/200 [==============================] - 14s 70ms/step - loss: 0.3736 - accuracy: 0.8342 - val_loss: 0.5901 - val_accuracy: 0.7503 - lr: 0.0010\n",
      "Epoch 6/20\n",
      "200/200 [==============================] - 14s 69ms/step - loss: 0.2707 - accuracy: 0.8861 - val_loss: 0.6274 - val_accuracy: 0.7509 - lr: 2.0000e-04\n",
      "Epoch 7/20\n",
      "200/200 [==============================] - 14s 69ms/step - loss: 0.2150 - accuracy: 0.9131 - val_loss: 0.7512 - val_accuracy: 0.7356 - lr: 2.0000e-04\n",
      "100/100 [==============================] - 2s 15ms/step\n",
      "100/100 [==============================] - 1s 14ms/step\n"
     ]
    },
    {
     "name": "stderr",
     "output_type": "stream",
     "text": [
      "2024/10/12 03:37:43 WARNING mlflow.tensorflow: You are saving a TensorFlow Core model or Keras model without a signature. Inference with mlflow.pyfunc.spark_udf() will not work unless the model's pyfunc representation accepts pandas DataFrames as inference inputs.\n",
      "WARNING:absl:Found untraced functions such as _jit_compiled_convolution_op, _update_step_xla while saving (showing 2 of 2). These functions will not be directly callable after loading.\n"
     ]
    },
    {
     "name": "stdout",
     "output_type": "stream",
     "text": [
      "INFO:tensorflow:Assets written to: C:\\Users\\trist\\AppData\\Local\\Temp\\tmphw1tcf89\\model\\data\\model\\assets\n"
     ]
    },
    {
     "name": "stderr",
     "output_type": "stream",
     "text": [
      "INFO:tensorflow:Assets written to: C:\\Users\\trist\\AppData\\Local\\Temp\\tmphw1tcf89\\model\\data\\model\\assets\n",
      "2024/10/12 03:37:51 WARNING mlflow.models.model: Model logged without a signature and input example. Please set `input_example` parameter when logging the model to auto infer the model signature.\n"
     ]
    },
    {
     "name": "stdout",
     "output_type": "stream",
     "text": [
      "Epoch 1/20\n",
      "200/200 [==============================] - 20s 97ms/step - loss: 0.6757 - accuracy: 0.6080 - val_loss: 0.6691 - val_accuracy: 0.6484 - lr: 0.0010\n",
      "Epoch 2/20\n",
      "200/200 [==============================] - 19s 97ms/step - loss: 0.5499 - accuracy: 0.7191 - val_loss: 0.5881 - val_accuracy: 0.7459 - lr: 0.0010\n",
      "Epoch 3/20\n",
      "200/200 [==============================] - 19s 96ms/step - loss: 0.4788 - accuracy: 0.7727 - val_loss: 0.5327 - val_accuracy: 0.7319 - lr: 0.0010\n",
      "Epoch 4/20\n",
      "200/200 [==============================] - 19s 97ms/step - loss: 0.4186 - accuracy: 0.8095 - val_loss: 0.5253 - val_accuracy: 0.7506 - lr: 0.0010\n",
      "Epoch 5/20\n",
      "200/200 [==============================] - 19s 96ms/step - loss: 0.3680 - accuracy: 0.8361 - val_loss: 0.5582 - val_accuracy: 0.7522 - lr: 0.0010\n",
      "Epoch 6/20\n",
      "200/200 [==============================] - 19s 96ms/step - loss: 0.3035 - accuracy: 0.8682 - val_loss: 0.6559 - val_accuracy: 0.7369 - lr: 0.0010\n",
      "Epoch 7/20\n",
      "200/200 [==============================] - 19s 97ms/step - loss: 0.1729 - accuracy: 0.9333 - val_loss: 0.8261 - val_accuracy: 0.7441 - lr: 2.0000e-04\n",
      "Epoch 8/20\n",
      "200/200 [==============================] - 19s 96ms/step - loss: 0.1157 - accuracy: 0.9553 - val_loss: 0.9687 - val_accuracy: 0.7425 - lr: 2.0000e-04\n",
      "100/100 [==============================] - 2s 20ms/step\n",
      "100/100 [==============================] - 2s 20ms/step\n"
     ]
    },
    {
     "name": "stderr",
     "output_type": "stream",
     "text": [
      "2024/10/12 03:40:31 WARNING mlflow.tensorflow: You are saving a TensorFlow Core model or Keras model without a signature. Inference with mlflow.pyfunc.spark_udf() will not work unless the model's pyfunc representation accepts pandas DataFrames as inference inputs.\n",
      "WARNING:absl:Found untraced functions such as _jit_compiled_convolution_op, _update_step_xla while saving (showing 2 of 2). These functions will not be directly callable after loading.\n"
     ]
    },
    {
     "name": "stdout",
     "output_type": "stream",
     "text": [
      "INFO:tensorflow:Assets written to: C:\\Users\\trist\\AppData\\Local\\Temp\\tmp4j5rbvb7\\model\\data\\model\\assets\n"
     ]
    },
    {
     "name": "stderr",
     "output_type": "stream",
     "text": [
      "INFO:tensorflow:Assets written to: C:\\Users\\trist\\AppData\\Local\\Temp\\tmp4j5rbvb7\\model\\data\\model\\assets\n",
      "2024/10/12 03:40:39 WARNING mlflow.models.model: Model logged without a signature and input example. Please set `input_example` parameter when logging the model to auto infer the model signature.\n"
     ]
    },
    {
     "name": "stdout",
     "output_type": "stream",
     "text": [
      "Epoch 1/20\n",
      "200/200 [==============================] - 38s 186ms/step - loss: 0.6663 - accuracy: 0.6140 - val_loss: 0.6653 - val_accuracy: 0.6338 - lr: 0.0010\n",
      "Epoch 2/20\n",
      "200/200 [==============================] - 37s 185ms/step - loss: 0.5364 - accuracy: 0.7335 - val_loss: 0.6071 - val_accuracy: 0.7484 - lr: 0.0010\n",
      "Epoch 3/20\n",
      "200/200 [==============================] - 37s 185ms/step - loss: 0.4576 - accuracy: 0.7856 - val_loss: 0.5458 - val_accuracy: 0.7178 - lr: 0.0010\n",
      "Epoch 4/20\n",
      "200/200 [==============================] - 37s 185ms/step - loss: 0.3942 - accuracy: 0.8236 - val_loss: 0.5426 - val_accuracy: 0.7472 - lr: 0.0010\n",
      "Epoch 5/20\n",
      "200/200 [==============================] - 37s 185ms/step - loss: 0.3264 - accuracy: 0.8595 - val_loss: 0.7439 - val_accuracy: 0.6472 - lr: 0.0010\n",
      "Epoch 6/20\n",
      "200/200 [==============================] - 37s 184ms/step - loss: 0.2601 - accuracy: 0.8879 - val_loss: 0.6856 - val_accuracy: 0.7353 - lr: 0.0010\n",
      "Epoch 7/20\n",
      "200/200 [==============================] - 37s 184ms/step - loss: 0.1341 - accuracy: 0.9452 - val_loss: 0.8572 - val_accuracy: 0.7500 - lr: 2.0000e-04\n",
      "Epoch 8/20\n",
      "200/200 [==============================] - 37s 184ms/step - loss: 0.0794 - accuracy: 0.9705 - val_loss: 1.0148 - val_accuracy: 0.7466 - lr: 2.0000e-04\n",
      "100/100 [==============================] - 4s 37ms/step\n",
      "100/100 [==============================] - 4s 37ms/step\n"
     ]
    },
    {
     "name": "stderr",
     "output_type": "stream",
     "text": [
      "2024/10/12 03:45:44 WARNING mlflow.tensorflow: You are saving a TensorFlow Core model or Keras model without a signature. Inference with mlflow.pyfunc.spark_udf() will not work unless the model's pyfunc representation accepts pandas DataFrames as inference inputs.\n",
      "WARNING:absl:Found untraced functions such as _jit_compiled_convolution_op, _update_step_xla while saving (showing 2 of 2). These functions will not be directly callable after loading.\n"
     ]
    },
    {
     "name": "stdout",
     "output_type": "stream",
     "text": [
      "INFO:tensorflow:Assets written to: C:\\Users\\trist\\AppData\\Local\\Temp\\tmp0gr96ptf\\model\\data\\model\\assets\n"
     ]
    },
    {
     "name": "stderr",
     "output_type": "stream",
     "text": [
      "INFO:tensorflow:Assets written to: C:\\Users\\trist\\AppData\\Local\\Temp\\tmp0gr96ptf\\model\\data\\model\\assets\n",
      "2024/10/12 03:45:51 WARNING mlflow.models.model: Model logged without a signature and input example. Please set `input_example` parameter when logging the model to auto infer the model signature.\n"
     ]
    },
    {
     "name": "stdout",
     "output_type": "stream",
     "text": [
      "Epoch 1/20\n",
      "200/200 [==============================] - 11s 49ms/step - loss: 0.7862 - accuracy: 0.5398 - val_loss: 0.6898 - val_accuracy: 0.5341 - lr: 0.0010\n",
      "Epoch 2/20\n",
      "200/200 [==============================] - 10s 48ms/step - loss: 0.6330 - accuracy: 0.6398 - val_loss: 0.6437 - val_accuracy: 0.7147 - lr: 0.0010\n",
      "Epoch 3/20\n",
      "200/200 [==============================] - 10s 48ms/step - loss: 0.5449 - accuracy: 0.7316 - val_loss: 0.5548 - val_accuracy: 0.7444 - lr: 0.0010\n",
      "Epoch 4/20\n",
      "200/200 [==============================] - 10s 48ms/step - loss: 0.5041 - accuracy: 0.7592 - val_loss: 0.5103 - val_accuracy: 0.7509 - lr: 0.0010\n",
      "Epoch 5/20\n",
      "200/200 [==============================] - 10s 48ms/step - loss: 0.4796 - accuracy: 0.7767 - val_loss: 0.5417 - val_accuracy: 0.7247 - lr: 0.0010\n",
      "Epoch 6/20\n",
      "200/200 [==============================] - 10s 48ms/step - loss: 0.4522 - accuracy: 0.7893 - val_loss: 0.5131 - val_accuracy: 0.7503 - lr: 0.0010\n",
      "Epoch 7/20\n",
      "200/200 [==============================] - 10s 48ms/step - loss: 0.3949 - accuracy: 0.8228 - val_loss: 0.5224 - val_accuracy: 0.7584 - lr: 2.0000e-04\n",
      "Epoch 8/20\n",
      "200/200 [==============================] - 10s 48ms/step - loss: 0.3694 - accuracy: 0.8380 - val_loss: 0.5356 - val_accuracy: 0.7600 - lr: 2.0000e-04\n",
      "100/100 [==============================] - 1s 9ms/step\n",
      "100/100 [==============================] - 1s 9ms/step\n"
     ]
    },
    {
     "name": "stderr",
     "output_type": "stream",
     "text": [
      "2024/10/12 03:47:12 WARNING mlflow.tensorflow: You are saving a TensorFlow Core model or Keras model without a signature. Inference with mlflow.pyfunc.spark_udf() will not work unless the model's pyfunc representation accepts pandas DataFrames as inference inputs.\n",
      "WARNING:absl:Found untraced functions such as _jit_compiled_convolution_op, _update_step_xla while saving (showing 2 of 2). These functions will not be directly callable after loading.\n"
     ]
    },
    {
     "name": "stdout",
     "output_type": "stream",
     "text": [
      "INFO:tensorflow:Assets written to: C:\\Users\\trist\\AppData\\Local\\Temp\\tmpg1c3w_w2\\model\\data\\model\\assets\n"
     ]
    },
    {
     "name": "stderr",
     "output_type": "stream",
     "text": [
      "INFO:tensorflow:Assets written to: C:\\Users\\trist\\AppData\\Local\\Temp\\tmpg1c3w_w2\\model\\data\\model\\assets\n",
      "2024/10/12 03:47:19 WARNING mlflow.models.model: Model logged without a signature and input example. Please set `input_example` parameter when logging the model to auto infer the model signature.\n"
     ]
    },
    {
     "name": "stdout",
     "output_type": "stream",
     "text": [
      "Epoch 1/20\n",
      "200/200 [==============================] - 16s 75ms/step - loss: 0.7532 - accuracy: 0.5618 - val_loss: 0.6799 - val_accuracy: 0.6494 - lr: 0.0010\n",
      "Epoch 2/20\n",
      "200/200 [==============================] - 15s 74ms/step - loss: 0.6083 - accuracy: 0.6723 - val_loss: 0.6351 - val_accuracy: 0.6503 - lr: 0.0010\n",
      "Epoch 3/20\n",
      "200/200 [==============================] - 15s 74ms/step - loss: 0.5365 - accuracy: 0.7345 - val_loss: 0.5606 - val_accuracy: 0.7547 - lr: 0.0010\n",
      "Epoch 4/20\n",
      "200/200 [==============================] - 15s 73ms/step - loss: 0.4948 - accuracy: 0.7630 - val_loss: 0.5174 - val_accuracy: 0.7556 - lr: 0.0010\n",
      "Epoch 5/20\n",
      "200/200 [==============================] - 15s 74ms/step - loss: 0.4606 - accuracy: 0.7887 - val_loss: 0.5039 - val_accuracy: 0.7659 - lr: 0.0010\n",
      "Epoch 6/20\n",
      "200/200 [==============================] - 15s 74ms/step - loss: 0.4244 - accuracy: 0.8065 - val_loss: 0.5081 - val_accuracy: 0.7591 - lr: 0.0010\n",
      "Epoch 7/20\n",
      "200/200 [==============================] - 15s 74ms/step - loss: 0.3896 - accuracy: 0.8263 - val_loss: 0.5157 - val_accuracy: 0.7581 - lr: 0.0010\n",
      "Epoch 8/20\n",
      "200/200 [==============================] - 15s 74ms/step - loss: 0.3089 - accuracy: 0.8742 - val_loss: 0.5776 - val_accuracy: 0.7681 - lr: 2.0000e-04\n",
      "Epoch 9/20\n",
      "200/200 [==============================] - 15s 74ms/step - loss: 0.2666 - accuracy: 0.8902 - val_loss: 0.6264 - val_accuracy: 0.7584 - lr: 2.0000e-04\n",
      "100/100 [==============================] - 1s 13ms/step\n",
      "100/100 [==============================] - 1s 13ms/step\n"
     ]
    },
    {
     "name": "stderr",
     "output_type": "stream",
     "text": [
      "2024/10/12 03:49:37 WARNING mlflow.tensorflow: You are saving a TensorFlow Core model or Keras model without a signature. Inference with mlflow.pyfunc.spark_udf() will not work unless the model's pyfunc representation accepts pandas DataFrames as inference inputs.\n",
      "WARNING:absl:Found untraced functions such as _jit_compiled_convolution_op, _update_step_xla while saving (showing 2 of 2). These functions will not be directly callable after loading.\n"
     ]
    },
    {
     "name": "stdout",
     "output_type": "stream",
     "text": [
      "INFO:tensorflow:Assets written to: C:\\Users\\trist\\AppData\\Local\\Temp\\tmp8focmc70\\model\\data\\model\\assets\n"
     ]
    },
    {
     "name": "stderr",
     "output_type": "stream",
     "text": [
      "INFO:tensorflow:Assets written to: C:\\Users\\trist\\AppData\\Local\\Temp\\tmp8focmc70\\model\\data\\model\\assets\n",
      "2024/10/12 03:49:44 WARNING mlflow.models.model: Model logged without a signature and input example. Please set `input_example` parameter when logging the model to auto infer the model signature.\n"
     ]
    },
    {
     "name": "stdout",
     "output_type": "stream",
     "text": [
      "Epoch 1/20\n",
      "200/200 [==============================] - 27s 130ms/step - loss: 0.7616 - accuracy: 0.5579 - val_loss: 0.6848 - val_accuracy: 0.6453 - lr: 0.0010\n",
      "Epoch 2/20\n",
      "200/200 [==============================] - 26s 129ms/step - loss: 0.6167 - accuracy: 0.6677 - val_loss: 0.6357 - val_accuracy: 0.7075 - lr: 0.0010\n",
      "Epoch 3/20\n",
      "200/200 [==============================] - 26s 129ms/step - loss: 0.5409 - accuracy: 0.7290 - val_loss: 0.5424 - val_accuracy: 0.7581 - lr: 0.0010\n",
      "Epoch 4/20\n",
      "200/200 [==============================] - 26s 129ms/step - loss: 0.4916 - accuracy: 0.7618 - val_loss: 0.5029 - val_accuracy: 0.7581 - lr: 0.0010\n",
      "Epoch 5/20\n",
      "200/200 [==============================] - 26s 129ms/step - loss: 0.4551 - accuracy: 0.7841 - val_loss: 0.5065 - val_accuracy: 0.7616 - lr: 0.0010\n",
      "Epoch 6/20\n",
      "200/200 [==============================] - 26s 129ms/step - loss: 0.4251 - accuracy: 0.8061 - val_loss: 0.5228 - val_accuracy: 0.7503 - lr: 0.0010\n",
      "Epoch 7/20\n",
      "200/200 [==============================] - 26s 129ms/step - loss: 0.3308 - accuracy: 0.8560 - val_loss: 0.5346 - val_accuracy: 0.7647 - lr: 2.0000e-04\n",
      "Epoch 8/20\n",
      "200/200 [==============================] - 26s 129ms/step - loss: 0.2881 - accuracy: 0.8773 - val_loss: 0.5897 - val_accuracy: 0.7678 - lr: 2.0000e-04\n",
      "100/100 [==============================] - 2s 23ms/step\n",
      "100/100 [==============================] - 2s 24ms/step\n"
     ]
    },
    {
     "name": "stderr",
     "output_type": "stream",
     "text": [
      "2024/10/12 03:53:17 WARNING mlflow.tensorflow: You are saving a TensorFlow Core model or Keras model without a signature. Inference with mlflow.pyfunc.spark_udf() will not work unless the model's pyfunc representation accepts pandas DataFrames as inference inputs.\n",
      "WARNING:absl:Found untraced functions such as _jit_compiled_convolution_op, _update_step_xla while saving (showing 2 of 2). These functions will not be directly callable after loading.\n"
     ]
    },
    {
     "name": "stdout",
     "output_type": "stream",
     "text": [
      "INFO:tensorflow:Assets written to: C:\\Users\\trist\\AppData\\Local\\Temp\\tmp3x6bg9j4\\model\\data\\model\\assets\n"
     ]
    },
    {
     "name": "stderr",
     "output_type": "stream",
     "text": [
      "INFO:tensorflow:Assets written to: C:\\Users\\trist\\AppData\\Local\\Temp\\tmp3x6bg9j4\\model\\data\\model\\assets\n",
      "2024/10/12 03:53:25 WARNING mlflow.models.model: Model logged without a signature and input example. Please set `input_example` parameter when logging the model to auto infer the model signature.\n"
     ]
    },
    {
     "name": "stdout",
     "output_type": "stream",
     "text": [
      "Epoch 1/20\n",
      "200/200 [==============================] - 14s 67ms/step - loss: 0.7278 - accuracy: 0.5541 - val_loss: 0.6858 - val_accuracy: 0.6709 - lr: 0.0010\n",
      "Epoch 2/20\n",
      "200/200 [==============================] - 13s 66ms/step - loss: 0.6069 - accuracy: 0.6734 - val_loss: 0.6270 - val_accuracy: 0.7194 - lr: 0.0010\n",
      "Epoch 3/20\n",
      "200/200 [==============================] - 13s 66ms/step - loss: 0.5412 - accuracy: 0.7220 - val_loss: 0.5524 - val_accuracy: 0.7291 - lr: 0.0010\n",
      "Epoch 4/20\n",
      "200/200 [==============================] - 13s 66ms/step - loss: 0.4930 - accuracy: 0.7663 - val_loss: 0.5271 - val_accuracy: 0.7378 - lr: 0.0010\n",
      "Epoch 5/20\n",
      "200/200 [==============================] - 13s 66ms/step - loss: 0.4539 - accuracy: 0.7936 - val_loss: 0.5623 - val_accuracy: 0.7084 - lr: 0.0010\n",
      "Epoch 6/20\n",
      "200/200 [==============================] - 13s 66ms/step - loss: 0.4196 - accuracy: 0.8095 - val_loss: 0.5788 - val_accuracy: 0.7203 - lr: 0.0010\n",
      "Epoch 7/20\n",
      "200/200 [==============================] - 13s 65ms/step - loss: 0.3323 - accuracy: 0.8587 - val_loss: 0.6012 - val_accuracy: 0.7425 - lr: 2.0000e-04\n",
      "Epoch 8/20\n",
      "200/200 [==============================] - 13s 66ms/step - loss: 0.2886 - accuracy: 0.8805 - val_loss: 0.6100 - val_accuracy: 0.7459 - lr: 2.0000e-04\n",
      "100/100 [==============================] - 1s 14ms/step\n",
      "100/100 [==============================] - 1s 14ms/step\n"
     ]
    },
    {
     "name": "stderr",
     "output_type": "stream",
     "text": [
      "2024/10/12 03:55:15 WARNING mlflow.tensorflow: You are saving a TensorFlow Core model or Keras model without a signature. Inference with mlflow.pyfunc.spark_udf() will not work unless the model's pyfunc representation accepts pandas DataFrames as inference inputs.\n",
      "WARNING:absl:Found untraced functions such as _jit_compiled_convolution_op, _update_step_xla while saving (showing 2 of 2). These functions will not be directly callable after loading.\n"
     ]
    },
    {
     "name": "stdout",
     "output_type": "stream",
     "text": [
      "INFO:tensorflow:Assets written to: C:\\Users\\trist\\AppData\\Local\\Temp\\tmpq0_4yvji\\model\\data\\model\\assets\n"
     ]
    },
    {
     "name": "stderr",
     "output_type": "stream",
     "text": [
      "INFO:tensorflow:Assets written to: C:\\Users\\trist\\AppData\\Local\\Temp\\tmpq0_4yvji\\model\\data\\model\\assets\n",
      "2024/10/12 03:55:22 WARNING mlflow.models.model: Model logged without a signature and input example. Please set `input_example` parameter when logging the model to auto infer the model signature.\n"
     ]
    },
    {
     "name": "stdout",
     "output_type": "stream",
     "text": [
      "Epoch 1/20\n",
      "200/200 [==============================] - 19s 91ms/step - loss: 0.7661 - accuracy: 0.5552 - val_loss: 0.6843 - val_accuracy: 0.5069 - lr: 0.0010\n",
      "Epoch 2/20\n",
      "200/200 [==============================] - 18s 90ms/step - loss: 0.6261 - accuracy: 0.6498 - val_loss: 0.6443 - val_accuracy: 0.6694 - lr: 0.0010\n",
      "Epoch 3/20\n",
      "200/200 [==============================] - 18s 90ms/step - loss: 0.5584 - accuracy: 0.7184 - val_loss: 0.5611 - val_accuracy: 0.7450 - lr: 0.0010\n",
      "Epoch 4/20\n",
      "200/200 [==============================] - 18s 90ms/step - loss: 0.5039 - accuracy: 0.7590 - val_loss: 0.5249 - val_accuracy: 0.7312 - lr: 0.0010\n",
      "Epoch 5/20\n",
      "200/200 [==============================] - 18s 90ms/step - loss: 0.4578 - accuracy: 0.7862 - val_loss: 0.5269 - val_accuracy: 0.7575 - lr: 0.0010\n",
      "Epoch 6/20\n",
      "200/200 [==============================] - 18s 90ms/step - loss: 0.4130 - accuracy: 0.8127 - val_loss: 0.6218 - val_accuracy: 0.7044 - lr: 0.0010\n",
      "Epoch 7/20\n",
      "200/200 [==============================] - 18s 90ms/step - loss: 0.3231 - accuracy: 0.8630 - val_loss: 0.5824 - val_accuracy: 0.7516 - lr: 2.0000e-04\n",
      "Epoch 8/20\n",
      "200/200 [==============================] - 18s 90ms/step - loss: 0.2703 - accuracy: 0.8893 - val_loss: 0.7110 - val_accuracy: 0.7500 - lr: 2.0000e-04\n",
      "100/100 [==============================] - 2s 18ms/step\n",
      "100/100 [==============================] - 2s 19ms/step\n"
     ]
    },
    {
     "name": "stderr",
     "output_type": "stream",
     "text": [
      "2024/10/12 03:57:53 WARNING mlflow.tensorflow: You are saving a TensorFlow Core model or Keras model without a signature. Inference with mlflow.pyfunc.spark_udf() will not work unless the model's pyfunc representation accepts pandas DataFrames as inference inputs.\n",
      "WARNING:absl:Found untraced functions such as _jit_compiled_convolution_op, _update_step_xla while saving (showing 2 of 2). These functions will not be directly callable after loading.\n"
     ]
    },
    {
     "name": "stdout",
     "output_type": "stream",
     "text": [
      "INFO:tensorflow:Assets written to: C:\\Users\\trist\\AppData\\Local\\Temp\\tmpnxo8ql_7\\model\\data\\model\\assets\n"
     ]
    },
    {
     "name": "stderr",
     "output_type": "stream",
     "text": [
      "INFO:tensorflow:Assets written to: C:\\Users\\trist\\AppData\\Local\\Temp\\tmpnxo8ql_7\\model\\data\\model\\assets\n",
      "2024/10/12 03:58:00 WARNING mlflow.models.model: Model logged without a signature and input example. Please set `input_example` parameter when logging the model to auto infer the model signature.\n"
     ]
    },
    {
     "name": "stdout",
     "output_type": "stream",
     "text": [
      "Epoch 1/20\n",
      "200/200 [==============================] - 35s 173ms/step - loss: 0.7612 - accuracy: 0.5688 - val_loss: 0.6868 - val_accuracy: 0.6431 - lr: 0.0010\n",
      "Epoch 2/20\n",
      "200/200 [==============================] - 34s 172ms/step - loss: 0.6244 - accuracy: 0.6525 - val_loss: 0.6368 - val_accuracy: 0.7169 - lr: 0.0010\n",
      "Epoch 3/20\n",
      "200/200 [==============================] - 34s 172ms/step - loss: 0.5587 - accuracy: 0.7177 - val_loss: 0.5816 - val_accuracy: 0.7434 - lr: 0.0010\n",
      "Epoch 4/20\n",
      "200/200 [==============================] - 34s 172ms/step - loss: 0.5054 - accuracy: 0.7609 - val_loss: 0.5303 - val_accuracy: 0.7437 - lr: 0.0010\n",
      "Epoch 5/20\n",
      "200/200 [==============================] - 34s 172ms/step - loss: 0.4632 - accuracy: 0.7857 - val_loss: 0.5477 - val_accuracy: 0.7412 - lr: 0.0010\n",
      "Epoch 6/20\n",
      "200/200 [==============================] - 34s 172ms/step - loss: 0.4188 - accuracy: 0.8109 - val_loss: 0.5500 - val_accuracy: 0.7437 - lr: 0.0010\n",
      "Epoch 7/20\n",
      "200/200 [==============================] - 34s 172ms/step - loss: 0.2970 - accuracy: 0.8763 - val_loss: 0.6310 - val_accuracy: 0.7491 - lr: 2.0000e-04\n",
      "Epoch 8/20\n",
      "200/200 [==============================] - 34s 172ms/step - loss: 0.2402 - accuracy: 0.9027 - val_loss: 0.6679 - val_accuracy: 0.7475 - lr: 2.0000e-04\n",
      "100/100 [==============================] - 3s 34ms/step\n",
      "100/100 [==============================] - 3s 34ms/step\n"
     ]
    },
    {
     "name": "stderr",
     "output_type": "stream",
     "text": [
      "2024/10/12 04:02:44 WARNING mlflow.tensorflow: You are saving a TensorFlow Core model or Keras model without a signature. Inference with mlflow.pyfunc.spark_udf() will not work unless the model's pyfunc representation accepts pandas DataFrames as inference inputs.\n",
      "WARNING:absl:Found untraced functions such as _jit_compiled_convolution_op, _update_step_xla while saving (showing 2 of 2). These functions will not be directly callable after loading.\n"
     ]
    },
    {
     "name": "stdout",
     "output_type": "stream",
     "text": [
      "INFO:tensorflow:Assets written to: C:\\Users\\trist\\AppData\\Local\\Temp\\tmp5pvcpbi3\\model\\data\\model\\assets\n"
     ]
    },
    {
     "name": "stderr",
     "output_type": "stream",
     "text": [
      "INFO:tensorflow:Assets written to: C:\\Users\\trist\\AppData\\Local\\Temp\\tmp5pvcpbi3\\model\\data\\model\\assets\n",
      "2024/10/12 04:02:52 WARNING mlflow.models.model: Model logged without a signature and input example. Please set `input_example` parameter when logging the model to auto infer the model signature.\n"
     ]
    },
    {
     "name": "stdout",
     "output_type": "stream",
     "text": [
      "Epoch 1/20\n",
      "200/200 [==============================] - 11s 48ms/step - loss: 0.6802 - accuracy: 0.6229 - val_loss: 0.6668 - val_accuracy: 0.7066 - lr: 0.0010\n",
      "Epoch 2/20\n",
      "200/200 [==============================] - 9s 47ms/step - loss: 0.5313 - accuracy: 0.7398 - val_loss: 0.6005 - val_accuracy: 0.7441 - lr: 0.0010\n",
      "Epoch 3/20\n",
      "200/200 [==============================] - 9s 47ms/step - loss: 0.4779 - accuracy: 0.7724 - val_loss: 0.5412 - val_accuracy: 0.7231 - lr: 0.0010\n",
      "Epoch 4/20\n",
      "200/200 [==============================] - 9s 47ms/step - loss: 0.4401 - accuracy: 0.7965 - val_loss: 0.5272 - val_accuracy: 0.7337 - lr: 0.0010\n",
      "Epoch 5/20\n",
      "200/200 [==============================] - 9s 47ms/step - loss: 0.3983 - accuracy: 0.8235 - val_loss: 0.5353 - val_accuracy: 0.7447 - lr: 0.0010\n",
      "Epoch 6/20\n",
      "200/200 [==============================] - 9s 47ms/step - loss: 0.3531 - accuracy: 0.8417 - val_loss: 0.6182 - val_accuracy: 0.7337 - lr: 0.0010\n",
      "Epoch 7/20\n",
      "200/200 [==============================] - 9s 47ms/step - loss: 0.2550 - accuracy: 0.8942 - val_loss: 0.6758 - val_accuracy: 0.7487 - lr: 2.0000e-04\n",
      "Epoch 8/20\n",
      "200/200 [==============================] - 9s 47ms/step - loss: 0.2120 - accuracy: 0.9143 - val_loss: 0.7231 - val_accuracy: 0.7297 - lr: 2.0000e-04\n",
      "100/100 [==============================] - 1s 9ms/step\n",
      "100/100 [==============================] - 1s 9ms/step\n"
     ]
    },
    {
     "name": "stderr",
     "output_type": "stream",
     "text": [
      "2024/10/12 04:04:11 WARNING mlflow.tensorflow: You are saving a TensorFlow Core model or Keras model without a signature. Inference with mlflow.pyfunc.spark_udf() will not work unless the model's pyfunc representation accepts pandas DataFrames as inference inputs.\n",
      "WARNING:absl:Found untraced functions such as _jit_compiled_convolution_op, _update_step_xla while saving (showing 2 of 2). These functions will not be directly callable after loading.\n"
     ]
    },
    {
     "name": "stdout",
     "output_type": "stream",
     "text": [
      "INFO:tensorflow:Assets written to: C:\\Users\\trist\\AppData\\Local\\Temp\\tmp89mjti3l\\model\\data\\model\\assets\n"
     ]
    },
    {
     "name": "stderr",
     "output_type": "stream",
     "text": [
      "INFO:tensorflow:Assets written to: C:\\Users\\trist\\AppData\\Local\\Temp\\tmp89mjti3l\\model\\data\\model\\assets\n",
      "2024/10/12 04:04:18 WARNING mlflow.models.model: Model logged without a signature and input example. Please set `input_example` parameter when logging the model to auto infer the model signature.\n"
     ]
    },
    {
     "name": "stdout",
     "output_type": "stream",
     "text": [
      "Epoch 1/20\n",
      "200/200 [==============================] - 15s 69ms/step - loss: 0.6718 - accuracy: 0.6212 - val_loss: 0.6661 - val_accuracy: 0.6556 - lr: 0.0010\n",
      "Epoch 2/20\n",
      "200/200 [==============================] - 14s 68ms/step - loss: 0.5322 - accuracy: 0.7326 - val_loss: 0.6029 - val_accuracy: 0.7375 - lr: 0.0010\n",
      "Epoch 3/20\n",
      "200/200 [==============================] - 14s 68ms/step - loss: 0.4709 - accuracy: 0.7766 - val_loss: 0.5254 - val_accuracy: 0.7422 - lr: 0.0010\n",
      "Epoch 4/20\n",
      "200/200 [==============================] - 14s 68ms/step - loss: 0.4235 - accuracy: 0.8042 - val_loss: 0.5025 - val_accuracy: 0.7591 - lr: 0.0010\n",
      "Epoch 5/20\n",
      "200/200 [==============================] - 14s 68ms/step - loss: 0.3829 - accuracy: 0.8277 - val_loss: 0.5733 - val_accuracy: 0.7444 - lr: 0.0010\n",
      "Epoch 6/20\n",
      "200/200 [==============================] - 14s 68ms/step - loss: 0.3289 - accuracy: 0.8566 - val_loss: 0.6356 - val_accuracy: 0.7350 - lr: 0.0010\n",
      "Epoch 7/20\n",
      "200/200 [==============================] - 14s 68ms/step - loss: 0.2096 - accuracy: 0.9170 - val_loss: 0.7213 - val_accuracy: 0.7387 - lr: 2.0000e-04\n",
      "Epoch 8/20\n",
      "200/200 [==============================] - 14s 68ms/step - loss: 0.1612 - accuracy: 0.9382 - val_loss: 0.7799 - val_accuracy: 0.7506 - lr: 2.0000e-04\n",
      "100/100 [==============================] - 1s 12ms/step\n",
      "100/100 [==============================] - 1s 12ms/step\n"
     ]
    },
    {
     "name": "stderr",
     "output_type": "stream",
     "text": [
      "2024/10/12 04:06:12 WARNING mlflow.tensorflow: You are saving a TensorFlow Core model or Keras model without a signature. Inference with mlflow.pyfunc.spark_udf() will not work unless the model's pyfunc representation accepts pandas DataFrames as inference inputs.\n",
      "WARNING:absl:Found untraced functions such as _jit_compiled_convolution_op, _update_step_xla while saving (showing 2 of 2). These functions will not be directly callable after loading.\n"
     ]
    },
    {
     "name": "stdout",
     "output_type": "stream",
     "text": [
      "INFO:tensorflow:Assets written to: C:\\Users\\trist\\AppData\\Local\\Temp\\tmpp1v0_6ig\\model\\data\\model\\assets\n"
     ]
    },
    {
     "name": "stderr",
     "output_type": "stream",
     "text": [
      "INFO:tensorflow:Assets written to: C:\\Users\\trist\\AppData\\Local\\Temp\\tmpp1v0_6ig\\model\\data\\model\\assets\n",
      "2024/10/12 04:06:20 WARNING mlflow.models.model: Model logged without a signature and input example. Please set `input_example` parameter when logging the model to auto infer the model signature.\n"
     ]
    },
    {
     "name": "stdout",
     "output_type": "stream",
     "text": [
      "Epoch 1/20\n",
      "200/200 [==============================] - 26s 126ms/step - loss: 0.6839 - accuracy: 0.6137 - val_loss: 0.6662 - val_accuracy: 0.7006 - lr: 0.0010\n",
      "Epoch 2/20\n",
      "200/200 [==============================] - 25s 124ms/step - loss: 0.5404 - accuracy: 0.7268 - val_loss: 0.6105 - val_accuracy: 0.7253 - lr: 0.0010\n",
      "Epoch 3/20\n",
      "200/200 [==============================] - 25s 125ms/step - loss: 0.4794 - accuracy: 0.7668 - val_loss: 0.5141 - val_accuracy: 0.7584 - lr: 0.0010\n",
      "Epoch 4/20\n",
      "200/200 [==============================] - 25s 124ms/step - loss: 0.4253 - accuracy: 0.8020 - val_loss: 0.5073 - val_accuracy: 0.7519 - lr: 0.0010\n",
      "Epoch 5/20\n",
      "200/200 [==============================] - 25s 125ms/step - loss: 0.3806 - accuracy: 0.8312 - val_loss: 0.5666 - val_accuracy: 0.7506 - lr: 0.0010\n",
      "Epoch 6/20\n",
      "200/200 [==============================] - 25s 124ms/step - loss: 0.3349 - accuracy: 0.8519 - val_loss: 0.6715 - val_accuracy: 0.7181 - lr: 0.0010\n",
      "Epoch 7/20\n",
      "200/200 [==============================] - 25s 124ms/step - loss: 0.2096 - accuracy: 0.9178 - val_loss: 0.6627 - val_accuracy: 0.7422 - lr: 2.0000e-04\n",
      "Epoch 8/20\n",
      "200/200 [==============================] - 25s 124ms/step - loss: 0.1512 - accuracy: 0.9413 - val_loss: 0.7647 - val_accuracy: 0.7437 - lr: 2.0000e-04\n",
      "100/100 [==============================] - 2s 23ms/step\n",
      "100/100 [==============================] - 2s 23ms/step\n"
     ]
    },
    {
     "name": "stderr",
     "output_type": "stream",
     "text": [
      "2024/10/12 04:09:46 WARNING mlflow.tensorflow: You are saving a TensorFlow Core model or Keras model without a signature. Inference with mlflow.pyfunc.spark_udf() will not work unless the model's pyfunc representation accepts pandas DataFrames as inference inputs.\n",
      "WARNING:absl:Found untraced functions such as _jit_compiled_convolution_op, _update_step_xla while saving (showing 2 of 2). These functions will not be directly callable after loading.\n"
     ]
    },
    {
     "name": "stdout",
     "output_type": "stream",
     "text": [
      "INFO:tensorflow:Assets written to: C:\\Users\\trist\\AppData\\Local\\Temp\\tmpy9hodpba\\model\\data\\model\\assets\n"
     ]
    },
    {
     "name": "stderr",
     "output_type": "stream",
     "text": [
      "INFO:tensorflow:Assets written to: C:\\Users\\trist\\AppData\\Local\\Temp\\tmpy9hodpba\\model\\data\\model\\assets\n",
      "2024/10/12 04:09:53 WARNING mlflow.models.model: Model logged without a signature and input example. Please set `input_example` parameter when logging the model to auto infer the model signature.\n"
     ]
    },
    {
     "name": "stdout",
     "output_type": "stream",
     "text": [
      "Epoch 1/20\n",
      "200/200 [==============================] - 13s 62ms/step - loss: 0.6711 - accuracy: 0.6145 - val_loss: 0.6721 - val_accuracy: 0.5897 - lr: 0.0010\n",
      "Epoch 2/20\n",
      "200/200 [==============================] - 12s 61ms/step - loss: 0.5410 - accuracy: 0.7256 - val_loss: 0.6036 - val_accuracy: 0.7509 - lr: 0.0010\n",
      "Epoch 3/20\n",
      "200/200 [==============================] - 12s 61ms/step - loss: 0.4807 - accuracy: 0.7708 - val_loss: 0.5215 - val_accuracy: 0.7447 - lr: 0.0010\n",
      "Epoch 4/20\n",
      "200/200 [==============================] - 12s 61ms/step - loss: 0.4291 - accuracy: 0.7980 - val_loss: 0.5240 - val_accuracy: 0.7416 - lr: 0.0010\n",
      "Epoch 5/20\n",
      "200/200 [==============================] - 12s 61ms/step - loss: 0.3815 - accuracy: 0.8280 - val_loss: 0.5522 - val_accuracy: 0.7503 - lr: 0.0010\n",
      "Epoch 6/20\n",
      "200/200 [==============================] - 12s 61ms/step - loss: 0.2730 - accuracy: 0.8857 - val_loss: 0.6642 - val_accuracy: 0.7453 - lr: 2.0000e-04\n",
      "Epoch 7/20\n",
      "200/200 [==============================] - 12s 61ms/step - loss: 0.2143 - accuracy: 0.9129 - val_loss: 0.7304 - val_accuracy: 0.7387 - lr: 2.0000e-04\n",
      "100/100 [==============================] - 1s 12ms/step\n",
      "100/100 [==============================] - 1s 13ms/step\n"
     ]
    },
    {
     "name": "stderr",
     "output_type": "stream",
     "text": [
      "2024/10/12 04:11:23 WARNING mlflow.tensorflow: You are saving a TensorFlow Core model or Keras model without a signature. Inference with mlflow.pyfunc.spark_udf() will not work unless the model's pyfunc representation accepts pandas DataFrames as inference inputs.\n",
      "WARNING:absl:Found untraced functions such as _jit_compiled_convolution_op, _update_step_xla while saving (showing 2 of 2). These functions will not be directly callable after loading.\n"
     ]
    },
    {
     "name": "stdout",
     "output_type": "stream",
     "text": [
      "INFO:tensorflow:Assets written to: C:\\Users\\trist\\AppData\\Local\\Temp\\tmpcqywx831\\model\\data\\model\\assets\n"
     ]
    },
    {
     "name": "stderr",
     "output_type": "stream",
     "text": [
      "INFO:tensorflow:Assets written to: C:\\Users\\trist\\AppData\\Local\\Temp\\tmpcqywx831\\model\\data\\model\\assets\n",
      "2024/10/12 04:11:31 WARNING mlflow.models.model: Model logged without a signature and input example. Please set `input_example` parameter when logging the model to auto infer the model signature.\n"
     ]
    },
    {
     "name": "stdout",
     "output_type": "stream",
     "text": [
      "Epoch 1/20\n",
      "200/200 [==============================] - 19s 90ms/step - loss: 0.6758 - accuracy: 0.6236 - val_loss: 0.6659 - val_accuracy: 0.6900 - lr: 0.0010\n",
      "Epoch 2/20\n",
      "200/200 [==============================] - 18s 88ms/step - loss: 0.5325 - accuracy: 0.7352 - val_loss: 0.6029 - val_accuracy: 0.7384 - lr: 0.0010\n",
      "Epoch 3/20\n",
      "200/200 [==============================] - 18s 88ms/step - loss: 0.4692 - accuracy: 0.7778 - val_loss: 0.5244 - val_accuracy: 0.7441 - lr: 0.0010\n",
      "Epoch 4/20\n",
      "200/200 [==============================] - 18s 88ms/step - loss: 0.4022 - accuracy: 0.8190 - val_loss: 0.5391 - val_accuracy: 0.7475 - lr: 0.0010\n",
      "Epoch 5/20\n",
      "200/200 [==============================] - 18s 88ms/step - loss: 0.3443 - accuracy: 0.8513 - val_loss: 0.6451 - val_accuracy: 0.7228 - lr: 0.0010\n",
      "Epoch 6/20\n",
      "200/200 [==============================] - 18s 88ms/step - loss: 0.2185 - accuracy: 0.9173 - val_loss: 0.7083 - val_accuracy: 0.7494 - lr: 2.0000e-04\n",
      "Epoch 7/20\n",
      "200/200 [==============================] - 18s 88ms/step - loss: 0.1575 - accuracy: 0.9400 - val_loss: 0.8002 - val_accuracy: 0.7497 - lr: 2.0000e-04\n",
      "100/100 [==============================] - 2s 18ms/step\n",
      "100/100 [==============================] - 2s 18ms/step\n"
     ]
    },
    {
     "name": "stderr",
     "output_type": "stream",
     "text": [
      "2024/10/12 04:13:40 WARNING mlflow.tensorflow: You are saving a TensorFlow Core model or Keras model without a signature. Inference with mlflow.pyfunc.spark_udf() will not work unless the model's pyfunc representation accepts pandas DataFrames as inference inputs.\n",
      "WARNING:absl:Found untraced functions such as _jit_compiled_convolution_op, _update_step_xla while saving (showing 2 of 2). These functions will not be directly callable after loading.\n"
     ]
    },
    {
     "name": "stdout",
     "output_type": "stream",
     "text": [
      "INFO:tensorflow:Assets written to: C:\\Users\\trist\\AppData\\Local\\Temp\\tmpnkttkwi_\\model\\data\\model\\assets\n"
     ]
    },
    {
     "name": "stderr",
     "output_type": "stream",
     "text": [
      "INFO:tensorflow:Assets written to: C:\\Users\\trist\\AppData\\Local\\Temp\\tmpnkttkwi_\\model\\data\\model\\assets\n",
      "2024/10/12 04:13:48 WARNING mlflow.models.model: Model logged without a signature and input example. Please set `input_example` parameter when logging the model to auto infer the model signature.\n"
     ]
    },
    {
     "name": "stdout",
     "output_type": "stream",
     "text": [
      "Epoch 1/20\n",
      "200/200 [==============================] - 33s 163ms/step - loss: 0.6773 - accuracy: 0.6145 - val_loss: 0.6687 - val_accuracy: 0.6328 - lr: 0.0010\n",
      "Epoch 2/20\n",
      "200/200 [==============================] - 32s 161ms/step - loss: 0.5505 - accuracy: 0.7177 - val_loss: 0.6164 - val_accuracy: 0.7194 - lr: 0.0010\n",
      "Epoch 3/20\n",
      "200/200 [==============================] - 32s 161ms/step - loss: 0.4719 - accuracy: 0.7786 - val_loss: 0.5372 - val_accuracy: 0.7341 - lr: 0.0010\n",
      "Epoch 4/20\n",
      "200/200 [==============================] - 32s 161ms/step - loss: 0.4088 - accuracy: 0.8148 - val_loss: 0.5610 - val_accuracy: 0.7234 - lr: 0.0010\n",
      "Epoch 5/20\n",
      "200/200 [==============================] - 32s 161ms/step - loss: 0.3452 - accuracy: 0.8462 - val_loss: 0.5790 - val_accuracy: 0.7466 - lr: 0.0010\n",
      "Epoch 6/20\n",
      "200/200 [==============================] - 32s 161ms/step - loss: 0.2006 - accuracy: 0.9196 - val_loss: 0.7230 - val_accuracy: 0.7494 - lr: 2.0000e-04\n",
      "Epoch 7/20\n",
      "200/200 [==============================] - 32s 161ms/step - loss: 0.1394 - accuracy: 0.9455 - val_loss: 0.8604 - val_accuracy: 0.7484 - lr: 2.0000e-04\n",
      "100/100 [==============================] - 3s 32ms/step\n",
      "100/100 [==============================] - 3s 33ms/step\n"
     ]
    },
    {
     "name": "stderr",
     "output_type": "stream",
     "text": [
      "2024/10/12 04:17:42 WARNING mlflow.tensorflow: You are saving a TensorFlow Core model or Keras model without a signature. Inference with mlflow.pyfunc.spark_udf() will not work unless the model's pyfunc representation accepts pandas DataFrames as inference inputs.\n",
      "WARNING:absl:Found untraced functions such as _jit_compiled_convolution_op, _update_step_xla while saving (showing 2 of 2). These functions will not be directly callable after loading.\n"
     ]
    },
    {
     "name": "stdout",
     "output_type": "stream",
     "text": [
      "INFO:tensorflow:Assets written to: C:\\Users\\trist\\AppData\\Local\\Temp\\tmpwmeo0ysv\\model\\data\\model\\assets\n"
     ]
    },
    {
     "name": "stderr",
     "output_type": "stream",
     "text": [
      "INFO:tensorflow:Assets written to: C:\\Users\\trist\\AppData\\Local\\Temp\\tmpwmeo0ysv\\model\\data\\model\\assets\n",
      "2024/10/12 04:17:50 WARNING mlflow.models.model: Model logged without a signature and input example. Please set `input_example` parameter when logging the model to auto infer the model signature.\n"
     ]
    },
    {
     "name": "stdout",
     "output_type": "stream",
     "text": [
      "Epoch 1/20\n",
      "200/200 [==============================] - 10s 46ms/step - loss: 0.7437 - accuracy: 0.5519 - val_loss: 0.6890 - val_accuracy: 0.6241 - lr: 0.0010\n",
      "Epoch 2/20\n",
      "200/200 [==============================] - 9s 44ms/step - loss: 0.6201 - accuracy: 0.6547 - val_loss: 0.6345 - val_accuracy: 0.7122 - lr: 0.0010\n",
      "Epoch 3/20\n",
      "200/200 [==============================] - 9s 45ms/step - loss: 0.5396 - accuracy: 0.7339 - val_loss: 0.5519 - val_accuracy: 0.7484 - lr: 0.0010\n",
      "Epoch 4/20\n",
      "200/200 [==============================] - 9s 44ms/step - loss: 0.4975 - accuracy: 0.7620 - val_loss: 0.5144 - val_accuracy: 0.7519 - lr: 0.0010\n",
      "Epoch 5/20\n",
      "200/200 [==============================] - 9s 45ms/step - loss: 0.4601 - accuracy: 0.7927 - val_loss: 0.5087 - val_accuracy: 0.7581 - lr: 0.0010\n",
      "Epoch 6/20\n",
      "200/200 [==============================] - 9s 45ms/step - loss: 0.4310 - accuracy: 0.8114 - val_loss: 0.5068 - val_accuracy: 0.7600 - lr: 0.0010\n",
      "Epoch 7/20\n",
      "200/200 [==============================] - 9s 44ms/step - loss: 0.3955 - accuracy: 0.8240 - val_loss: 0.5296 - val_accuracy: 0.7544 - lr: 0.0010\n",
      "Epoch 8/20\n",
      "200/200 [==============================] - 9s 45ms/step - loss: 0.3674 - accuracy: 0.8440 - val_loss: 0.5660 - val_accuracy: 0.7469 - lr: 0.0010\n",
      "Epoch 9/20\n",
      "200/200 [==============================] - 9s 44ms/step - loss: 0.2891 - accuracy: 0.8787 - val_loss: 0.6095 - val_accuracy: 0.7563 - lr: 2.0000e-04\n",
      "Epoch 10/20\n",
      "200/200 [==============================] - 9s 45ms/step - loss: 0.2519 - accuracy: 0.8981 - val_loss: 0.6462 - val_accuracy: 0.7569 - lr: 2.0000e-04\n",
      "100/100 [==============================] - 1s 9ms/step\n",
      "100/100 [==============================] - 1s 9ms/step\n"
     ]
    },
    {
     "name": "stderr",
     "output_type": "stream",
     "text": [
      "2024/10/12 04:19:23 WARNING mlflow.tensorflow: You are saving a TensorFlow Core model or Keras model without a signature. Inference with mlflow.pyfunc.spark_udf() will not work unless the model's pyfunc representation accepts pandas DataFrames as inference inputs.\n",
      "WARNING:absl:Found untraced functions such as _jit_compiled_convolution_op, _update_step_xla while saving (showing 2 of 2). These functions will not be directly callable after loading.\n"
     ]
    },
    {
     "name": "stdout",
     "output_type": "stream",
     "text": [
      "INFO:tensorflow:Assets written to: C:\\Users\\trist\\AppData\\Local\\Temp\\tmpp7lk1o20\\model\\data\\model\\assets\n"
     ]
    },
    {
     "name": "stderr",
     "output_type": "stream",
     "text": [
      "INFO:tensorflow:Assets written to: C:\\Users\\trist\\AppData\\Local\\Temp\\tmpp7lk1o20\\model\\data\\model\\assets\n",
      "2024/10/12 04:19:30 WARNING mlflow.models.model: Model logged without a signature and input example. Please set `input_example` parameter when logging the model to auto infer the model signature.\n"
     ]
    },
    {
     "name": "stdout",
     "output_type": "stream",
     "text": [
      "Epoch 1/20\n",
      "200/200 [==============================] - 15s 67ms/step - loss: 0.7533 - accuracy: 0.5652 - val_loss: 0.6876 - val_accuracy: 0.6500 - lr: 0.0010\n",
      "Epoch 2/20\n",
      "200/200 [==============================] - 13s 66ms/step - loss: 0.6177 - accuracy: 0.6573 - val_loss: 0.6273 - val_accuracy: 0.7050 - lr: 0.0010\n",
      "Epoch 3/20\n",
      "200/200 [==============================] - 13s 66ms/step - loss: 0.5478 - accuracy: 0.7281 - val_loss: 0.5468 - val_accuracy: 0.7372 - lr: 0.0010\n",
      "Epoch 4/20\n",
      "200/200 [==============================] - 13s 66ms/step - loss: 0.5026 - accuracy: 0.7592 - val_loss: 0.5115 - val_accuracy: 0.7519 - lr: 0.0010\n",
      "Epoch 5/20\n",
      "200/200 [==============================] - 13s 66ms/step - loss: 0.4586 - accuracy: 0.7873 - val_loss: 0.5165 - val_accuracy: 0.7531 - lr: 0.0010\n",
      "Epoch 6/20\n",
      "200/200 [==============================] - 13s 66ms/step - loss: 0.4358 - accuracy: 0.8026 - val_loss: 0.5475 - val_accuracy: 0.7328 - lr: 0.0010\n",
      "Epoch 7/20\n",
      "200/200 [==============================] - 13s 66ms/step - loss: 0.3570 - accuracy: 0.8444 - val_loss: 0.5345 - val_accuracy: 0.7584 - lr: 2.0000e-04\n",
      "Epoch 8/20\n",
      "200/200 [==============================] - 13s 66ms/step - loss: 0.3148 - accuracy: 0.8673 - val_loss: 0.5772 - val_accuracy: 0.7494 - lr: 2.0000e-04\n",
      "100/100 [==============================] - 1s 12ms/step\n",
      "100/100 [==============================] - 1s 12ms/step\n"
     ]
    },
    {
     "name": "stderr",
     "output_type": "stream",
     "text": [
      "2024/10/12 04:21:20 WARNING mlflow.tensorflow: You are saving a TensorFlow Core model or Keras model without a signature. Inference with mlflow.pyfunc.spark_udf() will not work unless the model's pyfunc representation accepts pandas DataFrames as inference inputs.\n",
      "WARNING:absl:Found untraced functions such as _jit_compiled_convolution_op, _update_step_xla while saving (showing 2 of 2). These functions will not be directly callable after loading.\n"
     ]
    },
    {
     "name": "stdout",
     "output_type": "stream",
     "text": [
      "INFO:tensorflow:Assets written to: C:\\Users\\trist\\AppData\\Local\\Temp\\tmp__ho79aj\\model\\data\\model\\assets\n"
     ]
    },
    {
     "name": "stderr",
     "output_type": "stream",
     "text": [
      "INFO:tensorflow:Assets written to: C:\\Users\\trist\\AppData\\Local\\Temp\\tmp__ho79aj\\model\\data\\model\\assets\n",
      "2024/10/12 04:21:28 WARNING mlflow.models.model: Model logged without a signature and input example. Please set `input_example` parameter when logging the model to auto infer the model signature.\n"
     ]
    },
    {
     "name": "stdout",
     "output_type": "stream",
     "text": [
      "Epoch 1/20\n",
      "200/200 [==============================] - 24s 115ms/step - loss: 0.7711 - accuracy: 0.5427 - val_loss: 0.6897 - val_accuracy: 0.5863 - lr: 0.0010\n",
      "Epoch 2/20\n",
      "200/200 [==============================] - 23s 114ms/step - loss: 0.6348 - accuracy: 0.6334 - val_loss: 0.6346 - val_accuracy: 0.6837 - lr: 0.0010\n",
      "Epoch 3/20\n",
      "200/200 [==============================] - 23s 114ms/step - loss: 0.5729 - accuracy: 0.7026 - val_loss: 0.5471 - val_accuracy: 0.7491 - lr: 0.0010\n",
      "Epoch 4/20\n",
      "200/200 [==============================] - 23s 114ms/step - loss: 0.5094 - accuracy: 0.7516 - val_loss: 0.5055 - val_accuracy: 0.7575 - lr: 0.0010\n",
      "Epoch 5/20\n",
      "200/200 [==============================] - 23s 114ms/step - loss: 0.4784 - accuracy: 0.7778 - val_loss: 0.4932 - val_accuracy: 0.7644 - lr: 0.0010\n",
      "Epoch 6/20\n",
      "200/200 [==============================] - 23s 114ms/step - loss: 0.4337 - accuracy: 0.8000 - val_loss: 0.5112 - val_accuracy: 0.7556 - lr: 0.0010\n",
      "Epoch 7/20\n",
      "200/200 [==============================] - 23s 114ms/step - loss: 0.4078 - accuracy: 0.8212 - val_loss: 0.5290 - val_accuracy: 0.7531 - lr: 0.0010\n",
      "Epoch 8/20\n",
      "200/200 [==============================] - 23s 114ms/step - loss: 0.3052 - accuracy: 0.8751 - val_loss: 0.5649 - val_accuracy: 0.7634 - lr: 2.0000e-04\n",
      "Epoch 9/20\n",
      "200/200 [==============================] - 23s 114ms/step - loss: 0.2574 - accuracy: 0.8976 - val_loss: 0.6133 - val_accuracy: 0.7663 - lr: 2.0000e-04\n",
      "100/100 [==============================] - 2s 22ms/step\n",
      "100/100 [==============================] - 2s 22ms/step\n"
     ]
    },
    {
     "name": "stderr",
     "output_type": "stream",
     "text": [
      "2024/10/12 04:24:59 WARNING mlflow.tensorflow: You are saving a TensorFlow Core model or Keras model without a signature. Inference with mlflow.pyfunc.spark_udf() will not work unless the model's pyfunc representation accepts pandas DataFrames as inference inputs.\n",
      "WARNING:absl:Found untraced functions such as _jit_compiled_convolution_op, _update_step_xla while saving (showing 2 of 2). These functions will not be directly callable after loading.\n"
     ]
    },
    {
     "name": "stdout",
     "output_type": "stream",
     "text": [
      "INFO:tensorflow:Assets written to: C:\\Users\\trist\\AppData\\Local\\Temp\\tmpntjhgw8t\\model\\data\\model\\assets\n"
     ]
    },
    {
     "name": "stderr",
     "output_type": "stream",
     "text": [
      "INFO:tensorflow:Assets written to: C:\\Users\\trist\\AppData\\Local\\Temp\\tmpntjhgw8t\\model\\data\\model\\assets\n",
      "2024/10/12 04:25:07 WARNING mlflow.models.model: Model logged without a signature and input example. Please set `input_example` parameter when logging the model to auto infer the model signature.\n"
     ]
    },
    {
     "name": "stdout",
     "output_type": "stream",
     "text": [
      "Epoch 1/20\n",
      "200/200 [==============================] - 13s 60ms/step - loss: 0.7560 - accuracy: 0.5500 - val_loss: 0.6873 - val_accuracy: 0.5088 - lr: 0.0010\n",
      "Epoch 2/20\n",
      "200/200 [==============================] - 12s 59ms/step - loss: 0.6245 - accuracy: 0.6508 - val_loss: 0.6317 - val_accuracy: 0.7122 - lr: 0.0010\n",
      "Epoch 3/20\n",
      "200/200 [==============================] - 12s 59ms/step - loss: 0.5594 - accuracy: 0.7152 - val_loss: 0.5626 - val_accuracy: 0.7209 - lr: 0.0010\n",
      "Epoch 4/20\n",
      "200/200 [==============================] - 12s 59ms/step - loss: 0.5072 - accuracy: 0.7574 - val_loss: 0.5327 - val_accuracy: 0.7378 - lr: 0.0010\n",
      "Epoch 5/20\n",
      "200/200 [==============================] - 12s 59ms/step - loss: 0.4691 - accuracy: 0.7805 - val_loss: 0.5300 - val_accuracy: 0.7400 - lr: 0.0010\n",
      "Epoch 6/20\n",
      "200/200 [==============================] - 12s 59ms/step - loss: 0.4291 - accuracy: 0.8087 - val_loss: 0.5419 - val_accuracy: 0.7487 - lr: 0.0010\n",
      "Epoch 7/20\n",
      "200/200 [==============================] - 12s 59ms/step - loss: 0.3949 - accuracy: 0.8248 - val_loss: 0.5446 - val_accuracy: 0.7412 - lr: 0.0010\n",
      "Epoch 8/20\n",
      "200/200 [==============================] - 12s 59ms/step - loss: 0.3000 - accuracy: 0.8769 - val_loss: 0.6252 - val_accuracy: 0.7503 - lr: 2.0000e-04\n",
      "Epoch 9/20\n",
      "200/200 [==============================] - 12s 59ms/step - loss: 0.2560 - accuracy: 0.8963 - val_loss: 0.6692 - val_accuracy: 0.7431 - lr: 2.0000e-04\n",
      "100/100 [==============================] - 1s 12ms/step\n",
      "100/100 [==============================] - 1s 12ms/step\n"
     ]
    },
    {
     "name": "stderr",
     "output_type": "stream",
     "text": [
      "2024/10/12 04:26:58 WARNING mlflow.tensorflow: You are saving a TensorFlow Core model or Keras model without a signature. Inference with mlflow.pyfunc.spark_udf() will not work unless the model's pyfunc representation accepts pandas DataFrames as inference inputs.\n",
      "WARNING:absl:Found untraced functions such as _jit_compiled_convolution_op, _update_step_xla while saving (showing 2 of 2). These functions will not be directly callable after loading.\n"
     ]
    },
    {
     "name": "stdout",
     "output_type": "stream",
     "text": [
      "INFO:tensorflow:Assets written to: C:\\Users\\trist\\AppData\\Local\\Temp\\tmpus43rcxy\\model\\data\\model\\assets\n"
     ]
    },
    {
     "name": "stderr",
     "output_type": "stream",
     "text": [
      "INFO:tensorflow:Assets written to: C:\\Users\\trist\\AppData\\Local\\Temp\\tmpus43rcxy\\model\\data\\model\\assets\n",
      "2024/10/12 04:27:05 WARNING mlflow.models.model: Model logged without a signature and input example. Please set `input_example` parameter when logging the model to auto infer the model signature.\n"
     ]
    },
    {
     "name": "stdout",
     "output_type": "stream",
     "text": [
      "Epoch 1/20\n",
      "200/200 [==============================] - 18s 83ms/step - loss: 0.7662 - accuracy: 0.5533 - val_loss: 0.6859 - val_accuracy: 0.6500 - lr: 0.0010\n",
      "Epoch 2/20\n",
      "200/200 [==============================] - 16s 82ms/step - loss: 0.6161 - accuracy: 0.6608 - val_loss: 0.6341 - val_accuracy: 0.7169 - lr: 0.0010\n",
      "Epoch 3/20\n",
      "200/200 [==============================] - 16s 82ms/step - loss: 0.5502 - accuracy: 0.7223 - val_loss: 0.5509 - val_accuracy: 0.7522 - lr: 0.0010\n",
      "Epoch 4/20\n",
      "200/200 [==============================] - 16s 81ms/step - loss: 0.4944 - accuracy: 0.7647 - val_loss: 0.5215 - val_accuracy: 0.7481 - lr: 0.0010\n",
      "Epoch 5/20\n",
      "200/200 [==============================] - 16s 82ms/step - loss: 0.4489 - accuracy: 0.7907 - val_loss: 0.5246 - val_accuracy: 0.7519 - lr: 0.0010\n",
      "Epoch 6/20\n",
      "200/200 [==============================] - 16s 81ms/step - loss: 0.4072 - accuracy: 0.8204 - val_loss: 0.5367 - val_accuracy: 0.7369 - lr: 0.0010\n",
      "Epoch 7/20\n",
      "200/200 [==============================] - 16s 81ms/step - loss: 0.3078 - accuracy: 0.8719 - val_loss: 0.6024 - val_accuracy: 0.7556 - lr: 2.0000e-04\n",
      "Epoch 8/20\n",
      "200/200 [==============================] - 16s 81ms/step - loss: 0.2633 - accuracy: 0.8923 - val_loss: 0.6481 - val_accuracy: 0.7547 - lr: 2.0000e-04\n",
      "100/100 [==============================] - 2s 17ms/step\n",
      "100/100 [==============================] - 2s 17ms/step\n"
     ]
    },
    {
     "name": "stderr",
     "output_type": "stream",
     "text": [
      "2024/10/12 04:29:21 WARNING mlflow.tensorflow: You are saving a TensorFlow Core model or Keras model without a signature. Inference with mlflow.pyfunc.spark_udf() will not work unless the model's pyfunc representation accepts pandas DataFrames as inference inputs.\n",
      "WARNING:absl:Found untraced functions such as _jit_compiled_convolution_op, _update_step_xla while saving (showing 2 of 2). These functions will not be directly callable after loading.\n"
     ]
    },
    {
     "name": "stdout",
     "output_type": "stream",
     "text": [
      "INFO:tensorflow:Assets written to: C:\\Users\\trist\\AppData\\Local\\Temp\\tmpc83lom63\\model\\data\\model\\assets\n"
     ]
    },
    {
     "name": "stderr",
     "output_type": "stream",
     "text": [
      "INFO:tensorflow:Assets written to: C:\\Users\\trist\\AppData\\Local\\Temp\\tmpc83lom63\\model\\data\\model\\assets\n",
      "2024/10/12 04:29:29 WARNING mlflow.models.model: Model logged without a signature and input example. Please set `input_example` parameter when logging the model to auto infer the model signature.\n"
     ]
    },
    {
     "name": "stdout",
     "output_type": "stream",
     "text": [
      "Epoch 1/20\n",
      "200/200 [==============================] - 33s 158ms/step - loss: 0.7360 - accuracy: 0.5612 - val_loss: 0.6824 - val_accuracy: 0.6463 - lr: 0.0010\n",
      "Epoch 2/20\n",
      "200/200 [==============================] - 31s 157ms/step - loss: 0.6262 - accuracy: 0.6413 - val_loss: 0.6558 - val_accuracy: 0.6413 - lr: 0.0010\n",
      "Epoch 3/20\n",
      "200/200 [==============================] - 31s 157ms/step - loss: 0.5634 - accuracy: 0.7128 - val_loss: 0.5750 - val_accuracy: 0.7466 - lr: 0.0010\n",
      "Epoch 4/20\n",
      "200/200 [==============================] - 31s 157ms/step - loss: 0.5041 - accuracy: 0.7553 - val_loss: 0.5369 - val_accuracy: 0.7431 - lr: 0.0010\n",
      "Epoch 5/20\n",
      "200/200 [==============================] - 31s 157ms/step - loss: 0.4598 - accuracy: 0.7859 - val_loss: 0.5151 - val_accuracy: 0.7534 - lr: 0.0010\n",
      "Epoch 6/20\n",
      "200/200 [==============================] - 31s 157ms/step - loss: 0.4164 - accuracy: 0.8130 - val_loss: 0.5133 - val_accuracy: 0.7584 - lr: 0.0010\n",
      "Epoch 7/20\n",
      "200/200 [==============================] - 31s 157ms/step - loss: 0.3696 - accuracy: 0.8423 - val_loss: 0.5749 - val_accuracy: 0.7472 - lr: 0.0010\n",
      "Epoch 8/20\n",
      "200/200 [==============================] - 31s 157ms/step - loss: 0.3131 - accuracy: 0.8678 - val_loss: 0.6793 - val_accuracy: 0.7497 - lr: 0.0010\n",
      "Epoch 9/20\n",
      "200/200 [==============================] - 31s 157ms/step - loss: 0.1825 - accuracy: 0.9291 - val_loss: 0.7593 - val_accuracy: 0.7497 - lr: 2.0000e-04\n",
      "Epoch 10/20\n",
      "200/200 [==============================] - 31s 157ms/step - loss: 0.1362 - accuracy: 0.9513 - val_loss: 0.8642 - val_accuracy: 0.7500 - lr: 2.0000e-04\n",
      "100/100 [==============================] - 3s 32ms/step\n",
      "100/100 [==============================] - 3s 32ms/step\n"
     ]
    },
    {
     "name": "stderr",
     "output_type": "stream",
     "text": [
      "2024/10/12 04:34:52 WARNING mlflow.tensorflow: You are saving a TensorFlow Core model or Keras model without a signature. Inference with mlflow.pyfunc.spark_udf() will not work unless the model's pyfunc representation accepts pandas DataFrames as inference inputs.\n",
      "WARNING:absl:Found untraced functions such as _jit_compiled_convolution_op, _update_step_xla while saving (showing 2 of 2). These functions will not be directly callable after loading.\n"
     ]
    },
    {
     "name": "stdout",
     "output_type": "stream",
     "text": [
      "INFO:tensorflow:Assets written to: C:\\Users\\trist\\AppData\\Local\\Temp\\tmp14l3tk2t\\model\\data\\model\\assets\n"
     ]
    },
    {
     "name": "stderr",
     "output_type": "stream",
     "text": [
      "INFO:tensorflow:Assets written to: C:\\Users\\trist\\AppData\\Local\\Temp\\tmp14l3tk2t\\model\\data\\model\\assets\n",
      "2024/10/12 04:34:59 WARNING mlflow.models.model: Model logged without a signature and input example. Please set `input_example` parameter when logging the model to auto infer the model signature.\n"
     ]
    },
    {
     "name": "stdout",
     "output_type": "stream",
     "text": [
      "Meilleurs paramètres : {'activation_type': 'leaky_relu', 'dropout_rate': 0.5, 'kernel_size': 3, 'num_filters': 256} avec une accuracy de 0.7678\n"
     ]
    }
   ],
   "source": [
    "#Lemma + FastText\n",
    "best_cnn_model_lemma_ft, best_params_lemma_ft = train_and_log_cnn(\n",
    "    X_train_lemma_ft, y_train_lemma_ft, X_test_lemma_ft, y_test_lemma_ft, \n",
    "    experiment_name=\"CNN_FastText_Lemmatization\", param_grid=param_grid_cnn, max_length=100\n",
    ")\n"
   ]
  },
  {
   "cell_type": "code",
   "execution_count": 43,
   "id": "9ca1e08d-bd1d-4704-b578-6e99e3b4d5c6",
   "metadata": {
    "scrolled": true
   },
   "outputs": [
    {
     "name": "stderr",
     "output_type": "stream",
     "text": [
      "WARNING:root:Malformed experiment 'matrice'. Detailed error Yaml file 'D:\\Master_Openclassroom\\Github\\projet7-op\\notebooks\\modèle_avancé\\mlruns\\matrice\\meta.yaml' does not exist.\n",
      "Traceback (most recent call last):\n",
      "  File \"D:\\Master_Openclassroom\\python\\Lib\\site-packages\\mlflow\\store\\tracking\\file_store.py\", line 327, in search_experiments\n",
      "    exp = self._get_experiment(exp_id, view_type)\n",
      "          ^^^^^^^^^^^^^^^^^^^^^^^^^^^^^^^^^^^^^^^\n",
      "  File \"D:\\Master_Openclassroom\\python\\Lib\\site-packages\\mlflow\\store\\tracking\\file_store.py\", line 421, in _get_experiment\n",
      "    meta = FileStore._read_yaml(experiment_dir, FileStore.META_DATA_FILE_NAME)\n",
      "           ^^^^^^^^^^^^^^^^^^^^^^^^^^^^^^^^^^^^^^^^^^^^^^^^^^^^^^^^^^^^^^^^^^^\n",
      "  File \"D:\\Master_Openclassroom\\python\\Lib\\site-packages\\mlflow\\store\\tracking\\file_store.py\", line 1367, in _read_yaml\n",
      "    return _read_helper(root, file_name, attempts_remaining=retries)\n",
      "           ^^^^^^^^^^^^^^^^^^^^^^^^^^^^^^^^^^^^^^^^^^^^^^^^^^^^^^^^^\n",
      "  File \"D:\\Master_Openclassroom\\python\\Lib\\site-packages\\mlflow\\store\\tracking\\file_store.py\", line 1360, in _read_helper\n",
      "    result = read_yaml(root, file_name)\n",
      "             ^^^^^^^^^^^^^^^^^^^^^^^^^^\n",
      "  File \"D:\\Master_Openclassroom\\python\\Lib\\site-packages\\mlflow\\utils\\file_utils.py\", line 309, in read_yaml\n",
      "    raise MissingConfigException(f\"Yaml file '{file_path}' does not exist.\")\n",
      "mlflow.exceptions.MissingConfigException: Yaml file 'D:\\Master_Openclassroom\\Github\\projet7-op\\notebooks\\modèle_avancé\\mlruns\\matrice\\meta.yaml' does not exist.\n"
     ]
    },
    {
     "name": "stdout",
     "output_type": "stream",
     "text": [
      "Epoch 1/20\n",
      "200/200 [==============================] - 10s 43ms/step - loss: 0.6841 - accuracy: 0.6321 - val_loss: 0.6519 - val_accuracy: 0.6628 - lr: 0.0010\n",
      "Epoch 2/20\n",
      "200/200 [==============================] - 8s 41ms/step - loss: 0.5333 - accuracy: 0.7311 - val_loss: 0.5848 - val_accuracy: 0.6972 - lr: 0.0010\n",
      "Epoch 3/20\n",
      "200/200 [==============================] - 8s 41ms/step - loss: 0.4828 - accuracy: 0.7640 - val_loss: 0.5370 - val_accuracy: 0.7275 - lr: 0.0010\n",
      "Epoch 4/20\n",
      "200/200 [==============================] - 8s 41ms/step - loss: 0.4358 - accuracy: 0.7966 - val_loss: 0.5421 - val_accuracy: 0.7275 - lr: 0.0010\n",
      "Epoch 5/20\n",
      "200/200 [==============================] - 8s 41ms/step - loss: 0.3886 - accuracy: 0.8241 - val_loss: 0.5759 - val_accuracy: 0.7319 - lr: 0.0010\n",
      "Epoch 6/20\n",
      "200/200 [==============================] - 8s 41ms/step - loss: 0.2814 - accuracy: 0.8825 - val_loss: 0.6163 - val_accuracy: 0.7372 - lr: 2.0000e-04\n",
      "Epoch 7/20\n",
      "200/200 [==============================] - 8s 41ms/step - loss: 0.2287 - accuracy: 0.9038 - val_loss: 0.7146 - val_accuracy: 0.7350 - lr: 2.0000e-04\n",
      "100/100 [==============================] - 1s 8ms/step\n",
      "100/100 [==============================] - 1s 8ms/step\n"
     ]
    },
    {
     "name": "stderr",
     "output_type": "stream",
     "text": [
      "2024/10/12 04:36:01 WARNING mlflow.tensorflow: You are saving a TensorFlow Core model or Keras model without a signature. Inference with mlflow.pyfunc.spark_udf() will not work unless the model's pyfunc representation accepts pandas DataFrames as inference inputs.\n",
      "WARNING:absl:Found untraced functions such as _jit_compiled_convolution_op, _update_step_xla while saving (showing 2 of 2). These functions will not be directly callable after loading.\n"
     ]
    },
    {
     "name": "stdout",
     "output_type": "stream",
     "text": [
      "INFO:tensorflow:Assets written to: C:\\Users\\trist\\AppData\\Local\\Temp\\tmpzr090sj7\\model\\data\\model\\assets\n"
     ]
    },
    {
     "name": "stderr",
     "output_type": "stream",
     "text": [
      "INFO:tensorflow:Assets written to: C:\\Users\\trist\\AppData\\Local\\Temp\\tmpzr090sj7\\model\\data\\model\\assets\n",
      "2024/10/12 04:36:09 WARNING mlflow.models.model: Model logged without a signature and input example. Please set `input_example` parameter when logging the model to auto infer the model signature.\n"
     ]
    },
    {
     "name": "stdout",
     "output_type": "stream",
     "text": [
      "Epoch 1/20\n",
      "200/200 [==============================] - 20s 95ms/step - loss: 0.7301 - accuracy: 0.6217 - val_loss: 0.6481 - val_accuracy: 0.7209 - lr: 0.0010\n",
      "Epoch 2/20\n",
      "200/200 [==============================] - 19s 94ms/step - loss: 0.5430 - accuracy: 0.7284 - val_loss: 0.5792 - val_accuracy: 0.7316 - lr: 0.0010\n",
      "Epoch 3/20\n",
      "200/200 [==============================] - 19s 94ms/step - loss: 0.4757 - accuracy: 0.7738 - val_loss: 0.5116 - val_accuracy: 0.7406 - lr: 0.0010\n",
      "Epoch 4/20\n",
      "200/200 [==============================] - 19s 93ms/step - loss: 0.4205 - accuracy: 0.8050 - val_loss: 0.5262 - val_accuracy: 0.7387 - lr: 0.0010\n",
      "Epoch 5/20\n",
      "200/200 [==============================] - 19s 94ms/step - loss: 0.3563 - accuracy: 0.8405 - val_loss: 0.7505 - val_accuracy: 0.6759 - lr: 0.0010\n",
      "Epoch 6/20\n",
      "200/200 [==============================] - 19s 94ms/step - loss: 0.2446 - accuracy: 0.9005 - val_loss: 0.6483 - val_accuracy: 0.7369 - lr: 2.0000e-04\n",
      "Epoch 7/20\n",
      "200/200 [==============================] - 19s 94ms/step - loss: 0.1815 - accuracy: 0.9302 - val_loss: 0.7375 - val_accuracy: 0.7269 - lr: 2.0000e-04\n",
      "100/100 [==============================] - 2s 17ms/step\n",
      "100/100 [==============================] - 2s 17ms/step\n"
     ]
    },
    {
     "name": "stderr",
     "output_type": "stream",
     "text": [
      "2024/10/12 04:38:25 WARNING mlflow.tensorflow: You are saving a TensorFlow Core model or Keras model without a signature. Inference with mlflow.pyfunc.spark_udf() will not work unless the model's pyfunc representation accepts pandas DataFrames as inference inputs.\n",
      "WARNING:absl:Found untraced functions such as _jit_compiled_convolution_op, _update_step_xla while saving (showing 2 of 2). These functions will not be directly callable after loading.\n"
     ]
    },
    {
     "name": "stdout",
     "output_type": "stream",
     "text": [
      "INFO:tensorflow:Assets written to: C:\\Users\\trist\\AppData\\Local\\Temp\\tmp8gd1wl53\\model\\data\\model\\assets\n"
     ]
    },
    {
     "name": "stderr",
     "output_type": "stream",
     "text": [
      "INFO:tensorflow:Assets written to: C:\\Users\\trist\\AppData\\Local\\Temp\\tmp8gd1wl53\\model\\data\\model\\assets\n",
      "2024/10/12 04:38:33 WARNING mlflow.models.model: Model logged without a signature and input example. Please set `input_example` parameter when logging the model to auto infer the model signature.\n"
     ]
    },
    {
     "name": "stdout",
     "output_type": "stream",
     "text": [
      "Epoch 1/20\n",
      "200/200 [==============================] - 34s 166ms/step - loss: 0.6901 - accuracy: 0.6349 - val_loss: 0.6593 - val_accuracy: 0.7188 - lr: 0.0010\n",
      "Epoch 2/20\n",
      "200/200 [==============================] - 33s 164ms/step - loss: 0.5259 - accuracy: 0.7368 - val_loss: 0.6044 - val_accuracy: 0.7284 - lr: 0.0010\n",
      "Epoch 3/20\n",
      "200/200 [==============================] - 33s 164ms/step - loss: 0.4607 - accuracy: 0.7784 - val_loss: 0.5335 - val_accuracy: 0.7334 - lr: 0.0010\n",
      "Epoch 4/20\n",
      "200/200 [==============================] - 33s 164ms/step - loss: 0.3899 - accuracy: 0.8183 - val_loss: 0.5260 - val_accuracy: 0.7453 - lr: 0.0010\n",
      "Epoch 5/20\n",
      "200/200 [==============================] - 33s 164ms/step - loss: 0.3285 - accuracy: 0.8565 - val_loss: 0.5767 - val_accuracy: 0.7456 - lr: 0.0010\n",
      "Epoch 6/20\n",
      "200/200 [==============================] - 33s 163ms/step - loss: 0.2566 - accuracy: 0.8897 - val_loss: 0.6324 - val_accuracy: 0.7253 - lr: 0.0010\n",
      "Epoch 7/20\n",
      "200/200 [==============================] - 33s 163ms/step - loss: 0.1394 - accuracy: 0.9491 - val_loss: 0.8228 - val_accuracy: 0.7344 - lr: 2.0000e-04\n",
      "Epoch 8/20\n",
      "200/200 [==============================] - 33s 163ms/step - loss: 0.0897 - accuracy: 0.9684 - val_loss: 0.9844 - val_accuracy: 0.7278 - lr: 2.0000e-04\n",
      "100/100 [==============================] - 3s 31ms/step\n",
      "100/100 [==============================] - 3s 30ms/step\n"
     ]
    },
    {
     "name": "stderr",
     "output_type": "stream",
     "text": [
      "2024/10/12 04:43:03 WARNING mlflow.tensorflow: You are saving a TensorFlow Core model or Keras model without a signature. Inference with mlflow.pyfunc.spark_udf() will not work unless the model's pyfunc representation accepts pandas DataFrames as inference inputs.\n",
      "WARNING:absl:Found untraced functions such as _jit_compiled_convolution_op, _update_step_xla while saving (showing 2 of 2). These functions will not be directly callable after loading.\n"
     ]
    },
    {
     "name": "stdout",
     "output_type": "stream",
     "text": [
      "INFO:tensorflow:Assets written to: C:\\Users\\trist\\AppData\\Local\\Temp\\tmp_2633jfk\\model\\data\\model\\assets\n"
     ]
    },
    {
     "name": "stderr",
     "output_type": "stream",
     "text": [
      "INFO:tensorflow:Assets written to: C:\\Users\\trist\\AppData\\Local\\Temp\\tmp_2633jfk\\model\\data\\model\\assets\n",
      "2024/10/12 04:43:10 WARNING mlflow.models.model: Model logged without a signature and input example. Please set `input_example` parameter when logging the model to auto infer the model signature.\n"
     ]
    },
    {
     "name": "stdout",
     "output_type": "stream",
     "text": [
      "Epoch 1/20\n",
      "200/200 [==============================] - 17s 80ms/step - loss: 0.6854 - accuracy: 0.6266 - val_loss: 0.6675 - val_accuracy: 0.7072 - lr: 0.0010\n",
      "Epoch 2/20\n",
      "200/200 [==============================] - 16s 79ms/step - loss: 0.5415 - accuracy: 0.7285 - val_loss: 0.5941 - val_accuracy: 0.6956 - lr: 0.0010\n",
      "Epoch 3/20\n",
      "200/200 [==============================] - 16s 79ms/step - loss: 0.4682 - accuracy: 0.7783 - val_loss: 0.5396 - val_accuracy: 0.7297 - lr: 0.0010\n",
      "Epoch 4/20\n",
      "200/200 [==============================] - 16s 79ms/step - loss: 0.4052 - accuracy: 0.8166 - val_loss: 0.5607 - val_accuracy: 0.7316 - lr: 0.0010\n",
      "Epoch 5/20\n",
      "200/200 [==============================] - 16s 79ms/step - loss: 0.3327 - accuracy: 0.8536 - val_loss: 0.6450 - val_accuracy: 0.7184 - lr: 0.0010\n",
      "Epoch 6/20\n",
      "200/200 [==============================] - 16s 79ms/step - loss: 0.1974 - accuracy: 0.9226 - val_loss: 0.7747 - val_accuracy: 0.7244 - lr: 2.0000e-04\n",
      "Epoch 7/20\n",
      "200/200 [==============================] - 16s 79ms/step - loss: 0.1316 - accuracy: 0.9484 - val_loss: 0.9544 - val_accuracy: 0.7216 - lr: 2.0000e-04\n",
      "100/100 [==============================] - 2s 17ms/step\n",
      "100/100 [==============================] - 2s 17ms/step\n"
     ]
    },
    {
     "name": "stderr",
     "output_type": "stream",
     "text": [
      "2024/10/12 04:45:06 WARNING mlflow.tensorflow: You are saving a TensorFlow Core model or Keras model without a signature. Inference with mlflow.pyfunc.spark_udf() will not work unless the model's pyfunc representation accepts pandas DataFrames as inference inputs.\n",
      "WARNING:absl:Found untraced functions such as _jit_compiled_convolution_op, _update_step_xla while saving (showing 2 of 2). These functions will not be directly callable after loading.\n"
     ]
    },
    {
     "name": "stdout",
     "output_type": "stream",
     "text": [
      "INFO:tensorflow:Assets written to: C:\\Users\\trist\\AppData\\Local\\Temp\\tmpo71e_u6r\\model\\data\\model\\assets\n"
     ]
    },
    {
     "name": "stderr",
     "output_type": "stream",
     "text": [
      "INFO:tensorflow:Assets written to: C:\\Users\\trist\\AppData\\Local\\Temp\\tmpo71e_u6r\\model\\data\\model\\assets\n",
      "2024/10/12 04:45:13 WARNING mlflow.models.model: Model logged without a signature and input example. Please set `input_example` parameter when logging the model to auto infer the model signature.\n"
     ]
    },
    {
     "name": "stdout",
     "output_type": "stream",
     "text": [
      "Epoch 1/20\n",
      "200/200 [==============================] - 24s 114ms/step - loss: 0.6661 - accuracy: 0.6356 - val_loss: 0.6599 - val_accuracy: 0.6659 - lr: 0.0010\n",
      "Epoch 2/20\n",
      "200/200 [==============================] - 22s 112ms/step - loss: 0.5292 - accuracy: 0.7327 - val_loss: 0.6130 - val_accuracy: 0.7056 - lr: 0.0010\n",
      "Epoch 3/20\n",
      "200/200 [==============================] - 23s 113ms/step - loss: 0.4484 - accuracy: 0.7881 - val_loss: 0.5313 - val_accuracy: 0.7300 - lr: 0.0010\n",
      "Epoch 4/20\n",
      "200/200 [==============================] - 22s 112ms/step - loss: 0.3715 - accuracy: 0.8307 - val_loss: 0.5507 - val_accuracy: 0.7303 - lr: 0.0010\n",
      "Epoch 5/20\n",
      "200/200 [==============================] - 22s 112ms/step - loss: 0.2825 - accuracy: 0.8776 - val_loss: 0.7215 - val_accuracy: 0.7025 - lr: 0.0010\n",
      "Epoch 6/20\n",
      "200/200 [==============================] - 22s 112ms/step - loss: 0.1525 - accuracy: 0.9396 - val_loss: 0.8625 - val_accuracy: 0.7181 - lr: 2.0000e-04\n",
      "Epoch 7/20\n",
      "200/200 [==============================] - 23s 113ms/step - loss: 0.0937 - accuracy: 0.9658 - val_loss: 1.0653 - val_accuracy: 0.7216 - lr: 2.0000e-04\n",
      "100/100 [==============================] - 2s 23ms/step\n",
      "100/100 [==============================] - 2s 23ms/step\n"
     ]
    },
    {
     "name": "stderr",
     "output_type": "stream",
     "text": [
      "2024/10/12 04:47:58 WARNING mlflow.tensorflow: You are saving a TensorFlow Core model or Keras model without a signature. Inference with mlflow.pyfunc.spark_udf() will not work unless the model's pyfunc representation accepts pandas DataFrames as inference inputs.\n",
      "WARNING:absl:Found untraced functions such as _jit_compiled_convolution_op, _update_step_xla while saving (showing 2 of 2). These functions will not be directly callable after loading.\n"
     ]
    },
    {
     "name": "stdout",
     "output_type": "stream",
     "text": [
      "INFO:tensorflow:Assets written to: C:\\Users\\trist\\AppData\\Local\\Temp\\tmp67ujjuc0\\model\\data\\model\\assets\n"
     ]
    },
    {
     "name": "stderr",
     "output_type": "stream",
     "text": [
      "INFO:tensorflow:Assets written to: C:\\Users\\trist\\AppData\\Local\\Temp\\tmp67ujjuc0\\model\\data\\model\\assets\n",
      "2024/10/12 04:48:05 WARNING mlflow.models.model: Model logged without a signature and input example. Please set `input_example` parameter when logging the model to auto infer the model signature.\n"
     ]
    },
    {
     "name": "stdout",
     "output_type": "stream",
     "text": [
      "Epoch 1/20\n",
      "200/200 [==============================] - 41s 202ms/step - loss: 0.6540 - accuracy: 0.6356 - val_loss: 0.6558 - val_accuracy: 0.7138 - lr: 0.0010\n",
      "Epoch 2/20\n",
      "200/200 [==============================] - 39s 197ms/step - loss: 0.5166 - accuracy: 0.7423 - val_loss: 0.5930 - val_accuracy: 0.7362 - lr: 0.0010\n",
      "Epoch 3/20\n",
      "200/200 [==============================] - 39s 197ms/step - loss: 0.4308 - accuracy: 0.7965 - val_loss: 0.5265 - val_accuracy: 0.7356 - lr: 0.0010\n",
      "Epoch 4/20\n",
      "200/200 [==============================] - 39s 197ms/step - loss: 0.3479 - accuracy: 0.8451 - val_loss: 0.5615 - val_accuracy: 0.7256 - lr: 0.0010\n",
      "Epoch 5/20\n",
      "200/200 [==============================] - 39s 196ms/step - loss: 0.2618 - accuracy: 0.8845 - val_loss: 0.7322 - val_accuracy: 0.7287 - lr: 0.0010\n",
      "Epoch 6/20\n",
      "200/200 [==============================] - 39s 195ms/step - loss: 0.1384 - accuracy: 0.9452 - val_loss: 0.8396 - val_accuracy: 0.7275 - lr: 2.0000e-04\n",
      "Epoch 7/20\n",
      "200/200 [==============================] - 39s 195ms/step - loss: 0.0807 - accuracy: 0.9696 - val_loss: 0.9571 - val_accuracy: 0.7359 - lr: 2.0000e-04\n",
      "100/100 [==============================] - 4s 39ms/step\n",
      "100/100 [==============================] - 4s 39ms/step\n"
     ]
    },
    {
     "name": "stderr",
     "output_type": "stream",
     "text": [
      "2024/10/12 04:52:50 WARNING mlflow.tensorflow: You are saving a TensorFlow Core model or Keras model without a signature. Inference with mlflow.pyfunc.spark_udf() will not work unless the model's pyfunc representation accepts pandas DataFrames as inference inputs.\n",
      "WARNING:absl:Found untraced functions such as _jit_compiled_convolution_op, _update_step_xla while saving (showing 2 of 2). These functions will not be directly callable after loading.\n"
     ]
    },
    {
     "name": "stdout",
     "output_type": "stream",
     "text": [
      "INFO:tensorflow:Assets written to: C:\\Users\\trist\\AppData\\Local\\Temp\\tmplw1ehr_x\\model\\data\\model\\assets\n"
     ]
    },
    {
     "name": "stderr",
     "output_type": "stream",
     "text": [
      "INFO:tensorflow:Assets written to: C:\\Users\\trist\\AppData\\Local\\Temp\\tmplw1ehr_x\\model\\data\\model\\assets\n",
      "2024/10/12 04:52:58 WARNING mlflow.models.model: Model logged without a signature and input example. Please set `input_example` parameter when logging the model to auto infer the model signature.\n"
     ]
    },
    {
     "name": "stdout",
     "output_type": "stream",
     "text": [
      "Epoch 1/20\n",
      "200/200 [==============================] - 12s 55ms/step - loss: 0.8028 - accuracy: 0.5573 - val_loss: 0.6758 - val_accuracy: 0.6719 - lr: 0.0010\n",
      "Epoch 2/20\n",
      "200/200 [==============================] - 11s 54ms/step - loss: 0.6059 - accuracy: 0.6752 - val_loss: 0.6272 - val_accuracy: 0.7206 - lr: 0.0010\n",
      "Epoch 3/20\n",
      "200/200 [==============================] - 11s 54ms/step - loss: 0.5493 - accuracy: 0.7269 - val_loss: 0.5539 - val_accuracy: 0.7350 - lr: 0.0010\n",
      "Epoch 4/20\n",
      "200/200 [==============================] - 11s 54ms/step - loss: 0.5096 - accuracy: 0.7557 - val_loss: 0.5265 - val_accuracy: 0.7341 - lr: 0.0010\n",
      "Epoch 5/20\n",
      "200/200 [==============================] - 11s 53ms/step - loss: 0.4749 - accuracy: 0.7761 - val_loss: 0.5407 - val_accuracy: 0.7309 - lr: 0.0010\n",
      "Epoch 6/20\n",
      "200/200 [==============================] - 11s 54ms/step - loss: 0.4458 - accuracy: 0.7947 - val_loss: 0.5315 - val_accuracy: 0.7356 - lr: 0.0010\n",
      "Epoch 7/20\n",
      "200/200 [==============================] - 11s 54ms/step - loss: 0.3736 - accuracy: 0.8356 - val_loss: 0.5374 - val_accuracy: 0.7459 - lr: 2.0000e-04\n",
      "Epoch 8/20\n",
      "200/200 [==============================] - 11s 53ms/step - loss: 0.3405 - accuracy: 0.8548 - val_loss: 0.5636 - val_accuracy: 0.7434 - lr: 2.0000e-04\n",
      "100/100 [==============================] - 1s 10ms/step\n",
      "100/100 [==============================] - 1s 10ms/step\n"
     ]
    },
    {
     "name": "stderr",
     "output_type": "stream",
     "text": [
      "2024/10/12 04:54:28 WARNING mlflow.tensorflow: You are saving a TensorFlow Core model or Keras model without a signature. Inference with mlflow.pyfunc.spark_udf() will not work unless the model's pyfunc representation accepts pandas DataFrames as inference inputs.\n",
      "WARNING:absl:Found untraced functions such as _jit_compiled_convolution_op, _update_step_xla while saving (showing 2 of 2). These functions will not be directly callable after loading.\n"
     ]
    },
    {
     "name": "stdout",
     "output_type": "stream",
     "text": [
      "INFO:tensorflow:Assets written to: C:\\Users\\trist\\AppData\\Local\\Temp\\tmpvy258x7u\\model\\data\\model\\assets\n"
     ]
    },
    {
     "name": "stderr",
     "output_type": "stream",
     "text": [
      "INFO:tensorflow:Assets written to: C:\\Users\\trist\\AppData\\Local\\Temp\\tmpvy258x7u\\model\\data\\model\\assets\n",
      "2024/10/12 04:54:35 WARNING mlflow.models.model: Model logged without a signature and input example. Please set `input_example` parameter when logging the model to auto infer the model signature.\n"
     ]
    },
    {
     "name": "stdout",
     "output_type": "stream",
     "text": [
      "Epoch 1/20\n",
      "200/200 [==============================] - 17s 78ms/step - loss: 0.8103 - accuracy: 0.5583 - val_loss: 0.6748 - val_accuracy: 0.6481 - lr: 0.0010\n",
      "Epoch 2/20\n",
      "200/200 [==============================] - 15s 77ms/step - loss: 0.6054 - accuracy: 0.6714 - val_loss: 0.6296 - val_accuracy: 0.6794 - lr: 0.0010\n",
      "Epoch 3/20\n",
      "200/200 [==============================] - 15s 77ms/step - loss: 0.5451 - accuracy: 0.7266 - val_loss: 0.5548 - val_accuracy: 0.7253 - lr: 0.0010\n",
      "Epoch 4/20\n",
      "200/200 [==============================] - 15s 77ms/step - loss: 0.5017 - accuracy: 0.7598 - val_loss: 0.5444 - val_accuracy: 0.7134 - lr: 0.0010\n",
      "Epoch 5/20\n",
      "200/200 [==============================] - 15s 77ms/step - loss: 0.4544 - accuracy: 0.7874 - val_loss: 0.5179 - val_accuracy: 0.7469 - lr: 0.0010\n",
      "Epoch 6/20\n",
      "200/200 [==============================] - 15s 77ms/step - loss: 0.4224 - accuracy: 0.8049 - val_loss: 0.5301 - val_accuracy: 0.7425 - lr: 0.0010\n",
      "Epoch 7/20\n",
      "200/200 [==============================] - 15s 77ms/step - loss: 0.3732 - accuracy: 0.8273 - val_loss: 0.5911 - val_accuracy: 0.7206 - lr: 0.0010\n",
      "Epoch 8/20\n",
      "200/200 [==============================] - 15s 77ms/step - loss: 0.2890 - accuracy: 0.8741 - val_loss: 0.5974 - val_accuracy: 0.7347 - lr: 2.0000e-04\n",
      "Epoch 9/20\n",
      "200/200 [==============================] - 15s 77ms/step - loss: 0.2397 - accuracy: 0.8995 - val_loss: 0.6595 - val_accuracy: 0.7275 - lr: 2.0000e-04\n",
      "100/100 [==============================] - 1s 13ms/step\n",
      "100/100 [==============================] - 1s 13ms/step\n"
     ]
    },
    {
     "name": "stderr",
     "output_type": "stream",
     "text": [
      "2024/10/12 04:56:58 WARNING mlflow.tensorflow: You are saving a TensorFlow Core model or Keras model without a signature. Inference with mlflow.pyfunc.spark_udf() will not work unless the model's pyfunc representation accepts pandas DataFrames as inference inputs.\n",
      "WARNING:absl:Found untraced functions such as _jit_compiled_convolution_op, _update_step_xla while saving (showing 2 of 2). These functions will not be directly callable after loading.\n"
     ]
    },
    {
     "name": "stdout",
     "output_type": "stream",
     "text": [
      "INFO:tensorflow:Assets written to: C:\\Users\\trist\\AppData\\Local\\Temp\\tmpodawlwe2\\model\\data\\model\\assets\n"
     ]
    },
    {
     "name": "stderr",
     "output_type": "stream",
     "text": [
      "INFO:tensorflow:Assets written to: C:\\Users\\trist\\AppData\\Local\\Temp\\tmpodawlwe2\\model\\data\\model\\assets\n",
      "2024/10/12 04:57:06 WARNING mlflow.models.model: Model logged without a signature and input example. Please set `input_example` parameter when logging the model to auto infer the model signature.\n"
     ]
    },
    {
     "name": "stdout",
     "output_type": "stream",
     "text": [
      "Epoch 1/20\n",
      "200/200 [==============================] - 29s 143ms/step - loss: 0.7917 - accuracy: 0.5608 - val_loss: 0.6743 - val_accuracy: 0.6766 - lr: 0.0010\n",
      "Epoch 2/20\n",
      "200/200 [==============================] - 28s 142ms/step - loss: 0.6264 - accuracy: 0.6483 - val_loss: 0.6179 - val_accuracy: 0.7091 - lr: 0.0010\n",
      "Epoch 3/20\n",
      "200/200 [==============================] - 28s 142ms/step - loss: 0.5689 - accuracy: 0.7039 - val_loss: 0.5589 - val_accuracy: 0.7356 - lr: 0.0010\n",
      "Epoch 4/20\n",
      "200/200 [==============================] - 28s 142ms/step - loss: 0.5253 - accuracy: 0.7394 - val_loss: 0.5274 - val_accuracy: 0.7381 - lr: 0.0010\n",
      "Epoch 5/20\n",
      "200/200 [==============================] - 28s 142ms/step - loss: 0.4841 - accuracy: 0.7653 - val_loss: 0.5187 - val_accuracy: 0.7422 - lr: 0.0010\n",
      "Epoch 6/20\n",
      "200/200 [==============================] - 28s 142ms/step - loss: 0.4396 - accuracy: 0.7871 - val_loss: 0.5268 - val_accuracy: 0.7269 - lr: 0.0010\n",
      "Epoch 7/20\n",
      "200/200 [==============================] - 28s 142ms/step - loss: 0.3945 - accuracy: 0.8198 - val_loss: 0.5464 - val_accuracy: 0.7375 - lr: 0.0010\n",
      "Epoch 8/20\n",
      "200/200 [==============================] - 28s 142ms/step - loss: 0.2964 - accuracy: 0.8684 - val_loss: 0.5740 - val_accuracy: 0.7422 - lr: 2.0000e-04\n",
      "Epoch 9/20\n",
      "200/200 [==============================] - 28s 142ms/step - loss: 0.2514 - accuracy: 0.8899 - val_loss: 0.6185 - val_accuracy: 0.7359 - lr: 2.0000e-04\n",
      "100/100 [==============================] - 3s 27ms/step\n",
      "100/100 [==============================] - 3s 26ms/step\n"
     ]
    },
    {
     "name": "stderr",
     "output_type": "stream",
     "text": [
      "2024/10/12 05:01:29 WARNING mlflow.tensorflow: You are saving a TensorFlow Core model or Keras model without a signature. Inference with mlflow.pyfunc.spark_udf() will not work unless the model's pyfunc representation accepts pandas DataFrames as inference inputs.\n",
      "WARNING:absl:Found untraced functions such as _jit_compiled_convolution_op, _update_step_xla while saving (showing 2 of 2). These functions will not be directly callable after loading.\n"
     ]
    },
    {
     "name": "stdout",
     "output_type": "stream",
     "text": [
      "INFO:tensorflow:Assets written to: C:\\Users\\trist\\AppData\\Local\\Temp\\tmp7ym0571v\\model\\data\\model\\assets\n"
     ]
    },
    {
     "name": "stderr",
     "output_type": "stream",
     "text": [
      "INFO:tensorflow:Assets written to: C:\\Users\\trist\\AppData\\Local\\Temp\\tmp7ym0571v\\model\\data\\model\\assets\n",
      "2024/10/12 05:01:36 WARNING mlflow.models.model: Model logged without a signature and input example. Please set `input_example` parameter when logging the model to auto infer the model signature.\n"
     ]
    },
    {
     "name": "stdout",
     "output_type": "stream",
     "text": [
      "Epoch 1/20\n",
      "200/200 [==============================] - 15s 69ms/step - loss: 0.8110 - accuracy: 0.5531 - val_loss: 0.6808 - val_accuracy: 0.6725 - lr: 0.0010\n",
      "Epoch 2/20\n",
      "200/200 [==============================] - 14s 68ms/step - loss: 0.6126 - accuracy: 0.6655 - val_loss: 0.6282 - val_accuracy: 0.7069 - lr: 0.0010\n",
      "Epoch 3/20\n",
      "200/200 [==============================] - 14s 68ms/step - loss: 0.5498 - accuracy: 0.7234 - val_loss: 0.5666 - val_accuracy: 0.7028 - lr: 0.0010\n",
      "Epoch 4/20\n",
      "200/200 [==============================] - 13s 67ms/step - loss: 0.4973 - accuracy: 0.7659 - val_loss: 0.5488 - val_accuracy: 0.7066 - lr: 0.0010\n",
      "Epoch 5/20\n",
      "200/200 [==============================] - 13s 68ms/step - loss: 0.4505 - accuracy: 0.7914 - val_loss: 0.5458 - val_accuracy: 0.7225 - lr: 0.0010\n",
      "Epoch 6/20\n",
      "200/200 [==============================] - 13s 67ms/step - loss: 0.3990 - accuracy: 0.8292 - val_loss: 0.5868 - val_accuracy: 0.7125 - lr: 0.0010\n",
      "Epoch 7/20\n",
      "200/200 [==============================] - 14s 68ms/step - loss: 0.3512 - accuracy: 0.8446 - val_loss: 0.6049 - val_accuracy: 0.7163 - lr: 0.0010\n",
      "Epoch 8/20\n",
      "200/200 [==============================] - 13s 68ms/step - loss: 0.2400 - accuracy: 0.9027 - val_loss: 0.7199 - val_accuracy: 0.7175 - lr: 2.0000e-04\n",
      "Epoch 9/20\n",
      "200/200 [==============================] - 14s 68ms/step - loss: 0.1939 - accuracy: 0.9241 - val_loss: 0.8072 - val_accuracy: 0.7200 - lr: 2.0000e-04\n",
      "100/100 [==============================] - 1s 14ms/step\n",
      "100/100 [==============================] - 1s 14ms/step\n"
     ]
    },
    {
     "name": "stderr",
     "output_type": "stream",
     "text": [
      "2024/10/12 05:03:43 WARNING mlflow.tensorflow: You are saving a TensorFlow Core model or Keras model without a signature. Inference with mlflow.pyfunc.spark_udf() will not work unless the model's pyfunc representation accepts pandas DataFrames as inference inputs.\n",
      "WARNING:absl:Found untraced functions such as _jit_compiled_convolution_op, _update_step_xla while saving (showing 2 of 2). These functions will not be directly callable after loading.\n"
     ]
    },
    {
     "name": "stdout",
     "output_type": "stream",
     "text": [
      "INFO:tensorflow:Assets written to: C:\\Users\\trist\\AppData\\Local\\Temp\\tmpgiv25kao\\model\\data\\model\\assets\n"
     ]
    },
    {
     "name": "stderr",
     "output_type": "stream",
     "text": [
      "INFO:tensorflow:Assets written to: C:\\Users\\trist\\AppData\\Local\\Temp\\tmpgiv25kao\\model\\data\\model\\assets\n",
      "2024/10/12 05:03:50 WARNING mlflow.models.model: Model logged without a signature and input example. Please set `input_example` parameter when logging the model to auto infer the model signature.\n"
     ]
    },
    {
     "name": "stdout",
     "output_type": "stream",
     "text": [
      "Epoch 1/20\n",
      "200/200 [==============================] - 21s 100ms/step - loss: 0.7703 - accuracy: 0.5744 - val_loss: 0.6712 - val_accuracy: 0.6944 - lr: 0.0010\n",
      "Epoch 2/20\n",
      "200/200 [==============================] - 20s 98ms/step - loss: 0.5888 - accuracy: 0.6912 - val_loss: 0.6166 - val_accuracy: 0.6791 - lr: 0.0010\n",
      "Epoch 3/20\n",
      "200/200 [==============================] - 20s 99ms/step - loss: 0.5260 - accuracy: 0.7398 - val_loss: 0.5437 - val_accuracy: 0.7297 - lr: 0.0010\n",
      "Epoch 4/20\n",
      "200/200 [==============================] - 20s 99ms/step - loss: 0.4739 - accuracy: 0.7726 - val_loss: 0.5283 - val_accuracy: 0.7391 - lr: 0.0010\n",
      "Epoch 5/20\n",
      "200/200 [==============================] - 20s 98ms/step - loss: 0.4163 - accuracy: 0.8132 - val_loss: 0.5328 - val_accuracy: 0.7347 - lr: 0.0010\n",
      "Epoch 6/20\n",
      "200/200 [==============================] - 20s 99ms/step - loss: 0.3636 - accuracy: 0.8416 - val_loss: 0.5781 - val_accuracy: 0.7284 - lr: 0.0010\n",
      "Epoch 7/20\n",
      "200/200 [==============================] - 20s 98ms/step - loss: 0.2483 - accuracy: 0.9002 - val_loss: 0.6523 - val_accuracy: 0.7337 - lr: 2.0000e-04\n",
      "Epoch 8/20\n",
      "200/200 [==============================] - 20s 99ms/step - loss: 0.1846 - accuracy: 0.9271 - val_loss: 0.7759 - val_accuracy: 0.7325 - lr: 2.0000e-04\n",
      "100/100 [==============================] - 2s 20ms/step\n",
      "100/100 [==============================] - 2s 20ms/step\n"
     ]
    },
    {
     "name": "stderr",
     "output_type": "stream",
     "text": [
      "2024/10/12 05:06:34 WARNING mlflow.tensorflow: You are saving a TensorFlow Core model or Keras model without a signature. Inference with mlflow.pyfunc.spark_udf() will not work unless the model's pyfunc representation accepts pandas DataFrames as inference inputs.\n",
      "WARNING:absl:Found untraced functions such as _jit_compiled_convolution_op, _update_step_xla while saving (showing 2 of 2). These functions will not be directly callable after loading.\n"
     ]
    },
    {
     "name": "stdout",
     "output_type": "stream",
     "text": [
      "INFO:tensorflow:Assets written to: C:\\Users\\trist\\AppData\\Local\\Temp\\tmpgo5358mw\\model\\data\\model\\assets\n"
     ]
    },
    {
     "name": "stderr",
     "output_type": "stream",
     "text": [
      "INFO:tensorflow:Assets written to: C:\\Users\\trist\\AppData\\Local\\Temp\\tmpgo5358mw\\model\\data\\model\\assets\n",
      "2024/10/12 05:06:41 WARNING mlflow.models.model: Model logged without a signature and input example. Please set `input_example` parameter when logging the model to auto infer the model signature.\n"
     ]
    },
    {
     "name": "stdout",
     "output_type": "stream",
     "text": [
      "Epoch 1/20\n",
      "200/200 [==============================] - 37s 179ms/step - loss: 0.7834 - accuracy: 0.5618 - val_loss: 0.6773 - val_accuracy: 0.6778 - lr: 0.0010\n",
      "Epoch 2/20\n",
      "200/200 [==============================] - 35s 177ms/step - loss: 0.6131 - accuracy: 0.6669 - val_loss: 0.6254 - val_accuracy: 0.7197 - lr: 0.0010\n",
      "Epoch 3/20\n",
      "200/200 [==============================] - 35s 177ms/step - loss: 0.5587 - accuracy: 0.7098 - val_loss: 0.5597 - val_accuracy: 0.7312 - lr: 0.0010\n",
      "Epoch 4/20\n",
      "200/200 [==============================] - 35s 177ms/step - loss: 0.4996 - accuracy: 0.7537 - val_loss: 0.5298 - val_accuracy: 0.7419 - lr: 0.0010\n",
      "Epoch 5/20\n",
      "200/200 [==============================] - 35s 177ms/step - loss: 0.4400 - accuracy: 0.7848 - val_loss: 0.5265 - val_accuracy: 0.7294 - lr: 0.0010\n",
      "Epoch 6/20\n",
      "200/200 [==============================] - 35s 177ms/step - loss: 0.3947 - accuracy: 0.8199 - val_loss: 0.5357 - val_accuracy: 0.7322 - lr: 0.0010\n",
      "Epoch 7/20\n",
      "200/200 [==============================] - 35s 177ms/step - loss: 0.3330 - accuracy: 0.8511 - val_loss: 0.6345 - val_accuracy: 0.7178 - lr: 0.0010\n",
      "Epoch 8/20\n",
      "200/200 [==============================] - 35s 177ms/step - loss: 0.2236 - accuracy: 0.9080 - val_loss: 0.6440 - val_accuracy: 0.7387 - lr: 2.0000e-04\n",
      "Epoch 9/20\n",
      "200/200 [==============================] - 35s 177ms/step - loss: 0.1572 - accuracy: 0.9375 - val_loss: 0.7248 - val_accuracy: 0.7341 - lr: 2.0000e-04\n",
      "100/100 [==============================] - 4s 36ms/step\n",
      "100/100 [==============================] - 4s 35ms/step\n"
     ]
    },
    {
     "name": "stderr",
     "output_type": "stream",
     "text": [
      "2024/10/12 05:12:09 WARNING mlflow.tensorflow: You are saving a TensorFlow Core model or Keras model without a signature. Inference with mlflow.pyfunc.spark_udf() will not work unless the model's pyfunc representation accepts pandas DataFrames as inference inputs.\n",
      "WARNING:absl:Found untraced functions such as _jit_compiled_convolution_op, _update_step_xla while saving (showing 2 of 2). These functions will not be directly callable after loading.\n"
     ]
    },
    {
     "name": "stdout",
     "output_type": "stream",
     "text": [
      "INFO:tensorflow:Assets written to: C:\\Users\\trist\\AppData\\Local\\Temp\\tmpxui4iidx\\model\\data\\model\\assets\n"
     ]
    },
    {
     "name": "stderr",
     "output_type": "stream",
     "text": [
      "INFO:tensorflow:Assets written to: C:\\Users\\trist\\AppData\\Local\\Temp\\tmpxui4iidx\\model\\data\\model\\assets\n",
      "2024/10/12 05:12:17 WARNING mlflow.models.model: Model logged without a signature and input example. Please set `input_example` parameter when logging the model to auto infer the model signature.\n"
     ]
    },
    {
     "name": "stdout",
     "output_type": "stream",
     "text": [
      "Epoch 1/20\n",
      "200/200 [==============================] - 11s 50ms/step - loss: 0.6672 - accuracy: 0.6259 - val_loss: 0.6576 - val_accuracy: 0.6209 - lr: 0.0010\n",
      "Epoch 2/20\n",
      "200/200 [==============================] - 10s 49ms/step - loss: 0.5337 - accuracy: 0.7277 - val_loss: 0.5999 - val_accuracy: 0.6544 - lr: 0.0010\n",
      "Epoch 3/20\n",
      "200/200 [==============================] - 10s 49ms/step - loss: 0.4732 - accuracy: 0.7723 - val_loss: 0.5479 - val_accuracy: 0.7169 - lr: 0.0010\n",
      "Epoch 4/20\n",
      "200/200 [==============================] - 10s 49ms/step - loss: 0.4245 - accuracy: 0.7969 - val_loss: 0.5569 - val_accuracy: 0.7259 - lr: 0.0010\n",
      "Epoch 5/20\n",
      "200/200 [==============================] - 10s 49ms/step - loss: 0.3667 - accuracy: 0.8329 - val_loss: 0.5729 - val_accuracy: 0.7281 - lr: 0.0010\n",
      "Epoch 6/20\n",
      "200/200 [==============================] - 10s 49ms/step - loss: 0.2606 - accuracy: 0.8900 - val_loss: 0.7100 - val_accuracy: 0.7250 - lr: 2.0000e-04\n",
      "Epoch 7/20\n",
      "200/200 [==============================] - 10s 49ms/step - loss: 0.1999 - accuracy: 0.9184 - val_loss: 0.7994 - val_accuracy: 0.7278 - lr: 2.0000e-04\n",
      "100/100 [==============================] - 1s 9ms/step\n",
      "100/100 [==============================] - 1s 9ms/step\n"
     ]
    },
    {
     "name": "stderr",
     "output_type": "stream",
     "text": [
      "2024/10/12 05:13:30 WARNING mlflow.tensorflow: You are saving a TensorFlow Core model or Keras model without a signature. Inference with mlflow.pyfunc.spark_udf() will not work unless the model's pyfunc representation accepts pandas DataFrames as inference inputs.\n",
      "WARNING:absl:Found untraced functions such as _jit_compiled_convolution_op, _update_step_xla while saving (showing 2 of 2). These functions will not be directly callable after loading.\n"
     ]
    },
    {
     "name": "stdout",
     "output_type": "stream",
     "text": [
      "INFO:tensorflow:Assets written to: C:\\Users\\trist\\AppData\\Local\\Temp\\tmpj0frd4o9\\model\\data\\model\\assets\n"
     ]
    },
    {
     "name": "stderr",
     "output_type": "stream",
     "text": [
      "INFO:tensorflow:Assets written to: C:\\Users\\trist\\AppData\\Local\\Temp\\tmpj0frd4o9\\model\\data\\model\\assets\n",
      "2024/10/12 05:13:37 WARNING mlflow.models.model: Model logged without a signature and input example. Please set `input_example` parameter when logging the model to auto infer the model signature.\n"
     ]
    },
    {
     "name": "stdout",
     "output_type": "stream",
     "text": [
      "Epoch 1/20\n",
      "200/200 [==============================] - 16s 75ms/step - loss: 0.6816 - accuracy: 0.6262 - val_loss: 0.6645 - val_accuracy: 0.6541 - lr: 0.0010\n",
      "Epoch 2/20\n",
      "200/200 [==============================] - 15s 74ms/step - loss: 0.5329 - accuracy: 0.7324 - val_loss: 0.5968 - val_accuracy: 0.7278 - lr: 0.0010\n",
      "Epoch 3/20\n",
      "200/200 [==============================] - 15s 74ms/step - loss: 0.4667 - accuracy: 0.7779 - val_loss: 0.5432 - val_accuracy: 0.7159 - lr: 0.0010\n",
      "Epoch 4/20\n",
      "200/200 [==============================] - 15s 74ms/step - loss: 0.4110 - accuracy: 0.8109 - val_loss: 0.5284 - val_accuracy: 0.7406 - lr: 0.0010\n",
      "Epoch 5/20\n",
      "200/200 [==============================] - 15s 74ms/step - loss: 0.3429 - accuracy: 0.8477 - val_loss: 0.6850 - val_accuracy: 0.7075 - lr: 0.0010\n",
      "Epoch 6/20\n",
      "200/200 [==============================] - 15s 74ms/step - loss: 0.2934 - accuracy: 0.8745 - val_loss: 0.6545 - val_accuracy: 0.7259 - lr: 0.0010\n",
      "Epoch 7/20\n",
      "200/200 [==============================] - 15s 74ms/step - loss: 0.1601 - accuracy: 0.9373 - val_loss: 0.8939 - val_accuracy: 0.7212 - lr: 2.0000e-04\n",
      "Epoch 8/20\n",
      "200/200 [==============================] - 15s 74ms/step - loss: 0.1049 - accuracy: 0.9576 - val_loss: 0.9830 - val_accuracy: 0.7234 - lr: 2.0000e-04\n",
      "100/100 [==============================] - 1s 13ms/step\n",
      "100/100 [==============================] - 1s 13ms/step\n"
     ]
    },
    {
     "name": "stderr",
     "output_type": "stream",
     "text": [
      "2024/10/12 05:15:40 WARNING mlflow.tensorflow: You are saving a TensorFlow Core model or Keras model without a signature. Inference with mlflow.pyfunc.spark_udf() will not work unless the model's pyfunc representation accepts pandas DataFrames as inference inputs.\n",
      "WARNING:absl:Found untraced functions such as _jit_compiled_convolution_op, _update_step_xla while saving (showing 2 of 2). These functions will not be directly callable after loading.\n"
     ]
    },
    {
     "name": "stdout",
     "output_type": "stream",
     "text": [
      "INFO:tensorflow:Assets written to: C:\\Users\\trist\\AppData\\Local\\Temp\\tmp9rvhe9pq\\model\\data\\model\\assets\n"
     ]
    },
    {
     "name": "stderr",
     "output_type": "stream",
     "text": [
      "INFO:tensorflow:Assets written to: C:\\Users\\trist\\AppData\\Local\\Temp\\tmp9rvhe9pq\\model\\data\\model\\assets\n",
      "2024/10/12 05:15:47 WARNING mlflow.models.model: Model logged without a signature and input example. Please set `input_example` parameter when logging the model to auto infer the model signature.\n"
     ]
    },
    {
     "name": "stdout",
     "output_type": "stream",
     "text": [
      "Epoch 1/20\n",
      "200/200 [==============================] - 27s 129ms/step - loss: 0.6631 - accuracy: 0.6378 - val_loss: 0.6528 - val_accuracy: 0.7197 - lr: 0.0010\n",
      "Epoch 2/20\n",
      "200/200 [==============================] - 25s 128ms/step - loss: 0.5217 - accuracy: 0.7434 - val_loss: 0.6077 - val_accuracy: 0.7178 - lr: 0.0010\n",
      "Epoch 3/20\n",
      "200/200 [==============================] - 26s 128ms/step - loss: 0.4587 - accuracy: 0.7834 - val_loss: 0.5262 - val_accuracy: 0.7409 - lr: 0.0010\n",
      "Epoch 4/20\n",
      "200/200 [==============================] - 26s 128ms/step - loss: 0.3791 - accuracy: 0.8308 - val_loss: 0.5878 - val_accuracy: 0.7100 - lr: 0.0010\n",
      "Epoch 5/20\n",
      "200/200 [==============================] - 26s 128ms/step - loss: 0.3066 - accuracy: 0.8690 - val_loss: 0.6900 - val_accuracy: 0.7309 - lr: 0.0010\n",
      "Epoch 6/20\n",
      "200/200 [==============================] - 26s 128ms/step - loss: 0.1481 - accuracy: 0.9440 - val_loss: 0.8639 - val_accuracy: 0.7312 - lr: 2.0000e-04\n",
      "Epoch 7/20\n",
      "200/200 [==============================] - 26s 128ms/step - loss: 0.0913 - accuracy: 0.9666 - val_loss: 1.0457 - val_accuracy: 0.7316 - lr: 2.0000e-04\n",
      "100/100 [==============================] - 2s 23ms/step\n",
      "100/100 [==============================] - 2s 24ms/step\n"
     ]
    },
    {
     "name": "stderr",
     "output_type": "stream",
     "text": [
      "2024/10/12 05:18:53 WARNING mlflow.tensorflow: You are saving a TensorFlow Core model or Keras model without a signature. Inference with mlflow.pyfunc.spark_udf() will not work unless the model's pyfunc representation accepts pandas DataFrames as inference inputs.\n",
      "WARNING:absl:Found untraced functions such as _jit_compiled_convolution_op, _update_step_xla while saving (showing 2 of 2). These functions will not be directly callable after loading.\n"
     ]
    },
    {
     "name": "stdout",
     "output_type": "stream",
     "text": [
      "INFO:tensorflow:Assets written to: C:\\Users\\trist\\AppData\\Local\\Temp\\tmpuf13r83v\\model\\data\\model\\assets\n"
     ]
    },
    {
     "name": "stderr",
     "output_type": "stream",
     "text": [
      "INFO:tensorflow:Assets written to: C:\\Users\\trist\\AppData\\Local\\Temp\\tmpuf13r83v\\model\\data\\model\\assets\n",
      "2024/10/12 05:19:01 WARNING mlflow.models.model: Model logged without a signature and input example. Please set `input_example` parameter when logging the model to auto infer the model signature.\n"
     ]
    },
    {
     "name": "stdout",
     "output_type": "stream",
     "text": [
      "Epoch 1/20\n",
      "200/200 [==============================] - 14s 66ms/step - loss: 0.6700 - accuracy: 0.6296 - val_loss: 0.6611 - val_accuracy: 0.7075 - lr: 0.0010\n",
      "Epoch 2/20\n",
      "200/200 [==============================] - 13s 65ms/step - loss: 0.5353 - accuracy: 0.7327 - val_loss: 0.5848 - val_accuracy: 0.7269 - lr: 0.0010\n",
      "Epoch 3/20\n",
      "200/200 [==============================] - 13s 65ms/step - loss: 0.4651 - accuracy: 0.7783 - val_loss: 0.5301 - val_accuracy: 0.7391 - lr: 0.0010\n",
      "Epoch 4/20\n",
      "200/200 [==============================] - 13s 65ms/step - loss: 0.3918 - accuracy: 0.8239 - val_loss: 0.5623 - val_accuracy: 0.7297 - lr: 0.0010\n",
      "Epoch 5/20\n",
      "200/200 [==============================] - 13s 65ms/step - loss: 0.3125 - accuracy: 0.8643 - val_loss: 0.6850 - val_accuracy: 0.7034 - lr: 0.0010\n",
      "Epoch 6/20\n",
      "200/200 [==============================] - 13s 65ms/step - loss: 0.1773 - accuracy: 0.9342 - val_loss: 0.9007 - val_accuracy: 0.7088 - lr: 2.0000e-04\n",
      "Epoch 7/20\n",
      "200/200 [==============================] - 13s 65ms/step - loss: 0.1117 - accuracy: 0.9591 - val_loss: 1.0449 - val_accuracy: 0.7169 - lr: 2.0000e-04\n",
      "100/100 [==============================] - 1s 13ms/step\n",
      "100/100 [==============================] - 1s 14ms/step\n"
     ]
    },
    {
     "name": "stderr",
     "output_type": "stream",
     "text": [
      "2024/10/12 05:20:37 WARNING mlflow.tensorflow: You are saving a TensorFlow Core model or Keras model without a signature. Inference with mlflow.pyfunc.spark_udf() will not work unless the model's pyfunc representation accepts pandas DataFrames as inference inputs.\n",
      "WARNING:absl:Found untraced functions such as _jit_compiled_convolution_op, _update_step_xla while saving (showing 2 of 2). These functions will not be directly callable after loading.\n"
     ]
    },
    {
     "name": "stdout",
     "output_type": "stream",
     "text": [
      "INFO:tensorflow:Assets written to: C:\\Users\\trist\\AppData\\Local\\Temp\\tmpz7ccp8kn\\model\\data\\model\\assets\n"
     ]
    },
    {
     "name": "stderr",
     "output_type": "stream",
     "text": [
      "INFO:tensorflow:Assets written to: C:\\Users\\trist\\AppData\\Local\\Temp\\tmpz7ccp8kn\\model\\data\\model\\assets\n",
      "2024/10/12 05:20:44 WARNING mlflow.models.model: Model logged without a signature and input example. Please set `input_example` parameter when logging the model to auto infer the model signature.\n"
     ]
    },
    {
     "name": "stdout",
     "output_type": "stream",
     "text": [
      "Epoch 1/20\n",
      "200/200 [==============================] - 19s 90ms/step - loss: 0.6886 - accuracy: 0.6291 - val_loss: 0.6577 - val_accuracy: 0.7109 - lr: 0.0010\n",
      "Epoch 2/20\n",
      "200/200 [==============================] - 18s 89ms/step - loss: 0.5206 - accuracy: 0.7367 - val_loss: 0.6056 - val_accuracy: 0.7291 - lr: 0.0010\n",
      "Epoch 3/20\n",
      "200/200 [==============================] - 18s 89ms/step - loss: 0.4411 - accuracy: 0.7914 - val_loss: 0.5193 - val_accuracy: 0.7400 - lr: 0.0010\n",
      "Epoch 4/20\n",
      "200/200 [==============================] - 18s 89ms/step - loss: 0.3560 - accuracy: 0.8440 - val_loss: 0.5761 - val_accuracy: 0.7341 - lr: 0.0010\n",
      "Epoch 5/20\n",
      "200/200 [==============================] - 18s 89ms/step - loss: 0.2699 - accuracy: 0.8892 - val_loss: 0.7194 - val_accuracy: 0.7150 - lr: 0.0010\n",
      "Epoch 6/20\n",
      "200/200 [==============================] - 18s 89ms/step - loss: 0.1465 - accuracy: 0.9426 - val_loss: 0.8901 - val_accuracy: 0.7244 - lr: 2.0000e-04\n",
      "Epoch 7/20\n",
      "200/200 [==============================] - 18s 89ms/step - loss: 0.0838 - accuracy: 0.9695 - val_loss: 1.0712 - val_accuracy: 0.7203 - lr: 2.0000e-04\n",
      "100/100 [==============================] - 2s 18ms/step\n",
      "100/100 [==============================] - 2s 19ms/step\n"
     ]
    },
    {
     "name": "stderr",
     "output_type": "stream",
     "text": [
      "2024/10/12 05:22:54 WARNING mlflow.tensorflow: You are saving a TensorFlow Core model or Keras model without a signature. Inference with mlflow.pyfunc.spark_udf() will not work unless the model's pyfunc representation accepts pandas DataFrames as inference inputs.\n",
      "WARNING:absl:Found untraced functions such as _jit_compiled_convolution_op, _update_step_xla while saving (showing 2 of 2). These functions will not be directly callable after loading.\n"
     ]
    },
    {
     "name": "stdout",
     "output_type": "stream",
     "text": [
      "INFO:tensorflow:Assets written to: C:\\Users\\trist\\AppData\\Local\\Temp\\tmpol2v1s8_\\model\\data\\model\\assets\n"
     ]
    },
    {
     "name": "stderr",
     "output_type": "stream",
     "text": [
      "INFO:tensorflow:Assets written to: C:\\Users\\trist\\AppData\\Local\\Temp\\tmpol2v1s8_\\model\\data\\model\\assets\n",
      "2024/10/12 05:23:02 WARNING mlflow.models.model: Model logged without a signature and input example. Please set `input_example` parameter when logging the model to auto infer the model signature.\n"
     ]
    },
    {
     "name": "stdout",
     "output_type": "stream",
     "text": [
      "Epoch 1/20\n",
      "200/200 [==============================] - 35s 170ms/step - loss: 0.6528 - accuracy: 0.6466 - val_loss: 0.6541 - val_accuracy: 0.7231 - lr: 0.0010\n",
      "Epoch 2/20\n",
      "200/200 [==============================] - 34s 168ms/step - loss: 0.5142 - accuracy: 0.7473 - val_loss: 0.5936 - val_accuracy: 0.6888 - lr: 0.0010\n",
      "Epoch 3/20\n",
      "200/200 [==============================] - 34s 168ms/step - loss: 0.4226 - accuracy: 0.8022 - val_loss: 0.5425 - val_accuracy: 0.7250 - lr: 0.0010\n",
      "Epoch 4/20\n",
      "200/200 [==============================] - 34s 168ms/step - loss: 0.3214 - accuracy: 0.8611 - val_loss: 0.6231 - val_accuracy: 0.7203 - lr: 0.0010\n",
      "Epoch 5/20\n",
      "200/200 [==============================] - 34s 168ms/step - loss: 0.2388 - accuracy: 0.9016 - val_loss: 0.8130 - val_accuracy: 0.7141 - lr: 0.0010\n",
      "Epoch 6/20\n",
      "200/200 [==============================] - 34s 168ms/step - loss: 0.1044 - accuracy: 0.9600 - val_loss: 1.0347 - val_accuracy: 0.7181 - lr: 2.0000e-04\n",
      "Epoch 7/20\n",
      "200/200 [==============================] - 34s 169ms/step - loss: 0.0511 - accuracy: 0.9820 - val_loss: 1.1746 - val_accuracy: 0.7191 - lr: 2.0000e-04\n",
      "100/100 [==============================] - 3s 34ms/step\n",
      "100/100 [==============================] - 3s 34ms/step\n"
     ]
    },
    {
     "name": "stderr",
     "output_type": "stream",
     "text": [
      "2024/10/12 05:27:07 WARNING mlflow.tensorflow: You are saving a TensorFlow Core model or Keras model without a signature. Inference with mlflow.pyfunc.spark_udf() will not work unless the model's pyfunc representation accepts pandas DataFrames as inference inputs.\n",
      "WARNING:absl:Found untraced functions such as _jit_compiled_convolution_op, _update_step_xla while saving (showing 2 of 2). These functions will not be directly callable after loading.\n"
     ]
    },
    {
     "name": "stdout",
     "output_type": "stream",
     "text": [
      "INFO:tensorflow:Assets written to: C:\\Users\\trist\\AppData\\Local\\Temp\\tmp4qq4isrd\\model\\data\\model\\assets\n"
     ]
    },
    {
     "name": "stderr",
     "output_type": "stream",
     "text": [
      "INFO:tensorflow:Assets written to: C:\\Users\\trist\\AppData\\Local\\Temp\\tmp4qq4isrd\\model\\data\\model\\assets\n",
      "2024/10/12 05:27:14 WARNING mlflow.models.model: Model logged without a signature and input example. Please set `input_example` parameter when logging the model to auto infer the model signature.\n"
     ]
    },
    {
     "name": "stdout",
     "output_type": "stream",
     "text": [
      "Epoch 1/20\n",
      "200/200 [==============================] - 10s 46ms/step - loss: 0.7771 - accuracy: 0.5645 - val_loss: 0.6809 - val_accuracy: 0.5759 - lr: 0.0010\n",
      "Epoch 2/20\n",
      "200/200 [==============================] - 9s 45ms/step - loss: 0.5974 - accuracy: 0.6751 - val_loss: 0.6185 - val_accuracy: 0.6825 - lr: 0.0010\n",
      "Epoch 3/20\n",
      "200/200 [==============================] - 9s 45ms/step - loss: 0.5386 - accuracy: 0.7327 - val_loss: 0.5476 - val_accuracy: 0.7394 - lr: 0.0010\n",
      "Epoch 4/20\n",
      "200/200 [==============================] - 9s 45ms/step - loss: 0.4973 - accuracy: 0.7620 - val_loss: 0.5215 - val_accuracy: 0.7391 - lr: 0.0010\n",
      "Epoch 5/20\n",
      "200/200 [==============================] - 9s 45ms/step - loss: 0.4577 - accuracy: 0.7842 - val_loss: 0.5259 - val_accuracy: 0.7444 - lr: 0.0010\n",
      "Epoch 6/20\n",
      "200/200 [==============================] - 9s 45ms/step - loss: 0.4221 - accuracy: 0.8095 - val_loss: 0.5426 - val_accuracy: 0.7278 - lr: 0.0010\n",
      "Epoch 7/20\n",
      "200/200 [==============================] - 9s 45ms/step - loss: 0.3470 - accuracy: 0.8468 - val_loss: 0.5710 - val_accuracy: 0.7391 - lr: 2.0000e-04\n",
      "Epoch 8/20\n",
      "200/200 [==============================] - 9s 45ms/step - loss: 0.2992 - accuracy: 0.8709 - val_loss: 0.6205 - val_accuracy: 0.7381 - lr: 2.0000e-04\n",
      "100/100 [==============================] - 1s 9ms/step\n",
      "100/100 [==============================] - 1s 9ms/step\n"
     ]
    },
    {
     "name": "stderr",
     "output_type": "stream",
     "text": [
      "2024/10/12 05:28:29 WARNING mlflow.tensorflow: You are saving a TensorFlow Core model or Keras model without a signature. Inference with mlflow.pyfunc.spark_udf() will not work unless the model's pyfunc representation accepts pandas DataFrames as inference inputs.\n",
      "WARNING:absl:Found untraced functions such as _jit_compiled_convolution_op, _update_step_xla while saving (showing 2 of 2). These functions will not be directly callable after loading.\n"
     ]
    },
    {
     "name": "stdout",
     "output_type": "stream",
     "text": [
      "INFO:tensorflow:Assets written to: C:\\Users\\trist\\AppData\\Local\\Temp\\tmppx0vsolf\\model\\data\\model\\assets\n"
     ]
    },
    {
     "name": "stderr",
     "output_type": "stream",
     "text": [
      "INFO:tensorflow:Assets written to: C:\\Users\\trist\\AppData\\Local\\Temp\\tmppx0vsolf\\model\\data\\model\\assets\n",
      "2024/10/12 05:28:38 WARNING mlflow.models.model: Model logged without a signature and input example. Please set `input_example` parameter when logging the model to auto infer the model signature.\n"
     ]
    },
    {
     "name": "stdout",
     "output_type": "stream",
     "text": [
      "Epoch 1/20\n",
      "200/200 [==============================] - 15s 70ms/step - loss: 0.7914 - accuracy: 0.5565 - val_loss: 0.6762 - val_accuracy: 0.6606 - lr: 0.0010\n",
      "Epoch 2/20\n",
      "200/200 [==============================] - 14s 68ms/step - loss: 0.6125 - accuracy: 0.6638 - val_loss: 0.6260 - val_accuracy: 0.6891 - lr: 0.0010\n",
      "Epoch 3/20\n",
      "200/200 [==============================] - 14s 69ms/step - loss: 0.5531 - accuracy: 0.7241 - val_loss: 0.5408 - val_accuracy: 0.7212 - lr: 0.0010\n",
      "Epoch 4/20\n",
      "200/200 [==============================] - 14s 69ms/step - loss: 0.5043 - accuracy: 0.7502 - val_loss: 0.5168 - val_accuracy: 0.7456 - lr: 0.0010\n",
      "Epoch 5/20\n",
      "200/200 [==============================] - 14s 68ms/step - loss: 0.4655 - accuracy: 0.7754 - val_loss: 0.5212 - val_accuracy: 0.7319 - lr: 0.0010\n",
      "Epoch 6/20\n",
      "200/200 [==============================] - 14s 69ms/step - loss: 0.4275 - accuracy: 0.8048 - val_loss: 0.5234 - val_accuracy: 0.7303 - lr: 0.0010\n",
      "Epoch 7/20\n",
      "200/200 [==============================] - 14s 69ms/step - loss: 0.3287 - accuracy: 0.8591 - val_loss: 0.6023 - val_accuracy: 0.7381 - lr: 2.0000e-04\n",
      "Epoch 8/20\n",
      "200/200 [==============================] - 14s 68ms/step - loss: 0.2783 - accuracy: 0.8819 - val_loss: 0.6364 - val_accuracy: 0.7337 - lr: 2.0000e-04\n",
      "100/100 [==============================] - 1s 12ms/step\n",
      "100/100 [==============================] - 1s 12ms/step\n"
     ]
    },
    {
     "name": "stderr",
     "output_type": "stream",
     "text": [
      "2024/10/12 05:30:32 WARNING mlflow.tensorflow: You are saving a TensorFlow Core model or Keras model without a signature. Inference with mlflow.pyfunc.spark_udf() will not work unless the model's pyfunc representation accepts pandas DataFrames as inference inputs.\n",
      "WARNING:absl:Found untraced functions such as _jit_compiled_convolution_op, _update_step_xla while saving (showing 2 of 2). These functions will not be directly callable after loading.\n"
     ]
    },
    {
     "name": "stdout",
     "output_type": "stream",
     "text": [
      "INFO:tensorflow:Assets written to: C:\\Users\\trist\\AppData\\Local\\Temp\\tmp4twcks4u\\model\\data\\model\\assets\n"
     ]
    },
    {
     "name": "stderr",
     "output_type": "stream",
     "text": [
      "INFO:tensorflow:Assets written to: C:\\Users\\trist\\AppData\\Local\\Temp\\tmp4twcks4u\\model\\data\\model\\assets\n",
      "2024/10/12 05:30:39 WARNING mlflow.models.model: Model logged without a signature and input example. Please set `input_example` parameter when logging the model to auto infer the model signature.\n"
     ]
    },
    {
     "name": "stdout",
     "output_type": "stream",
     "text": [
      "Epoch 1/20\n",
      "200/200 [==============================] - 26s 124ms/step - loss: 0.7846 - accuracy: 0.5663 - val_loss: 0.6854 - val_accuracy: 0.5831 - lr: 0.0010\n",
      "Epoch 2/20\n",
      "200/200 [==============================] - 24s 122ms/step - loss: 0.6073 - accuracy: 0.6698 - val_loss: 0.6364 - val_accuracy: 0.7147 - lr: 0.0010\n",
      "Epoch 3/20\n",
      "200/200 [==============================] - 25s 123ms/step - loss: 0.5532 - accuracy: 0.7209 - val_loss: 0.5542 - val_accuracy: 0.7350 - lr: 0.0010\n",
      "Epoch 4/20\n",
      "200/200 [==============================] - 24s 122ms/step - loss: 0.4977 - accuracy: 0.7608 - val_loss: 0.5277 - val_accuracy: 0.7441 - lr: 0.0010\n",
      "Epoch 5/20\n",
      "200/200 [==============================] - 25s 123ms/step - loss: 0.4539 - accuracy: 0.7892 - val_loss: 0.5177 - val_accuracy: 0.7409 - lr: 0.0010\n",
      "Epoch 6/20\n",
      "200/200 [==============================] - 24s 122ms/step - loss: 0.4033 - accuracy: 0.8181 - val_loss: 0.5470 - val_accuracy: 0.7519 - lr: 0.0010\n",
      "Epoch 7/20\n",
      "200/200 [==============================] - 25s 123ms/step - loss: 0.3489 - accuracy: 0.8500 - val_loss: 0.5453 - val_accuracy: 0.7387 - lr: 0.0010\n",
      "Epoch 8/20\n",
      "200/200 [==============================] - 25s 123ms/step - loss: 0.2274 - accuracy: 0.9084 - val_loss: 0.6951 - val_accuracy: 0.7431 - lr: 2.0000e-04\n",
      "Epoch 9/20\n",
      "200/200 [==============================] - 24s 122ms/step - loss: 0.1593 - accuracy: 0.9367 - val_loss: 0.8588 - val_accuracy: 0.7334 - lr: 2.0000e-04\n",
      "100/100 [==============================] - 2s 23ms/step\n",
      "100/100 [==============================] - 2s 23ms/step\n"
     ]
    },
    {
     "name": "stderr",
     "output_type": "stream",
     "text": [
      "2024/10/12 05:34:27 WARNING mlflow.tensorflow: You are saving a TensorFlow Core model or Keras model without a signature. Inference with mlflow.pyfunc.spark_udf() will not work unless the model's pyfunc representation accepts pandas DataFrames as inference inputs.\n",
      "WARNING:absl:Found untraced functions such as _jit_compiled_convolution_op, _update_step_xla while saving (showing 2 of 2). These functions will not be directly callable after loading.\n"
     ]
    },
    {
     "name": "stdout",
     "output_type": "stream",
     "text": [
      "INFO:tensorflow:Assets written to: C:\\Users\\trist\\AppData\\Local\\Temp\\tmpxbj3nnns\\model\\data\\model\\assets\n"
     ]
    },
    {
     "name": "stderr",
     "output_type": "stream",
     "text": [
      "INFO:tensorflow:Assets written to: C:\\Users\\trist\\AppData\\Local\\Temp\\tmpxbj3nnns\\model\\data\\model\\assets\n",
      "2024/10/12 05:34:34 WARNING mlflow.models.model: Model logged without a signature and input example. Please set `input_example` parameter when logging the model to auto infer the model signature.\n"
     ]
    },
    {
     "name": "stdout",
     "output_type": "stream",
     "text": [
      "Epoch 1/20\n",
      "200/200 [==============================] - 13s 61ms/step - loss: 0.8049 - accuracy: 0.5517 - val_loss: 0.6840 - val_accuracy: 0.6488 - lr: 0.0010\n",
      "Epoch 2/20\n",
      "200/200 [==============================] - 12s 60ms/step - loss: 0.6202 - accuracy: 0.6566 - val_loss: 0.6165 - val_accuracy: 0.7113 - lr: 0.0010\n",
      "Epoch 3/20\n",
      "200/200 [==============================] - 12s 60ms/step - loss: 0.5465 - accuracy: 0.7287 - val_loss: 0.5555 - val_accuracy: 0.7281 - lr: 0.0010\n",
      "Epoch 4/20\n",
      "200/200 [==============================] - 12s 60ms/step - loss: 0.4912 - accuracy: 0.7652 - val_loss: 0.5292 - val_accuracy: 0.7297 - lr: 0.0010\n",
      "Epoch 5/20\n",
      "200/200 [==============================] - 12s 60ms/step - loss: 0.4433 - accuracy: 0.7954 - val_loss: 0.5418 - val_accuracy: 0.7206 - lr: 0.0010\n",
      "Epoch 6/20\n",
      "200/200 [==============================] - 12s 60ms/step - loss: 0.3836 - accuracy: 0.8320 - val_loss: 0.6079 - val_accuracy: 0.7228 - lr: 0.0010\n",
      "Epoch 7/20\n",
      "200/200 [==============================] - 12s 60ms/step - loss: 0.2686 - accuracy: 0.8934 - val_loss: 0.7306 - val_accuracy: 0.7153 - lr: 2.0000e-04\n",
      "Epoch 8/20\n",
      "200/200 [==============================] - 12s 60ms/step - loss: 0.2031 - accuracy: 0.9216 - val_loss: 0.8080 - val_accuracy: 0.7200 - lr: 2.0000e-04\n",
      "100/100 [==============================] - 1s 12ms/step\n",
      "100/100 [==============================] - 1s 12ms/step\n"
     ]
    },
    {
     "name": "stderr",
     "output_type": "stream",
     "text": [
      "2024/10/12 05:36:14 WARNING mlflow.tensorflow: You are saving a TensorFlow Core model or Keras model without a signature. Inference with mlflow.pyfunc.spark_udf() will not work unless the model's pyfunc representation accepts pandas DataFrames as inference inputs.\n",
      "WARNING:absl:Found untraced functions such as _jit_compiled_convolution_op, _update_step_xla while saving (showing 2 of 2). These functions will not be directly callable after loading.\n"
     ]
    },
    {
     "name": "stdout",
     "output_type": "stream",
     "text": [
      "INFO:tensorflow:Assets written to: C:\\Users\\trist\\AppData\\Local\\Temp\\tmp45imqbe7\\model\\data\\model\\assets\n"
     ]
    },
    {
     "name": "stderr",
     "output_type": "stream",
     "text": [
      "INFO:tensorflow:Assets written to: C:\\Users\\trist\\AppData\\Local\\Temp\\tmp45imqbe7\\model\\data\\model\\assets\n",
      "2024/10/12 05:36:22 WARNING mlflow.models.model: Model logged without a signature and input example. Please set `input_example` parameter when logging the model to auto infer the model signature.\n"
     ]
    },
    {
     "name": "stdout",
     "output_type": "stream",
     "text": [
      "Epoch 1/20\n",
      "200/200 [==============================] - 19s 88ms/step - loss: 0.7995 - accuracy: 0.5676 - val_loss: 0.6846 - val_accuracy: 0.6684 - lr: 0.0010\n",
      "Epoch 2/20\n",
      "200/200 [==============================] - 17s 87ms/step - loss: 0.6005 - accuracy: 0.6754 - val_loss: 0.6316 - val_accuracy: 0.7291 - lr: 0.0010\n",
      "Epoch 3/20\n",
      "200/200 [==============================] - 17s 87ms/step - loss: 0.5385 - accuracy: 0.7358 - val_loss: 0.5662 - val_accuracy: 0.6978 - lr: 0.0010\n",
      "Epoch 4/20\n",
      "200/200 [==============================] - 17s 87ms/step - loss: 0.4821 - accuracy: 0.7738 - val_loss: 0.5249 - val_accuracy: 0.7378 - lr: 0.0010\n",
      "Epoch 5/20\n",
      "200/200 [==============================] - 17s 87ms/step - loss: 0.4366 - accuracy: 0.8036 - val_loss: 0.5180 - val_accuracy: 0.7447 - lr: 0.0010\n",
      "Epoch 6/20\n",
      "200/200 [==============================] - 17s 87ms/step - loss: 0.3605 - accuracy: 0.8412 - val_loss: 0.5944 - val_accuracy: 0.7269 - lr: 0.0010\n",
      "Epoch 7/20\n",
      "200/200 [==============================] - 17s 87ms/step - loss: 0.3079 - accuracy: 0.8708 - val_loss: 0.6259 - val_accuracy: 0.7253 - lr: 0.0010\n",
      "Epoch 8/20\n",
      "200/200 [==============================] - 17s 87ms/step - loss: 0.1881 - accuracy: 0.9269 - val_loss: 0.7908 - val_accuracy: 0.7403 - lr: 2.0000e-04\n",
      "Epoch 9/20\n",
      "200/200 [==============================] - 17s 87ms/step - loss: 0.1273 - accuracy: 0.9527 - val_loss: 0.9423 - val_accuracy: 0.7341 - lr: 2.0000e-04\n",
      "100/100 [==============================] - 2s 18ms/step\n",
      "100/100 [==============================] - 2s 18ms/step\n"
     ]
    },
    {
     "name": "stderr",
     "output_type": "stream",
     "text": [
      "2024/10/12 05:39:04 WARNING mlflow.tensorflow: You are saving a TensorFlow Core model or Keras model without a signature. Inference with mlflow.pyfunc.spark_udf() will not work unless the model's pyfunc representation accepts pandas DataFrames as inference inputs.\n",
      "WARNING:absl:Found untraced functions such as _jit_compiled_convolution_op, _update_step_xla while saving (showing 2 of 2). These functions will not be directly callable after loading.\n"
     ]
    },
    {
     "name": "stdout",
     "output_type": "stream",
     "text": [
      "INFO:tensorflow:Assets written to: C:\\Users\\trist\\AppData\\Local\\Temp\\tmptw9eccau\\model\\data\\model\\assets\n"
     ]
    },
    {
     "name": "stderr",
     "output_type": "stream",
     "text": [
      "INFO:tensorflow:Assets written to: C:\\Users\\trist\\AppData\\Local\\Temp\\tmptw9eccau\\model\\data\\model\\assets\n",
      "2024/10/12 05:39:11 WARNING mlflow.models.model: Model logged without a signature and input example. Please set `input_example` parameter when logging the model to auto infer the model signature.\n"
     ]
    },
    {
     "name": "stdout",
     "output_type": "stream",
     "text": [
      "Epoch 1/20\n",
      "200/200 [==============================] - 33s 161ms/step - loss: 0.7653 - accuracy: 0.5811 - val_loss: 0.6831 - val_accuracy: 0.6666 - lr: 0.0010\n",
      "Epoch 2/20\n",
      "200/200 [==============================] - 32s 159ms/step - loss: 0.5994 - accuracy: 0.6863 - val_loss: 0.6393 - val_accuracy: 0.7103 - lr: 0.0010\n",
      "Epoch 3/20\n",
      "200/200 [==============================] - 32s 160ms/step - loss: 0.5271 - accuracy: 0.7395 - val_loss: 0.5378 - val_accuracy: 0.7312 - lr: 0.0010\n",
      "Epoch 4/20\n",
      "200/200 [==============================] - 32s 159ms/step - loss: 0.4698 - accuracy: 0.7826 - val_loss: 0.5261 - val_accuracy: 0.7394 - lr: 0.0010\n",
      "Epoch 5/20\n",
      "200/200 [==============================] - 32s 159ms/step - loss: 0.4047 - accuracy: 0.8229 - val_loss: 0.5438 - val_accuracy: 0.7297 - lr: 0.0010\n",
      "Epoch 6/20\n",
      "200/200 [==============================] - 32s 159ms/step - loss: 0.3269 - accuracy: 0.8597 - val_loss: 0.5978 - val_accuracy: 0.7250 - lr: 0.0010\n",
      "Epoch 7/20\n",
      "200/200 [==============================] - 32s 159ms/step - loss: 0.1951 - accuracy: 0.9258 - val_loss: 0.7227 - val_accuracy: 0.7372 - lr: 2.0000e-04\n",
      "Epoch 8/20\n",
      "200/200 [==============================] - 32s 159ms/step - loss: 0.1322 - accuracy: 0.9509 - val_loss: 0.9394 - val_accuracy: 0.7328 - lr: 2.0000e-04\n",
      "100/100 [==============================] - 3s 32ms/step\n",
      "100/100 [==============================] - 3s 33ms/step\n"
     ]
    },
    {
     "name": "stderr",
     "output_type": "stream",
     "text": [
      "2024/10/12 05:43:35 WARNING mlflow.tensorflow: You are saving a TensorFlow Core model or Keras model without a signature. Inference with mlflow.pyfunc.spark_udf() will not work unless the model's pyfunc representation accepts pandas DataFrames as inference inputs.\n",
      "WARNING:absl:Found untraced functions such as _jit_compiled_convolution_op, _update_step_xla while saving (showing 2 of 2). These functions will not be directly callable after loading.\n"
     ]
    },
    {
     "name": "stdout",
     "output_type": "stream",
     "text": [
      "INFO:tensorflow:Assets written to: C:\\Users\\trist\\AppData\\Local\\Temp\\tmpjy1v7luw\\model\\data\\model\\assets\n"
     ]
    },
    {
     "name": "stderr",
     "output_type": "stream",
     "text": [
      "INFO:tensorflow:Assets written to: C:\\Users\\trist\\AppData\\Local\\Temp\\tmpjy1v7luw\\model\\data\\model\\assets\n",
      "2024/10/12 05:43:43 WARNING mlflow.models.model: Model logged without a signature and input example. Please set `input_example` parameter when logging the model to auto infer the model signature.\n"
     ]
    },
    {
     "name": "stdout",
     "output_type": "stream",
     "text": [
      "Epoch 1/20\n",
      "200/200 [==============================] - 10s 45ms/step - loss: 0.6751 - accuracy: 0.6315 - val_loss: 0.6580 - val_accuracy: 0.7075 - lr: 0.0010\n",
      "Epoch 2/20\n",
      "200/200 [==============================] - 9s 44ms/step - loss: 0.5322 - accuracy: 0.7312 - val_loss: 0.5922 - val_accuracy: 0.7434 - lr: 0.0010\n",
      "Epoch 3/20\n",
      "200/200 [==============================] - 9s 44ms/step - loss: 0.4771 - accuracy: 0.7672 - val_loss: 0.5491 - val_accuracy: 0.7163 - lr: 0.0010\n",
      "Epoch 4/20\n",
      "200/200 [==============================] - 9s 44ms/step - loss: 0.4314 - accuracy: 0.7949 - val_loss: 0.6619 - val_accuracy: 0.6791 - lr: 0.0010\n",
      "Epoch 5/20\n",
      "200/200 [==============================] - 9s 44ms/step - loss: 0.3773 - accuracy: 0.8262 - val_loss: 0.5726 - val_accuracy: 0.7384 - lr: 0.0010\n",
      "Epoch 6/20\n",
      "200/200 [==============================] - 9s 44ms/step - loss: 0.2590 - accuracy: 0.8881 - val_loss: 0.6598 - val_accuracy: 0.7416 - lr: 2.0000e-04\n",
      "Epoch 7/20\n",
      "200/200 [==============================] - 9s 44ms/step - loss: 0.2108 - accuracy: 0.9085 - val_loss: 0.7450 - val_accuracy: 0.7384 - lr: 2.0000e-04\n",
      "100/100 [==============================] - 1s 8ms/step\n",
      "100/100 [==============================] - 1s 8ms/step\n"
     ]
    },
    {
     "name": "stderr",
     "output_type": "stream",
     "text": [
      "2024/10/12 05:44:48 WARNING mlflow.tensorflow: You are saving a TensorFlow Core model or Keras model without a signature. Inference with mlflow.pyfunc.spark_udf() will not work unless the model's pyfunc representation accepts pandas DataFrames as inference inputs.\n",
      "WARNING:absl:Found untraced functions such as _jit_compiled_convolution_op, _update_step_xla while saving (showing 2 of 2). These functions will not be directly callable after loading.\n"
     ]
    },
    {
     "name": "stdout",
     "output_type": "stream",
     "text": [
      "INFO:tensorflow:Assets written to: C:\\Users\\trist\\AppData\\Local\\Temp\\tmpdfpjt7xg\\model\\data\\model\\assets\n"
     ]
    },
    {
     "name": "stderr",
     "output_type": "stream",
     "text": [
      "INFO:tensorflow:Assets written to: C:\\Users\\trist\\AppData\\Local\\Temp\\tmpdfpjt7xg\\model\\data\\model\\assets\n",
      "2024/10/12 05:44:55 WARNING mlflow.models.model: Model logged without a signature and input example. Please set `input_example` parameter when logging the model to auto infer the model signature.\n"
     ]
    },
    {
     "name": "stdout",
     "output_type": "stream",
     "text": [
      "Epoch 1/20\n",
      "200/200 [==============================] - 14s 64ms/step - loss: 0.6816 - accuracy: 0.6248 - val_loss: 0.6588 - val_accuracy: 0.7237 - lr: 0.0010\n",
      "Epoch 2/20\n",
      "200/200 [==============================] - 13s 63ms/step - loss: 0.5263 - accuracy: 0.7395 - val_loss: 0.5776 - val_accuracy: 0.7325 - lr: 0.0010\n",
      "Epoch 3/20\n",
      "200/200 [==============================] - 13s 63ms/step - loss: 0.4648 - accuracy: 0.7762 - val_loss: 0.5222 - val_accuracy: 0.7362 - lr: 0.0010\n",
      "Epoch 4/20\n",
      "200/200 [==============================] - 13s 63ms/step - loss: 0.3949 - accuracy: 0.8211 - val_loss: 0.5448 - val_accuracy: 0.7428 - lr: 0.0010\n",
      "Epoch 5/20\n",
      "200/200 [==============================] - 13s 63ms/step - loss: 0.3300 - accuracy: 0.8565 - val_loss: 0.6011 - val_accuracy: 0.7334 - lr: 0.0010\n",
      "Epoch 6/20\n",
      "200/200 [==============================] - 13s 63ms/step - loss: 0.2007 - accuracy: 0.9190 - val_loss: 0.7504 - val_accuracy: 0.7353 - lr: 2.0000e-04\n",
      "Epoch 7/20\n",
      "200/200 [==============================] - 13s 63ms/step - loss: 0.1359 - accuracy: 0.9473 - val_loss: 0.9001 - val_accuracy: 0.7344 - lr: 2.0000e-04\n",
      "100/100 [==============================] - 1s 11ms/step\n",
      "100/100 [==============================] - 1s 11ms/step\n"
     ]
    },
    {
     "name": "stderr",
     "output_type": "stream",
     "text": [
      "2024/10/12 05:46:28 WARNING mlflow.tensorflow: You are saving a TensorFlow Core model or Keras model without a signature. Inference with mlflow.pyfunc.spark_udf() will not work unless the model's pyfunc representation accepts pandas DataFrames as inference inputs.\n",
      "WARNING:absl:Found untraced functions such as _jit_compiled_convolution_op, _update_step_xla while saving (showing 2 of 2). These functions will not be directly callable after loading.\n"
     ]
    },
    {
     "name": "stdout",
     "output_type": "stream",
     "text": [
      "INFO:tensorflow:Assets written to: C:\\Users\\trist\\AppData\\Local\\Temp\\tmpd65miaco\\model\\data\\model\\assets\n"
     ]
    },
    {
     "name": "stderr",
     "output_type": "stream",
     "text": [
      "INFO:tensorflow:Assets written to: C:\\Users\\trist\\AppData\\Local\\Temp\\tmpd65miaco\\model\\data\\model\\assets\n",
      "2024/10/12 05:46:36 WARNING mlflow.models.model: Model logged without a signature and input example. Please set `input_example` parameter when logging the model to auto infer the model signature.\n"
     ]
    },
    {
     "name": "stdout",
     "output_type": "stream",
     "text": [
      "Epoch 1/20\n",
      "200/200 [==============================] - 24s 117ms/step - loss: 0.6452 - accuracy: 0.6510 - val_loss: 0.6576 - val_accuracy: 0.7088 - lr: 0.0010\n",
      "Epoch 2/20\n",
      "200/200 [==============================] - 23s 116ms/step - loss: 0.5107 - accuracy: 0.7494 - val_loss: 0.5731 - val_accuracy: 0.7387 - lr: 0.0010\n",
      "Epoch 3/20\n",
      "200/200 [==============================] - 23s 116ms/step - loss: 0.4419 - accuracy: 0.7961 - val_loss: 0.5182 - val_accuracy: 0.7394 - lr: 0.0010\n",
      "Epoch 4/20\n",
      "200/200 [==============================] - 23s 116ms/step - loss: 0.3738 - accuracy: 0.8370 - val_loss: 0.5651 - val_accuracy: 0.7175 - lr: 0.0010\n",
      "Epoch 5/20\n",
      "200/200 [==============================] - 23s 115ms/step - loss: 0.2864 - accuracy: 0.8785 - val_loss: 0.6892 - val_accuracy: 0.7231 - lr: 0.0010\n",
      "Epoch 6/20\n",
      "200/200 [==============================] - 23s 116ms/step - loss: 0.1448 - accuracy: 0.9472 - val_loss: 0.8187 - val_accuracy: 0.7337 - lr: 2.0000e-04\n",
      "Epoch 7/20\n",
      "200/200 [==============================] - 23s 116ms/step - loss: 0.0843 - accuracy: 0.9713 - val_loss: 0.9822 - val_accuracy: 0.7269 - lr: 2.0000e-04\n",
      "100/100 [==============================] - 2s 22ms/step\n",
      "100/100 [==============================] - 2s 22ms/step\n"
     ]
    },
    {
     "name": "stderr",
     "output_type": "stream",
     "text": [
      "2024/10/12 05:49:25 WARNING mlflow.tensorflow: You are saving a TensorFlow Core model or Keras model without a signature. Inference with mlflow.pyfunc.spark_udf() will not work unless the model's pyfunc representation accepts pandas DataFrames as inference inputs.\n",
      "WARNING:absl:Found untraced functions such as _jit_compiled_convolution_op, _update_step_xla while saving (showing 2 of 2). These functions will not be directly callable after loading.\n"
     ]
    },
    {
     "name": "stdout",
     "output_type": "stream",
     "text": [
      "INFO:tensorflow:Assets written to: C:\\Users\\trist\\AppData\\Local\\Temp\\tmp_jc_wwq8\\model\\data\\model\\assets\n"
     ]
    },
    {
     "name": "stderr",
     "output_type": "stream",
     "text": [
      "INFO:tensorflow:Assets written to: C:\\Users\\trist\\AppData\\Local\\Temp\\tmp_jc_wwq8\\model\\data\\model\\assets\n",
      "2024/10/12 05:49:32 WARNING mlflow.models.model: Model logged without a signature and input example. Please set `input_example` parameter when logging the model to auto infer the model signature.\n"
     ]
    },
    {
     "name": "stdout",
     "output_type": "stream",
     "text": [
      "Epoch 1/20\n",
      "200/200 [==============================] - 13s 58ms/step - loss: 0.6849 - accuracy: 0.6156 - val_loss: 0.6589 - val_accuracy: 0.6494 - lr: 0.0010\n",
      "Epoch 2/20\n",
      "200/200 [==============================] - 11s 57ms/step - loss: 0.5326 - accuracy: 0.7354 - val_loss: 0.5770 - val_accuracy: 0.7134 - lr: 0.0010\n",
      "Epoch 3/20\n",
      "200/200 [==============================] - 11s 57ms/step - loss: 0.4619 - accuracy: 0.7822 - val_loss: 0.5333 - val_accuracy: 0.7200 - lr: 0.0010\n",
      "Epoch 4/20\n",
      "200/200 [==============================] - 11s 57ms/step - loss: 0.3874 - accuracy: 0.8238 - val_loss: 0.5578 - val_accuracy: 0.7312 - lr: 0.0010\n",
      "Epoch 5/20\n",
      "200/200 [==============================] - 11s 57ms/step - loss: 0.3189 - accuracy: 0.8598 - val_loss: 0.6519 - val_accuracy: 0.7131 - lr: 0.0010\n",
      "Epoch 6/20\n",
      "200/200 [==============================] - 11s 57ms/step - loss: 0.1797 - accuracy: 0.9298 - val_loss: 0.8675 - val_accuracy: 0.7319 - lr: 2.0000e-04\n",
      "Epoch 7/20\n",
      "200/200 [==============================] - 11s 57ms/step - loss: 0.1217 - accuracy: 0.9539 - val_loss: 1.0350 - val_accuracy: 0.7144 - lr: 2.0000e-04\n",
      "100/100 [==============================] - 1s 12ms/step\n",
      "100/100 [==============================] - 1s 12ms/step\n"
     ]
    },
    {
     "name": "stderr",
     "output_type": "stream",
     "text": [
      "2024/10/12 05:50:56 WARNING mlflow.tensorflow: You are saving a TensorFlow Core model or Keras model without a signature. Inference with mlflow.pyfunc.spark_udf() will not work unless the model's pyfunc representation accepts pandas DataFrames as inference inputs.\n",
      "WARNING:absl:Found untraced functions such as _jit_compiled_convolution_op, _update_step_xla while saving (showing 2 of 2). These functions will not be directly callable after loading.\n"
     ]
    },
    {
     "name": "stdout",
     "output_type": "stream",
     "text": [
      "INFO:tensorflow:Assets written to: C:\\Users\\trist\\AppData\\Local\\Temp\\tmpkwjbfo9y\\model\\data\\model\\assets\n"
     ]
    },
    {
     "name": "stderr",
     "output_type": "stream",
     "text": [
      "INFO:tensorflow:Assets written to: C:\\Users\\trist\\AppData\\Local\\Temp\\tmpkwjbfo9y\\model\\data\\model\\assets\n",
      "2024/10/12 05:51:04 WARNING mlflow.models.model: Model logged without a signature and input example. Please set `input_example` parameter when logging the model to auto infer the model signature.\n"
     ]
    },
    {
     "name": "stdout",
     "output_type": "stream",
     "text": [
      "Epoch 1/20\n",
      "200/200 [==============================] - 18s 84ms/step - loss: 0.7275 - accuracy: 0.6195 - val_loss: 0.6632 - val_accuracy: 0.6969 - lr: 0.0010\n",
      "Epoch 2/20\n",
      "200/200 [==============================] - 17s 83ms/step - loss: 0.5224 - accuracy: 0.7410 - val_loss: 0.5868 - val_accuracy: 0.7250 - lr: 0.0010\n",
      "Epoch 3/20\n",
      "200/200 [==============================] - 17s 83ms/step - loss: 0.4472 - accuracy: 0.7952 - val_loss: 0.5381 - val_accuracy: 0.7141 - lr: 0.0010\n",
      "Epoch 4/20\n",
      "200/200 [==============================] - 17s 83ms/step - loss: 0.3656 - accuracy: 0.8348 - val_loss: 0.5899 - val_accuracy: 0.7253 - lr: 0.0010\n",
      "Epoch 5/20\n",
      "200/200 [==============================] - 17s 83ms/step - loss: 0.2869 - accuracy: 0.8775 - val_loss: 0.6495 - val_accuracy: 0.7122 - lr: 0.0010\n",
      "Epoch 6/20\n",
      "200/200 [==============================] - 17s 83ms/step - loss: 0.1488 - accuracy: 0.9420 - val_loss: 0.8745 - val_accuracy: 0.7200 - lr: 2.0000e-04\n",
      "Epoch 7/20\n",
      "200/200 [==============================] - 17s 83ms/step - loss: 0.0865 - accuracy: 0.9691 - val_loss: 1.0820 - val_accuracy: 0.7184 - lr: 2.0000e-04\n",
      "100/100 [==============================] - 2s 17ms/step\n",
      "100/100 [==============================] - 2s 17ms/step\n"
     ]
    },
    {
     "name": "stderr",
     "output_type": "stream",
     "text": [
      "2024/10/12 05:53:06 WARNING mlflow.tensorflow: You are saving a TensorFlow Core model or Keras model without a signature. Inference with mlflow.pyfunc.spark_udf() will not work unless the model's pyfunc representation accepts pandas DataFrames as inference inputs.\n",
      "WARNING:absl:Found untraced functions such as _jit_compiled_convolution_op, _update_step_xla while saving (showing 2 of 2). These functions will not be directly callable after loading.\n"
     ]
    },
    {
     "name": "stdout",
     "output_type": "stream",
     "text": [
      "INFO:tensorflow:Assets written to: C:\\Users\\trist\\AppData\\Local\\Temp\\tmpndkhzrfk\\model\\data\\model\\assets\n"
     ]
    },
    {
     "name": "stderr",
     "output_type": "stream",
     "text": [
      "INFO:tensorflow:Assets written to: C:\\Users\\trist\\AppData\\Local\\Temp\\tmpndkhzrfk\\model\\data\\model\\assets\n",
      "2024/10/12 05:53:13 WARNING mlflow.models.model: Model logged without a signature and input example. Please set `input_example` parameter when logging the model to auto infer the model signature.\n"
     ]
    },
    {
     "name": "stdout",
     "output_type": "stream",
     "text": [
      "Epoch 1/20\n",
      "200/200 [==============================] - 32s 154ms/step - loss: 0.6770 - accuracy: 0.6310 - val_loss: 0.6582 - val_accuracy: 0.7244 - lr: 0.0010\n",
      "Epoch 2/20\n",
      "200/200 [==============================] - 30s 152ms/step - loss: 0.5255 - accuracy: 0.7375 - val_loss: 0.5886 - val_accuracy: 0.7306 - lr: 0.0010\n",
      "Epoch 3/20\n",
      "200/200 [==============================] - 30s 152ms/step - loss: 0.4365 - accuracy: 0.7946 - val_loss: 0.5298 - val_accuracy: 0.7337 - lr: 0.0010\n",
      "Epoch 4/20\n",
      "200/200 [==============================] - 30s 152ms/step - loss: 0.3413 - accuracy: 0.8480 - val_loss: 0.6080 - val_accuracy: 0.7300 - lr: 0.0010\n",
      "Epoch 5/20\n",
      "200/200 [==============================] - 30s 152ms/step - loss: 0.2601 - accuracy: 0.8902 - val_loss: 0.6167 - val_accuracy: 0.7256 - lr: 0.0010\n",
      "Epoch 6/20\n",
      "200/200 [==============================] - 30s 152ms/step - loss: 0.1260 - accuracy: 0.9527 - val_loss: 0.8782 - val_accuracy: 0.7309 - lr: 2.0000e-04\n",
      "Epoch 7/20\n",
      "200/200 [==============================] - 30s 152ms/step - loss: 0.0673 - accuracy: 0.9747 - val_loss: 1.0473 - val_accuracy: 0.7337 - lr: 2.0000e-04\n",
      "100/100 [==============================] - 3s 31ms/step\n",
      "100/100 [==============================] - 3s 31ms/step\n"
     ]
    },
    {
     "name": "stderr",
     "output_type": "stream",
     "text": [
      "2024/10/12 05:56:55 WARNING mlflow.tensorflow: You are saving a TensorFlow Core model or Keras model without a signature. Inference with mlflow.pyfunc.spark_udf() will not work unless the model's pyfunc representation accepts pandas DataFrames as inference inputs.\n",
      "WARNING:absl:Found untraced functions such as _jit_compiled_convolution_op, _update_step_xla while saving (showing 2 of 2). These functions will not be directly callable after loading.\n"
     ]
    },
    {
     "name": "stdout",
     "output_type": "stream",
     "text": [
      "INFO:tensorflow:Assets written to: C:\\Users\\trist\\AppData\\Local\\Temp\\tmplth8hwds\\model\\data\\model\\assets\n"
     ]
    },
    {
     "name": "stderr",
     "output_type": "stream",
     "text": [
      "INFO:tensorflow:Assets written to: C:\\Users\\trist\\AppData\\Local\\Temp\\tmplth8hwds\\model\\data\\model\\assets\n",
      "2024/10/12 05:57:03 WARNING mlflow.models.model: Model logged without a signature and input example. Please set `input_example` parameter when logging the model to auto infer the model signature.\n"
     ]
    },
    {
     "name": "stdout",
     "output_type": "stream",
     "text": [
      "Epoch 1/20\n",
      "200/200 [==============================] - 9s 42ms/step - loss: 0.7502 - accuracy: 0.5848 - val_loss: 0.6769 - val_accuracy: 0.6866 - lr: 0.0010\n",
      "Epoch 2/20\n",
      "200/200 [==============================] - 8s 41ms/step - loss: 0.5913 - accuracy: 0.6890 - val_loss: 0.6186 - val_accuracy: 0.7175 - lr: 0.0010\n",
      "Epoch 3/20\n",
      "200/200 [==============================] - 8s 41ms/step - loss: 0.5360 - accuracy: 0.7355 - val_loss: 0.5510 - val_accuracy: 0.7400 - lr: 0.0010\n",
      "Epoch 4/20\n",
      "200/200 [==============================] - 8s 41ms/step - loss: 0.4888 - accuracy: 0.7661 - val_loss: 0.5159 - val_accuracy: 0.7394 - lr: 0.0010\n",
      "Epoch 5/20\n",
      "200/200 [==============================] - 8s 41ms/step - loss: 0.4568 - accuracy: 0.7839 - val_loss: 0.5216 - val_accuracy: 0.7375 - lr: 0.0010\n",
      "Epoch 6/20\n",
      "200/200 [==============================] - 8s 41ms/step - loss: 0.4157 - accuracy: 0.8106 - val_loss: 0.5307 - val_accuracy: 0.7434 - lr: 0.0010\n",
      "Epoch 7/20\n",
      "200/200 [==============================] - 8s 41ms/step - loss: 0.3445 - accuracy: 0.8559 - val_loss: 0.5799 - val_accuracy: 0.7422 - lr: 2.0000e-04\n",
      "Epoch 8/20\n",
      "200/200 [==============================] - 8s 41ms/step - loss: 0.3028 - accuracy: 0.8708 - val_loss: 0.6259 - val_accuracy: 0.7422 - lr: 2.0000e-04\n",
      "100/100 [==============================] - 1s 8ms/step\n",
      "100/100 [==============================] - 1s 8ms/step\n"
     ]
    },
    {
     "name": "stderr",
     "output_type": "stream",
     "text": [
      "2024/10/12 05:58:12 WARNING mlflow.tensorflow: You are saving a TensorFlow Core model or Keras model without a signature. Inference with mlflow.pyfunc.spark_udf() will not work unless the model's pyfunc representation accepts pandas DataFrames as inference inputs.\n",
      "WARNING:absl:Found untraced functions such as _jit_compiled_convolution_op, _update_step_xla while saving (showing 2 of 2). These functions will not be directly callable after loading.\n"
     ]
    },
    {
     "name": "stdout",
     "output_type": "stream",
     "text": [
      "INFO:tensorflow:Assets written to: C:\\Users\\trist\\AppData\\Local\\Temp\\tmpukmv1a5l\\model\\data\\model\\assets\n"
     ]
    },
    {
     "name": "stderr",
     "output_type": "stream",
     "text": [
      "INFO:tensorflow:Assets written to: C:\\Users\\trist\\AppData\\Local\\Temp\\tmpukmv1a5l\\model\\data\\model\\assets\n",
      "2024/10/12 05:58:20 WARNING mlflow.models.model: Model logged without a signature and input example. Please set `input_example` parameter when logging the model to auto infer the model signature.\n"
     ]
    },
    {
     "name": "stdout",
     "output_type": "stream",
     "text": [
      "Epoch 1/20\n",
      "200/200 [==============================] - 13s 62ms/step - loss: 0.7719 - accuracy: 0.5654 - val_loss: 0.6788 - val_accuracy: 0.6587 - lr: 0.0010\n",
      "Epoch 2/20\n",
      "200/200 [==============================] - 12s 60ms/step - loss: 0.5972 - accuracy: 0.6823 - val_loss: 0.6110 - val_accuracy: 0.7113 - lr: 0.0010\n",
      "Epoch 3/20\n",
      "200/200 [==============================] - 12s 60ms/step - loss: 0.5438 - accuracy: 0.7259 - val_loss: 0.5421 - val_accuracy: 0.7319 - lr: 0.0010\n",
      "Epoch 4/20\n",
      "200/200 [==============================] - 12s 61ms/step - loss: 0.4995 - accuracy: 0.7604 - val_loss: 0.5203 - val_accuracy: 0.7428 - lr: 0.0010\n",
      "Epoch 5/20\n",
      "200/200 [==============================] - 12s 61ms/step - loss: 0.4602 - accuracy: 0.7876 - val_loss: 0.5207 - val_accuracy: 0.7478 - lr: 0.0010\n",
      "Epoch 6/20\n",
      "200/200 [==============================] - 12s 61ms/step - loss: 0.4168 - accuracy: 0.8122 - val_loss: 0.5270 - val_accuracy: 0.7428 - lr: 0.0010\n",
      "Epoch 7/20\n",
      "200/200 [==============================] - 12s 60ms/step - loss: 0.3261 - accuracy: 0.8666 - val_loss: 0.6043 - val_accuracy: 0.7337 - lr: 2.0000e-04\n",
      "Epoch 8/20\n",
      "200/200 [==============================] - 12s 61ms/step - loss: 0.2713 - accuracy: 0.8891 - val_loss: 0.6464 - val_accuracy: 0.7397 - lr: 2.0000e-04\n",
      "100/100 [==============================] - 1s 11ms/step\n",
      "100/100 [==============================] - 1s 11ms/step\n"
     ]
    },
    {
     "name": "stderr",
     "output_type": "stream",
     "text": [
      "2024/10/12 06:00:01 WARNING mlflow.tensorflow: You are saving a TensorFlow Core model or Keras model without a signature. Inference with mlflow.pyfunc.spark_udf() will not work unless the model's pyfunc representation accepts pandas DataFrames as inference inputs.\n",
      "WARNING:absl:Found untraced functions such as _jit_compiled_convolution_op, _update_step_xla while saving (showing 2 of 2). These functions will not be directly callable after loading.\n"
     ]
    },
    {
     "name": "stdout",
     "output_type": "stream",
     "text": [
      "INFO:tensorflow:Assets written to: C:\\Users\\trist\\AppData\\Local\\Temp\\tmpkkoc5yb9\\model\\data\\model\\assets\n"
     ]
    },
    {
     "name": "stderr",
     "output_type": "stream",
     "text": [
      "INFO:tensorflow:Assets written to: C:\\Users\\trist\\AppData\\Local\\Temp\\tmpkkoc5yb9\\model\\data\\model\\assets\n",
      "2024/10/12 06:00:09 WARNING mlflow.models.model: Model logged without a signature and input example. Please set `input_example` parameter when logging the model to auto infer the model signature.\n"
     ]
    },
    {
     "name": "stdout",
     "output_type": "stream",
     "text": [
      "Epoch 1/20\n",
      "200/200 [==============================] - 22s 105ms/step - loss: 0.7828 - accuracy: 0.5691 - val_loss: 0.6802 - val_accuracy: 0.6753 - lr: 0.0010\n",
      "Epoch 2/20\n",
      "200/200 [==============================] - 21s 104ms/step - loss: 0.6071 - accuracy: 0.6646 - val_loss: 0.6206 - val_accuracy: 0.7219 - lr: 0.0010\n",
      "Epoch 3/20\n",
      "200/200 [==============================] - 21s 104ms/step - loss: 0.5464 - accuracy: 0.7277 - val_loss: 0.5520 - val_accuracy: 0.7312 - lr: 0.0010\n",
      "Epoch 4/20\n",
      "200/200 [==============================] - 21s 103ms/step - loss: 0.4952 - accuracy: 0.7589 - val_loss: 0.5320 - val_accuracy: 0.7372 - lr: 0.0010\n",
      "Epoch 5/20\n",
      "200/200 [==============================] - 21s 103ms/step - loss: 0.4594 - accuracy: 0.7864 - val_loss: 0.5310 - val_accuracy: 0.7381 - lr: 0.0010\n",
      "Epoch 6/20\n",
      "200/200 [==============================] - 21s 104ms/step - loss: 0.4066 - accuracy: 0.8159 - val_loss: 0.5573 - val_accuracy: 0.7284 - lr: 0.0010\n",
      "Epoch 7/20\n",
      "200/200 [==============================] - 21s 103ms/step - loss: 0.3443 - accuracy: 0.8556 - val_loss: 0.6280 - val_accuracy: 0.7266 - lr: 0.0010\n",
      "Epoch 8/20\n",
      "200/200 [==============================] - 21s 103ms/step - loss: 0.2223 - accuracy: 0.9141 - val_loss: 0.7211 - val_accuracy: 0.7397 - lr: 2.0000e-04\n",
      "Epoch 9/20\n",
      "200/200 [==============================] - 21s 103ms/step - loss: 0.1616 - accuracy: 0.9395 - val_loss: 0.8419 - val_accuracy: 0.7362 - lr: 2.0000e-04\n",
      "100/100 [==============================] - 2s 20ms/step\n",
      "100/100 [==============================] - 2s 20ms/step\n"
     ]
    },
    {
     "name": "stderr",
     "output_type": "stream",
     "text": [
      "2024/10/12 06:03:21 WARNING mlflow.tensorflow: You are saving a TensorFlow Core model or Keras model without a signature. Inference with mlflow.pyfunc.spark_udf() will not work unless the model's pyfunc representation accepts pandas DataFrames as inference inputs.\n",
      "WARNING:absl:Found untraced functions such as _jit_compiled_convolution_op, _update_step_xla while saving (showing 2 of 2). These functions will not be directly callable after loading.\n"
     ]
    },
    {
     "name": "stdout",
     "output_type": "stream",
     "text": [
      "INFO:tensorflow:Assets written to: C:\\Users\\trist\\AppData\\Local\\Temp\\tmpw2qstz7v\\model\\data\\model\\assets\n"
     ]
    },
    {
     "name": "stderr",
     "output_type": "stream",
     "text": [
      "INFO:tensorflow:Assets written to: C:\\Users\\trist\\AppData\\Local\\Temp\\tmpw2qstz7v\\model\\data\\model\\assets\n",
      "2024/10/12 06:03:29 WARNING mlflow.models.model: Model logged without a signature and input example. Please set `input_example` parameter when logging the model to auto infer the model signature.\n"
     ]
    },
    {
     "name": "stdout",
     "output_type": "stream",
     "text": [
      "Epoch 1/20\n",
      "200/200 [==============================] - 12s 55ms/step - loss: 0.8088 - accuracy: 0.5596 - val_loss: 0.6747 - val_accuracy: 0.6797 - lr: 0.0010\n",
      "Epoch 2/20\n",
      "200/200 [==============================] - 11s 54ms/step - loss: 0.5945 - accuracy: 0.6780 - val_loss: 0.6002 - val_accuracy: 0.7222 - lr: 0.0010\n",
      "Epoch 3/20\n",
      "200/200 [==============================] - 11s 54ms/step - loss: 0.5323 - accuracy: 0.7352 - val_loss: 0.5437 - val_accuracy: 0.7322 - lr: 0.0010\n",
      "Epoch 4/20\n",
      "200/200 [==============================] - 11s 54ms/step - loss: 0.4875 - accuracy: 0.7697 - val_loss: 0.5268 - val_accuracy: 0.7431 - lr: 0.0010\n",
      "Epoch 5/20\n",
      "200/200 [==============================] - 11s 54ms/step - loss: 0.4372 - accuracy: 0.7980 - val_loss: 0.5467 - val_accuracy: 0.7300 - lr: 0.0010\n",
      "Epoch 6/20\n",
      "200/200 [==============================] - 11s 54ms/step - loss: 0.3857 - accuracy: 0.8256 - val_loss: 0.5718 - val_accuracy: 0.7316 - lr: 0.0010\n",
      "Epoch 7/20\n",
      "200/200 [==============================] - 11s 54ms/step - loss: 0.2705 - accuracy: 0.8900 - val_loss: 0.6532 - val_accuracy: 0.7322 - lr: 2.0000e-04\n",
      "Epoch 8/20\n",
      "200/200 [==============================] - 11s 54ms/step - loss: 0.2150 - accuracy: 0.9166 - val_loss: 0.7503 - val_accuracy: 0.7244 - lr: 2.0000e-04\n",
      "100/100 [==============================] - 1s 11ms/step\n",
      "100/100 [==============================] - 1s 11ms/step\n"
     ]
    },
    {
     "name": "stderr",
     "output_type": "stream",
     "text": [
      "2024/10/12 06:05:00 WARNING mlflow.tensorflow: You are saving a TensorFlow Core model or Keras model without a signature. Inference with mlflow.pyfunc.spark_udf() will not work unless the model's pyfunc representation accepts pandas DataFrames as inference inputs.\n",
      "WARNING:absl:Found untraced functions such as _jit_compiled_convolution_op, _update_step_xla while saving (showing 2 of 2). These functions will not be directly callable after loading.\n"
     ]
    },
    {
     "name": "stdout",
     "output_type": "stream",
     "text": [
      "INFO:tensorflow:Assets written to: C:\\Users\\trist\\AppData\\Local\\Temp\\tmpg1slfs1a\\model\\data\\model\\assets\n"
     ]
    },
    {
     "name": "stderr",
     "output_type": "stream",
     "text": [
      "INFO:tensorflow:Assets written to: C:\\Users\\trist\\AppData\\Local\\Temp\\tmpg1slfs1a\\model\\data\\model\\assets\n",
      "2024/10/12 06:05:07 WARNING mlflow.models.model: Model logged without a signature and input example. Please set `input_example` parameter when logging the model to auto infer the model signature.\n"
     ]
    },
    {
     "name": "stdout",
     "output_type": "stream",
     "text": [
      "Epoch 1/20\n",
      "200/200 [==============================] - 16s 74ms/step - loss: 0.7861 - accuracy: 0.5495 - val_loss: 0.6797 - val_accuracy: 0.6513 - lr: 0.0010\n",
      "Epoch 2/20\n",
      "200/200 [==============================] - 15s 73ms/step - loss: 0.6138 - accuracy: 0.6654 - val_loss: 0.6180 - val_accuracy: 0.6997 - lr: 0.0010\n",
      "Epoch 3/20\n",
      "200/200 [==============================] - 15s 73ms/step - loss: 0.5440 - accuracy: 0.7291 - val_loss: 0.5419 - val_accuracy: 0.7253 - lr: 0.0010\n",
      "Epoch 4/20\n",
      "200/200 [==============================] - 15s 73ms/step - loss: 0.4879 - accuracy: 0.7705 - val_loss: 0.5358 - val_accuracy: 0.7284 - lr: 0.0010\n",
      "Epoch 5/20\n",
      "200/200 [==============================] - 15s 74ms/step - loss: 0.4199 - accuracy: 0.8092 - val_loss: 0.5711 - val_accuracy: 0.7325 - lr: 0.0010\n",
      "Epoch 6/20\n",
      "200/200 [==============================] - 15s 74ms/step - loss: 0.3617 - accuracy: 0.8434 - val_loss: 0.6937 - val_accuracy: 0.6978 - lr: 0.0010\n",
      "Epoch 7/20\n",
      "200/200 [==============================] - 15s 74ms/step - loss: 0.2289 - accuracy: 0.9123 - val_loss: 0.7196 - val_accuracy: 0.7244 - lr: 2.0000e-04\n",
      "Epoch 8/20\n",
      "200/200 [==============================] - 15s 73ms/step - loss: 0.1682 - accuracy: 0.9374 - val_loss: 0.8087 - val_accuracy: 0.7225 - lr: 2.0000e-04\n",
      "100/100 [==============================] - 2s 15ms/step\n",
      "100/100 [==============================] - 2s 15ms/step\n"
     ]
    },
    {
     "name": "stderr",
     "output_type": "stream",
     "text": [
      "2024/10/12 06:07:10 WARNING mlflow.tensorflow: You are saving a TensorFlow Core model or Keras model without a signature. Inference with mlflow.pyfunc.spark_udf() will not work unless the model's pyfunc representation accepts pandas DataFrames as inference inputs.\n",
      "WARNING:absl:Found untraced functions such as _jit_compiled_convolution_op, _update_step_xla while saving (showing 2 of 2). These functions will not be directly callable after loading.\n"
     ]
    },
    {
     "name": "stdout",
     "output_type": "stream",
     "text": [
      "INFO:tensorflow:Assets written to: C:\\Users\\trist\\AppData\\Local\\Temp\\tmph7lcy7i4\\model\\data\\model\\assets\n"
     ]
    },
    {
     "name": "stderr",
     "output_type": "stream",
     "text": [
      "INFO:tensorflow:Assets written to: C:\\Users\\trist\\AppData\\Local\\Temp\\tmph7lcy7i4\\model\\data\\model\\assets\n",
      "2024/10/12 06:07:18 WARNING mlflow.models.model: Model logged without a signature and input example. Please set `input_example` parameter when logging the model to auto infer the model signature.\n"
     ]
    },
    {
     "name": "stdout",
     "output_type": "stream",
     "text": [
      "Epoch 1/20\n",
      "200/200 [==============================] - 30s 147ms/step - loss: 0.7827 - accuracy: 0.5666 - val_loss: 0.6853 - val_accuracy: 0.6403 - lr: 0.0010\n",
      "Epoch 2/20\n",
      "200/200 [==============================] - 29s 145ms/step - loss: 0.6139 - accuracy: 0.6669 - val_loss: 0.6139 - val_accuracy: 0.7337 - lr: 0.0010\n",
      "Epoch 3/20\n",
      "200/200 [==============================] - 29s 145ms/step - loss: 0.5449 - accuracy: 0.7223 - val_loss: 0.5520 - val_accuracy: 0.7056 - lr: 0.0010\n",
      "Epoch 4/20\n",
      "200/200 [==============================] - 29s 146ms/step - loss: 0.4898 - accuracy: 0.7644 - val_loss: 0.5224 - val_accuracy: 0.7391 - lr: 0.0010\n",
      "Epoch 5/20\n",
      "200/200 [==============================] - 29s 146ms/step - loss: 0.4243 - accuracy: 0.8063 - val_loss: 0.5365 - val_accuracy: 0.7378 - lr: 0.0010\n",
      "Epoch 6/20\n",
      "200/200 [==============================] - 29s 146ms/step - loss: 0.3547 - accuracy: 0.8473 - val_loss: 0.5864 - val_accuracy: 0.7303 - lr: 0.0010\n",
      "Epoch 7/20\n",
      "200/200 [==============================] - 29s 146ms/step - loss: 0.2206 - accuracy: 0.9164 - val_loss: 0.7159 - val_accuracy: 0.7319 - lr: 2.0000e-04\n",
      "Epoch 8/20\n",
      "200/200 [==============================] - 29s 146ms/step - loss: 0.1472 - accuracy: 0.9462 - val_loss: 0.8731 - val_accuracy: 0.7222 - lr: 2.0000e-04\n",
      "100/100 [==============================] - 3s 29ms/step\n",
      "100/100 [==============================] - 3s 29ms/step\n"
     ]
    },
    {
     "name": "stderr",
     "output_type": "stream",
     "text": [
      "2024/10/12 06:11:20 WARNING mlflow.tensorflow: You are saving a TensorFlow Core model or Keras model without a signature. Inference with mlflow.pyfunc.spark_udf() will not work unless the model's pyfunc representation accepts pandas DataFrames as inference inputs.\n",
      "WARNING:absl:Found untraced functions such as _jit_compiled_convolution_op, _update_step_xla while saving (showing 2 of 2). These functions will not be directly callable after loading.\n"
     ]
    },
    {
     "name": "stdout",
     "output_type": "stream",
     "text": [
      "INFO:tensorflow:Assets written to: C:\\Users\\trist\\AppData\\Local\\Temp\\tmp61n2anki\\model\\data\\model\\assets\n"
     ]
    },
    {
     "name": "stderr",
     "output_type": "stream",
     "text": [
      "INFO:tensorflow:Assets written to: C:\\Users\\trist\\AppData\\Local\\Temp\\tmp61n2anki\\model\\data\\model\\assets\n",
      "2024/10/12 06:11:27 WARNING mlflow.models.model: Model logged without a signature and input example. Please set `input_example` parameter when logging the model to auto infer the model signature.\n"
     ]
    },
    {
     "name": "stdout",
     "output_type": "stream",
     "text": [
      "Meilleurs paramètres : {'activation_type': 'relu', 'dropout_rate': 0.5, 'kernel_size': 3, 'num_filters': 64} avec une accuracy de 0.7434\n"
     ]
    }
   ],
   "source": [
    "# Modèle 3 : Word2Vec + Stemming\n",
    "best_cnn_model_stem_w2v, best_params_stem_w2v = train_and_log_cnn(\n",
    "    X_train_stem_w2v, y_train_stem_w2v, X_test_stem_w2v, y_test_stem_w2v, \n",
    "    experiment_name=\"CNN_Word2Vec_Stemming\", param_grid=param_grid_cnn, max_length=100\n",
    ")\n"
   ]
  },
  {
   "cell_type": "code",
   "execution_count": 44,
   "id": "93614134-f750-43eb-8456-6c526567c79b",
   "metadata": {
    "scrolled": true
   },
   "outputs": [
    {
     "name": "stderr",
     "output_type": "stream",
     "text": [
      "WARNING:root:Malformed experiment 'matrice'. Detailed error Yaml file 'D:\\Master_Openclassroom\\Github\\projet7-op\\notebooks\\modèle_avancé\\mlruns\\matrice\\meta.yaml' does not exist.\n",
      "Traceback (most recent call last):\n",
      "  File \"D:\\Master_Openclassroom\\python\\Lib\\site-packages\\mlflow\\store\\tracking\\file_store.py\", line 327, in search_experiments\n",
      "    exp = self._get_experiment(exp_id, view_type)\n",
      "          ^^^^^^^^^^^^^^^^^^^^^^^^^^^^^^^^^^^^^^^\n",
      "  File \"D:\\Master_Openclassroom\\python\\Lib\\site-packages\\mlflow\\store\\tracking\\file_store.py\", line 421, in _get_experiment\n",
      "    meta = FileStore._read_yaml(experiment_dir, FileStore.META_DATA_FILE_NAME)\n",
      "           ^^^^^^^^^^^^^^^^^^^^^^^^^^^^^^^^^^^^^^^^^^^^^^^^^^^^^^^^^^^^^^^^^^^\n",
      "  File \"D:\\Master_Openclassroom\\python\\Lib\\site-packages\\mlflow\\store\\tracking\\file_store.py\", line 1367, in _read_yaml\n",
      "    return _read_helper(root, file_name, attempts_remaining=retries)\n",
      "           ^^^^^^^^^^^^^^^^^^^^^^^^^^^^^^^^^^^^^^^^^^^^^^^^^^^^^^^^^\n",
      "  File \"D:\\Master_Openclassroom\\python\\Lib\\site-packages\\mlflow\\store\\tracking\\file_store.py\", line 1360, in _read_helper\n",
      "    result = read_yaml(root, file_name)\n",
      "             ^^^^^^^^^^^^^^^^^^^^^^^^^^\n",
      "  File \"D:\\Master_Openclassroom\\python\\Lib\\site-packages\\mlflow\\utils\\file_utils.py\", line 309, in read_yaml\n",
      "    raise MissingConfigException(f\"Yaml file '{file_path}' does not exist.\")\n",
      "mlflow.exceptions.MissingConfigException: Yaml file 'D:\\Master_Openclassroom\\Github\\projet7-op\\notebooks\\modèle_avancé\\mlruns\\matrice\\meta.yaml' does not exist.\n"
     ]
    },
    {
     "name": "stdout",
     "output_type": "stream",
     "text": [
      "Epoch 1/20\n",
      "200/200 [==============================] - 9s 40ms/step - loss: 0.6794 - accuracy: 0.6051 - val_loss: 0.6663 - val_accuracy: 0.7041 - lr: 0.0010\n",
      "Epoch 2/20\n",
      "200/200 [==============================] - 7s 37ms/step - loss: 0.5558 - accuracy: 0.7170 - val_loss: 0.6172 - val_accuracy: 0.7216 - lr: 0.0010\n",
      "Epoch 3/20\n",
      "200/200 [==============================] - 8s 38ms/step - loss: 0.5073 - accuracy: 0.7509 - val_loss: 0.5256 - val_accuracy: 0.7422 - lr: 0.0010\n",
      "Epoch 4/20\n",
      "200/200 [==============================] - 7s 37ms/step - loss: 0.4672 - accuracy: 0.7798 - val_loss: 0.5255 - val_accuracy: 0.7391 - lr: 0.0010\n",
      "Epoch 5/20\n",
      "200/200 [==============================] - 8s 38ms/step - loss: 0.4308 - accuracy: 0.8023 - val_loss: 0.5443 - val_accuracy: 0.7347 - lr: 0.0010\n",
      "Epoch 6/20\n",
      "200/200 [==============================] - 7s 37ms/step - loss: 0.3922 - accuracy: 0.8224 - val_loss: 0.5694 - val_accuracy: 0.7381 - lr: 0.0010\n",
      "Epoch 7/20\n",
      "200/200 [==============================] - 8s 38ms/step - loss: 0.3005 - accuracy: 0.8712 - val_loss: 0.6394 - val_accuracy: 0.7281 - lr: 2.0000e-04\n",
      "Epoch 8/20\n",
      "200/200 [==============================] - 7s 37ms/step - loss: 0.2560 - accuracy: 0.8929 - val_loss: 0.6818 - val_accuracy: 0.7344 - lr: 2.0000e-04\n",
      "100/100 [==============================] - 1s 8ms/step\n",
      "100/100 [==============================] - 1s 8ms/step\n"
     ]
    },
    {
     "name": "stderr",
     "output_type": "stream",
     "text": [
      "2024/10/12 06:12:32 WARNING mlflow.tensorflow: You are saving a TensorFlow Core model or Keras model without a signature. Inference with mlflow.pyfunc.spark_udf() will not work unless the model's pyfunc representation accepts pandas DataFrames as inference inputs.\n",
      "WARNING:absl:Found untraced functions such as _jit_compiled_convolution_op, _update_step_xla while saving (showing 2 of 2). These functions will not be directly callable after loading.\n"
     ]
    },
    {
     "name": "stdout",
     "output_type": "stream",
     "text": [
      "INFO:tensorflow:Assets written to: C:\\Users\\trist\\AppData\\Local\\Temp\\tmprr29g4_n\\model\\data\\model\\assets\n"
     ]
    },
    {
     "name": "stderr",
     "output_type": "stream",
     "text": [
      "INFO:tensorflow:Assets written to: C:\\Users\\trist\\AppData\\Local\\Temp\\tmprr29g4_n\\model\\data\\model\\assets\n",
      "2024/10/12 06:12:40 WARNING mlflow.models.model: Model logged without a signature and input example. Please set `input_example` parameter when logging the model to auto infer the model signature.\n"
     ]
    },
    {
     "name": "stdout",
     "output_type": "stream",
     "text": [
      "Epoch 1/20\n",
      "200/200 [==============================] - 18s 86ms/step - loss: 0.6827 - accuracy: 0.6171 - val_loss: 0.6650 - val_accuracy: 0.7106 - lr: 0.0010\n",
      "Epoch 2/20\n",
      "200/200 [==============================] - 17s 85ms/step - loss: 0.5527 - accuracy: 0.7173 - val_loss: 0.6208 - val_accuracy: 0.6844 - lr: 0.0010\n",
      "Epoch 3/20\n",
      "200/200 [==============================] - 17s 84ms/step - loss: 0.4930 - accuracy: 0.7605 - val_loss: 0.5319 - val_accuracy: 0.7444 - lr: 0.0010\n",
      "Epoch 4/20\n",
      "200/200 [==============================] - 17s 84ms/step - loss: 0.4504 - accuracy: 0.7913 - val_loss: 0.5272 - val_accuracy: 0.7350 - lr: 0.0010\n",
      "Epoch 5/20\n",
      "200/200 [==============================] - 17s 84ms/step - loss: 0.4049 - accuracy: 0.8146 - val_loss: 0.5660 - val_accuracy: 0.7259 - lr: 0.0010\n",
      "Epoch 6/20\n",
      "200/200 [==============================] - 17s 84ms/step - loss: 0.3571 - accuracy: 0.8413 - val_loss: 0.5867 - val_accuracy: 0.7328 - lr: 0.0010\n",
      "Epoch 7/20\n",
      "200/200 [==============================] - 17s 84ms/step - loss: 0.2375 - accuracy: 0.9003 - val_loss: 0.7050 - val_accuracy: 0.7403 - lr: 2.0000e-04\n",
      "Epoch 8/20\n",
      "200/200 [==============================] - 17s 84ms/step - loss: 0.1877 - accuracy: 0.9251 - val_loss: 0.7415 - val_accuracy: 0.7369 - lr: 2.0000e-04\n",
      "100/100 [==============================] - 2s 15ms/step\n",
      "100/100 [==============================] - 1s 15ms/step\n"
     ]
    },
    {
     "name": "stderr",
     "output_type": "stream",
     "text": [
      "2024/10/12 06:15:00 WARNING mlflow.tensorflow: You are saving a TensorFlow Core model or Keras model without a signature. Inference with mlflow.pyfunc.spark_udf() will not work unless the model's pyfunc representation accepts pandas DataFrames as inference inputs.\n",
      "WARNING:absl:Found untraced functions such as _jit_compiled_convolution_op, _update_step_xla while saving (showing 2 of 2). These functions will not be directly callable after loading.\n"
     ]
    },
    {
     "name": "stdout",
     "output_type": "stream",
     "text": [
      "INFO:tensorflow:Assets written to: C:\\Users\\trist\\AppData\\Local\\Temp\\tmpgmyzisdt\\model\\data\\model\\assets\n"
     ]
    },
    {
     "name": "stderr",
     "output_type": "stream",
     "text": [
      "INFO:tensorflow:Assets written to: C:\\Users\\trist\\AppData\\Local\\Temp\\tmpgmyzisdt\\model\\data\\model\\assets\n",
      "2024/10/12 06:15:07 WARNING mlflow.models.model: Model logged without a signature and input example. Please set `input_example` parameter when logging the model to auto infer the model signature.\n"
     ]
    },
    {
     "name": "stdout",
     "output_type": "stream",
     "text": [
      "Epoch 1/20\n",
      "200/200 [==============================] - 30s 146ms/step - loss: 0.6656 - accuracy: 0.6163 - val_loss: 0.6644 - val_accuracy: 0.6700 - lr: 0.0010\n",
      "Epoch 2/20\n",
      "200/200 [==============================] - 29s 145ms/step - loss: 0.5475 - accuracy: 0.7273 - val_loss: 0.5972 - val_accuracy: 0.7422 - lr: 0.0010\n",
      "Epoch 3/20\n",
      "200/200 [==============================] - 29s 145ms/step - loss: 0.4926 - accuracy: 0.7627 - val_loss: 0.5428 - val_accuracy: 0.7237 - lr: 0.0010\n",
      "Epoch 4/20\n",
      "200/200 [==============================] - 29s 145ms/step - loss: 0.4428 - accuracy: 0.7941 - val_loss: 0.5411 - val_accuracy: 0.7375 - lr: 0.0010\n",
      "Epoch 5/20\n",
      "200/200 [==============================] - 29s 145ms/step - loss: 0.3862 - accuracy: 0.8277 - val_loss: 0.5436 - val_accuracy: 0.7234 - lr: 0.0010\n",
      "Epoch 6/20\n",
      "200/200 [==============================] - 29s 144ms/step - loss: 0.3221 - accuracy: 0.8584 - val_loss: 0.5605 - val_accuracy: 0.7309 - lr: 0.0010\n",
      "Epoch 7/20\n",
      "200/200 [==============================] - 29s 144ms/step - loss: 0.2037 - accuracy: 0.9176 - val_loss: 0.7328 - val_accuracy: 0.7344 - lr: 2.0000e-04\n",
      "Epoch 8/20\n",
      "200/200 [==============================] - 29s 144ms/step - loss: 0.1403 - accuracy: 0.9459 - val_loss: 0.8939 - val_accuracy: 0.7372 - lr: 2.0000e-04\n",
      "100/100 [==============================] - 3s 27ms/step\n",
      "100/100 [==============================] - 3s 27ms/step\n"
     ]
    },
    {
     "name": "stderr",
     "output_type": "stream",
     "text": [
      "2024/10/12 06:19:06 WARNING mlflow.tensorflow: You are saving a TensorFlow Core model or Keras model without a signature. Inference with mlflow.pyfunc.spark_udf() will not work unless the model's pyfunc representation accepts pandas DataFrames as inference inputs.\n",
      "WARNING:absl:Found untraced functions such as _jit_compiled_convolution_op, _update_step_xla while saving (showing 2 of 2). These functions will not be directly callable after loading.\n"
     ]
    },
    {
     "name": "stdout",
     "output_type": "stream",
     "text": [
      "INFO:tensorflow:Assets written to: C:\\Users\\trist\\AppData\\Local\\Temp\\tmpowk5s3kx\\model\\data\\model\\assets\n"
     ]
    },
    {
     "name": "stderr",
     "output_type": "stream",
     "text": [
      "INFO:tensorflow:Assets written to: C:\\Users\\trist\\AppData\\Local\\Temp\\tmpowk5s3kx\\model\\data\\model\\assets\n",
      "2024/10/12 06:19:18 WARNING mlflow.models.model: Model logged without a signature and input example. Please set `input_example` parameter when logging the model to auto infer the model signature.\n"
     ]
    },
    {
     "name": "stdout",
     "output_type": "stream",
     "text": [
      "Epoch 1/20\n",
      "200/200 [==============================] - 15s 72ms/step - loss: 0.7005 - accuracy: 0.5968 - val_loss: 0.6706 - val_accuracy: 0.6881 - lr: 0.0010\n",
      "Epoch 2/20\n",
      "200/200 [==============================] - 14s 71ms/step - loss: 0.5608 - accuracy: 0.7130 - val_loss: 0.6172 - val_accuracy: 0.7300 - lr: 0.0010\n",
      "Epoch 3/20\n",
      "200/200 [==============================] - 14s 71ms/step - loss: 0.5021 - accuracy: 0.7566 - val_loss: 0.5423 - val_accuracy: 0.7306 - lr: 0.0010\n",
      "Epoch 4/20\n",
      "200/200 [==============================] - 14s 71ms/step - loss: 0.4560 - accuracy: 0.7855 - val_loss: 0.5446 - val_accuracy: 0.7222 - lr: 0.0010\n",
      "Epoch 5/20\n",
      "200/200 [==============================] - 14s 71ms/step - loss: 0.4082 - accuracy: 0.8159 - val_loss: 0.5864 - val_accuracy: 0.7281 - lr: 0.0010\n",
      "Epoch 6/20\n",
      "200/200 [==============================] - 14s 71ms/step - loss: 0.3001 - accuracy: 0.8710 - val_loss: 0.6432 - val_accuracy: 0.7334 - lr: 2.0000e-04\n",
      "Epoch 7/20\n",
      "200/200 [==============================] - 14s 71ms/step - loss: 0.2454 - accuracy: 0.9001 - val_loss: 0.7039 - val_accuracy: 0.7356 - lr: 2.0000e-04\n",
      "100/100 [==============================] - 2s 15ms/step\n",
      "100/100 [==============================] - 2s 15ms/step\n"
     ]
    },
    {
     "name": "stderr",
     "output_type": "stream",
     "text": [
      "2024/10/12 06:21:03 WARNING mlflow.tensorflow: You are saving a TensorFlow Core model or Keras model without a signature. Inference with mlflow.pyfunc.spark_udf() will not work unless the model's pyfunc representation accepts pandas DataFrames as inference inputs.\n",
      "WARNING:absl:Found untraced functions such as _jit_compiled_convolution_op, _update_step_xla while saving (showing 2 of 2). These functions will not be directly callable after loading.\n"
     ]
    },
    {
     "name": "stdout",
     "output_type": "stream",
     "text": [
      "INFO:tensorflow:Assets written to: C:\\Users\\trist\\AppData\\Local\\Temp\\tmp20dki5q9\\model\\data\\model\\assets\n"
     ]
    },
    {
     "name": "stderr",
     "output_type": "stream",
     "text": [
      "INFO:tensorflow:Assets written to: C:\\Users\\trist\\AppData\\Local\\Temp\\tmp20dki5q9\\model\\data\\model\\assets\n",
      "2024/10/12 06:21:10 WARNING mlflow.models.model: Model logged without a signature and input example. Please set `input_example` parameter when logging the model to auto infer the model signature.\n"
     ]
    },
    {
     "name": "stdout",
     "output_type": "stream",
     "text": [
      "Epoch 1/20\n",
      "200/200 [==============================] - 22s 103ms/step - loss: 0.6721 - accuracy: 0.6118 - val_loss: 0.6710 - val_accuracy: 0.6784 - lr: 0.0010\n",
      "Epoch 2/20\n",
      "200/200 [==============================] - 20s 102ms/step - loss: 0.5567 - accuracy: 0.7135 - val_loss: 0.6186 - val_accuracy: 0.6709 - lr: 0.0010\n",
      "Epoch 3/20\n",
      "200/200 [==============================] - 20s 102ms/step - loss: 0.4866 - accuracy: 0.7686 - val_loss: 0.5287 - val_accuracy: 0.7375 - lr: 0.0010\n",
      "Epoch 4/20\n",
      "200/200 [==============================] - 20s 102ms/step - loss: 0.4260 - accuracy: 0.8034 - val_loss: 0.5822 - val_accuracy: 0.7219 - lr: 0.0010\n",
      "Epoch 5/20\n",
      "200/200 [==============================] - 20s 102ms/step - loss: 0.3729 - accuracy: 0.8294 - val_loss: 0.5679 - val_accuracy: 0.7272 - lr: 0.0010\n",
      "Epoch 6/20\n",
      "200/200 [==============================] - 21s 106ms/step - loss: 0.2531 - accuracy: 0.8957 - val_loss: 0.6707 - val_accuracy: 0.7328 - lr: 2.0000e-04\n",
      "Epoch 7/20\n",
      "200/200 [==============================] - 21s 105ms/step - loss: 0.1853 - accuracy: 0.9250 - val_loss: 0.7619 - val_accuracy: 0.7309 - lr: 2.0000e-04\n",
      "100/100 [==============================] - 2s 21ms/step\n",
      "100/100 [==============================] - 2s 21ms/step\n"
     ]
    },
    {
     "name": "stderr",
     "output_type": "stream",
     "text": [
      "2024/10/12 06:23:41 WARNING mlflow.tensorflow: You are saving a TensorFlow Core model or Keras model without a signature. Inference with mlflow.pyfunc.spark_udf() will not work unless the model's pyfunc representation accepts pandas DataFrames as inference inputs.\n",
      "WARNING:absl:Found untraced functions such as _jit_compiled_convolution_op, _update_step_xla while saving (showing 2 of 2). These functions will not be directly callable after loading.\n"
     ]
    },
    {
     "name": "stdout",
     "output_type": "stream",
     "text": [
      "INFO:tensorflow:Assets written to: C:\\Users\\trist\\AppData\\Local\\Temp\\tmpg0nv3ixe\\model\\data\\model\\assets\n"
     ]
    },
    {
     "name": "stderr",
     "output_type": "stream",
     "text": [
      "INFO:tensorflow:Assets written to: C:\\Users\\trist\\AppData\\Local\\Temp\\tmpg0nv3ixe\\model\\data\\model\\assets\n",
      "2024/10/12 06:23:48 WARNING mlflow.models.model: Model logged without a signature and input example. Please set `input_example` parameter when logging the model to auto infer the model signature.\n"
     ]
    },
    {
     "name": "stdout",
     "output_type": "stream",
     "text": [
      "Epoch 1/20\n",
      "200/200 [==============================] - 39s 191ms/step - loss: 0.6813 - accuracy: 0.6198 - val_loss: 0.6773 - val_accuracy: 0.6372 - lr: 0.0010\n",
      "Epoch 2/20\n",
      "200/200 [==============================] - 37s 184ms/step - loss: 0.5477 - accuracy: 0.7208 - val_loss: 0.6029 - val_accuracy: 0.7131 - lr: 0.0010\n",
      "Epoch 3/20\n",
      "200/200 [==============================] - 37s 185ms/step - loss: 0.4872 - accuracy: 0.7670 - val_loss: 0.5415 - val_accuracy: 0.7328 - lr: 0.0010\n",
      "Epoch 4/20\n",
      "200/200 [==============================] - 37s 186ms/step - loss: 0.4206 - accuracy: 0.8081 - val_loss: 0.5549 - val_accuracy: 0.7184 - lr: 0.0010\n",
      "Epoch 5/20\n",
      "200/200 [==============================] - 37s 185ms/step - loss: 0.3604 - accuracy: 0.8355 - val_loss: 0.6032 - val_accuracy: 0.7206 - lr: 0.0010\n",
      "Epoch 6/20\n",
      "200/200 [==============================] - 36s 182ms/step - loss: 0.2252 - accuracy: 0.9099 - val_loss: 0.6820 - val_accuracy: 0.7309 - lr: 2.0000e-04\n",
      "Epoch 7/20\n",
      "200/200 [==============================] - 37s 184ms/step - loss: 0.1671 - accuracy: 0.9329 - val_loss: 0.7677 - val_accuracy: 0.7306 - lr: 2.0000e-04\n",
      "100/100 [==============================] - 4s 36ms/step\n",
      "100/100 [==============================] - 4s 36ms/step\n"
     ]
    },
    {
     "name": "stderr",
     "output_type": "stream",
     "text": [
      "2024/10/12 06:28:17 WARNING mlflow.tensorflow: You are saving a TensorFlow Core model or Keras model without a signature. Inference with mlflow.pyfunc.spark_udf() will not work unless the model's pyfunc representation accepts pandas DataFrames as inference inputs.\n",
      "WARNING:absl:Found untraced functions such as _jit_compiled_convolution_op, _update_step_xla while saving (showing 2 of 2). These functions will not be directly callable after loading.\n"
     ]
    },
    {
     "name": "stdout",
     "output_type": "stream",
     "text": [
      "INFO:tensorflow:Assets written to: C:\\Users\\trist\\AppData\\Local\\Temp\\tmp480ztj5h\\model\\data\\model\\assets\n"
     ]
    },
    {
     "name": "stderr",
     "output_type": "stream",
     "text": [
      "INFO:tensorflow:Assets written to: C:\\Users\\trist\\AppData\\Local\\Temp\\tmp480ztj5h\\model\\data\\model\\assets\n",
      "2024/10/12 06:28:25 WARNING mlflow.models.model: Model logged without a signature and input example. Please set `input_example` parameter when logging the model to auto infer the model signature.\n"
     ]
    },
    {
     "name": "stdout",
     "output_type": "stream",
     "text": [
      "Epoch 1/20\n",
      "200/200 [==============================] - 11s 52ms/step - loss: 0.7390 - accuracy: 0.5527 - val_loss: 0.6848 - val_accuracy: 0.5850 - lr: 0.0010\n",
      "Epoch 2/20\n",
      "200/200 [==============================] - 10s 52ms/step - loss: 0.6176 - accuracy: 0.6605 - val_loss: 0.6381 - val_accuracy: 0.7269 - lr: 0.0010\n",
      "Epoch 3/20\n",
      "200/200 [==============================] - 10s 52ms/step - loss: 0.5517 - accuracy: 0.7229 - val_loss: 0.5685 - val_accuracy: 0.7134 - lr: 0.0010\n",
      "Epoch 4/20\n",
      "200/200 [==============================] - 10s 51ms/step - loss: 0.5211 - accuracy: 0.7446 - val_loss: 0.5581 - val_accuracy: 0.7147 - lr: 0.0010\n",
      "Epoch 5/20\n",
      "200/200 [==============================] - 11s 53ms/step - loss: 0.4855 - accuracy: 0.7670 - val_loss: 0.5226 - val_accuracy: 0.7509 - lr: 0.0010\n",
      "Epoch 6/20\n",
      "200/200 [==============================] - 11s 53ms/step - loss: 0.4671 - accuracy: 0.7778 - val_loss: 0.5306 - val_accuracy: 0.7322 - lr: 0.0010\n",
      "Epoch 7/20\n",
      "200/200 [==============================] - 11s 53ms/step - loss: 0.4316 - accuracy: 0.8045 - val_loss: 0.5289 - val_accuracy: 0.7400 - lr: 0.0010\n",
      "Epoch 8/20\n",
      "200/200 [==============================] - 11s 53ms/step - loss: 0.3650 - accuracy: 0.8420 - val_loss: 0.5514 - val_accuracy: 0.7409 - lr: 2.0000e-04\n",
      "Epoch 9/20\n",
      "200/200 [==============================] - 10s 52ms/step - loss: 0.3354 - accuracy: 0.8568 - val_loss: 0.5850 - val_accuracy: 0.7400 - lr: 2.0000e-04\n",
      "100/100 [==============================] - 1s 10ms/step\n",
      "100/100 [==============================] - 1s 10ms/step\n"
     ]
    },
    {
     "name": "stderr",
     "output_type": "stream",
     "text": [
      "2024/10/12 06:30:03 WARNING mlflow.tensorflow: You are saving a TensorFlow Core model or Keras model without a signature. Inference with mlflow.pyfunc.spark_udf() will not work unless the model's pyfunc representation accepts pandas DataFrames as inference inputs.\n",
      "WARNING:absl:Found untraced functions such as _jit_compiled_convolution_op, _update_step_xla while saving (showing 2 of 2). These functions will not be directly callable after loading.\n"
     ]
    },
    {
     "name": "stdout",
     "output_type": "stream",
     "text": [
      "INFO:tensorflow:Assets written to: C:\\Users\\trist\\AppData\\Local\\Temp\\tmphpv6q0pd\\model\\data\\model\\assets\n"
     ]
    },
    {
     "name": "stderr",
     "output_type": "stream",
     "text": [
      "INFO:tensorflow:Assets written to: C:\\Users\\trist\\AppData\\Local\\Temp\\tmphpv6q0pd\\model\\data\\model\\assets\n",
      "2024/10/12 06:30:10 WARNING mlflow.models.model: Model logged without a signature and input example. Please set `input_example` parameter when logging the model to auto infer the model signature.\n"
     ]
    },
    {
     "name": "stdout",
     "output_type": "stream",
     "text": [
      "Epoch 1/20\n",
      "200/200 [==============================] - 16s 76ms/step - loss: 0.7718 - accuracy: 0.5519 - val_loss: 0.6868 - val_accuracy: 0.5763 - lr: 0.0010\n",
      "Epoch 2/20\n",
      "200/200 [==============================] - 15s 74ms/step - loss: 0.6361 - accuracy: 0.6370 - val_loss: 0.6523 - val_accuracy: 0.6869 - lr: 0.0010\n",
      "Epoch 3/20\n",
      "200/200 [==============================] - 15s 75ms/step - loss: 0.5764 - accuracy: 0.6999 - val_loss: 0.5617 - val_accuracy: 0.7362 - lr: 0.0010\n",
      "Epoch 4/20\n",
      "200/200 [==============================] - 15s 75ms/step - loss: 0.5333 - accuracy: 0.7312 - val_loss: 0.5283 - val_accuracy: 0.7422 - lr: 0.0010\n",
      "Epoch 5/20\n",
      "200/200 [==============================] - 15s 74ms/step - loss: 0.5003 - accuracy: 0.7578 - val_loss: 0.5203 - val_accuracy: 0.7534 - lr: 0.0010\n",
      "Epoch 6/20\n",
      "200/200 [==============================] - 15s 74ms/step - loss: 0.4826 - accuracy: 0.7722 - val_loss: 0.5146 - val_accuracy: 0.7366 - lr: 0.0010\n",
      "Epoch 7/20\n",
      "200/200 [==============================] - 15s 74ms/step - loss: 0.4473 - accuracy: 0.7889 - val_loss: 0.5275 - val_accuracy: 0.7281 - lr: 0.0010\n",
      "Epoch 8/20\n",
      "200/200 [==============================] - 15s 75ms/step - loss: 0.4234 - accuracy: 0.8039 - val_loss: 0.5238 - val_accuracy: 0.7416 - lr: 0.0010\n",
      "Epoch 9/20\n",
      "200/200 [==============================] - 15s 75ms/step - loss: 0.3534 - accuracy: 0.8467 - val_loss: 0.5418 - val_accuracy: 0.7547 - lr: 2.0000e-04\n",
      "Epoch 10/20\n",
      "200/200 [==============================] - 15s 75ms/step - loss: 0.3169 - accuracy: 0.8627 - val_loss: 0.5626 - val_accuracy: 0.7462 - lr: 2.0000e-04\n",
      "100/100 [==============================] - 1s 14ms/step\n",
      "100/100 [==============================] - 1s 13ms/step\n"
     ]
    },
    {
     "name": "stderr",
     "output_type": "stream",
     "text": [
      "2024/10/12 06:32:45 WARNING mlflow.tensorflow: You are saving a TensorFlow Core model or Keras model without a signature. Inference with mlflow.pyfunc.spark_udf() will not work unless the model's pyfunc representation accepts pandas DataFrames as inference inputs.\n",
      "WARNING:absl:Found untraced functions such as _jit_compiled_convolution_op, _update_step_xla while saving (showing 2 of 2). These functions will not be directly callable after loading.\n"
     ]
    },
    {
     "name": "stdout",
     "output_type": "stream",
     "text": [
      "INFO:tensorflow:Assets written to: C:\\Users\\trist\\AppData\\Local\\Temp\\tmpbdgduumj\\model\\data\\model\\assets\n"
     ]
    },
    {
     "name": "stderr",
     "output_type": "stream",
     "text": [
      "INFO:tensorflow:Assets written to: C:\\Users\\trist\\AppData\\Local\\Temp\\tmpbdgduumj\\model\\data\\model\\assets\n",
      "2024/10/12 06:32:53 WARNING mlflow.models.model: Model logged without a signature and input example. Please set `input_example` parameter when logging the model to auto infer the model signature.\n"
     ]
    },
    {
     "name": "stdout",
     "output_type": "stream",
     "text": [
      "Epoch 1/20\n",
      "200/200 [==============================] - 28s 136ms/step - loss: 0.7305 - accuracy: 0.5383 - val_loss: 0.6905 - val_accuracy: 0.5297 - lr: 0.0010\n",
      "Epoch 2/20\n",
      "200/200 [==============================] - 27s 136ms/step - loss: 0.6672 - accuracy: 0.5927 - val_loss: 0.6656 - val_accuracy: 0.6450 - lr: 0.0010\n",
      "Epoch 3/20\n",
      "200/200 [==============================] - 27s 135ms/step - loss: 0.6221 - accuracy: 0.6613 - val_loss: 0.6013 - val_accuracy: 0.6991 - lr: 0.0010\n",
      "Epoch 4/20\n",
      "200/200 [==============================] - 27s 136ms/step - loss: 0.5806 - accuracy: 0.7031 - val_loss: 0.5609 - val_accuracy: 0.7297 - lr: 0.0010\n",
      "Epoch 5/20\n",
      "200/200 [==============================] - 27s 135ms/step - loss: 0.5464 - accuracy: 0.7331 - val_loss: 0.5473 - val_accuracy: 0.7278 - lr: 0.0010\n",
      "Epoch 6/20\n",
      "200/200 [==============================] - 27s 137ms/step - loss: 0.5134 - accuracy: 0.7574 - val_loss: 0.5292 - val_accuracy: 0.7409 - lr: 0.0010\n",
      "Epoch 7/20\n",
      "200/200 [==============================] - 27s 135ms/step - loss: 0.4838 - accuracy: 0.7780 - val_loss: 0.5106 - val_accuracy: 0.7525 - lr: 0.0010\n",
      "Epoch 8/20\n",
      "200/200 [==============================] - 27s 136ms/step - loss: 0.4459 - accuracy: 0.8026 - val_loss: 0.5188 - val_accuracy: 0.7484 - lr: 0.0010\n",
      "Epoch 9/20\n",
      "200/200 [==============================] - 27s 136ms/step - loss: 0.4150 - accuracy: 0.8189 - val_loss: 0.5294 - val_accuracy: 0.7487 - lr: 0.0010\n",
      "Epoch 10/20\n",
      "200/200 [==============================] - 27s 136ms/step - loss: 0.3438 - accuracy: 0.8553 - val_loss: 0.5361 - val_accuracy: 0.7572 - lr: 2.0000e-04\n",
      "Epoch 11/20\n",
      "200/200 [==============================] - 27s 136ms/step - loss: 0.3018 - accuracy: 0.8805 - val_loss: 0.6255 - val_accuracy: 0.7459 - lr: 2.0000e-04\n",
      "100/100 [==============================] - 3s 25ms/step\n",
      "100/100 [==============================] - 3s 27ms/step\n"
     ]
    },
    {
     "name": "stderr",
     "output_type": "stream",
     "text": [
      "2024/10/12 06:37:59 WARNING mlflow.tensorflow: You are saving a TensorFlow Core model or Keras model without a signature. Inference with mlflow.pyfunc.spark_udf() will not work unless the model's pyfunc representation accepts pandas DataFrames as inference inputs.\n",
      "WARNING:absl:Found untraced functions such as _jit_compiled_convolution_op, _update_step_xla while saving (showing 2 of 2). These functions will not be directly callable after loading.\n"
     ]
    },
    {
     "name": "stdout",
     "output_type": "stream",
     "text": [
      "INFO:tensorflow:Assets written to: C:\\Users\\trist\\AppData\\Local\\Temp\\tmpqt_vldr7\\model\\data\\model\\assets\n"
     ]
    },
    {
     "name": "stderr",
     "output_type": "stream",
     "text": [
      "INFO:tensorflow:Assets written to: C:\\Users\\trist\\AppData\\Local\\Temp\\tmpqt_vldr7\\model\\data\\model\\assets\n",
      "2024/10/12 06:38:07 WARNING mlflow.models.model: Model logged without a signature and input example. Please set `input_example` parameter when logging the model to auto infer the model signature.\n"
     ]
    },
    {
     "name": "stdout",
     "output_type": "stream",
     "text": [
      "Epoch 1/20\n",
      "200/200 [==============================] - 15s 68ms/step - loss: 0.7565 - accuracy: 0.5455 - val_loss: 0.6871 - val_accuracy: 0.5756 - lr: 0.0010\n",
      "Epoch 2/20\n",
      "200/200 [==============================] - 13s 67ms/step - loss: 0.6276 - accuracy: 0.6505 - val_loss: 0.6446 - val_accuracy: 0.7038 - lr: 0.0010\n",
      "Epoch 3/20\n",
      "200/200 [==============================] - 13s 65ms/step - loss: 0.5678 - accuracy: 0.7101 - val_loss: 0.5740 - val_accuracy: 0.7209 - lr: 0.0010\n",
      "Epoch 4/20\n",
      "200/200 [==============================] - 13s 65ms/step - loss: 0.5213 - accuracy: 0.7500 - val_loss: 0.5358 - val_accuracy: 0.7294 - lr: 0.0010\n",
      "Epoch 5/20\n",
      "200/200 [==============================] - 13s 64ms/step - loss: 0.4832 - accuracy: 0.7711 - val_loss: 0.5259 - val_accuracy: 0.7409 - lr: 0.0010\n",
      "Epoch 6/20\n",
      "200/200 [==============================] - 13s 65ms/step - loss: 0.4527 - accuracy: 0.7926 - val_loss: 0.5385 - val_accuracy: 0.7334 - lr: 0.0010\n",
      "Epoch 7/20\n",
      "200/200 [==============================] - 13s 64ms/step - loss: 0.4247 - accuracy: 0.8087 - val_loss: 0.5577 - val_accuracy: 0.7197 - lr: 0.0010\n",
      "Epoch 8/20\n",
      "200/200 [==============================] - 13s 64ms/step - loss: 0.3443 - accuracy: 0.8518 - val_loss: 0.5842 - val_accuracy: 0.7309 - lr: 2.0000e-04\n",
      "Epoch 9/20\n",
      "200/200 [==============================] - 13s 64ms/step - loss: 0.3077 - accuracy: 0.8712 - val_loss: 0.6158 - val_accuracy: 0.7306 - lr: 2.0000e-04\n",
      "100/100 [==============================] - 1s 13ms/step\n",
      "100/100 [==============================] - 1s 13ms/step\n"
     ]
    },
    {
     "name": "stderr",
     "output_type": "stream",
     "text": [
      "2024/10/12 06:40:09 WARNING mlflow.tensorflow: You are saving a TensorFlow Core model or Keras model without a signature. Inference with mlflow.pyfunc.spark_udf() will not work unless the model's pyfunc representation accepts pandas DataFrames as inference inputs.\n",
      "WARNING:absl:Found untraced functions such as _jit_compiled_convolution_op, _update_step_xla while saving (showing 2 of 2). These functions will not be directly callable after loading.\n"
     ]
    },
    {
     "name": "stdout",
     "output_type": "stream",
     "text": [
      "INFO:tensorflow:Assets written to: C:\\Users\\trist\\AppData\\Local\\Temp\\tmpwge9z9zm\\model\\data\\model\\assets\n"
     ]
    },
    {
     "name": "stderr",
     "output_type": "stream",
     "text": [
      "INFO:tensorflow:Assets written to: C:\\Users\\trist\\AppData\\Local\\Temp\\tmpwge9z9zm\\model\\data\\model\\assets\n",
      "2024/10/12 06:40:17 WARNING mlflow.models.model: Model logged without a signature and input example. Please set `input_example` parameter when logging the model to auto infer the model signature.\n"
     ]
    },
    {
     "name": "stdout",
     "output_type": "stream",
     "text": [
      "Epoch 1/20\n",
      "200/200 [==============================] - 20s 95ms/step - loss: 0.7507 - accuracy: 0.5452 - val_loss: 0.6840 - val_accuracy: 0.6237 - lr: 0.0010\n",
      "Epoch 2/20\n",
      "200/200 [==============================] - 19s 93ms/step - loss: 0.6352 - accuracy: 0.6363 - val_loss: 0.6376 - val_accuracy: 0.7109 - lr: 0.0010\n",
      "Epoch 3/20\n",
      "200/200 [==============================] - 19s 94ms/step - loss: 0.5808 - accuracy: 0.6996 - val_loss: 0.5780 - val_accuracy: 0.7147 - lr: 0.0010\n",
      "Epoch 4/20\n",
      "200/200 [==============================] - 19s 94ms/step - loss: 0.5400 - accuracy: 0.7293 - val_loss: 0.5246 - val_accuracy: 0.7416 - lr: 0.0010\n",
      "Epoch 5/20\n",
      "200/200 [==============================] - 19s 94ms/step - loss: 0.4955 - accuracy: 0.7666 - val_loss: 0.5463 - val_accuracy: 0.7309 - lr: 0.0010\n",
      "Epoch 6/20\n",
      "200/200 [==============================] - 19s 94ms/step - loss: 0.4532 - accuracy: 0.7935 - val_loss: 0.5810 - val_accuracy: 0.7013 - lr: 0.0010\n",
      "Epoch 7/20\n",
      "200/200 [==============================] - 19s 94ms/step - loss: 0.3716 - accuracy: 0.8351 - val_loss: 0.5422 - val_accuracy: 0.7378 - lr: 2.0000e-04\n",
      "Epoch 8/20\n",
      "200/200 [==============================] - 19s 94ms/step - loss: 0.3307 - accuracy: 0.8565 - val_loss: 0.5766 - val_accuracy: 0.7422 - lr: 2.0000e-04\n",
      "100/100 [==============================] - 2s 19ms/step\n",
      "100/100 [==============================] - 2s 19ms/step\n"
     ]
    },
    {
     "name": "stderr",
     "output_type": "stream",
     "text": [
      "2024/10/12 06:42:53 WARNING mlflow.tensorflow: You are saving a TensorFlow Core model or Keras model without a signature. Inference with mlflow.pyfunc.spark_udf() will not work unless the model's pyfunc representation accepts pandas DataFrames as inference inputs.\n",
      "WARNING:absl:Found untraced functions such as _jit_compiled_convolution_op, _update_step_xla while saving (showing 2 of 2). These functions will not be directly callable after loading.\n"
     ]
    },
    {
     "name": "stdout",
     "output_type": "stream",
     "text": [
      "INFO:tensorflow:Assets written to: C:\\Users\\trist\\AppData\\Local\\Temp\\tmprye21dyl\\model\\data\\model\\assets\n"
     ]
    },
    {
     "name": "stderr",
     "output_type": "stream",
     "text": [
      "INFO:tensorflow:Assets written to: C:\\Users\\trist\\AppData\\Local\\Temp\\tmprye21dyl\\model\\data\\model\\assets\n",
      "2024/10/12 06:43:00 WARNING mlflow.models.model: Model logged without a signature and input example. Please set `input_example` parameter when logging the model to auto infer the model signature.\n"
     ]
    },
    {
     "name": "stdout",
     "output_type": "stream",
     "text": [
      "Epoch 1/20\n",
      "200/200 [==============================] - 35s 171ms/step - loss: 0.7564 - accuracy: 0.5370 - val_loss: 0.6920 - val_accuracy: 0.5134 - lr: 0.0010\n",
      "Epoch 2/20\n",
      "200/200 [==============================] - 34s 169ms/step - loss: 0.6572 - accuracy: 0.6083 - val_loss: 0.6626 - val_accuracy: 0.6084 - lr: 0.0010\n",
      "Epoch 3/20\n",
      "200/200 [==============================] - 33s 167ms/step - loss: 0.6055 - accuracy: 0.6737 - val_loss: 0.6047 - val_accuracy: 0.6972 - lr: 0.0010\n",
      "Epoch 4/20\n",
      "200/200 [==============================] - 33s 163ms/step - loss: 0.5655 - accuracy: 0.7089 - val_loss: 0.5332 - val_accuracy: 0.7284 - lr: 0.0010\n",
      "Epoch 5/20\n",
      "200/200 [==============================] - 32s 161ms/step - loss: 0.5241 - accuracy: 0.7444 - val_loss: 0.5224 - val_accuracy: 0.7425 - lr: 0.0010\n",
      "Epoch 6/20\n",
      "200/200 [==============================] - 32s 161ms/step - loss: 0.4794 - accuracy: 0.7670 - val_loss: 0.5330 - val_accuracy: 0.7387 - lr: 0.0010\n",
      "Epoch 7/20\n",
      "200/200 [==============================] - 32s 159ms/step - loss: 0.4427 - accuracy: 0.7980 - val_loss: 0.5816 - val_accuracy: 0.7097 - lr: 0.0010\n",
      "Epoch 8/20\n",
      "200/200 [==============================] - 32s 162ms/step - loss: 0.3419 - accuracy: 0.8522 - val_loss: 0.5649 - val_accuracy: 0.7481 - lr: 2.0000e-04\n",
      "Epoch 9/20\n",
      "200/200 [==============================] - 33s 164ms/step - loss: 0.2883 - accuracy: 0.8796 - val_loss: 0.5988 - val_accuracy: 0.7453 - lr: 2.0000e-04\n",
      "100/100 [==============================] - 3s 33ms/step\n",
      "100/100 [==============================] - 3s 33ms/step\n"
     ]
    },
    {
     "name": "stderr",
     "output_type": "stream",
     "text": [
      "2024/10/12 06:48:04 WARNING mlflow.tensorflow: You are saving a TensorFlow Core model or Keras model without a signature. Inference with mlflow.pyfunc.spark_udf() will not work unless the model's pyfunc representation accepts pandas DataFrames as inference inputs.\n",
      "WARNING:absl:Found untraced functions such as _jit_compiled_convolution_op, _update_step_xla while saving (showing 2 of 2). These functions will not be directly callable after loading.\n"
     ]
    },
    {
     "name": "stdout",
     "output_type": "stream",
     "text": [
      "INFO:tensorflow:Assets written to: C:\\Users\\trist\\AppData\\Local\\Temp\\tmpxzs0izrg\\model\\data\\model\\assets\n"
     ]
    },
    {
     "name": "stderr",
     "output_type": "stream",
     "text": [
      "INFO:tensorflow:Assets written to: C:\\Users\\trist\\AppData\\Local\\Temp\\tmpxzs0izrg\\model\\data\\model\\assets\n",
      "2024/10/12 06:48:12 WARNING mlflow.models.model: Model logged without a signature and input example. Please set `input_example` parameter when logging the model to auto infer the model signature.\n"
     ]
    },
    {
     "name": "stdout",
     "output_type": "stream",
     "text": [
      "Epoch 1/20\n",
      "200/200 [==============================] - 10s 47ms/step - loss: 0.6682 - accuracy: 0.6162 - val_loss: 0.6628 - val_accuracy: 0.6384 - lr: 0.0010\n",
      "Epoch 2/20\n",
      "200/200 [==============================] - 10s 49ms/step - loss: 0.5446 - accuracy: 0.7234 - val_loss: 0.6007 - val_accuracy: 0.7331 - lr: 0.0010\n",
      "Epoch 3/20\n",
      "200/200 [==============================] - 9s 45ms/step - loss: 0.4936 - accuracy: 0.7586 - val_loss: 0.5317 - val_accuracy: 0.7403 - lr: 0.0010\n",
      "Epoch 4/20\n",
      "200/200 [==============================] - 9s 45ms/step - loss: 0.4559 - accuracy: 0.7872 - val_loss: 0.5159 - val_accuracy: 0.7513 - lr: 0.0010\n",
      "Epoch 5/20\n",
      "200/200 [==============================] - 9s 45ms/step - loss: 0.4194 - accuracy: 0.8055 - val_loss: 0.5410 - val_accuracy: 0.7341 - lr: 0.0010\n",
      "Epoch 6/20\n",
      "200/200 [==============================] - 9s 45ms/step - loss: 0.3812 - accuracy: 0.8243 - val_loss: 0.5611 - val_accuracy: 0.7372 - lr: 0.0010\n",
      "Epoch 7/20\n",
      "200/200 [==============================] - 9s 46ms/step - loss: 0.2779 - accuracy: 0.8819 - val_loss: 0.6348 - val_accuracy: 0.7331 - lr: 2.0000e-04\n",
      "Epoch 8/20\n",
      "200/200 [==============================] - 9s 45ms/step - loss: 0.2329 - accuracy: 0.9040 - val_loss: 0.7176 - val_accuracy: 0.7291 - lr: 2.0000e-04\n",
      "100/100 [==============================] - 1s 9ms/step\n",
      "100/100 [==============================] - 1s 9ms/step\n"
     ]
    },
    {
     "name": "stderr",
     "output_type": "stream",
     "text": [
      "2024/10/12 06:49:29 WARNING mlflow.tensorflow: You are saving a TensorFlow Core model or Keras model without a signature. Inference with mlflow.pyfunc.spark_udf() will not work unless the model's pyfunc representation accepts pandas DataFrames as inference inputs.\n",
      "WARNING:absl:Found untraced functions such as _jit_compiled_convolution_op, _update_step_xla while saving (showing 2 of 2). These functions will not be directly callable after loading.\n"
     ]
    },
    {
     "name": "stdout",
     "output_type": "stream",
     "text": [
      "INFO:tensorflow:Assets written to: C:\\Users\\trist\\AppData\\Local\\Temp\\tmpjd2c2iag\\model\\data\\model\\assets\n"
     ]
    },
    {
     "name": "stderr",
     "output_type": "stream",
     "text": [
      "INFO:tensorflow:Assets written to: C:\\Users\\trist\\AppData\\Local\\Temp\\tmpjd2c2iag\\model\\data\\model\\assets\n",
      "2024/10/12 06:49:36 WARNING mlflow.models.model: Model logged without a signature and input example. Please set `input_example` parameter when logging the model to auto infer the model signature.\n"
     ]
    },
    {
     "name": "stdout",
     "output_type": "stream",
     "text": [
      "Epoch 1/20\n",
      "200/200 [==============================] - 14s 67ms/step - loss: 0.6697 - accuracy: 0.6234 - val_loss: 0.6708 - val_accuracy: 0.6125 - lr: 0.0010\n",
      "Epoch 2/20\n",
      "200/200 [==============================] - 14s 69ms/step - loss: 0.5445 - accuracy: 0.7197 - val_loss: 0.6110 - val_accuracy: 0.7203 - lr: 0.0010\n",
      "Epoch 3/20\n",
      "200/200 [==============================] - 13s 66ms/step - loss: 0.4846 - accuracy: 0.7670 - val_loss: 0.5376 - val_accuracy: 0.7225 - lr: 0.0010\n",
      "Epoch 4/20\n",
      "200/200 [==============================] - 13s 65ms/step - loss: 0.4354 - accuracy: 0.7983 - val_loss: 0.5400 - val_accuracy: 0.7325 - lr: 0.0010\n",
      "Epoch 5/20\n",
      "200/200 [==============================] - 13s 65ms/step - loss: 0.3967 - accuracy: 0.8180 - val_loss: 0.5706 - val_accuracy: 0.7366 - lr: 0.0010\n",
      "Epoch 6/20\n",
      "200/200 [==============================] - 13s 65ms/step - loss: 0.2732 - accuracy: 0.8848 - val_loss: 0.6422 - val_accuracy: 0.7334 - lr: 2.0000e-04\n",
      "Epoch 7/20\n",
      "200/200 [==============================] - 13s 65ms/step - loss: 0.2123 - accuracy: 0.9149 - val_loss: 0.7330 - val_accuracy: 0.7353 - lr: 2.0000e-04\n",
      "100/100 [==============================] - 1s 12ms/step\n",
      "100/100 [==============================] - 1s 11ms/step\n"
     ]
    },
    {
     "name": "stderr",
     "output_type": "stream",
     "text": [
      "2024/10/12 06:51:12 WARNING mlflow.tensorflow: You are saving a TensorFlow Core model or Keras model without a signature. Inference with mlflow.pyfunc.spark_udf() will not work unless the model's pyfunc representation accepts pandas DataFrames as inference inputs.\n",
      "WARNING:absl:Found untraced functions such as _jit_compiled_convolution_op, _update_step_xla while saving (showing 2 of 2). These functions will not be directly callable after loading.\n"
     ]
    },
    {
     "name": "stdout",
     "output_type": "stream",
     "text": [
      "INFO:tensorflow:Assets written to: C:\\Users\\trist\\AppData\\Local\\Temp\\tmpawsda1pa\\model\\data\\model\\assets\n"
     ]
    },
    {
     "name": "stderr",
     "output_type": "stream",
     "text": [
      "INFO:tensorflow:Assets written to: C:\\Users\\trist\\AppData\\Local\\Temp\\tmpawsda1pa\\model\\data\\model\\assets\n",
      "2024/10/12 06:51:20 WARNING mlflow.models.model: Model logged without a signature and input example. Please set `input_example` parameter when logging the model to auto infer the model signature.\n"
     ]
    },
    {
     "name": "stdout",
     "output_type": "stream",
     "text": [
      "Epoch 1/20\n",
      "200/200 [==============================] - 25s 120ms/step - loss: 0.6813 - accuracy: 0.6136 - val_loss: 0.6691 - val_accuracy: 0.6878 - lr: 0.0010\n",
      "Epoch 2/20\n",
      "200/200 [==============================] - 24s 119ms/step - loss: 0.5530 - accuracy: 0.7158 - val_loss: 0.6385 - val_accuracy: 0.6525 - lr: 0.0010\n",
      "Epoch 3/20\n",
      "200/200 [==============================] - 24s 120ms/step - loss: 0.4964 - accuracy: 0.7580 - val_loss: 0.5760 - val_accuracy: 0.6809 - lr: 0.0010\n",
      "Epoch 4/20\n",
      "200/200 [==============================] - 24s 120ms/step - loss: 0.4498 - accuracy: 0.7856 - val_loss: 0.5171 - val_accuracy: 0.7375 - lr: 0.0010\n",
      "Epoch 5/20\n",
      "200/200 [==============================] - 24s 118ms/step - loss: 0.3968 - accuracy: 0.8159 - val_loss: 0.5766 - val_accuracy: 0.7269 - lr: 0.0010\n",
      "Epoch 6/20\n",
      "200/200 [==============================] - 24s 118ms/step - loss: 0.3450 - accuracy: 0.8429 - val_loss: 0.6671 - val_accuracy: 0.7163 - lr: 0.0010\n",
      "Epoch 7/20\n",
      "200/200 [==============================] - 24s 119ms/step - loss: 0.2096 - accuracy: 0.9128 - val_loss: 0.7619 - val_accuracy: 0.7491 - lr: 2.0000e-04\n",
      "Epoch 8/20\n",
      "200/200 [==============================] - 24s 118ms/step - loss: 0.1510 - accuracy: 0.9368 - val_loss: 0.8822 - val_accuracy: 0.7416 - lr: 2.0000e-04\n",
      "100/100 [==============================] - 2s 22ms/step\n",
      "100/100 [==============================] - 2s 22ms/step\n"
     ]
    },
    {
     "name": "stderr",
     "output_type": "stream",
     "text": [
      "2024/10/12 06:54:36 WARNING mlflow.tensorflow: You are saving a TensorFlow Core model or Keras model without a signature. Inference with mlflow.pyfunc.spark_udf() will not work unless the model's pyfunc representation accepts pandas DataFrames as inference inputs.\n",
      "WARNING:absl:Found untraced functions such as _jit_compiled_convolution_op, _update_step_xla while saving (showing 2 of 2). These functions will not be directly callable after loading.\n"
     ]
    },
    {
     "name": "stdout",
     "output_type": "stream",
     "text": [
      "INFO:tensorflow:Assets written to: C:\\Users\\trist\\AppData\\Local\\Temp\\tmpc_rqa3zi\\model\\data\\model\\assets\n"
     ]
    },
    {
     "name": "stderr",
     "output_type": "stream",
     "text": [
      "INFO:tensorflow:Assets written to: C:\\Users\\trist\\AppData\\Local\\Temp\\tmpc_rqa3zi\\model\\data\\model\\assets\n",
      "2024/10/12 06:54:43 WARNING mlflow.models.model: Model logged without a signature and input example. Please set `input_example` parameter when logging the model to auto infer the model signature.\n"
     ]
    },
    {
     "name": "stdout",
     "output_type": "stream",
     "text": [
      "Epoch 1/20\n",
      "200/200 [==============================] - 14s 60ms/step - loss: 0.6695 - accuracy: 0.6054 - val_loss: 0.6647 - val_accuracy: 0.6616 - lr: 0.0010\n",
      "Epoch 2/20\n",
      "200/200 [==============================] - 12s 59ms/step - loss: 0.5427 - accuracy: 0.7255 - val_loss: 0.5953 - val_accuracy: 0.7322 - lr: 0.0010\n",
      "Epoch 3/20\n",
      "200/200 [==============================] - 12s 59ms/step - loss: 0.4864 - accuracy: 0.7638 - val_loss: 0.5306 - val_accuracy: 0.7291 - lr: 0.0010\n",
      "Epoch 4/20\n",
      "200/200 [==============================] - 12s 59ms/step - loss: 0.4412 - accuracy: 0.7965 - val_loss: 0.5446 - val_accuracy: 0.7316 - lr: 0.0010\n",
      "Epoch 5/20\n",
      "200/200 [==============================] - 12s 59ms/step - loss: 0.3886 - accuracy: 0.8220 - val_loss: 0.5818 - val_accuracy: 0.7312 - lr: 0.0010\n",
      "Epoch 6/20\n",
      "200/200 [==============================] - 12s 59ms/step - loss: 0.2699 - accuracy: 0.8870 - val_loss: 0.6913 - val_accuracy: 0.7300 - lr: 2.0000e-04\n",
      "Epoch 7/20\n",
      "200/200 [==============================] - 12s 59ms/step - loss: 0.2128 - accuracy: 0.9106 - val_loss: 0.7664 - val_accuracy: 0.7212 - lr: 2.0000e-04\n",
      "100/100 [==============================] - 1s 12ms/step\n",
      "100/100 [==============================] - 1s 12ms/step\n"
     ]
    },
    {
     "name": "stderr",
     "output_type": "stream",
     "text": [
      "2024/10/12 06:56:10 WARNING mlflow.tensorflow: You are saving a TensorFlow Core model or Keras model without a signature. Inference with mlflow.pyfunc.spark_udf() will not work unless the model's pyfunc representation accepts pandas DataFrames as inference inputs.\n",
      "WARNING:absl:Found untraced functions such as _jit_compiled_convolution_op, _update_step_xla while saving (showing 2 of 2). These functions will not be directly callable after loading.\n"
     ]
    },
    {
     "name": "stdout",
     "output_type": "stream",
     "text": [
      "INFO:tensorflow:Assets written to: C:\\Users\\trist\\AppData\\Local\\Temp\\tmp7vh7cxbl\\model\\data\\model\\assets\n"
     ]
    },
    {
     "name": "stderr",
     "output_type": "stream",
     "text": [
      "INFO:tensorflow:Assets written to: C:\\Users\\trist\\AppData\\Local\\Temp\\tmp7vh7cxbl\\model\\data\\model\\assets\n",
      "2024/10/12 06:56:16 WARNING mlflow.models.model: Model logged without a signature and input example. Please set `input_example` parameter when logging the model to auto infer the model signature.\n"
     ]
    },
    {
     "name": "stdout",
     "output_type": "stream",
     "text": [
      "Epoch 1/20\n",
      "200/200 [==============================] - 17s 83ms/step - loss: 0.6727 - accuracy: 0.6080 - val_loss: 0.6691 - val_accuracy: 0.6997 - lr: 0.0010\n",
      "Epoch 2/20\n",
      "200/200 [==============================] - 17s 83ms/step - loss: 0.5616 - accuracy: 0.7123 - val_loss: 0.6251 - val_accuracy: 0.7072 - lr: 0.0010\n",
      "Epoch 3/20\n",
      "200/200 [==============================] - 17s 83ms/step - loss: 0.4964 - accuracy: 0.7530 - val_loss: 0.5779 - val_accuracy: 0.6872 - lr: 0.0010\n",
      "Epoch 4/20\n",
      "200/200 [==============================] - 16s 82ms/step - loss: 0.4381 - accuracy: 0.7929 - val_loss: 0.5362 - val_accuracy: 0.7350 - lr: 0.0010\n",
      "Epoch 5/20\n",
      "200/200 [==============================] - 17s 83ms/step - loss: 0.3780 - accuracy: 0.8302 - val_loss: 0.5809 - val_accuracy: 0.7356 - lr: 0.0010\n",
      "Epoch 6/20\n",
      "200/200 [==============================] - 17s 83ms/step - loss: 0.3089 - accuracy: 0.8680 - val_loss: 0.6659 - val_accuracy: 0.7188 - lr: 0.0010\n",
      "Epoch 7/20\n",
      "200/200 [==============================] - 17s 83ms/step - loss: 0.1779 - accuracy: 0.9285 - val_loss: 0.9094 - val_accuracy: 0.7256 - lr: 2.0000e-04\n",
      "Epoch 8/20\n",
      "200/200 [==============================] - 16s 83ms/step - loss: 0.1199 - accuracy: 0.9520 - val_loss: 1.0397 - val_accuracy: 0.7219 - lr: 2.0000e-04\n",
      "100/100 [==============================] - 2s 17ms/step\n",
      "100/100 [==============================] - 2s 17ms/step\n"
     ]
    },
    {
     "name": "stderr",
     "output_type": "stream",
     "text": [
      "2024/10/12 06:58:34 WARNING mlflow.tensorflow: You are saving a TensorFlow Core model or Keras model without a signature. Inference with mlflow.pyfunc.spark_udf() will not work unless the model's pyfunc representation accepts pandas DataFrames as inference inputs.\n",
      "WARNING:absl:Found untraced functions such as _jit_compiled_convolution_op, _update_step_xla while saving (showing 2 of 2). These functions will not be directly callable after loading.\n"
     ]
    },
    {
     "name": "stdout",
     "output_type": "stream",
     "text": [
      "INFO:tensorflow:Assets written to: C:\\Users\\trist\\AppData\\Local\\Temp\\tmpq3n6fsjx\\model\\data\\model\\assets\n"
     ]
    },
    {
     "name": "stderr",
     "output_type": "stream",
     "text": [
      "INFO:tensorflow:Assets written to: C:\\Users\\trist\\AppData\\Local\\Temp\\tmpq3n6fsjx\\model\\data\\model\\assets\n",
      "2024/10/12 06:58:41 WARNING mlflow.models.model: Model logged without a signature and input example. Please set `input_example` parameter when logging the model to auto infer the model signature.\n"
     ]
    },
    {
     "name": "stdout",
     "output_type": "stream",
     "text": [
      "Epoch 1/20\n",
      "200/200 [==============================] - 33s 160ms/step - loss: 0.6829 - accuracy: 0.6136 - val_loss: 0.6696 - val_accuracy: 0.6906 - lr: 0.0010\n",
      "Epoch 2/20\n",
      "200/200 [==============================] - 32s 158ms/step - loss: 0.5627 - accuracy: 0.7105 - val_loss: 0.6183 - val_accuracy: 0.7141 - lr: 0.0010\n",
      "Epoch 3/20\n",
      "200/200 [==============================] - 32s 160ms/step - loss: 0.4847 - accuracy: 0.7663 - val_loss: 0.5357 - val_accuracy: 0.7344 - lr: 0.0010\n",
      "Epoch 4/20\n",
      "200/200 [==============================] - 31s 157ms/step - loss: 0.4273 - accuracy: 0.8023 - val_loss: 0.5305 - val_accuracy: 0.7416 - lr: 0.0010\n",
      "Epoch 5/20\n",
      "200/200 [==============================] - 32s 158ms/step - loss: 0.3626 - accuracy: 0.8364 - val_loss: 0.6172 - val_accuracy: 0.7228 - lr: 0.0010\n",
      "Epoch 6/20\n",
      "200/200 [==============================] - 32s 159ms/step - loss: 0.2915 - accuracy: 0.8787 - val_loss: 0.6421 - val_accuracy: 0.7197 - lr: 0.0010\n",
      "Epoch 7/20\n",
      "200/200 [==============================] - 32s 162ms/step - loss: 0.1567 - accuracy: 0.9393 - val_loss: 0.9832 - val_accuracy: 0.7225 - lr: 2.0000e-04\n",
      "Epoch 8/20\n",
      "200/200 [==============================] - 32s 160ms/step - loss: 0.0978 - accuracy: 0.9620 - val_loss: 1.0612 - val_accuracy: 0.7219 - lr: 2.0000e-04\n",
      "100/100 [==============================] - 3s 33ms/step\n",
      "100/100 [==============================] - 3s 33ms/step\n"
     ]
    },
    {
     "name": "stderr",
     "output_type": "stream",
     "text": [
      "2024/10/12 07:03:04 WARNING mlflow.tensorflow: You are saving a TensorFlow Core model or Keras model without a signature. Inference with mlflow.pyfunc.spark_udf() will not work unless the model's pyfunc representation accepts pandas DataFrames as inference inputs.\n",
      "WARNING:absl:Found untraced functions such as _jit_compiled_convolution_op, _update_step_xla while saving (showing 2 of 2). These functions will not be directly callable after loading.\n"
     ]
    },
    {
     "name": "stdout",
     "output_type": "stream",
     "text": [
      "INFO:tensorflow:Assets written to: C:\\Users\\trist\\AppData\\Local\\Temp\\tmprbf18fuw\\model\\data\\model\\assets\n"
     ]
    },
    {
     "name": "stderr",
     "output_type": "stream",
     "text": [
      "INFO:tensorflow:Assets written to: C:\\Users\\trist\\AppData\\Local\\Temp\\tmprbf18fuw\\model\\data\\model\\assets\n",
      "2024/10/12 07:03:11 WARNING mlflow.models.model: Model logged without a signature and input example. Please set `input_example` parameter when logging the model to auto infer the model signature.\n"
     ]
    },
    {
     "name": "stdout",
     "output_type": "stream",
     "text": [
      "Epoch 1/20\n",
      "200/200 [==============================] - 9s 42ms/step - loss: 0.7544 - accuracy: 0.5516 - val_loss: 0.6864 - val_accuracy: 0.6272 - lr: 0.0010\n",
      "Epoch 2/20\n",
      "200/200 [==============================] - 8s 41ms/step - loss: 0.6245 - accuracy: 0.6553 - val_loss: 0.6359 - val_accuracy: 0.7041 - lr: 0.0010\n",
      "Epoch 3/20\n",
      "200/200 [==============================] - 8s 42ms/step - loss: 0.5652 - accuracy: 0.7151 - val_loss: 0.5723 - val_accuracy: 0.7309 - lr: 0.0010\n",
      "Epoch 4/20\n",
      "200/200 [==============================] - 8s 41ms/step - loss: 0.5239 - accuracy: 0.7420 - val_loss: 0.5218 - val_accuracy: 0.7441 - lr: 0.0010\n",
      "Epoch 5/20\n",
      "200/200 [==============================] - 8s 41ms/step - loss: 0.4877 - accuracy: 0.7683 - val_loss: 0.5201 - val_accuracy: 0.7481 - lr: 0.0010\n",
      "Epoch 6/20\n",
      "200/200 [==============================] - 8s 41ms/step - loss: 0.4642 - accuracy: 0.7825 - val_loss: 0.5304 - val_accuracy: 0.7391 - lr: 0.0010\n",
      "Epoch 7/20\n",
      "200/200 [==============================] - 8s 42ms/step - loss: 0.4357 - accuracy: 0.7959 - val_loss: 0.5455 - val_accuracy: 0.7359 - lr: 0.0010\n",
      "Epoch 8/20\n",
      "200/200 [==============================] - 8s 41ms/step - loss: 0.3665 - accuracy: 0.8398 - val_loss: 0.5701 - val_accuracy: 0.7400 - lr: 2.0000e-04\n",
      "Epoch 9/20\n",
      "200/200 [==============================] - 8s 42ms/step - loss: 0.3323 - accuracy: 0.8549 - val_loss: 0.6086 - val_accuracy: 0.7391 - lr: 2.0000e-04\n",
      "100/100 [==============================] - 1s 8ms/step\n",
      "100/100 [==============================] - 1s 8ms/step\n"
     ]
    },
    {
     "name": "stderr",
     "output_type": "stream",
     "text": [
      "2024/10/12 07:04:29 WARNING mlflow.tensorflow: You are saving a TensorFlow Core model or Keras model without a signature. Inference with mlflow.pyfunc.spark_udf() will not work unless the model's pyfunc representation accepts pandas DataFrames as inference inputs.\n",
      "WARNING:absl:Found untraced functions such as _jit_compiled_convolution_op, _update_step_xla while saving (showing 2 of 2). These functions will not be directly callable after loading.\n"
     ]
    },
    {
     "name": "stdout",
     "output_type": "stream",
     "text": [
      "INFO:tensorflow:Assets written to: C:\\Users\\trist\\AppData\\Local\\Temp\\tmpj7zvb72t\\model\\data\\model\\assets\n"
     ]
    },
    {
     "name": "stderr",
     "output_type": "stream",
     "text": [
      "INFO:tensorflow:Assets written to: C:\\Users\\trist\\AppData\\Local\\Temp\\tmpj7zvb72t\\model\\data\\model\\assets\n",
      "2024/10/12 07:04:37 WARNING mlflow.models.model: Model logged without a signature and input example. Please set `input_example` parameter when logging the model to auto infer the model signature.\n"
     ]
    },
    {
     "name": "stdout",
     "output_type": "stream",
     "text": [
      "Epoch 1/20\n",
      "200/200 [==============================] - 14s 65ms/step - loss: 0.7632 - accuracy: 0.5512 - val_loss: 0.6864 - val_accuracy: 0.5816 - lr: 0.0010\n",
      "Epoch 2/20\n",
      "200/200 [==============================] - 13s 64ms/step - loss: 0.6248 - accuracy: 0.6524 - val_loss: 0.6503 - val_accuracy: 0.6984 - lr: 0.0010\n",
      "Epoch 3/20\n",
      "200/200 [==============================] - 13s 64ms/step - loss: 0.5524 - accuracy: 0.7179 - val_loss: 0.5628 - val_accuracy: 0.7416 - lr: 0.0010\n",
      "Epoch 4/20\n",
      "200/200 [==============================] - 13s 64ms/step - loss: 0.5161 - accuracy: 0.7456 - val_loss: 0.5284 - val_accuracy: 0.7406 - lr: 0.0010\n",
      "Epoch 5/20\n",
      "200/200 [==============================] - 13s 64ms/step - loss: 0.4770 - accuracy: 0.7773 - val_loss: 0.5143 - val_accuracy: 0.7475 - lr: 0.0010\n",
      "Epoch 6/20\n",
      "200/200 [==============================] - 13s 64ms/step - loss: 0.4446 - accuracy: 0.7972 - val_loss: 0.5367 - val_accuracy: 0.7416 - lr: 0.0010\n",
      "Epoch 7/20\n",
      "200/200 [==============================] - 13s 64ms/step - loss: 0.4169 - accuracy: 0.8093 - val_loss: 0.5376 - val_accuracy: 0.7400 - lr: 0.0010\n",
      "Epoch 8/20\n",
      "200/200 [==============================] - 13s 64ms/step - loss: 0.3260 - accuracy: 0.8648 - val_loss: 0.6176 - val_accuracy: 0.7412 - lr: 2.0000e-04\n",
      "Epoch 9/20\n",
      "200/200 [==============================] - 13s 64ms/step - loss: 0.2775 - accuracy: 0.8850 - val_loss: 0.6575 - val_accuracy: 0.7403 - lr: 2.0000e-04\n",
      "100/100 [==============================] - 1s 11ms/step\n",
      "100/100 [==============================] - 1s 11ms/step\n"
     ]
    },
    {
     "name": "stderr",
     "output_type": "stream",
     "text": [
      "2024/10/12 07:06:36 WARNING mlflow.tensorflow: You are saving a TensorFlow Core model or Keras model without a signature. Inference with mlflow.pyfunc.spark_udf() will not work unless the model's pyfunc representation accepts pandas DataFrames as inference inputs.\n",
      "WARNING:absl:Found untraced functions such as _jit_compiled_convolution_op, _update_step_xla while saving (showing 2 of 2). These functions will not be directly callable after loading.\n"
     ]
    },
    {
     "name": "stdout",
     "output_type": "stream",
     "text": [
      "INFO:tensorflow:Assets written to: C:\\Users\\trist\\AppData\\Local\\Temp\\tmp1cw3kn8g\\model\\data\\model\\assets\n"
     ]
    },
    {
     "name": "stderr",
     "output_type": "stream",
     "text": [
      "INFO:tensorflow:Assets written to: C:\\Users\\trist\\AppData\\Local\\Temp\\tmp1cw3kn8g\\model\\data\\model\\assets\n",
      "2024/10/12 07:06:43 WARNING mlflow.models.model: Model logged without a signature and input example. Please set `input_example` parameter when logging the model to auto infer the model signature.\n"
     ]
    },
    {
     "name": "stdout",
     "output_type": "stream",
     "text": [
      "Epoch 1/20\n",
      "200/200 [==============================] - 23s 111ms/step - loss: 0.7359 - accuracy: 0.5412 - val_loss: 0.6891 - val_accuracy: 0.5891 - lr: 0.0010\n",
      "Epoch 2/20\n",
      "200/200 [==============================] - 22s 110ms/step - loss: 0.6298 - accuracy: 0.6461 - val_loss: 0.6411 - val_accuracy: 0.7275 - lr: 0.0010\n",
      "Epoch 3/20\n",
      "200/200 [==============================] - 22s 110ms/step - loss: 0.5639 - accuracy: 0.7160 - val_loss: 0.5652 - val_accuracy: 0.7459 - lr: 0.0010\n",
      "Epoch 4/20\n",
      "200/200 [==============================] - 22s 110ms/step - loss: 0.5186 - accuracy: 0.7450 - val_loss: 0.5220 - val_accuracy: 0.7497 - lr: 0.0010\n",
      "Epoch 5/20\n",
      "200/200 [==============================] - 22s 110ms/step - loss: 0.4861 - accuracy: 0.7702 - val_loss: 0.5156 - val_accuracy: 0.7444 - lr: 0.0010\n",
      "Epoch 6/20\n",
      "200/200 [==============================] - 22s 110ms/step - loss: 0.4488 - accuracy: 0.7945 - val_loss: 0.5149 - val_accuracy: 0.7487 - lr: 0.0010\n",
      "Epoch 7/20\n",
      "200/200 [==============================] - 22s 109ms/step - loss: 0.4039 - accuracy: 0.8235 - val_loss: 0.5348 - val_accuracy: 0.7481 - lr: 0.0010\n",
      "Epoch 8/20\n",
      "200/200 [==============================] - 22s 109ms/step - loss: 0.3606 - accuracy: 0.8409 - val_loss: 0.6471 - val_accuracy: 0.7203 - lr: 0.0010\n",
      "Epoch 9/20\n",
      "200/200 [==============================] - 22s 110ms/step - loss: 0.2481 - accuracy: 0.8992 - val_loss: 0.7481 - val_accuracy: 0.7244 - lr: 2.0000e-04\n",
      "Epoch 10/20\n",
      "200/200 [==============================] - 22s 110ms/step - loss: 0.1892 - accuracy: 0.9258 - val_loss: 0.8016 - val_accuracy: 0.7381 - lr: 2.0000e-04\n",
      "100/100 [==============================] - 2s 21ms/step\n",
      "100/100 [==============================] - 2s 22ms/step\n"
     ]
    },
    {
     "name": "stderr",
     "output_type": "stream",
     "text": [
      "2024/10/12 07:10:29 WARNING mlflow.tensorflow: You are saving a TensorFlow Core model or Keras model without a signature. Inference with mlflow.pyfunc.spark_udf() will not work unless the model's pyfunc representation accepts pandas DataFrames as inference inputs.\n",
      "WARNING:absl:Found untraced functions such as _jit_compiled_convolution_op, _update_step_xla while saving (showing 2 of 2). These functions will not be directly callable after loading.\n"
     ]
    },
    {
     "name": "stdout",
     "output_type": "stream",
     "text": [
      "INFO:tensorflow:Assets written to: C:\\Users\\trist\\AppData\\Local\\Temp\\tmpatzd42wv\\model\\data\\model\\assets\n"
     ]
    },
    {
     "name": "stderr",
     "output_type": "stream",
     "text": [
      "INFO:tensorflow:Assets written to: C:\\Users\\trist\\AppData\\Local\\Temp\\tmpatzd42wv\\model\\data\\model\\assets\n",
      "2024/10/12 07:10:37 WARNING mlflow.models.model: Model logged without a signature and input example. Please set `input_example` parameter when logging the model to auto infer the model signature.\n"
     ]
    },
    {
     "name": "stdout",
     "output_type": "stream",
     "text": [
      "Epoch 1/20\n",
      "200/200 [==============================] - 13s 59ms/step - loss: 0.7508 - accuracy: 0.5453 - val_loss: 0.6871 - val_accuracy: 0.6381 - lr: 0.0010\n",
      "Epoch 2/20\n",
      "200/200 [==============================] - 11s 57ms/step - loss: 0.6361 - accuracy: 0.6361 - val_loss: 0.6498 - val_accuracy: 0.7006 - lr: 0.0010\n",
      "Epoch 3/20\n",
      "200/200 [==============================] - 11s 57ms/step - loss: 0.5697 - accuracy: 0.7070 - val_loss: 0.5836 - val_accuracy: 0.7169 - lr: 0.0010\n",
      "Epoch 4/20\n",
      "200/200 [==============================] - 11s 57ms/step - loss: 0.5120 - accuracy: 0.7496 - val_loss: 0.5351 - val_accuracy: 0.7275 - lr: 0.0010\n",
      "Epoch 5/20\n",
      "200/200 [==============================] - 11s 57ms/step - loss: 0.4791 - accuracy: 0.7715 - val_loss: 0.5351 - val_accuracy: 0.7350 - lr: 0.0010\n",
      "Epoch 6/20\n",
      "200/200 [==============================] - 11s 57ms/step - loss: 0.4438 - accuracy: 0.7923 - val_loss: 0.5444 - val_accuracy: 0.7325 - lr: 0.0010\n",
      "Epoch 7/20\n",
      "200/200 [==============================] - 11s 57ms/step - loss: 0.3496 - accuracy: 0.8506 - val_loss: 0.6013 - val_accuracy: 0.7275 - lr: 2.0000e-04\n",
      "Epoch 8/20\n",
      "200/200 [==============================] - 11s 57ms/step - loss: 0.3087 - accuracy: 0.8716 - val_loss: 0.6419 - val_accuracy: 0.7347 - lr: 2.0000e-04\n",
      "Epoch 9/20\n",
      "200/200 [==============================] - 11s 57ms/step - loss: 0.2621 - accuracy: 0.8933 - val_loss: 0.6972 - val_accuracy: 0.7266 - lr: 1.0000e-04\n",
      "100/100 [==============================] - 1s 12ms/step\n",
      "100/100 [==============================] - 1s 12ms/step\n"
     ]
    },
    {
     "name": "stderr",
     "output_type": "stream",
     "text": [
      "2024/10/12 07:12:24 WARNING mlflow.tensorflow: You are saving a TensorFlow Core model or Keras model without a signature. Inference with mlflow.pyfunc.spark_udf() will not work unless the model's pyfunc representation accepts pandas DataFrames as inference inputs.\n",
      "WARNING:absl:Found untraced functions such as _jit_compiled_convolution_op, _update_step_xla while saving (showing 2 of 2). These functions will not be directly callable after loading.\n"
     ]
    },
    {
     "name": "stdout",
     "output_type": "stream",
     "text": [
      "INFO:tensorflow:Assets written to: C:\\Users\\trist\\AppData\\Local\\Temp\\tmpspebdwbg\\model\\data\\model\\assets\n"
     ]
    },
    {
     "name": "stderr",
     "output_type": "stream",
     "text": [
      "INFO:tensorflow:Assets written to: C:\\Users\\trist\\AppData\\Local\\Temp\\tmpspebdwbg\\model\\data\\model\\assets\n",
      "2024/10/12 07:12:30 WARNING mlflow.models.model: Model logged without a signature and input example. Please set `input_example` parameter when logging the model to auto infer the model signature.\n"
     ]
    },
    {
     "name": "stdout",
     "output_type": "stream",
     "text": [
      "Epoch 1/20\n",
      "200/200 [==============================] - 17s 79ms/step - loss: 0.7341 - accuracy: 0.5555 - val_loss: 0.6828 - val_accuracy: 0.5856 - lr: 0.0010\n",
      "Epoch 2/20\n",
      "200/200 [==============================] - 16s 78ms/step - loss: 0.6210 - accuracy: 0.6580 - val_loss: 0.6430 - val_accuracy: 0.7131 - lr: 0.0010\n",
      "Epoch 3/20\n",
      "200/200 [==============================] - 16s 78ms/step - loss: 0.5548 - accuracy: 0.7173 - val_loss: 0.5620 - val_accuracy: 0.7397 - lr: 0.0010\n",
      "Epoch 4/20\n",
      "200/200 [==============================] - 16s 79ms/step - loss: 0.5071 - accuracy: 0.7504 - val_loss: 0.5274 - val_accuracy: 0.7350 - lr: 0.0010\n",
      "Epoch 5/20\n",
      "200/200 [==============================] - 16s 79ms/step - loss: 0.4630 - accuracy: 0.7843 - val_loss: 0.5334 - val_accuracy: 0.7241 - lr: 0.0010\n",
      "Epoch 6/20\n",
      "200/200 [==============================] - 16s 80ms/step - loss: 0.4274 - accuracy: 0.8035 - val_loss: 0.5397 - val_accuracy: 0.7269 - lr: 0.0010\n",
      "Epoch 7/20\n",
      "200/200 [==============================] - 17s 85ms/step - loss: 0.3079 - accuracy: 0.8693 - val_loss: 0.6356 - val_accuracy: 0.7362 - lr: 2.0000e-04\n",
      "Epoch 8/20\n",
      "200/200 [==============================] - 17s 83ms/step - loss: 0.2532 - accuracy: 0.8924 - val_loss: 0.6887 - val_accuracy: 0.7300 - lr: 2.0000e-04\n",
      "100/100 [==============================] - 2s 17ms/step\n",
      "100/100 [==============================] - 2s 17ms/step\n"
     ]
    },
    {
     "name": "stderr",
     "output_type": "stream",
     "text": [
      "2024/10/12 07:14:44 WARNING mlflow.tensorflow: You are saving a TensorFlow Core model or Keras model without a signature. Inference with mlflow.pyfunc.spark_udf() will not work unless the model's pyfunc representation accepts pandas DataFrames as inference inputs.\n",
      "WARNING:absl:Found untraced functions such as _jit_compiled_convolution_op, _update_step_xla while saving (showing 2 of 2). These functions will not be directly callable after loading.\n"
     ]
    },
    {
     "name": "stdout",
     "output_type": "stream",
     "text": [
      "INFO:tensorflow:Assets written to: C:\\Users\\trist\\AppData\\Local\\Temp\\tmpjmhyb6ef\\model\\data\\model\\assets\n"
     ]
    },
    {
     "name": "stderr",
     "output_type": "stream",
     "text": [
      "INFO:tensorflow:Assets written to: C:\\Users\\trist\\AppData\\Local\\Temp\\tmpjmhyb6ef\\model\\data\\model\\assets\n",
      "2024/10/12 07:14:53 WARNING mlflow.models.model: Model logged without a signature and input example. Please set `input_example` parameter when logging the model to auto infer the model signature.\n"
     ]
    },
    {
     "name": "stdout",
     "output_type": "stream",
     "text": [
      "Epoch 1/20\n",
      "200/200 [==============================] - 33s 160ms/step - loss: 0.7552 - accuracy: 0.5537 - val_loss: 0.6896 - val_accuracy: 0.6372 - lr: 0.0010\n",
      "Epoch 2/20\n",
      "200/200 [==============================] - 31s 157ms/step - loss: 0.6448 - accuracy: 0.6255 - val_loss: 0.6562 - val_accuracy: 0.7106 - lr: 0.0010\n",
      "Epoch 3/20\n",
      "200/200 [==============================] - 32s 158ms/step - loss: 0.5889 - accuracy: 0.6915 - val_loss: 0.5832 - val_accuracy: 0.7119 - lr: 0.0010\n",
      "Epoch 4/20\n",
      "200/200 [==============================] - 31s 157ms/step - loss: 0.5406 - accuracy: 0.7267 - val_loss: 0.5438 - val_accuracy: 0.7331 - lr: 0.0010\n",
      "Epoch 5/20\n",
      "200/200 [==============================] - 31s 157ms/step - loss: 0.4917 - accuracy: 0.7650 - val_loss: 0.5239 - val_accuracy: 0.7456 - lr: 0.0010\n",
      "Epoch 6/20\n",
      "200/200 [==============================] - 32s 162ms/step - loss: 0.4496 - accuracy: 0.7883 - val_loss: 0.5706 - val_accuracy: 0.7172 - lr: 0.0010\n",
      "Epoch 7/20\n",
      "200/200 [==============================] - 32s 161ms/step - loss: 0.4017 - accuracy: 0.8173 - val_loss: 0.5455 - val_accuracy: 0.7416 - lr: 0.0010\n",
      "Epoch 8/20\n",
      "200/200 [==============================] - 32s 158ms/step - loss: 0.2793 - accuracy: 0.8845 - val_loss: 0.7083 - val_accuracy: 0.7459 - lr: 2.0000e-04\n",
      "Epoch 9/20\n",
      "200/200 [==============================] - 31s 156ms/step - loss: 0.2104 - accuracy: 0.9145 - val_loss: 0.8287 - val_accuracy: 0.7422 - lr: 2.0000e-04\n",
      "100/100 [==============================] - 3s 31ms/step\n",
      "100/100 [==============================] - 3s 32ms/step\n"
     ]
    },
    {
     "name": "stderr",
     "output_type": "stream",
     "text": [
      "2024/10/12 07:19:47 WARNING mlflow.tensorflow: You are saving a TensorFlow Core model or Keras model without a signature. Inference with mlflow.pyfunc.spark_udf() will not work unless the model's pyfunc representation accepts pandas DataFrames as inference inputs.\n",
      "WARNING:absl:Found untraced functions such as _jit_compiled_convolution_op, _update_step_xla while saving (showing 2 of 2). These functions will not be directly callable after loading.\n"
     ]
    },
    {
     "name": "stdout",
     "output_type": "stream",
     "text": [
      "INFO:tensorflow:Assets written to: C:\\Users\\trist\\AppData\\Local\\Temp\\tmpc3gn9w12\\model\\data\\model\\assets\n"
     ]
    },
    {
     "name": "stderr",
     "output_type": "stream",
     "text": [
      "INFO:tensorflow:Assets written to: C:\\Users\\trist\\AppData\\Local\\Temp\\tmpc3gn9w12\\model\\data\\model\\assets\n",
      "2024/10/12 07:19:54 WARNING mlflow.models.model: Model logged without a signature and input example. Please set `input_example` parameter when logging the model to auto infer the model signature.\n"
     ]
    },
    {
     "name": "stdout",
     "output_type": "stream",
     "text": [
      "Epoch 1/20\n",
      "200/200 [==============================] - 10s 43ms/step - loss: 0.6951 - accuracy: 0.5978 - val_loss: 0.6759 - val_accuracy: 0.6947 - lr: 0.0010\n",
      "Epoch 2/20\n",
      "200/200 [==============================] - 8s 40ms/step - loss: 0.5567 - accuracy: 0.7179 - val_loss: 0.6168 - val_accuracy: 0.6903 - lr: 0.0010\n",
      "Epoch 3/20\n",
      "200/200 [==============================] - 8s 40ms/step - loss: 0.5034 - accuracy: 0.7559 - val_loss: 0.5399 - val_accuracy: 0.7269 - lr: 0.0010\n",
      "Epoch 4/20\n",
      "200/200 [==============================] - 8s 40ms/step - loss: 0.4626 - accuracy: 0.7834 - val_loss: 0.5190 - val_accuracy: 0.7450 - lr: 0.0010\n",
      "Epoch 5/20\n",
      "200/200 [==============================] - 8s 41ms/step - loss: 0.4274 - accuracy: 0.7974 - val_loss: 0.5602 - val_accuracy: 0.7400 - lr: 0.0010\n",
      "Epoch 6/20\n",
      "200/200 [==============================] - 8s 42ms/step - loss: 0.3915 - accuracy: 0.8253 - val_loss: 0.5369 - val_accuracy: 0.7369 - lr: 0.0010\n",
      "Epoch 7/20\n",
      "200/200 [==============================] - 9s 43ms/step - loss: 0.3029 - accuracy: 0.8698 - val_loss: 0.6459 - val_accuracy: 0.7406 - lr: 2.0000e-04\n",
      "Epoch 8/20\n",
      "200/200 [==============================] - 8s 42ms/step - loss: 0.2580 - accuracy: 0.8892 - val_loss: 0.6669 - val_accuracy: 0.7362 - lr: 2.0000e-04\n",
      "100/100 [==============================] - 1s 8ms/step\n",
      "100/100 [==============================] - 1s 8ms/step\n"
     ]
    },
    {
     "name": "stderr",
     "output_type": "stream",
     "text": [
      "2024/10/12 07:21:05 WARNING mlflow.tensorflow: You are saving a TensorFlow Core model or Keras model without a signature. Inference with mlflow.pyfunc.spark_udf() will not work unless the model's pyfunc representation accepts pandas DataFrames as inference inputs.\n",
      "WARNING:absl:Found untraced functions such as _jit_compiled_convolution_op, _update_step_xla while saving (showing 2 of 2). These functions will not be directly callable after loading.\n"
     ]
    },
    {
     "name": "stdout",
     "output_type": "stream",
     "text": [
      "INFO:tensorflow:Assets written to: C:\\Users\\trist\\AppData\\Local\\Temp\\tmpbet52op_\\model\\data\\model\\assets\n"
     ]
    },
    {
     "name": "stderr",
     "output_type": "stream",
     "text": [
      "INFO:tensorflow:Assets written to: C:\\Users\\trist\\AppData\\Local\\Temp\\tmpbet52op_\\model\\data\\model\\assets\n",
      "2024/10/12 07:21:14 WARNING mlflow.models.model: Model logged without a signature and input example. Please set `input_example` parameter when logging the model to auto infer the model signature.\n"
     ]
    },
    {
     "name": "stdout",
     "output_type": "stream",
     "text": [
      "Epoch 1/20\n",
      "200/200 [==============================] - 14s 63ms/step - loss: 0.6790 - accuracy: 0.6119 - val_loss: 0.6684 - val_accuracy: 0.7072 - lr: 0.0010\n",
      "Epoch 2/20\n",
      "200/200 [==============================] - 13s 66ms/step - loss: 0.5516 - accuracy: 0.7201 - val_loss: 0.6202 - val_accuracy: 0.7287 - lr: 0.0010\n",
      "Epoch 3/20\n",
      "200/200 [==============================] - 17s 85ms/step - loss: 0.4924 - accuracy: 0.7593 - val_loss: 0.5296 - val_accuracy: 0.7481 - lr: 0.0010\n",
      "Epoch 4/20\n",
      "200/200 [==============================] - 17s 85ms/step - loss: 0.4435 - accuracy: 0.7922 - val_loss: 0.5350 - val_accuracy: 0.7450 - lr: 0.0010\n",
      "Epoch 5/20\n",
      "200/200 [==============================] - 16s 80ms/step - loss: 0.4100 - accuracy: 0.8092 - val_loss: 0.5288 - val_accuracy: 0.7428 - lr: 0.0010\n",
      "Epoch 6/20\n",
      "200/200 [==============================] - 14s 72ms/step - loss: 0.3515 - accuracy: 0.8434 - val_loss: 0.6042 - val_accuracy: 0.7275 - lr: 0.0010\n",
      "Epoch 7/20\n",
      "200/200 [==============================] - 15s 73ms/step - loss: 0.2956 - accuracy: 0.8710 - val_loss: 0.6683 - val_accuracy: 0.7322 - lr: 0.0010\n",
      "Epoch 8/20\n",
      "200/200 [==============================] - 16s 79ms/step - loss: 0.1825 - accuracy: 0.9260 - val_loss: 0.7860 - val_accuracy: 0.7434 - lr: 2.0000e-04\n",
      "Epoch 9/20\n",
      "200/200 [==============================] - 14s 71ms/step - loss: 0.1271 - accuracy: 0.9523 - val_loss: 0.9419 - val_accuracy: 0.7397 - lr: 2.0000e-04\n",
      "100/100 [==============================] - 1s 13ms/step\n",
      "100/100 [==============================] - 1s 12ms/step\n"
     ]
    },
    {
     "name": "stderr",
     "output_type": "stream",
     "text": [
      "2024/10/12 07:23:33 WARNING mlflow.tensorflow: You are saving a TensorFlow Core model or Keras model without a signature. Inference with mlflow.pyfunc.spark_udf() will not work unless the model's pyfunc representation accepts pandas DataFrames as inference inputs.\n",
      "WARNING:absl:Found untraced functions such as _jit_compiled_convolution_op, _update_step_xla while saving (showing 2 of 2). These functions will not be directly callable after loading.\n"
     ]
    },
    {
     "name": "stdout",
     "output_type": "stream",
     "text": [
      "INFO:tensorflow:Assets written to: C:\\Users\\trist\\AppData\\Local\\Temp\\tmplq8mwy2d\\model\\data\\model\\assets\n"
     ]
    },
    {
     "name": "stderr",
     "output_type": "stream",
     "text": [
      "INFO:tensorflow:Assets written to: C:\\Users\\trist\\AppData\\Local\\Temp\\tmplq8mwy2d\\model\\data\\model\\assets\n",
      "2024/10/12 07:23:43 WARNING mlflow.models.model: Model logged without a signature and input example. Please set `input_example` parameter when logging the model to auto infer the model signature.\n"
     ]
    },
    {
     "name": "stdout",
     "output_type": "stream",
     "text": [
      "Epoch 1/20\n",
      "200/200 [==============================] - 23s 109ms/step - loss: 0.6860 - accuracy: 0.6140 - val_loss: 0.6730 - val_accuracy: 0.6925 - lr: 0.0010\n",
      "Epoch 2/20\n",
      "200/200 [==============================] - 21s 103ms/step - loss: 0.5487 - accuracy: 0.7190 - val_loss: 0.6052 - val_accuracy: 0.7328 - lr: 0.0010\n",
      "Epoch 3/20\n",
      "200/200 [==============================] - 21s 106ms/step - loss: 0.4893 - accuracy: 0.7605 - val_loss: 0.5619 - val_accuracy: 0.7097 - lr: 0.0010\n",
      "Epoch 4/20\n",
      "200/200 [==============================] - 21s 104ms/step - loss: 0.4298 - accuracy: 0.7989 - val_loss: 0.6271 - val_accuracy: 0.7241 - lr: 0.0010\n",
      "Epoch 5/20\n",
      "200/200 [==============================] - 21s 103ms/step - loss: 0.3868 - accuracy: 0.8249 - val_loss: 0.6552 - val_accuracy: 0.6966 - lr: 0.0010\n",
      "Epoch 6/20\n",
      "200/200 [==============================] - 21s 105ms/step - loss: 0.2557 - accuracy: 0.8966 - val_loss: 0.6708 - val_accuracy: 0.7469 - lr: 2.0000e-04\n",
      "Epoch 7/20\n",
      "200/200 [==============================] - 21s 103ms/step - loss: 0.1914 - accuracy: 0.9233 - val_loss: 0.7648 - val_accuracy: 0.7403 - lr: 2.0000e-04\n",
      "100/100 [==============================] - 2s 20ms/step\n",
      "100/100 [==============================] - 2s 20ms/step\n"
     ]
    },
    {
     "name": "stderr",
     "output_type": "stream",
     "text": [
      "2024/10/12 07:26:17 WARNING mlflow.tensorflow: You are saving a TensorFlow Core model or Keras model without a signature. Inference with mlflow.pyfunc.spark_udf() will not work unless the model's pyfunc representation accepts pandas DataFrames as inference inputs.\n",
      "WARNING:absl:Found untraced functions such as _jit_compiled_convolution_op, _update_step_xla while saving (showing 2 of 2). These functions will not be directly callable after loading.\n"
     ]
    },
    {
     "name": "stdout",
     "output_type": "stream",
     "text": [
      "INFO:tensorflow:Assets written to: C:\\Users\\trist\\AppData\\Local\\Temp\\tmpo8yij48t\\model\\data\\model\\assets\n"
     ]
    },
    {
     "name": "stderr",
     "output_type": "stream",
     "text": [
      "INFO:tensorflow:Assets written to: C:\\Users\\trist\\AppData\\Local\\Temp\\tmpo8yij48t\\model\\data\\model\\assets\n",
      "2024/10/12 07:26:28 WARNING mlflow.models.model: Model logged without a signature and input example. Please set `input_example` parameter when logging the model to auto infer the model signature.\n"
     ]
    },
    {
     "name": "stdout",
     "output_type": "stream",
     "text": [
      "Epoch 1/20\n",
      "200/200 [==============================] - 13s 57ms/step - loss: 0.6802 - accuracy: 0.6048 - val_loss: 0.6690 - val_accuracy: 0.6916 - lr: 0.0010\n",
      "Epoch 2/20\n",
      "200/200 [==============================] - 11s 55ms/step - loss: 0.5569 - accuracy: 0.7125 - val_loss: 0.6199 - val_accuracy: 0.7003 - lr: 0.0010\n",
      "Epoch 3/20\n",
      "200/200 [==============================] - 11s 55ms/step - loss: 0.4964 - accuracy: 0.7622 - val_loss: 0.5383 - val_accuracy: 0.7322 - lr: 0.0010\n",
      "Epoch 4/20\n",
      "200/200 [==============================] - 12s 60ms/step - loss: 0.4459 - accuracy: 0.7940 - val_loss: 0.5499 - val_accuracy: 0.7303 - lr: 0.0010\n",
      "Epoch 5/20\n",
      "200/200 [==============================] - 12s 61ms/step - loss: 0.3891 - accuracy: 0.8251 - val_loss: 0.5725 - val_accuracy: 0.7312 - lr: 0.0010\n",
      "Epoch 6/20\n",
      "200/200 [==============================] - 11s 54ms/step - loss: 0.2740 - accuracy: 0.8863 - val_loss: 0.6686 - val_accuracy: 0.7334 - lr: 2.0000e-04\n",
      "Epoch 7/20\n",
      "200/200 [==============================] - 11s 54ms/step - loss: 0.2139 - accuracy: 0.9148 - val_loss: 0.7996 - val_accuracy: 0.7141 - lr: 2.0000e-04\n",
      "100/100 [==============================] - 1s 11ms/step\n",
      "100/100 [==============================] - 1s 11ms/step\n"
     ]
    },
    {
     "name": "stderr",
     "output_type": "stream",
     "text": [
      "2024/10/12 07:27:53 WARNING mlflow.tensorflow: You are saving a TensorFlow Core model or Keras model without a signature. Inference with mlflow.pyfunc.spark_udf() will not work unless the model's pyfunc representation accepts pandas DataFrames as inference inputs.\n",
      "WARNING:absl:Found untraced functions such as _jit_compiled_convolution_op, _update_step_xla while saving (showing 2 of 2). These functions will not be directly callable after loading.\n"
     ]
    },
    {
     "name": "stdout",
     "output_type": "stream",
     "text": [
      "INFO:tensorflow:Assets written to: C:\\Users\\trist\\AppData\\Local\\Temp\\tmpquhzml1_\\model\\data\\model\\assets\n"
     ]
    },
    {
     "name": "stderr",
     "output_type": "stream",
     "text": [
      "INFO:tensorflow:Assets written to: C:\\Users\\trist\\AppData\\Local\\Temp\\tmpquhzml1_\\model\\data\\model\\assets\n",
      "2024/10/12 07:28:00 WARNING mlflow.models.model: Model logged without a signature and input example. Please set `input_example` parameter when logging the model to auto infer the model signature.\n"
     ]
    },
    {
     "name": "stdout",
     "output_type": "stream",
     "text": [
      "Epoch 1/20\n",
      "200/200 [==============================] - 17s 76ms/step - loss: 0.6701 - accuracy: 0.6119 - val_loss: 0.6700 - val_accuracy: 0.7163 - lr: 0.0010\n",
      "Epoch 2/20\n",
      "200/200 [==============================] - 15s 77ms/step - loss: 0.5526 - accuracy: 0.7181 - val_loss: 0.6049 - val_accuracy: 0.7378 - lr: 0.0010\n",
      "Epoch 3/20\n",
      "200/200 [==============================] - 15s 75ms/step - loss: 0.4867 - accuracy: 0.7676 - val_loss: 0.5511 - val_accuracy: 0.7150 - lr: 0.0010\n",
      "Epoch 4/20\n",
      "200/200 [==============================] - 15s 75ms/step - loss: 0.4294 - accuracy: 0.8037 - val_loss: 0.5642 - val_accuracy: 0.7303 - lr: 0.0010\n",
      "Epoch 5/20\n",
      "200/200 [==============================] - 15s 75ms/step - loss: 0.3721 - accuracy: 0.8361 - val_loss: 0.5970 - val_accuracy: 0.7169 - lr: 0.0010\n",
      "Epoch 6/20\n",
      "200/200 [==============================] - 15s 75ms/step - loss: 0.2337 - accuracy: 0.9054 - val_loss: 0.7306 - val_accuracy: 0.7250 - lr: 2.0000e-04\n",
      "Epoch 7/20\n",
      "200/200 [==============================] - 15s 75ms/step - loss: 0.1714 - accuracy: 0.9323 - val_loss: 0.8553 - val_accuracy: 0.7278 - lr: 2.0000e-04\n",
      "100/100 [==============================] - 2s 15ms/step\n",
      "100/100 [==============================] - 2s 15ms/step\n"
     ]
    },
    {
     "name": "stderr",
     "output_type": "stream",
     "text": [
      "2024/10/12 07:29:52 WARNING mlflow.tensorflow: You are saving a TensorFlow Core model or Keras model without a signature. Inference with mlflow.pyfunc.spark_udf() will not work unless the model's pyfunc representation accepts pandas DataFrames as inference inputs.\n",
      "WARNING:absl:Found untraced functions such as _jit_compiled_convolution_op, _update_step_xla while saving (showing 2 of 2). These functions will not be directly callable after loading.\n"
     ]
    },
    {
     "name": "stdout",
     "output_type": "stream",
     "text": [
      "INFO:tensorflow:Assets written to: C:\\Users\\trist\\AppData\\Local\\Temp\\tmp834tr3uo\\model\\data\\model\\assets\n"
     ]
    },
    {
     "name": "stderr",
     "output_type": "stream",
     "text": [
      "INFO:tensorflow:Assets written to: C:\\Users\\trist\\AppData\\Local\\Temp\\tmp834tr3uo\\model\\data\\model\\assets\n",
      "2024/10/12 07:29:59 WARNING mlflow.models.model: Model logged without a signature and input example. Please set `input_example` parameter when logging the model to auto infer the model signature.\n"
     ]
    },
    {
     "name": "stdout",
     "output_type": "stream",
     "text": [
      "Epoch 1/20\n",
      "200/200 [==============================] - 29s 140ms/step - loss: 0.6900 - accuracy: 0.6127 - val_loss: 0.6722 - val_accuracy: 0.7147 - lr: 0.0010\n",
      "Epoch 2/20\n",
      "200/200 [==============================] - 28s 140ms/step - loss: 0.5505 - accuracy: 0.7208 - val_loss: 0.6124 - val_accuracy: 0.6525 - lr: 0.0010\n",
      "Epoch 3/20\n",
      "200/200 [==============================] - 29s 146ms/step - loss: 0.4927 - accuracy: 0.7601 - val_loss: 0.5331 - val_accuracy: 0.7312 - lr: 0.0010\n",
      "Epoch 4/20\n",
      "200/200 [==============================] - 29s 144ms/step - loss: 0.4201 - accuracy: 0.8073 - val_loss: 0.6239 - val_accuracy: 0.7013 - lr: 0.0010\n",
      "Epoch 5/20\n",
      "200/200 [==============================] - 28s 140ms/step - loss: 0.3568 - accuracy: 0.8446 - val_loss: 0.5753 - val_accuracy: 0.7347 - lr: 0.0010\n",
      "Epoch 6/20\n",
      "200/200 [==============================] - 28s 139ms/step - loss: 0.2033 - accuracy: 0.9210 - val_loss: 0.7092 - val_accuracy: 0.7362 - lr: 2.0000e-04\n",
      "Epoch 7/20\n",
      "200/200 [==============================] - 28s 138ms/step - loss: 0.1388 - accuracy: 0.9484 - val_loss: 0.8398 - val_accuracy: 0.7387 - lr: 2.0000e-04\n",
      "100/100 [==============================] - 3s 27ms/step\n",
      "100/100 [==============================] - 3s 27ms/step\n"
     ]
    },
    {
     "name": "stderr",
     "output_type": "stream",
     "text": [
      "2024/10/12 07:33:24 WARNING mlflow.tensorflow: You are saving a TensorFlow Core model or Keras model without a signature. Inference with mlflow.pyfunc.spark_udf() will not work unless the model's pyfunc representation accepts pandas DataFrames as inference inputs.\n",
      "WARNING:absl:Found untraced functions such as _jit_compiled_convolution_op, _update_step_xla while saving (showing 2 of 2). These functions will not be directly callable after loading.\n"
     ]
    },
    {
     "name": "stdout",
     "output_type": "stream",
     "text": [
      "INFO:tensorflow:Assets written to: C:\\Users\\trist\\AppData\\Local\\Temp\\tmpw80io3og\\model\\data\\model\\assets\n"
     ]
    },
    {
     "name": "stderr",
     "output_type": "stream",
     "text": [
      "INFO:tensorflow:Assets written to: C:\\Users\\trist\\AppData\\Local\\Temp\\tmpw80io3og\\model\\data\\model\\assets\n",
      "2024/10/12 07:33:32 WARNING mlflow.models.model: Model logged without a signature and input example. Please set `input_example` parameter when logging the model to auto infer the model signature.\n"
     ]
    },
    {
     "name": "stdout",
     "output_type": "stream",
     "text": [
      "Epoch 1/20\n",
      "200/200 [==============================] - 9s 39ms/step - loss: 0.7342 - accuracy: 0.5431 - val_loss: 0.6868 - val_accuracy: 0.6009 - lr: 0.0010\n",
      "Epoch 2/20\n",
      "200/200 [==============================] - 7s 37ms/step - loss: 0.6261 - accuracy: 0.6480 - val_loss: 0.6277 - val_accuracy: 0.7153 - lr: 0.0010\n",
      "Epoch 3/20\n",
      "200/200 [==============================] - 8s 38ms/step - loss: 0.5524 - accuracy: 0.7184 - val_loss: 0.5559 - val_accuracy: 0.7266 - lr: 0.0010\n",
      "Epoch 4/20\n",
      "200/200 [==============================] - 8s 38ms/step - loss: 0.5143 - accuracy: 0.7495 - val_loss: 0.5163 - val_accuracy: 0.7419 - lr: 0.0010\n",
      "Epoch 5/20\n",
      "200/200 [==============================] - 8s 38ms/step - loss: 0.4870 - accuracy: 0.7698 - val_loss: 0.5155 - val_accuracy: 0.7419 - lr: 0.0010\n",
      "Epoch 6/20\n",
      "200/200 [==============================] - 8s 38ms/step - loss: 0.4578 - accuracy: 0.7873 - val_loss: 0.5292 - val_accuracy: 0.7347 - lr: 0.0010\n",
      "Epoch 7/20\n",
      "200/200 [==============================] - 8s 39ms/step - loss: 0.4319 - accuracy: 0.7977 - val_loss: 0.5356 - val_accuracy: 0.7322 - lr: 0.0010\n",
      "Epoch 8/20\n",
      "200/200 [==============================] - 8s 38ms/step - loss: 0.3596 - accuracy: 0.8441 - val_loss: 0.5639 - val_accuracy: 0.7519 - lr: 2.0000e-04\n",
      "Epoch 9/20\n",
      "200/200 [==============================] - 8s 38ms/step - loss: 0.3237 - accuracy: 0.8567 - val_loss: 0.5990 - val_accuracy: 0.7478 - lr: 2.0000e-04\n",
      "100/100 [==============================] - 1s 8ms/step\n",
      "100/100 [==============================] - 1s 8ms/step\n"
     ]
    },
    {
     "name": "stderr",
     "output_type": "stream",
     "text": [
      "2024/10/12 07:34:44 WARNING mlflow.tensorflow: You are saving a TensorFlow Core model or Keras model without a signature. Inference with mlflow.pyfunc.spark_udf() will not work unless the model's pyfunc representation accepts pandas DataFrames as inference inputs.\n",
      "WARNING:absl:Found untraced functions such as _jit_compiled_convolution_op, _update_step_xla while saving (showing 2 of 2). These functions will not be directly callable after loading.\n"
     ]
    },
    {
     "name": "stdout",
     "output_type": "stream",
     "text": [
      "INFO:tensorflow:Assets written to: C:\\Users\\trist\\AppData\\Local\\Temp\\tmpxb6hw7hp\\model\\data\\model\\assets\n"
     ]
    },
    {
     "name": "stderr",
     "output_type": "stream",
     "text": [
      "INFO:tensorflow:Assets written to: C:\\Users\\trist\\AppData\\Local\\Temp\\tmpxb6hw7hp\\model\\data\\model\\assets\n",
      "2024/10/12 07:34:52 WARNING mlflow.models.model: Model logged without a signature and input example. Please set `input_example` parameter when logging the model to auto infer the model signature.\n"
     ]
    },
    {
     "name": "stdout",
     "output_type": "stream",
     "text": [
      "Epoch 1/20\n",
      "200/200 [==============================] - 12s 55ms/step - loss: 0.7551 - accuracy: 0.5365 - val_loss: 0.6904 - val_accuracy: 0.5944 - lr: 0.0010\n",
      "Epoch 2/20\n",
      "200/200 [==============================] - 11s 54ms/step - loss: 0.6445 - accuracy: 0.6302 - val_loss: 0.6609 - val_accuracy: 0.6584 - lr: 0.0010\n",
      "Epoch 3/20\n",
      "200/200 [==============================] - 11s 53ms/step - loss: 0.5820 - accuracy: 0.6891 - val_loss: 0.5581 - val_accuracy: 0.7309 - lr: 0.0010\n",
      "Epoch 4/20\n",
      "200/200 [==============================] - 11s 53ms/step - loss: 0.5308 - accuracy: 0.7427 - val_loss: 0.5234 - val_accuracy: 0.7416 - lr: 0.0010\n",
      "Epoch 5/20\n",
      "200/200 [==============================] - 11s 53ms/step - loss: 0.5020 - accuracy: 0.7593 - val_loss: 0.5260 - val_accuracy: 0.7425 - lr: 0.0010\n",
      "Epoch 6/20\n",
      "200/200 [==============================] - 11s 55ms/step - loss: 0.4630 - accuracy: 0.7831 - val_loss: 0.5278 - val_accuracy: 0.7419 - lr: 0.0010\n",
      "Epoch 7/20\n",
      "200/200 [==============================] - 11s 54ms/step - loss: 0.3979 - accuracy: 0.8262 - val_loss: 0.5423 - val_accuracy: 0.7487 - lr: 2.0000e-04\n",
      "Epoch 8/20\n",
      "200/200 [==============================] - 11s 53ms/step - loss: 0.3590 - accuracy: 0.8447 - val_loss: 0.5582 - val_accuracy: 0.7447 - lr: 2.0000e-04\n",
      "100/100 [==============================] - 1s 9ms/step\n",
      "100/100 [==============================] - 1s 10ms/step\n"
     ]
    },
    {
     "name": "stderr",
     "output_type": "stream",
     "text": [
      "2024/10/12 07:36:21 WARNING mlflow.tensorflow: You are saving a TensorFlow Core model or Keras model without a signature. Inference with mlflow.pyfunc.spark_udf() will not work unless the model's pyfunc representation accepts pandas DataFrames as inference inputs.\n",
      "WARNING:absl:Found untraced functions such as _jit_compiled_convolution_op, _update_step_xla while saving (showing 2 of 2). These functions will not be directly callable after loading.\n"
     ]
    },
    {
     "name": "stdout",
     "output_type": "stream",
     "text": [
      "INFO:tensorflow:Assets written to: C:\\Users\\trist\\AppData\\Local\\Temp\\tmpswdonylw\\model\\data\\model\\assets\n"
     ]
    },
    {
     "name": "stderr",
     "output_type": "stream",
     "text": [
      "INFO:tensorflow:Assets written to: C:\\Users\\trist\\AppData\\Local\\Temp\\tmpswdonylw\\model\\data\\model\\assets\n",
      "2024/10/12 07:36:29 WARNING mlflow.models.model: Model logged without a signature and input example. Please set `input_example` parameter when logging the model to auto infer the model signature.\n"
     ]
    },
    {
     "name": "stdout",
     "output_type": "stream",
     "text": [
      "Epoch 1/20\n",
      "200/200 [==============================] - 21s 102ms/step - loss: 0.7316 - accuracy: 0.5512 - val_loss: 0.6882 - val_accuracy: 0.5547 - lr: 0.0010\n",
      "Epoch 2/20\n",
      "200/200 [==============================] - 21s 103ms/step - loss: 0.6262 - accuracy: 0.6447 - val_loss: 0.6382 - val_accuracy: 0.7031 - lr: 0.0010\n",
      "Epoch 3/20\n",
      "200/200 [==============================] - 21s 103ms/step - loss: 0.5587 - accuracy: 0.7209 - val_loss: 0.5675 - val_accuracy: 0.6978 - lr: 0.0010\n",
      "Epoch 4/20\n",
      "200/200 [==============================] - 20s 99ms/step - loss: 0.5062 - accuracy: 0.7520 - val_loss: 0.5173 - val_accuracy: 0.7469 - lr: 0.0010\n",
      "Epoch 5/20\n",
      "200/200 [==============================] - 20s 98ms/step - loss: 0.4765 - accuracy: 0.7757 - val_loss: 0.5394 - val_accuracy: 0.7306 - lr: 0.0010\n",
      "Epoch 6/20\n",
      "200/200 [==============================] - 20s 99ms/step - loss: 0.4345 - accuracy: 0.7945 - val_loss: 0.5451 - val_accuracy: 0.7291 - lr: 0.0010\n",
      "Epoch 7/20\n",
      "200/200 [==============================] - 20s 100ms/step - loss: 0.3477 - accuracy: 0.8523 - val_loss: 0.6020 - val_accuracy: 0.7375 - lr: 2.0000e-04\n",
      "Epoch 8/20\n",
      "200/200 [==============================] - 20s 100ms/step - loss: 0.2893 - accuracy: 0.8792 - val_loss: 0.6060 - val_accuracy: 0.7528 - lr: 2.0000e-04\n",
      "100/100 [==============================] - 2s 19ms/step\n",
      "100/100 [==============================] - 2s 19ms/step\n"
     ]
    },
    {
     "name": "stderr",
     "output_type": "stream",
     "text": [
      "2024/10/12 07:39:15 WARNING mlflow.tensorflow: You are saving a TensorFlow Core model or Keras model without a signature. Inference with mlflow.pyfunc.spark_udf() will not work unless the model's pyfunc representation accepts pandas DataFrames as inference inputs.\n",
      "WARNING:absl:Found untraced functions such as _jit_compiled_convolution_op, _update_step_xla while saving (showing 2 of 2). These functions will not be directly callable after loading.\n"
     ]
    },
    {
     "name": "stdout",
     "output_type": "stream",
     "text": [
      "INFO:tensorflow:Assets written to: C:\\Users\\trist\\AppData\\Local\\Temp\\tmp6cqh1jg5\\model\\data\\model\\assets\n"
     ]
    },
    {
     "name": "stderr",
     "output_type": "stream",
     "text": [
      "INFO:tensorflow:Assets written to: C:\\Users\\trist\\AppData\\Local\\Temp\\tmp6cqh1jg5\\model\\data\\model\\assets\n",
      "2024/10/12 07:39:22 WARNING mlflow.models.model: Model logged without a signature and input example. Please set `input_example` parameter when logging the model to auto infer the model signature.\n"
     ]
    },
    {
     "name": "stdout",
     "output_type": "stream",
     "text": [
      "Epoch 1/20\n",
      "200/200 [==============================] - 11s 49ms/step - loss: 0.7672 - accuracy: 0.5503 - val_loss: 0.6888 - val_accuracy: 0.5541 - lr: 0.0010\n",
      "Epoch 2/20\n",
      "200/200 [==============================] - 10s 49ms/step - loss: 0.6354 - accuracy: 0.6367 - val_loss: 0.6431 - val_accuracy: 0.6600 - lr: 0.0010\n",
      "Epoch 3/20\n",
      "200/200 [==============================] - 10s 48ms/step - loss: 0.5707 - accuracy: 0.7078 - val_loss: 0.5716 - val_accuracy: 0.7250 - lr: 0.0010\n",
      "Epoch 4/20\n",
      "200/200 [==============================] - 10s 48ms/step - loss: 0.5270 - accuracy: 0.7414 - val_loss: 0.5349 - val_accuracy: 0.7334 - lr: 0.0010\n",
      "Epoch 5/20\n",
      "200/200 [==============================] - 10s 48ms/step - loss: 0.4846 - accuracy: 0.7720 - val_loss: 0.5360 - val_accuracy: 0.7378 - lr: 0.0010\n",
      "Epoch 6/20\n",
      "200/200 [==============================] - 10s 48ms/step - loss: 0.4531 - accuracy: 0.7913 - val_loss: 0.5429 - val_accuracy: 0.7281 - lr: 0.0010\n",
      "Epoch 7/20\n",
      "200/200 [==============================] - 10s 48ms/step - loss: 0.3705 - accuracy: 0.8414 - val_loss: 0.5602 - val_accuracy: 0.7359 - lr: 2.0000e-04\n",
      "Epoch 8/20\n",
      "200/200 [==============================] - 10s 48ms/step - loss: 0.3325 - accuracy: 0.8607 - val_loss: 0.6204 - val_accuracy: 0.7266 - lr: 2.0000e-04\n",
      "100/100 [==============================] - 1s 10ms/step\n",
      "100/100 [==============================] - 1s 10ms/step\n"
     ]
    },
    {
     "name": "stderr",
     "output_type": "stream",
     "text": [
      "2024/10/12 07:40:44 WARNING mlflow.tensorflow: You are saving a TensorFlow Core model or Keras model without a signature. Inference with mlflow.pyfunc.spark_udf() will not work unless the model's pyfunc representation accepts pandas DataFrames as inference inputs.\n",
      "WARNING:absl:Found untraced functions such as _jit_compiled_convolution_op, _update_step_xla while saving (showing 2 of 2). These functions will not be directly callable after loading.\n"
     ]
    },
    {
     "name": "stdout",
     "output_type": "stream",
     "text": [
      "INFO:tensorflow:Assets written to: C:\\Users\\trist\\AppData\\Local\\Temp\\tmp5p6y23iu\\model\\data\\model\\assets\n"
     ]
    },
    {
     "name": "stderr",
     "output_type": "stream",
     "text": [
      "INFO:tensorflow:Assets written to: C:\\Users\\trist\\AppData\\Local\\Temp\\tmp5p6y23iu\\model\\data\\model\\assets\n",
      "2024/10/12 07:40:51 WARNING mlflow.models.model: Model logged without a signature and input example. Please set `input_example` parameter when logging the model to auto infer the model signature.\n"
     ]
    },
    {
     "name": "stdout",
     "output_type": "stream",
     "text": [
      "Epoch 1/20\n",
      "200/200 [==============================] - 15s 71ms/step - loss: 0.7509 - accuracy: 0.5473 - val_loss: 0.6873 - val_accuracy: 0.6359 - lr: 0.0010\n",
      "Epoch 2/20\n",
      "200/200 [==============================] - 14s 70ms/step - loss: 0.6337 - accuracy: 0.6435 - val_loss: 0.6574 - val_accuracy: 0.6916 - lr: 0.0010\n",
      "Epoch 3/20\n",
      "200/200 [==============================] - 14s 70ms/step - loss: 0.5668 - accuracy: 0.7106 - val_loss: 0.5709 - val_accuracy: 0.7262 - lr: 0.0010\n",
      "Epoch 4/20\n",
      "200/200 [==============================] - 14s 70ms/step - loss: 0.5157 - accuracy: 0.7484 - val_loss: 0.5261 - val_accuracy: 0.7334 - lr: 0.0010\n",
      "Epoch 5/20\n",
      "200/200 [==============================] - 14s 70ms/step - loss: 0.4780 - accuracy: 0.7763 - val_loss: 0.5607 - val_accuracy: 0.7141 - lr: 0.0010\n",
      "Epoch 6/20\n",
      "200/200 [==============================] - 14s 71ms/step - loss: 0.4336 - accuracy: 0.8022 - val_loss: 0.5704 - val_accuracy: 0.7188 - lr: 0.0010\n",
      "Epoch 7/20\n",
      "200/200 [==============================] - 14s 72ms/step - loss: 0.3279 - accuracy: 0.8619 - val_loss: 0.6630 - val_accuracy: 0.7194 - lr: 2.0000e-04\n",
      "Epoch 8/20\n",
      "200/200 [==============================] - 14s 71ms/step - loss: 0.2794 - accuracy: 0.8848 - val_loss: 0.6850 - val_accuracy: 0.7356 - lr: 2.0000e-04\n",
      "100/100 [==============================] - 2s 14ms/step\n",
      "100/100 [==============================] - 1s 14ms/step\n"
     ]
    },
    {
     "name": "stderr",
     "output_type": "stream",
     "text": [
      "2024/10/12 07:42:50 WARNING mlflow.tensorflow: You are saving a TensorFlow Core model or Keras model without a signature. Inference with mlflow.pyfunc.spark_udf() will not work unless the model's pyfunc representation accepts pandas DataFrames as inference inputs.\n",
      "WARNING:absl:Found untraced functions such as _jit_compiled_convolution_op, _update_step_xla while saving (showing 2 of 2). These functions will not be directly callable after loading.\n"
     ]
    },
    {
     "name": "stdout",
     "output_type": "stream",
     "text": [
      "INFO:tensorflow:Assets written to: C:\\Users\\trist\\AppData\\Local\\Temp\\tmpepvh8934\\model\\data\\model\\assets\n"
     ]
    },
    {
     "name": "stderr",
     "output_type": "stream",
     "text": [
      "INFO:tensorflow:Assets written to: C:\\Users\\trist\\AppData\\Local\\Temp\\tmpepvh8934\\model\\data\\model\\assets\n",
      "2024/10/12 07:42:56 WARNING mlflow.models.model: Model logged without a signature and input example. Please set `input_example` parameter when logging the model to auto infer the model signature.\n"
     ]
    },
    {
     "name": "stdout",
     "output_type": "stream",
     "text": [
      "Epoch 1/20\n",
      "200/200 [==============================] - 27s 129ms/step - loss: 0.7596 - accuracy: 0.5539 - val_loss: 0.6892 - val_accuracy: 0.6244 - lr: 0.0010\n",
      "Epoch 2/20\n",
      "200/200 [==============================] - 26s 130ms/step - loss: 0.6352 - accuracy: 0.6371 - val_loss: 0.6551 - val_accuracy: 0.7116 - lr: 0.0010\n",
      "Epoch 3/20\n",
      "200/200 [==============================] - 26s 130ms/step - loss: 0.5890 - accuracy: 0.6873 - val_loss: 0.5910 - val_accuracy: 0.7138 - lr: 0.0010\n",
      "Epoch 4/20\n",
      "200/200 [==============================] - 26s 129ms/step - loss: 0.5306 - accuracy: 0.7366 - val_loss: 0.5507 - val_accuracy: 0.7337 - lr: 0.0010\n",
      "Epoch 5/20\n",
      "200/200 [==============================] - 26s 130ms/step - loss: 0.4911 - accuracy: 0.7671 - val_loss: 0.5318 - val_accuracy: 0.7312 - lr: 0.0010\n",
      "Epoch 6/20\n",
      "200/200 [==============================] - 26s 129ms/step - loss: 0.4409 - accuracy: 0.7980 - val_loss: 0.5373 - val_accuracy: 0.7287 - lr: 0.0010\n",
      "Epoch 7/20\n",
      "200/200 [==============================] - 26s 129ms/step - loss: 0.3995 - accuracy: 0.8228 - val_loss: 0.5811 - val_accuracy: 0.7184 - lr: 0.0010\n",
      "Epoch 8/20\n",
      "200/200 [==============================] - 26s 129ms/step - loss: 0.2799 - accuracy: 0.8873 - val_loss: 0.6781 - val_accuracy: 0.7309 - lr: 2.0000e-04\n",
      "Epoch 9/20\n",
      "200/200 [==============================] - 26s 129ms/step - loss: 0.2139 - accuracy: 0.9171 - val_loss: 0.7398 - val_accuracy: 0.7312 - lr: 2.0000e-04\n",
      "100/100 [==============================] - 3s 25ms/step\n",
      "100/100 [==============================] - 3s 25ms/step\n"
     ]
    },
    {
     "name": "stderr",
     "output_type": "stream",
     "text": [
      "2024/10/12 07:46:56 WARNING mlflow.tensorflow: You are saving a TensorFlow Core model or Keras model without a signature. Inference with mlflow.pyfunc.spark_udf() will not work unless the model's pyfunc representation accepts pandas DataFrames as inference inputs.\n",
      "WARNING:absl:Found untraced functions such as _jit_compiled_convolution_op, _update_step_xla while saving (showing 2 of 2). These functions will not be directly callable after loading.\n"
     ]
    },
    {
     "name": "stdout",
     "output_type": "stream",
     "text": [
      "INFO:tensorflow:Assets written to: C:\\Users\\trist\\AppData\\Local\\Temp\\tmp0gi3cd1m\\model\\data\\model\\assets\n"
     ]
    },
    {
     "name": "stderr",
     "output_type": "stream",
     "text": [
      "INFO:tensorflow:Assets written to: C:\\Users\\trist\\AppData\\Local\\Temp\\tmp0gi3cd1m\\model\\data\\model\\assets\n",
      "2024/10/12 07:47:03 WARNING mlflow.models.model: Model logged without a signature and input example. Please set `input_example` parameter when logging the model to auto infer the model signature.\n"
     ]
    },
    {
     "name": "stdout",
     "output_type": "stream",
     "text": [
      "Meilleurs paramètres : {'activation_type': 'prelu', 'dropout_rate': 0.5, 'kernel_size': 3, 'num_filters': 256} avec une accuracy de 0.7528\n"
     ]
    }
   ],
   "source": [
    "# Stemming + FastText\n",
    "best_cnn_model_stem_ft, best_params_stem_ft = train_and_log_cnn(\n",
    "    X_train_stem_ft, y_train_stem_ft, X_test_stem_ft, y_test_stem_ft, \n",
    "    experiment_name=\"CNN_FastText_Stemming\", param_grid=param_grid_cnn, max_length=100\n",
    ")\n"
   ]
  },
  {
   "cell_type": "markdown",
   "id": "e1a90500-c698-4075-ab0c-7398d74ff19e",
   "metadata": {},
   "source": [
    "# 10. Définition de l'architecture du modèle LSTM"
   ]
  },
  {
   "cell_type": "code",
   "execution_count": 20,
   "id": "73116770-7585-4cc5-9020-80ab41f4e14a",
   "metadata": {},
   "outputs": [],
   "source": [
    "import mlflow\n",
    "import mlflow.keras\n",
    "import time\n",
    "from keras.models import Sequential\n",
    "from keras.layers import LSTM, Dense, Dropout, BatchNormalization, LeakyReLU, PReLU\n",
    "from keras.callbacks import EarlyStopping, ReduceLROnPlateau\n",
    "from sklearn.metrics import accuracy_score, roc_auc_score, precision_score, recall_score, f1_score, confusion_matrix, roc_curve\n",
    "import seaborn as sns\n",
    "import matplotlib.pyplot as plt\n",
    "import numpy as np\n",
    "from sklearn.model_selection import ParameterGrid\n",
    "\n",
    "# Fonction pour créer un modèle LSTM sans la couche Bidirectionnelle\n",
    "def create_lstm_model(input_shape, lstm_units=128, dropout_rate=0.2, activation_type='relu'):\n",
    "    model = Sequential()\n",
    "\n",
    "    # Couche LSTM simple\n",
    "    model.add(LSTM(lstm_units, return_sequences=False, input_shape=input_shape))\n",
    "    \n",
    "    # Batch Normalization après la couche LSTM\n",
    "    model.add(BatchNormalization())\n",
    "\n",
    "    # Activation alternative\n",
    "    if activation_type == 'leakyrelu':\n",
    "        model.add(LeakyReLU())\n",
    "    elif activation_type == 'prelu':\n",
    "        model.add(PReLU())\n",
    "    else:\n",
    "        model.add(Dense(128, activation=activation_type))\n",
    "\n",
    "    # Dropout pour éviter le surapprentissage\n",
    "    model.add(Dropout(dropout_rate))\n",
    "    \n",
    "    # Couche Dense\n",
    "    model.add(Dense(64, activation='relu'))\n",
    "    model.add(Dropout(dropout_rate))\n",
    "    \n",
    "    # Couche de sortie\n",
    "    model.add(Dense(1, activation='sigmoid'))\n",
    "\n",
    "    # Compilation du modèle\n",
    "    model.compile(optimizer='adam', loss='binary_crossentropy', metrics=['accuracy'])\n",
    "    \n",
    "    return model\n",
    "\n",
    "# Fonction pour entraîner et loguer un modèle LSTM avec GridSearch et les métriques avancées\n",
    "def train_and_log_lstm(X_train, y_train, X_test, y_test, experiment_name, param_grid, input_shape, max_length=300):\n",
    "    mlflow.set_experiment(experiment_name)\n",
    "    \n",
    "    best_model = None\n",
    "    best_accuracy = 0\n",
    "    best_params = None\n",
    "\n",
    "    # Parcourir chaque combinaison d'hyperparamètres\n",
    "    for params in ParameterGrid(param_grid):\n",
    "        lstm_units = params['lstm_units']\n",
    "        dropout_rate = params['dropout_rate']\n",
    "        activation_type = params['activation_type']\n",
    "\n",
    "        with mlflow.start_run(run_name=f\"LSTM_units={lstm_units}_dropout={dropout_rate}_activation={activation_type}\"):\n",
    "\n",
    "            # Créer le modèle LSTM avec les hyperparamètres courants\n",
    "            model = create_lstm_model(input_shape=input_shape, lstm_units=lstm_units, dropout_rate=dropout_rate, activation_type=activation_type)\n",
    "\n",
    "            # Early stopping pour éviter l'overfitting\n",
    "            early_stopping = EarlyStopping(monitor='val_loss', patience=4)\n",
    "\n",
    "            # Réduction du taux d'apprentissage lorsque la validation stagne\n",
    "            reduce_lr = ReduceLROnPlateau(monitor='val_loss', factor=0.2, patience=2, min_lr=0.0001)\n",
    "\n",
    "            # Entraîner le modèle\n",
    "            start_time = time.time()\n",
    "            history = model.fit(X_train, y_train, epochs=20, batch_size=64, validation_data=(X_test, y_test), callbacks=[early_stopping, reduce_lr], verbose=1)\n",
    "            training_time = time.time() - start_time\n",
    "\n",
    "            # Prédictions et évaluation\n",
    "            y_pred = (model.predict(X_test) > 0.5).astype(\"int32\")\n",
    "            y_pred_proba = model.predict(X_test)\n",
    "            accuracy = accuracy_score(y_test, y_pred)\n",
    "            auc_score = roc_auc_score(y_test, y_pred_proba)\n",
    "            precision = precision_score(y_test, y_pred)\n",
    "            recall = recall_score(y_test, y_pred)\n",
    "            f1 = f1_score(y_test, y_pred)\n",
    "\n",
    "            # Matrice de confusion\n",
    "            conf_matrix = confusion_matrix(y_test, y_pred)\n",
    "\n",
    "            # Loguer les hyperparamètres dans MLFlow\n",
    "            mlflow.log_param(\"lstm_units\", lstm_units)\n",
    "            mlflow.log_param(\"dropout_rate\", dropout_rate)\n",
    "            mlflow.log_param(\"activation_type\", activation_type)\n",
    "\n",
    "            # Loguer les métriques dans MLFlow\n",
    "            mlflow.log_metric(\"accuracy\", accuracy)\n",
    "            mlflow.log_metric(\"auc\", auc_score)\n",
    "            mlflow.log_metric(\"precision\", precision)\n",
    "            mlflow.log_metric(\"recall\", recall)\n",
    "            mlflow.log_metric(\"f1_score\", f1)\n",
    "            mlflow.log_metric(\"training_time\", training_time)\n",
    "\n",
    "            # Sauvegarder le modèle avec MLFlow\n",
    "            mlflow.keras.log_model(model, f\"lstm_model_{lstm_units}_{dropout_rate}_{activation_type}\")\n",
    "\n",
    "            # Sauvegarder et loguer la matrice de confusion\n",
    "            plt.figure(figsize=(6, 4))\n",
    "            sns.heatmap(conf_matrix, annot=True, fmt=\"d\", cmap=\"Blues\", cbar=False)\n",
    "            plt.xlabel('Prédictions')\n",
    "            plt.ylabel('Vérités')\n",
    "            plt.title(f\"Matrice de Confusion - LSTM\")\n",
    "            conf_matrix_path = f\"./matrice/confusion_matrix_lstm_units={lstm_units}_dropout={dropout_rate}_activation={activation_type}.png\"\n",
    "            plt.savefig(conf_matrix_path)\n",
    "            mlflow.log_artifact(conf_matrix_path)\n",
    "            plt.close()  # Fermer la figure pour éviter l'affichage dans le notebook\n",
    "            \n",
    "            # Sauvegarder et loguer la courbe ROC\n",
    "            fpr, tpr, _ = roc_curve(y_test, y_pred_proba)\n",
    "            plt.figure()\n",
    "            plt.plot(fpr, tpr, label=f\"ROC curve (AUC = {auc_score:.2f})\")\n",
    "            plt.xlabel(\"False Positive Rate\")\n",
    "            plt.ylabel(\"True Positive Rate\")\n",
    "            plt.title(\"ROC Curve\")\n",
    "            plt.legend(loc=\"best\")\n",
    "            roc_curve_path = f\"./matrice/roc_curve_lstm_units={lstm_units}_dropout={dropout_rate}_activation={activation_type}.png\"\n",
    "            plt.savefig(roc_curve_path)\n",
    "            mlflow.log_artifact(roc_curve_path)\n",
    "            plt.close()  # Fermer la figure pour éviter l'affichage dans le notebook\n",
    "\n",
    "            # Comparer pour garder le meilleur modèle\n",
    "            if accuracy > best_accuracy:\n",
    "                best_accuracy = accuracy\n",
    "                best_params = params\n",
    "                best_model = model\n",
    "\n",
    "    print(f\"Meilleurs paramètres : {best_params} avec une accuracy de {best_accuracy:.4f}\")\n",
    "\n",
    "    # Retourner le meilleur modèle\n",
    "    return best_model, best_params\n",
    "\n",
    "# GridSearch pour le modèle LSTM avec les hyperparamètres\n",
    "param_grid_lstm = {\n",
    "    'lstm_units': [64, 128, 256],      # Nombre de cellules LSTM\n",
    "    'dropout_rate': [0.2, 0.5],        # Taux de Dropout\n",
    "    'activation_type': ['relu', 'leakyrelu', 'prelu']  # Type d'activation\n",
    "}\n"
   ]
  },
  {
   "cell_type": "markdown",
   "id": "9acb5d88-0a3f-47f1-a98d-5e3da2669827",
   "metadata": {},
   "source": [
    "## 11 : Entraînement des Modèles LSTM "
   ]
  },
  {
   "cell_type": "code",
   "execution_count": 26,
   "id": "ca3e3619-bdc3-4c34-b9c9-bb918b12834a",
   "metadata": {},
   "outputs": [],
   "source": [
    "input_shape = (100, 300)  # max_length=100, embedding_dim=300"
   ]
  },
  {
   "cell_type": "code",
   "execution_count": 38,
   "id": "bfd4ab81-f57a-42a5-acdb-54d1f8910fc8",
   "metadata": {
    "scrolled": true
   },
   "outputs": [
    {
     "name": "stderr",
     "output_type": "stream",
     "text": [
      "WARNING:root:Malformed experiment 'matrice'. Detailed error Yaml file 'D:\\Master_Openclassroom\\Github\\projet7-op\\notebooks\\modèle_avancé\\mlruns\\matrice\\meta.yaml' does not exist.\n",
      "Traceback (most recent call last):\n",
      "  File \"D:\\Master_Openclassroom\\python\\Lib\\site-packages\\mlflow\\store\\tracking\\file_store.py\", line 327, in search_experiments\n",
      "    exp = self._get_experiment(exp_id, view_type)\n",
      "          ^^^^^^^^^^^^^^^^^^^^^^^^^^^^^^^^^^^^^^^\n",
      "  File \"D:\\Master_Openclassroom\\python\\Lib\\site-packages\\mlflow\\store\\tracking\\file_store.py\", line 421, in _get_experiment\n",
      "    meta = FileStore._read_yaml(experiment_dir, FileStore.META_DATA_FILE_NAME)\n",
      "           ^^^^^^^^^^^^^^^^^^^^^^^^^^^^^^^^^^^^^^^^^^^^^^^^^^^^^^^^^^^^^^^^^^^\n",
      "  File \"D:\\Master_Openclassroom\\python\\Lib\\site-packages\\mlflow\\store\\tracking\\file_store.py\", line 1367, in _read_yaml\n",
      "    return _read_helper(root, file_name, attempts_remaining=retries)\n",
      "           ^^^^^^^^^^^^^^^^^^^^^^^^^^^^^^^^^^^^^^^^^^^^^^^^^^^^^^^^^\n",
      "  File \"D:\\Master_Openclassroom\\python\\Lib\\site-packages\\mlflow\\store\\tracking\\file_store.py\", line 1360, in _read_helper\n",
      "    result = read_yaml(root, file_name)\n",
      "             ^^^^^^^^^^^^^^^^^^^^^^^^^^\n",
      "  File \"D:\\Master_Openclassroom\\python\\Lib\\site-packages\\mlflow\\utils\\file_utils.py\", line 309, in read_yaml\n",
      "    raise MissingConfigException(f\"Yaml file '{file_path}' does not exist.\")\n",
      "mlflow.exceptions.MissingConfigException: Yaml file 'D:\\Master_Openclassroom\\Github\\projet7-op\\notebooks\\modèle_avancé\\mlruns\\matrice\\meta.yaml' does not exist.\n"
     ]
    },
    {
     "name": "stdout",
     "output_type": "stream",
     "text": [
      "Epoch 1/20\n",
      "200/200 [==============================] - 54s 263ms/step - loss: 0.5908 - accuracy: 0.6845 - val_loss: 0.6320 - val_accuracy: 0.7234 - lr: 0.0010\n",
      "Epoch 2/20\n",
      "200/200 [==============================] - 51s 256ms/step - loss: 0.5154 - accuracy: 0.7503 - val_loss: 0.5424 - val_accuracy: 0.7563 - lr: 0.0010\n",
      "Epoch 3/20\n",
      "200/200 [==============================] - 51s 255ms/step - loss: 0.4914 - accuracy: 0.7647 - val_loss: 0.5516 - val_accuracy: 0.7053 - lr: 0.0010\n",
      "Epoch 4/20\n",
      "200/200 [==============================] - 51s 255ms/step - loss: 0.4678 - accuracy: 0.7752 - val_loss: 0.5067 - val_accuracy: 0.7481 - lr: 0.0010\n",
      "Epoch 5/20\n",
      "200/200 [==============================] - 51s 254ms/step - loss: 0.4440 - accuracy: 0.7894 - val_loss: 0.5207 - val_accuracy: 0.7447 - lr: 0.0010\n",
      "Epoch 6/20\n",
      "200/200 [==============================] - 51s 254ms/step - loss: 0.4205 - accuracy: 0.8049 - val_loss: 0.6014 - val_accuracy: 0.7384 - lr: 0.0010\n",
      "Epoch 7/20\n",
      "200/200 [==============================] - 51s 254ms/step - loss: 0.3698 - accuracy: 0.8311 - val_loss: 0.5214 - val_accuracy: 0.7513 - lr: 2.0000e-04\n",
      "Epoch 8/20\n",
      "200/200 [==============================] - 51s 256ms/step - loss: 0.3491 - accuracy: 0.8416 - val_loss: 0.5483 - val_accuracy: 0.7466 - lr: 2.0000e-04\n",
      "100/100 [==============================] - 9s 87ms/step\n",
      "100/100 [==============================] - 9s 86ms/step\n"
     ]
    },
    {
     "name": "stderr",
     "output_type": "stream",
     "text": [
      "2024/10/11 14:16:51 WARNING mlflow.tensorflow: You are saving a TensorFlow Core model or Keras model without a signature. Inference with mlflow.pyfunc.spark_udf() will not work unless the model's pyfunc representation accepts pandas DataFrames as inference inputs.\n",
      "WARNING:absl:Found untraced functions such as _update_step_xla, lstm_cell_55_layer_call_fn, lstm_cell_55_layer_call_and_return_conditional_losses while saving (showing 3 of 3). These functions will not be directly callable after loading.\n"
     ]
    },
    {
     "name": "stdout",
     "output_type": "stream",
     "text": [
      "INFO:tensorflow:Assets written to: C:\\Users\\trist\\AppData\\Local\\Temp\\tmpapd9f4ge\\model\\data\\model\\assets\n"
     ]
    },
    {
     "name": "stderr",
     "output_type": "stream",
     "text": [
      "INFO:tensorflow:Assets written to: C:\\Users\\trist\\AppData\\Local\\Temp\\tmpapd9f4ge\\model\\data\\model\\assets\n",
      "2024/10/11 14:17:07 WARNING mlflow.models.model: Model logged without a signature and input example. Please set `input_example` parameter when logging the model to auto infer the model signature.\n"
     ]
    },
    {
     "name": "stdout",
     "output_type": "stream",
     "text": [
      "Epoch 1/20\n",
      "200/200 [==============================] - 198s 979ms/step - loss: 0.5822 - accuracy: 0.6973 - val_loss: 0.6418 - val_accuracy: 0.7422 - lr: 0.0010\n",
      "Epoch 2/20\n",
      "200/200 [==============================] - 195s 974ms/step - loss: 0.5092 - accuracy: 0.7514 - val_loss: 0.5613 - val_accuracy: 0.7375 - lr: 0.0010\n",
      "Epoch 3/20\n",
      "200/200 [==============================] - 195s 975ms/step - loss: 0.4895 - accuracy: 0.7637 - val_loss: 0.5236 - val_accuracy: 0.7519 - lr: 0.0010\n",
      "Epoch 4/20\n",
      "200/200 [==============================] - 195s 976ms/step - loss: 0.4594 - accuracy: 0.7783 - val_loss: 0.5331 - val_accuracy: 0.7509 - lr: 0.0010\n",
      "Epoch 5/20\n",
      "200/200 [==============================] - 195s 975ms/step - loss: 0.4352 - accuracy: 0.7951 - val_loss: 0.6158 - val_accuracy: 0.7250 - lr: 0.0010\n",
      "Epoch 6/20\n",
      "200/200 [==============================] - 195s 976ms/step - loss: 0.3806 - accuracy: 0.8249 - val_loss: 0.5654 - val_accuracy: 0.7431 - lr: 2.0000e-04\n",
      "Epoch 7/20\n",
      "200/200 [==============================] - 195s 976ms/step - loss: 0.3585 - accuracy: 0.8388 - val_loss: 0.5469 - val_accuracy: 0.7534 - lr: 2.0000e-04\n",
      "100/100 [==============================] - 9s 90ms/step\n",
      "100/100 [==============================] - 9s 90ms/step\n"
     ]
    },
    {
     "name": "stderr",
     "output_type": "stream",
     "text": [
      "2024/10/11 14:40:14 WARNING mlflow.tensorflow: You are saving a TensorFlow Core model or Keras model without a signature. Inference with mlflow.pyfunc.spark_udf() will not work unless the model's pyfunc representation accepts pandas DataFrames as inference inputs.\n",
      "WARNING:absl:Found untraced functions such as _update_step_xla, lstm_cell_56_layer_call_fn, lstm_cell_56_layer_call_and_return_conditional_losses while saving (showing 3 of 3). These functions will not be directly callable after loading.\n"
     ]
    },
    {
     "name": "stdout",
     "output_type": "stream",
     "text": [
      "INFO:tensorflow:Assets written to: C:\\Users\\trist\\AppData\\Local\\Temp\\tmp7mz5qnwa\\model\\data\\model\\assets\n"
     ]
    },
    {
     "name": "stderr",
     "output_type": "stream",
     "text": [
      "INFO:tensorflow:Assets written to: C:\\Users\\trist\\AppData\\Local\\Temp\\tmp7mz5qnwa\\model\\data\\model\\assets\n",
      "2024/10/11 14:40:29 WARNING mlflow.models.model: Model logged without a signature and input example. Please set `input_example` parameter when logging the model to auto infer the model signature.\n"
     ]
    },
    {
     "name": "stdout",
     "output_type": "stream",
     "text": [
      "Epoch 1/20\n",
      "200/200 [==============================] - 438s 2s/step - loss: 0.5868 - accuracy: 0.6906 - val_loss: 0.6681 - val_accuracy: 0.6800 - lr: 0.0010\n",
      "Epoch 2/20\n",
      "200/200 [==============================] - 433s 2s/step - loss: 0.5157 - accuracy: 0.7470 - val_loss: 0.6074 - val_accuracy: 0.6837 - lr: 0.0010\n",
      "Epoch 3/20\n",
      "200/200 [==============================] - 432s 2s/step - loss: 0.4869 - accuracy: 0.7694 - val_loss: 0.5615 - val_accuracy: 0.7069 - lr: 0.0010\n",
      "Epoch 4/20\n",
      "200/200 [==============================] - 434s 2s/step - loss: 0.4658 - accuracy: 0.7788 - val_loss: 0.5371 - val_accuracy: 0.7303 - lr: 0.0010\n",
      "Epoch 5/20\n",
      "200/200 [==============================] - 431s 2s/step - loss: 0.4363 - accuracy: 0.7930 - val_loss: 0.6088 - val_accuracy: 0.6916 - lr: 0.0010\n",
      "Epoch 6/20\n",
      "200/200 [==============================] - 430s 2s/step - loss: 0.4119 - accuracy: 0.8093 - val_loss: 0.5527 - val_accuracy: 0.7366 - lr: 0.0010\n",
      "Epoch 7/20\n",
      "200/200 [==============================] - 431s 2s/step - loss: 0.3473 - accuracy: 0.8445 - val_loss: 0.5423 - val_accuracy: 0.7456 - lr: 2.0000e-04\n",
      "Epoch 8/20\n",
      "200/200 [==============================] - 434s 2s/step - loss: 0.3167 - accuracy: 0.8631 - val_loss: 0.5731 - val_accuracy: 0.7519 - lr: 2.0000e-04\n",
      "100/100 [==============================] - 21s 203ms/step\n",
      "100/100 [==============================] - 20s 203ms/step\n"
     ]
    },
    {
     "name": "stderr",
     "output_type": "stream",
     "text": [
      "2024/10/11 15:38:54 WARNING mlflow.tensorflow: You are saving a TensorFlow Core model or Keras model without a signature. Inference with mlflow.pyfunc.spark_udf() will not work unless the model's pyfunc representation accepts pandas DataFrames as inference inputs.\n",
      "WARNING:absl:Found untraced functions such as _update_step_xla, lstm_cell_57_layer_call_fn, lstm_cell_57_layer_call_and_return_conditional_losses while saving (showing 3 of 3). These functions will not be directly callable after loading.\n"
     ]
    },
    {
     "name": "stdout",
     "output_type": "stream",
     "text": [
      "INFO:tensorflow:Assets written to: C:\\Users\\trist\\AppData\\Local\\Temp\\tmpgv63l2u0\\model\\data\\model\\assets\n"
     ]
    },
    {
     "name": "stderr",
     "output_type": "stream",
     "text": [
      "INFO:tensorflow:Assets written to: C:\\Users\\trist\\AppData\\Local\\Temp\\tmpgv63l2u0\\model\\data\\model\\assets\n",
      "2024/10/11 15:39:10 WARNING mlflow.models.model: Model logged without a signature and input example. Please set `input_example` parameter when logging the model to auto infer the model signature.\n"
     ]
    },
    {
     "name": "stdout",
     "output_type": "stream",
     "text": [
      "Epoch 1/20\n",
      "200/200 [==============================] - 62s 303ms/step - loss: 0.6307 - accuracy: 0.6496 - val_loss: 0.6562 - val_accuracy: 0.6012 - lr: 0.0010\n",
      "Epoch 2/20\n",
      "200/200 [==============================] - 60s 300ms/step - loss: 0.5451 - accuracy: 0.7328 - val_loss: 0.5613 - val_accuracy: 0.7491 - lr: 0.0010\n",
      "Epoch 3/20\n",
      "200/200 [==============================] - 60s 300ms/step - loss: 0.5194 - accuracy: 0.7496 - val_loss: 0.5670 - val_accuracy: 0.7069 - lr: 0.0010\n",
      "Epoch 4/20\n",
      "200/200 [==============================] - 60s 300ms/step - loss: 0.5071 - accuracy: 0.7573 - val_loss: 0.5065 - val_accuracy: 0.7547 - lr: 0.0010\n",
      "Epoch 5/20\n",
      "200/200 [==============================] - 60s 300ms/step - loss: 0.4889 - accuracy: 0.7646 - val_loss: 0.5041 - val_accuracy: 0.7569 - lr: 0.0010\n",
      "Epoch 6/20\n",
      "200/200 [==============================] - 60s 300ms/step - loss: 0.4734 - accuracy: 0.7758 - val_loss: 0.5025 - val_accuracy: 0.7462 - lr: 0.0010\n",
      "Epoch 7/20\n",
      "200/200 [==============================] - 60s 300ms/step - loss: 0.4628 - accuracy: 0.7821 - val_loss: 0.5450 - val_accuracy: 0.7369 - lr: 0.0010\n",
      "Epoch 8/20\n",
      "200/200 [==============================] - 60s 300ms/step - loss: 0.4461 - accuracy: 0.7862 - val_loss: 0.6017 - val_accuracy: 0.6753 - lr: 0.0010\n",
      "Epoch 9/20\n",
      "200/200 [==============================] - 60s 300ms/step - loss: 0.4137 - accuracy: 0.8064 - val_loss: 0.5003 - val_accuracy: 0.7603 - lr: 2.0000e-04\n",
      "Epoch 10/20\n",
      "200/200 [==============================] - 60s 302ms/step - loss: 0.4055 - accuracy: 0.8100 - val_loss: 0.5072 - val_accuracy: 0.7581 - lr: 2.0000e-04\n",
      "Epoch 11/20\n",
      "200/200 [==============================] - 62s 309ms/step - loss: 0.3932 - accuracy: 0.8179 - val_loss: 0.5211 - val_accuracy: 0.7547 - lr: 2.0000e-04\n",
      "Epoch 12/20\n",
      "200/200 [==============================] - 62s 310ms/step - loss: 0.3833 - accuracy: 0.8199 - val_loss: 0.5113 - val_accuracy: 0.7616 - lr: 1.0000e-04\n",
      "Epoch 13/20\n",
      "200/200 [==============================] - 62s 312ms/step - loss: 0.3822 - accuracy: 0.8214 - val_loss: 0.5213 - val_accuracy: 0.7616 - lr: 1.0000e-04\n",
      "100/100 [==============================] - 11s 108ms/step\n",
      "100/100 [==============================] - 11s 109ms/step\n"
     ]
    },
    {
     "name": "stderr",
     "output_type": "stream",
     "text": [
      "2024/10/11 15:52:42 WARNING mlflow.tensorflow: You are saving a TensorFlow Core model or Keras model without a signature. Inference with mlflow.pyfunc.spark_udf() will not work unless the model's pyfunc representation accepts pandas DataFrames as inference inputs.\n",
      "WARNING:absl:Found untraced functions such as _update_step_xla, lstm_cell_58_layer_call_fn, lstm_cell_58_layer_call_and_return_conditional_losses while saving (showing 3 of 3). These functions will not be directly callable after loading.\n"
     ]
    },
    {
     "name": "stdout",
     "output_type": "stream",
     "text": [
      "INFO:tensorflow:Assets written to: C:\\Users\\trist\\AppData\\Local\\Temp\\tmp9h_vnfy4\\model\\data\\model\\assets\n"
     ]
    },
    {
     "name": "stderr",
     "output_type": "stream",
     "text": [
      "INFO:tensorflow:Assets written to: C:\\Users\\trist\\AppData\\Local\\Temp\\tmp9h_vnfy4\\model\\data\\model\\assets\n",
      "2024/10/11 15:53:00 WARNING mlflow.models.model: Model logged without a signature and input example. Please set `input_example` parameter when logging the model to auto infer the model signature.\n"
     ]
    },
    {
     "name": "stdout",
     "output_type": "stream",
     "text": [
      "Epoch 1/20\n",
      "200/200 [==============================] - 198s 977ms/step - loss: 0.6319 - accuracy: 0.6606 - val_loss: 0.6593 - val_accuracy: 0.7013 - lr: 0.0010\n",
      "Epoch 2/20\n",
      "200/200 [==============================] - 193s 964ms/step - loss: 0.5478 - accuracy: 0.7274 - val_loss: 0.6018 - val_accuracy: 0.6919 - lr: 0.0010\n",
      "Epoch 3/20\n",
      "200/200 [==============================] - 195s 974ms/step - loss: 0.5253 - accuracy: 0.7402 - val_loss: 0.5391 - val_accuracy: 0.7156 - lr: 0.0010\n",
      "Epoch 4/20\n",
      "200/200 [==============================] - 196s 979ms/step - loss: 0.5053 - accuracy: 0.7564 - val_loss: 0.5875 - val_accuracy: 0.6550 - lr: 0.0010\n",
      "Epoch 5/20\n",
      "200/200 [==============================] - 195s 976ms/step - loss: 0.4915 - accuracy: 0.7638 - val_loss: 0.6096 - val_accuracy: 0.6947 - lr: 0.0010\n",
      "Epoch 6/20\n",
      "200/200 [==============================] - 196s 981ms/step - loss: 0.4612 - accuracy: 0.7820 - val_loss: 0.5080 - val_accuracy: 0.7503 - lr: 2.0000e-04\n",
      "Epoch 7/20\n",
      "200/200 [==============================] - 195s 977ms/step - loss: 0.4461 - accuracy: 0.7880 - val_loss: 0.5156 - val_accuracy: 0.7462 - lr: 2.0000e-04\n",
      "Epoch 8/20\n",
      "200/200 [==============================] - 195s 975ms/step - loss: 0.4405 - accuracy: 0.7912 - val_loss: 0.5230 - val_accuracy: 0.7491 - lr: 2.0000e-04\n",
      "Epoch 9/20\n",
      "200/200 [==============================] - 194s 970ms/step - loss: 0.4300 - accuracy: 0.8002 - val_loss: 0.5090 - val_accuracy: 0.7547 - lr: 1.0000e-04\n",
      "Epoch 10/20\n",
      "200/200 [==============================] - 193s 967ms/step - loss: 0.4274 - accuracy: 0.7997 - val_loss: 0.5009 - val_accuracy: 0.7566 - lr: 1.0000e-04\n",
      "Epoch 11/20\n",
      "200/200 [==============================] - 189s 943ms/step - loss: 0.4214 - accuracy: 0.8019 - val_loss: 0.5131 - val_accuracy: 0.7566 - lr: 1.0000e-04\n",
      "Epoch 12/20\n",
      "200/200 [==============================] - 187s 936ms/step - loss: 0.4115 - accuracy: 0.8060 - val_loss: 0.5085 - val_accuracy: 0.7534 - lr: 1.0000e-04\n",
      "Epoch 13/20\n",
      "200/200 [==============================] - 198s 989ms/step - loss: 0.4092 - accuracy: 0.8098 - val_loss: 0.5207 - val_accuracy: 0.7581 - lr: 1.0000e-04\n",
      "Epoch 14/20\n",
      "200/200 [==============================] - 195s 974ms/step - loss: 0.4058 - accuracy: 0.8101 - val_loss: 0.5112 - val_accuracy: 0.7563 - lr: 1.0000e-04\n",
      "100/100 [==============================] - 9s 86ms/step\n",
      "100/100 [==============================] - 9s 87ms/step\n"
     ]
    },
    {
     "name": "stderr",
     "output_type": "stream",
     "text": [
      "2024/10/11 16:38:36 WARNING mlflow.tensorflow: You are saving a TensorFlow Core model or Keras model without a signature. Inference with mlflow.pyfunc.spark_udf() will not work unless the model's pyfunc representation accepts pandas DataFrames as inference inputs.\n",
      "WARNING:absl:Found untraced functions such as _update_step_xla, lstm_cell_59_layer_call_fn, lstm_cell_59_layer_call_and_return_conditional_losses while saving (showing 3 of 3). These functions will not be directly callable after loading.\n"
     ]
    },
    {
     "name": "stdout",
     "output_type": "stream",
     "text": [
      "INFO:tensorflow:Assets written to: C:\\Users\\trist\\AppData\\Local\\Temp\\tmphuqnaqkm\\model\\data\\model\\assets\n"
     ]
    },
    {
     "name": "stderr",
     "output_type": "stream",
     "text": [
      "INFO:tensorflow:Assets written to: C:\\Users\\trist\\AppData\\Local\\Temp\\tmphuqnaqkm\\model\\data\\model\\assets\n",
      "2024/10/11 16:38:56 WARNING mlflow.models.model: Model logged without a signature and input example. Please set `input_example` parameter when logging the model to auto infer the model signature.\n"
     ]
    },
    {
     "name": "stdout",
     "output_type": "stream",
     "text": [
      "Epoch 1/20\n",
      "200/200 [==============================] - 445s 2s/step - loss: 0.6362 - accuracy: 0.6607 - val_loss: 0.6630 - val_accuracy: 0.6644 - lr: 0.0010\n",
      "Epoch 2/20\n",
      "200/200 [==============================] - 428s 2s/step - loss: 0.5536 - accuracy: 0.7241 - val_loss: 0.5869 - val_accuracy: 0.7400 - lr: 0.0010\n",
      "Epoch 3/20\n",
      "200/200 [==============================] - 430s 2s/step - loss: 0.5217 - accuracy: 0.7487 - val_loss: 0.5761 - val_accuracy: 0.6875 - lr: 0.0010\n",
      "Epoch 4/20\n",
      "200/200 [==============================] - 431s 2s/step - loss: 0.5093 - accuracy: 0.7529 - val_loss: 0.5547 - val_accuracy: 0.7328 - lr: 0.0010\n",
      "Epoch 5/20\n",
      "200/200 [==============================] - 423s 2s/step - loss: 0.4979 - accuracy: 0.7588 - val_loss: 0.5151 - val_accuracy: 0.7556 - lr: 0.0010\n",
      "Epoch 6/20\n",
      "200/200 [==============================] - 423s 2s/step - loss: 0.4812 - accuracy: 0.7739 - val_loss: 0.5024 - val_accuracy: 0.7456 - lr: 0.0010\n",
      "Epoch 7/20\n",
      "200/200 [==============================] - 423s 2s/step - loss: 0.4615 - accuracy: 0.7827 - val_loss: 0.5174 - val_accuracy: 0.7597 - lr: 0.0010\n",
      "Epoch 8/20\n",
      "200/200 [==============================] - 422s 2s/step - loss: 0.4504 - accuracy: 0.7893 - val_loss: 0.5028 - val_accuracy: 0.7606 - lr: 0.0010\n",
      "Epoch 9/20\n",
      "200/200 [==============================] - 422s 2s/step - loss: 0.4144 - accuracy: 0.8062 - val_loss: 0.5193 - val_accuracy: 0.7559 - lr: 2.0000e-04\n",
      "Epoch 10/20\n",
      "200/200 [==============================] - 423s 2s/step - loss: 0.3971 - accuracy: 0.8153 - val_loss: 0.5364 - val_accuracy: 0.7494 - lr: 2.0000e-04\n",
      "100/100 [==============================] - 20s 201ms/step\n",
      "100/100 [==============================] - 20s 200ms/step\n"
     ]
    },
    {
     "name": "stderr",
     "output_type": "stream",
     "text": [
      "2024/10/11 17:50:48 WARNING mlflow.tensorflow: You are saving a TensorFlow Core model or Keras model without a signature. Inference with mlflow.pyfunc.spark_udf() will not work unless the model's pyfunc representation accepts pandas DataFrames as inference inputs.\n",
      "WARNING:absl:Found untraced functions such as _update_step_xla, lstm_cell_60_layer_call_fn, lstm_cell_60_layer_call_and_return_conditional_losses while saving (showing 3 of 3). These functions will not be directly callable after loading.\n"
     ]
    },
    {
     "name": "stdout",
     "output_type": "stream",
     "text": [
      "INFO:tensorflow:Assets written to: C:\\Users\\trist\\AppData\\Local\\Temp\\tmpjtkqkebh\\model\\data\\model\\assets\n"
     ]
    },
    {
     "name": "stderr",
     "output_type": "stream",
     "text": [
      "INFO:tensorflow:Assets written to: C:\\Users\\trist\\AppData\\Local\\Temp\\tmpjtkqkebh\\model\\data\\model\\assets\n",
      "2024/10/11 17:51:10 WARNING mlflow.models.model: Model logged without a signature and input example. Please set `input_example` parameter when logging the model to auto infer the model signature.\n"
     ]
    },
    {
     "name": "stdout",
     "output_type": "stream",
     "text": [
      "Epoch 1/20\n",
      "200/200 [==============================] - 60s 290ms/step - loss: 0.5981 - accuracy: 0.6812 - val_loss: 0.6368 - val_accuracy: 0.7391 - lr: 0.0010\n",
      "Epoch 2/20\n",
      "200/200 [==============================] - 57s 285ms/step - loss: 0.5178 - accuracy: 0.7458 - val_loss: 0.5900 - val_accuracy: 0.6678 - lr: 0.0010\n",
      "Epoch 3/20\n",
      "200/200 [==============================] - 57s 284ms/step - loss: 0.4936 - accuracy: 0.7612 - val_loss: 0.5329 - val_accuracy: 0.7306 - lr: 0.0010\n",
      "Epoch 4/20\n",
      "200/200 [==============================] - 57s 285ms/step - loss: 0.4796 - accuracy: 0.7681 - val_loss: 0.5736 - val_accuracy: 0.7231 - lr: 0.0010\n",
      "Epoch 5/20\n",
      "200/200 [==============================] - 57s 284ms/step - loss: 0.4629 - accuracy: 0.7770 - val_loss: 0.5166 - val_accuracy: 0.7503 - lr: 0.0010\n",
      "Epoch 6/20\n",
      "200/200 [==============================] - 57s 284ms/step - loss: 0.4440 - accuracy: 0.7877 - val_loss: 0.5038 - val_accuracy: 0.7566 - lr: 0.0010\n",
      "Epoch 7/20\n",
      "200/200 [==============================] - 57s 284ms/step - loss: 0.4203 - accuracy: 0.8007 - val_loss: 0.4959 - val_accuracy: 0.7616 - lr: 0.0010\n",
      "Epoch 8/20\n",
      "200/200 [==============================] - 57s 285ms/step - loss: 0.4082 - accuracy: 0.8086 - val_loss: 0.5199 - val_accuracy: 0.7544 - lr: 0.0010\n",
      "Epoch 9/20\n",
      "200/200 [==============================] - 57s 285ms/step - loss: 0.3871 - accuracy: 0.8240 - val_loss: 0.5431 - val_accuracy: 0.7384 - lr: 0.0010\n",
      "Epoch 10/20\n",
      "200/200 [==============================] - 57s 285ms/step - loss: 0.3491 - accuracy: 0.8455 - val_loss: 0.5210 - val_accuracy: 0.7600 - lr: 2.0000e-04\n",
      "Epoch 11/20\n",
      "200/200 [==============================] - 57s 285ms/step - loss: 0.3322 - accuracy: 0.8509 - val_loss: 0.5239 - val_accuracy: 0.7572 - lr: 2.0000e-04\n",
      "100/100 [==============================] - 10s 97ms/step\n",
      "100/100 [==============================] - 10s 97ms/step\n"
     ]
    },
    {
     "name": "stderr",
     "output_type": "stream",
     "text": [
      "2024/10/11 18:01:59 WARNING mlflow.tensorflow: You are saving a TensorFlow Core model or Keras model without a signature. Inference with mlflow.pyfunc.spark_udf() will not work unless the model's pyfunc representation accepts pandas DataFrames as inference inputs.\n",
      "WARNING:absl:Found untraced functions such as _update_step_xla, lstm_cell_61_layer_call_fn, lstm_cell_61_layer_call_and_return_conditional_losses while saving (showing 3 of 3). These functions will not be directly callable after loading.\n"
     ]
    },
    {
     "name": "stdout",
     "output_type": "stream",
     "text": [
      "INFO:tensorflow:Assets written to: C:\\Users\\trist\\AppData\\Local\\Temp\\tmpksnfsfd1\\model\\data\\model\\assets\n"
     ]
    },
    {
     "name": "stderr",
     "output_type": "stream",
     "text": [
      "INFO:tensorflow:Assets written to: C:\\Users\\trist\\AppData\\Local\\Temp\\tmpksnfsfd1\\model\\data\\model\\assets\n",
      "2024/10/11 18:02:16 WARNING mlflow.models.model: Model logged without a signature and input example. Please set `input_example` parameter when logging the model to auto infer the model signature.\n"
     ]
    },
    {
     "name": "stdout",
     "output_type": "stream",
     "text": [
      "Epoch 1/20\n",
      "200/200 [==============================] - 182s 901ms/step - loss: 0.5801 - accuracy: 0.6928 - val_loss: 0.6413 - val_accuracy: 0.7262 - lr: 0.0010\n",
      "Epoch 2/20\n",
      "200/200 [==============================] - 179s 895ms/step - loss: 0.5146 - accuracy: 0.7461 - val_loss: 0.5741 - val_accuracy: 0.7028 - lr: 0.0010\n",
      "Epoch 3/20\n",
      "200/200 [==============================] - 179s 894ms/step - loss: 0.4846 - accuracy: 0.7702 - val_loss: 0.5009 - val_accuracy: 0.7472 - lr: 0.0010\n",
      "Epoch 4/20\n",
      "200/200 [==============================] - 179s 895ms/step - loss: 0.4622 - accuracy: 0.7792 - val_loss: 0.5118 - val_accuracy: 0.7500 - lr: 0.0010\n",
      "Epoch 5/20\n",
      "200/200 [==============================] - 179s 897ms/step - loss: 0.4432 - accuracy: 0.7906 - val_loss: 0.5394 - val_accuracy: 0.7447 - lr: 0.0010\n",
      "Epoch 6/20\n",
      "200/200 [==============================] - 179s 896ms/step - loss: 0.3971 - accuracy: 0.8206 - val_loss: 0.5094 - val_accuracy: 0.7584 - lr: 2.0000e-04\n",
      "Epoch 7/20\n",
      "200/200 [==============================] - 179s 895ms/step - loss: 0.3845 - accuracy: 0.8227 - val_loss: 0.5156 - val_accuracy: 0.7513 - lr: 2.0000e-04\n",
      "100/100 [==============================] - 9s 83ms/step\n",
      "100/100 [==============================] - 8s 83ms/step\n"
     ]
    },
    {
     "name": "stderr",
     "output_type": "stream",
     "text": [
      "2024/10/11 18:23:30 WARNING mlflow.tensorflow: You are saving a TensorFlow Core model or Keras model without a signature. Inference with mlflow.pyfunc.spark_udf() will not work unless the model's pyfunc representation accepts pandas DataFrames as inference inputs.\n",
      "WARNING:absl:Found untraced functions such as _update_step_xla, lstm_cell_62_layer_call_fn, lstm_cell_62_layer_call_and_return_conditional_losses while saving (showing 3 of 3). These functions will not be directly callable after loading.\n"
     ]
    },
    {
     "name": "stdout",
     "output_type": "stream",
     "text": [
      "INFO:tensorflow:Assets written to: C:\\Users\\trist\\AppData\\Local\\Temp\\tmpmj8fdean\\model\\data\\model\\assets\n"
     ]
    },
    {
     "name": "stderr",
     "output_type": "stream",
     "text": [
      "INFO:tensorflow:Assets written to: C:\\Users\\trist\\AppData\\Local\\Temp\\tmpmj8fdean\\model\\data\\model\\assets\n",
      "2024/10/11 18:23:51 WARNING mlflow.models.model: Model logged without a signature and input example. Please set `input_example` parameter when logging the model to auto infer the model signature.\n"
     ]
    },
    {
     "name": "stdout",
     "output_type": "stream",
     "text": [
      "Epoch 1/20\n",
      "200/200 [==============================] - 410s 2s/step - loss: 0.5828 - accuracy: 0.6982 - val_loss: 0.6377 - val_accuracy: 0.6966 - lr: 0.0010\n",
      "Epoch 2/20\n",
      "200/200 [==============================] - 385s 2s/step - loss: 0.5107 - accuracy: 0.7507 - val_loss: 0.5845 - val_accuracy: 0.7019 - lr: 0.0010\n",
      "Epoch 3/20\n",
      "200/200 [==============================] - 392s 2s/step - loss: 0.4771 - accuracy: 0.7698 - val_loss: 0.5073 - val_accuracy: 0.7522 - lr: 0.0010\n",
      "Epoch 4/20\n",
      "200/200 [==============================] - 390s 2s/step - loss: 0.4500 - accuracy: 0.7898 - val_loss: 0.6279 - val_accuracy: 0.6909 - lr: 0.0010\n",
      "Epoch 5/20\n",
      "200/200 [==============================] - 387s 2s/step - loss: 0.4242 - accuracy: 0.8016 - val_loss: 0.5143 - val_accuracy: 0.7506 - lr: 0.0010\n",
      "Epoch 6/20\n",
      "200/200 [==============================] - 385s 2s/step - loss: 0.3620 - accuracy: 0.8414 - val_loss: 0.5120 - val_accuracy: 0.7575 - lr: 2.0000e-04\n",
      "Epoch 7/20\n",
      "200/200 [==============================] - 391s 2s/step - loss: 0.3383 - accuracy: 0.8528 - val_loss: 0.5207 - val_accuracy: 0.7591 - lr: 2.0000e-04\n",
      "100/100 [==============================] - 19s 184ms/step\n",
      "100/100 [==============================] - 18s 184ms/step\n"
     ]
    },
    {
     "name": "stderr",
     "output_type": "stream",
     "text": [
      "2024/10/11 19:10:11 WARNING mlflow.tensorflow: You are saving a TensorFlow Core model or Keras model without a signature. Inference with mlflow.pyfunc.spark_udf() will not work unless the model's pyfunc representation accepts pandas DataFrames as inference inputs.\n",
      "WARNING:absl:Found untraced functions such as _update_step_xla, lstm_cell_63_layer_call_fn, lstm_cell_63_layer_call_and_return_conditional_losses while saving (showing 3 of 3). These functions will not be directly callable after loading.\n"
     ]
    },
    {
     "name": "stdout",
     "output_type": "stream",
     "text": [
      "INFO:tensorflow:Assets written to: C:\\Users\\trist\\AppData\\Local\\Temp\\tmp4nifnrkv\\model\\data\\model\\assets\n"
     ]
    },
    {
     "name": "stderr",
     "output_type": "stream",
     "text": [
      "INFO:tensorflow:Assets written to: C:\\Users\\trist\\AppData\\Local\\Temp\\tmp4nifnrkv\\model\\data\\model\\assets\n",
      "2024/10/11 19:10:28 WARNING mlflow.models.model: Model logged without a signature and input example. Please set `input_example` parameter when logging the model to auto infer the model signature.\n"
     ]
    },
    {
     "name": "stdout",
     "output_type": "stream",
     "text": [
      "Epoch 1/20\n",
      "200/200 [==============================] - 62s 301ms/step - loss: 0.6591 - accuracy: 0.6380 - val_loss: 0.6443 - val_accuracy: 0.6272 - lr: 0.0010\n",
      "Epoch 2/20\n",
      "200/200 [==============================] - 59s 293ms/step - loss: 0.5584 - accuracy: 0.7200 - val_loss: 0.5728 - val_accuracy: 0.7209 - lr: 0.0010\n",
      "Epoch 3/20\n",
      "200/200 [==============================] - 58s 293ms/step - loss: 0.5345 - accuracy: 0.7368 - val_loss: 0.5262 - val_accuracy: 0.7528 - lr: 0.0010\n",
      "Epoch 4/20\n",
      "200/200 [==============================] - 59s 293ms/step - loss: 0.5124 - accuracy: 0.7513 - val_loss: 0.5160 - val_accuracy: 0.7400 - lr: 0.0010\n",
      "Epoch 5/20\n",
      "200/200 [==============================] - 59s 293ms/step - loss: 0.5027 - accuracy: 0.7595 - val_loss: 0.5860 - val_accuracy: 0.6997 - lr: 0.0010\n",
      "Epoch 6/20\n",
      "200/200 [==============================] - 58s 292ms/step - loss: 0.4928 - accuracy: 0.7578 - val_loss: 0.4943 - val_accuracy: 0.7547 - lr: 0.0010\n",
      "Epoch 7/20\n",
      "200/200 [==============================] - 58s 292ms/step - loss: 0.4818 - accuracy: 0.7662 - val_loss: 0.5084 - val_accuracy: 0.7459 - lr: 0.0010\n",
      "Epoch 8/20\n",
      "200/200 [==============================] - 58s 292ms/step - loss: 0.4725 - accuracy: 0.7791 - val_loss: 0.5588 - val_accuracy: 0.7319 - lr: 0.0010\n",
      "Epoch 9/20\n",
      "200/200 [==============================] - 58s 291ms/step - loss: 0.4536 - accuracy: 0.7832 - val_loss: 0.4962 - val_accuracy: 0.7584 - lr: 2.0000e-04\n",
      "Epoch 10/20\n",
      "200/200 [==============================] - 58s 291ms/step - loss: 0.4470 - accuracy: 0.7883 - val_loss: 0.4966 - val_accuracy: 0.7538 - lr: 2.0000e-04\n",
      "100/100 [==============================] - 11s 106ms/step\n",
      "100/100 [==============================] - 11s 106ms/step\n"
     ]
    },
    {
     "name": "stderr",
     "output_type": "stream",
     "text": [
      "2024/10/11 19:20:38 WARNING mlflow.tensorflow: You are saving a TensorFlow Core model or Keras model without a signature. Inference with mlflow.pyfunc.spark_udf() will not work unless the model's pyfunc representation accepts pandas DataFrames as inference inputs.\n",
      "WARNING:absl:Found untraced functions such as _update_step_xla, lstm_cell_64_layer_call_fn, lstm_cell_64_layer_call_and_return_conditional_losses while saving (showing 3 of 3). These functions will not be directly callable after loading.\n"
     ]
    },
    {
     "name": "stdout",
     "output_type": "stream",
     "text": [
      "INFO:tensorflow:Assets written to: C:\\Users\\trist\\AppData\\Local\\Temp\\tmpih6n1cmd\\model\\data\\model\\assets\n"
     ]
    },
    {
     "name": "stderr",
     "output_type": "stream",
     "text": [
      "INFO:tensorflow:Assets written to: C:\\Users\\trist\\AppData\\Local\\Temp\\tmpih6n1cmd\\model\\data\\model\\assets\n",
      "2024/10/11 19:20:54 WARNING mlflow.models.model: Model logged without a signature and input example. Please set `input_example` parameter when logging the model to auto infer the model signature.\n"
     ]
    },
    {
     "name": "stdout",
     "output_type": "stream",
     "text": [
      "Epoch 1/20\n",
      "200/200 [==============================] - 193s 958ms/step - loss: 0.6565 - accuracy: 0.6463 - val_loss: 0.6557 - val_accuracy: 0.6228 - lr: 0.0010\n",
      "Epoch 2/20\n",
      "200/200 [==============================] - 187s 934ms/step - loss: 0.5554 - accuracy: 0.7216 - val_loss: 0.6229 - val_accuracy: 0.5984 - lr: 0.0010\n",
      "Epoch 3/20\n",
      "200/200 [==============================] - 187s 934ms/step - loss: 0.5229 - accuracy: 0.7410 - val_loss: 0.5530 - val_accuracy: 0.7287 - lr: 0.0010\n",
      "Epoch 4/20\n",
      "200/200 [==============================] - 186s 932ms/step - loss: 0.5079 - accuracy: 0.7513 - val_loss: 0.5311 - val_accuracy: 0.7337 - lr: 0.0010\n",
      "Epoch 5/20\n",
      "200/200 [==============================] - 186s 931ms/step - loss: 0.4965 - accuracy: 0.7548 - val_loss: 0.5262 - val_accuracy: 0.7284 - lr: 0.0010\n",
      "Epoch 6/20\n",
      "200/200 [==============================] - 186s 931ms/step - loss: 0.4834 - accuracy: 0.7664 - val_loss: 0.4985 - val_accuracy: 0.7578 - lr: 0.0010\n",
      "Epoch 7/20\n",
      "200/200 [==============================] - 186s 931ms/step - loss: 0.4758 - accuracy: 0.7730 - val_loss: 0.5472 - val_accuracy: 0.7003 - lr: 0.0010\n",
      "Epoch 8/20\n",
      "200/200 [==============================] - 186s 931ms/step - loss: 0.4622 - accuracy: 0.7813 - val_loss: 0.5350 - val_accuracy: 0.7525 - lr: 0.0010\n",
      "Epoch 9/20\n",
      "200/200 [==============================] - 186s 932ms/step - loss: 0.4381 - accuracy: 0.7918 - val_loss: 0.5073 - val_accuracy: 0.7491 - lr: 2.0000e-04\n",
      "Epoch 10/20\n",
      "200/200 [==============================] - 186s 931ms/step - loss: 0.4320 - accuracy: 0.7955 - val_loss: 0.5205 - val_accuracy: 0.7441 - lr: 2.0000e-04\n",
      "100/100 [==============================] - 9s 88ms/step\n",
      "100/100 [==============================] - 9s 89ms/step\n"
     ]
    },
    {
     "name": "stderr",
     "output_type": "stream",
     "text": [
      "2024/10/11 19:52:24 WARNING mlflow.tensorflow: You are saving a TensorFlow Core model or Keras model without a signature. Inference with mlflow.pyfunc.spark_udf() will not work unless the model's pyfunc representation accepts pandas DataFrames as inference inputs.\n",
      "WARNING:absl:Found untraced functions such as _update_step_xla, lstm_cell_65_layer_call_fn, lstm_cell_65_layer_call_and_return_conditional_losses while saving (showing 3 of 3). These functions will not be directly callable after loading.\n"
     ]
    },
    {
     "name": "stdout",
     "output_type": "stream",
     "text": [
      "INFO:tensorflow:Assets written to: C:\\Users\\trist\\AppData\\Local\\Temp\\tmpu2_pt634\\model\\data\\model\\assets\n"
     ]
    },
    {
     "name": "stderr",
     "output_type": "stream",
     "text": [
      "INFO:tensorflow:Assets written to: C:\\Users\\trist\\AppData\\Local\\Temp\\tmpu2_pt634\\model\\data\\model\\assets\n",
      "2024/10/11 19:52:40 WARNING mlflow.models.model: Model logged without a signature and input example. Please set `input_example` parameter when logging the model to auto infer the model signature.\n"
     ]
    },
    {
     "name": "stdout",
     "output_type": "stream",
     "text": [
      "Epoch 1/20\n",
      "200/200 [==============================] - 416s 2s/step - loss: 0.6195 - accuracy: 0.6747 - val_loss: 0.6690 - val_accuracy: 0.7088 - lr: 0.0010\n",
      "Epoch 2/20\n",
      "200/200 [==============================] - 421s 2s/step - loss: 0.5383 - accuracy: 0.7355 - val_loss: 0.5877 - val_accuracy: 0.7519 - lr: 0.0010\n",
      "Epoch 3/20\n",
      "200/200 [==============================] - 416s 2s/step - loss: 0.5201 - accuracy: 0.7460 - val_loss: 0.5356 - val_accuracy: 0.7391 - lr: 0.0010\n",
      "Epoch 4/20\n",
      "200/200 [==============================] - 419s 2s/step - loss: 0.5057 - accuracy: 0.7566 - val_loss: 0.5206 - val_accuracy: 0.7516 - lr: 0.0010\n",
      "Epoch 5/20\n",
      "200/200 [==============================] - 418s 2s/step - loss: 0.4904 - accuracy: 0.7638 - val_loss: 0.5100 - val_accuracy: 0.7366 - lr: 0.0010\n",
      "Epoch 6/20\n",
      "200/200 [==============================] - 417s 2s/step - loss: 0.4775 - accuracy: 0.7725 - val_loss: 0.5081 - val_accuracy: 0.7397 - lr: 0.0010\n",
      "Epoch 7/20\n",
      "200/200 [==============================] - 421s 2s/step - loss: 0.4637 - accuracy: 0.7762 - val_loss: 0.5056 - val_accuracy: 0.7538 - lr: 0.0010\n",
      "Epoch 8/20\n",
      "200/200 [==============================] - 422s 2s/step - loss: 0.4513 - accuracy: 0.7858 - val_loss: 0.5325 - val_accuracy: 0.7194 - lr: 0.0010\n",
      "Epoch 9/20\n",
      "200/200 [==============================] - 415s 2s/step - loss: 0.4376 - accuracy: 0.7924 - val_loss: 0.5126 - val_accuracy: 0.7578 - lr: 0.0010\n",
      "Epoch 10/20\n",
      "200/200 [==============================] - 422s 2s/step - loss: 0.4040 - accuracy: 0.8096 - val_loss: 0.5188 - val_accuracy: 0.7634 - lr: 2.0000e-04\n",
      "Epoch 11/20\n",
      "200/200 [==============================] - 418s 2s/step - loss: 0.3948 - accuracy: 0.8125 - val_loss: 0.5310 - val_accuracy: 0.7628 - lr: 2.0000e-04\n",
      "100/100 [==============================] - 21s 203ms/step\n",
      "100/100 [==============================] - 20s 203ms/step\n"
     ]
    },
    {
     "name": "stderr",
     "output_type": "stream",
     "text": [
      "2024/10/11 21:10:06 WARNING mlflow.tensorflow: You are saving a TensorFlow Core model or Keras model without a signature. Inference with mlflow.pyfunc.spark_udf() will not work unless the model's pyfunc representation accepts pandas DataFrames as inference inputs.\n",
      "WARNING:absl:Found untraced functions such as _update_step_xla, lstm_cell_66_layer_call_fn, lstm_cell_66_layer_call_and_return_conditional_losses while saving (showing 3 of 3). These functions will not be directly callable after loading.\n"
     ]
    },
    {
     "name": "stdout",
     "output_type": "stream",
     "text": [
      "INFO:tensorflow:Assets written to: C:\\Users\\trist\\AppData\\Local\\Temp\\tmp46sxjlg3\\model\\data\\model\\assets\n"
     ]
    },
    {
     "name": "stderr",
     "output_type": "stream",
     "text": [
      "INFO:tensorflow:Assets written to: C:\\Users\\trist\\AppData\\Local\\Temp\\tmp46sxjlg3\\model\\data\\model\\assets\n",
      "2024/10/11 21:10:22 WARNING mlflow.models.model: Model logged without a signature and input example. Please set `input_example` parameter when logging the model to auto infer the model signature.\n"
     ]
    },
    {
     "name": "stdout",
     "output_type": "stream",
     "text": [
      "Epoch 1/20\n",
      "200/200 [==============================] - 61s 294ms/step - loss: 0.5930 - accuracy: 0.6773 - val_loss: 0.6237 - val_accuracy: 0.6903 - lr: 0.0010\n",
      "Epoch 2/20\n",
      "200/200 [==============================] - 58s 290ms/step - loss: 0.5147 - accuracy: 0.7449 - val_loss: 0.5365 - val_accuracy: 0.7434 - lr: 0.0010\n",
      "Epoch 3/20\n",
      "200/200 [==============================] - 58s 291ms/step - loss: 0.4949 - accuracy: 0.7584 - val_loss: 0.5251 - val_accuracy: 0.7447 - lr: 0.0010\n",
      "Epoch 4/20\n",
      "200/200 [==============================] - 58s 291ms/step - loss: 0.4707 - accuracy: 0.7730 - val_loss: 0.5501 - val_accuracy: 0.7269 - lr: 0.0010\n",
      "Epoch 5/20\n",
      "200/200 [==============================] - 58s 291ms/step - loss: 0.4487 - accuracy: 0.7887 - val_loss: 0.6193 - val_accuracy: 0.7016 - lr: 0.0010\n",
      "Epoch 6/20\n",
      "200/200 [==============================] - 58s 291ms/step - loss: 0.4117 - accuracy: 0.8102 - val_loss: 0.5095 - val_accuracy: 0.7622 - lr: 2.0000e-04\n",
      "Epoch 7/20\n",
      "200/200 [==============================] - 58s 290ms/step - loss: 0.3970 - accuracy: 0.8185 - val_loss: 0.5110 - val_accuracy: 0.7588 - lr: 2.0000e-04\n",
      "Epoch 8/20\n",
      "200/200 [==============================] - 58s 291ms/step - loss: 0.3914 - accuracy: 0.8183 - val_loss: 0.5256 - val_accuracy: 0.7597 - lr: 2.0000e-04\n",
      "Epoch 9/20\n",
      "200/200 [==============================] - 58s 290ms/step - loss: 0.3810 - accuracy: 0.8281 - val_loss: 0.5206 - val_accuracy: 0.7541 - lr: 1.0000e-04\n",
      "Epoch 10/20\n",
      "200/200 [==============================] - 58s 290ms/step - loss: 0.3756 - accuracy: 0.8263 - val_loss: 0.5364 - val_accuracy: 0.7534 - lr: 1.0000e-04\n",
      "100/100 [==============================] - 11s 107ms/step\n",
      "100/100 [==============================] - 11s 108ms/step\n"
     ]
    },
    {
     "name": "stderr",
     "output_type": "stream",
     "text": [
      "2024/10/11 21:20:29 WARNING mlflow.tensorflow: You are saving a TensorFlow Core model or Keras model without a signature. Inference with mlflow.pyfunc.spark_udf() will not work unless the model's pyfunc representation accepts pandas DataFrames as inference inputs.\n",
      "WARNING:absl:Found untraced functions such as _update_step_xla, lstm_cell_67_layer_call_fn, lstm_cell_67_layer_call_and_return_conditional_losses while saving (showing 3 of 3). These functions will not be directly callable after loading.\n"
     ]
    },
    {
     "name": "stdout",
     "output_type": "stream",
     "text": [
      "INFO:tensorflow:Assets written to: C:\\Users\\trist\\AppData\\Local\\Temp\\tmpsh49b0rl\\model\\data\\model\\assets\n"
     ]
    },
    {
     "name": "stderr",
     "output_type": "stream",
     "text": [
      "INFO:tensorflow:Assets written to: C:\\Users\\trist\\AppData\\Local\\Temp\\tmpsh49b0rl\\model\\data\\model\\assets\n",
      "2024/10/11 21:20:45 WARNING mlflow.models.model: Model logged without a signature and input example. Please set `input_example` parameter when logging the model to auto infer the model signature.\n"
     ]
    },
    {
     "name": "stdout",
     "output_type": "stream",
     "text": [
      "Epoch 1/20\n",
      "200/200 [==============================] - 189s 934ms/step - loss: 0.5875 - accuracy: 0.6905 - val_loss: 0.6435 - val_accuracy: 0.7194 - lr: 0.0010\n",
      "Epoch 2/20\n",
      "200/200 [==============================] - 186s 932ms/step - loss: 0.5116 - accuracy: 0.7506 - val_loss: 0.5484 - val_accuracy: 0.7400 - lr: 0.0010\n",
      "Epoch 3/20\n",
      "200/200 [==============================] - 186s 932ms/step - loss: 0.4849 - accuracy: 0.7656 - val_loss: 0.5046 - val_accuracy: 0.7450 - lr: 0.0010\n",
      "Epoch 4/20\n",
      "200/200 [==============================] - 186s 931ms/step - loss: 0.4567 - accuracy: 0.7828 - val_loss: 0.5100 - val_accuracy: 0.7509 - lr: 0.0010\n",
      "Epoch 5/20\n",
      "200/200 [==============================] - 186s 930ms/step - loss: 0.4301 - accuracy: 0.7990 - val_loss: 0.5079 - val_accuracy: 0.7503 - lr: 0.0010\n",
      "Epoch 6/20\n",
      "200/200 [==============================] - 186s 932ms/step - loss: 0.3709 - accuracy: 0.8353 - val_loss: 0.5235 - val_accuracy: 0.7547 - lr: 2.0000e-04\n",
      "Epoch 7/20\n",
      "200/200 [==============================] - 186s 933ms/step - loss: 0.3561 - accuracy: 0.8438 - val_loss: 0.5355 - val_accuracy: 0.7591 - lr: 2.0000e-04\n",
      "100/100 [==============================] - 9s 87ms/step\n",
      "100/100 [==============================] - 9s 87ms/step\n"
     ]
    },
    {
     "name": "stderr",
     "output_type": "stream",
     "text": [
      "2024/10/11 21:42:50 WARNING mlflow.tensorflow: You are saving a TensorFlow Core model or Keras model without a signature. Inference with mlflow.pyfunc.spark_udf() will not work unless the model's pyfunc representation accepts pandas DataFrames as inference inputs.\n",
      "WARNING:absl:Found untraced functions such as _update_step_xla, lstm_cell_68_layer_call_fn, lstm_cell_68_layer_call_and_return_conditional_losses while saving (showing 3 of 3). These functions will not be directly callable after loading.\n"
     ]
    },
    {
     "name": "stdout",
     "output_type": "stream",
     "text": [
      "INFO:tensorflow:Assets written to: C:\\Users\\trist\\AppData\\Local\\Temp\\tmpx_3wa1k7\\model\\data\\model\\assets\n"
     ]
    },
    {
     "name": "stderr",
     "output_type": "stream",
     "text": [
      "INFO:tensorflow:Assets written to: C:\\Users\\trist\\AppData\\Local\\Temp\\tmpx_3wa1k7\\model\\data\\model\\assets\n",
      "2024/10/11 21:43:07 WARNING mlflow.models.model: Model logged without a signature and input example. Please set `input_example` parameter when logging the model to auto infer the model signature.\n"
     ]
    },
    {
     "name": "stdout",
     "output_type": "stream",
     "text": [
      "Epoch 1/20\n",
      "200/200 [==============================] - 414s 2s/step - loss: 0.5771 - accuracy: 0.6957 - val_loss: 0.6449 - val_accuracy: 0.6075 - lr: 0.0010\n",
      "Epoch 2/20\n",
      "200/200 [==============================] - 414s 2s/step - loss: 0.5060 - accuracy: 0.7549 - val_loss: 0.6789 - val_accuracy: 0.5312 - lr: 0.0010\n",
      "Epoch 3/20\n",
      "200/200 [==============================] - 411s 2s/step - loss: 0.4781 - accuracy: 0.7697 - val_loss: 0.5865 - val_accuracy: 0.6853 - lr: 0.0010\n",
      "Epoch 4/20\n",
      "200/200 [==============================] - 415s 2s/step - loss: 0.4459 - accuracy: 0.7930 - val_loss: 0.5418 - val_accuracy: 0.7362 - lr: 0.0010\n",
      "Epoch 5/20\n",
      "200/200 [==============================] - 422s 2s/step - loss: 0.4148 - accuracy: 0.8056 - val_loss: 0.5485 - val_accuracy: 0.7453 - lr: 0.0010\n",
      "Epoch 6/20\n",
      "200/200 [==============================] - 421s 2s/step - loss: 0.3788 - accuracy: 0.8272 - val_loss: 0.5634 - val_accuracy: 0.7312 - lr: 0.0010\n",
      "Epoch 7/20\n",
      "200/200 [==============================] - 422s 2s/step - loss: 0.3025 - accuracy: 0.8729 - val_loss: 0.5611 - val_accuracy: 0.7553 - lr: 2.0000e-04\n",
      "Epoch 8/20\n",
      "200/200 [==============================] - 422s 2s/step - loss: 0.2748 - accuracy: 0.8798 - val_loss: 0.5903 - val_accuracy: 0.7525 - lr: 2.0000e-04\n",
      "100/100 [==============================] - 21s 204ms/step\n",
      "100/100 [==============================] - 20s 204ms/step\n"
     ]
    },
    {
     "name": "stderr",
     "output_type": "stream",
     "text": [
      "2024/10/11 22:39:30 WARNING mlflow.tensorflow: You are saving a TensorFlow Core model or Keras model without a signature. Inference with mlflow.pyfunc.spark_udf() will not work unless the model's pyfunc representation accepts pandas DataFrames as inference inputs.\n",
      "WARNING:absl:Found untraced functions such as _update_step_xla, lstm_cell_69_layer_call_fn, lstm_cell_69_layer_call_and_return_conditional_losses while saving (showing 3 of 3). These functions will not be directly callable after loading.\n"
     ]
    },
    {
     "name": "stdout",
     "output_type": "stream",
     "text": [
      "INFO:tensorflow:Assets written to: C:\\Users\\trist\\AppData\\Local\\Temp\\tmppe13dfgz\\model\\data\\model\\assets\n"
     ]
    },
    {
     "name": "stderr",
     "output_type": "stream",
     "text": [
      "INFO:tensorflow:Assets written to: C:\\Users\\trist\\AppData\\Local\\Temp\\tmppe13dfgz\\model\\data\\model\\assets\n",
      "2024/10/11 22:39:47 WARNING mlflow.models.model: Model logged without a signature and input example. Please set `input_example` parameter when logging the model to auto infer the model signature.\n"
     ]
    },
    {
     "name": "stdout",
     "output_type": "stream",
     "text": [
      "Epoch 1/20\n",
      "200/200 [==============================] - 61s 294ms/step - loss: 0.6583 - accuracy: 0.6202 - val_loss: 0.6530 - val_accuracy: 0.6806 - lr: 0.0010\n",
      "Epoch 2/20\n",
      "200/200 [==============================] - 58s 291ms/step - loss: 0.5598 - accuracy: 0.7147 - val_loss: 0.5885 - val_accuracy: 0.6809 - lr: 0.0010\n",
      "Epoch 3/20\n",
      "200/200 [==============================] - 58s 291ms/step - loss: 0.5301 - accuracy: 0.7436 - val_loss: 0.5286 - val_accuracy: 0.7509 - lr: 0.0010\n",
      "Epoch 4/20\n",
      "200/200 [==============================] - 58s 291ms/step - loss: 0.5097 - accuracy: 0.7545 - val_loss: 0.5512 - val_accuracy: 0.7097 - lr: 0.0010\n",
      "Epoch 5/20\n",
      "200/200 [==============================] - 58s 292ms/step - loss: 0.4962 - accuracy: 0.7626 - val_loss: 0.5101 - val_accuracy: 0.7494 - lr: 0.0010\n",
      "Epoch 6/20\n",
      "200/200 [==============================] - 58s 292ms/step - loss: 0.4909 - accuracy: 0.7666 - val_loss: 0.6018 - val_accuracy: 0.6941 - lr: 0.0010\n",
      "Epoch 7/20\n",
      "200/200 [==============================] - 58s 292ms/step - loss: 0.4798 - accuracy: 0.7735 - val_loss: 0.5661 - val_accuracy: 0.7209 - lr: 0.0010\n",
      "Epoch 8/20\n",
      "200/200 [==============================] - 58s 292ms/step - loss: 0.4536 - accuracy: 0.7851 - val_loss: 0.4965 - val_accuracy: 0.7631 - lr: 2.0000e-04\n",
      "Epoch 9/20\n",
      "200/200 [==============================] - 58s 292ms/step - loss: 0.4487 - accuracy: 0.7885 - val_loss: 0.4964 - val_accuracy: 0.7619 - lr: 2.0000e-04\n",
      "Epoch 10/20\n",
      "200/200 [==============================] - 58s 292ms/step - loss: 0.4446 - accuracy: 0.7922 - val_loss: 0.4997 - val_accuracy: 0.7631 - lr: 2.0000e-04\n",
      "Epoch 11/20\n",
      "200/200 [==============================] - 58s 292ms/step - loss: 0.4399 - accuracy: 0.7921 - val_loss: 0.4954 - val_accuracy: 0.7591 - lr: 2.0000e-04\n",
      "Epoch 12/20\n",
      "200/200 [==============================] - 58s 292ms/step - loss: 0.4388 - accuracy: 0.7934 - val_loss: 0.4971 - val_accuracy: 0.7609 - lr: 2.0000e-04\n",
      "Epoch 13/20\n",
      "200/200 [==============================] - 58s 292ms/step - loss: 0.4323 - accuracy: 0.8002 - val_loss: 0.4957 - val_accuracy: 0.7594 - lr: 2.0000e-04\n",
      "Epoch 14/20\n",
      "200/200 [==============================] - 58s 292ms/step - loss: 0.4297 - accuracy: 0.7981 - val_loss: 0.5082 - val_accuracy: 0.7625 - lr: 1.0000e-04\n",
      "Epoch 15/20\n",
      "200/200 [==============================] - 58s 291ms/step - loss: 0.4270 - accuracy: 0.7996 - val_loss: 0.5032 - val_accuracy: 0.7656 - lr: 1.0000e-04\n",
      "100/100 [==============================] - 11s 105ms/step\n",
      "100/100 [==============================] - 11s 105ms/step\n"
     ]
    },
    {
     "name": "stderr",
     "output_type": "stream",
     "text": [
      "2024/10/11 22:54:47 WARNING mlflow.tensorflow: You are saving a TensorFlow Core model or Keras model without a signature. Inference with mlflow.pyfunc.spark_udf() will not work unless the model's pyfunc representation accepts pandas DataFrames as inference inputs.\n",
      "WARNING:absl:Found untraced functions such as _update_step_xla, lstm_cell_70_layer_call_fn, lstm_cell_70_layer_call_and_return_conditional_losses while saving (showing 3 of 3). These functions will not be directly callable after loading.\n"
     ]
    },
    {
     "name": "stdout",
     "output_type": "stream",
     "text": [
      "INFO:tensorflow:Assets written to: C:\\Users\\trist\\AppData\\Local\\Temp\\tmp2djplpy1\\model\\data\\model\\assets\n"
     ]
    },
    {
     "name": "stderr",
     "output_type": "stream",
     "text": [
      "INFO:tensorflow:Assets written to: C:\\Users\\trist\\AppData\\Local\\Temp\\tmp2djplpy1\\model\\data\\model\\assets\n",
      "2024/10/11 22:55:04 WARNING mlflow.models.model: Model logged without a signature and input example. Please set `input_example` parameter when logging the model to auto infer the model signature.\n"
     ]
    },
    {
     "name": "stdout",
     "output_type": "stream",
     "text": [
      "Epoch 1/20\n",
      "200/200 [==============================] - 190s 942ms/step - loss: 0.6485 - accuracy: 0.6413 - val_loss: 0.6484 - val_accuracy: 0.7309 - lr: 0.0010\n",
      "Epoch 2/20\n",
      "200/200 [==============================] - 187s 938ms/step - loss: 0.5506 - accuracy: 0.7207 - val_loss: 0.5839 - val_accuracy: 0.6981 - lr: 0.0010\n",
      "Epoch 3/20\n",
      "200/200 [==============================] - 187s 938ms/step - loss: 0.5252 - accuracy: 0.7433 - val_loss: 0.5876 - val_accuracy: 0.6897 - lr: 0.0010\n",
      "Epoch 4/20\n",
      "200/200 [==============================] - 188s 938ms/step - loss: 0.5085 - accuracy: 0.7585 - val_loss: 0.7510 - val_accuracy: 0.5503 - lr: 0.0010\n",
      "Epoch 5/20\n",
      "200/200 [==============================] - 188s 939ms/step - loss: 0.4833 - accuracy: 0.7676 - val_loss: 0.5099 - val_accuracy: 0.7475 - lr: 2.0000e-04\n",
      "Epoch 6/20\n",
      "200/200 [==============================] - 188s 938ms/step - loss: 0.4767 - accuracy: 0.7770 - val_loss: 0.5406 - val_accuracy: 0.7141 - lr: 2.0000e-04\n",
      "Epoch 7/20\n",
      "200/200 [==============================] - 188s 939ms/step - loss: 0.4693 - accuracy: 0.7727 - val_loss: 0.5183 - val_accuracy: 0.7400 - lr: 2.0000e-04\n",
      "Epoch 8/20\n",
      "200/200 [==============================] - 188s 939ms/step - loss: 0.4622 - accuracy: 0.7780 - val_loss: 0.5054 - val_accuracy: 0.7487 - lr: 1.0000e-04\n",
      "Epoch 9/20\n",
      "200/200 [==============================] - 188s 939ms/step - loss: 0.4626 - accuracy: 0.7815 - val_loss: 0.4987 - val_accuracy: 0.7594 - lr: 1.0000e-04\n",
      "Epoch 10/20\n",
      "200/200 [==============================] - 188s 938ms/step - loss: 0.4593 - accuracy: 0.7789 - val_loss: 0.5102 - val_accuracy: 0.7525 - lr: 1.0000e-04\n",
      "Epoch 11/20\n",
      "200/200 [==============================] - 188s 939ms/step - loss: 0.4517 - accuracy: 0.7854 - val_loss: 0.4997 - val_accuracy: 0.7519 - lr: 1.0000e-04\n",
      "Epoch 12/20\n",
      "200/200 [==============================] - 188s 939ms/step - loss: 0.4498 - accuracy: 0.7828 - val_loss: 0.5155 - val_accuracy: 0.7500 - lr: 1.0000e-04\n",
      "Epoch 13/20\n",
      "200/200 [==============================] - 188s 939ms/step - loss: 0.4463 - accuracy: 0.7895 - val_loss: 0.5243 - val_accuracy: 0.7491 - lr: 1.0000e-04\n",
      "100/100 [==============================] - 9s 87ms/step\n",
      "100/100 [==============================] - 9s 87ms/step\n"
     ]
    },
    {
     "name": "stderr",
     "output_type": "stream",
     "text": [
      "2024/10/11 23:36:05 WARNING mlflow.tensorflow: You are saving a TensorFlow Core model or Keras model without a signature. Inference with mlflow.pyfunc.spark_udf() will not work unless the model's pyfunc representation accepts pandas DataFrames as inference inputs.\n",
      "WARNING:absl:Found untraced functions such as _update_step_xla, lstm_cell_71_layer_call_fn, lstm_cell_71_layer_call_and_return_conditional_losses while saving (showing 3 of 3). These functions will not be directly callable after loading.\n"
     ]
    },
    {
     "name": "stdout",
     "output_type": "stream",
     "text": [
      "INFO:tensorflow:Assets written to: C:\\Users\\trist\\AppData\\Local\\Temp\\tmp99vi890n\\model\\data\\model\\assets\n"
     ]
    },
    {
     "name": "stderr",
     "output_type": "stream",
     "text": [
      "INFO:tensorflow:Assets written to: C:\\Users\\trist\\AppData\\Local\\Temp\\tmp99vi890n\\model\\data\\model\\assets\n",
      "2024/10/11 23:36:21 WARNING mlflow.models.model: Model logged without a signature and input example. Please set `input_example` parameter when logging the model to auto infer the model signature.\n"
     ]
    },
    {
     "name": "stdout",
     "output_type": "stream",
     "text": [
      "Epoch 1/20\n",
      "200/200 [==============================] - 417s 2s/step - loss: 0.6369 - accuracy: 0.6593 - val_loss: 0.6724 - val_accuracy: 0.6606 - lr: 0.0010\n",
      "Epoch 2/20\n",
      "200/200 [==============================] - 412s 2s/step - loss: 0.5444 - accuracy: 0.7269 - val_loss: 0.6083 - val_accuracy: 0.6375 - lr: 0.0010\n",
      "Epoch 3/20\n",
      "200/200 [==============================] - 417s 2s/step - loss: 0.5205 - accuracy: 0.7459 - val_loss: 0.5342 - val_accuracy: 0.7497 - lr: 0.0010\n",
      "Epoch 4/20\n",
      "200/200 [==============================] - 425s 2s/step - loss: 0.5080 - accuracy: 0.7511 - val_loss: 0.5451 - val_accuracy: 0.7456 - lr: 0.0010\n",
      "Epoch 5/20\n",
      "200/200 [==============================] - 415s 2s/step - loss: 0.4927 - accuracy: 0.7623 - val_loss: 0.5644 - val_accuracy: 0.7262 - lr: 0.0010\n",
      "Epoch 6/20\n",
      "200/200 [==============================] - 423s 2s/step - loss: 0.4579 - accuracy: 0.7834 - val_loss: 0.4982 - val_accuracy: 0.7491 - lr: 2.0000e-04\n",
      "Epoch 7/20\n",
      "200/200 [==============================] - 423s 2s/step - loss: 0.4462 - accuracy: 0.7827 - val_loss: 0.5090 - val_accuracy: 0.7494 - lr: 2.0000e-04\n",
      "Epoch 8/20\n",
      "200/200 [==============================] - 424s 2s/step - loss: 0.4420 - accuracy: 0.7882 - val_loss: 0.4978 - val_accuracy: 0.7584 - lr: 2.0000e-04\n",
      "Epoch 9/20\n",
      "200/200 [==============================] - 425s 2s/step - loss: 0.4322 - accuracy: 0.7970 - val_loss: 0.5153 - val_accuracy: 0.7484 - lr: 2.0000e-04\n",
      "Epoch 10/20\n",
      "200/200 [==============================] - 424s 2s/step - loss: 0.4246 - accuracy: 0.8013 - val_loss: 0.5584 - val_accuracy: 0.7225 - lr: 2.0000e-04\n",
      "Epoch 11/20\n",
      "200/200 [==============================] - 417s 2s/step - loss: 0.4197 - accuracy: 0.8019 - val_loss: 0.5111 - val_accuracy: 0.7566 - lr: 1.0000e-04\n",
      "Epoch 12/20\n",
      "200/200 [==============================] - 415s 2s/step - loss: 0.4131 - accuracy: 0.7999 - val_loss: 0.5021 - val_accuracy: 0.7550 - lr: 1.0000e-04\n",
      "100/100 [==============================] - 20s 198ms/step\n",
      "100/100 [==============================] - 20s 197ms/step\n"
     ]
    },
    {
     "name": "stderr",
     "output_type": "stream",
     "text": [
      "2024/10/12 01:00:59 WARNING mlflow.tensorflow: You are saving a TensorFlow Core model or Keras model without a signature. Inference with mlflow.pyfunc.spark_udf() will not work unless the model's pyfunc representation accepts pandas DataFrames as inference inputs.\n",
      "WARNING:absl:Found untraced functions such as _update_step_xla, lstm_cell_72_layer_call_fn, lstm_cell_72_layer_call_and_return_conditional_losses while saving (showing 3 of 3). These functions will not be directly callable after loading.\n"
     ]
    },
    {
     "name": "stdout",
     "output_type": "stream",
     "text": [
      "INFO:tensorflow:Assets written to: C:\\Users\\trist\\AppData\\Local\\Temp\\tmpq_ljr240\\model\\data\\model\\assets\n"
     ]
    },
    {
     "name": "stderr",
     "output_type": "stream",
     "text": [
      "INFO:tensorflow:Assets written to: C:\\Users\\trist\\AppData\\Local\\Temp\\tmpq_ljr240\\model\\data\\model\\assets\n",
      "2024/10/12 01:01:15 WARNING mlflow.models.model: Model logged without a signature and input example. Please set `input_example` parameter when logging the model to auto infer the model signature.\n"
     ]
    },
    {
     "name": "stdout",
     "output_type": "stream",
     "text": [
      "Meilleurs paramètres : {'activation_type': 'prelu', 'dropout_rate': 0.5, 'lstm_units': 64} avec une accuracy de 0.7656\n"
     ]
    }
   ],
   "source": [
    "\n",
    "\n",
    "# Entraîner avec Word2Vec + Lemmatization\n",
    "best_lstm_model_lemma_w2v, best_params_lemma_w2v = train_and_log_lstm(\n",
    "    X_train_lemma_w2v, y_train_lemma_w2v, X_test_lemma_w2v, y_test_lemma_w2v,\n",
    "    experiment_name=\"LSTM_Word2Vec_Lemmatization\", param_grid=param_grid_lstm, input_shape=input_shape\n",
    ")"
   ]
  },
  {
   "cell_type": "code",
   "execution_count": 28,
   "id": "da11ebdd-61aa-4854-a0fa-30306242021f",
   "metadata": {
    "scrolled": true
   },
   "outputs": [
    {
     "name": "stderr",
     "output_type": "stream",
     "text": [
      "WARNING:root:Malformed experiment 'matrice'. Detailed error Yaml file 'D:\\Master_Openclassroom\\Github\\projet7-op\\notebooks\\modèle_avancé\\mlruns\\matrice\\meta.yaml' does not exist.\n",
      "Traceback (most recent call last):\n",
      "  File \"D:\\Master_Openclassroom\\python\\Lib\\site-packages\\mlflow\\store\\tracking\\file_store.py\", line 327, in search_experiments\n",
      "    exp = self._get_experiment(exp_id, view_type)\n",
      "          ^^^^^^^^^^^^^^^^^^^^^^^^^^^^^^^^^^^^^^^\n",
      "  File \"D:\\Master_Openclassroom\\python\\Lib\\site-packages\\mlflow\\store\\tracking\\file_store.py\", line 421, in _get_experiment\n",
      "    meta = FileStore._read_yaml(experiment_dir, FileStore.META_DATA_FILE_NAME)\n",
      "           ^^^^^^^^^^^^^^^^^^^^^^^^^^^^^^^^^^^^^^^^^^^^^^^^^^^^^^^^^^^^^^^^^^^\n",
      "  File \"D:\\Master_Openclassroom\\python\\Lib\\site-packages\\mlflow\\store\\tracking\\file_store.py\", line 1367, in _read_yaml\n",
      "    return _read_helper(root, file_name, attempts_remaining=retries)\n",
      "           ^^^^^^^^^^^^^^^^^^^^^^^^^^^^^^^^^^^^^^^^^^^^^^^^^^^^^^^^^\n",
      "  File \"D:\\Master_Openclassroom\\python\\Lib\\site-packages\\mlflow\\store\\tracking\\file_store.py\", line 1360, in _read_helper\n",
      "    result = read_yaml(root, file_name)\n",
      "             ^^^^^^^^^^^^^^^^^^^^^^^^^^\n",
      "  File \"D:\\Master_Openclassroom\\python\\Lib\\site-packages\\mlflow\\utils\\file_utils.py\", line 309, in read_yaml\n",
      "    raise MissingConfigException(f\"Yaml file '{file_path}' does not exist.\")\n",
      "mlflow.exceptions.MissingConfigException: Yaml file 'D:\\Master_Openclassroom\\Github\\projet7-op\\notebooks\\modèle_avancé\\mlruns\\matrice\\meta.yaml' does not exist.\n"
     ]
    },
    {
     "name": "stdout",
     "output_type": "stream",
     "text": [
      "Epoch 1/20\n",
      "200/200 [==============================] - 11s 44ms/step - loss: 0.5985 - accuracy: 0.6766 - val_loss: 0.6540 - val_accuracy: 0.7244 - lr: 0.0010\n",
      "Epoch 2/20\n",
      "200/200 [==============================] - 8s 40ms/step - loss: 0.5282 - accuracy: 0.7405 - val_loss: 0.6180 - val_accuracy: 0.6431 - lr: 0.0010\n",
      "Epoch 3/20\n",
      "200/200 [==============================] - 8s 40ms/step - loss: 0.5011 - accuracy: 0.7566 - val_loss: 0.5805 - val_accuracy: 0.6822 - lr: 0.0010\n",
      "Epoch 4/20\n",
      "200/200 [==============================] - 8s 40ms/step - loss: 0.4950 - accuracy: 0.7584 - val_loss: 0.5763 - val_accuracy: 0.7003 - lr: 0.0010\n",
      "Epoch 5/20\n",
      "200/200 [==============================] - 8s 41ms/step - loss: 0.4803 - accuracy: 0.7712 - val_loss: 0.5219 - val_accuracy: 0.7541 - lr: 0.0010\n",
      "Epoch 6/20\n",
      "200/200 [==============================] - 8s 39ms/step - loss: 0.4653 - accuracy: 0.7776 - val_loss: 0.5197 - val_accuracy: 0.7478 - lr: 0.0010\n",
      "Epoch 7/20\n",
      "200/200 [==============================] - 8s 40ms/step - loss: 0.4534 - accuracy: 0.7880 - val_loss: 0.5012 - val_accuracy: 0.7534 - lr: 0.0010\n",
      "Epoch 8/20\n",
      "200/200 [==============================] - 8s 38ms/step - loss: 0.4355 - accuracy: 0.7967 - val_loss: 0.6452 - val_accuracy: 0.7178 - lr: 0.0010\n",
      "Epoch 9/20\n",
      "200/200 [==============================] - 8s 39ms/step - loss: 0.4239 - accuracy: 0.8047 - val_loss: 0.5207 - val_accuracy: 0.7494 - lr: 0.0010\n",
      "Epoch 10/20\n",
      "200/200 [==============================] - 8s 39ms/step - loss: 0.3816 - accuracy: 0.8277 - val_loss: 0.5143 - val_accuracy: 0.7641 - lr: 2.0000e-04\n",
      "Epoch 11/20\n",
      "200/200 [==============================] - 8s 39ms/step - loss: 0.3663 - accuracy: 0.8372 - val_loss: 0.5367 - val_accuracy: 0.7597 - lr: 2.0000e-04\n",
      "100/100 [==============================] - 2s 12ms/step\n",
      "100/100 [==============================] - 1s 15ms/step\n"
     ]
    },
    {
     "name": "stderr",
     "output_type": "stream",
     "text": [
      "2024/10/10 06:14:20 WARNING mlflow.tensorflow: You are saving a TensorFlow Core model or Keras model without a signature. Inference with mlflow.pyfunc.spark_udf() will not work unless the model's pyfunc representation accepts pandas DataFrames as inference inputs.\n",
      "WARNING:absl:Found untraced functions such as _update_step_xla, lstm_cell_1_layer_call_fn, lstm_cell_1_layer_call_and_return_conditional_losses while saving (showing 3 of 3). These functions will not be directly callable after loading.\n"
     ]
    },
    {
     "name": "stdout",
     "output_type": "stream",
     "text": [
      "INFO:tensorflow:Assets written to: C:\\Users\\trist\\AppData\\Local\\Temp\\tmpgu0adsco\\model\\data\\model\\assets\n"
     ]
    },
    {
     "name": "stderr",
     "output_type": "stream",
     "text": [
      "INFO:tensorflow:Assets written to: C:\\Users\\trist\\AppData\\Local\\Temp\\tmpgu0adsco\\model\\data\\model\\assets\n",
      "2024/10/10 06:14:39 WARNING mlflow.models.model: Model logged without a signature and input example. Please set `input_example` parameter when logging the model to auto infer the model signature.\n"
     ]
    },
    {
     "name": "stdout",
     "output_type": "stream",
     "text": [
      "Epoch 1/20\n",
      "200/200 [==============================] - 80s 389ms/step - loss: 0.5912 - accuracy: 0.6848 - val_loss: 0.6612 - val_accuracy: 0.6584 - lr: 0.0010\n",
      "Epoch 2/20\n",
      "200/200 [==============================] - 73s 366ms/step - loss: 0.5257 - accuracy: 0.7377 - val_loss: 0.6163 - val_accuracy: 0.6263 - lr: 0.0010\n",
      "Epoch 3/20\n",
      "200/200 [==============================] - 72s 361ms/step - loss: 0.5044 - accuracy: 0.7542 - val_loss: 0.5321 - val_accuracy: 0.7406 - lr: 0.0010\n",
      "Epoch 4/20\n",
      "200/200 [==============================] - 74s 370ms/step - loss: 0.4920 - accuracy: 0.7688 - val_loss: 0.5509 - val_accuracy: 0.7094 - lr: 0.0010\n",
      "Epoch 5/20\n",
      "200/200 [==============================] - 74s 368ms/step - loss: 0.4747 - accuracy: 0.7727 - val_loss: 0.5149 - val_accuracy: 0.7394 - lr: 0.0010\n",
      "Epoch 6/20\n",
      "200/200 [==============================] - 74s 368ms/step - loss: 0.4624 - accuracy: 0.7845 - val_loss: 0.6674 - val_accuracy: 0.6263 - lr: 0.0010\n",
      "Epoch 7/20\n",
      "200/200 [==============================] - 73s 366ms/step - loss: 0.4500 - accuracy: 0.7900 - val_loss: 0.5197 - val_accuracy: 0.7531 - lr: 0.0010\n",
      "Epoch 8/20\n",
      "200/200 [==============================] - 74s 368ms/step - loss: 0.4030 - accuracy: 0.8152 - val_loss: 0.5082 - val_accuracy: 0.7559 - lr: 2.0000e-04\n",
      "Epoch 9/20\n",
      "200/200 [==============================] - 73s 366ms/step - loss: 0.3874 - accuracy: 0.8269 - val_loss: 0.5215 - val_accuracy: 0.7447 - lr: 2.0000e-04\n",
      "Epoch 10/20\n",
      "200/200 [==============================] - 74s 368ms/step - loss: 0.3753 - accuracy: 0.8316 - val_loss: 0.5197 - val_accuracy: 0.7500 - lr: 2.0000e-04\n",
      "Epoch 11/20\n",
      "200/200 [==============================] - 73s 364ms/step - loss: 0.3600 - accuracy: 0.8399 - val_loss: 0.5367 - val_accuracy: 0.7572 - lr: 1.0000e-04\n",
      "Epoch 12/20\n",
      "200/200 [==============================] - 73s 367ms/step - loss: 0.3572 - accuracy: 0.8444 - val_loss: 0.5274 - val_accuracy: 0.7534 - lr: 1.0000e-04\n",
      "100/100 [==============================] - 3s 30ms/step\n",
      "100/100 [==============================] - 3s 31ms/step\n"
     ]
    },
    {
     "name": "stderr",
     "output_type": "stream",
     "text": [
      "2024/10/10 06:29:33 WARNING mlflow.tensorflow: You are saving a TensorFlow Core model or Keras model without a signature. Inference with mlflow.pyfunc.spark_udf() will not work unless the model's pyfunc representation accepts pandas DataFrames as inference inputs.\n",
      "WARNING:absl:Found untraced functions such as _update_step_xla, lstm_cell_2_layer_call_fn, lstm_cell_2_layer_call_and_return_conditional_losses while saving (showing 3 of 3). These functions will not be directly callable after loading.\n"
     ]
    },
    {
     "name": "stdout",
     "output_type": "stream",
     "text": [
      "INFO:tensorflow:Assets written to: C:\\Users\\trist\\AppData\\Local\\Temp\\tmpey7tawcw\\model\\data\\model\\assets\n"
     ]
    },
    {
     "name": "stderr",
     "output_type": "stream",
     "text": [
      "INFO:tensorflow:Assets written to: C:\\Users\\trist\\AppData\\Local\\Temp\\tmpey7tawcw\\model\\data\\model\\assets\n",
      "2024/10/10 06:29:52 WARNING mlflow.models.model: Model logged without a signature and input example. Please set `input_example` parameter when logging the model to auto infer the model signature.\n"
     ]
    },
    {
     "name": "stdout",
     "output_type": "stream",
     "text": [
      "Epoch 1/20\n",
      "200/200 [==============================] - 142s 702ms/step - loss: 0.6008 - accuracy: 0.6834 - val_loss: 0.6542 - val_accuracy: 0.7097 - lr: 0.0010\n",
      "Epoch 2/20\n",
      "200/200 [==============================] - 142s 710ms/step - loss: 0.5359 - accuracy: 0.7359 - val_loss: 0.6294 - val_accuracy: 0.6453 - lr: 0.0010\n",
      "Epoch 3/20\n",
      "200/200 [==============================] - 141s 704ms/step - loss: 0.5089 - accuracy: 0.7537 - val_loss: 0.8620 - val_accuracy: 0.5266 - lr: 0.0010\n",
      "Epoch 4/20\n",
      "200/200 [==============================] - 141s 704ms/step - loss: 0.4918 - accuracy: 0.7646 - val_loss: 0.5128 - val_accuracy: 0.7472 - lr: 0.0010\n",
      "Epoch 5/20\n",
      "200/200 [==============================] - 140s 699ms/step - loss: 0.4822 - accuracy: 0.7716 - val_loss: 0.5221 - val_accuracy: 0.7434 - lr: 0.0010\n",
      "Epoch 6/20\n",
      "200/200 [==============================] - 140s 698ms/step - loss: 0.4646 - accuracy: 0.7787 - val_loss: 0.5178 - val_accuracy: 0.7606 - lr: 0.0010\n",
      "Epoch 7/20\n",
      "200/200 [==============================] - 141s 704ms/step - loss: 0.4131 - accuracy: 0.8098 - val_loss: 0.5204 - val_accuracy: 0.7519 - lr: 2.0000e-04\n",
      "Epoch 8/20\n",
      "200/200 [==============================] - 140s 702ms/step - loss: 0.4011 - accuracy: 0.8198 - val_loss: 0.5231 - val_accuracy: 0.7572 - lr: 2.0000e-04\n",
      "100/100 [==============================] - 9s 83ms/step\n",
      "100/100 [==============================] - 8s 83ms/step\n"
     ]
    },
    {
     "name": "stderr",
     "output_type": "stream",
     "text": [
      "2024/10/10 06:48:57 WARNING mlflow.tensorflow: You are saving a TensorFlow Core model or Keras model without a signature. Inference with mlflow.pyfunc.spark_udf() will not work unless the model's pyfunc representation accepts pandas DataFrames as inference inputs.\n",
      "WARNING:absl:Found untraced functions such as _update_step_xla, lstm_cell_3_layer_call_fn, lstm_cell_3_layer_call_and_return_conditional_losses while saving (showing 3 of 3). These functions will not be directly callable after loading.\n"
     ]
    },
    {
     "name": "stdout",
     "output_type": "stream",
     "text": [
      "INFO:tensorflow:Assets written to: C:\\Users\\trist\\AppData\\Local\\Temp\\tmpuf5a0mgp\\model\\data\\model\\assets\n"
     ]
    },
    {
     "name": "stderr",
     "output_type": "stream",
     "text": [
      "INFO:tensorflow:Assets written to: C:\\Users\\trist\\AppData\\Local\\Temp\\tmpuf5a0mgp\\model\\data\\model\\assets\n",
      "2024/10/10 06:49:12 WARNING mlflow.models.model: Model logged without a signature and input example. Please set `input_example` parameter when logging the model to auto infer the model signature.\n"
     ]
    },
    {
     "name": "stdout",
     "output_type": "stream",
     "text": [
      "Epoch 1/20\n",
      "200/200 [==============================] - 20s 93ms/step - loss: 0.6287 - accuracy: 0.6572 - val_loss: 0.6714 - val_accuracy: 0.6719 - lr: 0.0010\n",
      "Epoch 2/20\n",
      "200/200 [==============================] - 16s 82ms/step - loss: 0.5535 - accuracy: 0.7266 - val_loss: 0.5949 - val_accuracy: 0.7394 - lr: 0.0010\n",
      "Epoch 3/20\n",
      "200/200 [==============================] - 16s 82ms/step - loss: 0.5295 - accuracy: 0.7419 - val_loss: 0.5385 - val_accuracy: 0.7262 - lr: 0.0010\n",
      "Epoch 4/20\n",
      "200/200 [==============================] - 16s 82ms/step - loss: 0.5178 - accuracy: 0.7476 - val_loss: 0.5147 - val_accuracy: 0.7487 - lr: 0.0010\n",
      "Epoch 5/20\n",
      "200/200 [==============================] - 16s 82ms/step - loss: 0.5098 - accuracy: 0.7530 - val_loss: 0.5728 - val_accuracy: 0.6944 - lr: 0.0010\n",
      "Epoch 6/20\n",
      "200/200 [==============================] - 16s 82ms/step - loss: 0.4950 - accuracy: 0.7627 - val_loss: 0.5017 - val_accuracy: 0.7591 - lr: 0.0010\n",
      "Epoch 7/20\n",
      "200/200 [==============================] - 17s 83ms/step - loss: 0.4828 - accuracy: 0.7678 - val_loss: 0.5047 - val_accuracy: 0.7478 - lr: 0.0010\n",
      "Epoch 8/20\n",
      "200/200 [==============================] - 16s 82ms/step - loss: 0.4771 - accuracy: 0.7746 - val_loss: 0.5958 - val_accuracy: 0.6888 - lr: 0.0010\n",
      "Epoch 9/20\n",
      "200/200 [==============================] - 16s 81ms/step - loss: 0.4538 - accuracy: 0.7849 - val_loss: 0.4995 - val_accuracy: 0.7578 - lr: 2.0000e-04\n",
      "Epoch 10/20\n",
      "200/200 [==============================] - 16s 81ms/step - loss: 0.4419 - accuracy: 0.7934 - val_loss: 0.4988 - val_accuracy: 0.7663 - lr: 2.0000e-04\n",
      "Epoch 11/20\n",
      "200/200 [==============================] - 16s 81ms/step - loss: 0.4415 - accuracy: 0.7907 - val_loss: 0.5343 - val_accuracy: 0.7444 - lr: 2.0000e-04\n",
      "Epoch 12/20\n",
      "200/200 [==============================] - 16s 81ms/step - loss: 0.4350 - accuracy: 0.7958 - val_loss: 0.6230 - val_accuracy: 0.7197 - lr: 2.0000e-04\n",
      "Epoch 13/20\n",
      "200/200 [==============================] - 16s 81ms/step - loss: 0.4291 - accuracy: 0.7980 - val_loss: 0.5040 - val_accuracy: 0.7597 - lr: 1.0000e-04\n",
      "Epoch 14/20\n",
      "200/200 [==============================] - 16s 82ms/step - loss: 0.4301 - accuracy: 0.7980 - val_loss: 0.5040 - val_accuracy: 0.7597 - lr: 1.0000e-04\n",
      "100/100 [==============================] - 5s 45ms/step\n",
      "100/100 [==============================] - 4s 45ms/step\n"
     ]
    },
    {
     "name": "stderr",
     "output_type": "stream",
     "text": [
      "2024/10/10 06:53:16 WARNING mlflow.tensorflow: You are saving a TensorFlow Core model or Keras model without a signature. Inference with mlflow.pyfunc.spark_udf() will not work unless the model's pyfunc representation accepts pandas DataFrames as inference inputs.\n",
      "WARNING:absl:Found untraced functions such as _update_step_xla, lstm_cell_4_layer_call_fn, lstm_cell_4_layer_call_and_return_conditional_losses while saving (showing 3 of 3). These functions will not be directly callable after loading.\n"
     ]
    },
    {
     "name": "stdout",
     "output_type": "stream",
     "text": [
      "INFO:tensorflow:Assets written to: C:\\Users\\trist\\AppData\\Local\\Temp\\tmpwr827yvw\\model\\data\\model\\assets\n"
     ]
    },
    {
     "name": "stderr",
     "output_type": "stream",
     "text": [
      "INFO:tensorflow:Assets written to: C:\\Users\\trist\\AppData\\Local\\Temp\\tmpwr827yvw\\model\\data\\model\\assets\n",
      "2024/10/10 06:53:31 WARNING mlflow.models.model: Model logged without a signature and input example. Please set `input_example` parameter when logging the model to auto infer the model signature.\n"
     ]
    },
    {
     "name": "stdout",
     "output_type": "stream",
     "text": [
      "Epoch 1/20\n",
      "200/200 [==============================] - 124s 611ms/step - loss: 0.6318 - accuracy: 0.6468 - val_loss: 0.6749 - val_accuracy: 0.5075 - lr: 0.0010\n",
      "Epoch 2/20\n",
      "200/200 [==============================] - 111s 554ms/step - loss: 0.5495 - accuracy: 0.7281 - val_loss: 0.6206 - val_accuracy: 0.7044 - lr: 0.0010\n",
      "Epoch 3/20\n",
      "200/200 [==============================] - 112s 559ms/step - loss: 0.5337 - accuracy: 0.7360 - val_loss: 0.5611 - val_accuracy: 0.7487 - lr: 0.0010\n",
      "Epoch 4/20\n",
      "200/200 [==============================] - 112s 561ms/step - loss: 0.5208 - accuracy: 0.7477 - val_loss: 0.8625 - val_accuracy: 0.5328 - lr: 0.0010\n",
      "Epoch 5/20\n",
      "200/200 [==============================] - 112s 561ms/step - loss: 0.5112 - accuracy: 0.7509 - val_loss: 0.6494 - val_accuracy: 0.6141 - lr: 0.0010\n",
      "Epoch 6/20\n",
      "200/200 [==============================] - 112s 558ms/step - loss: 0.4847 - accuracy: 0.7718 - val_loss: 0.4989 - val_accuracy: 0.7600 - lr: 2.0000e-04\n",
      "Epoch 7/20\n",
      "200/200 [==============================] - 111s 556ms/step - loss: 0.4753 - accuracy: 0.7773 - val_loss: 0.4981 - val_accuracy: 0.7594 - lr: 2.0000e-04\n",
      "Epoch 8/20\n",
      "200/200 [==============================] - 108s 543ms/step - loss: 0.4686 - accuracy: 0.7783 - val_loss: 0.4998 - val_accuracy: 0.7584 - lr: 2.0000e-04\n",
      "Epoch 9/20\n",
      "200/200 [==============================] - 111s 556ms/step - loss: 0.4711 - accuracy: 0.7753 - val_loss: 0.5704 - val_accuracy: 0.7091 - lr: 2.0000e-04\n",
      "Epoch 10/20\n",
      "200/200 [==============================] - 112s 558ms/step - loss: 0.4602 - accuracy: 0.7819 - val_loss: 0.4986 - val_accuracy: 0.7616 - lr: 1.0000e-04\n",
      "Epoch 11/20\n",
      "200/200 [==============================] - 112s 559ms/step - loss: 0.4596 - accuracy: 0.7793 - val_loss: 0.5009 - val_accuracy: 0.7556 - lr: 1.0000e-04\n",
      "100/100 [==============================] - 5s 47ms/step\n",
      "100/100 [==============================] - 5s 46ms/step\n"
     ]
    },
    {
     "name": "stderr",
     "output_type": "stream",
     "text": [
      "2024/10/10 07:14:18 WARNING mlflow.tensorflow: You are saving a TensorFlow Core model or Keras model without a signature. Inference with mlflow.pyfunc.spark_udf() will not work unless the model's pyfunc representation accepts pandas DataFrames as inference inputs.\n",
      "WARNING:absl:Found untraced functions such as _update_step_xla, lstm_cell_5_layer_call_fn, lstm_cell_5_layer_call_and_return_conditional_losses while saving (showing 3 of 3). These functions will not be directly callable after loading.\n"
     ]
    },
    {
     "name": "stdout",
     "output_type": "stream",
     "text": [
      "INFO:tensorflow:Assets written to: C:\\Users\\trist\\AppData\\Local\\Temp\\tmpkwpjx9_1\\model\\data\\model\\assets\n"
     ]
    },
    {
     "name": "stderr",
     "output_type": "stream",
     "text": [
      "INFO:tensorflow:Assets written to: C:\\Users\\trist\\AppData\\Local\\Temp\\tmpkwpjx9_1\\model\\data\\model\\assets\n",
      "2024/10/10 07:14:33 WARNING mlflow.models.model: Model logged without a signature and input example. Please set `input_example` parameter when logging the model to auto infer the model signature.\n"
     ]
    },
    {
     "name": "stdout",
     "output_type": "stream",
     "text": [
      "Epoch 1/20\n",
      "200/200 [==============================] - 301s 1s/step - loss: 0.6339 - accuracy: 0.6567 - val_loss: 0.6811 - val_accuracy: 0.5997 - lr: 0.0010\n",
      "Epoch 2/20\n",
      "200/200 [==============================] - 269s 1s/step - loss: 0.5604 - accuracy: 0.7227 - val_loss: 0.6488 - val_accuracy: 0.5663 - lr: 0.0010\n",
      "Epoch 3/20\n",
      "200/200 [==============================] - 270s 1s/step - loss: 0.5412 - accuracy: 0.7341 - val_loss: 0.8334 - val_accuracy: 0.5281 - lr: 0.0010\n",
      "Epoch 4/20\n",
      "200/200 [==============================] - 268s 1s/step - loss: 0.5232 - accuracy: 0.7405 - val_loss: 0.5517 - val_accuracy: 0.7331 - lr: 0.0010\n",
      "Epoch 5/20\n",
      "200/200 [==============================] - 269s 1s/step - loss: 0.5133 - accuracy: 0.7549 - val_loss: 0.5128 - val_accuracy: 0.7447 - lr: 0.0010\n",
      "Epoch 6/20\n",
      "200/200 [==============================] - 268s 1s/step - loss: 0.4998 - accuracy: 0.7609 - val_loss: 1.0032 - val_accuracy: 0.5794 - lr: 0.0010\n",
      "Epoch 7/20\n",
      "200/200 [==============================] - 265s 1s/step - loss: 0.4908 - accuracy: 0.7631 - val_loss: 0.5847 - val_accuracy: 0.6709 - lr: 0.0010\n",
      "Epoch 8/20\n",
      "200/200 [==============================] - 271s 1s/step - loss: 0.4703 - accuracy: 0.7784 - val_loss: 0.5408 - val_accuracy: 0.7234 - lr: 2.0000e-04\n",
      "Epoch 9/20\n",
      "200/200 [==============================] - 269s 1s/step - loss: 0.4590 - accuracy: 0.7846 - val_loss: 0.5403 - val_accuracy: 0.7275 - lr: 2.0000e-04\n",
      "100/100 [==============================] - 12s 121ms/step\n",
      "100/100 [==============================] - 12s 122ms/step\n"
     ]
    },
    {
     "name": "stderr",
     "output_type": "stream",
     "text": [
      "2024/10/10 07:55:49 WARNING mlflow.tensorflow: You are saving a TensorFlow Core model or Keras model without a signature. Inference with mlflow.pyfunc.spark_udf() will not work unless the model's pyfunc representation accepts pandas DataFrames as inference inputs.\n",
      "WARNING:absl:Found untraced functions such as _update_step_xla, lstm_cell_6_layer_call_fn, lstm_cell_6_layer_call_and_return_conditional_losses while saving (showing 3 of 3). These functions will not be directly callable after loading.\n"
     ]
    },
    {
     "name": "stdout",
     "output_type": "stream",
     "text": [
      "INFO:tensorflow:Assets written to: C:\\Users\\trist\\AppData\\Local\\Temp\\tmpolsy4y3s\\model\\data\\model\\assets\n"
     ]
    },
    {
     "name": "stderr",
     "output_type": "stream",
     "text": [
      "INFO:tensorflow:Assets written to: C:\\Users\\trist\\AppData\\Local\\Temp\\tmpolsy4y3s\\model\\data\\model\\assets\n",
      "2024/10/10 07:56:04 WARNING mlflow.models.model: Model logged without a signature and input example. Please set `input_example` parameter when logging the model to auto infer the model signature.\n"
     ]
    },
    {
     "name": "stdout",
     "output_type": "stream",
     "text": [
      "Epoch 1/20\n",
      "200/200 [==============================] - 25s 116ms/step - loss: 0.6047 - accuracy: 0.6695 - val_loss: 0.6400 - val_accuracy: 0.7403 - lr: 0.0010\n",
      "Epoch 2/20\n",
      "200/200 [==============================] - 23s 113ms/step - loss: 0.5330 - accuracy: 0.7394 - val_loss: 0.5776 - val_accuracy: 0.7038 - lr: 0.0010\n",
      "Epoch 3/20\n",
      "200/200 [==============================] - 22s 112ms/step - loss: 0.5110 - accuracy: 0.7501 - val_loss: 0.5314 - val_accuracy: 0.7469 - lr: 0.0010\n",
      "Epoch 4/20\n",
      "200/200 [==============================] - 22s 112ms/step - loss: 0.4991 - accuracy: 0.7582 - val_loss: 0.5660 - val_accuracy: 0.7034 - lr: 0.0010\n",
      "Epoch 5/20\n",
      "200/200 [==============================] - 22s 112ms/step - loss: 0.4890 - accuracy: 0.7649 - val_loss: 0.6908 - val_accuracy: 0.6281 - lr: 0.0010\n",
      "Epoch 6/20\n",
      "200/200 [==============================] - 22s 112ms/step - loss: 0.4604 - accuracy: 0.7825 - val_loss: 0.4922 - val_accuracy: 0.7622 - lr: 2.0000e-04\n",
      "Epoch 7/20\n",
      "200/200 [==============================] - 22s 112ms/step - loss: 0.4514 - accuracy: 0.7869 - val_loss: 0.4905 - val_accuracy: 0.7628 - lr: 2.0000e-04\n",
      "Epoch 8/20\n",
      "200/200 [==============================] - 22s 112ms/step - loss: 0.4496 - accuracy: 0.7875 - val_loss: 0.6250 - val_accuracy: 0.6941 - lr: 2.0000e-04\n",
      "Epoch 9/20\n",
      "200/200 [==============================] - 22s 112ms/step - loss: 0.4442 - accuracy: 0.7926 - val_loss: 0.4976 - val_accuracy: 0.7594 - lr: 2.0000e-04\n",
      "Epoch 10/20\n",
      "200/200 [==============================] - 22s 112ms/step - loss: 0.4392 - accuracy: 0.7949 - val_loss: 0.4958 - val_accuracy: 0.7650 - lr: 1.0000e-04\n",
      "Epoch 11/20\n",
      "200/200 [==============================] - 22s 112ms/step - loss: 0.4355 - accuracy: 0.7948 - val_loss: 0.4911 - val_accuracy: 0.7675 - lr: 1.0000e-04\n",
      "100/100 [==============================] - 6s 59ms/step\n",
      "100/100 [==============================] - 6s 58ms/step\n"
     ]
    },
    {
     "name": "stderr",
     "output_type": "stream",
     "text": [
      "2024/10/10 08:00:26 WARNING mlflow.tensorflow: You are saving a TensorFlow Core model or Keras model without a signature. Inference with mlflow.pyfunc.spark_udf() will not work unless the model's pyfunc representation accepts pandas DataFrames as inference inputs.\n",
      "WARNING:absl:Found untraced functions such as _update_step_xla, lstm_cell_7_layer_call_fn, lstm_cell_7_layer_call_and_return_conditional_losses while saving (showing 3 of 3). These functions will not be directly callable after loading.\n"
     ]
    },
    {
     "name": "stdout",
     "output_type": "stream",
     "text": [
      "INFO:tensorflow:Assets written to: C:\\Users\\trist\\AppData\\Local\\Temp\\tmp_sbb6y0r\\model\\data\\model\\assets\n"
     ]
    },
    {
     "name": "stderr",
     "output_type": "stream",
     "text": [
      "INFO:tensorflow:Assets written to: C:\\Users\\trist\\AppData\\Local\\Temp\\tmp_sbb6y0r\\model\\data\\model\\assets\n",
      "2024/10/10 08:00:41 WARNING mlflow.models.model: Model logged without a signature and input example. Please set `input_example` parameter when logging the model to auto infer the model signature.\n"
     ]
    },
    {
     "name": "stdout",
     "output_type": "stream",
     "text": [
      "Epoch 1/20\n",
      "200/200 [==============================] - 148s 731ms/step - loss: 0.5871 - accuracy: 0.6865 - val_loss: 0.6528 - val_accuracy: 0.7300 - lr: 0.0010\n",
      "Epoch 2/20\n",
      "200/200 [==============================] - 145s 725ms/step - loss: 0.5265 - accuracy: 0.7436 - val_loss: 0.5964 - val_accuracy: 0.6716 - lr: 0.0010\n",
      "Epoch 3/20\n",
      "200/200 [==============================] - 144s 721ms/step - loss: 0.5047 - accuracy: 0.7537 - val_loss: 0.5338 - val_accuracy: 0.7322 - lr: 0.0010\n",
      "Epoch 4/20\n",
      "200/200 [==============================] - 145s 723ms/step - loss: 0.4890 - accuracy: 0.7652 - val_loss: 0.5037 - val_accuracy: 0.7522 - lr: 0.0010\n",
      "Epoch 5/20\n",
      "200/200 [==============================] - 144s 722ms/step - loss: 0.4796 - accuracy: 0.7716 - val_loss: 0.5226 - val_accuracy: 0.7394 - lr: 0.0010\n",
      "Epoch 6/20\n",
      "200/200 [==============================] - 145s 723ms/step - loss: 0.4615 - accuracy: 0.7812 - val_loss: 0.5214 - val_accuracy: 0.7375 - lr: 0.0010\n",
      "Epoch 7/20\n",
      "200/200 [==============================] - 144s 723ms/step - loss: 0.4248 - accuracy: 0.8014 - val_loss: 0.4984 - val_accuracy: 0.7625 - lr: 2.0000e-04\n",
      "Epoch 8/20\n",
      "200/200 [==============================] - 144s 721ms/step - loss: 0.4164 - accuracy: 0.8108 - val_loss: 0.5039 - val_accuracy: 0.7619 - lr: 2.0000e-04\n",
      "Epoch 9/20\n",
      "200/200 [==============================] - 144s 719ms/step - loss: 0.4067 - accuracy: 0.8127 - val_loss: 0.5012 - val_accuracy: 0.7616 - lr: 2.0000e-04\n",
      "Epoch 10/20\n",
      "200/200 [==============================] - 144s 718ms/step - loss: 0.3967 - accuracy: 0.8202 - val_loss: 0.5188 - val_accuracy: 0.7581 - lr: 1.0000e-04\n",
      "Epoch 11/20\n",
      "200/200 [==============================] - 144s 720ms/step - loss: 0.3902 - accuracy: 0.8241 - val_loss: 0.5109 - val_accuracy: 0.7591 - lr: 1.0000e-04\n",
      "100/100 [==============================] - 8s 74ms/step\n",
      "100/100 [==============================] - 7s 74ms/step\n"
     ]
    },
    {
     "name": "stderr",
     "output_type": "stream",
     "text": [
      "2024/10/10 08:27:28 WARNING mlflow.tensorflow: You are saving a TensorFlow Core model or Keras model without a signature. Inference with mlflow.pyfunc.spark_udf() will not work unless the model's pyfunc representation accepts pandas DataFrames as inference inputs.\n",
      "WARNING:absl:Found untraced functions such as _update_step_xla, lstm_cell_8_layer_call_fn, lstm_cell_8_layer_call_and_return_conditional_losses while saving (showing 3 of 3). These functions will not be directly callable after loading.\n"
     ]
    },
    {
     "name": "stdout",
     "output_type": "stream",
     "text": [
      "INFO:tensorflow:Assets written to: C:\\Users\\trist\\AppData\\Local\\Temp\\tmpmhd4vrl4\\model\\data\\model\\assets\n"
     ]
    },
    {
     "name": "stderr",
     "output_type": "stream",
     "text": [
      "INFO:tensorflow:Assets written to: C:\\Users\\trist\\AppData\\Local\\Temp\\tmpmhd4vrl4\\model\\data\\model\\assets\n",
      "2024/10/10 08:27:43 WARNING mlflow.models.model: Model logged without a signature and input example. Please set `input_example` parameter when logging the model to auto infer the model signature.\n"
     ]
    },
    {
     "name": "stdout",
     "output_type": "stream",
     "text": [
      "Epoch 1/20\n",
      "200/200 [==============================] - 325s 2s/step - loss: 0.5866 - accuracy: 0.6952 - val_loss: 0.6559 - val_accuracy: 0.6841 - lr: 0.0010\n",
      "Epoch 2/20\n",
      "200/200 [==============================] - 298s 1s/step - loss: 0.5236 - accuracy: 0.7398 - val_loss: 0.6239 - val_accuracy: 0.6247 - lr: 0.0010\n",
      "Epoch 3/20\n",
      "200/200 [==============================] - 296s 1s/step - loss: 0.4998 - accuracy: 0.7601 - val_loss: 0.5130 - val_accuracy: 0.7469 - lr: 0.0010\n",
      "Epoch 4/20\n",
      "200/200 [==============================] - 294s 1s/step - loss: 0.4839 - accuracy: 0.7690 - val_loss: 0.9955 - val_accuracy: 0.5891 - lr: 0.0010\n",
      "Epoch 5/20\n",
      "200/200 [==============================] - 292s 1s/step - loss: 0.4688 - accuracy: 0.7773 - val_loss: 0.5458 - val_accuracy: 0.7241 - lr: 0.0010\n",
      "Epoch 6/20\n",
      "200/200 [==============================] - 290s 1s/step - loss: 0.4272 - accuracy: 0.8006 - val_loss: 0.5210 - val_accuracy: 0.7575 - lr: 2.0000e-04\n",
      "Epoch 7/20\n",
      "200/200 [==============================] - 306s 2s/step - loss: 0.4087 - accuracy: 0.8132 - val_loss: 0.4987 - val_accuracy: 0.7591 - lr: 2.0000e-04\n",
      "Epoch 8/20\n",
      "200/200 [==============================] - 309s 2s/step - loss: 0.4022 - accuracy: 0.8191 - val_loss: 0.5164 - val_accuracy: 0.7606 - lr: 2.0000e-04\n",
      "Epoch 9/20\n",
      "200/200 [==============================] - 305s 2s/step - loss: 0.3912 - accuracy: 0.8220 - val_loss: 0.5133 - val_accuracy: 0.7528 - lr: 2.0000e-04\n",
      "Epoch 10/20\n",
      "200/200 [==============================] - 301s 2s/step - loss: 0.3760 - accuracy: 0.8278 - val_loss: 0.5172 - val_accuracy: 0.7581 - lr: 1.0000e-04\n",
      "Epoch 11/20\n",
      "200/200 [==============================] - 297s 1s/step - loss: 0.3667 - accuracy: 0.8335 - val_loss: 0.5220 - val_accuracy: 0.7594 - lr: 1.0000e-04\n",
      "100/100 [==============================] - 13s 127ms/step\n",
      "100/100 [==============================] - 13s 126ms/step\n"
     ]
    },
    {
     "name": "stderr",
     "output_type": "stream",
     "text": [
      "2024/10/10 09:23:23 WARNING mlflow.tensorflow: You are saving a TensorFlow Core model or Keras model without a signature. Inference with mlflow.pyfunc.spark_udf() will not work unless the model's pyfunc representation accepts pandas DataFrames as inference inputs.\n",
      "WARNING:absl:Found untraced functions such as _update_step_xla, lstm_cell_9_layer_call_fn, lstm_cell_9_layer_call_and_return_conditional_losses while saving (showing 3 of 3). These functions will not be directly callable after loading.\n"
     ]
    },
    {
     "name": "stdout",
     "output_type": "stream",
     "text": [
      "INFO:tensorflow:Assets written to: C:\\Users\\trist\\AppData\\Local\\Temp\\tmpo6unfzdc\\model\\data\\model\\assets\n"
     ]
    },
    {
     "name": "stderr",
     "output_type": "stream",
     "text": [
      "INFO:tensorflow:Assets written to: C:\\Users\\trist\\AppData\\Local\\Temp\\tmpo6unfzdc\\model\\data\\model\\assets\n",
      "2024/10/10 09:23:39 WARNING mlflow.models.model: Model logged without a signature and input example. Please set `input_example` parameter when logging the model to auto infer the model signature.\n"
     ]
    },
    {
     "name": "stdout",
     "output_type": "stream",
     "text": [
      "Epoch 1/20\n",
      "200/200 [==============================] - 41s 199ms/step - loss: 0.6501 - accuracy: 0.6270 - val_loss: 0.6755 - val_accuracy: 0.6434 - lr: 0.0010\n",
      "Epoch 2/20\n",
      "200/200 [==============================] - 36s 178ms/step - loss: 0.5654 - accuracy: 0.7158 - val_loss: 0.6229 - val_accuracy: 0.7069 - lr: 0.0010\n",
      "Epoch 3/20\n",
      "200/200 [==============================] - 36s 178ms/step - loss: 0.5392 - accuracy: 0.7337 - val_loss: 0.5266 - val_accuracy: 0.7522 - lr: 0.0010\n",
      "Epoch 4/20\n",
      "200/200 [==============================] - 36s 179ms/step - loss: 0.5272 - accuracy: 0.7385 - val_loss: 0.5982 - val_accuracy: 0.7028 - lr: 0.0010\n",
      "Epoch 5/20\n",
      "200/200 [==============================] - 36s 179ms/step - loss: 0.5212 - accuracy: 0.7482 - val_loss: 0.6353 - val_accuracy: 0.6569 - lr: 0.0010\n",
      "Epoch 6/20\n",
      "200/200 [==============================] - 36s 178ms/step - loss: 0.5014 - accuracy: 0.7610 - val_loss: 0.5971 - val_accuracy: 0.6753 - lr: 2.0000e-04\n",
      "Epoch 7/20\n",
      "200/200 [==============================] - 36s 179ms/step - loss: 0.5003 - accuracy: 0.7608 - val_loss: 0.5387 - val_accuracy: 0.7294 - lr: 2.0000e-04\n",
      "100/100 [==============================] - 8s 79ms/step\n",
      "100/100 [==============================] - 8s 79ms/step\n"
     ]
    },
    {
     "name": "stderr",
     "output_type": "stream",
     "text": [
      "2024/10/10 09:28:12 WARNING mlflow.tensorflow: You are saving a TensorFlow Core model or Keras model without a signature. Inference with mlflow.pyfunc.spark_udf() will not work unless the model's pyfunc representation accepts pandas DataFrames as inference inputs.\n",
      "WARNING:absl:Found untraced functions such as _update_step_xla, lstm_cell_10_layer_call_fn, lstm_cell_10_layer_call_and_return_conditional_losses while saving (showing 3 of 3). These functions will not be directly callable after loading.\n"
     ]
    },
    {
     "name": "stdout",
     "output_type": "stream",
     "text": [
      "INFO:tensorflow:Assets written to: C:\\Users\\trist\\AppData\\Local\\Temp\\tmpog1_gifk\\model\\data\\model\\assets\n"
     ]
    },
    {
     "name": "stderr",
     "output_type": "stream",
     "text": [
      "INFO:tensorflow:Assets written to: C:\\Users\\trist\\AppData\\Local\\Temp\\tmpog1_gifk\\model\\data\\model\\assets\n",
      "2024/10/10 09:28:27 WARNING mlflow.models.model: Model logged without a signature and input example. Please set `input_example` parameter when logging the model to auto infer the model signature.\n"
     ]
    },
    {
     "name": "stdout",
     "output_type": "stream",
     "text": [
      "Epoch 1/20\n",
      "200/200 [==============================] - 161s 797ms/step - loss: 0.6363 - accuracy: 0.6452 - val_loss: 0.6729 - val_accuracy: 0.7072 - lr: 0.0010\n",
      "Epoch 2/20\n",
      "200/200 [==============================] - 157s 784ms/step - loss: 0.5553 - accuracy: 0.7204 - val_loss: 0.6169 - val_accuracy: 0.7194 - lr: 0.0010\n",
      "Epoch 3/20\n",
      "200/200 [==============================] - 156s 780ms/step - loss: 0.5311 - accuracy: 0.7380 - val_loss: 0.6509 - val_accuracy: 0.5284 - lr: 0.0010\n",
      "Epoch 4/20\n",
      "200/200 [==============================] - 156s 779ms/step - loss: 0.5179 - accuracy: 0.7477 - val_loss: 0.6318 - val_accuracy: 0.6650 - lr: 0.0010\n",
      "Epoch 5/20\n",
      "200/200 [==============================] - 156s 779ms/step - loss: 0.5026 - accuracy: 0.7561 - val_loss: 0.5162 - val_accuracy: 0.7431 - lr: 2.0000e-04\n",
      "Epoch 6/20\n",
      "200/200 [==============================] - 156s 781ms/step - loss: 0.4929 - accuracy: 0.7652 - val_loss: 0.5000 - val_accuracy: 0.7553 - lr: 2.0000e-04\n",
      "Epoch 7/20\n",
      "200/200 [==============================] - 157s 787ms/step - loss: 0.4907 - accuracy: 0.7653 - val_loss: 0.5139 - val_accuracy: 0.7550 - lr: 2.0000e-04\n",
      "Epoch 8/20\n",
      "200/200 [==============================] - 158s 789ms/step - loss: 0.4817 - accuracy: 0.7666 - val_loss: 0.4995 - val_accuracy: 0.7566 - lr: 2.0000e-04\n",
      "Epoch 9/20\n",
      "200/200 [==============================] - 157s 787ms/step - loss: 0.4879 - accuracy: 0.7652 - val_loss: 0.6263 - val_accuracy: 0.6641 - lr: 2.0000e-04\n",
      "Epoch 10/20\n",
      "200/200 [==============================] - 157s 785ms/step - loss: 0.4837 - accuracy: 0.7684 - val_loss: 0.9138 - val_accuracy: 0.6112 - lr: 2.0000e-04\n",
      "Epoch 11/20\n",
      "200/200 [==============================] - 157s 785ms/step - loss: 0.4729 - accuracy: 0.7746 - val_loss: 0.5136 - val_accuracy: 0.7513 - lr: 1.0000e-04\n",
      "Epoch 12/20\n",
      "200/200 [==============================] - 157s 785ms/step - loss: 0.4757 - accuracy: 0.7710 - val_loss: 0.5016 - val_accuracy: 0.7616 - lr: 1.0000e-04\n",
      "100/100 [==============================] - 8s 74ms/step\n",
      "100/100 [==============================] - 7s 74ms/step\n"
     ]
    },
    {
     "name": "stderr",
     "output_type": "stream",
     "text": [
      "2024/10/10 10:00:08 WARNING mlflow.tensorflow: You are saving a TensorFlow Core model or Keras model without a signature. Inference with mlflow.pyfunc.spark_udf() will not work unless the model's pyfunc representation accepts pandas DataFrames as inference inputs.\n",
      "WARNING:absl:Found untraced functions such as _update_step_xla, lstm_cell_11_layer_call_fn, lstm_cell_11_layer_call_and_return_conditional_losses while saving (showing 3 of 3). These functions will not be directly callable after loading.\n"
     ]
    },
    {
     "name": "stdout",
     "output_type": "stream",
     "text": [
      "INFO:tensorflow:Assets written to: C:\\Users\\trist\\AppData\\Local\\Temp\\tmpbm9qrqd6\\model\\data\\model\\assets\n"
     ]
    },
    {
     "name": "stderr",
     "output_type": "stream",
     "text": [
      "INFO:tensorflow:Assets written to: C:\\Users\\trist\\AppData\\Local\\Temp\\tmpbm9qrqd6\\model\\data\\model\\assets\n",
      "2024/10/10 10:00:23 WARNING mlflow.models.model: Model logged without a signature and input example. Please set `input_example` parameter when logging the model to auto infer the model signature.\n"
     ]
    },
    {
     "name": "stdout",
     "output_type": "stream",
     "text": [
      "Epoch 1/20\n",
      "200/200 [==============================] - 355s 2s/step - loss: 0.6199 - accuracy: 0.6621 - val_loss: 0.6797 - val_accuracy: 0.7141 - lr: 0.0010\n",
      "Epoch 2/20\n",
      "200/200 [==============================] - 349s 2s/step - loss: 0.5506 - accuracy: 0.7192 - val_loss: 0.6236 - val_accuracy: 0.7228 - lr: 0.0010\n",
      "Epoch 3/20\n",
      "200/200 [==============================] - 350s 2s/step - loss: 0.5324 - accuracy: 0.7435 - val_loss: 0.5264 - val_accuracy: 0.7487 - lr: 0.0010\n",
      "Epoch 4/20\n",
      "200/200 [==============================] - 349s 2s/step - loss: 0.5216 - accuracy: 0.7453 - val_loss: 0.6126 - val_accuracy: 0.7078 - lr: 0.0010\n",
      "Epoch 5/20\n",
      "200/200 [==============================] - 350s 2s/step - loss: 0.5084 - accuracy: 0.7509 - val_loss: 0.7308 - val_accuracy: 0.6084 - lr: 0.0010\n",
      "Epoch 6/20\n",
      "200/200 [==============================] - 349s 2s/step - loss: 0.4828 - accuracy: 0.7710 - val_loss: 0.4968 - val_accuracy: 0.7588 - lr: 2.0000e-04\n",
      "Epoch 7/20\n",
      "200/200 [==============================] - 348s 2s/step - loss: 0.4796 - accuracy: 0.7717 - val_loss: 0.5086 - val_accuracy: 0.7591 - lr: 2.0000e-04\n",
      "Epoch 8/20\n",
      "200/200 [==============================] - 350s 2s/step - loss: 0.4720 - accuracy: 0.7737 - val_loss: 0.5095 - val_accuracy: 0.7569 - lr: 2.0000e-04\n",
      "Epoch 9/20\n",
      "200/200 [==============================] - 350s 2s/step - loss: 0.4666 - accuracy: 0.7733 - val_loss: 0.5002 - val_accuracy: 0.7538 - lr: 1.0000e-04\n",
      "Epoch 10/20\n",
      "200/200 [==============================] - 348s 2s/step - loss: 0.4611 - accuracy: 0.7800 - val_loss: 0.5098 - val_accuracy: 0.7600 - lr: 1.0000e-04\n",
      "100/100 [==============================] - 18s 172ms/step\n",
      "100/100 [==============================] - 17s 172ms/step\n"
     ]
    },
    {
     "name": "stderr",
     "output_type": "stream",
     "text": [
      "2024/10/10 10:59:18 WARNING mlflow.tensorflow: You are saving a TensorFlow Core model or Keras model without a signature. Inference with mlflow.pyfunc.spark_udf() will not work unless the model's pyfunc representation accepts pandas DataFrames as inference inputs.\n",
      "WARNING:absl:Found untraced functions such as _update_step_xla, lstm_cell_12_layer_call_fn, lstm_cell_12_layer_call_and_return_conditional_losses while saving (showing 3 of 3). These functions will not be directly callable after loading.\n"
     ]
    },
    {
     "name": "stdout",
     "output_type": "stream",
     "text": [
      "INFO:tensorflow:Assets written to: C:\\Users\\trist\\AppData\\Local\\Temp\\tmp5weuhmwh\\model\\data\\model\\assets\n"
     ]
    },
    {
     "name": "stderr",
     "output_type": "stream",
     "text": [
      "INFO:tensorflow:Assets written to: C:\\Users\\trist\\AppData\\Local\\Temp\\tmp5weuhmwh\\model\\data\\model\\assets\n",
      "2024/10/10 10:59:32 WARNING mlflow.models.model: Model logged without a signature and input example. Please set `input_example` parameter when logging the model to auto infer the model signature.\n"
     ]
    },
    {
     "name": "stdout",
     "output_type": "stream",
     "text": [
      "Epoch 1/20\n",
      "200/200 [==============================] - 50s 240ms/step - loss: 0.6110 - accuracy: 0.6652 - val_loss: 0.6553 - val_accuracy: 0.6609 - lr: 0.0010\n",
      "Epoch 2/20\n",
      "200/200 [==============================] - 47s 236ms/step - loss: 0.5342 - accuracy: 0.7360 - val_loss: 0.5963 - val_accuracy: 0.7163 - lr: 0.0010\n",
      "Epoch 3/20\n",
      "200/200 [==============================] - 47s 236ms/step - loss: 0.5136 - accuracy: 0.7520 - val_loss: 0.5200 - val_accuracy: 0.7475 - lr: 0.0010\n",
      "Epoch 4/20\n",
      "200/200 [==============================] - 47s 236ms/step - loss: 0.4984 - accuracy: 0.7589 - val_loss: 0.5412 - val_accuracy: 0.7231 - lr: 0.0010\n",
      "Epoch 5/20\n",
      "200/200 [==============================] - 47s 235ms/step - loss: 0.4825 - accuracy: 0.7661 - val_loss: 0.5194 - val_accuracy: 0.7431 - lr: 0.0010\n",
      "Epoch 6/20\n",
      "200/200 [==============================] - 47s 235ms/step - loss: 0.4680 - accuracy: 0.7758 - val_loss: 0.5174 - val_accuracy: 0.7481 - lr: 0.0010\n",
      "Epoch 7/20\n",
      "200/200 [==============================] - 47s 235ms/step - loss: 0.4557 - accuracy: 0.7835 - val_loss: 0.5363 - val_accuracy: 0.7412 - lr: 0.0010\n",
      "Epoch 8/20\n",
      "200/200 [==============================] - 47s 235ms/step - loss: 0.4451 - accuracy: 0.7880 - val_loss: 0.5485 - val_accuracy: 0.7237 - lr: 0.0010\n",
      "Epoch 9/20\n",
      "200/200 [==============================] - 47s 235ms/step - loss: 0.4096 - accuracy: 0.8145 - val_loss: 0.5171 - val_accuracy: 0.7641 - lr: 2.0000e-04\n",
      "Epoch 10/20\n",
      "200/200 [==============================] - 47s 235ms/step - loss: 0.4003 - accuracy: 0.8179 - val_loss: 0.5124 - val_accuracy: 0.7597 - lr: 2.0000e-04\n",
      "Epoch 11/20\n",
      "200/200 [==============================] - 47s 236ms/step - loss: 0.3943 - accuracy: 0.8222 - val_loss: 0.5468 - val_accuracy: 0.7347 - lr: 2.0000e-04\n",
      "Epoch 12/20\n",
      "200/200 [==============================] - 47s 236ms/step - loss: 0.3892 - accuracy: 0.8245 - val_loss: 0.5527 - val_accuracy: 0.7387 - lr: 2.0000e-04\n",
      "Epoch 13/20\n",
      "200/200 [==============================] - 47s 236ms/step - loss: 0.3806 - accuracy: 0.8302 - val_loss: 0.5438 - val_accuracy: 0.7487 - lr: 1.0000e-04\n",
      "Epoch 14/20\n",
      "200/200 [==============================] - 47s 236ms/step - loss: 0.3729 - accuracy: 0.8341 - val_loss: 0.5471 - val_accuracy: 0.7484 - lr: 1.0000e-04\n",
      "100/100 [==============================] - 9s 83ms/step\n",
      "100/100 [==============================] - 8s 83ms/step\n"
     ]
    },
    {
     "name": "stderr",
     "output_type": "stream",
     "text": [
      "2024/10/10 11:10:53 WARNING mlflow.tensorflow: You are saving a TensorFlow Core model or Keras model without a signature. Inference with mlflow.pyfunc.spark_udf() will not work unless the model's pyfunc representation accepts pandas DataFrames as inference inputs.\n",
      "WARNING:absl:Found untraced functions such as _update_step_xla, lstm_cell_13_layer_call_fn, lstm_cell_13_layer_call_and_return_conditional_losses while saving (showing 3 of 3). These functions will not be directly callable after loading.\n"
     ]
    },
    {
     "name": "stdout",
     "output_type": "stream",
     "text": [
      "INFO:tensorflow:Assets written to: C:\\Users\\trist\\AppData\\Local\\Temp\\tmpxvrhvb0e\\model\\data\\model\\assets\n"
     ]
    },
    {
     "name": "stderr",
     "output_type": "stream",
     "text": [
      "INFO:tensorflow:Assets written to: C:\\Users\\trist\\AppData\\Local\\Temp\\tmpxvrhvb0e\\model\\data\\model\\assets\n",
      "2024/10/10 11:11:07 WARNING mlflow.models.model: Model logged without a signature and input example. Please set `input_example` parameter when logging the model to auto infer the model signature.\n"
     ]
    },
    {
     "name": "stdout",
     "output_type": "stream",
     "text": [
      "Epoch 1/20\n",
      "200/200 [==============================] - 154s 761ms/step - loss: 0.5937 - accuracy: 0.6769 - val_loss: 0.6529 - val_accuracy: 0.7406 - lr: 0.0010\n",
      "Epoch 2/20\n",
      "200/200 [==============================] - 150s 750ms/step - loss: 0.5217 - accuracy: 0.7448 - val_loss: 0.5785 - val_accuracy: 0.7412 - lr: 0.0010\n",
      "Epoch 3/20\n",
      "200/200 [==============================] - 150s 751ms/step - loss: 0.5040 - accuracy: 0.7563 - val_loss: 0.5653 - val_accuracy: 0.6991 - lr: 0.0010\n",
      "Epoch 4/20\n",
      "200/200 [==============================] - 150s 750ms/step - loss: 0.4840 - accuracy: 0.7715 - val_loss: 0.5304 - val_accuracy: 0.7309 - lr: 0.0010\n",
      "Epoch 5/20\n",
      "200/200 [==============================] - 150s 750ms/step - loss: 0.4719 - accuracy: 0.7713 - val_loss: 0.5594 - val_accuracy: 0.7063 - lr: 0.0010\n",
      "Epoch 6/20\n",
      "200/200 [==============================] - 150s 749ms/step - loss: 0.4505 - accuracy: 0.7901 - val_loss: 0.5611 - val_accuracy: 0.7466 - lr: 0.0010\n",
      "Epoch 7/20\n",
      "200/200 [==============================] - 150s 750ms/step - loss: 0.4132 - accuracy: 0.8121 - val_loss: 0.5059 - val_accuracy: 0.7506 - lr: 2.0000e-04\n",
      "Epoch 8/20\n",
      "200/200 [==============================] - 150s 751ms/step - loss: 0.3944 - accuracy: 0.8207 - val_loss: 0.5313 - val_accuracy: 0.7447 - lr: 2.0000e-04\n",
      "Epoch 9/20\n",
      "200/200 [==============================] - 150s 750ms/step - loss: 0.3856 - accuracy: 0.8274 - val_loss: 0.5193 - val_accuracy: 0.7478 - lr: 2.0000e-04\n",
      "Epoch 10/20\n",
      "200/200 [==============================] - 150s 750ms/step - loss: 0.3749 - accuracy: 0.8326 - val_loss: 0.5174 - val_accuracy: 0.7553 - lr: 1.0000e-04\n",
      "Epoch 11/20\n",
      "200/200 [==============================] - 150s 750ms/step - loss: 0.3656 - accuracy: 0.8391 - val_loss: 0.5272 - val_accuracy: 0.7559 - lr: 1.0000e-04\n",
      "100/100 [==============================] - 7s 69ms/step\n",
      "100/100 [==============================] - 7s 69ms/step\n"
     ]
    },
    {
     "name": "stderr",
     "output_type": "stream",
     "text": [
      "2024/10/10 11:38:56 WARNING mlflow.tensorflow: You are saving a TensorFlow Core model or Keras model without a signature. Inference with mlflow.pyfunc.spark_udf() will not work unless the model's pyfunc representation accepts pandas DataFrames as inference inputs.\n",
      "WARNING:absl:Found untraced functions such as _update_step_xla, lstm_cell_14_layer_call_fn, lstm_cell_14_layer_call_and_return_conditional_losses while saving (showing 3 of 3). These functions will not be directly callable after loading.\n"
     ]
    },
    {
     "name": "stdout",
     "output_type": "stream",
     "text": [
      "INFO:tensorflow:Assets written to: C:\\Users\\trist\\AppData\\Local\\Temp\\tmp7_cxtaib\\model\\data\\model\\assets\n"
     ]
    },
    {
     "name": "stderr",
     "output_type": "stream",
     "text": [
      "INFO:tensorflow:Assets written to: C:\\Users\\trist\\AppData\\Local\\Temp\\tmp7_cxtaib\\model\\data\\model\\assets\n",
      "2024/10/10 11:39:09 WARNING mlflow.models.model: Model logged without a signature and input example. Please set `input_example` parameter when logging the model to auto infer the model signature.\n"
     ]
    },
    {
     "name": "stdout",
     "output_type": "stream",
     "text": [
      "Epoch 1/20\n",
      "200/200 [==============================] - 330s 2s/step - loss: 0.5855 - accuracy: 0.6856 - val_loss: 0.6695 - val_accuracy: 0.7053 - lr: 0.0010\n",
      "Epoch 2/20\n",
      "200/200 [==============================] - 328s 2s/step - loss: 0.5238 - accuracy: 0.7405 - val_loss: 0.6085 - val_accuracy: 0.7166 - lr: 0.0010\n",
      "Epoch 3/20\n",
      "200/200 [==============================] - 328s 2s/step - loss: 0.4955 - accuracy: 0.7647 - val_loss: 0.5536 - val_accuracy: 0.7344 - lr: 0.0010\n",
      "Epoch 4/20\n",
      "200/200 [==============================] - 327s 2s/step - loss: 0.4786 - accuracy: 0.7681 - val_loss: 0.5629 - val_accuracy: 0.7044 - lr: 0.0010\n",
      "Epoch 5/20\n",
      "200/200 [==============================] - 330s 2s/step - loss: 0.4593 - accuracy: 0.7836 - val_loss: 0.5107 - val_accuracy: 0.7578 - lr: 0.0010\n",
      "Epoch 6/20\n",
      "200/200 [==============================] - 330s 2s/step - loss: 0.4432 - accuracy: 0.7891 - val_loss: 0.5147 - val_accuracy: 0.7584 - lr: 0.0010\n",
      "Epoch 7/20\n",
      "200/200 [==============================] - 331s 2s/step - loss: 0.4165 - accuracy: 0.8096 - val_loss: 0.5334 - val_accuracy: 0.7497 - lr: 0.0010\n",
      "Epoch 8/20\n",
      "200/200 [==============================] - 329s 2s/step - loss: 0.3585 - accuracy: 0.8378 - val_loss: 0.5208 - val_accuracy: 0.7588 - lr: 2.0000e-04\n",
      "Epoch 9/20\n",
      "200/200 [==============================] - 329s 2s/step - loss: 0.3352 - accuracy: 0.8514 - val_loss: 0.5385 - val_accuracy: 0.7622 - lr: 2.0000e-04\n",
      "100/100 [==============================] - 18s 178ms/step\n",
      "100/100 [==============================] - 18s 179ms/step\n"
     ]
    },
    {
     "name": "stderr",
     "output_type": "stream",
     "text": [
      "2024/10/10 12:29:09 WARNING mlflow.tensorflow: You are saving a TensorFlow Core model or Keras model without a signature. Inference with mlflow.pyfunc.spark_udf() will not work unless the model's pyfunc representation accepts pandas DataFrames as inference inputs.\n",
      "WARNING:absl:Found untraced functions such as _update_step_xla, lstm_cell_15_layer_call_fn, lstm_cell_15_layer_call_and_return_conditional_losses while saving (showing 3 of 3). These functions will not be directly callable after loading.\n"
     ]
    },
    {
     "name": "stdout",
     "output_type": "stream",
     "text": [
      "INFO:tensorflow:Assets written to: C:\\Users\\trist\\AppData\\Local\\Temp\\tmp5b8p4gb0\\model\\data\\model\\assets\n"
     ]
    },
    {
     "name": "stderr",
     "output_type": "stream",
     "text": [
      "INFO:tensorflow:Assets written to: C:\\Users\\trist\\AppData\\Local\\Temp\\tmp5b8p4gb0\\model\\data\\model\\assets\n",
      "2024/10/10 12:29:23 WARNING mlflow.models.model: Model logged without a signature and input example. Please set `input_example` parameter when logging the model to auto infer the model signature.\n"
     ]
    },
    {
     "name": "stdout",
     "output_type": "stream",
     "text": [
      "Epoch 1/20\n",
      "200/200 [==============================] - 54s 260ms/step - loss: 0.6629 - accuracy: 0.6158 - val_loss: 0.6693 - val_accuracy: 0.5803 - lr: 0.0010\n",
      "Epoch 2/20\n",
      "200/200 [==============================] - 51s 257ms/step - loss: 0.5633 - accuracy: 0.7149 - val_loss: 0.6108 - val_accuracy: 0.7441 - lr: 0.0010\n",
      "Epoch 3/20\n",
      "200/200 [==============================] - 51s 257ms/step - loss: 0.5453 - accuracy: 0.7315 - val_loss: 0.5280 - val_accuracy: 0.7572 - lr: 0.0010\n",
      "Epoch 4/20\n",
      "200/200 [==============================] - 51s 257ms/step - loss: 0.5257 - accuracy: 0.7446 - val_loss: 0.5564 - val_accuracy: 0.7144 - lr: 0.0010\n",
      "Epoch 5/20\n",
      "200/200 [==============================] - 51s 257ms/step - loss: 0.5190 - accuracy: 0.7478 - val_loss: 0.5845 - val_accuracy: 0.6972 - lr: 0.0010\n",
      "Epoch 6/20\n",
      "200/200 [==============================] - 52s 258ms/step - loss: 0.4999 - accuracy: 0.7599 - val_loss: 0.4979 - val_accuracy: 0.7563 - lr: 2.0000e-04\n",
      "Epoch 7/20\n",
      "200/200 [==============================] - 51s 255ms/step - loss: 0.4932 - accuracy: 0.7641 - val_loss: 0.4941 - val_accuracy: 0.7578 - lr: 2.0000e-04\n",
      "Epoch 8/20\n",
      "200/200 [==============================] - 51s 255ms/step - loss: 0.4865 - accuracy: 0.7712 - val_loss: 0.5364 - val_accuracy: 0.7212 - lr: 2.0000e-04\n",
      "Epoch 9/20\n",
      "200/200 [==============================] - 51s 255ms/step - loss: 0.4855 - accuracy: 0.7698 - val_loss: 0.4989 - val_accuracy: 0.7556 - lr: 2.0000e-04\n",
      "Epoch 10/20\n",
      "200/200 [==============================] - 51s 257ms/step - loss: 0.4832 - accuracy: 0.7704 - val_loss: 0.4978 - val_accuracy: 0.7541 - lr: 1.0000e-04\n",
      "Epoch 11/20\n",
      "200/200 [==============================] - 51s 257ms/step - loss: 0.4812 - accuracy: 0.7747 - val_loss: 0.4950 - val_accuracy: 0.7616 - lr: 1.0000e-04\n",
      "100/100 [==============================] - 10s 93ms/step\n",
      "100/100 [==============================] - 9s 93ms/step\n"
     ]
    },
    {
     "name": "stderr",
     "output_type": "stream",
     "text": [
      "2024/10/10 12:39:09 WARNING mlflow.tensorflow: You are saving a TensorFlow Core model or Keras model without a signature. Inference with mlflow.pyfunc.spark_udf() will not work unless the model's pyfunc representation accepts pandas DataFrames as inference inputs.\n",
      "WARNING:absl:Found untraced functions such as _update_step_xla, lstm_cell_16_layer_call_fn, lstm_cell_16_layer_call_and_return_conditional_losses while saving (showing 3 of 3). These functions will not be directly callable after loading.\n"
     ]
    },
    {
     "name": "stdout",
     "output_type": "stream",
     "text": [
      "INFO:tensorflow:Assets written to: C:\\Users\\trist\\AppData\\Local\\Temp\\tmp_0bkw163\\model\\data\\model\\assets\n"
     ]
    },
    {
     "name": "stderr",
     "output_type": "stream",
     "text": [
      "INFO:tensorflow:Assets written to: C:\\Users\\trist\\AppData\\Local\\Temp\\tmp_0bkw163\\model\\data\\model\\assets\n",
      "2024/10/10 12:39:28 WARNING mlflow.models.model: Model logged without a signature and input example. Please set `input_example` parameter when logging the model to auto infer the model signature.\n"
     ]
    },
    {
     "name": "stdout",
     "output_type": "stream",
     "text": [
      "Epoch 1/20\n",
      "200/200 [==============================] - 166s 822ms/step - loss: 0.6337 - accuracy: 0.6479 - val_loss: 0.6667 - val_accuracy: 0.7191 - lr: 0.0010\n",
      "Epoch 2/20\n",
      "200/200 [==============================] - 164s 819ms/step - loss: 0.5595 - accuracy: 0.7181 - val_loss: 0.6042 - val_accuracy: 0.7284 - lr: 0.0010\n",
      "Epoch 3/20\n",
      "200/200 [==============================] - 164s 819ms/step - loss: 0.5344 - accuracy: 0.7384 - val_loss: 0.5708 - val_accuracy: 0.7256 - lr: 0.0010\n",
      "Epoch 4/20\n",
      "200/200 [==============================] - 164s 818ms/step - loss: 0.5200 - accuracy: 0.7500 - val_loss: 0.6709 - val_accuracy: 0.6453 - lr: 0.0010\n",
      "Epoch 5/20\n",
      "200/200 [==============================] - 164s 819ms/step - loss: 0.5082 - accuracy: 0.7536 - val_loss: 0.5179 - val_accuracy: 0.7500 - lr: 0.0010\n",
      "Epoch 6/20\n",
      "200/200 [==============================] - 164s 821ms/step - loss: 0.4971 - accuracy: 0.7611 - val_loss: 0.4945 - val_accuracy: 0.7553 - lr: 0.0010\n",
      "Epoch 7/20\n",
      "200/200 [==============================] - 164s 820ms/step - loss: 0.4884 - accuracy: 0.7678 - val_loss: 0.5351 - val_accuracy: 0.7350 - lr: 0.0010\n",
      "Epoch 8/20\n",
      "200/200 [==============================] - 164s 820ms/step - loss: 0.4818 - accuracy: 0.7711 - val_loss: 0.5155 - val_accuracy: 0.7422 - lr: 0.0010\n",
      "Epoch 9/20\n",
      "200/200 [==============================] - 164s 821ms/step - loss: 0.4600 - accuracy: 0.7856 - val_loss: 0.5023 - val_accuracy: 0.7584 - lr: 2.0000e-04\n",
      "Epoch 10/20\n",
      "200/200 [==============================] - 164s 818ms/step - loss: 0.4553 - accuracy: 0.7845 - val_loss: 0.5037 - val_accuracy: 0.7522 - lr: 2.0000e-04\n",
      "100/100 [==============================] - 8s 76ms/step\n",
      "100/100 [==============================] - 8s 76ms/step\n"
     ]
    },
    {
     "name": "stderr",
     "output_type": "stream",
     "text": [
      "2024/10/10 13:07:05 WARNING mlflow.tensorflow: You are saving a TensorFlow Core model or Keras model without a signature. Inference with mlflow.pyfunc.spark_udf() will not work unless the model's pyfunc representation accepts pandas DataFrames as inference inputs.\n",
      "WARNING:absl:Found untraced functions such as _update_step_xla, lstm_cell_17_layer_call_fn, lstm_cell_17_layer_call_and_return_conditional_losses while saving (showing 3 of 3). These functions will not be directly callable after loading.\n"
     ]
    },
    {
     "name": "stdout",
     "output_type": "stream",
     "text": [
      "INFO:tensorflow:Assets written to: C:\\Users\\trist\\AppData\\Local\\Temp\\tmpy57l0wpm\\model\\data\\model\\assets\n"
     ]
    },
    {
     "name": "stderr",
     "output_type": "stream",
     "text": [
      "INFO:tensorflow:Assets written to: C:\\Users\\trist\\AppData\\Local\\Temp\\tmpy57l0wpm\\model\\data\\model\\assets\n",
      "2024/10/10 13:07:19 WARNING mlflow.models.model: Model logged without a signature and input example. Please set `input_example` parameter when logging the model to auto infer the model signature.\n"
     ]
    },
    {
     "name": "stdout",
     "output_type": "stream",
     "text": [
      "Epoch 1/20\n",
      "200/200 [==============================] - 326s 2s/step - loss: 0.6219 - accuracy: 0.6588 - val_loss: 0.6678 - val_accuracy: 0.7184 - lr: 0.0010\n",
      "Epoch 2/20\n",
      "200/200 [==============================] - 325s 2s/step - loss: 0.5534 - accuracy: 0.7207 - val_loss: 0.6167 - val_accuracy: 0.6944 - lr: 0.0010\n",
      "Epoch 3/20\n",
      "200/200 [==============================] - 334s 2s/step - loss: 0.5300 - accuracy: 0.7431 - val_loss: 0.5633 - val_accuracy: 0.7209 - lr: 0.0010\n",
      "Epoch 4/20\n",
      "200/200 [==============================] - 335s 2s/step - loss: 0.5223 - accuracy: 0.7467 - val_loss: 0.5248 - val_accuracy: 0.7416 - lr: 0.0010\n",
      "Epoch 5/20\n",
      "200/200 [==============================] - 338s 2s/step - loss: 0.5046 - accuracy: 0.7541 - val_loss: 0.6444 - val_accuracy: 0.6916 - lr: 0.0010\n",
      "Epoch 6/20\n",
      "200/200 [==============================] - 361s 2s/step - loss: 0.4978 - accuracy: 0.7622 - val_loss: 0.6516 - val_accuracy: 0.7084 - lr: 0.0010\n",
      "Epoch 7/20\n",
      "200/200 [==============================] - 359s 2s/step - loss: 0.4705 - accuracy: 0.7741 - val_loss: 0.4956 - val_accuracy: 0.7616 - lr: 2.0000e-04\n",
      "Epoch 8/20\n",
      "200/200 [==============================] - 353s 2s/step - loss: 0.4635 - accuracy: 0.7822 - val_loss: 0.4914 - val_accuracy: 0.7622 - lr: 2.0000e-04\n",
      "Epoch 9/20\n",
      "200/200 [==============================] - 349s 2s/step - loss: 0.4524 - accuracy: 0.7866 - val_loss: 0.4943 - val_accuracy: 0.7581 - lr: 2.0000e-04\n",
      "Epoch 10/20\n",
      "200/200 [==============================] - 348s 2s/step - loss: 0.4511 - accuracy: 0.7881 - val_loss: 0.5106 - val_accuracy: 0.7566 - lr: 2.0000e-04\n",
      "Epoch 11/20\n",
      "200/200 [==============================] - 353s 2s/step - loss: 0.4405 - accuracy: 0.7951 - val_loss: 0.4938 - val_accuracy: 0.7616 - lr: 1.0000e-04\n",
      "Epoch 12/20\n",
      "200/200 [==============================] - 335s 2s/step - loss: 0.4341 - accuracy: 0.7956 - val_loss: 0.5312 - val_accuracy: 0.7403 - lr: 1.0000e-04\n",
      "100/100 [==============================] - 18s 173ms/step\n",
      "100/100 [==============================] - 17s 173ms/step\n"
     ]
    },
    {
     "name": "stderr",
     "output_type": "stream",
     "text": [
      "2024/10/10 14:16:32 WARNING mlflow.tensorflow: You are saving a TensorFlow Core model or Keras model without a signature. Inference with mlflow.pyfunc.spark_udf() will not work unless the model's pyfunc representation accepts pandas DataFrames as inference inputs.\n",
      "WARNING:absl:Found untraced functions such as _update_step_xla, lstm_cell_18_layer_call_fn, lstm_cell_18_layer_call_and_return_conditional_losses while saving (showing 3 of 3). These functions will not be directly callable after loading.\n"
     ]
    },
    {
     "name": "stdout",
     "output_type": "stream",
     "text": [
      "INFO:tensorflow:Assets written to: C:\\Users\\trist\\AppData\\Local\\Temp\\tmpzvccyjk9\\model\\data\\model\\assets\n"
     ]
    },
    {
     "name": "stderr",
     "output_type": "stream",
     "text": [
      "INFO:tensorflow:Assets written to: C:\\Users\\trist\\AppData\\Local\\Temp\\tmpzvccyjk9\\model\\data\\model\\assets\n",
      "2024/10/10 14:16:46 WARNING mlflow.models.model: Model logged without a signature and input example. Please set `input_example` parameter when logging the model to auto infer the model signature.\n"
     ]
    },
    {
     "name": "stdout",
     "output_type": "stream",
     "text": [
      "Meilleurs paramètres : {'activation_type': 'leakyrelu', 'dropout_rate': 0.2, 'lstm_units': 64} avec une accuracy de 0.7675\n"
     ]
    }
   ],
   "source": [
    "# Entraîner avec FastText + Lemmatization\n",
    "best_lstm_model_lemma_ft, best_params_lemma_ft = train_and_log_lstm(\n",
    "    X_train_lemma_ft, y_train_lemma_ft, X_test_lemma_ft, y_test_lemma_ft,\n",
    "    experiment_name=\"LSTM_FastText_Lemmatization\", param_grid=param_grid_lstm, input_shape=input_shape\n",
    ")"
   ]
  },
  {
   "cell_type": "code",
   "execution_count": 29,
   "id": "754e5555-92ed-4011-b52f-b0fc96bb44e5",
   "metadata": {
    "scrolled": true
   },
   "outputs": [
    {
     "name": "stderr",
     "output_type": "stream",
     "text": [
      "WARNING:root:Malformed experiment 'matrice'. Detailed error Yaml file 'D:\\Master_Openclassroom\\Github\\projet7-op\\notebooks\\modèle_avancé\\mlruns\\matrice\\meta.yaml' does not exist.\n",
      "Traceback (most recent call last):\n",
      "  File \"D:\\Master_Openclassroom\\python\\Lib\\site-packages\\mlflow\\store\\tracking\\file_store.py\", line 327, in search_experiments\n",
      "    exp = self._get_experiment(exp_id, view_type)\n",
      "          ^^^^^^^^^^^^^^^^^^^^^^^^^^^^^^^^^^^^^^^\n",
      "  File \"D:\\Master_Openclassroom\\python\\Lib\\site-packages\\mlflow\\store\\tracking\\file_store.py\", line 421, in _get_experiment\n",
      "    meta = FileStore._read_yaml(experiment_dir, FileStore.META_DATA_FILE_NAME)\n",
      "           ^^^^^^^^^^^^^^^^^^^^^^^^^^^^^^^^^^^^^^^^^^^^^^^^^^^^^^^^^^^^^^^^^^^\n",
      "  File \"D:\\Master_Openclassroom\\python\\Lib\\site-packages\\mlflow\\store\\tracking\\file_store.py\", line 1367, in _read_yaml\n",
      "    return _read_helper(root, file_name, attempts_remaining=retries)\n",
      "           ^^^^^^^^^^^^^^^^^^^^^^^^^^^^^^^^^^^^^^^^^^^^^^^^^^^^^^^^^\n",
      "  File \"D:\\Master_Openclassroom\\python\\Lib\\site-packages\\mlflow\\store\\tracking\\file_store.py\", line 1360, in _read_helper\n",
      "    result = read_yaml(root, file_name)\n",
      "             ^^^^^^^^^^^^^^^^^^^^^^^^^^\n",
      "  File \"D:\\Master_Openclassroom\\python\\Lib\\site-packages\\mlflow\\utils\\file_utils.py\", line 309, in read_yaml\n",
      "    raise MissingConfigException(f\"Yaml file '{file_path}' does not exist.\")\n",
      "mlflow.exceptions.MissingConfigException: Yaml file 'D:\\Master_Openclassroom\\Github\\projet7-op\\notebooks\\modèle_avancé\\mlruns\\matrice\\meta.yaml' does not exist.\n"
     ]
    },
    {
     "name": "stdout",
     "output_type": "stream",
     "text": [
      "Epoch 1/20\n",
      "200/200 [==============================] - 48s 231ms/step - loss: 0.6049 - accuracy: 0.6698 - val_loss: 0.6409 - val_accuracy: 0.7262 - lr: 0.0010\n",
      "Epoch 2/20\n",
      "200/200 [==============================] - 46s 228ms/step - loss: 0.5372 - accuracy: 0.7287 - val_loss: 0.5613 - val_accuracy: 0.7266 - lr: 0.0010\n",
      "Epoch 3/20\n",
      "200/200 [==============================] - 46s 228ms/step - loss: 0.5084 - accuracy: 0.7487 - val_loss: 0.5218 - val_accuracy: 0.7369 - lr: 0.0010\n",
      "Epoch 4/20\n",
      "200/200 [==============================] - 45s 228ms/step - loss: 0.4887 - accuracy: 0.7595 - val_loss: 0.5274 - val_accuracy: 0.7375 - lr: 0.0010\n",
      "Epoch 5/20\n",
      "200/200 [==============================] - 46s 228ms/step - loss: 0.4730 - accuracy: 0.7710 - val_loss: 0.5155 - val_accuracy: 0.7506 - lr: 0.0010\n",
      "Epoch 6/20\n",
      "200/200 [==============================] - 45s 227ms/step - loss: 0.4447 - accuracy: 0.7890 - val_loss: 0.5253 - val_accuracy: 0.7344 - lr: 0.0010\n",
      "Epoch 7/20\n",
      "200/200 [==============================] - 46s 228ms/step - loss: 0.4223 - accuracy: 0.8012 - val_loss: 0.8862 - val_accuracy: 0.6441 - lr: 0.0010\n",
      "Epoch 8/20\n",
      "200/200 [==============================] - 46s 228ms/step - loss: 0.3743 - accuracy: 0.8300 - val_loss: 0.5414 - val_accuracy: 0.7472 - lr: 2.0000e-04\n",
      "Epoch 9/20\n",
      "200/200 [==============================] - 46s 228ms/step - loss: 0.3553 - accuracy: 0.8365 - val_loss: 0.5665 - val_accuracy: 0.7459 - lr: 2.0000e-04\n",
      "100/100 [==============================] - 10s 92ms/step\n",
      "100/100 [==============================] - 9s 92ms/step\n"
     ]
    },
    {
     "name": "stderr",
     "output_type": "stream",
     "text": [
      "2024/10/10 14:23:59 WARNING mlflow.tensorflow: You are saving a TensorFlow Core model or Keras model without a signature. Inference with mlflow.pyfunc.spark_udf() will not work unless the model's pyfunc representation accepts pandas DataFrames as inference inputs.\n",
      "WARNING:absl:Found untraced functions such as _update_step_xla, lstm_cell_19_layer_call_fn, lstm_cell_19_layer_call_and_return_conditional_losses while saving (showing 3 of 3). These functions will not be directly callable after loading.\n"
     ]
    },
    {
     "name": "stdout",
     "output_type": "stream",
     "text": [
      "INFO:tensorflow:Assets written to: C:\\Users\\trist\\AppData\\Local\\Temp\\tmpc3vhuw3m\\model\\data\\model\\assets\n"
     ]
    },
    {
     "name": "stderr",
     "output_type": "stream",
     "text": [
      "INFO:tensorflow:Assets written to: C:\\Users\\trist\\AppData\\Local\\Temp\\tmpc3vhuw3m\\model\\data\\model\\assets\n",
      "2024/10/10 14:24:14 WARNING mlflow.models.model: Model logged without a signature and input example. Please set `input_example` parameter when logging the model to auto infer the model signature.\n"
     ]
    },
    {
     "name": "stdout",
     "output_type": "stream",
     "text": [
      "Epoch 1/20\n",
      "200/200 [==============================] - 196s 971ms/step - loss: 0.5929 - accuracy: 0.6837 - val_loss: 0.6534 - val_accuracy: 0.6988 - lr: 0.0010\n",
      "Epoch 2/20\n",
      "200/200 [==============================] - 197s 984ms/step - loss: 0.5325 - accuracy: 0.7297 - val_loss: 0.6083 - val_accuracy: 0.6416 - lr: 0.0010\n",
      "Epoch 3/20\n",
      "200/200 [==============================] - 197s 984ms/step - loss: 0.5074 - accuracy: 0.7508 - val_loss: 0.5184 - val_accuracy: 0.7434 - lr: 0.0010\n",
      "Epoch 4/20\n",
      "200/200 [==============================] - 197s 986ms/step - loss: 0.4819 - accuracy: 0.7651 - val_loss: 0.5270 - val_accuracy: 0.7375 - lr: 0.0010\n",
      "Epoch 5/20\n",
      "200/200 [==============================] - 197s 987ms/step - loss: 0.4619 - accuracy: 0.7754 - val_loss: 0.5519 - val_accuracy: 0.7144 - lr: 0.0010\n",
      "Epoch 6/20\n",
      "200/200 [==============================] - 197s 985ms/step - loss: 0.4056 - accuracy: 0.8173 - val_loss: 0.5222 - val_accuracy: 0.7484 - lr: 2.0000e-04\n",
      "Epoch 7/20\n",
      "200/200 [==============================] - 196s 982ms/step - loss: 0.3847 - accuracy: 0.8227 - val_loss: 0.5493 - val_accuracy: 0.7478 - lr: 2.0000e-04\n",
      "100/100 [==============================] - 9s 84ms/step\n",
      "100/100 [==============================] - 8s 85ms/step\n"
     ]
    },
    {
     "name": "stderr",
     "output_type": "stream",
     "text": [
      "2024/10/10 14:47:29 WARNING mlflow.tensorflow: You are saving a TensorFlow Core model or Keras model without a signature. Inference with mlflow.pyfunc.spark_udf() will not work unless the model's pyfunc representation accepts pandas DataFrames as inference inputs.\n",
      "WARNING:absl:Found untraced functions such as _update_step_xla, lstm_cell_20_layer_call_fn, lstm_cell_20_layer_call_and_return_conditional_losses while saving (showing 3 of 3). These functions will not be directly callable after loading.\n"
     ]
    },
    {
     "name": "stdout",
     "output_type": "stream",
     "text": [
      "INFO:tensorflow:Assets written to: C:\\Users\\trist\\AppData\\Local\\Temp\\tmpzhq8piu_\\model\\data\\model\\assets\n"
     ]
    },
    {
     "name": "stderr",
     "output_type": "stream",
     "text": [
      "INFO:tensorflow:Assets written to: C:\\Users\\trist\\AppData\\Local\\Temp\\tmpzhq8piu_\\model\\data\\model\\assets\n",
      "2024/10/10 14:47:45 WARNING mlflow.models.model: Model logged without a signature and input example. Please set `input_example` parameter when logging the model to auto infer the model signature.\n"
     ]
    },
    {
     "name": "stdout",
     "output_type": "stream",
     "text": [
      "Epoch 1/20\n",
      "200/200 [==============================] - 375s 2s/step - loss: 0.6094 - accuracy: 0.6758 - val_loss: 0.6669 - val_accuracy: 0.7125 - lr: 0.0010\n",
      "Epoch 2/20\n",
      "200/200 [==============================] - 375s 2s/step - loss: 0.5365 - accuracy: 0.7361 - val_loss: 0.5877 - val_accuracy: 0.6969 - lr: 0.0010\n",
      "Epoch 3/20\n",
      "200/200 [==============================] - 378s 2s/step - loss: 0.5077 - accuracy: 0.7537 - val_loss: 0.6028 - val_accuracy: 0.6606 - lr: 0.0010\n",
      "Epoch 4/20\n",
      "200/200 [==============================] - 377s 2s/step - loss: 0.4889 - accuracy: 0.7666 - val_loss: 0.5586 - val_accuracy: 0.7034 - lr: 0.0010\n",
      "Epoch 5/20\n",
      "200/200 [==============================] - 376s 2s/step - loss: 0.4622 - accuracy: 0.7833 - val_loss: 0.5393 - val_accuracy: 0.7284 - lr: 0.0010\n",
      "Epoch 6/20\n",
      "200/200 [==============================] - 378s 2s/step - loss: 0.4364 - accuracy: 0.7924 - val_loss: 0.6630 - val_accuracy: 0.7134 - lr: 0.0010\n",
      "Epoch 7/20\n",
      "200/200 [==============================] - 380s 2s/step - loss: 0.4134 - accuracy: 0.8070 - val_loss: 0.6176 - val_accuracy: 0.6709 - lr: 0.0010\n",
      "Epoch 8/20\n",
      "200/200 [==============================] - 382s 2s/step - loss: 0.3383 - accuracy: 0.8491 - val_loss: 0.5555 - val_accuracy: 0.7403 - lr: 2.0000e-04\n",
      "Epoch 9/20\n",
      "200/200 [==============================] - 375s 2s/step - loss: 0.3091 - accuracy: 0.8641 - val_loss: 0.6037 - val_accuracy: 0.7375 - lr: 2.0000e-04\n",
      "100/100 [==============================] - 18s 182ms/step\n",
      "100/100 [==============================] - 18s 182ms/step\n"
     ]
    },
    {
     "name": "stderr",
     "output_type": "stream",
     "text": [
      "2024/10/10 15:44:59 WARNING mlflow.tensorflow: You are saving a TensorFlow Core model or Keras model without a signature. Inference with mlflow.pyfunc.spark_udf() will not work unless the model's pyfunc representation accepts pandas DataFrames as inference inputs.\n",
      "WARNING:absl:Found untraced functions such as _update_step_xla, lstm_cell_21_layer_call_fn, lstm_cell_21_layer_call_and_return_conditional_losses while saving (showing 3 of 3). These functions will not be directly callable after loading.\n"
     ]
    },
    {
     "name": "stdout",
     "output_type": "stream",
     "text": [
      "INFO:tensorflow:Assets written to: C:\\Users\\trist\\AppData\\Local\\Temp\\tmp36zmv5aw\\model\\data\\model\\assets\n"
     ]
    },
    {
     "name": "stderr",
     "output_type": "stream",
     "text": [
      "INFO:tensorflow:Assets written to: C:\\Users\\trist\\AppData\\Local\\Temp\\tmp36zmv5aw\\model\\data\\model\\assets\n",
      "2024/10/10 15:45:13 WARNING mlflow.models.model: Model logged without a signature and input example. Please set `input_example` parameter when logging the model to auto infer the model signature.\n"
     ]
    },
    {
     "name": "stdout",
     "output_type": "stream",
     "text": [
      "Epoch 1/20\n",
      "200/200 [==============================] - 55s 265ms/step - loss: 0.6522 - accuracy: 0.6249 - val_loss: 0.6627 - val_accuracy: 0.6709 - lr: 0.0010\n",
      "Epoch 2/20\n",
      "200/200 [==============================] - 52s 262ms/step - loss: 0.5633 - accuracy: 0.7117 - val_loss: 0.6458 - val_accuracy: 0.5622 - lr: 0.0010\n",
      "Epoch 3/20\n",
      "200/200 [==============================] - 52s 262ms/step - loss: 0.5401 - accuracy: 0.7325 - val_loss: 0.5526 - val_accuracy: 0.7400 - lr: 0.0010\n",
      "Epoch 4/20\n",
      "200/200 [==============================] - 52s 262ms/step - loss: 0.5243 - accuracy: 0.7416 - val_loss: 0.5348 - val_accuracy: 0.7322 - lr: 0.0010\n",
      "Epoch 5/20\n",
      "200/200 [==============================] - 52s 262ms/step - loss: 0.5100 - accuracy: 0.7472 - val_loss: 0.5241 - val_accuracy: 0.7337 - lr: 0.0010\n",
      "Epoch 6/20\n",
      "200/200 [==============================] - 52s 262ms/step - loss: 0.4984 - accuracy: 0.7563 - val_loss: 0.5232 - val_accuracy: 0.7322 - lr: 0.0010\n",
      "Epoch 7/20\n",
      "200/200 [==============================] - 52s 262ms/step - loss: 0.4847 - accuracy: 0.7649 - val_loss: 0.5128 - val_accuracy: 0.7534 - lr: 0.0010\n",
      "Epoch 8/20\n",
      "200/200 [==============================] - 52s 262ms/step - loss: 0.4671 - accuracy: 0.7766 - val_loss: 0.5179 - val_accuracy: 0.7391 - lr: 0.0010\n",
      "Epoch 9/20\n",
      "200/200 [==============================] - 53s 263ms/step - loss: 0.4522 - accuracy: 0.7801 - val_loss: 0.5496 - val_accuracy: 0.7244 - lr: 0.0010\n",
      "Epoch 10/20\n",
      "200/200 [==============================] - 53s 263ms/step - loss: 0.4202 - accuracy: 0.8009 - val_loss: 0.5150 - val_accuracy: 0.7541 - lr: 2.0000e-04\n",
      "Epoch 11/20\n",
      "200/200 [==============================] - 53s 263ms/step - loss: 0.4057 - accuracy: 0.8086 - val_loss: 0.5381 - val_accuracy: 0.7506 - lr: 2.0000e-04\n",
      "100/100 [==============================] - 10s 94ms/step\n",
      "100/100 [==============================] - 9s 94ms/step\n"
     ]
    },
    {
     "name": "stderr",
     "output_type": "stream",
     "text": [
      "2024/10/10 15:55:13 WARNING mlflow.tensorflow: You are saving a TensorFlow Core model or Keras model without a signature. Inference with mlflow.pyfunc.spark_udf() will not work unless the model's pyfunc representation accepts pandas DataFrames as inference inputs.\n",
      "WARNING:absl:Found untraced functions such as _update_step_xla, lstm_cell_22_layer_call_fn, lstm_cell_22_layer_call_and_return_conditional_losses while saving (showing 3 of 3). These functions will not be directly callable after loading.\n"
     ]
    },
    {
     "name": "stdout",
     "output_type": "stream",
     "text": [
      "INFO:tensorflow:Assets written to: C:\\Users\\trist\\AppData\\Local\\Temp\\tmpwwoic95i\\model\\data\\model\\assets\n"
     ]
    },
    {
     "name": "stderr",
     "output_type": "stream",
     "text": [
      "INFO:tensorflow:Assets written to: C:\\Users\\trist\\AppData\\Local\\Temp\\tmpwwoic95i\\model\\data\\model\\assets\n",
      "2024/10/10 15:55:32 WARNING mlflow.models.model: Model logged without a signature and input example. Please set `input_example` parameter when logging the model to auto infer the model signature.\n"
     ]
    },
    {
     "name": "stdout",
     "output_type": "stream",
     "text": [
      "Epoch 1/20\n",
      "200/200 [==============================] - 182s 902ms/step - loss: 0.6590 - accuracy: 0.6391 - val_loss: 0.6692 - val_accuracy: 0.6922 - lr: 0.0010\n",
      "Epoch 2/20\n",
      "200/200 [==============================] - 177s 883ms/step - loss: 0.5687 - accuracy: 0.7100 - val_loss: 0.6039 - val_accuracy: 0.7109 - lr: 0.0010\n",
      "Epoch 3/20\n",
      "200/200 [==============================] - 176s 881ms/step - loss: 0.5441 - accuracy: 0.7302 - val_loss: 0.6447 - val_accuracy: 0.5978 - lr: 0.0010\n",
      "Epoch 4/20\n",
      "200/200 [==============================] - 177s 884ms/step - loss: 0.5295 - accuracy: 0.7362 - val_loss: 0.5258 - val_accuracy: 0.7294 - lr: 0.0010\n",
      "Epoch 5/20\n",
      "200/200 [==============================] - 177s 886ms/step - loss: 0.5166 - accuracy: 0.7448 - val_loss: 0.5192 - val_accuracy: 0.7416 - lr: 0.0010\n",
      "Epoch 6/20\n",
      "200/200 [==============================] - 176s 882ms/step - loss: 0.5040 - accuracy: 0.7555 - val_loss: 0.5125 - val_accuracy: 0.7462 - lr: 0.0010\n",
      "Epoch 7/20\n",
      "200/200 [==============================] - 176s 882ms/step - loss: 0.4872 - accuracy: 0.7609 - val_loss: 0.5071 - val_accuracy: 0.7478 - lr: 0.0010\n",
      "Epoch 8/20\n",
      "200/200 [==============================] - 176s 881ms/step - loss: 0.4775 - accuracy: 0.7713 - val_loss: 0.5441 - val_accuracy: 0.7319 - lr: 0.0010\n",
      "Epoch 9/20\n",
      "200/200 [==============================] - 176s 881ms/step - loss: 0.4593 - accuracy: 0.7798 - val_loss: 0.7235 - val_accuracy: 0.6584 - lr: 0.0010\n",
      "Epoch 10/20\n",
      "200/200 [==============================] - 176s 881ms/step - loss: 0.4202 - accuracy: 0.8005 - val_loss: 0.5328 - val_accuracy: 0.7466 - lr: 2.0000e-04\n",
      "Epoch 11/20\n",
      "200/200 [==============================] - 176s 881ms/step - loss: 0.4068 - accuracy: 0.8064 - val_loss: 0.5305 - val_accuracy: 0.7516 - lr: 2.0000e-04\n",
      "100/100 [==============================] - 8s 76ms/step\n",
      "100/100 [==============================] - 8s 75ms/step\n"
     ]
    },
    {
     "name": "stderr",
     "output_type": "stream",
     "text": [
      "2024/10/10 16:28:15 WARNING mlflow.tensorflow: You are saving a TensorFlow Core model or Keras model without a signature. Inference with mlflow.pyfunc.spark_udf() will not work unless the model's pyfunc representation accepts pandas DataFrames as inference inputs.\n",
      "WARNING:absl:Found untraced functions such as _update_step_xla, lstm_cell_23_layer_call_fn, lstm_cell_23_layer_call_and_return_conditional_losses while saving (showing 3 of 3). These functions will not be directly callable after loading.\n"
     ]
    },
    {
     "name": "stdout",
     "output_type": "stream",
     "text": [
      "INFO:tensorflow:Assets written to: C:\\Users\\trist\\AppData\\Local\\Temp\\tmpuce0jr3v\\model\\data\\model\\assets\n"
     ]
    },
    {
     "name": "stderr",
     "output_type": "stream",
     "text": [
      "INFO:tensorflow:Assets written to: C:\\Users\\trist\\AppData\\Local\\Temp\\tmpuce0jr3v\\model\\data\\model\\assets\n",
      "2024/10/10 16:28:30 WARNING mlflow.models.model: Model logged without a signature and input example. Please set `input_example` parameter when logging the model to auto infer the model signature.\n"
     ]
    },
    {
     "name": "stdout",
     "output_type": "stream",
     "text": [
      "Epoch 1/20\n",
      "200/200 [==============================] - 363s 2s/step - loss: 0.6552 - accuracy: 0.6420 - val_loss: 0.6712 - val_accuracy: 0.6609 - lr: 0.0010\n",
      "Epoch 2/20\n",
      "200/200 [==============================] - 375s 2s/step - loss: 0.5677 - accuracy: 0.7081 - val_loss: 0.6316 - val_accuracy: 0.6966 - lr: 0.0010\n",
      "Epoch 3/20\n",
      "200/200 [==============================] - 377s 2s/step - loss: 0.5417 - accuracy: 0.7273 - val_loss: 0.5830 - val_accuracy: 0.6850 - lr: 0.0010\n",
      "Epoch 4/20\n",
      "200/200 [==============================] - 378s 2s/step - loss: 0.5248 - accuracy: 0.7416 - val_loss: 0.5387 - val_accuracy: 0.7119 - lr: 0.0010\n",
      "Epoch 5/20\n",
      "200/200 [==============================] - 379s 2s/step - loss: 0.5101 - accuracy: 0.7514 - val_loss: 0.6491 - val_accuracy: 0.6569 - lr: 0.0010\n",
      "Epoch 6/20\n",
      "200/200 [==============================] - 379s 2s/step - loss: 0.5048 - accuracy: 0.7545 - val_loss: 0.5485 - val_accuracy: 0.7269 - lr: 0.0010\n",
      "Epoch 7/20\n",
      "200/200 [==============================] - 378s 2s/step - loss: 0.4649 - accuracy: 0.7753 - val_loss: 0.5094 - val_accuracy: 0.7472 - lr: 2.0000e-04\n",
      "Epoch 8/20\n",
      "200/200 [==============================] - 378s 2s/step - loss: 0.4561 - accuracy: 0.7806 - val_loss: 0.5146 - val_accuracy: 0.7387 - lr: 2.0000e-04\n",
      "Epoch 9/20\n",
      "200/200 [==============================] - 379s 2s/step - loss: 0.4454 - accuracy: 0.7850 - val_loss: 0.5159 - val_accuracy: 0.7450 - lr: 2.0000e-04\n",
      "Epoch 10/20\n",
      "200/200 [==============================] - 378s 2s/step - loss: 0.4366 - accuracy: 0.7941 - val_loss: 0.5133 - val_accuracy: 0.7441 - lr: 1.0000e-04\n",
      "Epoch 11/20\n",
      "200/200 [==============================] - 379s 2s/step - loss: 0.4280 - accuracy: 0.7966 - val_loss: 0.5105 - val_accuracy: 0.7444 - lr: 1.0000e-04\n",
      "100/100 [==============================] - 18s 179ms/step\n",
      "100/100 [==============================] - 18s 179ms/step\n"
     ]
    },
    {
     "name": "stderr",
     "output_type": "stream",
     "text": [
      "2024/10/10 17:38:10 WARNING mlflow.tensorflow: You are saving a TensorFlow Core model or Keras model without a signature. Inference with mlflow.pyfunc.spark_udf() will not work unless the model's pyfunc representation accepts pandas DataFrames as inference inputs.\n",
      "WARNING:absl:Found untraced functions such as _update_step_xla, lstm_cell_24_layer_call_fn, lstm_cell_24_layer_call_and_return_conditional_losses while saving (showing 3 of 3). These functions will not be directly callable after loading.\n"
     ]
    },
    {
     "name": "stdout",
     "output_type": "stream",
     "text": [
      "INFO:tensorflow:Assets written to: C:\\Users\\trist\\AppData\\Local\\Temp\\tmpgkjidkck\\model\\data\\model\\assets\n"
     ]
    },
    {
     "name": "stderr",
     "output_type": "stream",
     "text": [
      "INFO:tensorflow:Assets written to: C:\\Users\\trist\\AppData\\Local\\Temp\\tmpgkjidkck\\model\\data\\model\\assets\n",
      "2024/10/10 17:38:25 WARNING mlflow.models.model: Model logged without a signature and input example. Please set `input_example` parameter when logging the model to auto infer the model signature.\n"
     ]
    },
    {
     "name": "stdout",
     "output_type": "stream",
     "text": [
      "Epoch 1/20\n",
      "200/200 [==============================] - 50s 243ms/step - loss: 0.6073 - accuracy: 0.6705 - val_loss: 0.6404 - val_accuracy: 0.7022 - lr: 0.0010\n",
      "Epoch 2/20\n",
      "200/200 [==============================] - 48s 240ms/step - loss: 0.5370 - accuracy: 0.7341 - val_loss: 0.5898 - val_accuracy: 0.6997 - lr: 0.0010\n",
      "Epoch 3/20\n",
      "200/200 [==============================] - 48s 240ms/step - loss: 0.5115 - accuracy: 0.7456 - val_loss: 0.5162 - val_accuracy: 0.7453 - lr: 0.0010\n",
      "Epoch 4/20\n",
      "200/200 [==============================] - 48s 239ms/step - loss: 0.4967 - accuracy: 0.7548 - val_loss: 0.5099 - val_accuracy: 0.7444 - lr: 0.0010\n",
      "Epoch 5/20\n",
      "200/200 [==============================] - 48s 239ms/step - loss: 0.4769 - accuracy: 0.7675 - val_loss: 0.5259 - val_accuracy: 0.7422 - lr: 0.0010\n",
      "Epoch 6/20\n",
      "200/200 [==============================] - 48s 239ms/step - loss: 0.4620 - accuracy: 0.7773 - val_loss: 0.5563 - val_accuracy: 0.7259 - lr: 0.0010\n",
      "Epoch 7/20\n",
      "200/200 [==============================] - 48s 239ms/step - loss: 0.4259 - accuracy: 0.7966 - val_loss: 0.5153 - val_accuracy: 0.7466 - lr: 2.0000e-04\n",
      "Epoch 8/20\n",
      "200/200 [==============================] - 48s 239ms/step - loss: 0.4211 - accuracy: 0.8014 - val_loss: 0.5141 - val_accuracy: 0.7444 - lr: 2.0000e-04\n",
      "100/100 [==============================] - 9s 87ms/step\n",
      "100/100 [==============================] - 9s 87ms/step\n"
     ]
    },
    {
     "name": "stderr",
     "output_type": "stream",
     "text": [
      "2024/10/10 17:45:08 WARNING mlflow.tensorflow: You are saving a TensorFlow Core model or Keras model without a signature. Inference with mlflow.pyfunc.spark_udf() will not work unless the model's pyfunc representation accepts pandas DataFrames as inference inputs.\n",
      "WARNING:absl:Found untraced functions such as _update_step_xla, lstm_cell_25_layer_call_fn, lstm_cell_25_layer_call_and_return_conditional_losses while saving (showing 3 of 3). These functions will not be directly callable after loading.\n"
     ]
    },
    {
     "name": "stdout",
     "output_type": "stream",
     "text": [
      "INFO:tensorflow:Assets written to: C:\\Users\\trist\\AppData\\Local\\Temp\\tmp67n634se\\model\\data\\model\\assets\n"
     ]
    },
    {
     "name": "stderr",
     "output_type": "stream",
     "text": [
      "INFO:tensorflow:Assets written to: C:\\Users\\trist\\AppData\\Local\\Temp\\tmp67n634se\\model\\data\\model\\assets\n",
      "2024/10/10 17:45:22 WARNING mlflow.models.model: Model logged without a signature and input example. Please set `input_example` parameter when logging the model to auto infer the model signature.\n"
     ]
    },
    {
     "name": "stdout",
     "output_type": "stream",
     "text": [
      "Epoch 1/20\n",
      "200/200 [==============================] - 185s 918ms/step - loss: 0.5935 - accuracy: 0.6830 - val_loss: 0.6400 - val_accuracy: 0.7206 - lr: 0.0010\n",
      "Epoch 2/20\n",
      "200/200 [==============================] - 183s 917ms/step - loss: 0.5350 - accuracy: 0.7291 - val_loss: 0.5886 - val_accuracy: 0.6869 - lr: 0.0010\n",
      "Epoch 3/20\n",
      "200/200 [==============================] - 183s 915ms/step - loss: 0.5029 - accuracy: 0.7523 - val_loss: 0.5485 - val_accuracy: 0.7103 - lr: 0.0010\n",
      "Epoch 4/20\n",
      "200/200 [==============================] - 183s 915ms/step - loss: 0.4834 - accuracy: 0.7674 - val_loss: 0.5413 - val_accuracy: 0.7269 - lr: 0.0010\n",
      "Epoch 5/20\n",
      "200/200 [==============================] - 183s 916ms/step - loss: 0.4648 - accuracy: 0.7812 - val_loss: 0.6346 - val_accuracy: 0.6809 - lr: 0.0010\n",
      "Epoch 6/20\n",
      "200/200 [==============================] - 183s 915ms/step - loss: 0.4414 - accuracy: 0.7924 - val_loss: 0.7429 - val_accuracy: 0.6650 - lr: 0.0010\n",
      "Epoch 7/20\n",
      "200/200 [==============================] - 183s 914ms/step - loss: 0.3933 - accuracy: 0.8217 - val_loss: 0.5380 - val_accuracy: 0.7334 - lr: 2.0000e-04\n",
      "Epoch 8/20\n",
      "200/200 [==============================] - 183s 917ms/step - loss: 0.3742 - accuracy: 0.8314 - val_loss: 0.5461 - val_accuracy: 0.7434 - lr: 2.0000e-04\n",
      "Epoch 9/20\n",
      "200/200 [==============================] - 183s 917ms/step - loss: 0.3614 - accuracy: 0.8400 - val_loss: 0.5759 - val_accuracy: 0.7375 - lr: 2.0000e-04\n",
      "Epoch 10/20\n",
      "200/200 [==============================] - 183s 916ms/step - loss: 0.3454 - accuracy: 0.8451 - val_loss: 0.5672 - val_accuracy: 0.7387 - lr: 1.0000e-04\n",
      "Epoch 11/20\n",
      "200/200 [==============================] - 183s 917ms/step - loss: 0.3371 - accuracy: 0.8512 - val_loss: 0.5873 - val_accuracy: 0.7266 - lr: 1.0000e-04\n",
      "100/100 [==============================] - 8s 78ms/step\n",
      "100/100 [==============================] - 8s 78ms/step\n"
     ]
    },
    {
     "name": "stderr",
     "output_type": "stream",
     "text": [
      "2024/10/10 18:19:16 WARNING mlflow.tensorflow: You are saving a TensorFlow Core model or Keras model without a signature. Inference with mlflow.pyfunc.spark_udf() will not work unless the model's pyfunc representation accepts pandas DataFrames as inference inputs.\n",
      "WARNING:absl:Found untraced functions such as _update_step_xla, lstm_cell_26_layer_call_fn, lstm_cell_26_layer_call_and_return_conditional_losses while saving (showing 3 of 3). These functions will not be directly callable after loading.\n"
     ]
    },
    {
     "name": "stdout",
     "output_type": "stream",
     "text": [
      "INFO:tensorflow:Assets written to: C:\\Users\\trist\\AppData\\Local\\Temp\\tmpnq_dl2lh\\model\\data\\model\\assets\n"
     ]
    },
    {
     "name": "stderr",
     "output_type": "stream",
     "text": [
      "INFO:tensorflow:Assets written to: C:\\Users\\trist\\AppData\\Local\\Temp\\tmpnq_dl2lh\\model\\data\\model\\assets\n",
      "2024/10/10 18:19:30 WARNING mlflow.models.model: Model logged without a signature and input example. Please set `input_example` parameter when logging the model to auto infer the model signature.\n"
     ]
    },
    {
     "name": "stdout",
     "output_type": "stream",
     "text": [
      "Epoch 1/20\n",
      "200/200 [==============================] - 361s 2s/step - loss: 0.6004 - accuracy: 0.6780 - val_loss: 0.6597 - val_accuracy: 0.5747 - lr: 0.0010\n",
      "Epoch 2/20\n",
      "200/200 [==============================] - 362s 2s/step - loss: 0.5254 - accuracy: 0.7330 - val_loss: 0.5891 - val_accuracy: 0.7259 - lr: 0.0010\n",
      "Epoch 3/20\n",
      "200/200 [==============================] - 372s 2s/step - loss: 0.4997 - accuracy: 0.7557 - val_loss: 0.5334 - val_accuracy: 0.7194 - lr: 0.0010\n",
      "Epoch 4/20\n",
      "200/200 [==============================] - 374s 2s/step - loss: 0.4751 - accuracy: 0.7729 - val_loss: 0.5616 - val_accuracy: 0.7200 - lr: 0.0010\n",
      "Epoch 5/20\n",
      "200/200 [==============================] - 374s 2s/step - loss: 0.4504 - accuracy: 0.7873 - val_loss: 0.5610 - val_accuracy: 0.7244 - lr: 0.0010\n",
      "Epoch 6/20\n",
      "200/200 [==============================] - 375s 2s/step - loss: 0.3916 - accuracy: 0.8211 - val_loss: 0.5308 - val_accuracy: 0.7456 - lr: 2.0000e-04\n",
      "Epoch 7/20\n",
      "200/200 [==============================] - 374s 2s/step - loss: 0.3672 - accuracy: 0.8353 - val_loss: 0.5379 - val_accuracy: 0.7359 - lr: 2.0000e-04\n",
      "Epoch 8/20\n",
      "200/200 [==============================] - 376s 2s/step - loss: 0.3494 - accuracy: 0.8442 - val_loss: 0.5427 - val_accuracy: 0.7362 - lr: 2.0000e-04\n",
      "Epoch 9/20\n",
      "200/200 [==============================] - 374s 2s/step - loss: 0.3284 - accuracy: 0.8572 - val_loss: 0.5508 - val_accuracy: 0.7437 - lr: 1.0000e-04\n",
      "Epoch 10/20\n",
      "200/200 [==============================] - 374s 2s/step - loss: 0.3175 - accuracy: 0.8638 - val_loss: 0.5689 - val_accuracy: 0.7350 - lr: 1.0000e-04\n",
      "100/100 [==============================] - 18s 181ms/step\n",
      "100/100 [==============================] - 18s 180ms/step\n"
     ]
    },
    {
     "name": "stderr",
     "output_type": "stream",
     "text": [
      "2024/10/10 19:22:04 WARNING mlflow.tensorflow: You are saving a TensorFlow Core model or Keras model without a signature. Inference with mlflow.pyfunc.spark_udf() will not work unless the model's pyfunc representation accepts pandas DataFrames as inference inputs.\n",
      "WARNING:absl:Found untraced functions such as _update_step_xla, lstm_cell_27_layer_call_fn, lstm_cell_27_layer_call_and_return_conditional_losses while saving (showing 3 of 3). These functions will not be directly callable after loading.\n"
     ]
    },
    {
     "name": "stdout",
     "output_type": "stream",
     "text": [
      "INFO:tensorflow:Assets written to: C:\\Users\\trist\\AppData\\Local\\Temp\\tmpksevvgqj\\model\\data\\model\\assets\n"
     ]
    },
    {
     "name": "stderr",
     "output_type": "stream",
     "text": [
      "INFO:tensorflow:Assets written to: C:\\Users\\trist\\AppData\\Local\\Temp\\tmpksevvgqj\\model\\data\\model\\assets\n",
      "2024/10/10 19:22:18 WARNING mlflow.models.model: Model logged without a signature and input example. Please set `input_example` parameter when logging the model to auto infer the model signature.\n"
     ]
    },
    {
     "name": "stdout",
     "output_type": "stream",
     "text": [
      "Epoch 1/20\n",
      "200/200 [==============================] - 50s 241ms/step - loss: 0.6741 - accuracy: 0.6251 - val_loss: 0.6422 - val_accuracy: 0.6700 - lr: 0.0010\n",
      "Epoch 2/20\n",
      "200/200 [==============================] - 48s 238ms/step - loss: 0.5754 - accuracy: 0.7022 - val_loss: 0.6299 - val_accuracy: 0.5966 - lr: 0.0010\n",
      "Epoch 3/20\n",
      "200/200 [==============================] - 48s 238ms/step - loss: 0.5536 - accuracy: 0.7245 - val_loss: 0.5419 - val_accuracy: 0.7319 - lr: 0.0010\n",
      "Epoch 4/20\n",
      "200/200 [==============================] - 48s 238ms/step - loss: 0.5322 - accuracy: 0.7335 - val_loss: 0.5407 - val_accuracy: 0.7219 - lr: 0.0010\n",
      "Epoch 5/20\n",
      "200/200 [==============================] - 48s 238ms/step - loss: 0.5221 - accuracy: 0.7411 - val_loss: 0.5446 - val_accuracy: 0.7063 - lr: 0.0010\n",
      "Epoch 6/20\n",
      "200/200 [==============================] - 48s 238ms/step - loss: 0.5148 - accuracy: 0.7463 - val_loss: 0.5393 - val_accuracy: 0.7284 - lr: 0.0010\n",
      "Epoch 7/20\n",
      "200/200 [==============================] - 48s 238ms/step - loss: 0.5051 - accuracy: 0.7484 - val_loss: 0.5210 - val_accuracy: 0.7397 - lr: 0.0010\n",
      "Epoch 8/20\n",
      "200/200 [==============================] - 48s 239ms/step - loss: 0.4963 - accuracy: 0.7571 - val_loss: 0.5216 - val_accuracy: 0.7303 - lr: 0.0010\n",
      "Epoch 9/20\n",
      "200/200 [==============================] - 48s 239ms/step - loss: 0.4841 - accuracy: 0.7637 - val_loss: 0.5774 - val_accuracy: 0.6878 - lr: 0.0010\n",
      "Epoch 10/20\n",
      "200/200 [==============================] - 48s 239ms/step - loss: 0.4653 - accuracy: 0.7772 - val_loss: 0.5039 - val_accuracy: 0.7550 - lr: 2.0000e-04\n",
      "Epoch 11/20\n",
      "200/200 [==============================] - 48s 239ms/step - loss: 0.4622 - accuracy: 0.7777 - val_loss: 0.5044 - val_accuracy: 0.7509 - lr: 2.0000e-04\n",
      "Epoch 12/20\n",
      "200/200 [==============================] - 48s 239ms/step - loss: 0.4547 - accuracy: 0.7785 - val_loss: 0.5018 - val_accuracy: 0.7491 - lr: 2.0000e-04\n",
      "Epoch 13/20\n",
      "200/200 [==============================] - 48s 239ms/step - loss: 0.4504 - accuracy: 0.7820 - val_loss: 0.5119 - val_accuracy: 0.7519 - lr: 2.0000e-04\n",
      "Epoch 14/20\n",
      "200/200 [==============================] - 48s 239ms/step - loss: 0.4510 - accuracy: 0.7813 - val_loss: 0.5071 - val_accuracy: 0.7475 - lr: 2.0000e-04\n",
      "Epoch 15/20\n",
      "200/200 [==============================] - 48s 239ms/step - loss: 0.4432 - accuracy: 0.7871 - val_loss: 0.5148 - val_accuracy: 0.7475 - lr: 1.0000e-04\n",
      "Epoch 16/20\n",
      "200/200 [==============================] - 48s 239ms/step - loss: 0.4470 - accuracy: 0.7841 - val_loss: 0.5098 - val_accuracy: 0.7506 - lr: 1.0000e-04\n",
      "100/100 [==============================] - 9s 85ms/step\n",
      "100/100 [==============================] - 9s 85ms/step\n"
     ]
    },
    {
     "name": "stderr",
     "output_type": "stream",
     "text": [
      "2024/10/10 19:35:21 WARNING mlflow.tensorflow: You are saving a TensorFlow Core model or Keras model without a signature. Inference with mlflow.pyfunc.spark_udf() will not work unless the model's pyfunc representation accepts pandas DataFrames as inference inputs.\n",
      "WARNING:absl:Found untraced functions such as _update_step_xla, lstm_cell_28_layer_call_fn, lstm_cell_28_layer_call_and_return_conditional_losses while saving (showing 3 of 3). These functions will not be directly callable after loading.\n"
     ]
    },
    {
     "name": "stdout",
     "output_type": "stream",
     "text": [
      "INFO:tensorflow:Assets written to: C:\\Users\\trist\\AppData\\Local\\Temp\\tmpsjusd6nb\\model\\data\\model\\assets\n"
     ]
    },
    {
     "name": "stderr",
     "output_type": "stream",
     "text": [
      "INFO:tensorflow:Assets written to: C:\\Users\\trist\\AppData\\Local\\Temp\\tmpsjusd6nb\\model\\data\\model\\assets\n",
      "2024/10/10 19:35:35 WARNING mlflow.models.model: Model logged without a signature and input example. Please set `input_example` parameter when logging the model to auto infer the model signature.\n"
     ]
    },
    {
     "name": "stdout",
     "output_type": "stream",
     "text": [
      "Epoch 1/20\n",
      "200/200 [==============================] - 170s 842ms/step - loss: 0.6587 - accuracy: 0.6400 - val_loss: 0.6627 - val_accuracy: 0.5606 - lr: 0.0010\n",
      "Epoch 2/20\n",
      "200/200 [==============================] - 167s 835ms/step - loss: 0.5690 - accuracy: 0.7070 - val_loss: 0.6668 - val_accuracy: 0.5444 - lr: 0.0010\n",
      "Epoch 3/20\n",
      "200/200 [==============================] - 167s 834ms/step - loss: 0.5459 - accuracy: 0.7271 - val_loss: 0.5399 - val_accuracy: 0.7359 - lr: 0.0010\n",
      "Epoch 4/20\n",
      "200/200 [==============================] - 167s 834ms/step - loss: 0.5328 - accuracy: 0.7380 - val_loss: 0.5624 - val_accuracy: 0.6884 - lr: 0.0010\n",
      "Epoch 5/20\n",
      "200/200 [==============================] - 167s 834ms/step - loss: 0.5184 - accuracy: 0.7470 - val_loss: 0.7009 - val_accuracy: 0.6478 - lr: 0.0010\n",
      "Epoch 6/20\n",
      "200/200 [==============================] - 167s 834ms/step - loss: 0.4927 - accuracy: 0.7570 - val_loss: 0.5103 - val_accuracy: 0.7466 - lr: 2.0000e-04\n",
      "Epoch 7/20\n",
      "200/200 [==============================] - 167s 834ms/step - loss: 0.4923 - accuracy: 0.7588 - val_loss: 0.5274 - val_accuracy: 0.7228 - lr: 2.0000e-04\n",
      "Epoch 8/20\n",
      "200/200 [==============================] - 167s 834ms/step - loss: 0.4852 - accuracy: 0.7640 - val_loss: 0.5098 - val_accuracy: 0.7431 - lr: 2.0000e-04\n",
      "Epoch 9/20\n",
      "200/200 [==============================] - 167s 834ms/step - loss: 0.4794 - accuracy: 0.7649 - val_loss: 0.6049 - val_accuracy: 0.6841 - lr: 2.0000e-04\n",
      "Epoch 10/20\n",
      "200/200 [==============================] - 167s 834ms/step - loss: 0.4795 - accuracy: 0.7645 - val_loss: 0.5311 - val_accuracy: 0.7253 - lr: 2.0000e-04\n",
      "Epoch 11/20\n",
      "200/200 [==============================] - 167s 836ms/step - loss: 0.4682 - accuracy: 0.7714 - val_loss: 0.5378 - val_accuracy: 0.7291 - lr: 1.0000e-04\n",
      "Epoch 12/20\n",
      "200/200 [==============================] - 167s 837ms/step - loss: 0.4687 - accuracy: 0.7702 - val_loss: 0.5111 - val_accuracy: 0.7497 - lr: 1.0000e-04\n",
      "100/100 [==============================] - 8s 75ms/step\n",
      "100/100 [==============================] - 8s 75ms/step\n"
     ]
    },
    {
     "name": "stderr",
     "output_type": "stream",
     "text": [
      "2024/10/10 20:09:17 WARNING mlflow.tensorflow: You are saving a TensorFlow Core model or Keras model without a signature. Inference with mlflow.pyfunc.spark_udf() will not work unless the model's pyfunc representation accepts pandas DataFrames as inference inputs.\n",
      "WARNING:absl:Found untraced functions such as _update_step_xla, lstm_cell_29_layer_call_fn, lstm_cell_29_layer_call_and_return_conditional_losses while saving (showing 3 of 3). These functions will not be directly callable after loading.\n"
     ]
    },
    {
     "name": "stdout",
     "output_type": "stream",
     "text": [
      "INFO:tensorflow:Assets written to: C:\\Users\\trist\\AppData\\Local\\Temp\\tmpjmbcb515\\model\\data\\model\\assets\n"
     ]
    },
    {
     "name": "stderr",
     "output_type": "stream",
     "text": [
      "INFO:tensorflow:Assets written to: C:\\Users\\trist\\AppData\\Local\\Temp\\tmpjmbcb515\\model\\data\\model\\assets\n",
      "2024/10/10 20:09:32 WARNING mlflow.models.model: Model logged without a signature and input example. Please set `input_example` parameter when logging the model to auto infer the model signature.\n"
     ]
    },
    {
     "name": "stdout",
     "output_type": "stream",
     "text": [
      "Epoch 1/20\n",
      "200/200 [==============================] - 352s 2s/step - loss: 0.6495 - accuracy: 0.6426 - val_loss: 0.6788 - val_accuracy: 0.5406 - lr: 0.0010\n",
      "Epoch 2/20\n",
      "200/200 [==============================] - 356s 2s/step - loss: 0.5616 - accuracy: 0.7141 - val_loss: 0.6040 - val_accuracy: 0.6897 - lr: 0.0010\n",
      "Epoch 3/20\n",
      "200/200 [==============================] - 348s 2s/step - loss: 0.5426 - accuracy: 0.7270 - val_loss: 0.5323 - val_accuracy: 0.7316 - lr: 0.0010\n",
      "Epoch 4/20\n",
      "200/200 [==============================] - 347s 2s/step - loss: 0.5232 - accuracy: 0.7382 - val_loss: 0.5686 - val_accuracy: 0.7069 - lr: 0.0010\n",
      "Epoch 5/20\n",
      "200/200 [==============================] - 360s 2s/step - loss: 0.5121 - accuracy: 0.7453 - val_loss: 0.6524 - val_accuracy: 0.6116 - lr: 0.0010\n",
      "Epoch 6/20\n",
      "200/200 [==============================] - 360s 2s/step - loss: 0.4898 - accuracy: 0.7616 - val_loss: 0.5111 - val_accuracy: 0.7400 - lr: 2.0000e-04\n",
      "Epoch 7/20\n",
      "200/200 [==============================] - 361s 2s/step - loss: 0.4781 - accuracy: 0.7650 - val_loss: 0.5254 - val_accuracy: 0.7384 - lr: 2.0000e-04\n",
      "Epoch 8/20\n",
      "200/200 [==============================] - 361s 2s/step - loss: 0.4723 - accuracy: 0.7666 - val_loss: 0.5086 - val_accuracy: 0.7481 - lr: 2.0000e-04\n",
      "Epoch 9/20\n",
      "200/200 [==============================] - 360s 2s/step - loss: 0.4690 - accuracy: 0.7731 - val_loss: 0.5116 - val_accuracy: 0.7422 - lr: 2.0000e-04\n",
      "Epoch 10/20\n",
      "200/200 [==============================] - 362s 2s/step - loss: 0.4628 - accuracy: 0.7735 - val_loss: 0.5193 - val_accuracy: 0.7447 - lr: 2.0000e-04\n",
      "Epoch 11/20\n",
      "200/200 [==============================] - 360s 2s/step - loss: 0.4524 - accuracy: 0.7773 - val_loss: 0.5410 - val_accuracy: 0.7306 - lr: 1.0000e-04\n",
      "Epoch 12/20\n",
      "200/200 [==============================] - 360s 2s/step - loss: 0.4483 - accuracy: 0.7777 - val_loss: 0.5627 - val_accuracy: 0.7200 - lr: 1.0000e-04\n",
      "100/100 [==============================] - 18s 174ms/step\n",
      "100/100 [==============================] - 17s 174ms/step\n"
     ]
    },
    {
     "name": "stderr",
     "output_type": "stream",
     "text": [
      "2024/10/10 21:21:33 WARNING mlflow.tensorflow: You are saving a TensorFlow Core model or Keras model without a signature. Inference with mlflow.pyfunc.spark_udf() will not work unless the model's pyfunc representation accepts pandas DataFrames as inference inputs.\n",
      "WARNING:absl:Found untraced functions such as _update_step_xla, lstm_cell_30_layer_call_fn, lstm_cell_30_layer_call_and_return_conditional_losses while saving (showing 3 of 3). These functions will not be directly callable after loading.\n"
     ]
    },
    {
     "name": "stdout",
     "output_type": "stream",
     "text": [
      "INFO:tensorflow:Assets written to: C:\\Users\\trist\\AppData\\Local\\Temp\\tmpt2mrid9w\\model\\data\\model\\assets\n"
     ]
    },
    {
     "name": "stderr",
     "output_type": "stream",
     "text": [
      "INFO:tensorflow:Assets written to: C:\\Users\\trist\\AppData\\Local\\Temp\\tmpt2mrid9w\\model\\data\\model\\assets\n",
      "2024/10/10 21:21:47 WARNING mlflow.models.model: Model logged without a signature and input example. Please set `input_example` parameter when logging the model to auto infer the model signature.\n"
     ]
    },
    {
     "name": "stdout",
     "output_type": "stream",
     "text": [
      "Epoch 1/20\n",
      "200/200 [==============================] - 52s 251ms/step - loss: 0.6114 - accuracy: 0.6639 - val_loss: 0.6410 - val_accuracy: 0.6569 - lr: 0.0010\n",
      "Epoch 2/20\n",
      "200/200 [==============================] - 50s 248ms/step - loss: 0.5374 - accuracy: 0.7284 - val_loss: 0.6062 - val_accuracy: 0.6528 - lr: 0.0010\n",
      "Epoch 3/20\n",
      "200/200 [==============================] - 50s 248ms/step - loss: 0.5128 - accuracy: 0.7458 - val_loss: 0.5299 - val_accuracy: 0.7241 - lr: 0.0010\n",
      "Epoch 4/20\n",
      "200/200 [==============================] - 50s 248ms/step - loss: 0.4905 - accuracy: 0.7585 - val_loss: 0.5126 - val_accuracy: 0.7375 - lr: 0.0010\n",
      "Epoch 5/20\n",
      "200/200 [==============================] - 50s 248ms/step - loss: 0.4737 - accuracy: 0.7684 - val_loss: 0.5668 - val_accuracy: 0.7256 - lr: 0.0010\n",
      "Epoch 6/20\n",
      "200/200 [==============================] - 50s 248ms/step - loss: 0.4578 - accuracy: 0.7793 - val_loss: 0.5372 - val_accuracy: 0.7166 - lr: 0.0010\n",
      "Epoch 7/20\n",
      "200/200 [==============================] - 50s 249ms/step - loss: 0.4142 - accuracy: 0.8102 - val_loss: 0.5197 - val_accuracy: 0.7506 - lr: 2.0000e-04\n",
      "Epoch 8/20\n",
      "200/200 [==============================] - 50s 249ms/step - loss: 0.4046 - accuracy: 0.8131 - val_loss: 0.5255 - val_accuracy: 0.7509 - lr: 2.0000e-04\n",
      "100/100 [==============================] - 9s 88ms/step\n",
      "100/100 [==============================] - 9s 88ms/step\n"
     ]
    },
    {
     "name": "stderr",
     "output_type": "stream",
     "text": [
      "2024/10/10 21:28:45 WARNING mlflow.tensorflow: You are saving a TensorFlow Core model or Keras model without a signature. Inference with mlflow.pyfunc.spark_udf() will not work unless the model's pyfunc representation accepts pandas DataFrames as inference inputs.\n",
      "WARNING:absl:Found untraced functions such as _update_step_xla, lstm_cell_31_layer_call_fn, lstm_cell_31_layer_call_and_return_conditional_losses while saving (showing 3 of 3). These functions will not be directly callable after loading.\n"
     ]
    },
    {
     "name": "stdout",
     "output_type": "stream",
     "text": [
      "INFO:tensorflow:Assets written to: C:\\Users\\trist\\AppData\\Local\\Temp\\tmp4cb4kyf1\\model\\data\\model\\assets\n"
     ]
    },
    {
     "name": "stderr",
     "output_type": "stream",
     "text": [
      "INFO:tensorflow:Assets written to: C:\\Users\\trist\\AppData\\Local\\Temp\\tmp4cb4kyf1\\model\\data\\model\\assets\n",
      "2024/10/10 21:28:59 WARNING mlflow.models.model: Model logged without a signature and input example. Please set `input_example` parameter when logging the model to auto infer the model signature.\n"
     ]
    },
    {
     "name": "stdout",
     "output_type": "stream",
     "text": [
      "Epoch 1/20\n",
      "200/200 [==============================] - 178s 884ms/step - loss: 0.6023 - accuracy: 0.6720 - val_loss: 0.6467 - val_accuracy: 0.6828 - lr: 0.0010\n",
      "Epoch 2/20\n",
      "200/200 [==============================] - 176s 881ms/step - loss: 0.5340 - accuracy: 0.7320 - val_loss: 0.6609 - val_accuracy: 0.6075 - lr: 0.0010\n",
      "Epoch 3/20\n",
      "200/200 [==============================] - 176s 881ms/step - loss: 0.5075 - accuracy: 0.7496 - val_loss: 0.5346 - val_accuracy: 0.7262 - lr: 0.0010\n",
      "Epoch 4/20\n",
      "200/200 [==============================] - 176s 882ms/step - loss: 0.4834 - accuracy: 0.7680 - val_loss: 0.6774 - val_accuracy: 0.6378 - lr: 0.0010\n",
      "Epoch 5/20\n",
      "200/200 [==============================] - 176s 881ms/step - loss: 0.4601 - accuracy: 0.7778 - val_loss: 0.5346 - val_accuracy: 0.7209 - lr: 0.0010\n",
      "Epoch 6/20\n",
      "200/200 [==============================] - 176s 882ms/step - loss: 0.4104 - accuracy: 0.8109 - val_loss: 0.5161 - val_accuracy: 0.7400 - lr: 2.0000e-04\n",
      "Epoch 7/20\n",
      "200/200 [==============================] - 177s 883ms/step - loss: 0.3914 - accuracy: 0.8194 - val_loss: 0.5240 - val_accuracy: 0.7456 - lr: 2.0000e-04\n",
      "Epoch 8/20\n",
      "200/200 [==============================] - 176s 882ms/step - loss: 0.3747 - accuracy: 0.8313 - val_loss: 0.5341 - val_accuracy: 0.7356 - lr: 2.0000e-04\n",
      "Epoch 9/20\n",
      "200/200 [==============================] - 176s 881ms/step - loss: 0.3595 - accuracy: 0.8397 - val_loss: 0.5352 - val_accuracy: 0.7350 - lr: 1.0000e-04\n",
      "Epoch 10/20\n",
      "200/200 [==============================] - 176s 882ms/step - loss: 0.3541 - accuracy: 0.8430 - val_loss: 0.5599 - val_accuracy: 0.7387 - lr: 1.0000e-04\n",
      "100/100 [==============================] - 8s 77ms/step\n",
      "100/100 [==============================] - 8s 77ms/step\n"
     ]
    },
    {
     "name": "stderr",
     "output_type": "stream",
     "text": [
      "2024/10/10 21:58:41 WARNING mlflow.tensorflow: You are saving a TensorFlow Core model or Keras model without a signature. Inference with mlflow.pyfunc.spark_udf() will not work unless the model's pyfunc representation accepts pandas DataFrames as inference inputs.\n",
      "WARNING:absl:Found untraced functions such as _update_step_xla, lstm_cell_32_layer_call_fn, lstm_cell_32_layer_call_and_return_conditional_losses while saving (showing 3 of 3). These functions will not be directly callable after loading.\n"
     ]
    },
    {
     "name": "stdout",
     "output_type": "stream",
     "text": [
      "INFO:tensorflow:Assets written to: C:\\Users\\trist\\AppData\\Local\\Temp\\tmps8rmi23p\\model\\data\\model\\assets\n"
     ]
    },
    {
     "name": "stderr",
     "output_type": "stream",
     "text": [
      "INFO:tensorflow:Assets written to: C:\\Users\\trist\\AppData\\Local\\Temp\\tmps8rmi23p\\model\\data\\model\\assets\n",
      "2024/10/10 21:58:56 WARNING mlflow.models.model: Model logged without a signature and input example. Please set `input_example` parameter when logging the model to auto infer the model signature.\n"
     ]
    },
    {
     "name": "stdout",
     "output_type": "stream",
     "text": [
      "Epoch 1/20\n",
      "200/200 [==============================] - 366s 2s/step - loss: 0.5945 - accuracy: 0.6887 - val_loss: 0.6609 - val_accuracy: 0.7038 - lr: 0.0010\n",
      "Epoch 2/20\n",
      "200/200 [==============================] - 367s 2s/step - loss: 0.5265 - accuracy: 0.7379 - val_loss: 0.5692 - val_accuracy: 0.7350 - lr: 0.0010\n",
      "Epoch 3/20\n",
      "200/200 [==============================] - 367s 2s/step - loss: 0.4947 - accuracy: 0.7587 - val_loss: 0.5256 - val_accuracy: 0.7297 - lr: 0.0010\n",
      "Epoch 4/20\n",
      "200/200 [==============================] - 377s 2s/step - loss: 0.4666 - accuracy: 0.7778 - val_loss: 0.5434 - val_accuracy: 0.7325 - lr: 0.0010\n",
      "Epoch 5/20\n",
      "200/200 [==============================] - 379s 2s/step - loss: 0.4383 - accuracy: 0.7898 - val_loss: 0.5923 - val_accuracy: 0.7031 - lr: 0.0010\n",
      "Epoch 6/20\n",
      "200/200 [==============================] - 378s 2s/step - loss: 0.3651 - accuracy: 0.8371 - val_loss: 0.5475 - val_accuracy: 0.7453 - lr: 2.0000e-04\n",
      "Epoch 7/20\n",
      "200/200 [==============================] - 379s 2s/step - loss: 0.3371 - accuracy: 0.8513 - val_loss: 0.5512 - val_accuracy: 0.7400 - lr: 2.0000e-04\n",
      "100/100 [==============================] - 18s 177ms/step\n",
      "100/100 [==============================] - 18s 177ms/step\n"
     ]
    },
    {
     "name": "stderr",
     "output_type": "stream",
     "text": [
      "2024/10/10 22:43:07 WARNING mlflow.tensorflow: You are saving a TensorFlow Core model or Keras model without a signature. Inference with mlflow.pyfunc.spark_udf() will not work unless the model's pyfunc representation accepts pandas DataFrames as inference inputs.\n",
      "WARNING:absl:Found untraced functions such as _update_step_xla, lstm_cell_33_layer_call_fn, lstm_cell_33_layer_call_and_return_conditional_losses while saving (showing 3 of 3). These functions will not be directly callable after loading.\n"
     ]
    },
    {
     "name": "stdout",
     "output_type": "stream",
     "text": [
      "INFO:tensorflow:Assets written to: C:\\Users\\trist\\AppData\\Local\\Temp\\tmpiqw8thmw\\model\\data\\model\\assets\n"
     ]
    },
    {
     "name": "stderr",
     "output_type": "stream",
     "text": [
      "INFO:tensorflow:Assets written to: C:\\Users\\trist\\AppData\\Local\\Temp\\tmpiqw8thmw\\model\\data\\model\\assets\n",
      "2024/10/10 22:43:21 WARNING mlflow.models.model: Model logged without a signature and input example. Please set `input_example` parameter when logging the model to auto infer the model signature.\n"
     ]
    },
    {
     "name": "stdout",
     "output_type": "stream",
     "text": [
      "Epoch 1/20\n",
      "200/200 [==============================] - 51s 246ms/step - loss: 0.6665 - accuracy: 0.6174 - val_loss: 0.6582 - val_accuracy: 0.6156 - lr: 0.0010\n",
      "Epoch 2/20\n",
      "200/200 [==============================] - 49s 243ms/step - loss: 0.5812 - accuracy: 0.6987 - val_loss: 0.5930 - val_accuracy: 0.7300 - lr: 0.0010\n",
      "Epoch 3/20\n",
      "200/200 [==============================] - 49s 243ms/step - loss: 0.5517 - accuracy: 0.7213 - val_loss: 0.5366 - val_accuracy: 0.7353 - lr: 0.0010\n",
      "Epoch 4/20\n",
      "200/200 [==============================] - 49s 243ms/step - loss: 0.5396 - accuracy: 0.7290 - val_loss: 0.5273 - val_accuracy: 0.7344 - lr: 0.0010\n",
      "Epoch 5/20\n",
      "200/200 [==============================] - 49s 243ms/step - loss: 0.5263 - accuracy: 0.7426 - val_loss: 0.5192 - val_accuracy: 0.7459 - lr: 0.0010\n",
      "Epoch 6/20\n",
      "200/200 [==============================] - 49s 244ms/step - loss: 0.5124 - accuracy: 0.7466 - val_loss: 0.5490 - val_accuracy: 0.7075 - lr: 0.0010\n",
      "Epoch 7/20\n",
      "200/200 [==============================] - 49s 244ms/step - loss: 0.5022 - accuracy: 0.7551 - val_loss: 0.5268 - val_accuracy: 0.7344 - lr: 0.0010\n",
      "Epoch 8/20\n",
      "200/200 [==============================] - 49s 243ms/step - loss: 0.4845 - accuracy: 0.7685 - val_loss: 0.5105 - val_accuracy: 0.7462 - lr: 2.0000e-04\n",
      "Epoch 9/20\n",
      "200/200 [==============================] - 49s 243ms/step - loss: 0.4791 - accuracy: 0.7681 - val_loss: 0.5070 - val_accuracy: 0.7472 - lr: 2.0000e-04\n",
      "Epoch 10/20\n",
      "200/200 [==============================] - 49s 243ms/step - loss: 0.4767 - accuracy: 0.7706 - val_loss: 0.5064 - val_accuracy: 0.7478 - lr: 2.0000e-04\n",
      "Epoch 11/20\n",
      "200/200 [==============================] - 49s 243ms/step - loss: 0.4687 - accuracy: 0.7726 - val_loss: 0.5098 - val_accuracy: 0.7491 - lr: 2.0000e-04\n",
      "Epoch 12/20\n",
      "200/200 [==============================] - 49s 243ms/step - loss: 0.4685 - accuracy: 0.7745 - val_loss: 0.5078 - val_accuracy: 0.7456 - lr: 2.0000e-04\n",
      "Epoch 13/20\n",
      "200/200 [==============================] - 49s 243ms/step - loss: 0.4642 - accuracy: 0.7788 - val_loss: 0.5097 - val_accuracy: 0.7506 - lr: 1.0000e-04\n",
      "Epoch 14/20\n",
      "200/200 [==============================] - 49s 243ms/step - loss: 0.4559 - accuracy: 0.7818 - val_loss: 0.5142 - val_accuracy: 0.7506 - lr: 1.0000e-04\n",
      "100/100 [==============================] - 9s 87ms/step\n",
      "100/100 [==============================] - 9s 87ms/step\n"
     ]
    },
    {
     "name": "stderr",
     "output_type": "stream",
     "text": [
      "2024/10/10 22:55:03 WARNING mlflow.tensorflow: You are saving a TensorFlow Core model or Keras model without a signature. Inference with mlflow.pyfunc.spark_udf() will not work unless the model's pyfunc representation accepts pandas DataFrames as inference inputs.\n",
      "WARNING:absl:Found untraced functions such as _update_step_xla, lstm_cell_34_layer_call_fn, lstm_cell_34_layer_call_and_return_conditional_losses while saving (showing 3 of 3). These functions will not be directly callable after loading.\n"
     ]
    },
    {
     "name": "stdout",
     "output_type": "stream",
     "text": [
      "INFO:tensorflow:Assets written to: C:\\Users\\trist\\AppData\\Local\\Temp\\tmp6hqsw40k\\model\\data\\model\\assets\n"
     ]
    },
    {
     "name": "stderr",
     "output_type": "stream",
     "text": [
      "INFO:tensorflow:Assets written to: C:\\Users\\trist\\AppData\\Local\\Temp\\tmp6hqsw40k\\model\\data\\model\\assets\n",
      "2024/10/10 22:55:17 WARNING mlflow.models.model: Model logged without a signature and input example. Please set `input_example` parameter when logging the model to auto infer the model signature.\n"
     ]
    },
    {
     "name": "stdout",
     "output_type": "stream",
     "text": [
      "Epoch 1/20\n",
      "200/200 [==============================] - 174s 862ms/step - loss: 0.6641 - accuracy: 0.6263 - val_loss: 0.6673 - val_accuracy: 0.7150 - lr: 0.0010\n",
      "Epoch 2/20\n",
      "200/200 [==============================] - 171s 857ms/step - loss: 0.5716 - accuracy: 0.6965 - val_loss: 0.6055 - val_accuracy: 0.6834 - lr: 0.0010\n",
      "Epoch 3/20\n",
      "200/200 [==============================] - 171s 857ms/step - loss: 0.5467 - accuracy: 0.7263 - val_loss: 0.5726 - val_accuracy: 0.6934 - lr: 0.0010\n",
      "Epoch 4/20\n",
      "200/200 [==============================] - 171s 856ms/step - loss: 0.5299 - accuracy: 0.7379 - val_loss: 0.5388 - val_accuracy: 0.7256 - lr: 0.0010\n",
      "Epoch 5/20\n",
      "200/200 [==============================] - 171s 857ms/step - loss: 0.5166 - accuracy: 0.7441 - val_loss: 0.5314 - val_accuracy: 0.7353 - lr: 0.0010\n",
      "Epoch 6/20\n",
      "200/200 [==============================] - 171s 856ms/step - loss: 0.5050 - accuracy: 0.7546 - val_loss: 0.5120 - val_accuracy: 0.7387 - lr: 0.0010\n",
      "Epoch 7/20\n",
      "200/200 [==============================] - 172s 859ms/step - loss: 0.4928 - accuracy: 0.7648 - val_loss: 0.5148 - val_accuracy: 0.7469 - lr: 0.0010\n",
      "Epoch 8/20\n",
      "200/200 [==============================] - 173s 866ms/step - loss: 0.4784 - accuracy: 0.7673 - val_loss: 0.5216 - val_accuracy: 0.7416 - lr: 0.0010\n",
      "Epoch 9/20\n",
      "200/200 [==============================] - 173s 863ms/step - loss: 0.4551 - accuracy: 0.7803 - val_loss: 0.5093 - val_accuracy: 0.7494 - lr: 2.0000e-04\n",
      "Epoch 10/20\n",
      "200/200 [==============================] - 172s 861ms/step - loss: 0.4469 - accuracy: 0.7862 - val_loss: 0.5078 - val_accuracy: 0.7419 - lr: 2.0000e-04\n",
      "Epoch 11/20\n",
      "200/200 [==============================] - 172s 862ms/step - loss: 0.4395 - accuracy: 0.7905 - val_loss: 0.5073 - val_accuracy: 0.7491 - lr: 2.0000e-04\n",
      "Epoch 12/20\n",
      "200/200 [==============================] - 172s 861ms/step - loss: 0.4288 - accuracy: 0.7995 - val_loss: 0.5171 - val_accuracy: 0.7503 - lr: 2.0000e-04\n",
      "Epoch 13/20\n",
      "200/200 [==============================] - 172s 862ms/step - loss: 0.4283 - accuracy: 0.7958 - val_loss: 0.5103 - val_accuracy: 0.7528 - lr: 2.0000e-04\n",
      "Epoch 14/20\n",
      "200/200 [==============================] - 173s 863ms/step - loss: 0.4224 - accuracy: 0.8010 - val_loss: 0.5186 - val_accuracy: 0.7403 - lr: 1.0000e-04\n",
      "Epoch 15/20\n",
      "200/200 [==============================] - 172s 862ms/step - loss: 0.4196 - accuracy: 0.8032 - val_loss: 0.5106 - val_accuracy: 0.7497 - lr: 1.0000e-04\n",
      "100/100 [==============================] - 8s 77ms/step\n",
      "100/100 [==============================] - 8s 77ms/step\n"
     ]
    },
    {
     "name": "stderr",
     "output_type": "stream",
     "text": [
      "2024/10/10 23:38:36 WARNING mlflow.tensorflow: You are saving a TensorFlow Core model or Keras model without a signature. Inference with mlflow.pyfunc.spark_udf() will not work unless the model's pyfunc representation accepts pandas DataFrames as inference inputs.\n",
      "WARNING:absl:Found untraced functions such as _update_step_xla, lstm_cell_35_layer_call_fn, lstm_cell_35_layer_call_and_return_conditional_losses while saving (showing 3 of 3). These functions will not be directly callable after loading.\n"
     ]
    },
    {
     "name": "stdout",
     "output_type": "stream",
     "text": [
      "INFO:tensorflow:Assets written to: C:\\Users\\trist\\AppData\\Local\\Temp\\tmped5bfkge\\model\\data\\model\\assets\n"
     ]
    },
    {
     "name": "stderr",
     "output_type": "stream",
     "text": [
      "INFO:tensorflow:Assets written to: C:\\Users\\trist\\AppData\\Local\\Temp\\tmped5bfkge\\model\\data\\model\\assets\n",
      "2024/10/10 23:38:50 WARNING mlflow.models.model: Model logged without a signature and input example. Please set `input_example` parameter when logging the model to auto infer the model signature.\n"
     ]
    },
    {
     "name": "stdout",
     "output_type": "stream",
     "text": [
      "Epoch 1/20\n",
      "200/200 [==============================] - 368s 2s/step - loss: 0.6277 - accuracy: 0.6546 - val_loss: 0.6601 - val_accuracy: 0.7216 - lr: 0.0010\n",
      "Epoch 2/20\n",
      "200/200 [==============================] - 374s 2s/step - loss: 0.5633 - accuracy: 0.7109 - val_loss: 0.6031 - val_accuracy: 0.7262 - lr: 0.0010\n",
      "Epoch 3/20\n",
      "200/200 [==============================] - 375s 2s/step - loss: 0.5416 - accuracy: 0.7289 - val_loss: 0.5844 - val_accuracy: 0.6722 - lr: 0.0010\n",
      "Epoch 4/20\n",
      "200/200 [==============================] - 374s 2s/step - loss: 0.5187 - accuracy: 0.7377 - val_loss: 0.5134 - val_accuracy: 0.7434 - lr: 0.0010\n",
      "Epoch 5/20\n",
      "200/200 [==============================] - 376s 2s/step - loss: 0.5052 - accuracy: 0.7532 - val_loss: 0.6013 - val_accuracy: 0.6703 - lr: 0.0010\n",
      "Epoch 6/20\n",
      "200/200 [==============================] - 373s 2s/step - loss: 0.4911 - accuracy: 0.7602 - val_loss: 0.5359 - val_accuracy: 0.7219 - lr: 0.0010\n",
      "Epoch 7/20\n",
      "200/200 [==============================] - 373s 2s/step - loss: 0.4592 - accuracy: 0.7804 - val_loss: 0.5075 - val_accuracy: 0.7425 - lr: 2.0000e-04\n",
      "Epoch 8/20\n",
      "200/200 [==============================] - 375s 2s/step - loss: 0.4536 - accuracy: 0.7839 - val_loss: 0.5035 - val_accuracy: 0.7481 - lr: 2.0000e-04\n",
      "Epoch 9/20\n",
      "200/200 [==============================] - 374s 2s/step - loss: 0.4384 - accuracy: 0.7910 - val_loss: 0.5215 - val_accuracy: 0.7428 - lr: 2.0000e-04\n",
      "Epoch 10/20\n",
      "200/200 [==============================] - 370s 2s/step - loss: 0.4324 - accuracy: 0.7937 - val_loss: 0.5390 - val_accuracy: 0.7475 - lr: 2.0000e-04\n",
      "Epoch 11/20\n",
      "200/200 [==============================] - 374s 2s/step - loss: 0.4191 - accuracy: 0.7991 - val_loss: 0.5135 - val_accuracy: 0.7434 - lr: 1.0000e-04\n",
      "Epoch 12/20\n",
      "200/200 [==============================] - 374s 2s/step - loss: 0.4156 - accuracy: 0.8063 - val_loss: 0.5119 - val_accuracy: 0.7437 - lr: 1.0000e-04\n",
      "100/100 [==============================] - 18s 174ms/step\n",
      "100/100 [==============================] - 17s 174ms/step\n"
     ]
    },
    {
     "name": "stderr",
     "output_type": "stream",
     "text": [
      "2024/10/11 00:54:06 WARNING mlflow.tensorflow: You are saving a TensorFlow Core model or Keras model without a signature. Inference with mlflow.pyfunc.spark_udf() will not work unless the model's pyfunc representation accepts pandas DataFrames as inference inputs.\n",
      "WARNING:absl:Found untraced functions such as _update_step_xla, lstm_cell_36_layer_call_fn, lstm_cell_36_layer_call_and_return_conditional_losses while saving (showing 3 of 3). These functions will not be directly callable after loading.\n"
     ]
    },
    {
     "name": "stdout",
     "output_type": "stream",
     "text": [
      "INFO:tensorflow:Assets written to: C:\\Users\\trist\\AppData\\Local\\Temp\\tmpfky01xa5\\model\\data\\model\\assets\n"
     ]
    },
    {
     "name": "stderr",
     "output_type": "stream",
     "text": [
      "INFO:tensorflow:Assets written to: C:\\Users\\trist\\AppData\\Local\\Temp\\tmpfky01xa5\\model\\data\\model\\assets\n",
      "2024/10/11 00:54:24 WARNING mlflow.models.model: Model logged without a signature and input example. Please set `input_example` parameter when logging the model to auto infer the model signature.\n"
     ]
    },
    {
     "name": "stdout",
     "output_type": "stream",
     "text": [
      "Meilleurs paramètres : {'activation_type': 'relu', 'dropout_rate': 0.5, 'lstm_units': 128} avec une accuracy de 0.7516\n"
     ]
    }
   ],
   "source": [
    "# Entraîner avec Word2Vec + Stemming\n",
    "best_lstm_model_stem_w2v, best_params_stem_w2v = train_and_log_lstm(\n",
    "    X_train_stem_w2v, y_train_stem_w2v, X_test_stem_w2v, y_test_stem_w2v,\n",
    "    experiment_name=\"LSTM_Word2Vec_Stemming\", param_grid=param_grid_lstm, input_shape=input_shape\n",
    ")"
   ]
  },
  {
   "cell_type": "code",
   "execution_count": 30,
   "id": "ee2ff61f-8e26-438a-bd0d-067c8d27955d",
   "metadata": {
    "scrolled": true
   },
   "outputs": [
    {
     "name": "stderr",
     "output_type": "stream",
     "text": [
      "WARNING:root:Malformed experiment 'matrice'. Detailed error Yaml file 'D:\\Master_Openclassroom\\Github\\projet7-op\\notebooks\\modèle_avancé\\mlruns\\matrice\\meta.yaml' does not exist.\n",
      "Traceback (most recent call last):\n",
      "  File \"D:\\Master_Openclassroom\\python\\Lib\\site-packages\\mlflow\\store\\tracking\\file_store.py\", line 327, in search_experiments\n",
      "    exp = self._get_experiment(exp_id, view_type)\n",
      "          ^^^^^^^^^^^^^^^^^^^^^^^^^^^^^^^^^^^^^^^\n",
      "  File \"D:\\Master_Openclassroom\\python\\Lib\\site-packages\\mlflow\\store\\tracking\\file_store.py\", line 421, in _get_experiment\n",
      "    meta = FileStore._read_yaml(experiment_dir, FileStore.META_DATA_FILE_NAME)\n",
      "           ^^^^^^^^^^^^^^^^^^^^^^^^^^^^^^^^^^^^^^^^^^^^^^^^^^^^^^^^^^^^^^^^^^^\n",
      "  File \"D:\\Master_Openclassroom\\python\\Lib\\site-packages\\mlflow\\store\\tracking\\file_store.py\", line 1367, in _read_yaml\n",
      "    return _read_helper(root, file_name, attempts_remaining=retries)\n",
      "           ^^^^^^^^^^^^^^^^^^^^^^^^^^^^^^^^^^^^^^^^^^^^^^^^^^^^^^^^^\n",
      "  File \"D:\\Master_Openclassroom\\python\\Lib\\site-packages\\mlflow\\store\\tracking\\file_store.py\", line 1360, in _read_helper\n",
      "    result = read_yaml(root, file_name)\n",
      "             ^^^^^^^^^^^^^^^^^^^^^^^^^^\n",
      "  File \"D:\\Master_Openclassroom\\python\\Lib\\site-packages\\mlflow\\utils\\file_utils.py\", line 309, in read_yaml\n",
      "    raise MissingConfigException(f\"Yaml file '{file_path}' does not exist.\")\n",
      "mlflow.exceptions.MissingConfigException: Yaml file 'D:\\Master_Openclassroom\\Github\\projet7-op\\notebooks\\modèle_avancé\\mlruns\\matrice\\meta.yaml' does not exist.\n"
     ]
    },
    {
     "name": "stdout",
     "output_type": "stream",
     "text": [
      "Epoch 1/20\n",
      "200/200 [==============================] - 61s 295ms/step - loss: 0.6030 - accuracy: 0.6716 - val_loss: 0.6600 - val_accuracy: 0.5981 - lr: 0.0010\n",
      "Epoch 2/20\n",
      "200/200 [==============================] - 58s 289ms/step - loss: 0.5400 - accuracy: 0.7295 - val_loss: 0.5958 - val_accuracy: 0.7412 - lr: 0.0010\n",
      "Epoch 3/20\n",
      "200/200 [==============================] - 58s 289ms/step - loss: 0.5212 - accuracy: 0.7431 - val_loss: 0.5290 - val_accuracy: 0.7397 - lr: 0.0010\n",
      "Epoch 4/20\n",
      "200/200 [==============================] - 58s 290ms/step - loss: 0.5068 - accuracy: 0.7502 - val_loss: 0.5204 - val_accuracy: 0.7425 - lr: 0.0010\n",
      "Epoch 5/20\n",
      "200/200 [==============================] - 58s 290ms/step - loss: 0.4890 - accuracy: 0.7645 - val_loss: 0.5177 - val_accuracy: 0.7372 - lr: 0.0010\n",
      "Epoch 6/20\n",
      "200/200 [==============================] - 58s 290ms/step - loss: 0.4777 - accuracy: 0.7736 - val_loss: 0.5286 - val_accuracy: 0.7353 - lr: 0.0010\n",
      "Epoch 7/20\n",
      "200/200 [==============================] - 58s 290ms/step - loss: 0.4637 - accuracy: 0.7839 - val_loss: 0.5631 - val_accuracy: 0.7300 - lr: 0.0010\n",
      "Epoch 8/20\n",
      "200/200 [==============================] - 58s 290ms/step - loss: 0.4229 - accuracy: 0.8037 - val_loss: 0.5408 - val_accuracy: 0.7447 - lr: 2.0000e-04\n",
      "Epoch 9/20\n",
      "200/200 [==============================] - 58s 290ms/step - loss: 0.4080 - accuracy: 0.8134 - val_loss: 0.5244 - val_accuracy: 0.7409 - lr: 2.0000e-04\n",
      "100/100 [==============================] - 11s 103ms/step\n",
      "100/100 [==============================] - 10s 102ms/step\n"
     ]
    },
    {
     "name": "stderr",
     "output_type": "stream",
     "text": [
      "2024/10/11 01:03:32 WARNING mlflow.tensorflow: You are saving a TensorFlow Core model or Keras model without a signature. Inference with mlflow.pyfunc.spark_udf() will not work unless the model's pyfunc representation accepts pandas DataFrames as inference inputs.\n",
      "WARNING:absl:Found untraced functions such as _update_step_xla, lstm_cell_37_layer_call_fn, lstm_cell_37_layer_call_and_return_conditional_losses while saving (showing 3 of 3). These functions will not be directly callable after loading.\n"
     ]
    },
    {
     "name": "stdout",
     "output_type": "stream",
     "text": [
      "INFO:tensorflow:Assets written to: C:\\Users\\trist\\AppData\\Local\\Temp\\tmpo_61fgui\\model\\data\\model\\assets\n"
     ]
    },
    {
     "name": "stderr",
     "output_type": "stream",
     "text": [
      "INFO:tensorflow:Assets written to: C:\\Users\\trist\\AppData\\Local\\Temp\\tmpo_61fgui\\model\\data\\model\\assets\n",
      "2024/10/11 01:03:47 WARNING mlflow.models.model: Model logged without a signature and input example. Please set `input_example` parameter when logging the model to auto infer the model signature.\n"
     ]
    },
    {
     "name": "stdout",
     "output_type": "stream",
     "text": [
      "Epoch 1/20\n",
      "200/200 [==============================] - 190s 941ms/step - loss: 0.5972 - accuracy: 0.6778 - val_loss: 0.6580 - val_accuracy: 0.7156 - lr: 0.0010\n",
      "Epoch 2/20\n",
      "200/200 [==============================] - 188s 942ms/step - loss: 0.5430 - accuracy: 0.7325 - val_loss: 0.6145 - val_accuracy: 0.6744 - lr: 0.0010\n",
      "Epoch 3/20\n",
      "200/200 [==============================] - 188s 940ms/step - loss: 0.5229 - accuracy: 0.7391 - val_loss: 0.5777 - val_accuracy: 0.6950 - lr: 0.0010\n",
      "Epoch 4/20\n",
      "200/200 [==============================] - 188s 941ms/step - loss: 0.5071 - accuracy: 0.7556 - val_loss: 0.6055 - val_accuracy: 0.6609 - lr: 0.0010\n",
      "Epoch 5/20\n",
      "200/200 [==============================] - 188s 940ms/step - loss: 0.4914 - accuracy: 0.7641 - val_loss: 0.5862 - val_accuracy: 0.7063 - lr: 0.0010\n",
      "Epoch 6/20\n",
      "200/200 [==============================] - 188s 942ms/step - loss: 0.4495 - accuracy: 0.7866 - val_loss: 0.6124 - val_accuracy: 0.7066 - lr: 2.0000e-04\n",
      "Epoch 7/20\n",
      "200/200 [==============================] - 189s 943ms/step - loss: 0.4349 - accuracy: 0.7919 - val_loss: 0.5371 - val_accuracy: 0.7434 - lr: 2.0000e-04\n",
      "Epoch 8/20\n",
      "200/200 [==============================] - 188s 938ms/step - loss: 0.4232 - accuracy: 0.8004 - val_loss: 0.5357 - val_accuracy: 0.7494 - lr: 2.0000e-04\n",
      "Epoch 9/20\n",
      "200/200 [==============================] - 189s 943ms/step - loss: 0.4153 - accuracy: 0.8038 - val_loss: 0.5356 - val_accuracy: 0.7347 - lr: 2.0000e-04\n",
      "Epoch 10/20\n",
      "200/200 [==============================] - 188s 943ms/step - loss: 0.4058 - accuracy: 0.8134 - val_loss: 0.5297 - val_accuracy: 0.7409 - lr: 2.0000e-04\n",
      "Epoch 11/20\n",
      "200/200 [==============================] - 188s 942ms/step - loss: 0.3971 - accuracy: 0.8161 - val_loss: 0.5439 - val_accuracy: 0.7431 - lr: 2.0000e-04\n",
      "Epoch 12/20\n",
      "200/200 [==============================] - 188s 942ms/step - loss: 0.3898 - accuracy: 0.8205 - val_loss: 0.5730 - val_accuracy: 0.7391 - lr: 2.0000e-04\n",
      "Epoch 13/20\n",
      "200/200 [==============================] - 188s 942ms/step - loss: 0.3758 - accuracy: 0.8273 - val_loss: 0.5609 - val_accuracy: 0.7428 - lr: 1.0000e-04\n",
      "Epoch 14/20\n",
      "200/200 [==============================] - 188s 938ms/step - loss: 0.3692 - accuracy: 0.8339 - val_loss: 0.5682 - val_accuracy: 0.7391 - lr: 1.0000e-04\n",
      "100/100 [==============================] - 9s 85ms/step\n",
      "100/100 [==============================] - 8s 85ms/step\n"
     ]
    },
    {
     "name": "stderr",
     "output_type": "stream",
     "text": [
      "2024/10/11 01:48:01 WARNING mlflow.tensorflow: You are saving a TensorFlow Core model or Keras model without a signature. Inference with mlflow.pyfunc.spark_udf() will not work unless the model's pyfunc representation accepts pandas DataFrames as inference inputs.\n",
      "WARNING:absl:Found untraced functions such as _update_step_xla, lstm_cell_38_layer_call_fn, lstm_cell_38_layer_call_and_return_conditional_losses while saving (showing 3 of 3). These functions will not be directly callable after loading.\n"
     ]
    },
    {
     "name": "stdout",
     "output_type": "stream",
     "text": [
      "INFO:tensorflow:Assets written to: C:\\Users\\trist\\AppData\\Local\\Temp\\tmpmzpylvdv\\model\\data\\model\\assets\n"
     ]
    },
    {
     "name": "stderr",
     "output_type": "stream",
     "text": [
      "INFO:tensorflow:Assets written to: C:\\Users\\trist\\AppData\\Local\\Temp\\tmpmzpylvdv\\model\\data\\model\\assets\n",
      "2024/10/11 01:48:16 WARNING mlflow.models.model: Model logged without a signature and input example. Please set `input_example` parameter when logging the model to auto infer the model signature.\n"
     ]
    },
    {
     "name": "stdout",
     "output_type": "stream",
     "text": [
      "Epoch 1/20\n",
      "200/200 [==============================] - 413s 2s/step - loss: 0.5997 - accuracy: 0.6829 - val_loss: 0.6650 - val_accuracy: 0.6500 - lr: 0.0010\n",
      "Epoch 2/20\n",
      "200/200 [==============================] - 410s 2s/step - loss: 0.5473 - accuracy: 0.7270 - val_loss: 0.6060 - val_accuracy: 0.7003 - lr: 0.0010\n",
      "Epoch 3/20\n",
      "200/200 [==============================] - 411s 2s/step - loss: 0.5234 - accuracy: 0.7402 - val_loss: 0.6424 - val_accuracy: 0.5894 - lr: 0.0010\n",
      "Epoch 4/20\n",
      "200/200 [==============================] - 411s 2s/step - loss: 0.5097 - accuracy: 0.7500 - val_loss: 0.5873 - val_accuracy: 0.6812 - lr: 0.0010\n",
      "Epoch 5/20\n",
      "200/200 [==============================] - 411s 2s/step - loss: 0.4934 - accuracy: 0.7583 - val_loss: 0.5882 - val_accuracy: 0.7047 - lr: 0.0010\n",
      "Epoch 6/20\n",
      "200/200 [==============================] - 413s 2s/step - loss: 0.4813 - accuracy: 0.7698 - val_loss: 0.6361 - val_accuracy: 0.6844 - lr: 0.0010\n",
      "Epoch 7/20\n",
      "200/200 [==============================] - 410s 2s/step - loss: 0.4341 - accuracy: 0.7989 - val_loss: 0.5194 - val_accuracy: 0.7500 - lr: 2.0000e-04\n",
      "Epoch 8/20\n",
      "200/200 [==============================] - 411s 2s/step - loss: 0.4112 - accuracy: 0.8052 - val_loss: 0.5308 - val_accuracy: 0.7416 - lr: 2.0000e-04\n",
      "Epoch 9/20\n",
      "200/200 [==============================] - 411s 2s/step - loss: 0.4030 - accuracy: 0.8134 - val_loss: 0.5508 - val_accuracy: 0.7275 - lr: 2.0000e-04\n",
      "Epoch 10/20\n",
      "200/200 [==============================] - 411s 2s/step - loss: 0.3826 - accuracy: 0.8252 - val_loss: 0.5490 - val_accuracy: 0.7428 - lr: 1.0000e-04\n",
      "Epoch 11/20\n",
      "200/200 [==============================] - 411s 2s/step - loss: 0.3768 - accuracy: 0.8290 - val_loss: 0.5502 - val_accuracy: 0.7387 - lr: 1.0000e-04\n",
      "100/100 [==============================] - 19s 187ms/step\n",
      "100/100 [==============================] - 19s 186ms/step\n"
     ]
    },
    {
     "name": "stderr",
     "output_type": "stream",
     "text": [
      "2024/10/11 03:04:16 WARNING mlflow.tensorflow: You are saving a TensorFlow Core model or Keras model without a signature. Inference with mlflow.pyfunc.spark_udf() will not work unless the model's pyfunc representation accepts pandas DataFrames as inference inputs.\n",
      "WARNING:absl:Found untraced functions such as _update_step_xla, lstm_cell_39_layer_call_fn, lstm_cell_39_layer_call_and_return_conditional_losses while saving (showing 3 of 3). These functions will not be directly callable after loading.\n"
     ]
    },
    {
     "name": "stdout",
     "output_type": "stream",
     "text": [
      "INFO:tensorflow:Assets written to: C:\\Users\\trist\\AppData\\Local\\Temp\\tmpwwh8czyw\\model\\data\\model\\assets\n"
     ]
    },
    {
     "name": "stderr",
     "output_type": "stream",
     "text": [
      "INFO:tensorflow:Assets written to: C:\\Users\\trist\\AppData\\Local\\Temp\\tmpwwh8czyw\\model\\data\\model\\assets\n",
      "2024/10/11 03:04:31 WARNING mlflow.models.model: Model logged without a signature and input example. Please set `input_example` parameter when logging the model to auto infer the model signature.\n"
     ]
    },
    {
     "name": "stdout",
     "output_type": "stream",
     "text": [
      "Epoch 1/20\n",
      "200/200 [==============================] - 63s 306ms/step - loss: 0.6482 - accuracy: 0.6345 - val_loss: 0.6713 - val_accuracy: 0.7053 - lr: 0.0010\n",
      "Epoch 2/20\n",
      "200/200 [==============================] - 61s 303ms/step - loss: 0.5663 - accuracy: 0.7167 - val_loss: 0.6097 - val_accuracy: 0.7231 - lr: 0.0010\n",
      "Epoch 3/20\n",
      "200/200 [==============================] - 61s 303ms/step - loss: 0.5493 - accuracy: 0.7290 - val_loss: 0.6503 - val_accuracy: 0.6119 - lr: 0.0010\n",
      "Epoch 4/20\n",
      "200/200 [==============================] - 61s 303ms/step - loss: 0.5373 - accuracy: 0.7340 - val_loss: 0.5762 - val_accuracy: 0.6828 - lr: 0.0010\n",
      "Epoch 5/20\n",
      "200/200 [==============================] - 61s 303ms/step - loss: 0.5233 - accuracy: 0.7425 - val_loss: 0.5306 - val_accuracy: 0.7459 - lr: 0.0010\n",
      "Epoch 6/20\n",
      "200/200 [==============================] - 61s 303ms/step - loss: 0.5152 - accuracy: 0.7491 - val_loss: 0.5283 - val_accuracy: 0.7434 - lr: 0.0010\n",
      "Epoch 7/20\n",
      "200/200 [==============================] - 61s 303ms/step - loss: 0.5050 - accuracy: 0.7565 - val_loss: 0.6050 - val_accuracy: 0.7094 - lr: 0.0010\n",
      "Epoch 8/20\n",
      "200/200 [==============================] - 61s 303ms/step - loss: 0.4952 - accuracy: 0.7595 - val_loss: 0.6465 - val_accuracy: 0.6844 - lr: 0.0010\n",
      "Epoch 9/20\n",
      "200/200 [==============================] - 60s 302ms/step - loss: 0.4720 - accuracy: 0.7746 - val_loss: 0.5603 - val_accuracy: 0.7300 - lr: 2.0000e-04\n",
      "Epoch 10/20\n",
      "200/200 [==============================] - 60s 303ms/step - loss: 0.4684 - accuracy: 0.7767 - val_loss: 0.5096 - val_accuracy: 0.7462 - lr: 2.0000e-04\n",
      "Epoch 11/20\n",
      "200/200 [==============================] - 60s 302ms/step - loss: 0.4599 - accuracy: 0.7789 - val_loss: 0.5223 - val_accuracy: 0.7409 - lr: 2.0000e-04\n",
      "Epoch 12/20\n",
      "200/200 [==============================] - 60s 302ms/step - loss: 0.4597 - accuracy: 0.7811 - val_loss: 0.5155 - val_accuracy: 0.7428 - lr: 2.0000e-04\n",
      "Epoch 13/20\n",
      "200/200 [==============================] - 60s 302ms/step - loss: 0.4493 - accuracy: 0.7819 - val_loss: 0.5203 - val_accuracy: 0.7553 - lr: 1.0000e-04\n",
      "Epoch 14/20\n",
      "200/200 [==============================] - 61s 303ms/step - loss: 0.4486 - accuracy: 0.7886 - val_loss: 0.5164 - val_accuracy: 0.7497 - lr: 1.0000e-04\n",
      "100/100 [==============================] - 11s 107ms/step\n",
      "100/100 [==============================] - 11s 107ms/step\n"
     ]
    },
    {
     "name": "stderr",
     "output_type": "stream",
     "text": [
      "2024/10/11 03:19:04 WARNING mlflow.tensorflow: You are saving a TensorFlow Core model or Keras model without a signature. Inference with mlflow.pyfunc.spark_udf() will not work unless the model's pyfunc representation accepts pandas DataFrames as inference inputs.\n",
      "WARNING:absl:Found untraced functions such as _update_step_xla, lstm_cell_40_layer_call_fn, lstm_cell_40_layer_call_and_return_conditional_losses while saving (showing 3 of 3). These functions will not be directly callable after loading.\n"
     ]
    },
    {
     "name": "stdout",
     "output_type": "stream",
     "text": [
      "INFO:tensorflow:Assets written to: C:\\Users\\trist\\AppData\\Local\\Temp\\tmprwoyvubs\\model\\data\\model\\assets\n"
     ]
    },
    {
     "name": "stderr",
     "output_type": "stream",
     "text": [
      "INFO:tensorflow:Assets written to: C:\\Users\\trist\\AppData\\Local\\Temp\\tmprwoyvubs\\model\\data\\model\\assets\n",
      "2024/10/11 03:19:19 WARNING mlflow.models.model: Model logged without a signature and input example. Please set `input_example` parameter when logging the model to auto infer the model signature.\n"
     ]
    },
    {
     "name": "stdout",
     "output_type": "stream",
     "text": [
      "Epoch 1/20\n",
      "200/200 [==============================] - 191s 948ms/step - loss: 0.6514 - accuracy: 0.6320 - val_loss: 0.6712 - val_accuracy: 0.6009 - lr: 0.0010\n",
      "Epoch 2/20\n",
      "200/200 [==============================] - 188s 941ms/step - loss: 0.5666 - accuracy: 0.7141 - val_loss: 0.6343 - val_accuracy: 0.7203 - lr: 0.0010\n",
      "Epoch 3/20\n",
      "200/200 [==============================] - 188s 940ms/step - loss: 0.5529 - accuracy: 0.7287 - val_loss: 0.5876 - val_accuracy: 0.7269 - lr: 0.0010\n",
      "Epoch 4/20\n",
      "200/200 [==============================] - 188s 942ms/step - loss: 0.5403 - accuracy: 0.7341 - val_loss: 0.5447 - val_accuracy: 0.7197 - lr: 0.0010\n",
      "Epoch 5/20\n",
      "200/200 [==============================] - 188s 939ms/step - loss: 0.5253 - accuracy: 0.7413 - val_loss: 0.5568 - val_accuracy: 0.7234 - lr: 0.0010\n",
      "Epoch 6/20\n",
      "200/200 [==============================] - 186s 932ms/step - loss: 0.5167 - accuracy: 0.7459 - val_loss: 0.5338 - val_accuracy: 0.7387 - lr: 0.0010\n",
      "Epoch 7/20\n",
      "200/200 [==============================] - 186s 933ms/step - loss: 0.5060 - accuracy: 0.7530 - val_loss: 0.8404 - val_accuracy: 0.6041 - lr: 0.0010\n",
      "Epoch 8/20\n",
      "200/200 [==============================] - 186s 931ms/step - loss: 0.5059 - accuracy: 0.7546 - val_loss: 0.5470 - val_accuracy: 0.7206 - lr: 0.0010\n",
      "Epoch 9/20\n",
      "200/200 [==============================] - 186s 930ms/step - loss: 0.4682 - accuracy: 0.7761 - val_loss: 0.5111 - val_accuracy: 0.7491 - lr: 2.0000e-04\n",
      "Epoch 10/20\n",
      "200/200 [==============================] - 186s 932ms/step - loss: 0.4655 - accuracy: 0.7749 - val_loss: 0.5289 - val_accuracy: 0.7447 - lr: 2.0000e-04\n",
      "Epoch 11/20\n",
      "200/200 [==============================] - 186s 932ms/step - loss: 0.4645 - accuracy: 0.7791 - val_loss: 0.5147 - val_accuracy: 0.7503 - lr: 2.0000e-04\n",
      "Epoch 12/20\n",
      "200/200 [==============================] - 186s 932ms/step - loss: 0.4524 - accuracy: 0.7868 - val_loss: 0.5209 - val_accuracy: 0.7428 - lr: 1.0000e-04\n",
      "Epoch 13/20\n",
      "200/200 [==============================] - 186s 932ms/step - loss: 0.4492 - accuracy: 0.7847 - val_loss: 0.5285 - val_accuracy: 0.7344 - lr: 1.0000e-04\n",
      "100/100 [==============================] - 9s 91ms/step\n",
      "100/100 [==============================] - 9s 91ms/step\n"
     ]
    },
    {
     "name": "stderr",
     "output_type": "stream",
     "text": [
      "2024/10/11 04:00:12 WARNING mlflow.tensorflow: You are saving a TensorFlow Core model or Keras model without a signature. Inference with mlflow.pyfunc.spark_udf() will not work unless the model's pyfunc representation accepts pandas DataFrames as inference inputs.\n",
      "WARNING:absl:Found untraced functions such as _update_step_xla, lstm_cell_41_layer_call_fn, lstm_cell_41_layer_call_and_return_conditional_losses while saving (showing 3 of 3). These functions will not be directly callable after loading.\n"
     ]
    },
    {
     "name": "stdout",
     "output_type": "stream",
     "text": [
      "INFO:tensorflow:Assets written to: C:\\Users\\trist\\AppData\\Local\\Temp\\tmpoylkkrhi\\model\\data\\model\\assets\n"
     ]
    },
    {
     "name": "stderr",
     "output_type": "stream",
     "text": [
      "INFO:tensorflow:Assets written to: C:\\Users\\trist\\AppData\\Local\\Temp\\tmpoylkkrhi\\model\\data\\model\\assets\n",
      "2024/10/11 04:00:26 WARNING mlflow.models.model: Model logged without a signature and input example. Please set `input_example` parameter when logging the model to auto infer the model signature.\n"
     ]
    },
    {
     "name": "stdout",
     "output_type": "stream",
     "text": [
      "Epoch 1/20\n",
      "200/200 [==============================] - 429s 2s/step - loss: 0.6377 - accuracy: 0.6550 - val_loss: 0.6846 - val_accuracy: 0.6734 - lr: 0.0010\n",
      "Epoch 2/20\n",
      "200/200 [==============================] - 429s 2s/step - loss: 0.5724 - accuracy: 0.7073 - val_loss: 0.6613 - val_accuracy: 0.5153 - lr: 0.0010\n",
      "Epoch 3/20\n",
      "200/200 [==============================] - 430s 2s/step - loss: 0.5534 - accuracy: 0.7218 - val_loss: 0.5804 - val_accuracy: 0.7038 - lr: 0.0010\n",
      "Epoch 4/20\n",
      "200/200 [==============================] - 440s 2s/step - loss: 0.5419 - accuracy: 0.7309 - val_loss: 0.7479 - val_accuracy: 0.6050 - lr: 0.0010\n",
      "Epoch 5/20\n",
      "200/200 [==============================] - 443s 2s/step - loss: 0.5273 - accuracy: 0.7345 - val_loss: 0.6271 - val_accuracy: 0.6678 - lr: 0.0010\n",
      "Epoch 6/20\n",
      "200/200 [==============================] - 442s 2s/step - loss: 0.5043 - accuracy: 0.7548 - val_loss: 0.5164 - val_accuracy: 0.7509 - lr: 2.0000e-04\n",
      "Epoch 7/20\n",
      "200/200 [==============================] - 446s 2s/step - loss: 0.4941 - accuracy: 0.7573 - val_loss: 0.5178 - val_accuracy: 0.7472 - lr: 2.0000e-04\n",
      "Epoch 8/20\n",
      "200/200 [==============================] - 442s 2s/step - loss: 0.4891 - accuracy: 0.7614 - val_loss: 0.5347 - val_accuracy: 0.7253 - lr: 2.0000e-04\n",
      "Epoch 9/20\n",
      "200/200 [==============================] - 443s 2s/step - loss: 0.4837 - accuracy: 0.7641 - val_loss: 0.5167 - val_accuracy: 0.7481 - lr: 1.0000e-04\n",
      "Epoch 10/20\n",
      "200/200 [==============================] - 443s 2s/step - loss: 0.4780 - accuracy: 0.7665 - val_loss: 0.5118 - val_accuracy: 0.7491 - lr: 1.0000e-04\n",
      "Epoch 11/20\n",
      "200/200 [==============================] - 442s 2s/step - loss: 0.4787 - accuracy: 0.7664 - val_loss: 0.5146 - val_accuracy: 0.7500 - lr: 1.0000e-04\n",
      "Epoch 12/20\n",
      "200/200 [==============================] - 442s 2s/step - loss: 0.4718 - accuracy: 0.7730 - val_loss: 0.5165 - val_accuracy: 0.7516 - lr: 1.0000e-04\n",
      "Epoch 13/20\n",
      "200/200 [==============================] - 441s 2s/step - loss: 0.4723 - accuracy: 0.7725 - val_loss: 0.5255 - val_accuracy: 0.7481 - lr: 1.0000e-04\n",
      "Epoch 14/20\n",
      "200/200 [==============================] - 445s 2s/step - loss: 0.4696 - accuracy: 0.7738 - val_loss: 0.5665 - val_accuracy: 0.7128 - lr: 1.0000e-04\n",
      "100/100 [==============================] - 21s 204ms/step\n",
      "100/100 [==============================] - 20s 203ms/step\n"
     ]
    },
    {
     "name": "stderr",
     "output_type": "stream",
     "text": [
      "2024/10/11 05:43:47 WARNING mlflow.tensorflow: You are saving a TensorFlow Core model or Keras model without a signature. Inference with mlflow.pyfunc.spark_udf() will not work unless the model's pyfunc representation accepts pandas DataFrames as inference inputs.\n",
      "WARNING:absl:Found untraced functions such as _update_step_xla, lstm_cell_42_layer_call_fn, lstm_cell_42_layer_call_and_return_conditional_losses while saving (showing 3 of 3). These functions will not be directly callable after loading.\n"
     ]
    },
    {
     "name": "stdout",
     "output_type": "stream",
     "text": [
      "INFO:tensorflow:Assets written to: C:\\Users\\trist\\AppData\\Local\\Temp\\tmpe_s5f16s\\model\\data\\model\\assets\n"
     ]
    },
    {
     "name": "stderr",
     "output_type": "stream",
     "text": [
      "INFO:tensorflow:Assets written to: C:\\Users\\trist\\AppData\\Local\\Temp\\tmpe_s5f16s\\model\\data\\model\\assets\n",
      "2024/10/11 05:44:01 WARNING mlflow.models.model: Model logged without a signature and input example. Please set `input_example` parameter when logging the model to auto infer the model signature.\n"
     ]
    },
    {
     "name": "stdout",
     "output_type": "stream",
     "text": [
      "Epoch 1/20\n",
      "200/200 [==============================] - 64s 310ms/step - loss: 0.6064 - accuracy: 0.6695 - val_loss: 0.6566 - val_accuracy: 0.6544 - lr: 0.0010\n",
      "Epoch 2/20\n",
      "200/200 [==============================] - 61s 307ms/step - loss: 0.5423 - accuracy: 0.7292 - val_loss: 0.5958 - val_accuracy: 0.7259 - lr: 0.0010\n",
      "Epoch 3/20\n",
      "200/200 [==============================] - 61s 307ms/step - loss: 0.5283 - accuracy: 0.7376 - val_loss: 0.5493 - val_accuracy: 0.7312 - lr: 0.0010\n",
      "Epoch 4/20\n",
      "200/200 [==============================] - 61s 306ms/step - loss: 0.5134 - accuracy: 0.7501 - val_loss: 0.5223 - val_accuracy: 0.7519 - lr: 0.0010\n",
      "Epoch 5/20\n",
      "200/200 [==============================] - 61s 306ms/step - loss: 0.4980 - accuracy: 0.7566 - val_loss: 0.5153 - val_accuracy: 0.7503 - lr: 0.0010\n",
      "Epoch 6/20\n",
      "200/200 [==============================] - 61s 306ms/step - loss: 0.4905 - accuracy: 0.7591 - val_loss: 0.7034 - val_accuracy: 0.6653 - lr: 0.0010\n",
      "Epoch 7/20\n",
      "200/200 [==============================] - 61s 306ms/step - loss: 0.4796 - accuracy: 0.7656 - val_loss: 0.5191 - val_accuracy: 0.7425 - lr: 0.0010\n",
      "Epoch 8/20\n",
      "200/200 [==============================] - 61s 306ms/step - loss: 0.4524 - accuracy: 0.7848 - val_loss: 0.5160 - val_accuracy: 0.7487 - lr: 2.0000e-04\n",
      "Epoch 9/20\n",
      "200/200 [==============================] - 61s 306ms/step - loss: 0.4463 - accuracy: 0.7886 - val_loss: 0.5171 - val_accuracy: 0.7491 - lr: 2.0000e-04\n",
      "100/100 [==============================] - 11s 103ms/step\n",
      "100/100 [==============================] - 10s 102ms/step\n"
     ]
    },
    {
     "name": "stderr",
     "output_type": "stream",
     "text": [
      "2024/10/11 05:53:37 WARNING mlflow.tensorflow: You are saving a TensorFlow Core model or Keras model without a signature. Inference with mlflow.pyfunc.spark_udf() will not work unless the model's pyfunc representation accepts pandas DataFrames as inference inputs.\n",
      "WARNING:absl:Found untraced functions such as _update_step_xla, lstm_cell_43_layer_call_fn, lstm_cell_43_layer_call_and_return_conditional_losses while saving (showing 3 of 3). These functions will not be directly callable after loading.\n"
     ]
    },
    {
     "name": "stdout",
     "output_type": "stream",
     "text": [
      "INFO:tensorflow:Assets written to: C:\\Users\\trist\\AppData\\Local\\Temp\\tmptaupqh7a\\model\\data\\model\\assets\n"
     ]
    },
    {
     "name": "stderr",
     "output_type": "stream",
     "text": [
      "INFO:tensorflow:Assets written to: C:\\Users\\trist\\AppData\\Local\\Temp\\tmptaupqh7a\\model\\data\\model\\assets\n",
      "2024/10/11 05:53:51 WARNING mlflow.models.model: Model logged without a signature and input example. Please set `input_example` parameter when logging the model to auto infer the model signature.\n"
     ]
    },
    {
     "name": "stdout",
     "output_type": "stream",
     "text": [
      "Epoch 1/20\n",
      "200/200 [==============================] - 190s 942ms/step - loss: 0.6016 - accuracy: 0.6747 - val_loss: 0.6650 - val_accuracy: 0.7234 - lr: 0.0010\n",
      "Epoch 2/20\n",
      "200/200 [==============================] - 187s 937ms/step - loss: 0.5448 - accuracy: 0.7289 - val_loss: 0.6019 - val_accuracy: 0.6878 - lr: 0.0010\n",
      "Epoch 3/20\n",
      "200/200 [==============================] - 187s 937ms/step - loss: 0.5166 - accuracy: 0.7459 - val_loss: 0.5658 - val_accuracy: 0.7075 - lr: 0.0010\n",
      "Epoch 4/20\n",
      "200/200 [==============================] - 188s 938ms/step - loss: 0.5067 - accuracy: 0.7530 - val_loss: 0.6566 - val_accuracy: 0.5825 - lr: 0.0010\n",
      "Epoch 5/20\n",
      "200/200 [==============================] - 188s 939ms/step - loss: 0.4922 - accuracy: 0.7604 - val_loss: 0.5217 - val_accuracy: 0.7406 - lr: 0.0010\n",
      "Epoch 6/20\n",
      "200/200 [==============================] - 188s 938ms/step - loss: 0.4796 - accuracy: 0.7704 - val_loss: 0.5337 - val_accuracy: 0.7312 - lr: 0.0010\n",
      "Epoch 7/20\n",
      "200/200 [==============================] - 188s 938ms/step - loss: 0.4643 - accuracy: 0.7789 - val_loss: 0.6454 - val_accuracy: 0.6931 - lr: 0.0010\n",
      "Epoch 8/20\n",
      "200/200 [==============================] - 188s 938ms/step - loss: 0.4280 - accuracy: 0.7986 - val_loss: 0.5319 - val_accuracy: 0.7428 - lr: 2.0000e-04\n",
      "Epoch 9/20\n",
      "200/200 [==============================] - 187s 938ms/step - loss: 0.4149 - accuracy: 0.8070 - val_loss: 0.5312 - val_accuracy: 0.7434 - lr: 2.0000e-04\n",
      "100/100 [==============================] - 9s 88ms/step\n",
      "100/100 [==============================] - 9s 88ms/step\n"
     ]
    },
    {
     "name": "stderr",
     "output_type": "stream",
     "text": [
      "2024/10/11 06:22:20 WARNING mlflow.tensorflow: You are saving a TensorFlow Core model or Keras model without a signature. Inference with mlflow.pyfunc.spark_udf() will not work unless the model's pyfunc representation accepts pandas DataFrames as inference inputs.\n",
      "WARNING:absl:Found untraced functions such as _update_step_xla, lstm_cell_44_layer_call_fn, lstm_cell_44_layer_call_and_return_conditional_losses while saving (showing 3 of 3). These functions will not be directly callable after loading.\n"
     ]
    },
    {
     "name": "stdout",
     "output_type": "stream",
     "text": [
      "INFO:tensorflow:Assets written to: C:\\Users\\trist\\AppData\\Local\\Temp\\tmplbftn5ar\\model\\data\\model\\assets\n"
     ]
    },
    {
     "name": "stderr",
     "output_type": "stream",
     "text": [
      "INFO:tensorflow:Assets written to: C:\\Users\\trist\\AppData\\Local\\Temp\\tmplbftn5ar\\model\\data\\model\\assets\n",
      "2024/10/11 06:22:34 WARNING mlflow.models.model: Model logged without a signature and input example. Please set `input_example` parameter when logging the model to auto infer the model signature.\n"
     ]
    },
    {
     "name": "stdout",
     "output_type": "stream",
     "text": [
      "Epoch 1/20\n",
      "200/200 [==============================] - 425s 2s/step - loss: 0.6026 - accuracy: 0.6715 - val_loss: 0.6710 - val_accuracy: 0.6894 - lr: 0.0010\n",
      "Epoch 2/20\n",
      "200/200 [==============================] - 434s 2s/step - loss: 0.5373 - accuracy: 0.7296 - val_loss: 0.6064 - val_accuracy: 0.6709 - lr: 0.0010\n",
      "Epoch 3/20\n",
      "200/200 [==============================] - 442s 2s/step - loss: 0.5154 - accuracy: 0.7479 - val_loss: 0.5510 - val_accuracy: 0.7150 - lr: 0.0010\n",
      "Epoch 4/20\n",
      "200/200 [==============================] - 460s 2s/step - loss: 0.4991 - accuracy: 0.7589 - val_loss: 0.6506 - val_accuracy: 0.6597 - lr: 0.0010\n",
      "Epoch 5/20\n",
      "200/200 [==============================] - 458s 2s/step - loss: 0.4813 - accuracy: 0.7680 - val_loss: 0.5396 - val_accuracy: 0.7184 - lr: 0.0010\n",
      "Epoch 6/20\n",
      "200/200 [==============================] - 454s 2s/step - loss: 0.4664 - accuracy: 0.7773 - val_loss: 0.5590 - val_accuracy: 0.6981 - lr: 0.0010\n",
      "Epoch 7/20\n",
      "200/200 [==============================] - 455s 2s/step - loss: 0.4498 - accuracy: 0.7870 - val_loss: 0.5392 - val_accuracy: 0.7369 - lr: 0.0010\n",
      "Epoch 8/20\n",
      "200/200 [==============================] - 443s 2s/step - loss: 0.4322 - accuracy: 0.7945 - val_loss: 0.5465 - val_accuracy: 0.7300 - lr: 0.0010\n",
      "Epoch 9/20\n",
      "200/200 [==============================] - 440s 2s/step - loss: 0.4123 - accuracy: 0.8066 - val_loss: 0.5446 - val_accuracy: 0.7300 - lr: 0.0010\n",
      "Epoch 10/20\n",
      "200/200 [==============================] - 441s 2s/step - loss: 0.3588 - accuracy: 0.8380 - val_loss: 0.5641 - val_accuracy: 0.7437 - lr: 2.0000e-04\n",
      "Epoch 11/20\n",
      "200/200 [==============================] - 442s 2s/step - loss: 0.3403 - accuracy: 0.8491 - val_loss: 0.5751 - val_accuracy: 0.7387 - lr: 2.0000e-04\n",
      "100/100 [==============================] - 20s 200ms/step\n",
      "100/100 [==============================] - 20s 199ms/step\n"
     ]
    },
    {
     "name": "stderr",
     "output_type": "stream",
     "text": [
      "2024/10/11 07:44:49 WARNING mlflow.tensorflow: You are saving a TensorFlow Core model or Keras model without a signature. Inference with mlflow.pyfunc.spark_udf() will not work unless the model's pyfunc representation accepts pandas DataFrames as inference inputs.\n",
      "WARNING:absl:Found untraced functions such as _update_step_xla, lstm_cell_45_layer_call_fn, lstm_cell_45_layer_call_and_return_conditional_losses while saving (showing 3 of 3). These functions will not be directly callable after loading.\n"
     ]
    },
    {
     "name": "stdout",
     "output_type": "stream",
     "text": [
      "INFO:tensorflow:Assets written to: C:\\Users\\trist\\AppData\\Local\\Temp\\tmpqirkzsuf\\model\\data\\model\\assets\n"
     ]
    },
    {
     "name": "stderr",
     "output_type": "stream",
     "text": [
      "INFO:tensorflow:Assets written to: C:\\Users\\trist\\AppData\\Local\\Temp\\tmpqirkzsuf\\model\\data\\model\\assets\n",
      "2024/10/11 07:45:03 WARNING mlflow.models.model: Model logged without a signature and input example. Please set `input_example` parameter when logging the model to auto infer the model signature.\n"
     ]
    },
    {
     "name": "stdout",
     "output_type": "stream",
     "text": [
      "Epoch 1/20\n",
      "200/200 [==============================] - 61s 297ms/step - loss: 0.6609 - accuracy: 0.6222 - val_loss: 0.6696 - val_accuracy: 0.5191 - lr: 0.0010\n",
      "Epoch 2/20\n",
      "200/200 [==============================] - 59s 295ms/step - loss: 0.5789 - accuracy: 0.7037 - val_loss: 0.6290 - val_accuracy: 0.6075 - lr: 0.0010\n",
      "Epoch 3/20\n",
      "200/200 [==============================] - 59s 294ms/step - loss: 0.5558 - accuracy: 0.7235 - val_loss: 0.5882 - val_accuracy: 0.6766 - lr: 0.0010\n",
      "Epoch 4/20\n",
      "200/200 [==============================] - 59s 296ms/step - loss: 0.5459 - accuracy: 0.7257 - val_loss: 0.6858 - val_accuracy: 0.6172 - lr: 0.0010\n",
      "Epoch 5/20\n",
      "200/200 [==============================] - 60s 299ms/step - loss: 0.5386 - accuracy: 0.7315 - val_loss: 0.7213 - val_accuracy: 0.6069 - lr: 0.0010\n",
      "Epoch 6/20\n",
      "200/200 [==============================] - 59s 296ms/step - loss: 0.5194 - accuracy: 0.7437 - val_loss: 0.5176 - val_accuracy: 0.7416 - lr: 2.0000e-04\n",
      "Epoch 7/20\n",
      "200/200 [==============================] - 60s 302ms/step - loss: 0.5152 - accuracy: 0.7493 - val_loss: 0.5103 - val_accuracy: 0.7506 - lr: 2.0000e-04\n",
      "Epoch 8/20\n",
      "200/200 [==============================] - 60s 301ms/step - loss: 0.5129 - accuracy: 0.7498 - val_loss: 0.5379 - val_accuracy: 0.7278 - lr: 2.0000e-04\n",
      "Epoch 9/20\n",
      "200/200 [==============================] - 60s 300ms/step - loss: 0.5145 - accuracy: 0.7480 - val_loss: 0.5263 - val_accuracy: 0.7375 - lr: 2.0000e-04\n",
      "Epoch 10/20\n",
      "200/200 [==============================] - 59s 296ms/step - loss: 0.5099 - accuracy: 0.7507 - val_loss: 0.5126 - val_accuracy: 0.7487 - lr: 1.0000e-04\n",
      "Epoch 11/20\n",
      "200/200 [==============================] - 59s 294ms/step - loss: 0.5078 - accuracy: 0.7505 - val_loss: 0.5148 - val_accuracy: 0.7444 - lr: 1.0000e-04\n",
      "100/100 [==============================] - 10s 101ms/step\n",
      "100/100 [==============================] - 10s 101ms/step\n"
     ]
    },
    {
     "name": "stderr",
     "output_type": "stream",
     "text": [
      "2024/10/11 07:56:21 WARNING mlflow.tensorflow: You are saving a TensorFlow Core model or Keras model without a signature. Inference with mlflow.pyfunc.spark_udf() will not work unless the model's pyfunc representation accepts pandas DataFrames as inference inputs.\n",
      "WARNING:absl:Found untraced functions such as _update_step_xla, lstm_cell_46_layer_call_fn, lstm_cell_46_layer_call_and_return_conditional_losses while saving (showing 3 of 3). These functions will not be directly callable after loading.\n"
     ]
    },
    {
     "name": "stdout",
     "output_type": "stream",
     "text": [
      "INFO:tensorflow:Assets written to: C:\\Users\\trist\\AppData\\Local\\Temp\\tmpv12f45f2\\model\\data\\model\\assets\n"
     ]
    },
    {
     "name": "stderr",
     "output_type": "stream",
     "text": [
      "INFO:tensorflow:Assets written to: C:\\Users\\trist\\AppData\\Local\\Temp\\tmpv12f45f2\\model\\data\\model\\assets\n",
      "2024/10/11 07:56:35 WARNING mlflow.models.model: Model logged without a signature and input example. Please set `input_example` parameter when logging the model to auto infer the model signature.\n"
     ]
    },
    {
     "name": "stdout",
     "output_type": "stream",
     "text": [
      "Epoch 1/20\n",
      "200/200 [==============================] - 194s 963ms/step - loss: 0.6428 - accuracy: 0.6322 - val_loss: 0.6699 - val_accuracy: 0.6369 - lr: 0.0010\n",
      "Epoch 2/20\n",
      "200/200 [==============================] - 194s 972ms/step - loss: 0.5700 - accuracy: 0.7068 - val_loss: 0.6249 - val_accuracy: 0.6559 - lr: 0.0010\n",
      "Epoch 3/20\n",
      "200/200 [==============================] - 192s 960ms/step - loss: 0.5482 - accuracy: 0.7271 - val_loss: 0.7783 - val_accuracy: 0.5378 - lr: 0.0010\n",
      "Epoch 4/20\n",
      "200/200 [==============================] - 186s 929ms/step - loss: 0.5378 - accuracy: 0.7317 - val_loss: 0.5508 - val_accuracy: 0.7212 - lr: 0.0010\n",
      "Epoch 5/20\n",
      "200/200 [==============================] - 186s 929ms/step - loss: 0.5227 - accuracy: 0.7438 - val_loss: 0.5380 - val_accuracy: 0.7369 - lr: 0.0010\n",
      "Epoch 6/20\n",
      "200/200 [==============================] - 185s 927ms/step - loss: 0.5180 - accuracy: 0.7439 - val_loss: 0.5228 - val_accuracy: 0.7469 - lr: 0.0010\n",
      "Epoch 7/20\n",
      "200/200 [==============================] - 185s 924ms/step - loss: 0.5088 - accuracy: 0.7515 - val_loss: 0.5152 - val_accuracy: 0.7481 - lr: 0.0010\n",
      "Epoch 8/20\n",
      "200/200 [==============================] - 187s 934ms/step - loss: 0.5019 - accuracy: 0.7507 - val_loss: 0.5444 - val_accuracy: 0.7325 - lr: 0.0010\n",
      "Epoch 9/20\n",
      "200/200 [==============================] - 186s 932ms/step - loss: 0.4993 - accuracy: 0.7550 - val_loss: 0.5088 - val_accuracy: 0.7487 - lr: 0.0010\n",
      "Epoch 10/20\n",
      "200/200 [==============================] - 190s 948ms/step - loss: 0.4949 - accuracy: 0.7594 - val_loss: 0.5865 - val_accuracy: 0.6956 - lr: 0.0010\n",
      "Epoch 11/20\n",
      "200/200 [==============================] - 194s 970ms/step - loss: 0.4842 - accuracy: 0.7649 - val_loss: 0.6251 - val_accuracy: 0.7269 - lr: 0.0010\n",
      "Epoch 12/20\n",
      "200/200 [==============================] - 194s 973ms/step - loss: 0.4629 - accuracy: 0.7780 - val_loss: 0.5045 - val_accuracy: 0.7569 - lr: 2.0000e-04\n",
      "Epoch 13/20\n",
      "200/200 [==============================] - 193s 965ms/step - loss: 0.4608 - accuracy: 0.7777 - val_loss: 0.5108 - val_accuracy: 0.7525 - lr: 2.0000e-04\n",
      "Epoch 14/20\n",
      "200/200 [==============================] - 192s 962ms/step - loss: 0.4545 - accuracy: 0.7826 - val_loss: 0.5229 - val_accuracy: 0.7563 - lr: 2.0000e-04\n",
      "Epoch 15/20\n",
      "200/200 [==============================] - 192s 959ms/step - loss: 0.4490 - accuracy: 0.7805 - val_loss: 0.5112 - val_accuracy: 0.7541 - lr: 1.0000e-04\n",
      "Epoch 16/20\n",
      "200/200 [==============================] - 193s 963ms/step - loss: 0.4478 - accuracy: 0.7821 - val_loss: 0.5113 - val_accuracy: 0.7553 - lr: 1.0000e-04\n",
      "100/100 [==============================] - 9s 88ms/step\n",
      "100/100 [==============================] - 9s 90ms/step\n"
     ]
    },
    {
     "name": "stderr",
     "output_type": "stream",
     "text": [
      "2024/10/11 08:47:37 WARNING mlflow.tensorflow: You are saving a TensorFlow Core model or Keras model without a signature. Inference with mlflow.pyfunc.spark_udf() will not work unless the model's pyfunc representation accepts pandas DataFrames as inference inputs.\n",
      "WARNING:absl:Found untraced functions such as _update_step_xla, lstm_cell_47_layer_call_fn, lstm_cell_47_layer_call_and_return_conditional_losses while saving (showing 3 of 3). These functions will not be directly callable after loading.\n"
     ]
    },
    {
     "name": "stdout",
     "output_type": "stream",
     "text": [
      "INFO:tensorflow:Assets written to: C:\\Users\\trist\\AppData\\Local\\Temp\\tmp8pqf8amp\\model\\data\\model\\assets\n"
     ]
    },
    {
     "name": "stderr",
     "output_type": "stream",
     "text": [
      "INFO:tensorflow:Assets written to: C:\\Users\\trist\\AppData\\Local\\Temp\\tmp8pqf8amp\\model\\data\\model\\assets\n",
      "2024/10/11 08:47:52 WARNING mlflow.models.model: Model logged without a signature and input example. Please set `input_example` parameter when logging the model to auto infer the model signature.\n"
     ]
    },
    {
     "name": "stdout",
     "output_type": "stream",
     "text": [
      "Epoch 1/20\n",
      "200/200 [==============================] - 447s 2s/step - loss: 0.6423 - accuracy: 0.6490 - val_loss: 0.6749 - val_accuracy: 0.5000 - lr: 0.0010\n",
      "Epoch 2/20\n",
      "200/200 [==============================] - 446s 2s/step - loss: 0.5627 - accuracy: 0.7140 - val_loss: 0.6318 - val_accuracy: 0.6922 - lr: 0.0010\n",
      "Epoch 3/20\n",
      "200/200 [==============================] - 437s 2s/step - loss: 0.5484 - accuracy: 0.7266 - val_loss: 0.6599 - val_accuracy: 0.5572 - lr: 0.0010\n",
      "Epoch 4/20\n",
      "200/200 [==============================] - 433s 2s/step - loss: 0.5331 - accuracy: 0.7366 - val_loss: 0.5216 - val_accuracy: 0.7366 - lr: 0.0010\n",
      "Epoch 5/20\n",
      "200/200 [==============================] - 431s 2s/step - loss: 0.5251 - accuracy: 0.7392 - val_loss: 0.7138 - val_accuracy: 0.6044 - lr: 0.0010\n",
      "Epoch 6/20\n",
      "200/200 [==============================] - 436s 2s/step - loss: 0.5152 - accuracy: 0.7455 - val_loss: 0.5995 - val_accuracy: 0.7178 - lr: 0.0010\n",
      "Epoch 7/20\n",
      "200/200 [==============================] - 433s 2s/step - loss: 0.4944 - accuracy: 0.7599 - val_loss: 0.5106 - val_accuracy: 0.7500 - lr: 2.0000e-04\n",
      "Epoch 8/20\n",
      "200/200 [==============================] - 435s 2s/step - loss: 0.4901 - accuracy: 0.7614 - val_loss: 0.6019 - val_accuracy: 0.6919 - lr: 2.0000e-04\n",
      "Epoch 9/20\n",
      "200/200 [==============================] - 435s 2s/step - loss: 0.4816 - accuracy: 0.7623 - val_loss: 0.5239 - val_accuracy: 0.7462 - lr: 2.0000e-04\n",
      "Epoch 10/20\n",
      "200/200 [==============================] - 438s 2s/step - loss: 0.4751 - accuracy: 0.7670 - val_loss: 0.5218 - val_accuracy: 0.7497 - lr: 1.0000e-04\n",
      "Epoch 11/20\n",
      "200/200 [==============================] - 438s 2s/step - loss: 0.4724 - accuracy: 0.7672 - val_loss: 0.5253 - val_accuracy: 0.7494 - lr: 1.0000e-04\n",
      "100/100 [==============================] - 22s 206ms/step\n",
      "100/100 [==============================] - 21s 206ms/step\n"
     ]
    },
    {
     "name": "stderr",
     "output_type": "stream",
     "text": [
      "2024/10/11 10:08:47 WARNING mlflow.tensorflow: You are saving a TensorFlow Core model or Keras model without a signature. Inference with mlflow.pyfunc.spark_udf() will not work unless the model's pyfunc representation accepts pandas DataFrames as inference inputs.\n",
      "WARNING:absl:Found untraced functions such as _update_step_xla, lstm_cell_48_layer_call_fn, lstm_cell_48_layer_call_and_return_conditional_losses while saving (showing 3 of 3). These functions will not be directly callable after loading.\n"
     ]
    },
    {
     "name": "stdout",
     "output_type": "stream",
     "text": [
      "INFO:tensorflow:Assets written to: C:\\Users\\trist\\AppData\\Local\\Temp\\tmp095g3tce\\model\\data\\model\\assets\n"
     ]
    },
    {
     "name": "stderr",
     "output_type": "stream",
     "text": [
      "INFO:tensorflow:Assets written to: C:\\Users\\trist\\AppData\\Local\\Temp\\tmp095g3tce\\model\\data\\model\\assets\n",
      "2024/10/11 10:09:01 WARNING mlflow.models.model: Model logged without a signature and input example. Please set `input_example` parameter when logging the model to auto infer the model signature.\n"
     ]
    },
    {
     "name": "stdout",
     "output_type": "stream",
     "text": [
      "Epoch 1/20\n",
      "200/200 [==============================] - 62s 300ms/step - loss: 0.6158 - accuracy: 0.6612 - val_loss: 0.7212 - val_accuracy: 0.5000 - lr: 0.0010\n",
      "Epoch 2/20\n",
      "200/200 [==============================] - 59s 293ms/step - loss: 0.5497 - accuracy: 0.7250 - val_loss: 0.5755 - val_accuracy: 0.7350 - lr: 0.0010\n",
      "Epoch 3/20\n",
      "200/200 [==============================] - 59s 294ms/step - loss: 0.5237 - accuracy: 0.7441 - val_loss: 0.5307 - val_accuracy: 0.7334 - lr: 0.0010\n",
      "Epoch 4/20\n",
      "200/200 [==============================] - 59s 293ms/step - loss: 0.5083 - accuracy: 0.7507 - val_loss: 0.5312 - val_accuracy: 0.7334 - lr: 0.0010\n",
      "Epoch 5/20\n",
      "200/200 [==============================] - 59s 293ms/step - loss: 0.4991 - accuracy: 0.7555 - val_loss: 0.6686 - val_accuracy: 0.6656 - lr: 0.0010\n",
      "Epoch 6/20\n",
      "200/200 [==============================] - 59s 293ms/step - loss: 0.4703 - accuracy: 0.7770 - val_loss: 0.5176 - val_accuracy: 0.7500 - lr: 2.0000e-04\n",
      "Epoch 7/20\n",
      "200/200 [==============================] - 59s 294ms/step - loss: 0.4639 - accuracy: 0.7789 - val_loss: 0.5155 - val_accuracy: 0.7494 - lr: 2.0000e-04\n",
      "Epoch 8/20\n",
      "200/200 [==============================] - 59s 293ms/step - loss: 0.4552 - accuracy: 0.7834 - val_loss: 0.5136 - val_accuracy: 0.7475 - lr: 2.0000e-04\n",
      "Epoch 9/20\n",
      "200/200 [==============================] - 59s 294ms/step - loss: 0.4497 - accuracy: 0.7876 - val_loss: 0.5166 - val_accuracy: 0.7528 - lr: 2.0000e-04\n",
      "Epoch 10/20\n",
      "200/200 [==============================] - 59s 293ms/step - loss: 0.4449 - accuracy: 0.7882 - val_loss: 0.5205 - val_accuracy: 0.7491 - lr: 2.0000e-04\n",
      "Epoch 11/20\n",
      "200/200 [==============================] - 59s 293ms/step - loss: 0.4388 - accuracy: 0.7959 - val_loss: 0.5210 - val_accuracy: 0.7516 - lr: 1.0000e-04\n",
      "Epoch 12/20\n",
      "200/200 [==============================] - 59s 293ms/step - loss: 0.4341 - accuracy: 0.7955 - val_loss: 0.5299 - val_accuracy: 0.7425 - lr: 1.0000e-04\n",
      "100/100 [==============================] - 10s 98ms/step\n",
      "100/100 [==============================] - 10s 98ms/step\n"
     ]
    },
    {
     "name": "stderr",
     "output_type": "stream",
     "text": [
      "2024/10/11 10:21:09 WARNING mlflow.tensorflow: You are saving a TensorFlow Core model or Keras model without a signature. Inference with mlflow.pyfunc.spark_udf() will not work unless the model's pyfunc representation accepts pandas DataFrames as inference inputs.\n",
      "WARNING:absl:Found untraced functions such as _update_step_xla, lstm_cell_49_layer_call_fn, lstm_cell_49_layer_call_and_return_conditional_losses while saving (showing 3 of 3). These functions will not be directly callable after loading.\n"
     ]
    },
    {
     "name": "stdout",
     "output_type": "stream",
     "text": [
      "INFO:tensorflow:Assets written to: C:\\Users\\trist\\AppData\\Local\\Temp\\tmpocyyhvij\\model\\data\\model\\assets\n"
     ]
    },
    {
     "name": "stderr",
     "output_type": "stream",
     "text": [
      "INFO:tensorflow:Assets written to: C:\\Users\\trist\\AppData\\Local\\Temp\\tmpocyyhvij\\model\\data\\model\\assets\n",
      "2024/10/11 10:21:24 WARNING mlflow.models.model: Model logged without a signature and input example. Please set `input_example` parameter when logging the model to auto infer the model signature.\n"
     ]
    },
    {
     "name": "stdout",
     "output_type": "stream",
     "text": [
      "Epoch 1/20\n",
      "200/200 [==============================] - 189s 934ms/step - loss: 0.6045 - accuracy: 0.6707 - val_loss: 0.6539 - val_accuracy: 0.6997 - lr: 0.0010\n",
      "Epoch 2/20\n",
      "200/200 [==============================] - 186s 928ms/step - loss: 0.5371 - accuracy: 0.7275 - val_loss: 0.5811 - val_accuracy: 0.7462 - lr: 0.0010\n",
      "Epoch 3/20\n",
      "200/200 [==============================] - 186s 929ms/step - loss: 0.5195 - accuracy: 0.7446 - val_loss: 0.5784 - val_accuracy: 0.6800 - lr: 0.0010\n",
      "Epoch 4/20\n",
      "200/200 [==============================] - 185s 925ms/step - loss: 0.4995 - accuracy: 0.7566 - val_loss: 0.5983 - val_accuracy: 0.6988 - lr: 0.0010\n",
      "Epoch 5/20\n",
      "200/200 [==============================] - 185s 926ms/step - loss: 0.4803 - accuracy: 0.7684 - val_loss: 0.5371 - val_accuracy: 0.7353 - lr: 0.0010\n",
      "Epoch 6/20\n",
      "200/200 [==============================] - 185s 928ms/step - loss: 0.4658 - accuracy: 0.7769 - val_loss: 0.5282 - val_accuracy: 0.7425 - lr: 0.0010\n",
      "Epoch 7/20\n",
      "200/200 [==============================] - 185s 927ms/step - loss: 0.4514 - accuracy: 0.7872 - val_loss: 0.5417 - val_accuracy: 0.7312 - lr: 0.0010\n",
      "Epoch 8/20\n",
      "200/200 [==============================] - 185s 927ms/step - loss: 0.4324 - accuracy: 0.7987 - val_loss: 0.5604 - val_accuracy: 0.7041 - lr: 0.0010\n",
      "Epoch 9/20\n",
      "200/200 [==============================] - 185s 927ms/step - loss: 0.3818 - accuracy: 0.8256 - val_loss: 0.5672 - val_accuracy: 0.7366 - lr: 2.0000e-04\n",
      "Epoch 10/20\n",
      "200/200 [==============================] - 185s 925ms/step - loss: 0.3645 - accuracy: 0.8358 - val_loss: 0.5690 - val_accuracy: 0.7406 - lr: 2.0000e-04\n",
      "100/100 [==============================] - 9s 84ms/step\n",
      "100/100 [==============================] - 8s 84ms/step\n"
     ]
    },
    {
     "name": "stderr",
     "output_type": "stream",
     "text": [
      "2024/10/11 10:52:39 WARNING mlflow.tensorflow: You are saving a TensorFlow Core model or Keras model without a signature. Inference with mlflow.pyfunc.spark_udf() will not work unless the model's pyfunc representation accepts pandas DataFrames as inference inputs.\n",
      "WARNING:absl:Found untraced functions such as _update_step_xla, lstm_cell_50_layer_call_fn, lstm_cell_50_layer_call_and_return_conditional_losses while saving (showing 3 of 3). These functions will not be directly callable after loading.\n"
     ]
    },
    {
     "name": "stdout",
     "output_type": "stream",
     "text": [
      "INFO:tensorflow:Assets written to: C:\\Users\\trist\\AppData\\Local\\Temp\\tmpkb3fvsy4\\model\\data\\model\\assets\n"
     ]
    },
    {
     "name": "stderr",
     "output_type": "stream",
     "text": [
      "INFO:tensorflow:Assets written to: C:\\Users\\trist\\AppData\\Local\\Temp\\tmpkb3fvsy4\\model\\data\\model\\assets\n",
      "2024/10/11 10:52:54 WARNING mlflow.models.model: Model logged without a signature and input example. Please set `input_example` parameter when logging the model to auto infer the model signature.\n"
     ]
    },
    {
     "name": "stdout",
     "output_type": "stream",
     "text": [
      "Epoch 1/20\n",
      "200/200 [==============================] - 403s 2s/step - loss: 0.5985 - accuracy: 0.6814 - val_loss: 0.6674 - val_accuracy: 0.6619 - lr: 0.0010\n",
      "Epoch 2/20\n",
      "200/200 [==============================] - 394s 2s/step - loss: 0.5373 - accuracy: 0.7304 - val_loss: 0.6036 - val_accuracy: 0.7325 - lr: 0.0010\n",
      "Epoch 3/20\n",
      "200/200 [==============================] - 408s 2s/step - loss: 0.5121 - accuracy: 0.7475 - val_loss: 0.6766 - val_accuracy: 0.5678 - lr: 0.0010\n",
      "Epoch 4/20\n",
      "200/200 [==============================] - 401s 2s/step - loss: 0.4964 - accuracy: 0.7564 - val_loss: 0.5279 - val_accuracy: 0.7284 - lr: 0.0010\n",
      "Epoch 5/20\n",
      "200/200 [==============================] - 407s 2s/step - loss: 0.4756 - accuracy: 0.7713 - val_loss: 0.5112 - val_accuracy: 0.7453 - lr: 0.0010\n",
      "Epoch 6/20\n",
      "200/200 [==============================] - 408s 2s/step - loss: 0.4532 - accuracy: 0.7822 - val_loss: 0.5258 - val_accuracy: 0.7441 - lr: 0.0010\n",
      "Epoch 7/20\n",
      "200/200 [==============================] - 405s 2s/step - loss: 0.4315 - accuracy: 0.7925 - val_loss: 0.5457 - val_accuracy: 0.7287 - lr: 0.0010\n",
      "Epoch 8/20\n",
      "200/200 [==============================] - 407s 2s/step - loss: 0.3761 - accuracy: 0.8276 - val_loss: 0.5373 - val_accuracy: 0.7362 - lr: 2.0000e-04\n",
      "Epoch 9/20\n",
      "200/200 [==============================] - 398s 2s/step - loss: 0.3437 - accuracy: 0.8484 - val_loss: 0.5888 - val_accuracy: 0.7328 - lr: 2.0000e-04\n",
      "100/100 [==============================] - 20s 194ms/step\n",
      "100/100 [==============================] - 19s 190ms/step\n"
     ]
    },
    {
     "name": "stderr",
     "output_type": "stream",
     "text": [
      "2024/10/11 11:54:05 WARNING mlflow.tensorflow: You are saving a TensorFlow Core model or Keras model without a signature. Inference with mlflow.pyfunc.spark_udf() will not work unless the model's pyfunc representation accepts pandas DataFrames as inference inputs.\n",
      "WARNING:absl:Found untraced functions such as _update_step_xla, lstm_cell_51_layer_call_fn, lstm_cell_51_layer_call_and_return_conditional_losses while saving (showing 3 of 3). These functions will not be directly callable after loading.\n"
     ]
    },
    {
     "name": "stdout",
     "output_type": "stream",
     "text": [
      "INFO:tensorflow:Assets written to: C:\\Users\\trist\\AppData\\Local\\Temp\\tmpgqtbhwot\\model\\data\\model\\assets\n"
     ]
    },
    {
     "name": "stderr",
     "output_type": "stream",
     "text": [
      "INFO:tensorflow:Assets written to: C:\\Users\\trist\\AppData\\Local\\Temp\\tmpgqtbhwot\\model\\data\\model\\assets\n",
      "2024/10/11 11:54:20 WARNING mlflow.models.model: Model logged without a signature and input example. Please set `input_example` parameter when logging the model to auto infer the model signature.\n"
     ]
    },
    {
     "name": "stdout",
     "output_type": "stream",
     "text": [
      "Epoch 1/20\n",
      "200/200 [==============================] - 56s 271ms/step - loss: 0.6622 - accuracy: 0.6037 - val_loss: 0.6713 - val_accuracy: 0.5594 - lr: 0.0010\n",
      "Epoch 2/20\n",
      "200/200 [==============================] - 54s 268ms/step - loss: 0.5831 - accuracy: 0.7041 - val_loss: 0.6158 - val_accuracy: 0.7331 - lr: 0.0010\n",
      "Epoch 3/20\n",
      "200/200 [==============================] - 54s 269ms/step - loss: 0.5554 - accuracy: 0.7247 - val_loss: 0.5928 - val_accuracy: 0.6631 - lr: 0.0010\n",
      "Epoch 4/20\n",
      "200/200 [==============================] - 54s 268ms/step - loss: 0.5406 - accuracy: 0.7320 - val_loss: 0.5850 - val_accuracy: 0.6938 - lr: 0.0010\n",
      "Epoch 5/20\n",
      "200/200 [==============================] - 53s 267ms/step - loss: 0.5290 - accuracy: 0.7362 - val_loss: 0.5540 - val_accuracy: 0.7119 - lr: 0.0010\n",
      "Epoch 6/20\n",
      "200/200 [==============================] - 53s 267ms/step - loss: 0.5198 - accuracy: 0.7464 - val_loss: 0.5130 - val_accuracy: 0.7422 - lr: 0.0010\n",
      "Epoch 7/20\n",
      "200/200 [==============================] - 53s 267ms/step - loss: 0.5165 - accuracy: 0.7481 - val_loss: 0.5752 - val_accuracy: 0.6856 - lr: 0.0010\n",
      "Epoch 8/20\n",
      "200/200 [==============================] - 53s 267ms/step - loss: 0.5090 - accuracy: 0.7504 - val_loss: 0.6705 - val_accuracy: 0.6569 - lr: 0.0010\n",
      "Epoch 9/20\n",
      "200/200 [==============================] - 53s 267ms/step - loss: 0.4931 - accuracy: 0.7633 - val_loss: 0.5141 - val_accuracy: 0.7406 - lr: 2.0000e-04\n",
      "Epoch 10/20\n",
      "200/200 [==============================] - 53s 265ms/step - loss: 0.4851 - accuracy: 0.7701 - val_loss: 0.5051 - val_accuracy: 0.7559 - lr: 2.0000e-04\n",
      "Epoch 11/20\n",
      "200/200 [==============================] - 53s 265ms/step - loss: 0.4802 - accuracy: 0.7722 - val_loss: 0.5218 - val_accuracy: 0.7453 - lr: 2.0000e-04\n",
      "Epoch 12/20\n",
      "200/200 [==============================] - 53s 265ms/step - loss: 0.4827 - accuracy: 0.7707 - val_loss: 0.5256 - val_accuracy: 0.7444 - lr: 2.0000e-04\n",
      "Epoch 13/20\n",
      "200/200 [==============================] - 53s 265ms/step - loss: 0.4776 - accuracy: 0.7698 - val_loss: 0.5043 - val_accuracy: 0.7491 - lr: 1.0000e-04\n",
      "Epoch 14/20\n",
      "200/200 [==============================] - 53s 265ms/step - loss: 0.4806 - accuracy: 0.7702 - val_loss: 0.5096 - val_accuracy: 0.7491 - lr: 1.0000e-04\n",
      "Epoch 15/20\n",
      "200/200 [==============================] - 53s 265ms/step - loss: 0.4733 - accuracy: 0.7748 - val_loss: 0.5031 - val_accuracy: 0.7519 - lr: 1.0000e-04\n",
      "Epoch 16/20\n",
      "200/200 [==============================] - 53s 265ms/step - loss: 0.4719 - accuracy: 0.7764 - val_loss: 0.5306 - val_accuracy: 0.7256 - lr: 1.0000e-04\n",
      "Epoch 17/20\n",
      "200/200 [==============================] - 53s 265ms/step - loss: 0.4714 - accuracy: 0.7743 - val_loss: 0.5055 - val_accuracy: 0.7572 - lr: 1.0000e-04\n",
      "Epoch 18/20\n",
      "200/200 [==============================] - 53s 266ms/step - loss: 0.4734 - accuracy: 0.7703 - val_loss: 0.5067 - val_accuracy: 0.7534 - lr: 1.0000e-04\n",
      "Epoch 19/20\n",
      "200/200 [==============================] - 53s 266ms/step - loss: 0.4672 - accuracy: 0.7784 - val_loss: 0.5049 - val_accuracy: 0.7559 - lr: 1.0000e-04\n",
      "100/100 [==============================] - 10s 94ms/step\n",
      "100/100 [==============================] - 9s 94ms/step\n"
     ]
    },
    {
     "name": "stderr",
     "output_type": "stream",
     "text": [
      "2024/10/11 12:11:34 WARNING mlflow.tensorflow: You are saving a TensorFlow Core model or Keras model without a signature. Inference with mlflow.pyfunc.spark_udf() will not work unless the model's pyfunc representation accepts pandas DataFrames as inference inputs.\n",
      "WARNING:absl:Found untraced functions such as _update_step_xla, lstm_cell_52_layer_call_fn, lstm_cell_52_layer_call_and_return_conditional_losses while saving (showing 3 of 3). These functions will not be directly callable after loading.\n"
     ]
    },
    {
     "name": "stdout",
     "output_type": "stream",
     "text": [
      "INFO:tensorflow:Assets written to: C:\\Users\\trist\\AppData\\Local\\Temp\\tmpke7bkdol\\model\\data\\model\\assets\n"
     ]
    },
    {
     "name": "stderr",
     "output_type": "stream",
     "text": [
      "INFO:tensorflow:Assets written to: C:\\Users\\trist\\AppData\\Local\\Temp\\tmpke7bkdol\\model\\data\\model\\assets\n",
      "2024/10/11 12:11:49 WARNING mlflow.models.model: Model logged without a signature and input example. Please set `input_example` parameter when logging the model to auto infer the model signature.\n"
     ]
    },
    {
     "name": "stdout",
     "output_type": "stream",
     "text": [
      "Epoch 1/20\n",
      "200/200 [==============================] - 179s 886ms/step - loss: 0.6476 - accuracy: 0.6306 - val_loss: 0.6733 - val_accuracy: 0.6875 - lr: 0.0010\n",
      "Epoch 2/20\n",
      "200/200 [==============================] - 176s 882ms/step - loss: 0.5676 - accuracy: 0.7105 - val_loss: 0.6320 - val_accuracy: 0.7291 - lr: 0.0010\n",
      "Epoch 3/20\n",
      "200/200 [==============================] - 176s 882ms/step - loss: 0.5495 - accuracy: 0.7198 - val_loss: 0.5516 - val_accuracy: 0.7134 - lr: 0.0010\n",
      "Epoch 4/20\n",
      "200/200 [==============================] - 176s 882ms/step - loss: 0.5339 - accuracy: 0.7334 - val_loss: 0.5548 - val_accuracy: 0.7278 - lr: 0.0010\n",
      "Epoch 5/20\n",
      "200/200 [==============================] - 176s 882ms/step - loss: 0.5295 - accuracy: 0.7360 - val_loss: 1.1308 - val_accuracy: 0.5059 - lr: 0.0010\n",
      "Epoch 6/20\n",
      "200/200 [==============================] - 176s 881ms/step - loss: 0.5063 - accuracy: 0.7532 - val_loss: 0.5731 - val_accuracy: 0.7094 - lr: 2.0000e-04\n",
      "Epoch 7/20\n",
      "200/200 [==============================] - 176s 881ms/step - loss: 0.5001 - accuracy: 0.7563 - val_loss: 0.5188 - val_accuracy: 0.7400 - lr: 2.0000e-04\n",
      "Epoch 8/20\n",
      "200/200 [==============================] - 176s 880ms/step - loss: 0.4985 - accuracy: 0.7570 - val_loss: 0.5082 - val_accuracy: 0.7544 - lr: 2.0000e-04\n",
      "Epoch 9/20\n",
      "200/200 [==============================] - 176s 880ms/step - loss: 0.4887 - accuracy: 0.7626 - val_loss: 0.5081 - val_accuracy: 0.7491 - lr: 2.0000e-04\n",
      "Epoch 10/20\n",
      "200/200 [==============================] - 176s 881ms/step - loss: 0.4877 - accuracy: 0.7628 - val_loss: 0.5109 - val_accuracy: 0.7478 - lr: 2.0000e-04\n",
      "Epoch 11/20\n",
      "200/200 [==============================] - 176s 880ms/step - loss: 0.4856 - accuracy: 0.7642 - val_loss: 0.5056 - val_accuracy: 0.7481 - lr: 1.0000e-04\n",
      "Epoch 12/20\n",
      "200/200 [==============================] - 176s 880ms/step - loss: 0.4837 - accuracy: 0.7704 - val_loss: 0.5156 - val_accuracy: 0.7428 - lr: 1.0000e-04\n",
      "Epoch 13/20\n",
      "200/200 [==============================] - 176s 881ms/step - loss: 0.4811 - accuracy: 0.7639 - val_loss: 0.5602 - val_accuracy: 0.7144 - lr: 1.0000e-04\n",
      "Epoch 14/20\n",
      "200/200 [==============================] - 176s 880ms/step - loss: 0.4771 - accuracy: 0.7688 - val_loss: 0.5524 - val_accuracy: 0.7212 - lr: 1.0000e-04\n",
      "Epoch 15/20\n",
      "200/200 [==============================] - 176s 880ms/step - loss: 0.4739 - accuracy: 0.7710 - val_loss: 0.5434 - val_accuracy: 0.7281 - lr: 1.0000e-04\n",
      "100/100 [==============================] - 9s 78ms/step\n",
      "100/100 [==============================] - 8s 78ms/step\n"
     ]
    },
    {
     "name": "stderr",
     "output_type": "stream",
     "text": [
      "2024/10/11 12:56:10 WARNING mlflow.tensorflow: You are saving a TensorFlow Core model or Keras model without a signature. Inference with mlflow.pyfunc.spark_udf() will not work unless the model's pyfunc representation accepts pandas DataFrames as inference inputs.\n",
      "WARNING:absl:Found untraced functions such as _update_step_xla, lstm_cell_53_layer_call_fn, lstm_cell_53_layer_call_and_return_conditional_losses while saving (showing 3 of 3). These functions will not be directly callable after loading.\n"
     ]
    },
    {
     "name": "stdout",
     "output_type": "stream",
     "text": [
      "INFO:tensorflow:Assets written to: C:\\Users\\trist\\AppData\\Local\\Temp\\tmpro78zxfr\\model\\data\\model\\assets\n"
     ]
    },
    {
     "name": "stderr",
     "output_type": "stream",
     "text": [
      "INFO:tensorflow:Assets written to: C:\\Users\\trist\\AppData\\Local\\Temp\\tmpro78zxfr\\model\\data\\model\\assets\n",
      "2024/10/11 12:56:25 WARNING mlflow.models.model: Model logged without a signature and input example. Please set `input_example` parameter when logging the model to auto infer the model signature.\n"
     ]
    },
    {
     "name": "stdout",
     "output_type": "stream",
     "text": [
      "Epoch 1/20\n",
      "200/200 [==============================] - 384s 2s/step - loss: 0.6384 - accuracy: 0.6448 - val_loss: 0.6744 - val_accuracy: 0.5609 - lr: 0.0010\n",
      "Epoch 2/20\n",
      "200/200 [==============================] - 388s 2s/step - loss: 0.5627 - accuracy: 0.7127 - val_loss: 0.6315 - val_accuracy: 0.6903 - lr: 0.0010\n",
      "Epoch 3/20\n",
      "200/200 [==============================] - 390s 2s/step - loss: 0.5430 - accuracy: 0.7281 - val_loss: 0.5864 - val_accuracy: 0.6809 - lr: 0.0010\n",
      "Epoch 4/20\n",
      "200/200 [==============================] - 391s 2s/step - loss: 0.5285 - accuracy: 0.7395 - val_loss: 0.5550 - val_accuracy: 0.7194 - lr: 0.0010\n",
      "Epoch 5/20\n",
      "200/200 [==============================] - 392s 2s/step - loss: 0.5234 - accuracy: 0.7405 - val_loss: 0.9759 - val_accuracy: 0.5066 - lr: 0.0010\n",
      "Epoch 6/20\n",
      "200/200 [==============================] - 390s 2s/step - loss: 0.5108 - accuracy: 0.7477 - val_loss: 0.5773 - val_accuracy: 0.6744 - lr: 0.0010\n",
      "Epoch 7/20\n",
      "200/200 [==============================] - 390s 2s/step - loss: 0.4848 - accuracy: 0.7645 - val_loss: 0.5075 - val_accuracy: 0.7509 - lr: 2.0000e-04\n",
      "Epoch 8/20\n",
      "200/200 [==============================] - 391s 2s/step - loss: 0.4805 - accuracy: 0.7682 - val_loss: 0.5106 - val_accuracy: 0.7516 - lr: 2.0000e-04\n",
      "Epoch 9/20\n",
      "200/200 [==============================] - 389s 2s/step - loss: 0.4728 - accuracy: 0.7733 - val_loss: 0.5357 - val_accuracy: 0.7272 - lr: 2.0000e-04\n",
      "Epoch 10/20\n",
      "200/200 [==============================] - 390s 2s/step - loss: 0.4651 - accuracy: 0.7760 - val_loss: 0.5132 - val_accuracy: 0.7469 - lr: 1.0000e-04\n",
      "Epoch 11/20\n",
      "200/200 [==============================] - 391s 2s/step - loss: 0.4582 - accuracy: 0.7758 - val_loss: 0.5146 - val_accuracy: 0.7456 - lr: 1.0000e-04\n",
      "100/100 [==============================] - 18s 178ms/step\n",
      "100/100 [==============================] - 18s 179ms/step\n"
     ]
    },
    {
     "name": "stderr",
     "output_type": "stream",
     "text": [
      "2024/10/11 14:08:29 WARNING mlflow.tensorflow: You are saving a TensorFlow Core model or Keras model without a signature. Inference with mlflow.pyfunc.spark_udf() will not work unless the model's pyfunc representation accepts pandas DataFrames as inference inputs.\n",
      "WARNING:absl:Found untraced functions such as _update_step_xla, lstm_cell_54_layer_call_fn, lstm_cell_54_layer_call_and_return_conditional_losses while saving (showing 3 of 3). These functions will not be directly callable after loading.\n"
     ]
    },
    {
     "name": "stdout",
     "output_type": "stream",
     "text": [
      "INFO:tensorflow:Assets written to: C:\\Users\\trist\\AppData\\Local\\Temp\\tmp00qs73us\\model\\data\\model\\assets\n"
     ]
    },
    {
     "name": "stderr",
     "output_type": "stream",
     "text": [
      "INFO:tensorflow:Assets written to: C:\\Users\\trist\\AppData\\Local\\Temp\\tmp00qs73us\\model\\data\\model\\assets\n",
      "2024/10/11 14:08:45 WARNING mlflow.models.model: Model logged without a signature and input example. Please set `input_example` parameter when logging the model to auto infer the model signature.\n"
     ]
    },
    {
     "name": "stdout",
     "output_type": "stream",
     "text": [
      "Meilleurs paramètres : {'activation_type': 'prelu', 'dropout_rate': 0.5, 'lstm_units': 64} avec une accuracy de 0.7559\n"
     ]
    }
   ],
   "source": [
    "# Entraîner avec FastText + Stemming\n",
    "best_lstm_model_stem_ft, best_params_stem_ft = train_and_log_lstm(\n",
    "    X_train_stem_ft, y_train_stem_ft, X_test_stem_ft, y_test_stem_ft,\n",
    "    experiment_name=\"LSTM_FastText_Stemming\", param_grid=param_grid_lstm, input_shape=input_shape\n",
    ")"
   ]
  },
  {
   "cell_type": "markdown",
   "id": "304bb97c-dd32-45de-976e-d77da76972e9",
   "metadata": {},
   "source": [
    "## Analyse des meilleurs modele\n"
   ]
  },
  {
   "cell_type": "code",
   "execution_count": 76,
   "id": "2a588dbf-141c-4f83-99b7-5396a09745b8",
   "metadata": {},
   "outputs": [
    {
     "data": {
      "text/html": [
       "<div>\n",
       "<style scoped>\n",
       "    .dataframe tbody tr th:only-of-type {\n",
       "        vertical-align: middle;\n",
       "    }\n",
       "\n",
       "    .dataframe tbody tr th {\n",
       "        vertical-align: top;\n",
       "    }\n",
       "\n",
       "    .dataframe thead th {\n",
       "        text-align: right;\n",
       "    }\n",
       "</style>\n",
       "<table border=\"1\" class=\"dataframe\">\n",
       "  <thead>\n",
       "    <tr style=\"text-align: right;\">\n",
       "      <th></th>\n",
       "      <th>accuracy</th>\n",
       "      <th>auc</th>\n",
       "      <th>f1_score</th>\n",
       "      <th>precision</th>\n",
       "      <th>recall</th>\n",
       "      <th>training_time</th>\n",
       "      <th>run_id</th>\n",
       "      <th>experiment_name</th>\n",
       "    </tr>\n",
       "  </thead>\n",
       "  <tbody>\n",
       "    <tr>\n",
       "      <th>0</th>\n",
       "      <td>0.754062</td>\n",
       "      <td>0.834188</td>\n",
       "      <td>0.753214</td>\n",
       "      <td>0.755821</td>\n",
       "      <td>0.750625</td>\n",
       "      <td>140.503906</td>\n",
       "      <td>0e149cb1aade4ba789ba469cd758e2e4</td>\n",
       "      <td>CNN_Word2Vec_Lemmatization</td>\n",
       "    </tr>\n",
       "    <tr>\n",
       "      <th>1</th>\n",
       "      <td>0.752812</td>\n",
       "      <td>0.829275</td>\n",
       "      <td>0.737645</td>\n",
       "      <td>0.785866</td>\n",
       "      <td>0.695000</td>\n",
       "      <td>161.961351</td>\n",
       "      <td>d7c0384dc122441d8b021888089e36ad</td>\n",
       "      <td>CNN_FastText_Stemming</td>\n",
       "    </tr>\n",
       "    <tr>\n",
       "      <th>2</th>\n",
       "      <td>0.720000</td>\n",
       "      <td>0.792584</td>\n",
       "      <td>0.714831</td>\n",
       "      <td>0.728275</td>\n",
       "      <td>0.701875</td>\n",
       "      <td>123.168461</td>\n",
       "      <td>323a3367a5f34a5e9dbbc380deb09e0c</td>\n",
       "      <td>CNN_Word2Vec_Stemming</td>\n",
       "    </tr>\n",
       "    <tr>\n",
       "      <th>3</th>\n",
       "      <td>0.767813</td>\n",
       "      <td>0.839627</td>\n",
       "      <td>0.769039</td>\n",
       "      <td>0.764997</td>\n",
       "      <td>0.773125</td>\n",
       "      <td>207.850207</td>\n",
       "      <td>217a0e9918764c46bfffa00ea342fe09</td>\n",
       "      <td>CNN_FastText_Lemmatization</td>\n",
       "    </tr>\n",
       "    <tr>\n",
       "      <th>4</th>\n",
       "      <td>0.765625</td>\n",
       "      <td>0.843100</td>\n",
       "      <td>0.760536</td>\n",
       "      <td>0.777415</td>\n",
       "      <td>0.744375</td>\n",
       "      <td>877.881975</td>\n",
       "      <td>c6ae9082007f40a6b0cf4cb2c1c58dc7</td>\n",
       "      <td>LSTM_Word2Vec_Lemmatization</td>\n",
       "    </tr>\n",
       "    <tr>\n",
       "      <th>5</th>\n",
       "      <td>0.755938</td>\n",
       "      <td>0.833194</td>\n",
       "      <td>0.751036</td>\n",
       "      <td>0.766428</td>\n",
       "      <td>0.736250</td>\n",
       "      <td>1013.713845</td>\n",
       "      <td>61711770d0e947ae9806c023633257ca</td>\n",
       "      <td>LSTM_FastText_Stemming</td>\n",
       "    </tr>\n",
       "    <tr>\n",
       "      <th>6</th>\n",
       "      <td>0.751563</td>\n",
       "      <td>0.831365</td>\n",
       "      <td>0.737364</td>\n",
       "      <td>0.782060</td>\n",
       "      <td>0.697500</td>\n",
       "      <td>1946.616305</td>\n",
       "      <td>6bcbdd5919fb406d93ebe4eee5ee93a1</td>\n",
       "      <td>LSTM_Word2Vec_Stemming</td>\n",
       "    </tr>\n",
       "    <tr>\n",
       "      <th>7</th>\n",
       "      <td>0.748437</td>\n",
       "      <td>0.836294</td>\n",
       "      <td>0.719219</td>\n",
       "      <td>0.813733</td>\n",
       "      <td>0.644375</td>\n",
       "      <td>662.600496</td>\n",
       "      <td>d15f0469c1f04f608ee597e15276bf29</td>\n",
       "      <td>LSTM_FastText_Lemmatization</td>\n",
       "    </tr>\n",
       "  </tbody>\n",
       "</table>\n",
       "</div>"
      ],
      "text/plain": [
       "   accuracy       auc  f1_score  precision    recall  training_time  \\\n",
       "0  0.754062  0.834188  0.753214   0.755821  0.750625     140.503906   \n",
       "1  0.752812  0.829275  0.737645   0.785866  0.695000     161.961351   \n",
       "2  0.720000  0.792584  0.714831   0.728275  0.701875     123.168461   \n",
       "3  0.767813  0.839627  0.769039   0.764997  0.773125     207.850207   \n",
       "4  0.765625  0.843100  0.760536   0.777415  0.744375     877.881975   \n",
       "5  0.755938  0.833194  0.751036   0.766428  0.736250    1013.713845   \n",
       "6  0.751563  0.831365  0.737364   0.782060  0.697500    1946.616305   \n",
       "7  0.748437  0.836294  0.719219   0.813733  0.644375     662.600496   \n",
       "\n",
       "                             run_id              experiment_name  \n",
       "0  0e149cb1aade4ba789ba469cd758e2e4   CNN_Word2Vec_Lemmatization  \n",
       "1  d7c0384dc122441d8b021888089e36ad        CNN_FastText_Stemming  \n",
       "2  323a3367a5f34a5e9dbbc380deb09e0c        CNN_Word2Vec_Stemming  \n",
       "3  217a0e9918764c46bfffa00ea342fe09   CNN_FastText_Lemmatization  \n",
       "4  c6ae9082007f40a6b0cf4cb2c1c58dc7  LSTM_Word2Vec_Lemmatization  \n",
       "5  61711770d0e947ae9806c023633257ca       LSTM_FastText_Stemming  \n",
       "6  6bcbdd5919fb406d93ebe4eee5ee93a1       LSTM_Word2Vec_Stemming  \n",
       "7  d15f0469c1f04f608ee597e15276bf29  LSTM_FastText_Lemmatization  "
      ]
     },
     "execution_count": 76,
     "metadata": {},
     "output_type": "execute_result"
    }
   ],
   "source": [
    "import mlflow\n",
    "from mlflow.tracking import MlflowClient\n",
    "import pandas as pd\n",
    "\n",
    "# Créer un client MLflow\n",
    "client = MlflowClient()\n",
    "\n",
    "# Liste des run_ids à comparer\n",
    "run_ids = [\n",
    "    \"0e149cb1aade4ba789ba469cd758e2e4\", \"d7c0384dc122441d8b021888089e36ad\", \n",
    "    \"323a3367a5f34a5e9dbbc380deb09e0c\", \"217a0e9918764c46bfffa00ea342fe09\",\n",
    "    \"c6ae9082007f40a6b0cf4cb2c1c58dc7\", \"61711770d0e947ae9806c023633257ca\",\n",
    "    \"6bcbdd5919fb406d93ebe4eee5ee93a1\", \"d15f0469c1f04f608ee597e15276bf29\"\n",
    "]\n",
    "\n",
    "# Récupérer les métriques des runs et les stocker dans une liste\n",
    "run_data = []\n",
    "for run_id in run_ids:\n",
    "    run = client.get_run(run_id)\n",
    "    \n",
    "    # Récupérer l'ID de l'expérimentation associée\n",
    "    experiment_id = run.info.experiment_id\n",
    "    experiment = client.get_experiment(experiment_id)\n",
    "    experiment_name = experiment.name\n",
    "    \n",
    "    # Récupérer les métriques du run\n",
    "    metrics = run.data.metrics\n",
    "    metrics['run_id'] = run_id  # Ajouter le run_id pour identifier chaque run\n",
    "    metrics['experiment_name'] = experiment_name  # Ajouter le nom de l'expérimentation\n",
    "    \n",
    "    run_data.append(metrics)\n",
    "\n",
    "# Convertir la liste en DataFrame pour faciliter l'analyse et la comparaison\n",
    "df = pd.DataFrame(run_data)\n",
    "\n",
    "# Afficher les résultats\n",
    "df\n"
   ]
  },
  {
   "cell_type": "code",
   "execution_count": 78,
   "id": "bbdeefc9-cc1a-4765-bfe5-e2152dfd2153",
   "metadata": {},
   "outputs": [
    {
     "name": "stdout",
     "output_type": "stream",
     "text": [
      "Le meilleur modèle est :\n",
      "accuracy                                      0.767813\n",
      "auc                                           0.839627\n",
      "f1_score                                      0.769039\n",
      "precision                                     0.764997\n",
      "recall                                        0.773125\n",
      "training_time                               207.850207\n",
      "run_id                217a0e9918764c46bfffa00ea342fe09\n",
      "experiment_name             CNN_FastText_Lemmatization\n",
      "rank_accuracy                                        1\n",
      "rank_auc                                             2\n",
      "rank_f1                                              1\n",
      "rank_recall                                          1\n",
      "rank_training_time                                   4\n",
      "total_rank                                           9\n",
      "Name: 3, dtype: object\n"
     ]
    }
   ],
   "source": [
    "# Attribuer des rangs (de 1 pour le meilleur à 8 pour le moins bon)\n",
    "df['rank_accuracy'] = df['accuracy'].rank(ascending=False).astype(int)\n",
    "df['rank_auc'] = df['auc'].rank(ascending=False).astype(int)\n",
    "df['rank_f1'] = df['f1_score'].rank(ascending=False).astype(int)\n",
    "df['rank_recall'] = df['recall'].rank(ascending=False).astype(int)\n",
    "df['rank_training_time'] = df['training_time'].rank(ascending=True).astype(int)  # Le plus bas est le meilleur\n",
    "\n",
    "# Calculer la somme des rangs pour chaque modèle\n",
    "df['total_rank'] = df['rank_accuracy'] + df['rank_auc'] + df['rank_f1'] + df['rank_recall'] + df['rank_training_time']\n",
    "\n",
    "# Trier les modèles par la somme des rangs (plus petite somme = meilleur modèle)\n",
    "df_sorted = df.sort_values(by='total_rank')\n",
    "\n",
    "# Afficher le meilleur modèle\n",
    "best_model = df_sorted.iloc[0]\n",
    "\n",
    "print(\"Le meilleur modèle est :\")\n",
    "print(best_model)"
   ]
  },
  {
   "cell_type": "markdown",
   "id": "7a21bbf2-3ab9-46fd-b6f6-830cd78f9c34",
   "metadata": {},
   "source": [
    "# Entrainement sur tout le dataset du meilleur model plus sauvegarde avec tensorlite"
   ]
  },
  {
   "cell_type": "code",
   "execution_count": 13,
   "id": "1afbd4f2-d7de-4474-b87e-218ece79a1cb",
   "metadata": {},
   "outputs": [
    {
     "name": "stdout",
     "output_type": "stream",
     "text": [
      "Preparation donnée faite.\n"
     ]
    }
   ],
   "source": [
    "import pandas as pd\n",
    "from tensorflow.keras.preprocessing.text import Tokenizer\n",
    "from tensorflow.keras.preprocessing.sequence import pad_sequences\n",
    "from sklearn.model_selection import train_test_split\n",
    "\n",
    "# Fonction pour préparer les séquences\n",
    "def prepare_sequences(texts, tokenizer, maxlen=100):\n",
    "    sequences = tokenizer.texts_to_sequences(texts)\n",
    "    return pad_sequences(sequences, maxlen=maxlen)\n",
    "\n",
    "# Tokenization\n",
    "tokenizer_lemma = Tokenizer(num_words=5000)\n",
    "tokenizer_lemma.fit_on_texts(data['text_lemmatized'])\n",
    "\n",
    "\n",
    "# Fonction pour préparer les séquences avec une longueur maximale de 100\n",
    "def prepare_sequences(texts, tokenizer, maxlen=100):  # Réduire maxlen à 100\n",
    "    sequences = tokenizer.texts_to_sequences(texts)\n",
    "    return pad_sequences(sequences, maxlen=maxlen)\n",
    "\n",
    "# Préparation des séquences avec la longueur max de 100\n",
    "X_lemma = prepare_sequences(data['text_lemmatized'], tokenizer_lemma, maxlen=100)\n",
    "\n",
    "y_sample = data['target_binary'].values\n",
    "\n",
    "# Affichage de confirmation\n",
    "print(\"Preparation donnée faite.\")\n"
   ]
  },
  {
   "cell_type": "code",
   "execution_count": 16,
   "id": "f29d6434-80f8-4859-9ae3-bcd8d16789c2",
   "metadata": {},
   "outputs": [],
   "source": [
    "# Diviser les séquences en ensembles d'entraînement et de test\n",
    "X_train_lemma, X_test_lemma, y_train_lemma, y_test_lemma = train_test_split(X_lemma, y_sample, test_size=0.2, random_state=42, stratify=y_sample)"
   ]
  },
  {
   "cell_type": "code",
   "execution_count": 78,
   "id": "e0c63bce-a6a2-45f2-8089-41d4fa2c52c2",
   "metadata": {},
   "outputs": [
    {
     "name": "stdout",
     "output_type": "stream",
     "text": [
      "Générateurs d'embeddings créés.\n"
     ]
    }
   ],
   "source": [
    "import numpy as np\n",
    "\n",
    "# Générateur d'embeddings pour Keras qui retourne à la fois les séquences et les cibles\n",
    "def embedding_generator(sequences, labels, tokenizer, model, vector_size=300, max_length=100, batch_size=32):\n",
    "    while True:\n",
    "        for i in range(0, len(sequences), batch_size):\n",
    "            batch_sequences = sequences[i:i + batch_size]\n",
    "            batch_labels = labels[i:i + batch_size]  # Obtenir les labels correspondants\n",
    "            batch_embeddings = []\n",
    "            for seq in batch_sequences:\n",
    "                vectors = []\n",
    "                for word_idx in seq:\n",
    "                    word = tokenizer.index_word.get(word_idx)\n",
    "                    if word in model:\n",
    "                        vectors.append(model[word])\n",
    "                    else:\n",
    "                        vectors.append(np.zeros(vector_size))  # Ajouter des zéros pour les mots non trouvés\n",
    "                # S'assurer que la séquence a bien max_length\n",
    "                if len(vectors) < max_length:\n",
    "                    vectors += [np.zeros(vector_size)] * (max_length - len(vectors))\n",
    "                elif len(vectors) > max_length:\n",
    "                    vectors = vectors[:max_length]\n",
    "                batch_embeddings.append(vectors)\n",
    "            yield np.array(batch_embeddings), np.array(batch_labels)  # Retourner les embeddings et les labels\n",
    "\n",
    "# Préparer les séquences\n",
    "X_lemma = prepare_sequences(data['text_lemmatized'], tokenizer_lemma, maxlen=100)\n",
    "\n",
    "# Diviser les séquences en ensembles d'entraînement et de test\n",
    "from sklearn.model_selection import train_test_split\n",
    "X_train_lemma, X_test_lemma, y_train_lemma, y_test_lemma = train_test_split(X_lemma, y_sample, test_size=0.2, random_state=42, stratify=y_sample)\n",
    "\n",
    "# Créer les générateurs avec les cibles\n",
    "train_generator = embedding_generator(X_train_lemma, y_train_lemma, tokenizer_lemma, ft_model, vector_size=300, max_length=100, batch_size=32)\n",
    "test_generator = embedding_generator(X_test_lemma, y_test_lemma, tokenizer_lemma, ft_model, vector_size=300, max_length=100, batch_size=32)\n",
    "\n",
    "print(\"Générateurs d'embeddings créés.\")\n"
   ]
  },
  {
   "cell_type": "code",
   "execution_count": 89,
   "id": "cf6596fb-ba47-4149-943a-81757b19eedf",
   "metadata": {},
   "outputs": [
    {
     "name": "stdout",
     "output_type": "stream",
     "text": [
      "Modèle de machine learning créé.\n"
     ]
    }
   ],
   "source": [
    "import tensorflow as tf\n",
    "from tensorflow.keras.models import Sequential\n",
    "from tensorflow.keras.layers import Conv1D, GlobalMaxPooling1D, Dense, Dropout, BatchNormalization, LeakyReLU\n",
    "\n",
    "# Fonction pour créer un modèle CNN avec les hyperparamètres prédéfinis\n",
    "def create_cnn_model(max_length=100, embedding_dim=300, num_filters=256, kernel_size=3, dropout_rate=0.5):\n",
    "    model = Sequential()\n",
    "\n",
    "    # Couche de convolution et normalisation\n",
    "    model.add(Conv1D(num_filters, kernel_size=kernel_size, activation='relu', input_shape=(max_length, embedding_dim)))\n",
    "    model.add(BatchNormalization())\n",
    "    model.add(GlobalMaxPooling1D())\n",
    "\n",
    "    # Couche dense avec l'activation Leaky ReLU\n",
    "    model.add(Dense(128))\n",
    "    model.add(LeakyReLU(alpha=0.1))  # Utilisation directe de Leaky ReLU\n",
    "\n",
    "    model.add(Dropout(dropout_rate))\n",
    "    model.add(Dense(64, activation='relu'))  # Utilisation de ReLU pour cette couche dense\n",
    "    model.add(Dropout(dropout_rate))\n",
    "    model.add(Dense(1, activation='sigmoid'))  # Sortie pour un problème de classification binaire\n",
    "    \n",
    "    model.compile(optimizer='adam', loss='binary_crossentropy', metrics=['accuracy'])\n",
    "    \n",
    "    return model\n",
    "\n",
    "print(\"Modèle de machine learning créé.\")\n"
   ]
  },
  {
   "cell_type": "code",
   "execution_count": 91,
   "id": "27a103af-d87e-494b-b18b-a3c5d1aa5563",
   "metadata": {
    "scrolled": true
   },
   "outputs": [],
   "source": [
    "# Fonction d'entraînement du modèle sans sauvegarde\n",
    "def train_model_without_saving(model, train_generator, test_generator, X_train_lemma, X_test_lemma):\n",
    "    # Ajouter les callbacks pour éviter l'overfitting\n",
    "    early_stopping = EarlyStopping(monitor='val_loss', patience=5, restore_best_weights=True)\n",
    "    reduce_lr = ReduceLROnPlateau(monitor='val_loss', factor=0.2, patience=3, min_lr=0.0001)\n",
    "\n",
    "    # Entraîner le modèle avec les générateurs\n",
    "    history = model.fit(\n",
    "        train_generator, \n",
    "        steps_per_epoch=len(X_train_lemma) // 32, \n",
    "        validation_data=test_generator, \n",
    "        validation_steps=len(X_test_lemma) // 32, \n",
    "        epochs=50,  # Limite à 50 époques\n",
    "        callbacks=[early_stopping, reduce_lr]  # Utiliser les callbacks pour ajuster\n",
    "    )\n",
    "\n",
    "    # Stocker les résultats d'entraînement dans des variables\n",
    "    training_metrics = {\n",
    "        'accuracy': max(history.history['accuracy']),\n",
    "        'val_accuracy': max(history.history['val_accuracy']),\n",
    "        'loss': min(history.history['loss']),\n",
    "        'val_loss': min(history.history['val_loss'])\n",
    "    }\n",
    "\n",
    "    print(\"Entraînement terminé. Les résultats sont stockés.\")\n",
    "    return training_metrics\n"
   ]
  },
  {
   "cell_type": "code",
   "execution_count": 93,
   "id": "687d0c44-5ad5-418c-98d1-8cdfe1ee41e4",
   "metadata": {},
   "outputs": [],
   "source": [
    "import mlflow\n",
    "import mlflow.keras\n",
    "import tensorflow as tf\n",
    "\n",
    "# Fonction pour sauvegarder le modèle et les métriques via MLflow sans gérer manuellement le dossier\n",
    "def save_model_and_metrics(model, training_metrics):\n",
    "    # Commencer un run MLflow pour loguer les métriques et hyperparamètres\n",
    "    with mlflow.start_run():\n",
    "        # Loguer les hyperparamètres dans MLflow\n",
    "        mlflow.log_param(\"num_filters\", 256)\n",
    "        mlflow.log_param(\"kernel_size\", 3)\n",
    "        mlflow.log_param(\"dropout_rate\", 0.5)\n",
    "        mlflow.log_param(\"activation_type\", 'leaky_relu')\n",
    "        mlflow.log_param(\"max_length\", 100)\n",
    "        mlflow.log_param(\"embedding_dim\", 300)\n",
    "\n",
    "        # Loguer les métriques d'entraînement et de validation dans MLflow\n",
    "        mlflow.log_metric(\"accuracy\", training_metrics['accuracy'])\n",
    "        mlflow.log_metric(\"val_accuracy\", training_metrics['val_accuracy'])\n",
    "        mlflow.log_metric(\"loss\", training_metrics['loss'])\n",
    "        mlflow.log_metric(\"val_loss\", training_metrics['val_loss'])\n",
    "\n",
    "        # Sauvegarder le modèle dans MLflow (MLflow gère automatiquement le dossier)\n",
    "        model_name = \"cnn_model_256_3_0.5\"\n",
    "        mlflow.keras.log_model(model, artifact_path=model_name)\n",
    "\n",
    "        # Convertir le modèle en TensorFlow Lite\n",
    "        converter = tf.lite.TFLiteConverter.from_keras_model(model)\n",
    "        tflite_model = converter.convert()\n",
    "\n",
    "        # Sauvegarder le modèle TensorFlow Lite (dans le répertoire temporaire MLflow ou un chemin par défaut)\n",
    "        tflite_filename = f\"{model_name}.tflite\"\n",
    "        with open(tflite_filename, \"wb\") as f:\n",
    "            f.write(tflite_model)\n",
    "\n",
    "        print(f\"Le modèle a été converti et sauvegardé sous {tflite_filename}.\")\n"
   ]
  },
  {
   "cell_type": "code",
   "execution_count": null,
   "id": "ba4b89f0-9077-4bd9-83c5-1fdcf5ce6ee0",
   "metadata": {
    "scrolled": true
   },
   "outputs": [
    {
     "name": "stdout",
     "output_type": "stream",
     "text": [
      "Epoch 1/50\n",
      "39957/39957 [==============================] - 814s 20ms/step - loss: 0.4698 - accuracy: 0.7824 - val_loss: 0.4278 - val_accuracy: 0.8018 - lr: 0.0010\n",
      "Epoch 2/50\n",
      "39957/39957 [==============================] - 793s 20ms/step - loss: 0.4336 - accuracy: 0.8038 - val_loss: 0.4160 - val_accuracy: 0.8083 - lr: 0.0010\n",
      "Epoch 3/50\n",
      "39957/39957 [==============================] - 811s 20ms/step - loss: 0.4205 - accuracy: 0.8103 - val_loss: 0.4128 - val_accuracy: 0.8109 - lr: 0.0010\n",
      "Epoch 4/50\n",
      "39957/39957 [==============================] - 805s 20ms/step - loss: 0.4125 - accuracy: 0.8147 - val_loss: 0.4110 - val_accuracy: 0.8123 - lr: 0.0010\n",
      "Epoch 5/50\n",
      "39957/39957 [==============================] - 817s 20ms/step - loss: 0.4064 - accuracy: 0.8175 - val_loss: 0.4103 - val_accuracy: 0.8136 - lr: 0.0010\n",
      "Epoch 6/50\n",
      "39957/39957 [==============================] - 803s 20ms/step - loss: 0.4012 - accuracy: 0.8200 - val_loss: 0.4145 - val_accuracy: 0.8126 - lr: 0.0010\n",
      "Epoch 7/50\n",
      "39957/39957 [==============================] - 787s 20ms/step - loss: 0.3971 - accuracy: 0.8219 - val_loss: 0.4183 - val_accuracy: 0.8125 - lr: 0.0010\n",
      "Epoch 8/50\n",
      "34184/39957 [========================>.....] - ETA: 1:41 - loss: 0.3938 - accuracy: 0.8237"
     ]
    }
   ],
   "source": [
    "# Entraîner le modèle puis sauvegarder après les calculs\n",
    "model = create_cnn_model(max_length=100, embedding_dim=300, num_filters=256, kernel_size=3, dropout_rate=0.5)\n",
    "\n",
    "# Entraînement sans sauvegarde immédiate\n",
    "training_metrics = train_model_without_saving(model, train_generator, test_generator, X_train_lemma, X_test_lemma)\n"
   ]
  },
  {
   "cell_type": "code",
   "execution_count": null,
   "id": "e6b93270-883a-4511-a9a7-2c149b53206d",
   "metadata": {},
   "outputs": [],
   "source": [
    "# Sauvegarder le modèle et les résultats après l'entraînement\n",
    "save_model_and_metrics(model, training_metrics)"
   ]
  },
  {
   "cell_type": "code",
   "execution_count": null,
   "id": "829bec68-a67e-4787-bbb4-197f35c157b9",
   "metadata": {},
   "outputs": [],
   "source": []
  }
 ],
 "metadata": {
  "kernelspec": {
   "display_name": "Python 3 (ipykernel)",
   "language": "python",
   "name": "python3"
  },
  "language_info": {
   "codemirror_mode": {
    "name": "ipython",
    "version": 3
   },
   "file_extension": ".py",
   "mimetype": "text/x-python",
   "name": "python",
   "nbconvert_exporter": "python",
   "pygments_lexer": "ipython3",
   "version": "3.11.8"
  }
 },
 "nbformat": 4,
 "nbformat_minor": 5
}
