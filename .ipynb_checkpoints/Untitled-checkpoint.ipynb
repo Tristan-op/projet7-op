{
 "cells": [
  {
   "cell_type": "markdown",
   "id": "e83a9a06-8612-4028-b5d9-6a828ff11374",
   "metadata": {},
   "source": [
    "# API de TEST"
   ]
  },
  {
   "cell_type": "markdown",
   "id": "895ccae1-e130-427a-8c94-32ec2ed02182",
   "metadata": {},
   "source": [
    "Dans le cadre de ce projet, j'ai inclus la partie test dans l'api.  \n",
    "Comme vous pouvez le voir sur mon github, il y a une page html qui est imbriqué dans mon api.   \n",
    "Le seul moyen d'y accéder est de mettre l'url + /test à la fin.\n"
   ]
  },
  {
   "cell_type": "code",
   "execution_count": 20,
   "id": "ced256ba-c140-455c-bbac-d0987e210ada",
   "metadata": {},
   "outputs": [
    {
     "data": {
      "text/plain": [
       "True"
      ]
     },
     "execution_count": 20,
     "metadata": {},
     "output_type": "execute_result"
    }
   ],
   "source": [
    "import webbrowser\n",
    "\n",
    "# URL de test de mon API sur le web\n",
    "url = \"https://tweet-api.azurewebsites.net/test\"\n",
    "\n",
    "# Ouvrir la page dans le navigateur\n",
    "webbrowser.open(url)\n",
    "\n"
   ]
  },
  {
   "cell_type": "markdown",
   "id": "bedea861-4dc9-4c56-ba72-1b96934deafa",
   "metadata": {},
   "source": [
    "Mais nous pouvons aussi le faire de la facon suivante en appelant les routes de notre API qui gère la partie de Test."
   ]
  },
  {
   "cell_type": "code",
   "execution_count": 18,
   "id": "4ff39f0c-6709-480c-9e1c-16d5751233ae",
   "metadata": {},
   "outputs": [
    {
     "name": "stdout",
     "output_type": "stream",
     "text": [
      "Prédiction : S.A.R.A : Le modèle a prédit que votre message est Positif. Êtes-vous d'accord ?\n"
     ]
    },
    {
     "name": "stdin",
     "output_type": "stream",
     "text": [
      "Êtes-vous d'accord avec cette prédiction ? (oui/non) :  oui\n"
     ]
    },
    {
     "name": "stdout",
     "output_type": "stream",
     "text": [
      "Merci pour la confirmation\n"
     ]
    }
   ],
   "source": [
    "import requests\n",
    "\n",
    "# URL de ton API sur le web\n",
    "url_send_message = \"https://tweet-api.azurewebsites.net/send-message\"\n",
    "url_confirm_sentiment = \"https://tweet-api.azurewebsites.net/confirm-sentiment\"\n",
    "\n",
    "# Envoyer un message (tweet) pour obtenir une prédiction\n",
    "payload = {\n",
    "    'username': 'utilisateur_test',\n",
    "    'message': 'i am happy.'\n",
    "}\n",
    "response = requests.post(url_send_message, json=payload)\n",
    "\n",
    "# Vérifier la réponse et afficher le sentiment prédit\n",
    "if response.status_code == 200:\n",
    "    data = response.json()\n",
    "    print(f\"Prédiction : {data['result']}\")\n",
    "    \n",
    "    # Demander une confirmation de la prédiction\n",
    "    confirmation = input(\"Êtes-vous d'accord avec cette prédiction ? (oui/non) : \").lower() == 'oui'\n",
    "    \n",
    "    # Envoyer la confirmation ou correction du sentiment\n",
    "    payload_confirm = {\n",
    "        'username': 'utilisateur_test',\n",
    "        'message': 'i am happy.',\n",
    "        'confirmation': confirmation\n",
    "    }\n",
    "    response_confirm = requests.post(url_confirm_sentiment, json=payload_confirm)\n",
    "    \n",
    "    if response_confirm.status_code == 200:\n",
    "        print(response_confirm.json()['message'])\n",
    "    else:\n",
    "        print(\"Erreur lors de la confirmation.\")\n",
    "else:\n",
    "    print(f\"Erreur lors de l'envoi du message : {response.status_code}\")\n"
   ]
  },
  {
   "cell_type": "markdown",
   "id": "73df111c-f1c7-44d7-b203-6b13f8e80fc8",
   "metadata": {},
   "source": [
    "Pour vérifier que le message est bien sauvegarder il suffit maintenant de ce connecté à la partie admin de mon api avec l'url suivante"
   ]
  },
  {
   "cell_type": "code",
   "execution_count": 24,
   "id": "c4502d70-6cef-41b7-926a-033a210f05d6",
   "metadata": {},
   "outputs": [
    {
     "data": {
      "text/plain": [
       "True"
      ]
     },
     "execution_count": 24,
     "metadata": {},
     "output_type": "execute_result"
    }
   ],
   "source": [
    "# URL admin de mon API sur le web\n",
    "url = \"https://tweet-api.azurewebsites.net/adm\"\n",
    "\n",
    "# Ouvrir la page dans le navigateur\n",
    "webbrowser.open(url)"
   ]
  },
  {
   "cell_type": "code",
   "execution_count": null,
   "id": "97ef1cd7-2c06-42d7-ae3c-d907b17a8b29",
   "metadata": {},
   "outputs": [],
   "source": []
  }
 ],
 "metadata": {
  "kernelspec": {
   "display_name": "Python 3 (ipykernel)",
   "language": "python",
   "name": "python3"
  },
  "language_info": {
   "codemirror_mode": {
    "name": "ipython",
    "version": 3
   },
   "file_extension": ".py",
   "mimetype": "text/x-python",
   "name": "python",
   "nbconvert_exporter": "python",
   "pygments_lexer": "ipython3",
   "version": "3.11.8"
  }
 },
 "nbformat": 4,
 "nbformat_minor": 5
}
